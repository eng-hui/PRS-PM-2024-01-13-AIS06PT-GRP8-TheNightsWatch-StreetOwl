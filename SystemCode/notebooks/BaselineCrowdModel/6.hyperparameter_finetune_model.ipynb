{
 "cells": [
  {
   "cell_type": "code",
   "execution_count": 1,
   "metadata": {},
   "outputs": [],
   "source": [
    "from ultralytics import YOLO\n",
    "import os\n",
    "\n",
    "project = os.path.join(\"..\",\"..\",\"runs\")\n",
    "yolo_models = [\"yolov8s\", \"yolov8m\"] # select yolov8s and yolov8m for further hyperparamter search and finetune"
   ]
  },
  {
   "cell_type": "code",
   "execution_count": 2,
   "metadata": {},
   "outputs": [
    {
     "name": "stdout",
     "output_type": "stream",
     "text": [
      "Model : yolov8s\n",
      "\u001b[34m\u001b[1mTuner: \u001b[0mInitialized Tuner instance with 'tune_dir=..\\..\\runs\\tune8'\n",
      "\u001b[34m\u001b[1mTuner: \u001b[0m Learn about tuning at https://docs.ultralytics.com/guides/hyperparameter-tuning\n",
      "\u001b[34m\u001b[1mTuner: \u001b[0mStarting iteration 1/100 with hyperparameters: {'lr0': 0.01, 'lrf': 0.01, 'momentum': 0.937, 'weight_decay': 0.0005, 'warmup_epochs': 3.0, 'warmup_momentum': 0.8, 'box': 7.5, 'cls': 0.5, 'dfl': 1.5, 'hsv_h': 0.015, 'hsv_s': 0.7, 'hsv_v': 0.4, 'degrees': 0.0, 'translate': 0.1, 'scale': 0.5, 'shear': 0.0, 'perspective': 0.0, 'flipud': 0.0, 'fliplr': 0.5, 'bgr': 0.0, 'mosaic': 1.0, 'mixup': 0.0, 'copy_paste': 0.0}\n",
      "Saved ..\\..\\runs\\tune8\\tune_scatter_plots.png\n",
      "Saved ..\\..\\runs\\tune8\\tune_fitness.png\n",
      "\n",
      "\u001b[34m\u001b[1mTuner: \u001b[0m1/100 iterations complete  (124.36s)\n",
      "\u001b[34m\u001b[1mTuner: \u001b[0mResults saved to \u001b[1m..\\..\\runs\\tune8\u001b[0m\n",
      "\u001b[34m\u001b[1mTuner: \u001b[0mBest fitness=0.4057 observed at iteration 1\n",
      "\u001b[34m\u001b[1mTuner: \u001b[0mBest fitness metrics are {'metrics/precision(B)': 0.77781, 'metrics/recall(B)': 0.59375, 'metrics/mAP50(B)': 0.69483, 'metrics/mAP50-95(B)': 0.37357, 'val/box_loss': 1.55685, 'val/cls_loss': 1.01046, 'val/dfl_loss': 1.14995, 'fitness': 0.4057}\n",
      "\u001b[34m\u001b[1mTuner: \u001b[0mBest fitness model is ..\\..\\runs\\yolov8s_hyp_finetune329\n",
      "\u001b[34m\u001b[1mTuner: \u001b[0mBest fitness hyperparameters are printed below.\n",
      "\n",
      "Printing '\u001b[1m\u001b[30m..\\..\\runs\\tune8\\best_hyperparameters.yaml\u001b[0m'\n",
      "\n",
      "lr0: 0.01\n",
      "lrf: 0.01\n",
      "momentum: 0.937\n",
      "weight_decay: 0.0005\n",
      "warmup_epochs: 3.0\n",
      "warmup_momentum: 0.8\n",
      "box: 7.5\n",
      "cls: 0.5\n",
      "dfl: 1.5\n",
      "hsv_h: 0.015\n",
      "hsv_s: 0.7\n",
      "hsv_v: 0.4\n",
      "degrees: 0.0\n",
      "translate: 0.1\n",
      "scale: 0.5\n",
      "shear: 0.0\n",
      "perspective: 0.0\n",
      "flipud: 0.0\n",
      "fliplr: 0.5\n",
      "bgr: 0.0\n",
      "mosaic: 1.0\n",
      "mixup: 0.0\n",
      "copy_paste: 0.0\n",
      "\n",
      "\u001b[34m\u001b[1mTuner: \u001b[0mStarting iteration 2/100 with hyperparameters: {'lr0': 0.01, 'lrf': 0.01026, 'momentum': 0.94393, 'weight_decay': 0.0005, 'warmup_epochs': 3.0, 'warmup_momentum': 0.79008, 'box': 6.91915, 'cls': 0.50795, 'dfl': 1.5, 'hsv_h': 0.01537, 'hsv_s': 0.7, 'hsv_v': 0.4, 'degrees': 0.0, 'translate': 0.10375, 'scale': 0.47895, 'shear': 0.0, 'perspective': 0.0, 'flipud': 0.0, 'fliplr': 0.49525, 'bgr': 0.0, 'mosaic': 1.0, 'mixup': 0.0, 'copy_paste': 0.0}\n",
      "Saved ..\\..\\runs\\tune8\\tune_scatter_plots.png\n",
      "Saved ..\\..\\runs\\tune8\\tune_fitness.png\n",
      "\n",
      "\u001b[34m\u001b[1mTuner: \u001b[0m2/100 iterations complete  (245.90s)\n",
      "\u001b[34m\u001b[1mTuner: \u001b[0mResults saved to \u001b[1m..\\..\\runs\\tune8\u001b[0m\n",
      "\u001b[34m\u001b[1mTuner: \u001b[0mBest fitness=0.4057 observed at iteration 1\n",
      "\u001b[34m\u001b[1mTuner: \u001b[0mBest fitness metrics are {'metrics/precision(B)': 0.77781, 'metrics/recall(B)': 0.59375, 'metrics/mAP50(B)': 0.69483, 'metrics/mAP50-95(B)': 0.37357, 'val/box_loss': 1.55685, 'val/cls_loss': 1.01046, 'val/dfl_loss': 1.14995, 'fitness': 0.4057}\n",
      "\u001b[34m\u001b[1mTuner: \u001b[0mBest fitness model is ..\\..\\runs\\yolov8s_hyp_finetune329\n",
      "\u001b[34m\u001b[1mTuner: \u001b[0mBest fitness hyperparameters are printed below.\n",
      "\n",
      "Printing '\u001b[1m\u001b[30m..\\..\\runs\\tune8\\best_hyperparameters.yaml\u001b[0m'\n",
      "\n",
      "lr0: 0.01\n",
      "lrf: 0.01\n",
      "momentum: 0.937\n",
      "weight_decay: 0.0005\n",
      "warmup_epochs: 3.0\n",
      "warmup_momentum: 0.8\n",
      "box: 7.5\n",
      "cls: 0.5\n",
      "dfl: 1.5\n",
      "hsv_h: 0.015\n",
      "hsv_s: 0.7\n",
      "hsv_v: 0.4\n",
      "degrees: 0.0\n",
      "translate: 0.1\n",
      "scale: 0.5\n",
      "shear: 0.0\n",
      "perspective: 0.0\n",
      "flipud: 0.0\n",
      "fliplr: 0.5\n",
      "bgr: 0.0\n",
      "mosaic: 1.0\n",
      "mixup: 0.0\n",
      "copy_paste: 0.0\n",
      "\n",
      "\u001b[34m\u001b[1mTuner: \u001b[0mStarting iteration 3/100 with hyperparameters: {'lr0': 0.01, 'lrf': 0.01025, 'momentum': 0.95747, 'weight_decay': 0.0005, 'warmup_epochs': 2.9558, 'warmup_momentum': 0.69595, 'box': 7.5, 'cls': 0.57067, 'dfl': 1.49238, 'hsv_h': 0.01332, 'hsv_s': 0.67256, 'hsv_v': 0.38028, 'degrees': 0.0, 'translate': 0.09571, 'scale': 0.55887, 'shear': 0.0, 'perspective': 0.0, 'flipud': 0.0, 'fliplr': 0.41274, 'bgr': 0.0, 'mosaic': 1.0, 'mixup': 0.0, 'copy_paste': 0.0}\n",
      "Saved ..\\..\\runs\\tune8\\tune_scatter_plots.png\n",
      "Saved ..\\..\\runs\\tune8\\tune_fitness.png\n",
      "\n",
      "\u001b[34m\u001b[1mTuner: \u001b[0m3/100 iterations complete  (365.39s)\n",
      "\u001b[34m\u001b[1mTuner: \u001b[0mResults saved to \u001b[1m..\\..\\runs\\tune8\u001b[0m\n",
      "\u001b[34m\u001b[1mTuner: \u001b[0mBest fitness=0.4057 observed at iteration 1\n",
      "\u001b[34m\u001b[1mTuner: \u001b[0mBest fitness metrics are {'metrics/precision(B)': 0.77781, 'metrics/recall(B)': 0.59375, 'metrics/mAP50(B)': 0.69483, 'metrics/mAP50-95(B)': 0.37357, 'val/box_loss': 1.55685, 'val/cls_loss': 1.01046, 'val/dfl_loss': 1.14995, 'fitness': 0.4057}\n",
      "\u001b[34m\u001b[1mTuner: \u001b[0mBest fitness model is ..\\..\\runs\\yolov8s_hyp_finetune329\n",
      "\u001b[34m\u001b[1mTuner: \u001b[0mBest fitness hyperparameters are printed below.\n",
      "\n",
      "Printing '\u001b[1m\u001b[30m..\\..\\runs\\tune8\\best_hyperparameters.yaml\u001b[0m'\n",
      "\n",
      "lr0: 0.01\n",
      "lrf: 0.01\n",
      "momentum: 0.937\n",
      "weight_decay: 0.0005\n",
      "warmup_epochs: 3.0\n",
      "warmup_momentum: 0.8\n",
      "box: 7.5\n",
      "cls: 0.5\n",
      "dfl: 1.5\n",
      "hsv_h: 0.015\n",
      "hsv_s: 0.7\n",
      "hsv_v: 0.4\n",
      "degrees: 0.0\n",
      "translate: 0.1\n",
      "scale: 0.5\n",
      "shear: 0.0\n",
      "perspective: 0.0\n",
      "flipud: 0.0\n",
      "fliplr: 0.5\n",
      "bgr: 0.0\n",
      "mosaic: 1.0\n",
      "mixup: 0.0\n",
      "copy_paste: 0.0\n",
      "\n",
      "\u001b[34m\u001b[1mTuner: \u001b[0mStarting iteration 4/100 with hyperparameters: {'lr0': 0.01121, 'lrf': 0.0096, 'momentum': 0.94515, 'weight_decay': 0.0004, 'warmup_epochs': 2.63028, 'warmup_momentum': 0.63501, 'box': 7.04875, 'cls': 0.50795, 'dfl': 1.4798, 'hsv_h': 0.01876, 'hsv_s': 0.83924, 'hsv_v': 0.38651, 'degrees': 0.0, 'translate': 0.09993, 'scale': 0.49211, 'shear': 0.0, 'perspective': 0.0, 'flipud': 0.0, 'fliplr': 0.49525, 'bgr': 0.0, 'mosaic': 1.0, 'mixup': 0.0, 'copy_paste': 0.0}\n",
      "Saved ..\\..\\runs\\tune8\\tune_scatter_plots.png\n",
      "Saved ..\\..\\runs\\tune8\\tune_fitness.png\n",
      "\n",
      "\u001b[34m\u001b[1mTuner: \u001b[0m4/100 iterations complete  (485.18s)\n",
      "\u001b[34m\u001b[1mTuner: \u001b[0mResults saved to \u001b[1m..\\..\\runs\\tune8\u001b[0m\n",
      "\u001b[34m\u001b[1mTuner: \u001b[0mBest fitness=0.4057 observed at iteration 1\n",
      "\u001b[34m\u001b[1mTuner: \u001b[0mBest fitness metrics are {'metrics/precision(B)': 0.77781, 'metrics/recall(B)': 0.59375, 'metrics/mAP50(B)': 0.69483, 'metrics/mAP50-95(B)': 0.37357, 'val/box_loss': 1.55685, 'val/cls_loss': 1.01046, 'val/dfl_loss': 1.14995, 'fitness': 0.4057}\n",
      "\u001b[34m\u001b[1mTuner: \u001b[0mBest fitness model is ..\\..\\runs\\yolov8s_hyp_finetune329\n",
      "\u001b[34m\u001b[1mTuner: \u001b[0mBest fitness hyperparameters are printed below.\n",
      "\n",
      "Printing '\u001b[1m\u001b[30m..\\..\\runs\\tune8\\best_hyperparameters.yaml\u001b[0m'\n",
      "\n",
      "lr0: 0.01\n",
      "lrf: 0.01\n",
      "momentum: 0.937\n",
      "weight_decay: 0.0005\n",
      "warmup_epochs: 3.0\n",
      "warmup_momentum: 0.8\n",
      "box: 7.5\n",
      "cls: 0.5\n",
      "dfl: 1.5\n",
      "hsv_h: 0.015\n",
      "hsv_s: 0.7\n",
      "hsv_v: 0.4\n",
      "degrees: 0.0\n",
      "translate: 0.1\n",
      "scale: 0.5\n",
      "shear: 0.0\n",
      "perspective: 0.0\n",
      "flipud: 0.0\n",
      "fliplr: 0.5\n",
      "bgr: 0.0\n",
      "mosaic: 1.0\n",
      "mixup: 0.0\n",
      "copy_paste: 0.0\n",
      "\n",
      "\u001b[34m\u001b[1mTuner: \u001b[0mStarting iteration 5/100 with hyperparameters: {'lr0': 0.00924, 'lrf': 0.01023, 'momentum': 0.90907, 'weight_decay': 0.00047, 'warmup_epochs': 3.21308, 'warmup_momentum': 0.87467, 'box': 7.63262, 'cls': 0.50326, 'dfl': 1.53856, 'hsv_h': 0.0149, 'hsv_s': 0.7, 'hsv_v': 0.43068, 'degrees': 0.0, 'translate': 0.09278, 'scale': 0.45595, 'shear': 0.0, 'perspective': 0.0, 'flipud': 0.0, 'fliplr': 0.55004, 'bgr': 0.0, 'mosaic': 0.98368, 'mixup': 0.0, 'copy_paste': 0.0}\n",
      "Saved ..\\..\\runs\\tune8\\tune_scatter_plots.png\n",
      "Saved ..\\..\\runs\\tune8\\tune_fitness.png\n",
      "\n",
      "\u001b[34m\u001b[1mTuner: \u001b[0m5/100 iterations complete  (608.02s)\n",
      "\u001b[34m\u001b[1mTuner: \u001b[0mResults saved to \u001b[1m..\\..\\runs\\tune8\u001b[0m\n",
      "\u001b[34m\u001b[1mTuner: \u001b[0mBest fitness=0.43892 observed at iteration 5\n",
      "\u001b[34m\u001b[1mTuner: \u001b[0mBest fitness metrics are {'metrics/precision(B)': 0.7851, 'metrics/recall(B)': 0.68229, 'metrics/mAP50(B)': 0.75689, 'metrics/mAP50-95(B)': 0.40359, 'val/box_loss': 1.55332, 'val/cls_loss': 0.94234, 'val/dfl_loss': 1.15293, 'fitness': 0.43892}\n",
      "\u001b[34m\u001b[1mTuner: \u001b[0mBest fitness model is ..\\..\\runs\\yolov8s_hyp_finetune333\n",
      "\u001b[34m\u001b[1mTuner: \u001b[0mBest fitness hyperparameters are printed below.\n",
      "\n",
      "Printing '\u001b[1m\u001b[30m..\\..\\runs\\tune8\\best_hyperparameters.yaml\u001b[0m'\n",
      "\n",
      "lr0: 0.00924\n",
      "lrf: 0.01023\n",
      "momentum: 0.90907\n",
      "weight_decay: 0.00047\n",
      "warmup_epochs: 3.21308\n",
      "warmup_momentum: 0.87467\n",
      "box: 7.63262\n",
      "cls: 0.50326\n",
      "dfl: 1.53856\n",
      "hsv_h: 0.0149\n",
      "hsv_s: 0.7\n",
      "hsv_v: 0.43068\n",
      "degrees: 0.0\n",
      "translate: 0.09278\n",
      "scale: 0.45595\n",
      "shear: 0.0\n",
      "perspective: 0.0\n",
      "flipud: 0.0\n",
      "fliplr: 0.55004\n",
      "bgr: 0.0\n",
      "mosaic: 0.98368\n",
      "mixup: 0.0\n",
      "copy_paste: 0.0\n",
      "\n",
      "\u001b[34m\u001b[1mTuner: \u001b[0mStarting iteration 6/100 with hyperparameters: {'lr0': 0.01019, 'lrf': 0.01101, 'momentum': 0.937, 'weight_decay': 0.00047, 'warmup_epochs': 2.91529, 'warmup_momentum': 0.83398, 'box': 8.41079, 'cls': 0.42004, 'dfl': 1.73003, 'hsv_h': 0.01503, 'hsv_s': 0.77637, 'hsv_v': 0.41886, 'degrees': 0.0, 'translate': 0.08678, 'scale': 0.5, 'shear': 0.0, 'perspective': 0.0, 'flipud': 0.0, 'fliplr': 0.5, 'bgr': 0.0, 'mosaic': 1.0, 'mixup': 0.0, 'copy_paste': 0.0}\n",
      "Saved ..\\..\\runs\\tune8\\tune_scatter_plots.png\n",
      "Saved ..\\..\\runs\\tune8\\tune_fitness.png\n",
      "\n",
      "\u001b[34m\u001b[1mTuner: \u001b[0m6/100 iterations complete  (736.72s)\n",
      "\u001b[34m\u001b[1mTuner: \u001b[0mResults saved to \u001b[1m..\\..\\runs\\tune8\u001b[0m\n",
      "\u001b[34m\u001b[1mTuner: \u001b[0mBest fitness=0.43892 observed at iteration 5\n",
      "\u001b[34m\u001b[1mTuner: \u001b[0mBest fitness metrics are {'metrics/precision(B)': 0.7851, 'metrics/recall(B)': 0.68229, 'metrics/mAP50(B)': 0.75689, 'metrics/mAP50-95(B)': 0.40359, 'val/box_loss': 1.55332, 'val/cls_loss': 0.94234, 'val/dfl_loss': 1.15293, 'fitness': 0.43892}\n",
      "\u001b[34m\u001b[1mTuner: \u001b[0mBest fitness model is ..\\..\\runs\\yolov8s_hyp_finetune333\n",
      "\u001b[34m\u001b[1mTuner: \u001b[0mBest fitness hyperparameters are printed below.\n",
      "\n",
      "Printing '\u001b[1m\u001b[30m..\\..\\runs\\tune8\\best_hyperparameters.yaml\u001b[0m'\n",
      "\n",
      "lr0: 0.00924\n",
      "lrf: 0.01023\n",
      "momentum: 0.90907\n",
      "weight_decay: 0.00047\n",
      "warmup_epochs: 3.21308\n",
      "warmup_momentum: 0.87467\n",
      "box: 7.63262\n",
      "cls: 0.50326\n",
      "dfl: 1.53856\n",
      "hsv_h: 0.0149\n",
      "hsv_s: 0.7\n",
      "hsv_v: 0.43068\n",
      "degrees: 0.0\n",
      "translate: 0.09278\n",
      "scale: 0.45595\n",
      "shear: 0.0\n",
      "perspective: 0.0\n",
      "flipud: 0.0\n",
      "fliplr: 0.55004\n",
      "bgr: 0.0\n",
      "mosaic: 0.98368\n",
      "mixup: 0.0\n",
      "copy_paste: 0.0\n",
      "\n",
      "\u001b[34m\u001b[1mTuner: \u001b[0mStarting iteration 7/100 with hyperparameters: {'lr0': 0.00917, 'lrf': 0.01023, 'momentum': 0.92907, 'weight_decay': 0.0005, 'warmup_epochs': 3.21308, 'warmup_momentum': 0.95, 'box': 7.32985, 'cls': 0.54124, 'dfl': 1.68108, 'hsv_h': 0.01638, 'hsv_s': 0.70067, 'hsv_v': 0.40887, 'degrees': 0.0, 'translate': 0.08018, 'scale': 0.37999, 'shear': 0.0, 'perspective': 0.0, 'flipud': 0.0, 'fliplr': 0.55004, 'bgr': 0.0, 'mosaic': 1.0, 'mixup': 0.0, 'copy_paste': 0.0}\n",
      "Saved ..\\..\\runs\\tune8\\tune_scatter_plots.png\n",
      "Saved ..\\..\\runs\\tune8\\tune_fitness.png\n",
      "\n",
      "\u001b[34m\u001b[1mTuner: \u001b[0m7/100 iterations complete  (867.46s)\n",
      "\u001b[34m\u001b[1mTuner: \u001b[0mResults saved to \u001b[1m..\\..\\runs\\tune8\u001b[0m\n",
      "\u001b[34m\u001b[1mTuner: \u001b[0mBest fitness=0.43892 observed at iteration 5\n",
      "\u001b[34m\u001b[1mTuner: \u001b[0mBest fitness metrics are {'metrics/precision(B)': 0.7851, 'metrics/recall(B)': 0.68229, 'metrics/mAP50(B)': 0.75689, 'metrics/mAP50-95(B)': 0.40359, 'val/box_loss': 1.55332, 'val/cls_loss': 0.94234, 'val/dfl_loss': 1.15293, 'fitness': 0.43892}\n",
      "\u001b[34m\u001b[1mTuner: \u001b[0mBest fitness model is ..\\..\\runs\\yolov8s_hyp_finetune333\n",
      "\u001b[34m\u001b[1mTuner: \u001b[0mBest fitness hyperparameters are printed below.\n",
      "\n",
      "Printing '\u001b[1m\u001b[30m..\\..\\runs\\tune8\\best_hyperparameters.yaml\u001b[0m'\n",
      "\n",
      "lr0: 0.00924\n",
      "lrf: 0.01023\n",
      "momentum: 0.90907\n",
      "weight_decay: 0.00047\n",
      "warmup_epochs: 3.21308\n",
      "warmup_momentum: 0.87467\n",
      "box: 7.63262\n",
      "cls: 0.50326\n",
      "dfl: 1.53856\n",
      "hsv_h: 0.0149\n",
      "hsv_s: 0.7\n",
      "hsv_v: 0.43068\n",
      "degrees: 0.0\n",
      "translate: 0.09278\n",
      "scale: 0.45595\n",
      "shear: 0.0\n",
      "perspective: 0.0\n",
      "flipud: 0.0\n",
      "fliplr: 0.55004\n",
      "bgr: 0.0\n",
      "mosaic: 0.98368\n",
      "mixup: 0.0\n",
      "copy_paste: 0.0\n",
      "\n",
      "\u001b[34m\u001b[1mTuner: \u001b[0mStarting iteration 8/100 with hyperparameters: {'lr0': 0.00927, 'lrf': 0.01066, 'momentum': 0.90488, 'weight_decay': 0.00051, 'warmup_epochs': 3.21308, 'warmup_momentum': 0.90708, 'box': 7.63262, 'cls': 0.50798, 'dfl': 1.66125, 'hsv_h': 0.0149, 'hsv_s': 0.70361, 'hsv_v': 0.44808, 'degrees': 0.0, 'translate': 0.09601, 'scale': 0.42458, 'shear': 0.0, 'perspective': 0.0, 'flipud': 0.0, 'fliplr': 0.54105, 'bgr': 0.0, 'mosaic': 1.0, 'mixup': 0.0, 'copy_paste': 0.0}\n",
      "Saved ..\\..\\runs\\tune8\\tune_scatter_plots.png\n",
      "Saved ..\\..\\runs\\tune8\\tune_fitness.png\n",
      "\n",
      "\u001b[34m\u001b[1mTuner: \u001b[0m8/100 iterations complete  (998.73s)\n",
      "\u001b[34m\u001b[1mTuner: \u001b[0mResults saved to \u001b[1m..\\..\\runs\\tune8\u001b[0m\n",
      "\u001b[34m\u001b[1mTuner: \u001b[0mBest fitness=0.43892 observed at iteration 5\n",
      "\u001b[34m\u001b[1mTuner: \u001b[0mBest fitness metrics are {'metrics/precision(B)': 0.7851, 'metrics/recall(B)': 0.68229, 'metrics/mAP50(B)': 0.75689, 'metrics/mAP50-95(B)': 0.40359, 'val/box_loss': 1.55332, 'val/cls_loss': 0.94234, 'val/dfl_loss': 1.15293, 'fitness': 0.43892}\n",
      "\u001b[34m\u001b[1mTuner: \u001b[0mBest fitness model is ..\\..\\runs\\yolov8s_hyp_finetune333\n",
      "\u001b[34m\u001b[1mTuner: \u001b[0mBest fitness hyperparameters are printed below.\n",
      "\n",
      "Printing '\u001b[1m\u001b[30m..\\..\\runs\\tune8\\best_hyperparameters.yaml\u001b[0m'\n",
      "\n",
      "lr0: 0.00924\n",
      "lrf: 0.01023\n",
      "momentum: 0.90907\n",
      "weight_decay: 0.00047\n",
      "warmup_epochs: 3.21308\n",
      "warmup_momentum: 0.87467\n",
      "box: 7.63262\n",
      "cls: 0.50326\n",
      "dfl: 1.53856\n",
      "hsv_h: 0.0149\n",
      "hsv_s: 0.7\n",
      "hsv_v: 0.43068\n",
      "degrees: 0.0\n",
      "translate: 0.09278\n",
      "scale: 0.45595\n",
      "shear: 0.0\n",
      "perspective: 0.0\n",
      "flipud: 0.0\n",
      "fliplr: 0.55004\n",
      "bgr: 0.0\n",
      "mosaic: 0.98368\n",
      "mixup: 0.0\n",
      "copy_paste: 0.0\n",
      "\n",
      "\u001b[34m\u001b[1mTuner: \u001b[0mStarting iteration 9/100 with hyperparameters: {'lr0': 0.00843, 'lrf': 0.01, 'momentum': 0.90762, 'weight_decay': 0.00051, 'warmup_epochs': 3.21308, 'warmup_momentum': 0.88854, 'box': 7.39868, 'cls': 0.56975, 'dfl': 1.87164, 'hsv_h': 0.01582, 'hsv_s': 0.67131, 'hsv_v': 0.37932, 'degrees': 0.0, 'translate': 0.08018, 'scale': 0.38827, 'shear': 0.0, 'perspective': 0.0, 'flipud': 0.0, 'fliplr': 0.52933, 'bgr': 0.0, 'mosaic': 1.0, 'mixup': 0.0, 'copy_paste': 0.0}\n",
      "Saved ..\\..\\runs\\tune8\\tune_scatter_plots.png\n",
      "Saved ..\\..\\runs\\tune8\\tune_fitness.png\n",
      "\n",
      "\u001b[34m\u001b[1mTuner: \u001b[0m9/100 iterations complete  (1130.22s)\n",
      "\u001b[34m\u001b[1mTuner: \u001b[0mResults saved to \u001b[1m..\\..\\runs\\tune8\u001b[0m\n",
      "\u001b[34m\u001b[1mTuner: \u001b[0mBest fitness=0.43892 observed at iteration 5\n",
      "\u001b[34m\u001b[1mTuner: \u001b[0mBest fitness metrics are {'metrics/precision(B)': 0.7851, 'metrics/recall(B)': 0.68229, 'metrics/mAP50(B)': 0.75689, 'metrics/mAP50-95(B)': 0.40359, 'val/box_loss': 1.55332, 'val/cls_loss': 0.94234, 'val/dfl_loss': 1.15293, 'fitness': 0.43892}\n",
      "\u001b[34m\u001b[1mTuner: \u001b[0mBest fitness model is ..\\..\\runs\\yolov8s_hyp_finetune333\n",
      "\u001b[34m\u001b[1mTuner: \u001b[0mBest fitness hyperparameters are printed below.\n",
      "\n",
      "Printing '\u001b[1m\u001b[30m..\\..\\runs\\tune8\\best_hyperparameters.yaml\u001b[0m'\n",
      "\n",
      "lr0: 0.00924\n",
      "lrf: 0.01023\n",
      "momentum: 0.90907\n",
      "weight_decay: 0.00047\n",
      "warmup_epochs: 3.21308\n",
      "warmup_momentum: 0.87467\n",
      "box: 7.63262\n",
      "cls: 0.50326\n",
      "dfl: 1.53856\n",
      "hsv_h: 0.0149\n",
      "hsv_s: 0.7\n",
      "hsv_v: 0.43068\n",
      "degrees: 0.0\n",
      "translate: 0.09278\n",
      "scale: 0.45595\n",
      "shear: 0.0\n",
      "perspective: 0.0\n",
      "flipud: 0.0\n",
      "fliplr: 0.55004\n",
      "bgr: 0.0\n",
      "mosaic: 0.98368\n",
      "mixup: 0.0\n",
      "copy_paste: 0.0\n",
      "\n",
      "\u001b[34m\u001b[1mTuner: \u001b[0mStarting iteration 10/100 with hyperparameters: {'lr0': 0.01015, 'lrf': 0.01195, 'momentum': 0.90907, 'weight_decay': 0.00052, 'warmup_epochs': 3.17464, 'warmup_momentum': 0.78556, 'box': 6.93812, 'cls': 0.43559, 'dfl': 1.54443, 'hsv_h': 0.0149, 'hsv_s': 0.7934, 'hsv_v': 0.44896, 'degrees': 0.0, 'translate': 0.08128, 'scale': 0.44883, 'shear': 0.0, 'perspective': 0.0, 'flipud': 0.0, 'fliplr': 0.49453, 'bgr': 0.0, 'mosaic': 1.0, 'mixup': 0.0, 'copy_paste': 0.0}\n",
      "Saved ..\\..\\runs\\tune8\\tune_scatter_plots.png\n",
      "Saved ..\\..\\runs\\tune8\\tune_fitness.png\n",
      "\n",
      "\u001b[34m\u001b[1mTuner: \u001b[0m10/100 iterations complete  (1260.55s)\n",
      "\u001b[34m\u001b[1mTuner: \u001b[0mResults saved to \u001b[1m..\\..\\runs\\tune8\u001b[0m\n",
      "\u001b[34m\u001b[1mTuner: \u001b[0mBest fitness=0.43892 observed at iteration 5\n",
      "\u001b[34m\u001b[1mTuner: \u001b[0mBest fitness metrics are {'metrics/precision(B)': 0.7851, 'metrics/recall(B)': 0.68229, 'metrics/mAP50(B)': 0.75689, 'metrics/mAP50-95(B)': 0.40359, 'val/box_loss': 1.55332, 'val/cls_loss': 0.94234, 'val/dfl_loss': 1.15293, 'fitness': 0.43892}\n",
      "\u001b[34m\u001b[1mTuner: \u001b[0mBest fitness model is ..\\..\\runs\\yolov8s_hyp_finetune333\n",
      "\u001b[34m\u001b[1mTuner: \u001b[0mBest fitness hyperparameters are printed below.\n",
      "\n",
      "Printing '\u001b[1m\u001b[30m..\\..\\runs\\tune8\\best_hyperparameters.yaml\u001b[0m'\n",
      "\n",
      "lr0: 0.00924\n",
      "lrf: 0.01023\n",
      "momentum: 0.90907\n",
      "weight_decay: 0.00047\n",
      "warmup_epochs: 3.21308\n",
      "warmup_momentum: 0.87467\n",
      "box: 7.63262\n",
      "cls: 0.50326\n",
      "dfl: 1.53856\n",
      "hsv_h: 0.0149\n",
      "hsv_s: 0.7\n",
      "hsv_v: 0.43068\n",
      "degrees: 0.0\n",
      "translate: 0.09278\n",
      "scale: 0.45595\n",
      "shear: 0.0\n",
      "perspective: 0.0\n",
      "flipud: 0.0\n",
      "fliplr: 0.55004\n",
      "bgr: 0.0\n",
      "mosaic: 0.98368\n",
      "mixup: 0.0\n",
      "copy_paste: 0.0\n",
      "\n",
      "\u001b[34m\u001b[1mTuner: \u001b[0mStarting iteration 11/100 with hyperparameters: {'lr0': 0.0091, 'lrf': 0.01492, 'momentum': 0.84404, 'weight_decay': 0.00045, 'warmup_epochs': 2.16739, 'warmup_momentum': 0.83735, 'box': 5.17211, 'cls': 0.30408, 'dfl': 1.78478, 'hsv_h': 0.01268, 'hsv_s': 0.7934, 'hsv_v': 0.45336, 'degrees': 0.0, 'translate': 0.08128, 'scale': 0.38358, 'shear': 0.0, 'perspective': 0.0, 'flipud': 0.0, 'fliplr': 0.43083, 'bgr': 0.0, 'mosaic': 1.0, 'mixup': 0.0, 'copy_paste': 0.0}\n",
      "Saved ..\\..\\runs\\tune8\\tune_scatter_plots.png\n",
      "Saved ..\\..\\runs\\tune8\\tune_fitness.png\n",
      "\n",
      "\u001b[34m\u001b[1mTuner: \u001b[0m11/100 iterations complete  (1378.34s)\n",
      "\u001b[34m\u001b[1mTuner: \u001b[0mResults saved to \u001b[1m..\\..\\runs\\tune8\u001b[0m\n",
      "\u001b[34m\u001b[1mTuner: \u001b[0mBest fitness=0.45355 observed at iteration 11\n",
      "\u001b[34m\u001b[1mTuner: \u001b[0mBest fitness metrics are {'metrics/precision(B)': 0.72293, 'metrics/recall(B)': 0.69792, 'metrics/mAP50(B)': 0.76413, 'metrics/mAP50-95(B)': 0.41905, 'val/box_loss': 1.03874, 'val/cls_loss': 0.53186, 'val/dfl_loss': 1.35792, 'fitness': 0.45355}\n",
      "\u001b[34m\u001b[1mTuner: \u001b[0mBest fitness model is ..\\..\\runs\\yolov8s_hyp_finetune339\n",
      "\u001b[34m\u001b[1mTuner: \u001b[0mBest fitness hyperparameters are printed below.\n",
      "\n",
      "Printing '\u001b[1m\u001b[30m..\\..\\runs\\tune8\\best_hyperparameters.yaml\u001b[0m'\n",
      "\n",
      "lr0: 0.0091\n",
      "lrf: 0.01492\n",
      "momentum: 0.84404\n",
      "weight_decay: 0.00045\n",
      "warmup_epochs: 2.16739\n",
      "warmup_momentum: 0.83735\n",
      "box: 5.17211\n",
      "cls: 0.30408\n",
      "dfl: 1.78478\n",
      "hsv_h: 0.01268\n",
      "hsv_s: 0.7934\n",
      "hsv_v: 0.45336\n",
      "degrees: 0.0\n",
      "translate: 0.08128\n",
      "scale: 0.38358\n",
      "shear: 0.0\n",
      "perspective: 0.0\n",
      "flipud: 0.0\n",
      "fliplr: 0.43083\n",
      "bgr: 0.0\n",
      "mosaic: 1.0\n",
      "mixup: 0.0\n",
      "copy_paste: 0.0\n",
      "\n",
      "\u001b[34m\u001b[1mTuner: \u001b[0mStarting iteration 12/100 with hyperparameters: {'lr0': 0.01015, 'lrf': 0.01195, 'momentum': 0.94776, 'weight_decay': 0.00051, 'warmup_epochs': 3.31915, 'warmup_momentum': 0.95, 'box': 6.93812, 'cls': 0.38652, 'dfl': 1.54443, 'hsv_h': 0.01171, 'hsv_s': 0.9, 'hsv_v': 0.41057, 'degrees': 0.0, 'translate': 0.07376, 'scale': 0.42618, 'shear': 0.0, 'perspective': 0.0, 'flipud': 0.0, 'fliplr': 0.58625, 'bgr': 0.0, 'mosaic': 1.0, 'mixup': 0.0, 'copy_paste': 0.0}\n",
      "Saved ..\\..\\runs\\tune8\\tune_scatter_plots.png\n",
      "Saved ..\\..\\runs\\tune8\\tune_fitness.png\n",
      "\n",
      "\u001b[34m\u001b[1mTuner: \u001b[0m12/100 iterations complete  (1492.88s)\n",
      "\u001b[34m\u001b[1mTuner: \u001b[0mResults saved to \u001b[1m..\\..\\runs\\tune8\u001b[0m\n",
      "\u001b[34m\u001b[1mTuner: \u001b[0mBest fitness=0.45355 observed at iteration 11\n",
      "\u001b[34m\u001b[1mTuner: \u001b[0mBest fitness metrics are {'metrics/precision(B)': 0.72293, 'metrics/recall(B)': 0.69792, 'metrics/mAP50(B)': 0.76413, 'metrics/mAP50-95(B)': 0.41905, 'val/box_loss': 1.03874, 'val/cls_loss': 0.53186, 'val/dfl_loss': 1.35792, 'fitness': 0.45355}\n",
      "\u001b[34m\u001b[1mTuner: \u001b[0mBest fitness model is ..\\..\\runs\\yolov8s_hyp_finetune339\n",
      "\u001b[34m\u001b[1mTuner: \u001b[0mBest fitness hyperparameters are printed below.\n",
      "\n",
      "Printing '\u001b[1m\u001b[30m..\\..\\runs\\tune8\\best_hyperparameters.yaml\u001b[0m'\n",
      "\n",
      "lr0: 0.0091\n",
      "lrf: 0.01492\n",
      "momentum: 0.84404\n",
      "weight_decay: 0.00045\n",
      "warmup_epochs: 2.16739\n",
      "warmup_momentum: 0.83735\n",
      "box: 5.17211\n",
      "cls: 0.30408\n",
      "dfl: 1.78478\n",
      "hsv_h: 0.01268\n",
      "hsv_s: 0.7934\n",
      "hsv_v: 0.45336\n",
      "degrees: 0.0\n",
      "translate: 0.08128\n",
      "scale: 0.38358\n",
      "shear: 0.0\n",
      "perspective: 0.0\n",
      "flipud: 0.0\n",
      "fliplr: 0.43083\n",
      "bgr: 0.0\n",
      "mosaic: 1.0\n",
      "mixup: 0.0\n",
      "copy_paste: 0.0\n",
      "\n",
      "\u001b[34m\u001b[1mTuner: \u001b[0mStarting iteration 13/100 with hyperparameters: {'lr0': 0.01001, 'lrf': 0.01299, 'momentum': 0.91203, 'weight_decay': 0.00044, 'warmup_epochs': 3.59326, 'warmup_momentum': 0.84851, 'box': 6.93812, 'cls': 0.43559, 'dfl': 1.81896, 'hsv_h': 0.0149, 'hsv_s': 0.66832, 'hsv_v': 0.49025, 'degrees': 0.0, 'translate': 0.08128, 'scale': 0.50032, 'shear': 0.0, 'perspective': 0.0, 'flipud': 0.0, 'fliplr': 0.55468, 'bgr': 0.0, 'mosaic': 1.0, 'mixup': 0.0, 'copy_paste': 0.0}\n",
      "Saved ..\\..\\runs\\tune8\\tune_scatter_plots.png\n",
      "Saved ..\\..\\runs\\tune8\\tune_fitness.png\n",
      "\n",
      "\u001b[34m\u001b[1mTuner: \u001b[0m13/100 iterations complete  (1607.29s)\n",
      "\u001b[34m\u001b[1mTuner: \u001b[0mResults saved to \u001b[1m..\\..\\runs\\tune8\u001b[0m\n",
      "\u001b[34m\u001b[1mTuner: \u001b[0mBest fitness=0.45355 observed at iteration 11\n",
      "\u001b[34m\u001b[1mTuner: \u001b[0mBest fitness metrics are {'metrics/precision(B)': 0.72293, 'metrics/recall(B)': 0.69792, 'metrics/mAP50(B)': 0.76413, 'metrics/mAP50-95(B)': 0.41905, 'val/box_loss': 1.03874, 'val/cls_loss': 0.53186, 'val/dfl_loss': 1.35792, 'fitness': 0.45355}\n",
      "\u001b[34m\u001b[1mTuner: \u001b[0mBest fitness model is ..\\..\\runs\\yolov8s_hyp_finetune339\n",
      "\u001b[34m\u001b[1mTuner: \u001b[0mBest fitness hyperparameters are printed below.\n",
      "\n",
      "Printing '\u001b[1m\u001b[30m..\\..\\runs\\tune8\\best_hyperparameters.yaml\u001b[0m'\n",
      "\n",
      "lr0: 0.0091\n",
      "lrf: 0.01492\n",
      "momentum: 0.84404\n",
      "weight_decay: 0.00045\n",
      "warmup_epochs: 2.16739\n",
      "warmup_momentum: 0.83735\n",
      "box: 5.17211\n",
      "cls: 0.30408\n",
      "dfl: 1.78478\n",
      "hsv_h: 0.01268\n",
      "hsv_s: 0.7934\n",
      "hsv_v: 0.45336\n",
      "degrees: 0.0\n",
      "translate: 0.08128\n",
      "scale: 0.38358\n",
      "shear: 0.0\n",
      "perspective: 0.0\n",
      "flipud: 0.0\n",
      "fliplr: 0.43083\n",
      "bgr: 0.0\n",
      "mosaic: 1.0\n",
      "mixup: 0.0\n",
      "copy_paste: 0.0\n",
      "\n",
      "\u001b[34m\u001b[1mTuner: \u001b[0mStarting iteration 14/100 with hyperparameters: {'lr0': 0.00894, 'lrf': 0.01464, 'momentum': 0.83891, 'weight_decay': 0.00046, 'warmup_epochs': 2.2051, 'warmup_momentum': 0.819, 'box': 5.03702, 'cls': 0.30742, 'dfl': 1.79275, 'hsv_h': 0.01187, 'hsv_s': 0.76843, 'hsv_v': 0.42267, 'degrees': 0.0, 'translate': 0.08256, 'scale': 0.39388, 'shear': 0.0, 'perspective': 0.0, 'flipud': 0.0, 'fliplr': 0.45302, 'bgr': 0.0, 'mosaic': 1.0, 'mixup': 0.0, 'copy_paste': 0.0}\n",
      "Saved ..\\..\\runs\\tune8\\tune_scatter_plots.png\n",
      "Saved ..\\..\\runs\\tune8\\tune_fitness.png\n",
      "\n",
      "\u001b[34m\u001b[1mTuner: \u001b[0m14/100 iterations complete  (1722.14s)\n",
      "\u001b[34m\u001b[1mTuner: \u001b[0mResults saved to \u001b[1m..\\..\\runs\\tune8\u001b[0m\n",
      "\u001b[34m\u001b[1mTuner: \u001b[0mBest fitness=0.45355 observed at iteration 11\n",
      "\u001b[34m\u001b[1mTuner: \u001b[0mBest fitness metrics are {'metrics/precision(B)': 0.72293, 'metrics/recall(B)': 0.69792, 'metrics/mAP50(B)': 0.76413, 'metrics/mAP50-95(B)': 0.41905, 'val/box_loss': 1.03874, 'val/cls_loss': 0.53186, 'val/dfl_loss': 1.35792, 'fitness': 0.45355}\n",
      "\u001b[34m\u001b[1mTuner: \u001b[0mBest fitness model is ..\\..\\runs\\yolov8s_hyp_finetune339\n",
      "\u001b[34m\u001b[1mTuner: \u001b[0mBest fitness hyperparameters are printed below.\n",
      "\n",
      "Printing '\u001b[1m\u001b[30m..\\..\\runs\\tune8\\best_hyperparameters.yaml\u001b[0m'\n",
      "\n",
      "lr0: 0.0091\n",
      "lrf: 0.01492\n",
      "momentum: 0.84404\n",
      "weight_decay: 0.00045\n",
      "warmup_epochs: 2.16739\n",
      "warmup_momentum: 0.83735\n",
      "box: 5.17211\n",
      "cls: 0.30408\n",
      "dfl: 1.78478\n",
      "hsv_h: 0.01268\n",
      "hsv_s: 0.7934\n",
      "hsv_v: 0.45336\n",
      "degrees: 0.0\n",
      "translate: 0.08128\n",
      "scale: 0.38358\n",
      "shear: 0.0\n",
      "perspective: 0.0\n",
      "flipud: 0.0\n",
      "fliplr: 0.43083\n",
      "bgr: 0.0\n",
      "mosaic: 1.0\n",
      "mixup: 0.0\n",
      "copy_paste: 0.0\n",
      "\n",
      "\u001b[34m\u001b[1mTuner: \u001b[0mStarting iteration 15/100 with hyperparameters: {'lr0': 0.00927, 'lrf': 0.01066, 'momentum': 0.92639, 'weight_decay': 0.00069, 'warmup_epochs': 2.26802, 'warmup_momentum': 0.95, 'box': 7.39377, 'cls': 0.50286, 'dfl': 1.69221, 'hsv_h': 0.0149, 'hsv_s': 0.74427, 'hsv_v': 0.43605, 'degrees': 0.0, 'translate': 0.11092, 'scale': 0.41206, 'shear': 0.0, 'perspective': 0.0, 'flipud': 0.0, 'fliplr': 0.54105, 'bgr': 0.0, 'mosaic': 1.0, 'mixup': 0.0, 'copy_paste': 0.0}\n",
      "Saved ..\\..\\runs\\tune8\\tune_scatter_plots.png\n",
      "Saved ..\\..\\runs\\tune8\\tune_fitness.png\n",
      "\n",
      "\u001b[34m\u001b[1mTuner: \u001b[0m15/100 iterations complete  (1837.32s)\n",
      "\u001b[34m\u001b[1mTuner: \u001b[0mResults saved to \u001b[1m..\\..\\runs\\tune8\u001b[0m\n",
      "\u001b[34m\u001b[1mTuner: \u001b[0mBest fitness=0.45355 observed at iteration 11\n",
      "\u001b[34m\u001b[1mTuner: \u001b[0mBest fitness metrics are {'metrics/precision(B)': 0.72293, 'metrics/recall(B)': 0.69792, 'metrics/mAP50(B)': 0.76413, 'metrics/mAP50-95(B)': 0.41905, 'val/box_loss': 1.03874, 'val/cls_loss': 0.53186, 'val/dfl_loss': 1.35792, 'fitness': 0.45355}\n",
      "\u001b[34m\u001b[1mTuner: \u001b[0mBest fitness model is ..\\..\\runs\\yolov8s_hyp_finetune339\n",
      "\u001b[34m\u001b[1mTuner: \u001b[0mBest fitness hyperparameters are printed below.\n",
      "\n",
      "Printing '\u001b[1m\u001b[30m..\\..\\runs\\tune8\\best_hyperparameters.yaml\u001b[0m'\n",
      "\n",
      "lr0: 0.0091\n",
      "lrf: 0.01492\n",
      "momentum: 0.84404\n",
      "weight_decay: 0.00045\n",
      "warmup_epochs: 2.16739\n",
      "warmup_momentum: 0.83735\n",
      "box: 5.17211\n",
      "cls: 0.30408\n",
      "dfl: 1.78478\n",
      "hsv_h: 0.01268\n",
      "hsv_s: 0.7934\n",
      "hsv_v: 0.45336\n",
      "degrees: 0.0\n",
      "translate: 0.08128\n",
      "scale: 0.38358\n",
      "shear: 0.0\n",
      "perspective: 0.0\n",
      "flipud: 0.0\n",
      "fliplr: 0.43083\n",
      "bgr: 0.0\n",
      "mosaic: 1.0\n",
      "mixup: 0.0\n",
      "copy_paste: 0.0\n",
      "\n",
      "\u001b[34m\u001b[1mTuner: \u001b[0mStarting iteration 16/100 with hyperparameters: {'lr0': 0.00937, 'lrf': 0.00863, 'momentum': 0.84404, 'weight_decay': 0.00045, 'warmup_epochs': 2.32715, 'warmup_momentum': 0.90056, 'box': 5.16679, 'cls': 0.30408, 'dfl': 1.7895, 'hsv_h': 0.01558, 'hsv_s': 0.9, 'hsv_v': 0.3478, 'degrees': 0.0, 'translate': 0.0677, 'scale': 0.41866, 'shear': 0.0, 'perspective': 0.0, 'flipud': 0.0, 'fliplr': 0.34797, 'bgr': 0.0, 'mosaic': 1.0, 'mixup': 0.0, 'copy_paste': 0.0}\n",
      "Saved ..\\..\\runs\\tune8\\tune_scatter_plots.png\n",
      "Saved ..\\..\\runs\\tune8\\tune_fitness.png\n",
      "\n",
      "\u001b[34m\u001b[1mTuner: \u001b[0m16/100 iterations complete  (1952.02s)\n",
      "\u001b[34m\u001b[1mTuner: \u001b[0mResults saved to \u001b[1m..\\..\\runs\\tune8\u001b[0m\n",
      "\u001b[34m\u001b[1mTuner: \u001b[0mBest fitness=0.45355 observed at iteration 11\n",
      "\u001b[34m\u001b[1mTuner: \u001b[0mBest fitness metrics are {'metrics/precision(B)': 0.72293, 'metrics/recall(B)': 0.69792, 'metrics/mAP50(B)': 0.76413, 'metrics/mAP50-95(B)': 0.41905, 'val/box_loss': 1.03874, 'val/cls_loss': 0.53186, 'val/dfl_loss': 1.35792, 'fitness': 0.45355}\n",
      "\u001b[34m\u001b[1mTuner: \u001b[0mBest fitness model is ..\\..\\runs\\yolov8s_hyp_finetune339\n",
      "\u001b[34m\u001b[1mTuner: \u001b[0mBest fitness hyperparameters are printed below.\n",
      "\n",
      "Printing '\u001b[1m\u001b[30m..\\..\\runs\\tune8\\best_hyperparameters.yaml\u001b[0m'\n",
      "\n",
      "lr0: 0.0091\n",
      "lrf: 0.01492\n",
      "momentum: 0.84404\n",
      "weight_decay: 0.00045\n",
      "warmup_epochs: 2.16739\n",
      "warmup_momentum: 0.83735\n",
      "box: 5.17211\n",
      "cls: 0.30408\n",
      "dfl: 1.78478\n",
      "hsv_h: 0.01268\n",
      "hsv_s: 0.7934\n",
      "hsv_v: 0.45336\n",
      "degrees: 0.0\n",
      "translate: 0.08128\n",
      "scale: 0.38358\n",
      "shear: 0.0\n",
      "perspective: 0.0\n",
      "flipud: 0.0\n",
      "fliplr: 0.43083\n",
      "bgr: 0.0\n",
      "mosaic: 1.0\n",
      "mixup: 0.0\n",
      "copy_paste: 0.0\n",
      "\n",
      "\u001b[34m\u001b[1mTuner: \u001b[0mStarting iteration 17/100 with hyperparameters: {'lr0': 0.01008, 'lrf': 0.01226, 'momentum': 0.81413, 'weight_decay': 0.00046, 'warmup_epochs': 2.12002, 'warmup_momentum': 0.59982, 'box': 5.02136, 'cls': 0.32812, 'dfl': 1.73598, 'hsv_h': 0.0117, 'hsv_s': 0.72346, 'hsv_v': 0.41484, 'degrees': 0.0, 'translate': 0.08327, 'scale': 0.39388, 'shear': 0.0, 'perspective': 0.0, 'flipud': 0.0, 'fliplr': 0.44061, 'bgr': 0.0, 'mosaic': 0.93572, 'mixup': 0.0, 'copy_paste': 0.0}\n",
      "Saved ..\\..\\runs\\tune8\\tune_scatter_plots.png\n",
      "Saved ..\\..\\runs\\tune8\\tune_fitness.png\n",
      "\n",
      "\u001b[34m\u001b[1mTuner: \u001b[0m17/100 iterations complete  (2067.99s)\n",
      "\u001b[34m\u001b[1mTuner: \u001b[0mResults saved to \u001b[1m..\\..\\runs\\tune8\u001b[0m\n",
      "\u001b[34m\u001b[1mTuner: \u001b[0mBest fitness=0.45355 observed at iteration 11\n",
      "\u001b[34m\u001b[1mTuner: \u001b[0mBest fitness metrics are {'metrics/precision(B)': 0.72293, 'metrics/recall(B)': 0.69792, 'metrics/mAP50(B)': 0.76413, 'metrics/mAP50-95(B)': 0.41905, 'val/box_loss': 1.03874, 'val/cls_loss': 0.53186, 'val/dfl_loss': 1.35792, 'fitness': 0.45355}\n",
      "\u001b[34m\u001b[1mTuner: \u001b[0mBest fitness model is ..\\..\\runs\\yolov8s_hyp_finetune339\n",
      "\u001b[34m\u001b[1mTuner: \u001b[0mBest fitness hyperparameters are printed below.\n",
      "\n",
      "Printing '\u001b[1m\u001b[30m..\\..\\runs\\tune8\\best_hyperparameters.yaml\u001b[0m'\n",
      "\n",
      "lr0: 0.0091\n",
      "lrf: 0.01492\n",
      "momentum: 0.84404\n",
      "weight_decay: 0.00045\n",
      "warmup_epochs: 2.16739\n",
      "warmup_momentum: 0.83735\n",
      "box: 5.17211\n",
      "cls: 0.30408\n",
      "dfl: 1.78478\n",
      "hsv_h: 0.01268\n",
      "hsv_s: 0.7934\n",
      "hsv_v: 0.45336\n",
      "degrees: 0.0\n",
      "translate: 0.08128\n",
      "scale: 0.38358\n",
      "shear: 0.0\n",
      "perspective: 0.0\n",
      "flipud: 0.0\n",
      "fliplr: 0.43083\n",
      "bgr: 0.0\n",
      "mosaic: 1.0\n",
      "mixup: 0.0\n",
      "copy_paste: 0.0\n",
      "\n",
      "\u001b[34m\u001b[1mTuner: \u001b[0mStarting iteration 18/100 with hyperparameters: {'lr0': 0.00894, 'lrf': 0.0159, 'momentum': 0.82179, 'weight_decay': 0.00047, 'warmup_epochs': 2.07177, 'warmup_momentum': 0.819, 'box': 5.03702, 'cls': 0.32235, 'dfl': 2.05091, 'hsv_h': 0.01126, 'hsv_s': 0.83391, 'hsv_v': 0.45933, 'degrees': 0.0, 'translate': 0.08362, 'scale': 0.39388, 'shear': 0.0, 'perspective': 0.0, 'flipud': 0.0, 'fliplr': 0.4986, 'bgr': 0.0, 'mosaic': 1.0, 'mixup': 0.0, 'copy_paste': 0.0}\n",
      "Saved ..\\..\\runs\\tune8\\tune_scatter_plots.png\n",
      "Saved ..\\..\\runs\\tune8\\tune_fitness.png\n",
      "\n",
      "\u001b[34m\u001b[1mTuner: \u001b[0m18/100 iterations complete  (2182.28s)\n",
      "\u001b[34m\u001b[1mTuner: \u001b[0mResults saved to \u001b[1m..\\..\\runs\\tune8\u001b[0m\n",
      "\u001b[34m\u001b[1mTuner: \u001b[0mBest fitness=0.45355 observed at iteration 11\n",
      "\u001b[34m\u001b[1mTuner: \u001b[0mBest fitness metrics are {'metrics/precision(B)': 0.72293, 'metrics/recall(B)': 0.69792, 'metrics/mAP50(B)': 0.76413, 'metrics/mAP50-95(B)': 0.41905, 'val/box_loss': 1.03874, 'val/cls_loss': 0.53186, 'val/dfl_loss': 1.35792, 'fitness': 0.45355}\n",
      "\u001b[34m\u001b[1mTuner: \u001b[0mBest fitness model is ..\\..\\runs\\yolov8s_hyp_finetune339\n",
      "\u001b[34m\u001b[1mTuner: \u001b[0mBest fitness hyperparameters are printed below.\n",
      "\n",
      "Printing '\u001b[1m\u001b[30m..\\..\\runs\\tune8\\best_hyperparameters.yaml\u001b[0m'\n",
      "\n",
      "lr0: 0.0091\n",
      "lrf: 0.01492\n",
      "momentum: 0.84404\n",
      "weight_decay: 0.00045\n",
      "warmup_epochs: 2.16739\n",
      "warmup_momentum: 0.83735\n",
      "box: 5.17211\n",
      "cls: 0.30408\n",
      "dfl: 1.78478\n",
      "hsv_h: 0.01268\n",
      "hsv_s: 0.7934\n",
      "hsv_v: 0.45336\n",
      "degrees: 0.0\n",
      "translate: 0.08128\n",
      "scale: 0.38358\n",
      "shear: 0.0\n",
      "perspective: 0.0\n",
      "flipud: 0.0\n",
      "fliplr: 0.43083\n",
      "bgr: 0.0\n",
      "mosaic: 1.0\n",
      "mixup: 0.0\n",
      "copy_paste: 0.0\n",
      "\n",
      "\u001b[34m\u001b[1mTuner: \u001b[0mStarting iteration 19/100 with hyperparameters: {'lr0': 0.01023, 'lrf': 0.01166, 'momentum': 0.80773, 'weight_decay': 0.00046, 'warmup_epochs': 2.12706, 'warmup_momentum': 0.59647, 'box': 5.25889, 'cls': 0.32812, 'dfl': 1.83861, 'hsv_h': 0.01208, 'hsv_s': 0.79354, 'hsv_v': 0.43776, 'degrees': 0.0, 'translate': 0.08327, 'scale': 0.39388, 'shear': 0.0, 'perspective': 0.0, 'flipud': 0.0, 'fliplr': 0.47138, 'bgr': 0.0, 'mosaic': 0.93572, 'mixup': 0.0, 'copy_paste': 0.0}\n",
      "Saved ..\\..\\runs\\tune8\\tune_scatter_plots.png\n",
      "Saved ..\\..\\runs\\tune8\\tune_fitness.png\n",
      "\n",
      "\u001b[34m\u001b[1mTuner: \u001b[0m19/100 iterations complete  (2297.91s)\n",
      "\u001b[34m\u001b[1mTuner: \u001b[0mResults saved to \u001b[1m..\\..\\runs\\tune8\u001b[0m\n",
      "\u001b[34m\u001b[1mTuner: \u001b[0mBest fitness=0.45355 observed at iteration 11\n",
      "\u001b[34m\u001b[1mTuner: \u001b[0mBest fitness metrics are {'metrics/precision(B)': 0.72293, 'metrics/recall(B)': 0.69792, 'metrics/mAP50(B)': 0.76413, 'metrics/mAP50-95(B)': 0.41905, 'val/box_loss': 1.03874, 'val/cls_loss': 0.53186, 'val/dfl_loss': 1.35792, 'fitness': 0.45355}\n",
      "\u001b[34m\u001b[1mTuner: \u001b[0mBest fitness model is ..\\..\\runs\\yolov8s_hyp_finetune339\n",
      "\u001b[34m\u001b[1mTuner: \u001b[0mBest fitness hyperparameters are printed below.\n",
      "\n",
      "Printing '\u001b[1m\u001b[30m..\\..\\runs\\tune8\\best_hyperparameters.yaml\u001b[0m'\n",
      "\n",
      "lr0: 0.0091\n",
      "lrf: 0.01492\n",
      "momentum: 0.84404\n",
      "weight_decay: 0.00045\n",
      "warmup_epochs: 2.16739\n",
      "warmup_momentum: 0.83735\n",
      "box: 5.17211\n",
      "cls: 0.30408\n",
      "dfl: 1.78478\n",
      "hsv_h: 0.01268\n",
      "hsv_s: 0.7934\n",
      "hsv_v: 0.45336\n",
      "degrees: 0.0\n",
      "translate: 0.08128\n",
      "scale: 0.38358\n",
      "shear: 0.0\n",
      "perspective: 0.0\n",
      "flipud: 0.0\n",
      "fliplr: 0.43083\n",
      "bgr: 0.0\n",
      "mosaic: 1.0\n",
      "mixup: 0.0\n",
      "copy_paste: 0.0\n",
      "\n",
      "\u001b[34m\u001b[1mTuner: \u001b[0mStarting iteration 20/100 with hyperparameters: {'lr0': 0.01008, 'lrf': 0.00946, 'momentum': 0.83508, 'weight_decay': 0.00038, 'warmup_epochs': 1.97236, 'warmup_momentum': 0.6301, 'box': 5.10882, 'cls': 0.28586, 'dfl': 1.61601, 'hsv_h': 0.0117, 'hsv_s': 0.72743, 'hsv_v': 0.4225, 'degrees': 0.0, 'translate': 0.08327, 'scale': 0.23997, 'shear': 0.0, 'perspective': 0.0, 'flipud': 0.0, 'fliplr': 0.39693, 'bgr': 0.0, 'mosaic': 0.82557, 'mixup': 0.0, 'copy_paste': 0.0}\n",
      "Saved ..\\..\\runs\\tune8\\tune_scatter_plots.png\n",
      "Saved ..\\..\\runs\\tune8\\tune_fitness.png\n",
      "\n",
      "\u001b[34m\u001b[1mTuner: \u001b[0m20/100 iterations complete  (2414.24s)\n",
      "\u001b[34m\u001b[1mTuner: \u001b[0mResults saved to \u001b[1m..\\..\\runs\\tune8\u001b[0m\n",
      "\u001b[34m\u001b[1mTuner: \u001b[0mBest fitness=0.45355 observed at iteration 11\n",
      "\u001b[34m\u001b[1mTuner: \u001b[0mBest fitness metrics are {'metrics/precision(B)': 0.72293, 'metrics/recall(B)': 0.69792, 'metrics/mAP50(B)': 0.76413, 'metrics/mAP50-95(B)': 0.41905, 'val/box_loss': 1.03874, 'val/cls_loss': 0.53186, 'val/dfl_loss': 1.35792, 'fitness': 0.45355}\n",
      "\u001b[34m\u001b[1mTuner: \u001b[0mBest fitness model is ..\\..\\runs\\yolov8s_hyp_finetune339\n",
      "\u001b[34m\u001b[1mTuner: \u001b[0mBest fitness hyperparameters are printed below.\n",
      "\n",
      "Printing '\u001b[1m\u001b[30m..\\..\\runs\\tune8\\best_hyperparameters.yaml\u001b[0m'\n",
      "\n",
      "lr0: 0.0091\n",
      "lrf: 0.01492\n",
      "momentum: 0.84404\n",
      "weight_decay: 0.00045\n",
      "warmup_epochs: 2.16739\n",
      "warmup_momentum: 0.83735\n",
      "box: 5.17211\n",
      "cls: 0.30408\n",
      "dfl: 1.78478\n",
      "hsv_h: 0.01268\n",
      "hsv_s: 0.7934\n",
      "hsv_v: 0.45336\n",
      "degrees: 0.0\n",
      "translate: 0.08128\n",
      "scale: 0.38358\n",
      "shear: 0.0\n",
      "perspective: 0.0\n",
      "flipud: 0.0\n",
      "fliplr: 0.43083\n",
      "bgr: 0.0\n",
      "mosaic: 1.0\n",
      "mixup: 0.0\n",
      "copy_paste: 0.0\n",
      "\n",
      "\u001b[34m\u001b[1mTuner: \u001b[0mStarting iteration 21/100 with hyperparameters: {'lr0': 0.009, 'lrf': 0.01464, 'momentum': 0.86345, 'weight_decay': 0.0005, 'warmup_epochs': 2.09673, 'warmup_momentum': 0.75807, 'box': 5.60805, 'cls': 0.24782, 'dfl': 2.11552, 'hsv_h': 0.01187, 'hsv_s': 0.72791, 'hsv_v': 0.38532, 'degrees': 0.0, 'translate': 0.07801, 'scale': 0.37217, 'shear': 0.0, 'perspective': 0.0, 'flipud': 0.0, 'fliplr': 0.44092, 'bgr': 0.0, 'mosaic': 0.92949, 'mixup': 0.0, 'copy_paste': 0.0}\n",
      "Saved ..\\..\\runs\\tune8\\tune_scatter_plots.png\n",
      "Saved ..\\..\\runs\\tune8\\tune_fitness.png\n",
      "\n",
      "\u001b[34m\u001b[1mTuner: \u001b[0m21/100 iterations complete  (2528.99s)\n",
      "\u001b[34m\u001b[1mTuner: \u001b[0mResults saved to \u001b[1m..\\..\\runs\\tune8\u001b[0m\n",
      "\u001b[34m\u001b[1mTuner: \u001b[0mBest fitness=0.45404 observed at iteration 21\n",
      "\u001b[34m\u001b[1mTuner: \u001b[0mBest fitness metrics are {'metrics/precision(B)': 0.83115, 'metrics/recall(B)': 0.66146, 'metrics/mAP50(B)': 0.76616, 'metrics/mAP50-95(B)': 0.41936, 'val/box_loss': 1.12233, 'val/cls_loss': 0.45413, 'val/dfl_loss': 1.481, 'fitness': 0.45404}\n",
      "\u001b[34m\u001b[1mTuner: \u001b[0mBest fitness model is ..\\..\\runs\\yolov8s_hyp_finetune349\n",
      "\u001b[34m\u001b[1mTuner: \u001b[0mBest fitness hyperparameters are printed below.\n",
      "\n",
      "Printing '\u001b[1m\u001b[30m..\\..\\runs\\tune8\\best_hyperparameters.yaml\u001b[0m'\n",
      "\n",
      "lr0: 0.009\n",
      "lrf: 0.01464\n",
      "momentum: 0.86345\n",
      "weight_decay: 0.0005\n",
      "warmup_epochs: 2.09673\n",
      "warmup_momentum: 0.75807\n",
      "box: 5.60805\n",
      "cls: 0.24782\n",
      "dfl: 2.11552\n",
      "hsv_h: 0.01187\n",
      "hsv_s: 0.72791\n",
      "hsv_v: 0.38532\n",
      "degrees: 0.0\n",
      "translate: 0.07801\n",
      "scale: 0.37217\n",
      "shear: 0.0\n",
      "perspective: 0.0\n",
      "flipud: 0.0\n",
      "fliplr: 0.44092\n",
      "bgr: 0.0\n",
      "mosaic: 0.92949\n",
      "mixup: 0.0\n",
      "copy_paste: 0.0\n",
      "\n",
      "\u001b[34m\u001b[1mTuner: \u001b[0mStarting iteration 22/100 with hyperparameters: {'lr0': 0.00869, 'lrf': 0.01464, 'momentum': 0.86345, 'weight_decay': 0.00054, 'warmup_epochs': 1.86717, 'warmup_momentum': 0.64751, 'box': 5.62537, 'cls': 0.24782, 'dfl': 2.11552, 'hsv_h': 0.01187, 'hsv_s': 0.6681, 'hsv_v': 0.41399, 'degrees': 0.0, 'translate': 0.07539, 'scale': 0.47954, 'shear': 0.0, 'perspective': 0.0, 'flipud': 0.0, 'fliplr': 0.43401, 'bgr': 0.0, 'mosaic': 0.97159, 'mixup': 0.0, 'copy_paste': 0.0}\n",
      "Saved ..\\..\\runs\\tune8\\tune_scatter_plots.png\n",
      "Saved ..\\..\\runs\\tune8\\tune_fitness.png\n",
      "\n",
      "\u001b[34m\u001b[1mTuner: \u001b[0m22/100 iterations complete  (2644.37s)\n",
      "\u001b[34m\u001b[1mTuner: \u001b[0mResults saved to \u001b[1m..\\..\\runs\\tune8\u001b[0m\n",
      "\u001b[34m\u001b[1mTuner: \u001b[0mBest fitness=0.45404 observed at iteration 21\n",
      "\u001b[34m\u001b[1mTuner: \u001b[0mBest fitness metrics are {'metrics/precision(B)': 0.83115, 'metrics/recall(B)': 0.66146, 'metrics/mAP50(B)': 0.76616, 'metrics/mAP50-95(B)': 0.41936, 'val/box_loss': 1.12233, 'val/cls_loss': 0.45413, 'val/dfl_loss': 1.481, 'fitness': 0.45404}\n",
      "\u001b[34m\u001b[1mTuner: \u001b[0mBest fitness model is ..\\..\\runs\\yolov8s_hyp_finetune349\n",
      "\u001b[34m\u001b[1mTuner: \u001b[0mBest fitness hyperparameters are printed below.\n",
      "\n",
      "Printing '\u001b[1m\u001b[30m..\\..\\runs\\tune8\\best_hyperparameters.yaml\u001b[0m'\n",
      "\n",
      "lr0: 0.009\n",
      "lrf: 0.01464\n",
      "momentum: 0.86345\n",
      "weight_decay: 0.0005\n",
      "warmup_epochs: 2.09673\n",
      "warmup_momentum: 0.75807\n",
      "box: 5.60805\n",
      "cls: 0.24782\n",
      "dfl: 2.11552\n",
      "hsv_h: 0.01187\n",
      "hsv_s: 0.72791\n",
      "hsv_v: 0.38532\n",
      "degrees: 0.0\n",
      "translate: 0.07801\n",
      "scale: 0.37217\n",
      "shear: 0.0\n",
      "perspective: 0.0\n",
      "flipud: 0.0\n",
      "fliplr: 0.44092\n",
      "bgr: 0.0\n",
      "mosaic: 0.92949\n",
      "mixup: 0.0\n",
      "copy_paste: 0.0\n",
      "\n",
      "\u001b[34m\u001b[1mTuner: \u001b[0mStarting iteration 23/100 with hyperparameters: {'lr0': 0.00999, 'lrf': 0.01515, 'momentum': 0.8696, 'weight_decay': 0.00049, 'warmup_epochs': 2.13582, 'warmup_momentum': 0.75807, 'box': 5.71531, 'cls': 0.24793, 'dfl': 2.07281, 'hsv_h': 0.0124, 'hsv_s': 0.71871, 'hsv_v': 0.38532, 'degrees': 0.0, 'translate': 0.07942, 'scale': 0.42373, 'shear': 0.0, 'perspective': 0.0, 'flipud': 0.0, 'fliplr': 0.43284, 'bgr': 0.0, 'mosaic': 0.96908, 'mixup': 0.0, 'copy_paste': 0.0}\n",
      "Saved ..\\..\\runs\\tune8\\tune_scatter_plots.png\n",
      "Saved ..\\..\\runs\\tune8\\tune_fitness.png\n",
      "\n",
      "\u001b[34m\u001b[1mTuner: \u001b[0m23/100 iterations complete  (2759.99s)\n",
      "\u001b[34m\u001b[1mTuner: \u001b[0mResults saved to \u001b[1m..\\..\\runs\\tune8\u001b[0m\n",
      "\u001b[34m\u001b[1mTuner: \u001b[0mBest fitness=0.45404 observed at iteration 21\n",
      "\u001b[34m\u001b[1mTuner: \u001b[0mBest fitness metrics are {'metrics/precision(B)': 0.83115, 'metrics/recall(B)': 0.66146, 'metrics/mAP50(B)': 0.76616, 'metrics/mAP50-95(B)': 0.41936, 'val/box_loss': 1.12233, 'val/cls_loss': 0.45413, 'val/dfl_loss': 1.481, 'fitness': 0.45404}\n",
      "\u001b[34m\u001b[1mTuner: \u001b[0mBest fitness model is ..\\..\\runs\\yolov8s_hyp_finetune349\n",
      "\u001b[34m\u001b[1mTuner: \u001b[0mBest fitness hyperparameters are printed below.\n",
      "\n",
      "Printing '\u001b[1m\u001b[30m..\\..\\runs\\tune8\\best_hyperparameters.yaml\u001b[0m'\n",
      "\n",
      "lr0: 0.009\n",
      "lrf: 0.01464\n",
      "momentum: 0.86345\n",
      "weight_decay: 0.0005\n",
      "warmup_epochs: 2.09673\n",
      "warmup_momentum: 0.75807\n",
      "box: 5.60805\n",
      "cls: 0.24782\n",
      "dfl: 2.11552\n",
      "hsv_h: 0.01187\n",
      "hsv_s: 0.72791\n",
      "hsv_v: 0.38532\n",
      "degrees: 0.0\n",
      "translate: 0.07801\n",
      "scale: 0.37217\n",
      "shear: 0.0\n",
      "perspective: 0.0\n",
      "flipud: 0.0\n",
      "fliplr: 0.44092\n",
      "bgr: 0.0\n",
      "mosaic: 0.92949\n",
      "mixup: 0.0\n",
      "copy_paste: 0.0\n",
      "\n",
      "\u001b[34m\u001b[1mTuner: \u001b[0mStarting iteration 24/100 with hyperparameters: {'lr0': 0.00944, 'lrf': 0.01496, 'momentum': 0.8783, 'weight_decay': 0.00051, 'warmup_epochs': 2.03949, 'warmup_momentum': 0.74572, 'box': 6.12503, 'cls': 0.24821, 'dfl': 2.21609, 'hsv_h': 0.01187, 'hsv_s': 0.72791, 'hsv_v': 0.39994, 'degrees': 0.0, 'translate': 0.07754, 'scale': 0.38206, 'shear': 0.0, 'perspective': 0.0, 'flipud': 0.0, 'fliplr': 0.44092, 'bgr': 0.0, 'mosaic': 0.92814, 'mixup': 0.0, 'copy_paste': 0.0}\n",
      "Saved ..\\..\\runs\\tune8\\tune_scatter_plots.png\n",
      "Saved ..\\..\\runs\\tune8\\tune_fitness.png\n",
      "\n",
      "\u001b[34m\u001b[1mTuner: \u001b[0m24/100 iterations complete  (2875.80s)\n",
      "\u001b[34m\u001b[1mTuner: \u001b[0mResults saved to \u001b[1m..\\..\\runs\\tune8\u001b[0m\n",
      "\u001b[34m\u001b[1mTuner: \u001b[0mBest fitness=0.45404 observed at iteration 21\n",
      "\u001b[34m\u001b[1mTuner: \u001b[0mBest fitness metrics are {'metrics/precision(B)': 0.83115, 'metrics/recall(B)': 0.66146, 'metrics/mAP50(B)': 0.76616, 'metrics/mAP50-95(B)': 0.41936, 'val/box_loss': 1.12233, 'val/cls_loss': 0.45413, 'val/dfl_loss': 1.481, 'fitness': 0.45404}\n",
      "\u001b[34m\u001b[1mTuner: \u001b[0mBest fitness model is ..\\..\\runs\\yolov8s_hyp_finetune349\n",
      "\u001b[34m\u001b[1mTuner: \u001b[0mBest fitness hyperparameters are printed below.\n",
      "\n",
      "Printing '\u001b[1m\u001b[30m..\\..\\runs\\tune8\\best_hyperparameters.yaml\u001b[0m'\n",
      "\n",
      "lr0: 0.009\n",
      "lrf: 0.01464\n",
      "momentum: 0.86345\n",
      "weight_decay: 0.0005\n",
      "warmup_epochs: 2.09673\n",
      "warmup_momentum: 0.75807\n",
      "box: 5.60805\n",
      "cls: 0.24782\n",
      "dfl: 2.11552\n",
      "hsv_h: 0.01187\n",
      "hsv_s: 0.72791\n",
      "hsv_v: 0.38532\n",
      "degrees: 0.0\n",
      "translate: 0.07801\n",
      "scale: 0.37217\n",
      "shear: 0.0\n",
      "perspective: 0.0\n",
      "flipud: 0.0\n",
      "fliplr: 0.44092\n",
      "bgr: 0.0\n",
      "mosaic: 0.92949\n",
      "mixup: 0.0\n",
      "copy_paste: 0.0\n",
      "\n",
      "\u001b[34m\u001b[1mTuner: \u001b[0mStarting iteration 25/100 with hyperparameters: {'lr0': 0.00908, 'lrf': 0.01464, 'momentum': 0.86283, 'weight_decay': 0.0005, 'warmup_epochs': 2.0919, 'warmup_momentum': 0.75803, 'box': 5.61655, 'cls': 0.24659, 'dfl': 2.1259, 'hsv_h': 0.01184, 'hsv_s': 0.72544, 'hsv_v': 0.38555, 'degrees': 0.0, 'translate': 0.07787, 'scale': 0.37179, 'shear': 0.0, 'perspective': 0.0, 'flipud': 0.0, 'fliplr': 0.44092, 'bgr': 0.0, 'mosaic': 0.92557, 'mixup': 0.0, 'copy_paste': 0.0}\n",
      "Saved ..\\..\\runs\\tune8\\tune_scatter_plots.png\n",
      "Saved ..\\..\\runs\\tune8\\tune_fitness.png\n",
      "\n",
      "\u001b[34m\u001b[1mTuner: \u001b[0m25/100 iterations complete  (2992.34s)\n",
      "\u001b[34m\u001b[1mTuner: \u001b[0mResults saved to \u001b[1m..\\..\\runs\\tune8\u001b[0m\n",
      "\u001b[34m\u001b[1mTuner: \u001b[0mBest fitness=0.47877 observed at iteration 25\n",
      "\u001b[34m\u001b[1mTuner: \u001b[0mBest fitness metrics are {'metrics/precision(B)': 0.86008, 'metrics/recall(B)': 0.73634, 'metrics/mAP50(B)': 0.80454, 'metrics/mAP50-95(B)': 0.44257, 'val/box_loss': 1.10894, 'val/cls_loss': 0.41747, 'val/dfl_loss': 1.54514, 'fitness': 0.47877}\n",
      "\u001b[34m\u001b[1mTuner: \u001b[0mBest fitness model is ..\\..\\runs\\yolov8s_hyp_finetune353\n",
      "\u001b[34m\u001b[1mTuner: \u001b[0mBest fitness hyperparameters are printed below.\n",
      "\n",
      "Printing '\u001b[1m\u001b[30m..\\..\\runs\\tune8\\best_hyperparameters.yaml\u001b[0m'\n",
      "\n",
      "lr0: 0.00908\n",
      "lrf: 0.01464\n",
      "momentum: 0.86283\n",
      "weight_decay: 0.0005\n",
      "warmup_epochs: 2.0919\n",
      "warmup_momentum: 0.75803\n",
      "box: 5.61655\n",
      "cls: 0.24659\n",
      "dfl: 2.1259\n",
      "hsv_h: 0.01184\n",
      "hsv_s: 0.72544\n",
      "hsv_v: 0.38555\n",
      "degrees: 0.0\n",
      "translate: 0.07787\n",
      "scale: 0.37179\n",
      "shear: 0.0\n",
      "perspective: 0.0\n",
      "flipud: 0.0\n",
      "fliplr: 0.44092\n",
      "bgr: 0.0\n",
      "mosaic: 0.92557\n",
      "mixup: 0.0\n",
      "copy_paste: 0.0\n",
      "\n",
      "\u001b[34m\u001b[1mTuner: \u001b[0mStarting iteration 26/100 with hyperparameters: {'lr0': 0.00889, 'lrf': 0.01553, 'momentum': 0.86283, 'weight_decay': 0.00056, 'warmup_epochs': 2.0919, 'warmup_momentum': 0.78984, 'box': 5.61655, 'cls': 0.23618, 'dfl': 1.91516, 'hsv_h': 0.01168, 'hsv_s': 0.76024, 'hsv_v': 0.38519, 'degrees': 0.0, 'translate': 0.08581, 'scale': 0.37179, 'shear': 0.0, 'perspective': 0.0, 'flipud': 0.0, 'fliplr': 0.44092, 'bgr': 0.0, 'mosaic': 0.92557, 'mixup': 0.0, 'copy_paste': 0.0}\n",
      "Saved ..\\..\\runs\\tune8\\tune_scatter_plots.png\n",
      "Saved ..\\..\\runs\\tune8\\tune_fitness.png\n",
      "\n",
      "\u001b[34m\u001b[1mTuner: \u001b[0m26/100 iterations complete  (3107.90s)\n",
      "\u001b[34m\u001b[1mTuner: \u001b[0mResults saved to \u001b[1m..\\..\\runs\\tune8\u001b[0m\n",
      "\u001b[34m\u001b[1mTuner: \u001b[0mBest fitness=0.47877 observed at iteration 25\n",
      "\u001b[34m\u001b[1mTuner: \u001b[0mBest fitness metrics are {'metrics/precision(B)': 0.86008, 'metrics/recall(B)': 0.73634, 'metrics/mAP50(B)': 0.80454, 'metrics/mAP50-95(B)': 0.44257, 'val/box_loss': 1.10894, 'val/cls_loss': 0.41747, 'val/dfl_loss': 1.54514, 'fitness': 0.47877}\n",
      "\u001b[34m\u001b[1mTuner: \u001b[0mBest fitness model is ..\\..\\runs\\yolov8s_hyp_finetune353\n",
      "\u001b[34m\u001b[1mTuner: \u001b[0mBest fitness hyperparameters are printed below.\n",
      "\n",
      "Printing '\u001b[1m\u001b[30m..\\..\\runs\\tune8\\best_hyperparameters.yaml\u001b[0m'\n",
      "\n",
      "lr0: 0.00908\n",
      "lrf: 0.01464\n",
      "momentum: 0.86283\n",
      "weight_decay: 0.0005\n",
      "warmup_epochs: 2.0919\n",
      "warmup_momentum: 0.75803\n",
      "box: 5.61655\n",
      "cls: 0.24659\n",
      "dfl: 2.1259\n",
      "hsv_h: 0.01184\n",
      "hsv_s: 0.72544\n",
      "hsv_v: 0.38555\n",
      "degrees: 0.0\n",
      "translate: 0.07787\n",
      "scale: 0.37179\n",
      "shear: 0.0\n",
      "perspective: 0.0\n",
      "flipud: 0.0\n",
      "fliplr: 0.44092\n",
      "bgr: 0.0\n",
      "mosaic: 0.92557\n",
      "mixup: 0.0\n",
      "copy_paste: 0.0\n",
      "\n",
      "\u001b[34m\u001b[1mTuner: \u001b[0mStarting iteration 27/100 with hyperparameters: {'lr0': 0.00961, 'lrf': 0.01483, 'momentum': 0.84404, 'weight_decay': 0.0005, 'warmup_epochs': 1.8235, 'warmup_momentum': 0.93055, 'box': 4.60295, 'cls': 0.30423, 'dfl': 1.1425, 'hsv_h': 0.01425, 'hsv_s': 0.70782, 'hsv_v': 0.52494, 'degrees': 0.0, 'translate': 0.07206, 'scale': 0.53491, 'shear': 0.0, 'perspective': 0.0, 'flipud': 0.0, 'fliplr': 0.43138, 'bgr': 0.0, 'mosaic': 0.86127, 'mixup': 0.0, 'copy_paste': 0.0}\n",
      "Saved ..\\..\\runs\\tune8\\tune_scatter_plots.png\n",
      "Saved ..\\..\\runs\\tune8\\tune_fitness.png\n",
      "\n",
      "\u001b[34m\u001b[1mTuner: \u001b[0m27/100 iterations complete  (3223.70s)\n",
      "\u001b[34m\u001b[1mTuner: \u001b[0mResults saved to \u001b[1m..\\..\\runs\\tune8\u001b[0m\n",
      "\u001b[34m\u001b[1mTuner: \u001b[0mBest fitness=0.47877 observed at iteration 25\n",
      "\u001b[34m\u001b[1mTuner: \u001b[0mBest fitness metrics are {'metrics/precision(B)': 0.86008, 'metrics/recall(B)': 0.73634, 'metrics/mAP50(B)': 0.80454, 'metrics/mAP50-95(B)': 0.44257, 'val/box_loss': 1.10894, 'val/cls_loss': 0.41747, 'val/dfl_loss': 1.54514, 'fitness': 0.47877}\n",
      "\u001b[34m\u001b[1mTuner: \u001b[0mBest fitness model is ..\\..\\runs\\yolov8s_hyp_finetune353\n",
      "\u001b[34m\u001b[1mTuner: \u001b[0mBest fitness hyperparameters are printed below.\n",
      "\n",
      "Printing '\u001b[1m\u001b[30m..\\..\\runs\\tune8\\best_hyperparameters.yaml\u001b[0m'\n",
      "\n",
      "lr0: 0.00908\n",
      "lrf: 0.01464\n",
      "momentum: 0.86283\n",
      "weight_decay: 0.0005\n",
      "warmup_epochs: 2.0919\n",
      "warmup_momentum: 0.75803\n",
      "box: 5.61655\n",
      "cls: 0.24659\n",
      "dfl: 2.1259\n",
      "hsv_h: 0.01184\n",
      "hsv_s: 0.72544\n",
      "hsv_v: 0.38555\n",
      "degrees: 0.0\n",
      "translate: 0.07787\n",
      "scale: 0.37179\n",
      "shear: 0.0\n",
      "perspective: 0.0\n",
      "flipud: 0.0\n",
      "fliplr: 0.44092\n",
      "bgr: 0.0\n",
      "mosaic: 0.92557\n",
      "mixup: 0.0\n",
      "copy_paste: 0.0\n",
      "\n",
      "\u001b[34m\u001b[1mTuner: \u001b[0mStarting iteration 28/100 with hyperparameters: {'lr0': 0.00923, 'lrf': 0.0145, 'momentum': 0.86457, 'weight_decay': 0.0005, 'warmup_epochs': 2.10393, 'warmup_momentum': 0.75803, 'box': 5.61655, 'cls': 0.24748, 'dfl': 2.13231, 'hsv_h': 0.01199, 'hsv_s': 0.66731, 'hsv_v': 0.39103, 'degrees': 0.0, 'translate': 0.07682, 'scale': 0.36948, 'shear': 0.0, 'perspective': 0.0, 'flipud': 0.0, 'fliplr': 0.43779, 'bgr': 0.0, 'mosaic': 0.95269, 'mixup': 0.0, 'copy_paste': 0.0}\n",
      "Saved ..\\..\\runs\\tune8\\tune_scatter_plots.png\n",
      "Saved ..\\..\\runs\\tune8\\tune_fitness.png\n",
      "\n",
      "\u001b[34m\u001b[1mTuner: \u001b[0m28/100 iterations complete  (3326.92s)\n",
      "\u001b[34m\u001b[1mTuner: \u001b[0mResults saved to \u001b[1m..\\..\\runs\\tune8\u001b[0m\n",
      "\u001b[34m\u001b[1mTuner: \u001b[0mBest fitness=0.47877 observed at iteration 25\n",
      "\u001b[34m\u001b[1mTuner: \u001b[0mBest fitness metrics are {'metrics/precision(B)': 0.86008, 'metrics/recall(B)': 0.73634, 'metrics/mAP50(B)': 0.80454, 'metrics/mAP50-95(B)': 0.44257, 'val/box_loss': 1.10894, 'val/cls_loss': 0.41747, 'val/dfl_loss': 1.54514, 'fitness': 0.47877}\n",
      "\u001b[34m\u001b[1mTuner: \u001b[0mBest fitness model is ..\\..\\runs\\yolov8s_hyp_finetune353\n",
      "\u001b[34m\u001b[1mTuner: \u001b[0mBest fitness hyperparameters are printed below.\n",
      "\n",
      "Printing '\u001b[1m\u001b[30m..\\..\\runs\\tune8\\best_hyperparameters.yaml\u001b[0m'\n",
      "\n",
      "lr0: 0.00908\n",
      "lrf: 0.01464\n",
      "momentum: 0.86283\n",
      "weight_decay: 0.0005\n",
      "warmup_epochs: 2.0919\n",
      "warmup_momentum: 0.75803\n",
      "box: 5.61655\n",
      "cls: 0.24659\n",
      "dfl: 2.1259\n",
      "hsv_h: 0.01184\n",
      "hsv_s: 0.72544\n",
      "hsv_v: 0.38555\n",
      "degrees: 0.0\n",
      "translate: 0.07787\n",
      "scale: 0.37179\n",
      "shear: 0.0\n",
      "perspective: 0.0\n",
      "flipud: 0.0\n",
      "fliplr: 0.44092\n",
      "bgr: 0.0\n",
      "mosaic: 0.92557\n",
      "mixup: 0.0\n",
      "copy_paste: 0.0\n",
      "\n",
      "\u001b[34m\u001b[1mTuner: \u001b[0mStarting iteration 29/100 with hyperparameters: {'lr0': 0.01021, 'lrf': 0.01722, 'momentum': 0.78602, 'weight_decay': 0.0006, 'warmup_epochs': 1.84197, 'warmup_momentum': 0.87772, 'box': 5.61655, 'cls': 0.27898, 'dfl': 2.29936, 'hsv_h': 0.01207, 'hsv_s': 0.66843, 'hsv_v': 0.37015, 'degrees': 0.0, 'translate': 0.07996, 'scale': 0.39409, 'shear': 0.0, 'perspective': 0.0, 'flipud': 0.0, 'fliplr': 0.48286, 'bgr': 0.0, 'mosaic': 0.9158, 'mixup': 0.0, 'copy_paste': 0.0}\n",
      "Saved ..\\..\\runs\\tune8\\tune_scatter_plots.png\n",
      "Saved ..\\..\\runs\\tune8\\tune_fitness.png\n",
      "\n",
      "\u001b[34m\u001b[1mTuner: \u001b[0m29/100 iterations complete  (3432.37s)\n",
      "\u001b[34m\u001b[1mTuner: \u001b[0mResults saved to \u001b[1m..\\..\\runs\\tune8\u001b[0m\n",
      "\u001b[34m\u001b[1mTuner: \u001b[0mBest fitness=0.47877 observed at iteration 25\n",
      "\u001b[34m\u001b[1mTuner: \u001b[0mBest fitness metrics are {'metrics/precision(B)': 0.86008, 'metrics/recall(B)': 0.73634, 'metrics/mAP50(B)': 0.80454, 'metrics/mAP50-95(B)': 0.44257, 'val/box_loss': 1.10894, 'val/cls_loss': 0.41747, 'val/dfl_loss': 1.54514, 'fitness': 0.47877}\n",
      "\u001b[34m\u001b[1mTuner: \u001b[0mBest fitness model is ..\\..\\runs\\yolov8s_hyp_finetune353\n",
      "\u001b[34m\u001b[1mTuner: \u001b[0mBest fitness hyperparameters are printed below.\n",
      "\n",
      "Printing '\u001b[1m\u001b[30m..\\..\\runs\\tune8\\best_hyperparameters.yaml\u001b[0m'\n",
      "\n",
      "lr0: 0.00908\n",
      "lrf: 0.01464\n",
      "momentum: 0.86283\n",
      "weight_decay: 0.0005\n",
      "warmup_epochs: 2.0919\n",
      "warmup_momentum: 0.75803\n",
      "box: 5.61655\n",
      "cls: 0.24659\n",
      "dfl: 2.1259\n",
      "hsv_h: 0.01184\n",
      "hsv_s: 0.72544\n",
      "hsv_v: 0.38555\n",
      "degrees: 0.0\n",
      "translate: 0.07787\n",
      "scale: 0.37179\n",
      "shear: 0.0\n",
      "perspective: 0.0\n",
      "flipud: 0.0\n",
      "fliplr: 0.44092\n",
      "bgr: 0.0\n",
      "mosaic: 0.92557\n",
      "mixup: 0.0\n",
      "copy_paste: 0.0\n",
      "\n",
      "\u001b[34m\u001b[1mTuner: \u001b[0mStarting iteration 30/100 with hyperparameters: {'lr0': 0.01015, 'lrf': 0.01235, 'momentum': 0.81983, 'weight_decay': 0.00054, 'warmup_epochs': 2.30045, 'warmup_momentum': 0.79005, 'box': 5.45187, 'cls': 0.2704, 'dfl': 2.1259, 'hsv_h': 0.01184, 'hsv_s': 0.72998, 'hsv_v': 0.38242, 'degrees': 0.0, 'translate': 0.07123, 'scale': 0.37297, 'shear': 0.0, 'perspective': 0.0, 'flipud': 0.0, 'fliplr': 0.41255, 'bgr': 0.0, 'mosaic': 0.86147, 'mixup': 0.0, 'copy_paste': 0.0}\n",
      "Saved ..\\..\\runs\\tune8\\tune_scatter_plots.png\n",
      "Saved ..\\..\\runs\\tune8\\tune_fitness.png\n",
      "\n",
      "\u001b[34m\u001b[1mTuner: \u001b[0m30/100 iterations complete  (3535.09s)\n",
      "\u001b[34m\u001b[1mTuner: \u001b[0mResults saved to \u001b[1m..\\..\\runs\\tune8\u001b[0m\n",
      "\u001b[34m\u001b[1mTuner: \u001b[0mBest fitness=0.47877 observed at iteration 25\n",
      "\u001b[34m\u001b[1mTuner: \u001b[0mBest fitness metrics are {'metrics/precision(B)': 0.86008, 'metrics/recall(B)': 0.73634, 'metrics/mAP50(B)': 0.80454, 'metrics/mAP50-95(B)': 0.44257, 'val/box_loss': 1.10894, 'val/cls_loss': 0.41747, 'val/dfl_loss': 1.54514, 'fitness': 0.47877}\n",
      "\u001b[34m\u001b[1mTuner: \u001b[0mBest fitness model is ..\\..\\runs\\yolov8s_hyp_finetune353\n",
      "\u001b[34m\u001b[1mTuner: \u001b[0mBest fitness hyperparameters are printed below.\n",
      "\n",
      "Printing '\u001b[1m\u001b[30m..\\..\\runs\\tune8\\best_hyperparameters.yaml\u001b[0m'\n",
      "\n",
      "lr0: 0.00908\n",
      "lrf: 0.01464\n",
      "momentum: 0.86283\n",
      "weight_decay: 0.0005\n",
      "warmup_epochs: 2.0919\n",
      "warmup_momentum: 0.75803\n",
      "box: 5.61655\n",
      "cls: 0.24659\n",
      "dfl: 2.1259\n",
      "hsv_h: 0.01184\n",
      "hsv_s: 0.72544\n",
      "hsv_v: 0.38555\n",
      "degrees: 0.0\n",
      "translate: 0.07787\n",
      "scale: 0.37179\n",
      "shear: 0.0\n",
      "perspective: 0.0\n",
      "flipud: 0.0\n",
      "fliplr: 0.44092\n",
      "bgr: 0.0\n",
      "mosaic: 0.92557\n",
      "mixup: 0.0\n",
      "copy_paste: 0.0\n",
      "\n",
      "\u001b[34m\u001b[1mTuner: \u001b[0mStarting iteration 31/100 with hyperparameters: {'lr0': 0.00894, 'lrf': 0.0142, 'momentum': 0.86621, 'weight_decay': 0.00051, 'warmup_epochs': 2.10153, 'warmup_momentum': 0.77213, 'box': 5.63579, 'cls': 0.24659, 'dfl': 2.21618, 'hsv_h': 0.01087, 'hsv_s': 0.72975, 'hsv_v': 0.37475, 'degrees': 0.0, 'translate': 0.07787, 'scale': 0.38531, 'shear': 0.0, 'perspective': 0.0, 'flipud': 0.0, 'fliplr': 0.44081, 'bgr': 0.0, 'mosaic': 0.88231, 'mixup': 0.0, 'copy_paste': 0.0}\n",
      "Saved ..\\..\\runs\\tune8\\tune_scatter_plots.png\n",
      "Saved ..\\..\\runs\\tune8\\tune_fitness.png\n",
      "\n",
      "\u001b[34m\u001b[1mTuner: \u001b[0m31/100 iterations complete  (3637.46s)\n",
      "\u001b[34m\u001b[1mTuner: \u001b[0mResults saved to \u001b[1m..\\..\\runs\\tune8\u001b[0m\n",
      "\u001b[34m\u001b[1mTuner: \u001b[0mBest fitness=0.47877 observed at iteration 25\n",
      "\u001b[34m\u001b[1mTuner: \u001b[0mBest fitness metrics are {'metrics/precision(B)': 0.86008, 'metrics/recall(B)': 0.73634, 'metrics/mAP50(B)': 0.80454, 'metrics/mAP50-95(B)': 0.44257, 'val/box_loss': 1.10894, 'val/cls_loss': 0.41747, 'val/dfl_loss': 1.54514, 'fitness': 0.47877}\n",
      "\u001b[34m\u001b[1mTuner: \u001b[0mBest fitness model is ..\\..\\runs\\yolov8s_hyp_finetune353\n",
      "\u001b[34m\u001b[1mTuner: \u001b[0mBest fitness hyperparameters are printed below.\n",
      "\n",
      "Printing '\u001b[1m\u001b[30m..\\..\\runs\\tune8\\best_hyperparameters.yaml\u001b[0m'\n",
      "\n",
      "lr0: 0.00908\n",
      "lrf: 0.01464\n",
      "momentum: 0.86283\n",
      "weight_decay: 0.0005\n",
      "warmup_epochs: 2.0919\n",
      "warmup_momentum: 0.75803\n",
      "box: 5.61655\n",
      "cls: 0.24659\n",
      "dfl: 2.1259\n",
      "hsv_h: 0.01184\n",
      "hsv_s: 0.72544\n",
      "hsv_v: 0.38555\n",
      "degrees: 0.0\n",
      "translate: 0.07787\n",
      "scale: 0.37179\n",
      "shear: 0.0\n",
      "perspective: 0.0\n",
      "flipud: 0.0\n",
      "fliplr: 0.44092\n",
      "bgr: 0.0\n",
      "mosaic: 0.92557\n",
      "mixup: 0.0\n",
      "copy_paste: 0.0\n",
      "\n",
      "\u001b[34m\u001b[1mTuner: \u001b[0mStarting iteration 32/100 with hyperparameters: {'lr0': 0.00908, 'lrf': 0.01176, 'momentum': 0.86283, 'weight_decay': 0.0005, 'warmup_epochs': 1.38351, 'warmup_momentum': 0.82289, 'box': 5.90218, 'cls': 0.24659, 'dfl': 1.96853, 'hsv_h': 0.01158, 'hsv_s': 0.70513, 'hsv_v': 0.38555, 'degrees': 0.0, 'translate': 0.06925, 'scale': 0.37179, 'shear': 0.0, 'perspective': 0.0, 'flipud': 0.0, 'fliplr': 0.44092, 'bgr': 0.0, 'mosaic': 0.94375, 'mixup': 0.0, 'copy_paste': 0.0}\n",
      "Saved ..\\..\\runs\\tune8\\tune_scatter_plots.png\n",
      "Saved ..\\..\\runs\\tune8\\tune_fitness.png\n",
      "\n",
      "\u001b[34m\u001b[1mTuner: \u001b[0m32/100 iterations complete  (3740.16s)\n",
      "\u001b[34m\u001b[1mTuner: \u001b[0mResults saved to \u001b[1m..\\..\\runs\\tune8\u001b[0m\n",
      "\u001b[34m\u001b[1mTuner: \u001b[0mBest fitness=0.47877 observed at iteration 25\n",
      "\u001b[34m\u001b[1mTuner: \u001b[0mBest fitness metrics are {'metrics/precision(B)': 0.86008, 'metrics/recall(B)': 0.73634, 'metrics/mAP50(B)': 0.80454, 'metrics/mAP50-95(B)': 0.44257, 'val/box_loss': 1.10894, 'val/cls_loss': 0.41747, 'val/dfl_loss': 1.54514, 'fitness': 0.47877}\n",
      "\u001b[34m\u001b[1mTuner: \u001b[0mBest fitness model is ..\\..\\runs\\yolov8s_hyp_finetune353\n",
      "\u001b[34m\u001b[1mTuner: \u001b[0mBest fitness hyperparameters are printed below.\n",
      "\n",
      "Printing '\u001b[1m\u001b[30m..\\..\\runs\\tune8\\best_hyperparameters.yaml\u001b[0m'\n",
      "\n",
      "lr0: 0.00908\n",
      "lrf: 0.01464\n",
      "momentum: 0.86283\n",
      "weight_decay: 0.0005\n",
      "warmup_epochs: 2.0919\n",
      "warmup_momentum: 0.75803\n",
      "box: 5.61655\n",
      "cls: 0.24659\n",
      "dfl: 2.1259\n",
      "hsv_h: 0.01184\n",
      "hsv_s: 0.72544\n",
      "hsv_v: 0.38555\n",
      "degrees: 0.0\n",
      "translate: 0.07787\n",
      "scale: 0.37179\n",
      "shear: 0.0\n",
      "perspective: 0.0\n",
      "flipud: 0.0\n",
      "fliplr: 0.44092\n",
      "bgr: 0.0\n",
      "mosaic: 0.92557\n",
      "mixup: 0.0\n",
      "copy_paste: 0.0\n",
      "\n",
      "\u001b[34m\u001b[1mTuner: \u001b[0mStarting iteration 33/100 with hyperparameters: {'lr0': 0.00743, 'lrf': 0.01096, 'momentum': 0.75597, 'weight_decay': 0.00054, 'warmup_epochs': 1.69124, 'warmup_momentum': 0.77297, 'box': 6.29731, 'cls': 0.28523, 'dfl': 1.45975, 'hsv_h': 0.01158, 'hsv_s': 0.72279, 'hsv_v': 0.31643, 'degrees': 0.0, 'translate': 0.06197, 'scale': 0.37179, 'shear': 0.0, 'perspective': 0.0, 'flipud': 0.0, 'fliplr': 0.33518, 'bgr': 0.0, 'mosaic': 1.0, 'mixup': 0.0, 'copy_paste': 0.0}\n",
      "Saved ..\\..\\runs\\tune8\\tune_scatter_plots.png\n",
      "Saved ..\\..\\runs\\tune8\\tune_fitness.png\n",
      "\n",
      "\u001b[34m\u001b[1mTuner: \u001b[0m33/100 iterations complete  (3842.82s)\n",
      "\u001b[34m\u001b[1mTuner: \u001b[0mResults saved to \u001b[1m..\\..\\runs\\tune8\u001b[0m\n",
      "\u001b[34m\u001b[1mTuner: \u001b[0mBest fitness=0.47877 observed at iteration 25\n",
      "\u001b[34m\u001b[1mTuner: \u001b[0mBest fitness metrics are {'metrics/precision(B)': 0.86008, 'metrics/recall(B)': 0.73634, 'metrics/mAP50(B)': 0.80454, 'metrics/mAP50-95(B)': 0.44257, 'val/box_loss': 1.10894, 'val/cls_loss': 0.41747, 'val/dfl_loss': 1.54514, 'fitness': 0.47877}\n",
      "\u001b[34m\u001b[1mTuner: \u001b[0mBest fitness model is ..\\..\\runs\\yolov8s_hyp_finetune353\n",
      "\u001b[34m\u001b[1mTuner: \u001b[0mBest fitness hyperparameters are printed below.\n",
      "\n",
      "Printing '\u001b[1m\u001b[30m..\\..\\runs\\tune8\\best_hyperparameters.yaml\u001b[0m'\n",
      "\n",
      "lr0: 0.00908\n",
      "lrf: 0.01464\n",
      "momentum: 0.86283\n",
      "weight_decay: 0.0005\n",
      "warmup_epochs: 2.0919\n",
      "warmup_momentum: 0.75803\n",
      "box: 5.61655\n",
      "cls: 0.24659\n",
      "dfl: 2.1259\n",
      "hsv_h: 0.01184\n",
      "hsv_s: 0.72544\n",
      "hsv_v: 0.38555\n",
      "degrees: 0.0\n",
      "translate: 0.07787\n",
      "scale: 0.37179\n",
      "shear: 0.0\n",
      "perspective: 0.0\n",
      "flipud: 0.0\n",
      "fliplr: 0.44092\n",
      "bgr: 0.0\n",
      "mosaic: 0.92557\n",
      "mixup: 0.0\n",
      "copy_paste: 0.0\n",
      "\n",
      "\u001b[34m\u001b[1mTuner: \u001b[0mStarting iteration 34/100 with hyperparameters: {'lr0': 0.00758, 'lrf': 0.01331, 'momentum': 0.89661, 'weight_decay': 0.0005, 'warmup_epochs': 2.41298, 'warmup_momentum': 0.75803, 'box': 6.31597, 'cls': 0.24659, 'dfl': 2.26106, 'hsv_h': 0.01184, 'hsv_s': 0.70785, 'hsv_v': 0.38555, 'degrees': 0.0, 'translate': 0.07787, 'scale': 0.37179, 'shear': 0.0, 'perspective': 0.0, 'flipud': 0.0, 'fliplr': 0.39515, 'bgr': 0.0, 'mosaic': 0.91033, 'mixup': 0.0, 'copy_paste': 0.0}\n",
      "Saved ..\\..\\runs\\tune8\\tune_scatter_plots.png\n",
      "Saved ..\\..\\runs\\tune8\\tune_fitness.png\n",
      "\n",
      "\u001b[34m\u001b[1mTuner: \u001b[0m34/100 iterations complete  (3945.12s)\n",
      "\u001b[34m\u001b[1mTuner: \u001b[0mResults saved to \u001b[1m..\\..\\runs\\tune8\u001b[0m\n",
      "\u001b[34m\u001b[1mTuner: \u001b[0mBest fitness=0.47877 observed at iteration 25\n",
      "\u001b[34m\u001b[1mTuner: \u001b[0mBest fitness metrics are {'metrics/precision(B)': 0.86008, 'metrics/recall(B)': 0.73634, 'metrics/mAP50(B)': 0.80454, 'metrics/mAP50-95(B)': 0.44257, 'val/box_loss': 1.10894, 'val/cls_loss': 0.41747, 'val/dfl_loss': 1.54514, 'fitness': 0.47877}\n",
      "\u001b[34m\u001b[1mTuner: \u001b[0mBest fitness model is ..\\..\\runs\\yolov8s_hyp_finetune353\n",
      "\u001b[34m\u001b[1mTuner: \u001b[0mBest fitness hyperparameters are printed below.\n",
      "\n",
      "Printing '\u001b[1m\u001b[30m..\\..\\runs\\tune8\\best_hyperparameters.yaml\u001b[0m'\n",
      "\n",
      "lr0: 0.00908\n",
      "lrf: 0.01464\n",
      "momentum: 0.86283\n",
      "weight_decay: 0.0005\n",
      "warmup_epochs: 2.0919\n",
      "warmup_momentum: 0.75803\n",
      "box: 5.61655\n",
      "cls: 0.24659\n",
      "dfl: 2.1259\n",
      "hsv_h: 0.01184\n",
      "hsv_s: 0.72544\n",
      "hsv_v: 0.38555\n",
      "degrees: 0.0\n",
      "translate: 0.07787\n",
      "scale: 0.37179\n",
      "shear: 0.0\n",
      "perspective: 0.0\n",
      "flipud: 0.0\n",
      "fliplr: 0.44092\n",
      "bgr: 0.0\n",
      "mosaic: 0.92557\n",
      "mixup: 0.0\n",
      "copy_paste: 0.0\n",
      "\n",
      "\u001b[34m\u001b[1mTuner: \u001b[0mStarting iteration 35/100 with hyperparameters: {'lr0': 0.00804, 'lrf': 0.01439, 'momentum': 0.92283, 'weight_decay': 0.0005, 'warmup_epochs': 2.72257, 'warmup_momentum': 0.80203, 'box': 6.56619, 'cls': 0.2399, 'dfl': 2.26106, 'hsv_h': 0.01169, 'hsv_s': 0.77053, 'hsv_v': 0.38555, 'degrees': 0.0, 'translate': 0.07509, 'scale': 0.37179, 'shear': 0.0, 'perspective': 0.0, 'flipud': 0.0, 'fliplr': 0.39515, 'bgr': 0.0, 'mosaic': 0.91033, 'mixup': 0.0, 'copy_paste': 0.0}\n",
      "Saved ..\\..\\runs\\tune8\\tune_scatter_plots.png\n",
      "Saved ..\\..\\runs\\tune8\\tune_fitness.png\n",
      "\n",
      "\u001b[34m\u001b[1mTuner: \u001b[0m35/100 iterations complete  (4047.12s)\n",
      "\u001b[34m\u001b[1mTuner: \u001b[0mResults saved to \u001b[1m..\\..\\runs\\tune8\u001b[0m\n",
      "\u001b[34m\u001b[1mTuner: \u001b[0mBest fitness=0.47877 observed at iteration 25\n",
      "\u001b[34m\u001b[1mTuner: \u001b[0mBest fitness metrics are {'metrics/precision(B)': 0.86008, 'metrics/recall(B)': 0.73634, 'metrics/mAP50(B)': 0.80454, 'metrics/mAP50-95(B)': 0.44257, 'val/box_loss': 1.10894, 'val/cls_loss': 0.41747, 'val/dfl_loss': 1.54514, 'fitness': 0.47877}\n",
      "\u001b[34m\u001b[1mTuner: \u001b[0mBest fitness model is ..\\..\\runs\\yolov8s_hyp_finetune353\n",
      "\u001b[34m\u001b[1mTuner: \u001b[0mBest fitness hyperparameters are printed below.\n",
      "\n",
      "Printing '\u001b[1m\u001b[30m..\\..\\runs\\tune8\\best_hyperparameters.yaml\u001b[0m'\n",
      "\n",
      "lr0: 0.00908\n",
      "lrf: 0.01464\n",
      "momentum: 0.86283\n",
      "weight_decay: 0.0005\n",
      "warmup_epochs: 2.0919\n",
      "warmup_momentum: 0.75803\n",
      "box: 5.61655\n",
      "cls: 0.24659\n",
      "dfl: 2.1259\n",
      "hsv_h: 0.01184\n",
      "hsv_s: 0.72544\n",
      "hsv_v: 0.38555\n",
      "degrees: 0.0\n",
      "translate: 0.07787\n",
      "scale: 0.37179\n",
      "shear: 0.0\n",
      "perspective: 0.0\n",
      "flipud: 0.0\n",
      "fliplr: 0.44092\n",
      "bgr: 0.0\n",
      "mosaic: 0.92557\n",
      "mixup: 0.0\n",
      "copy_paste: 0.0\n",
      "\n",
      "\u001b[34m\u001b[1mTuner: \u001b[0mStarting iteration 36/100 with hyperparameters: {'lr0': 0.00881, 'lrf': 0.01182, 'momentum': 0.71271, 'weight_decay': 0.00053, 'warmup_epochs': 1.70693, 'warmup_momentum': 0.8551, 'box': 5.2672, 'cls': 0.27533, 'dfl': 1.45975, 'hsv_h': 0.01158, 'hsv_s': 0.67513, 'hsv_v': 0.26033, 'degrees': 0.0, 'translate': 0.06656, 'scale': 0.42699, 'shear': 0.0, 'perspective': 0.0, 'flipud': 0.0, 'fliplr': 0.3799, 'bgr': 0.0, 'mosaic': 0.86801, 'mixup': 0.0, 'copy_paste': 0.0}\n",
      "Saved ..\\..\\runs\\tune8\\tune_scatter_plots.png\n",
      "Saved ..\\..\\runs\\tune8\\tune_fitness.png\n",
      "\n",
      "\u001b[34m\u001b[1mTuner: \u001b[0m36/100 iterations complete  (4149.02s)\n",
      "\u001b[34m\u001b[1mTuner: \u001b[0mResults saved to \u001b[1m..\\..\\runs\\tune8\u001b[0m\n",
      "\u001b[34m\u001b[1mTuner: \u001b[0mBest fitness=0.47877 observed at iteration 25\n",
      "\u001b[34m\u001b[1mTuner: \u001b[0mBest fitness metrics are {'metrics/precision(B)': 0.86008, 'metrics/recall(B)': 0.73634, 'metrics/mAP50(B)': 0.80454, 'metrics/mAP50-95(B)': 0.44257, 'val/box_loss': 1.10894, 'val/cls_loss': 0.41747, 'val/dfl_loss': 1.54514, 'fitness': 0.47877}\n",
      "\u001b[34m\u001b[1mTuner: \u001b[0mBest fitness model is ..\\..\\runs\\yolov8s_hyp_finetune353\n",
      "\u001b[34m\u001b[1mTuner: \u001b[0mBest fitness hyperparameters are printed below.\n",
      "\n",
      "Printing '\u001b[1m\u001b[30m..\\..\\runs\\tune8\\best_hyperparameters.yaml\u001b[0m'\n",
      "\n",
      "lr0: 0.00908\n",
      "lrf: 0.01464\n",
      "momentum: 0.86283\n",
      "weight_decay: 0.0005\n",
      "warmup_epochs: 2.0919\n",
      "warmup_momentum: 0.75803\n",
      "box: 5.61655\n",
      "cls: 0.24659\n",
      "dfl: 2.1259\n",
      "hsv_h: 0.01184\n",
      "hsv_s: 0.72544\n",
      "hsv_v: 0.38555\n",
      "degrees: 0.0\n",
      "translate: 0.07787\n",
      "scale: 0.37179\n",
      "shear: 0.0\n",
      "perspective: 0.0\n",
      "flipud: 0.0\n",
      "fliplr: 0.44092\n",
      "bgr: 0.0\n",
      "mosaic: 0.92557\n",
      "mixup: 0.0\n",
      "copy_paste: 0.0\n",
      "\n",
      "\u001b[34m\u001b[1mTuner: \u001b[0mStarting iteration 37/100 with hyperparameters: {'lr0': 0.00965, 'lrf': 0.01626, 'momentum': 0.8555, 'weight_decay': 0.00054, 'warmup_epochs': 2.23307, 'warmup_momentum': 0.79123, 'box': 5.52964, 'cls': 0.24659, 'dfl': 2.08371, 'hsv_h': 0.01171, 'hsv_s': 0.6199, 'hsv_v': 0.35674, 'degrees': 0.0, 'translate': 0.07787, 'scale': 0.37179, 'shear': 0.0, 'perspective': 0.0, 'flipud': 0.0, 'fliplr': 0.30109, 'bgr': 0.0, 'mosaic': 0.92557, 'mixup': 0.0, 'copy_paste': 0.0}\n",
      "Saved ..\\..\\runs\\tune8\\tune_scatter_plots.png\n",
      "Saved ..\\..\\runs\\tune8\\tune_fitness.png\n",
      "\n",
      "\u001b[34m\u001b[1mTuner: \u001b[0m37/100 iterations complete  (4251.05s)\n",
      "\u001b[34m\u001b[1mTuner: \u001b[0mResults saved to \u001b[1m..\\..\\runs\\tune8\u001b[0m\n",
      "\u001b[34m\u001b[1mTuner: \u001b[0mBest fitness=0.47877 observed at iteration 25\n",
      "\u001b[34m\u001b[1mTuner: \u001b[0mBest fitness metrics are {'metrics/precision(B)': 0.86008, 'metrics/recall(B)': 0.73634, 'metrics/mAP50(B)': 0.80454, 'metrics/mAP50-95(B)': 0.44257, 'val/box_loss': 1.10894, 'val/cls_loss': 0.41747, 'val/dfl_loss': 1.54514, 'fitness': 0.47877}\n",
      "\u001b[34m\u001b[1mTuner: \u001b[0mBest fitness model is ..\\..\\runs\\yolov8s_hyp_finetune353\n",
      "\u001b[34m\u001b[1mTuner: \u001b[0mBest fitness hyperparameters are printed below.\n",
      "\n",
      "Printing '\u001b[1m\u001b[30m..\\..\\runs\\tune8\\best_hyperparameters.yaml\u001b[0m'\n",
      "\n",
      "lr0: 0.00908\n",
      "lrf: 0.01464\n",
      "momentum: 0.86283\n",
      "weight_decay: 0.0005\n",
      "warmup_epochs: 2.0919\n",
      "warmup_momentum: 0.75803\n",
      "box: 5.61655\n",
      "cls: 0.24659\n",
      "dfl: 2.1259\n",
      "hsv_h: 0.01184\n",
      "hsv_s: 0.72544\n",
      "hsv_v: 0.38555\n",
      "degrees: 0.0\n",
      "translate: 0.07787\n",
      "scale: 0.37179\n",
      "shear: 0.0\n",
      "perspective: 0.0\n",
      "flipud: 0.0\n",
      "fliplr: 0.44092\n",
      "bgr: 0.0\n",
      "mosaic: 0.92557\n",
      "mixup: 0.0\n",
      "copy_paste: 0.0\n",
      "\n",
      "\u001b[34m\u001b[1mTuner: \u001b[0mStarting iteration 38/100 with hyperparameters: {'lr0': 0.00902, 'lrf': 0.01412, 'momentum': 0.85556, 'weight_decay': 0.00046, 'warmup_epochs': 2.29598, 'warmup_momentum': 0.74185, 'box': 6.75976, 'cls': 0.26104, 'dfl': 1.976, 'hsv_h': 0.01184, 'hsv_s': 0.63454, 'hsv_v': 0.29753, 'degrees': 0.0, 'translate': 0.07929, 'scale': 0.38758, 'shear': 0.0, 'perspective': 0.0, 'flipud': 0.0, 'fliplr': 0.44145, 'bgr': 0.0, 'mosaic': 0.93412, 'mixup': 0.0, 'copy_paste': 0.0}\n",
      "Saved ..\\..\\runs\\tune8\\tune_scatter_plots.png\n",
      "Saved ..\\..\\runs\\tune8\\tune_fitness.png\n",
      "\n",
      "\u001b[34m\u001b[1mTuner: \u001b[0m38/100 iterations complete  (4353.08s)\n",
      "\u001b[34m\u001b[1mTuner: \u001b[0mResults saved to \u001b[1m..\\..\\runs\\tune8\u001b[0m\n",
      "\u001b[34m\u001b[1mTuner: \u001b[0mBest fitness=0.47877 observed at iteration 25\n",
      "\u001b[34m\u001b[1mTuner: \u001b[0mBest fitness metrics are {'metrics/precision(B)': 0.86008, 'metrics/recall(B)': 0.73634, 'metrics/mAP50(B)': 0.80454, 'metrics/mAP50-95(B)': 0.44257, 'val/box_loss': 1.10894, 'val/cls_loss': 0.41747, 'val/dfl_loss': 1.54514, 'fitness': 0.47877}\n",
      "\u001b[34m\u001b[1mTuner: \u001b[0mBest fitness model is ..\\..\\runs\\yolov8s_hyp_finetune353\n",
      "\u001b[34m\u001b[1mTuner: \u001b[0mBest fitness hyperparameters are printed below.\n",
      "\n",
      "Printing '\u001b[1m\u001b[30m..\\..\\runs\\tune8\\best_hyperparameters.yaml\u001b[0m'\n",
      "\n",
      "lr0: 0.00908\n",
      "lrf: 0.01464\n",
      "momentum: 0.86283\n",
      "weight_decay: 0.0005\n",
      "warmup_epochs: 2.0919\n",
      "warmup_momentum: 0.75803\n",
      "box: 5.61655\n",
      "cls: 0.24659\n",
      "dfl: 2.1259\n",
      "hsv_h: 0.01184\n",
      "hsv_s: 0.72544\n",
      "hsv_v: 0.38555\n",
      "degrees: 0.0\n",
      "translate: 0.07787\n",
      "scale: 0.37179\n",
      "shear: 0.0\n",
      "perspective: 0.0\n",
      "flipud: 0.0\n",
      "fliplr: 0.44092\n",
      "bgr: 0.0\n",
      "mosaic: 0.92557\n",
      "mixup: 0.0\n",
      "copy_paste: 0.0\n",
      "\n",
      "\u001b[34m\u001b[1mTuner: \u001b[0mStarting iteration 39/100 with hyperparameters: {'lr0': 0.00752, 'lrf': 0.01321, 'momentum': 0.89578, 'weight_decay': 0.0005, 'warmup_epochs': 2.43699, 'warmup_momentum': 0.75632, 'box': 6.38988, 'cls': 0.24645, 'dfl': 2.25197, 'hsv_h': 0.01184, 'hsv_s': 0.70334, 'hsv_v': 0.38555, 'degrees': 0.0, 'translate': 0.07834, 'scale': 0.37179, 'shear': 0.0, 'perspective': 0.0, 'flipud': 0.0, 'fliplr': 0.39169, 'bgr': 0.0, 'mosaic': 0.91503, 'mixup': 0.0, 'copy_paste': 0.0}\n",
      "Saved ..\\..\\runs\\tune8\\tune_scatter_plots.png\n",
      "Saved ..\\..\\runs\\tune8\\tune_fitness.png\n",
      "\n",
      "\u001b[34m\u001b[1mTuner: \u001b[0m39/100 iterations complete  (4455.40s)\n",
      "\u001b[34m\u001b[1mTuner: \u001b[0mResults saved to \u001b[1m..\\..\\runs\\tune8\u001b[0m\n",
      "\u001b[34m\u001b[1mTuner: \u001b[0mBest fitness=0.48541 observed at iteration 39\n",
      "\u001b[34m\u001b[1mTuner: \u001b[0mBest fitness metrics are {'metrics/precision(B)': 0.81154, 'metrics/recall(B)': 0.74479, 'metrics/mAP50(B)': 0.79064, 'metrics/mAP50-95(B)': 0.4515, 'val/box_loss': 1.24578, 'val/cls_loss': 0.41887, 'val/dfl_loss': 1.57657, 'fitness': 0.48541}\n",
      "\u001b[34m\u001b[1mTuner: \u001b[0mBest fitness model is ..\\..\\runs\\yolov8s_hyp_finetune367\n",
      "\u001b[34m\u001b[1mTuner: \u001b[0mBest fitness hyperparameters are printed below.\n",
      "\n",
      "Printing '\u001b[1m\u001b[30m..\\..\\runs\\tune8\\best_hyperparameters.yaml\u001b[0m'\n",
      "\n",
      "lr0: 0.00752\n",
      "lrf: 0.01321\n",
      "momentum: 0.89578\n",
      "weight_decay: 0.0005\n",
      "warmup_epochs: 2.43699\n",
      "warmup_momentum: 0.75632\n",
      "box: 6.38988\n",
      "cls: 0.24645\n",
      "dfl: 2.25197\n",
      "hsv_h: 0.01184\n",
      "hsv_s: 0.70334\n",
      "hsv_v: 0.38555\n",
      "degrees: 0.0\n",
      "translate: 0.07834\n",
      "scale: 0.37179\n",
      "shear: 0.0\n",
      "perspective: 0.0\n",
      "flipud: 0.0\n",
      "fliplr: 0.39169\n",
      "bgr: 0.0\n",
      "mosaic: 0.91503\n",
      "mixup: 0.0\n",
      "copy_paste: 0.0\n",
      "\n",
      "\u001b[34m\u001b[1mTuner: \u001b[0mStarting iteration 40/100 with hyperparameters: {'lr0': 0.00765, 'lrf': 0.01319, 'momentum': 0.89699, 'weight_decay': 0.00048, 'warmup_epochs': 2.47715, 'warmup_momentum': 0.75194, 'box': 6.38988, 'cls': 0.25607, 'dfl': 2.25197, 'hsv_h': 0.01142, 'hsv_s': 0.69184, 'hsv_v': 0.40255, 'degrees': 0.0, 'translate': 0.07756, 'scale': 0.37179, 'shear': 0.0, 'perspective': 0.0, 'flipud': 0.0, 'fliplr': 0.38602, 'bgr': 0.0, 'mosaic': 0.92276, 'mixup': 0.0, 'copy_paste': 0.0}\n",
      "Saved ..\\..\\runs\\tune8\\tune_scatter_plots.png\n",
      "Saved ..\\..\\runs\\tune8\\tune_fitness.png\n",
      "\n",
      "\u001b[34m\u001b[1mTuner: \u001b[0m40/100 iterations complete  (4557.60s)\n",
      "\u001b[34m\u001b[1mTuner: \u001b[0mResults saved to \u001b[1m..\\..\\runs\\tune8\u001b[0m\n",
      "\u001b[34m\u001b[1mTuner: \u001b[0mBest fitness=0.48541 observed at iteration 39\n",
      "\u001b[34m\u001b[1mTuner: \u001b[0mBest fitness metrics are {'metrics/precision(B)': 0.81154, 'metrics/recall(B)': 0.74479, 'metrics/mAP50(B)': 0.79064, 'metrics/mAP50-95(B)': 0.4515, 'val/box_loss': 1.24578, 'val/cls_loss': 0.41887, 'val/dfl_loss': 1.57657, 'fitness': 0.48541}\n",
      "\u001b[34m\u001b[1mTuner: \u001b[0mBest fitness model is ..\\..\\runs\\yolov8s_hyp_finetune367\n",
      "\u001b[34m\u001b[1mTuner: \u001b[0mBest fitness hyperparameters are printed below.\n",
      "\n",
      "Printing '\u001b[1m\u001b[30m..\\..\\runs\\tune8\\best_hyperparameters.yaml\u001b[0m'\n",
      "\n",
      "lr0: 0.00752\n",
      "lrf: 0.01321\n",
      "momentum: 0.89578\n",
      "weight_decay: 0.0005\n",
      "warmup_epochs: 2.43699\n",
      "warmup_momentum: 0.75632\n",
      "box: 6.38988\n",
      "cls: 0.24645\n",
      "dfl: 2.25197\n",
      "hsv_h: 0.01184\n",
      "hsv_s: 0.70334\n",
      "hsv_v: 0.38555\n",
      "degrees: 0.0\n",
      "translate: 0.07834\n",
      "scale: 0.37179\n",
      "shear: 0.0\n",
      "perspective: 0.0\n",
      "flipud: 0.0\n",
      "fliplr: 0.39169\n",
      "bgr: 0.0\n",
      "mosaic: 0.91503\n",
      "mixup: 0.0\n",
      "copy_paste: 0.0\n",
      "\n",
      "\u001b[34m\u001b[1mTuner: \u001b[0mStarting iteration 41/100 with hyperparameters: {'lr0': 0.00815, 'lrf': 0.01285, 'momentum': 0.8894, 'weight_decay': 0.0005, 'warmup_epochs': 2.27786, 'warmup_momentum': 0.7126, 'box': 6.61693, 'cls': 0.26009, 'dfl': 2.25197, 'hsv_h': 0.01059, 'hsv_s': 0.76726, 'hsv_v': 0.39082, 'degrees': 0.0, 'translate': 0.09139, 'scale': 0.3244, 'shear': 0.0, 'perspective': 0.0, 'flipud': 0.0, 'fliplr': 0.39655, 'bgr': 0.0, 'mosaic': 0.91503, 'mixup': 0.0, 'copy_paste': 0.0}\n",
      "Saved ..\\..\\runs\\tune8\\tune_scatter_plots.png\n",
      "Saved ..\\..\\runs\\tune8\\tune_fitness.png\n",
      "\n",
      "\u001b[34m\u001b[1mTuner: \u001b[0m41/100 iterations complete  (4660.08s)\n",
      "\u001b[34m\u001b[1mTuner: \u001b[0mResults saved to \u001b[1m..\\..\\runs\\tune8\u001b[0m\n",
      "\u001b[34m\u001b[1mTuner: \u001b[0mBest fitness=0.48541 observed at iteration 39\n",
      "\u001b[34m\u001b[1mTuner: \u001b[0mBest fitness metrics are {'metrics/precision(B)': 0.81154, 'metrics/recall(B)': 0.74479, 'metrics/mAP50(B)': 0.79064, 'metrics/mAP50-95(B)': 0.4515, 'val/box_loss': 1.24578, 'val/cls_loss': 0.41887, 'val/dfl_loss': 1.57657, 'fitness': 0.48541}\n",
      "\u001b[34m\u001b[1mTuner: \u001b[0mBest fitness model is ..\\..\\runs\\yolov8s_hyp_finetune367\n",
      "\u001b[34m\u001b[1mTuner: \u001b[0mBest fitness hyperparameters are printed below.\n",
      "\n",
      "Printing '\u001b[1m\u001b[30m..\\..\\runs\\tune8\\best_hyperparameters.yaml\u001b[0m'\n",
      "\n",
      "lr0: 0.00752\n",
      "lrf: 0.01321\n",
      "momentum: 0.89578\n",
      "weight_decay: 0.0005\n",
      "warmup_epochs: 2.43699\n",
      "warmup_momentum: 0.75632\n",
      "box: 6.38988\n",
      "cls: 0.24645\n",
      "dfl: 2.25197\n",
      "hsv_h: 0.01184\n",
      "hsv_s: 0.70334\n",
      "hsv_v: 0.38555\n",
      "degrees: 0.0\n",
      "translate: 0.07834\n",
      "scale: 0.37179\n",
      "shear: 0.0\n",
      "perspective: 0.0\n",
      "flipud: 0.0\n",
      "fliplr: 0.39169\n",
      "bgr: 0.0\n",
      "mosaic: 0.91503\n",
      "mixup: 0.0\n",
      "copy_paste: 0.0\n",
      "\n",
      "\u001b[34m\u001b[1mTuner: \u001b[0mStarting iteration 42/100 with hyperparameters: {'lr0': 0.00835, 'lrf': 0.01362, 'momentum': 0.89394, 'weight_decay': 0.00047, 'warmup_epochs': 2.28353, 'warmup_momentum': 0.7126, 'box': 6.15742, 'cls': 0.26762, 'dfl': 2.30479, 'hsv_h': 0.00997, 'hsv_s': 0.7752, 'hsv_v': 0.38797, 'degrees': 0.0, 'translate': 0.09191, 'scale': 0.3244, 'shear': 0.0, 'perspective': 0.0, 'flipud': 0.0, 'fliplr': 0.3995, 'bgr': 0.0, 'mosaic': 0.97664, 'mixup': 0.0, 'copy_paste': 0.0}\n",
      "Saved ..\\..\\runs\\tune8\\tune_scatter_plots.png\n",
      "Saved ..\\..\\runs\\tune8\\tune_fitness.png\n",
      "\n",
      "\u001b[34m\u001b[1mTuner: \u001b[0m42/100 iterations complete  (4761.77s)\n",
      "\u001b[34m\u001b[1mTuner: \u001b[0mResults saved to \u001b[1m..\\..\\runs\\tune8\u001b[0m\n",
      "\u001b[34m\u001b[1mTuner: \u001b[0mBest fitness=0.48541 observed at iteration 39\n",
      "\u001b[34m\u001b[1mTuner: \u001b[0mBest fitness metrics are {'metrics/precision(B)': 0.81154, 'metrics/recall(B)': 0.74479, 'metrics/mAP50(B)': 0.79064, 'metrics/mAP50-95(B)': 0.4515, 'val/box_loss': 1.24578, 'val/cls_loss': 0.41887, 'val/dfl_loss': 1.57657, 'fitness': 0.48541}\n",
      "\u001b[34m\u001b[1mTuner: \u001b[0mBest fitness model is ..\\..\\runs\\yolov8s_hyp_finetune367\n",
      "\u001b[34m\u001b[1mTuner: \u001b[0mBest fitness hyperparameters are printed below.\n",
      "\n",
      "Printing '\u001b[1m\u001b[30m..\\..\\runs\\tune8\\best_hyperparameters.yaml\u001b[0m'\n",
      "\n",
      "lr0: 0.00752\n",
      "lrf: 0.01321\n",
      "momentum: 0.89578\n",
      "weight_decay: 0.0005\n",
      "warmup_epochs: 2.43699\n",
      "warmup_momentum: 0.75632\n",
      "box: 6.38988\n",
      "cls: 0.24645\n",
      "dfl: 2.25197\n",
      "hsv_h: 0.01184\n",
      "hsv_s: 0.70334\n",
      "hsv_v: 0.38555\n",
      "degrees: 0.0\n",
      "translate: 0.07834\n",
      "scale: 0.37179\n",
      "shear: 0.0\n",
      "perspective: 0.0\n",
      "flipud: 0.0\n",
      "fliplr: 0.39169\n",
      "bgr: 0.0\n",
      "mosaic: 0.91503\n",
      "mixup: 0.0\n",
      "copy_paste: 0.0\n",
      "\n",
      "\u001b[34m\u001b[1mTuner: \u001b[0mStarting iteration 43/100 with hyperparameters: {'lr0': 0.00752, 'lrf': 0.01321, 'momentum': 0.89325, 'weight_decay': 0.0005, 'warmup_epochs': 2.47105, 'warmup_momentum': 0.75691, 'box': 6.34723, 'cls': 0.24645, 'dfl': 2.20699, 'hsv_h': 0.01183, 'hsv_s': 0.70334, 'hsv_v': 0.38397, 'degrees': 0.0, 'translate': 0.07804, 'scale': 0.37179, 'shear': 0.0, 'perspective': 0.0, 'flipud': 0.0, 'fliplr': 0.39883, 'bgr': 0.0, 'mosaic': 0.92073, 'mixup': 0.0, 'copy_paste': 0.0}\n",
      "Saved ..\\..\\runs\\tune8\\tune_scatter_plots.png\n",
      "Saved ..\\..\\runs\\tune8\\tune_fitness.png\n",
      "\n",
      "\u001b[34m\u001b[1mTuner: \u001b[0m43/100 iterations complete  (4864.56s)\n",
      "\u001b[34m\u001b[1mTuner: \u001b[0mResults saved to \u001b[1m..\\..\\runs\\tune8\u001b[0m\n",
      "\u001b[34m\u001b[1mTuner: \u001b[0mBest fitness=0.48541 observed at iteration 39\n",
      "\u001b[34m\u001b[1mTuner: \u001b[0mBest fitness metrics are {'metrics/precision(B)': 0.81154, 'metrics/recall(B)': 0.74479, 'metrics/mAP50(B)': 0.79064, 'metrics/mAP50-95(B)': 0.4515, 'val/box_loss': 1.24578, 'val/cls_loss': 0.41887, 'val/dfl_loss': 1.57657, 'fitness': 0.48541}\n",
      "\u001b[34m\u001b[1mTuner: \u001b[0mBest fitness model is ..\\..\\runs\\yolov8s_hyp_finetune367\n",
      "\u001b[34m\u001b[1mTuner: \u001b[0mBest fitness hyperparameters are printed below.\n",
      "\n",
      "Printing '\u001b[1m\u001b[30m..\\..\\runs\\tune8\\best_hyperparameters.yaml\u001b[0m'\n",
      "\n",
      "lr0: 0.00752\n",
      "lrf: 0.01321\n",
      "momentum: 0.89578\n",
      "weight_decay: 0.0005\n",
      "warmup_epochs: 2.43699\n",
      "warmup_momentum: 0.75632\n",
      "box: 6.38988\n",
      "cls: 0.24645\n",
      "dfl: 2.25197\n",
      "hsv_h: 0.01184\n",
      "hsv_s: 0.70334\n",
      "hsv_v: 0.38555\n",
      "degrees: 0.0\n",
      "translate: 0.07834\n",
      "scale: 0.37179\n",
      "shear: 0.0\n",
      "perspective: 0.0\n",
      "flipud: 0.0\n",
      "fliplr: 0.39169\n",
      "bgr: 0.0\n",
      "mosaic: 0.91503\n",
      "mixup: 0.0\n",
      "copy_paste: 0.0\n",
      "\n",
      "\u001b[34m\u001b[1mTuner: \u001b[0mStarting iteration 44/100 with hyperparameters: {'lr0': 0.00752, 'lrf': 0.00965, 'momentum': 0.91583, 'weight_decay': 0.0006, 'warmup_epochs': 2.70691, 'warmup_momentum': 0.68029, 'box': 5.51286, 'cls': 0.24645, 'dfl': 1.37294, 'hsv_h': 0.01183, 'hsv_s': 0.56967, 'hsv_v': 0.38397, 'degrees': 0.0, 'translate': 0.08638, 'scale': 0.37908, 'shear': 0.0, 'perspective': 0.0, 'flipud': 0.0, 'fliplr': 0.53437, 'bgr': 0.0, 'mosaic': 0.92073, 'mixup': 0.0, 'copy_paste': 0.0}\n",
      "Saved ..\\..\\runs\\tune8\\tune_scatter_plots.png\n",
      "Saved ..\\..\\runs\\tune8\\tune_fitness.png\n",
      "\n",
      "\u001b[34m\u001b[1mTuner: \u001b[0m44/100 iterations complete  (4973.26s)\n",
      "\u001b[34m\u001b[1mTuner: \u001b[0mResults saved to \u001b[1m..\\..\\runs\\tune8\u001b[0m\n",
      "\u001b[34m\u001b[1mTuner: \u001b[0mBest fitness=0.48541 observed at iteration 39\n",
      "\u001b[34m\u001b[1mTuner: \u001b[0mBest fitness metrics are {'metrics/precision(B)': 0.81154, 'metrics/recall(B)': 0.74479, 'metrics/mAP50(B)': 0.79064, 'metrics/mAP50-95(B)': 0.4515, 'val/box_loss': 1.24578, 'val/cls_loss': 0.41887, 'val/dfl_loss': 1.57657, 'fitness': 0.48541}\n",
      "\u001b[34m\u001b[1mTuner: \u001b[0mBest fitness model is ..\\..\\runs\\yolov8s_hyp_finetune367\n",
      "\u001b[34m\u001b[1mTuner: \u001b[0mBest fitness hyperparameters are printed below.\n",
      "\n",
      "Printing '\u001b[1m\u001b[30m..\\..\\runs\\tune8\\best_hyperparameters.yaml\u001b[0m'\n",
      "\n",
      "lr0: 0.00752\n",
      "lrf: 0.01321\n",
      "momentum: 0.89578\n",
      "weight_decay: 0.0005\n",
      "warmup_epochs: 2.43699\n",
      "warmup_momentum: 0.75632\n",
      "box: 6.38988\n",
      "cls: 0.24645\n",
      "dfl: 2.25197\n",
      "hsv_h: 0.01184\n",
      "hsv_s: 0.70334\n",
      "hsv_v: 0.38555\n",
      "degrees: 0.0\n",
      "translate: 0.07834\n",
      "scale: 0.37179\n",
      "shear: 0.0\n",
      "perspective: 0.0\n",
      "flipud: 0.0\n",
      "fliplr: 0.39169\n",
      "bgr: 0.0\n",
      "mosaic: 0.91503\n",
      "mixup: 0.0\n",
      "copy_paste: 0.0\n",
      "\n",
      "\u001b[34m\u001b[1mTuner: \u001b[0mStarting iteration 45/100 with hyperparameters: {'lr0': 0.00611, 'lrf': 0.01268, 'momentum': 0.89325, 'weight_decay': 0.00054, 'warmup_epochs': 2.63516, 'warmup_momentum': 0.90909, 'box': 6.30328, 'cls': 0.24645, 'dfl': 2.20699, 'hsv_h': 0.01183, 'hsv_s': 0.68217, 'hsv_v': 0.42097, 'degrees': 0.0, 'translate': 0.08532, 'scale': 0.37179, 'shear': 0.0, 'perspective': 0.0, 'flipud': 0.0, 'fliplr': 0.42157, 'bgr': 0.0, 'mosaic': 0.97438, 'mixup': 0.0, 'copy_paste': 0.0}\n",
      "Saved ..\\..\\runs\\tune8\\tune_scatter_plots.png\n",
      "Saved ..\\..\\runs\\tune8\\tune_fitness.png\n",
      "\n",
      "\u001b[34m\u001b[1mTuner: \u001b[0m45/100 iterations complete  (5081.31s)\n",
      "\u001b[34m\u001b[1mTuner: \u001b[0mResults saved to \u001b[1m..\\..\\runs\\tune8\u001b[0m\n",
      "\u001b[34m\u001b[1mTuner: \u001b[0mBest fitness=0.48541 observed at iteration 39\n",
      "\u001b[34m\u001b[1mTuner: \u001b[0mBest fitness metrics are {'metrics/precision(B)': 0.81154, 'metrics/recall(B)': 0.74479, 'metrics/mAP50(B)': 0.79064, 'metrics/mAP50-95(B)': 0.4515, 'val/box_loss': 1.24578, 'val/cls_loss': 0.41887, 'val/dfl_loss': 1.57657, 'fitness': 0.48541}\n",
      "\u001b[34m\u001b[1mTuner: \u001b[0mBest fitness model is ..\\..\\runs\\yolov8s_hyp_finetune367\n",
      "\u001b[34m\u001b[1mTuner: \u001b[0mBest fitness hyperparameters are printed below.\n",
      "\n",
      "Printing '\u001b[1m\u001b[30m..\\..\\runs\\tune8\\best_hyperparameters.yaml\u001b[0m'\n",
      "\n",
      "lr0: 0.00752\n",
      "lrf: 0.01321\n",
      "momentum: 0.89578\n",
      "weight_decay: 0.0005\n",
      "warmup_epochs: 2.43699\n",
      "warmup_momentum: 0.75632\n",
      "box: 6.38988\n",
      "cls: 0.24645\n",
      "dfl: 2.25197\n",
      "hsv_h: 0.01184\n",
      "hsv_s: 0.70334\n",
      "hsv_v: 0.38555\n",
      "degrees: 0.0\n",
      "translate: 0.07834\n",
      "scale: 0.37179\n",
      "shear: 0.0\n",
      "perspective: 0.0\n",
      "flipud: 0.0\n",
      "fliplr: 0.39169\n",
      "bgr: 0.0\n",
      "mosaic: 0.91503\n",
      "mixup: 0.0\n",
      "copy_paste: 0.0\n",
      "\n",
      "\u001b[34m\u001b[1mTuner: \u001b[0mStarting iteration 46/100 with hyperparameters: {'lr0': 0.00725, 'lrf': 0.01321, 'momentum': 0.89205, 'weight_decay': 0.00034, 'warmup_epochs': 2.89835, 'warmup_momentum': 0.75691, 'box': 4.54059, 'cls': 0.23837, 'dfl': 2.30115, 'hsv_h': 0.01334, 'hsv_s': 0.76933, 'hsv_v': 0.36563, 'degrees': 0.0, 'translate': 0.07804, 'scale': 0.28721, 'shear': 0.0, 'perspective': 0.0, 'flipud': 0.0, 'fliplr': 0.36754, 'bgr': 0.0, 'mosaic': 0.7355, 'mixup': 0.0, 'copy_paste': 0.0}\n",
      "Saved ..\\..\\runs\\tune8\\tune_scatter_plots.png\n",
      "Saved ..\\..\\runs\\tune8\\tune_fitness.png\n",
      "\n",
      "\u001b[34m\u001b[1mTuner: \u001b[0m46/100 iterations complete  (5189.58s)\n",
      "\u001b[34m\u001b[1mTuner: \u001b[0mResults saved to \u001b[1m..\\..\\runs\\tune8\u001b[0m\n",
      "\u001b[34m\u001b[1mTuner: \u001b[0mBest fitness=0.48541 observed at iteration 39\n",
      "\u001b[34m\u001b[1mTuner: \u001b[0mBest fitness metrics are {'metrics/precision(B)': 0.81154, 'metrics/recall(B)': 0.74479, 'metrics/mAP50(B)': 0.79064, 'metrics/mAP50-95(B)': 0.4515, 'val/box_loss': 1.24578, 'val/cls_loss': 0.41887, 'val/dfl_loss': 1.57657, 'fitness': 0.48541}\n",
      "\u001b[34m\u001b[1mTuner: \u001b[0mBest fitness model is ..\\..\\runs\\yolov8s_hyp_finetune367\n",
      "\u001b[34m\u001b[1mTuner: \u001b[0mBest fitness hyperparameters are printed below.\n",
      "\n",
      "Printing '\u001b[1m\u001b[30m..\\..\\runs\\tune8\\best_hyperparameters.yaml\u001b[0m'\n",
      "\n",
      "lr0: 0.00752\n",
      "lrf: 0.01321\n",
      "momentum: 0.89578\n",
      "weight_decay: 0.0005\n",
      "warmup_epochs: 2.43699\n",
      "warmup_momentum: 0.75632\n",
      "box: 6.38988\n",
      "cls: 0.24645\n",
      "dfl: 2.25197\n",
      "hsv_h: 0.01184\n",
      "hsv_s: 0.70334\n",
      "hsv_v: 0.38555\n",
      "degrees: 0.0\n",
      "translate: 0.07834\n",
      "scale: 0.37179\n",
      "shear: 0.0\n",
      "perspective: 0.0\n",
      "flipud: 0.0\n",
      "fliplr: 0.39169\n",
      "bgr: 0.0\n",
      "mosaic: 0.91503\n",
      "mixup: 0.0\n",
      "copy_paste: 0.0\n",
      "\n",
      "\u001b[34m\u001b[1mTuner: \u001b[0mStarting iteration 47/100 with hyperparameters: {'lr0': 0.00634, 'lrf': 0.01271, 'momentum': 0.89181, 'weight_decay': 0.00051, 'warmup_epochs': 2.43699, 'warmup_momentum': 0.73757, 'box': 6.03414, 'cls': 0.24078, 'dfl': 2.25197, 'hsv_h': 0.01172, 'hsv_s': 0.67435, 'hsv_v': 0.43828, 'degrees': 0.0, 'translate': 0.08063, 'scale': 0.30944, 'shear': 0.0, 'perspective': 0.0, 'flipud': 0.0, 'fliplr': 0.42677, 'bgr': 0.0, 'mosaic': 0.99251, 'mixup': 0.0, 'copy_paste': 0.0}\n",
      "Saved ..\\..\\runs\\tune8\\tune_scatter_plots.png\n",
      "Saved ..\\..\\runs\\tune8\\tune_fitness.png\n",
      "\n",
      "\u001b[34m\u001b[1mTuner: \u001b[0m47/100 iterations complete  (5300.82s)\n",
      "\u001b[34m\u001b[1mTuner: \u001b[0mResults saved to \u001b[1m..\\..\\runs\\tune8\u001b[0m\n",
      "\u001b[34m\u001b[1mTuner: \u001b[0mBest fitness=0.48685 observed at iteration 47\n",
      "\u001b[34m\u001b[1mTuner: \u001b[0mBest fitness metrics are {'metrics/precision(B)': 0.75258, 'metrics/recall(B)': 0.6875, 'metrics/mAP50(B)': 0.77119, 'metrics/mAP50-95(B)': 0.45525, 'val/box_loss': 1.13282, 'val/cls_loss': 0.41186, 'val/dfl_loss': 1.57204, 'fitness': 0.48685}\n",
      "\u001b[34m\u001b[1mTuner: \u001b[0mBest fitness model is ..\\..\\runs\\yolov8s_hyp_finetune375\n",
      "\u001b[34m\u001b[1mTuner: \u001b[0mBest fitness hyperparameters are printed below.\n",
      "\n",
      "Printing '\u001b[1m\u001b[30m..\\..\\runs\\tune8\\best_hyperparameters.yaml\u001b[0m'\n",
      "\n",
      "lr0: 0.00634\n",
      "lrf: 0.01271\n",
      "momentum: 0.89181\n",
      "weight_decay: 0.00051\n",
      "warmup_epochs: 2.43699\n",
      "warmup_momentum: 0.73757\n",
      "box: 6.03414\n",
      "cls: 0.24078\n",
      "dfl: 2.25197\n",
      "hsv_h: 0.01172\n",
      "hsv_s: 0.67435\n",
      "hsv_v: 0.43828\n",
      "degrees: 0.0\n",
      "translate: 0.08063\n",
      "scale: 0.30944\n",
      "shear: 0.0\n",
      "perspective: 0.0\n",
      "flipud: 0.0\n",
      "fliplr: 0.42677\n",
      "bgr: 0.0\n",
      "mosaic: 0.99251\n",
      "mixup: 0.0\n",
      "copy_paste: 0.0\n",
      "\n",
      "\u001b[34m\u001b[1mTuner: \u001b[0mStarting iteration 48/100 with hyperparameters: {'lr0': 0.00651, 'lrf': 0.01481, 'momentum': 0.87383, 'weight_decay': 0.0005, 'warmup_epochs': 3.2605, 'warmup_momentum': 0.95, 'box': 6.50437, 'cls': 0.26354, 'dfl': 1.62581, 'hsv_h': 0.01145, 'hsv_s': 0.58517, 'hsv_v': 0.28259, 'degrees': 0.0, 'translate': 0.07595, 'scale': 0.40397, 'shear': 0.0, 'perspective': 0.0, 'flipud': 0.0, 'fliplr': 0.39169, 'bgr': 0.0, 'mosaic': 1.0, 'mixup': 0.0, 'copy_paste': 0.0}\n",
      "Saved ..\\..\\runs\\tune8\\tune_scatter_plots.png\n",
      "Saved ..\\..\\runs\\tune8\\tune_fitness.png\n",
      "\n",
      "\u001b[34m\u001b[1mTuner: \u001b[0m48/100 iterations complete  (5417.57s)\n",
      "\u001b[34m\u001b[1mTuner: \u001b[0mResults saved to \u001b[1m..\\..\\runs\\tune8\u001b[0m\n",
      "\u001b[34m\u001b[1mTuner: \u001b[0mBest fitness=0.48685 observed at iteration 47\n",
      "\u001b[34m\u001b[1mTuner: \u001b[0mBest fitness metrics are {'metrics/precision(B)': 0.75258, 'metrics/recall(B)': 0.6875, 'metrics/mAP50(B)': 0.77119, 'metrics/mAP50-95(B)': 0.45525, 'val/box_loss': 1.13282, 'val/cls_loss': 0.41186, 'val/dfl_loss': 1.57204, 'fitness': 0.48685}\n",
      "\u001b[34m\u001b[1mTuner: \u001b[0mBest fitness model is ..\\..\\runs\\yolov8s_hyp_finetune375\n",
      "\u001b[34m\u001b[1mTuner: \u001b[0mBest fitness hyperparameters are printed below.\n",
      "\n",
      "Printing '\u001b[1m\u001b[30m..\\..\\runs\\tune8\\best_hyperparameters.yaml\u001b[0m'\n",
      "\n",
      "lr0: 0.00634\n",
      "lrf: 0.01271\n",
      "momentum: 0.89181\n",
      "weight_decay: 0.00051\n",
      "warmup_epochs: 2.43699\n",
      "warmup_momentum: 0.73757\n",
      "box: 6.03414\n",
      "cls: 0.24078\n",
      "dfl: 2.25197\n",
      "hsv_h: 0.01172\n",
      "hsv_s: 0.67435\n",
      "hsv_v: 0.43828\n",
      "degrees: 0.0\n",
      "translate: 0.08063\n",
      "scale: 0.30944\n",
      "shear: 0.0\n",
      "perspective: 0.0\n",
      "flipud: 0.0\n",
      "fliplr: 0.42677\n",
      "bgr: 0.0\n",
      "mosaic: 0.99251\n",
      "mixup: 0.0\n",
      "copy_paste: 0.0\n",
      "\n",
      "\u001b[34m\u001b[1mTuner: \u001b[0mStarting iteration 49/100 with hyperparameters: {'lr0': 0.00698, 'lrf': 0.0141, 'momentum': 0.85937, 'weight_decay': 0.00051, 'warmup_epochs': 2.07834, 'warmup_momentum': 0.70667, 'box': 4.64251, 'cls': 0.24158, 'dfl': 2.71542, 'hsv_h': 0.01256, 'hsv_s': 0.7118, 'hsv_v': 0.4743, 'degrees': 0.0, 'translate': 0.08382, 'scale': 0.2608, 'shear': 0.0, 'perspective': 0.0, 'flipud': 0.0, 'fliplr': 0.42677, 'bgr': 0.0, 'mosaic': 0.74649, 'mixup': 0.0, 'copy_paste': 0.0}\n",
      "Saved ..\\..\\runs\\tune8\\tune_scatter_plots.png\n",
      "Saved ..\\..\\runs\\tune8\\tune_fitness.png\n",
      "\n",
      "\u001b[34m\u001b[1mTuner: \u001b[0m49/100 iterations complete  (5527.85s)\n",
      "\u001b[34m\u001b[1mTuner: \u001b[0mResults saved to \u001b[1m..\\..\\runs\\tune8\u001b[0m\n",
      "\u001b[34m\u001b[1mTuner: \u001b[0mBest fitness=0.48887 observed at iteration 49\n",
      "\u001b[34m\u001b[1mTuner: \u001b[0mBest fitness metrics are {'metrics/precision(B)': 0.84622, 'metrics/recall(B)': 0.71653, 'metrics/mAP50(B)': 0.79462, 'metrics/mAP50-95(B)': 0.4549, 'val/box_loss': 0.87969, 'val/cls_loss': 0.40582, 'val/dfl_loss': 1.88265, 'fitness': 0.48887}\n",
      "\u001b[34m\u001b[1mTuner: \u001b[0mBest fitness model is ..\\..\\runs\\yolov8s_hyp_finetune377\n",
      "\u001b[34m\u001b[1mTuner: \u001b[0mBest fitness hyperparameters are printed below.\n",
      "\n",
      "Printing '\u001b[1m\u001b[30m..\\..\\runs\\tune8\\best_hyperparameters.yaml\u001b[0m'\n",
      "\n",
      "lr0: 0.00698\n",
      "lrf: 0.0141\n",
      "momentum: 0.85937\n",
      "weight_decay: 0.00051\n",
      "warmup_epochs: 2.07834\n",
      "warmup_momentum: 0.70667\n",
      "box: 4.64251\n",
      "cls: 0.24158\n",
      "dfl: 2.71542\n",
      "hsv_h: 0.01256\n",
      "hsv_s: 0.7118\n",
      "hsv_v: 0.4743\n",
      "degrees: 0.0\n",
      "translate: 0.08382\n",
      "scale: 0.2608\n",
      "shear: 0.0\n",
      "perspective: 0.0\n",
      "flipud: 0.0\n",
      "fliplr: 0.42677\n",
      "bgr: 0.0\n",
      "mosaic: 0.74649\n",
      "mixup: 0.0\n",
      "copy_paste: 0.0\n",
      "\n",
      "\u001b[34m\u001b[1mTuner: \u001b[0mStarting iteration 50/100 with hyperparameters: {'lr0': 0.00786, 'lrf': 0.01281, 'momentum': 0.89325, 'weight_decay': 0.00052, 'warmup_epochs': 2.41933, 'warmup_momentum': 0.73969, 'box': 5.91159, 'cls': 0.24645, 'dfl': 2.25575, 'hsv_h': 0.01183, 'hsv_s': 0.70334, 'hsv_v': 0.38397, 'degrees': 0.0, 'translate': 0.07724, 'scale': 0.35926, 'shear': 0.0, 'perspective': 0.0, 'flipud': 0.0, 'fliplr': 0.38835, 'bgr': 0.0, 'mosaic': 0.98128, 'mixup': 0.0, 'copy_paste': 0.0}\n",
      "Saved ..\\..\\runs\\tune8\\tune_scatter_plots.png\n",
      "Saved ..\\..\\runs\\tune8\\tune_fitness.png\n",
      "\n",
      "\u001b[34m\u001b[1mTuner: \u001b[0m50/100 iterations complete  (5638.25s)\n",
      "\u001b[34m\u001b[1mTuner: \u001b[0mResults saved to \u001b[1m..\\..\\runs\\tune8\u001b[0m\n",
      "\u001b[34m\u001b[1mTuner: \u001b[0mBest fitness=0.48887 observed at iteration 49\n",
      "\u001b[34m\u001b[1mTuner: \u001b[0mBest fitness metrics are {'metrics/precision(B)': 0.84622, 'metrics/recall(B)': 0.71653, 'metrics/mAP50(B)': 0.79462, 'metrics/mAP50-95(B)': 0.4549, 'val/box_loss': 0.87969, 'val/cls_loss': 0.40582, 'val/dfl_loss': 1.88265, 'fitness': 0.48887}\n",
      "\u001b[34m\u001b[1mTuner: \u001b[0mBest fitness model is ..\\..\\runs\\yolov8s_hyp_finetune377\n",
      "\u001b[34m\u001b[1mTuner: \u001b[0mBest fitness hyperparameters are printed below.\n",
      "\n",
      "Printing '\u001b[1m\u001b[30m..\\..\\runs\\tune8\\best_hyperparameters.yaml\u001b[0m'\n",
      "\n",
      "lr0: 0.00698\n",
      "lrf: 0.0141\n",
      "momentum: 0.85937\n",
      "weight_decay: 0.00051\n",
      "warmup_epochs: 2.07834\n",
      "warmup_momentum: 0.70667\n",
      "box: 4.64251\n",
      "cls: 0.24158\n",
      "dfl: 2.71542\n",
      "hsv_h: 0.01256\n",
      "hsv_s: 0.7118\n",
      "hsv_v: 0.4743\n",
      "degrees: 0.0\n",
      "translate: 0.08382\n",
      "scale: 0.2608\n",
      "shear: 0.0\n",
      "perspective: 0.0\n",
      "flipud: 0.0\n",
      "fliplr: 0.42677\n",
      "bgr: 0.0\n",
      "mosaic: 0.74649\n",
      "mixup: 0.0\n",
      "copy_paste: 0.0\n",
      "\n",
      "\u001b[34m\u001b[1mTuner: \u001b[0mStarting iteration 51/100 with hyperparameters: {'lr0': 0.00697, 'lrf': 0.01407, 'momentum': 0.85962, 'weight_decay': 0.00051, 'warmup_epochs': 2.07981, 'warmup_momentum': 0.70417, 'box': 4.66281, 'cls': 0.24157, 'dfl': 2.7232, 'hsv_h': 0.0126, 'hsv_s': 0.71129, 'hsv_v': 0.47374, 'degrees': 0.0, 'translate': 0.08404, 'scale': 0.2605, 'shear': 0.0, 'perspective': 0.0, 'flipud': 0.0, 'fliplr': 0.42677, 'bgr': 0.0, 'mosaic': 0.74649, 'mixup': 0.0, 'copy_paste': 0.0}\n",
      "Saved ..\\..\\runs\\tune8\\tune_scatter_plots.png\n",
      "Saved ..\\..\\runs\\tune8\\tune_fitness.png\n",
      "\n",
      "\u001b[34m\u001b[1mTuner: \u001b[0m51/100 iterations complete  (5750.16s)\n",
      "\u001b[34m\u001b[1mTuner: \u001b[0mResults saved to \u001b[1m..\\..\\runs\\tune8\u001b[0m\n",
      "\u001b[34m\u001b[1mTuner: \u001b[0mBest fitness=0.48887 observed at iteration 49\n",
      "\u001b[34m\u001b[1mTuner: \u001b[0mBest fitness metrics are {'metrics/precision(B)': 0.84622, 'metrics/recall(B)': 0.71653, 'metrics/mAP50(B)': 0.79462, 'metrics/mAP50-95(B)': 0.4549, 'val/box_loss': 0.87969, 'val/cls_loss': 0.40582, 'val/dfl_loss': 1.88265, 'fitness': 0.48887}\n",
      "\u001b[34m\u001b[1mTuner: \u001b[0mBest fitness model is ..\\..\\runs\\yolov8s_hyp_finetune377\n",
      "\u001b[34m\u001b[1mTuner: \u001b[0mBest fitness hyperparameters are printed below.\n",
      "\n",
      "Printing '\u001b[1m\u001b[30m..\\..\\runs\\tune8\\best_hyperparameters.yaml\u001b[0m'\n",
      "\n",
      "lr0: 0.00698\n",
      "lrf: 0.0141\n",
      "momentum: 0.85937\n",
      "weight_decay: 0.00051\n",
      "warmup_epochs: 2.07834\n",
      "warmup_momentum: 0.70667\n",
      "box: 4.64251\n",
      "cls: 0.24158\n",
      "dfl: 2.71542\n",
      "hsv_h: 0.01256\n",
      "hsv_s: 0.7118\n",
      "hsv_v: 0.4743\n",
      "degrees: 0.0\n",
      "translate: 0.08382\n",
      "scale: 0.2608\n",
      "shear: 0.0\n",
      "perspective: 0.0\n",
      "flipud: 0.0\n",
      "fliplr: 0.42677\n",
      "bgr: 0.0\n",
      "mosaic: 0.74649\n",
      "mixup: 0.0\n",
      "copy_paste: 0.0\n",
      "\n",
      "\u001b[34m\u001b[1mTuner: \u001b[0mStarting iteration 52/100 with hyperparameters: {'lr0': 0.00752, 'lrf': 0.01442, 'momentum': 0.89325, 'weight_decay': 0.00053, 'warmup_epochs': 2.45902, 'warmup_momentum': 0.75691, 'box': 6.11613, 'cls': 0.23655, 'dfl': 2.06117, 'hsv_h': 0.0104, 'hsv_s': 0.70334, 'hsv_v': 0.35171, 'degrees': 0.0, 'translate': 0.07326, 'scale': 0.31188, 'shear': 0.0, 'perspective': 0.0, 'flipud': 0.0, 'fliplr': 0.43364, 'bgr': 0.0, 'mosaic': 0.92073, 'mixup': 0.0, 'copy_paste': 0.0}\n",
      "Saved ..\\..\\runs\\tune8\\tune_scatter_plots.png\n",
      "Saved ..\\..\\runs\\tune8\\tune_fitness.png\n",
      "\n",
      "\u001b[34m\u001b[1mTuner: \u001b[0m52/100 iterations complete  (5859.84s)\n",
      "\u001b[34m\u001b[1mTuner: \u001b[0mResults saved to \u001b[1m..\\..\\runs\\tune8\u001b[0m\n",
      "\u001b[34m\u001b[1mTuner: \u001b[0mBest fitness=0.48887 observed at iteration 49\n",
      "\u001b[34m\u001b[1mTuner: \u001b[0mBest fitness metrics are {'metrics/precision(B)': 0.84622, 'metrics/recall(B)': 0.71653, 'metrics/mAP50(B)': 0.79462, 'metrics/mAP50-95(B)': 0.4549, 'val/box_loss': 0.87969, 'val/cls_loss': 0.40582, 'val/dfl_loss': 1.88265, 'fitness': 0.48887}\n",
      "\u001b[34m\u001b[1mTuner: \u001b[0mBest fitness model is ..\\..\\runs\\yolov8s_hyp_finetune377\n",
      "\u001b[34m\u001b[1mTuner: \u001b[0mBest fitness hyperparameters are printed below.\n",
      "\n",
      "Printing '\u001b[1m\u001b[30m..\\..\\runs\\tune8\\best_hyperparameters.yaml\u001b[0m'\n",
      "\n",
      "lr0: 0.00698\n",
      "lrf: 0.0141\n",
      "momentum: 0.85937\n",
      "weight_decay: 0.00051\n",
      "warmup_epochs: 2.07834\n",
      "warmup_momentum: 0.70667\n",
      "box: 4.64251\n",
      "cls: 0.24158\n",
      "dfl: 2.71542\n",
      "hsv_h: 0.01256\n",
      "hsv_s: 0.7118\n",
      "hsv_v: 0.4743\n",
      "degrees: 0.0\n",
      "translate: 0.08382\n",
      "scale: 0.2608\n",
      "shear: 0.0\n",
      "perspective: 0.0\n",
      "flipud: 0.0\n",
      "fliplr: 0.42677\n",
      "bgr: 0.0\n",
      "mosaic: 0.74649\n",
      "mixup: 0.0\n",
      "copy_paste: 0.0\n",
      "\n",
      "\u001b[34m\u001b[1mTuner: \u001b[0mStarting iteration 53/100 with hyperparameters: {'lr0': 0.00663, 'lrf': 0.00886, 'momentum': 0.86989, 'weight_decay': 0.0006, 'warmup_epochs': 2.64288, 'warmup_momentum': 0.75692, 'box': 6.34723, 'cls': 0.24866, 'dfl': 2.20699, 'hsv_h': 0.01183, 'hsv_s': 0.61894, 'hsv_v': 0.42674, 'degrees': 0.0, 'translate': 0.08062, 'scale': 0.31004, 'shear': 0.0, 'perspective': 0.0, 'flipud': 0.0, 'fliplr': 0.43371, 'bgr': 0.0, 'mosaic': 1.0, 'mixup': 0.0, 'copy_paste': 0.0}\n",
      "Saved ..\\..\\runs\\tune8\\tune_scatter_plots.png\n",
      "Saved ..\\..\\runs\\tune8\\tune_fitness.png\n",
      "\n",
      "\u001b[34m\u001b[1mTuner: \u001b[0m53/100 iterations complete  (5966.45s)\n",
      "\u001b[34m\u001b[1mTuner: \u001b[0mResults saved to \u001b[1m..\\..\\runs\\tune8\u001b[0m\n",
      "\u001b[34m\u001b[1mTuner: \u001b[0mBest fitness=0.48887 observed at iteration 49\n",
      "\u001b[34m\u001b[1mTuner: \u001b[0mBest fitness metrics are {'metrics/precision(B)': 0.84622, 'metrics/recall(B)': 0.71653, 'metrics/mAP50(B)': 0.79462, 'metrics/mAP50-95(B)': 0.4549, 'val/box_loss': 0.87969, 'val/cls_loss': 0.40582, 'val/dfl_loss': 1.88265, 'fitness': 0.48887}\n",
      "\u001b[34m\u001b[1mTuner: \u001b[0mBest fitness model is ..\\..\\runs\\yolov8s_hyp_finetune377\n",
      "\u001b[34m\u001b[1mTuner: \u001b[0mBest fitness hyperparameters are printed below.\n",
      "\n",
      "Printing '\u001b[1m\u001b[30m..\\..\\runs\\tune8\\best_hyperparameters.yaml\u001b[0m'\n",
      "\n",
      "lr0: 0.00698\n",
      "lrf: 0.0141\n",
      "momentum: 0.85937\n",
      "weight_decay: 0.00051\n",
      "warmup_epochs: 2.07834\n",
      "warmup_momentum: 0.70667\n",
      "box: 4.64251\n",
      "cls: 0.24158\n",
      "dfl: 2.71542\n",
      "hsv_h: 0.01256\n",
      "hsv_s: 0.7118\n",
      "hsv_v: 0.4743\n",
      "degrees: 0.0\n",
      "translate: 0.08382\n",
      "scale: 0.2608\n",
      "shear: 0.0\n",
      "perspective: 0.0\n",
      "flipud: 0.0\n",
      "fliplr: 0.42677\n",
      "bgr: 0.0\n",
      "mosaic: 0.74649\n",
      "mixup: 0.0\n",
      "copy_paste: 0.0\n",
      "\n",
      "\u001b[34m\u001b[1mTuner: \u001b[0mStarting iteration 54/100 with hyperparameters: {'lr0': 0.00696, 'lrf': 0.01338, 'momentum': 0.89325, 'weight_decay': 0.00051, 'warmup_epochs': 2.41641, 'warmup_momentum': 0.76311, 'box': 6.34723, 'cls': 0.24432, 'dfl': 2.20103, 'hsv_h': 0.01135, 'hsv_s': 0.72247, 'hsv_v': 0.38397, 'degrees': 0.0, 'translate': 0.08068, 'scale': 0.37221, 'shear': 0.0, 'perspective': 0.0, 'flipud': 0.0, 'fliplr': 0.39805, 'bgr': 0.0, 'mosaic': 0.91229, 'mixup': 0.0, 'copy_paste': 0.0}\n",
      "Saved ..\\..\\runs\\tune8\\tune_scatter_plots.png\n",
      "Saved ..\\..\\runs\\tune8\\tune_fitness.png\n",
      "\n",
      "\u001b[34m\u001b[1mTuner: \u001b[0m54/100 iterations complete  (6075.58s)\n",
      "\u001b[34m\u001b[1mTuner: \u001b[0mResults saved to \u001b[1m..\\..\\runs\\tune8\u001b[0m\n",
      "\u001b[34m\u001b[1mTuner: \u001b[0mBest fitness=0.48887 observed at iteration 49\n",
      "\u001b[34m\u001b[1mTuner: \u001b[0mBest fitness metrics are {'metrics/precision(B)': 0.84622, 'metrics/recall(B)': 0.71653, 'metrics/mAP50(B)': 0.79462, 'metrics/mAP50-95(B)': 0.4549, 'val/box_loss': 0.87969, 'val/cls_loss': 0.40582, 'val/dfl_loss': 1.88265, 'fitness': 0.48887}\n",
      "\u001b[34m\u001b[1mTuner: \u001b[0mBest fitness model is ..\\..\\runs\\yolov8s_hyp_finetune377\n",
      "\u001b[34m\u001b[1mTuner: \u001b[0mBest fitness hyperparameters are printed below.\n",
      "\n",
      "Printing '\u001b[1m\u001b[30m..\\..\\runs\\tune8\\best_hyperparameters.yaml\u001b[0m'\n",
      "\n",
      "lr0: 0.00698\n",
      "lrf: 0.0141\n",
      "momentum: 0.85937\n",
      "weight_decay: 0.00051\n",
      "warmup_epochs: 2.07834\n",
      "warmup_momentum: 0.70667\n",
      "box: 4.64251\n",
      "cls: 0.24158\n",
      "dfl: 2.71542\n",
      "hsv_h: 0.01256\n",
      "hsv_s: 0.7118\n",
      "hsv_v: 0.4743\n",
      "degrees: 0.0\n",
      "translate: 0.08382\n",
      "scale: 0.2608\n",
      "shear: 0.0\n",
      "perspective: 0.0\n",
      "flipud: 0.0\n",
      "fliplr: 0.42677\n",
      "bgr: 0.0\n",
      "mosaic: 0.74649\n",
      "mixup: 0.0\n",
      "copy_paste: 0.0\n",
      "\n",
      "\u001b[34m\u001b[1mTuner: \u001b[0mStarting iteration 55/100 with hyperparameters: {'lr0': 0.00513, 'lrf': 0.01013, 'momentum': 0.89181, 'weight_decay': 0.00043, 'warmup_epochs': 2.07046, 'warmup_momentum': 0.77556, 'box': 6.03414, 'cls': 0.27872, 'dfl': 2.25197, 'hsv_h': 0.01172, 'hsv_s': 0.68447, 'hsv_v': 0.43828, 'degrees': 0.0, 'translate': 0.08965, 'scale': 0.32715, 'shear': 0.0, 'perspective': 0.0, 'flipud': 0.0, 'fliplr': 0.35477, 'bgr': 0.0, 'mosaic': 1.0, 'mixup': 0.0, 'copy_paste': 0.0}\n",
      "Saved ..\\..\\runs\\tune8\\tune_scatter_plots.png\n",
      "Saved ..\\..\\runs\\tune8\\tune_fitness.png\n",
      "\n",
      "\u001b[34m\u001b[1mTuner: \u001b[0m55/100 iterations complete  (6183.29s)\n",
      "\u001b[34m\u001b[1mTuner: \u001b[0mResults saved to \u001b[1m..\\..\\runs\\tune8\u001b[0m\n",
      "\u001b[34m\u001b[1mTuner: \u001b[0mBest fitness=0.4995 observed at iteration 55\n",
      "\u001b[34m\u001b[1mTuner: \u001b[0mBest fitness metrics are {'metrics/precision(B)': 0.78453, 'metrics/recall(B)': 0.72396, 'metrics/mAP50(B)': 0.79582, 'metrics/mAP50-95(B)': 0.46657, 'val/box_loss': 1.1249, 'val/cls_loss': 0.47037, 'val/dfl_loss': 1.5476, 'fitness': 0.4995}\n",
      "\u001b[34m\u001b[1mTuner: \u001b[0mBest fitness model is ..\\..\\runs\\yolov8s_hyp_finetune383\n",
      "\u001b[34m\u001b[1mTuner: \u001b[0mBest fitness hyperparameters are printed below.\n",
      "\n",
      "Printing '\u001b[1m\u001b[30m..\\..\\runs\\tune8\\best_hyperparameters.yaml\u001b[0m'\n",
      "\n",
      "lr0: 0.00513\n",
      "lrf: 0.01013\n",
      "momentum: 0.89181\n",
      "weight_decay: 0.00043\n",
      "warmup_epochs: 2.07046\n",
      "warmup_momentum: 0.77556\n",
      "box: 6.03414\n",
      "cls: 0.27872\n",
      "dfl: 2.25197\n",
      "hsv_h: 0.01172\n",
      "hsv_s: 0.68447\n",
      "hsv_v: 0.43828\n",
      "degrees: 0.0\n",
      "translate: 0.08965\n",
      "scale: 0.32715\n",
      "shear: 0.0\n",
      "perspective: 0.0\n",
      "flipud: 0.0\n",
      "fliplr: 0.35477\n",
      "bgr: 0.0\n",
      "mosaic: 1.0\n",
      "mixup: 0.0\n",
      "copy_paste: 0.0\n",
      "\n",
      "\u001b[34m\u001b[1mTuner: \u001b[0mStarting iteration 56/100 with hyperparameters: {'lr0': 0.00512, 'lrf': 0.0102, 'momentum': 0.89166, 'weight_decay': 0.00046, 'warmup_epochs': 2.06624, 'warmup_momentum': 0.71598, 'box': 6.36664, 'cls': 0.30196, 'dfl': 2.45654, 'hsv_h': 0.012, 'hsv_s': 0.66481, 'hsv_v': 0.44424, 'degrees': 0.0, 'translate': 0.07949, 'scale': 0.32715, 'shear': 0.0, 'perspective': 0.0, 'flipud': 0.0, 'fliplr': 0.34664, 'bgr': 0.0, 'mosaic': 1.0, 'mixup': 0.0, 'copy_paste': 0.0}\n",
      "Saved ..\\..\\runs\\tune8\\tune_scatter_plots.png\n",
      "Saved ..\\..\\runs\\tune8\\tune_fitness.png\n",
      "\n",
      "\u001b[34m\u001b[1mTuner: \u001b[0m56/100 iterations complete  (6289.75s)\n",
      "\u001b[34m\u001b[1mTuner: \u001b[0mResults saved to \u001b[1m..\\..\\runs\\tune8\u001b[0m\n",
      "\u001b[34m\u001b[1mTuner: \u001b[0mBest fitness=0.4995 observed at iteration 55\n",
      "\u001b[34m\u001b[1mTuner: \u001b[0mBest fitness metrics are {'metrics/precision(B)': 0.78453, 'metrics/recall(B)': 0.72396, 'metrics/mAP50(B)': 0.79582, 'metrics/mAP50-95(B)': 0.46657, 'val/box_loss': 1.1249, 'val/cls_loss': 0.47037, 'val/dfl_loss': 1.5476, 'fitness': 0.4995}\n",
      "\u001b[34m\u001b[1mTuner: \u001b[0mBest fitness model is ..\\..\\runs\\yolov8s_hyp_finetune383\n",
      "\u001b[34m\u001b[1mTuner: \u001b[0mBest fitness hyperparameters are printed below.\n",
      "\n",
      "Printing '\u001b[1m\u001b[30m..\\..\\runs\\tune8\\best_hyperparameters.yaml\u001b[0m'\n",
      "\n",
      "lr0: 0.00513\n",
      "lrf: 0.01013\n",
      "momentum: 0.89181\n",
      "weight_decay: 0.00043\n",
      "warmup_epochs: 2.07046\n",
      "warmup_momentum: 0.77556\n",
      "box: 6.03414\n",
      "cls: 0.27872\n",
      "dfl: 2.25197\n",
      "hsv_h: 0.01172\n",
      "hsv_s: 0.68447\n",
      "hsv_v: 0.43828\n",
      "degrees: 0.0\n",
      "translate: 0.08965\n",
      "scale: 0.32715\n",
      "shear: 0.0\n",
      "perspective: 0.0\n",
      "flipud: 0.0\n",
      "fliplr: 0.35477\n",
      "bgr: 0.0\n",
      "mosaic: 1.0\n",
      "mixup: 0.0\n",
      "copy_paste: 0.0\n",
      "\n",
      "\u001b[34m\u001b[1mTuner: \u001b[0mStarting iteration 57/100 with hyperparameters: {'lr0': 0.0047, 'lrf': 0.00816, 'momentum': 0.92148, 'weight_decay': 0.00043, 'warmup_epochs': 1.94672, 'warmup_momentum': 0.7274, 'box': 6.03414, 'cls': 0.34017, 'dfl': 2.01545, 'hsv_h': 0.01158, 'hsv_s': 0.73202, 'hsv_v': 0.46581, 'degrees': 0.0, 'translate': 0.07286, 'scale': 0.34577, 'shear': 0.0, 'perspective': 0.0, 'flipud': 0.0, 'fliplr': 0.30213, 'bgr': 0.0, 'mosaic': 0.89163, 'mixup': 0.0, 'copy_paste': 0.0}\n",
      "Saved ..\\..\\runs\\tune8\\tune_scatter_plots.png\n",
      "Saved ..\\..\\runs\\tune8\\tune_fitness.png\n",
      "\n",
      "\u001b[34m\u001b[1mTuner: \u001b[0m57/100 iterations complete  (6396.16s)\n",
      "\u001b[34m\u001b[1mTuner: \u001b[0mResults saved to \u001b[1m..\\..\\runs\\tune8\u001b[0m\n",
      "\u001b[34m\u001b[1mTuner: \u001b[0mBest fitness=0.4995 observed at iteration 55\n",
      "\u001b[34m\u001b[1mTuner: \u001b[0mBest fitness metrics are {'metrics/precision(B)': 0.78453, 'metrics/recall(B)': 0.72396, 'metrics/mAP50(B)': 0.79582, 'metrics/mAP50-95(B)': 0.46657, 'val/box_loss': 1.1249, 'val/cls_loss': 0.47037, 'val/dfl_loss': 1.5476, 'fitness': 0.4995}\n",
      "\u001b[34m\u001b[1mTuner: \u001b[0mBest fitness model is ..\\..\\runs\\yolov8s_hyp_finetune383\n",
      "\u001b[34m\u001b[1mTuner: \u001b[0mBest fitness hyperparameters are printed below.\n",
      "\n",
      "Printing '\u001b[1m\u001b[30m..\\..\\runs\\tune8\\best_hyperparameters.yaml\u001b[0m'\n",
      "\n",
      "lr0: 0.00513\n",
      "lrf: 0.01013\n",
      "momentum: 0.89181\n",
      "weight_decay: 0.00043\n",
      "warmup_epochs: 2.07046\n",
      "warmup_momentum: 0.77556\n",
      "box: 6.03414\n",
      "cls: 0.27872\n",
      "dfl: 2.25197\n",
      "hsv_h: 0.01172\n",
      "hsv_s: 0.68447\n",
      "hsv_v: 0.43828\n",
      "degrees: 0.0\n",
      "translate: 0.08965\n",
      "scale: 0.32715\n",
      "shear: 0.0\n",
      "perspective: 0.0\n",
      "flipud: 0.0\n",
      "fliplr: 0.35477\n",
      "bgr: 0.0\n",
      "mosaic: 1.0\n",
      "mixup: 0.0\n",
      "copy_paste: 0.0\n",
      "\n",
      "\u001b[34m\u001b[1mTuner: \u001b[0mStarting iteration 58/100 with hyperparameters: {'lr0': 0.00565, 'lrf': 0.01013, 'momentum': 0.88003, 'weight_decay': 0.00045, 'warmup_epochs': 1.99221, 'warmup_momentum': 0.74484, 'box': 5.14287, 'cls': 0.29565, 'dfl': 2.36512, 'hsv_h': 0.01172, 'hsv_s': 0.63668, 'hsv_v': 0.4553, 'degrees': 0.0, 'translate': 0.08965, 'scale': 0.32979, 'shear': 0.0, 'perspective': 0.0, 'flipud': 0.0, 'fliplr': 0.34549, 'bgr': 0.0, 'mosaic': 0.97861, 'mixup': 0.0, 'copy_paste': 0.0}\n",
      "Saved ..\\..\\runs\\tune8\\tune_scatter_plots.png\n",
      "Saved ..\\..\\runs\\tune8\\tune_fitness.png\n",
      "\n",
      "\u001b[34m\u001b[1mTuner: \u001b[0m58/100 iterations complete  (6502.74s)\n",
      "\u001b[34m\u001b[1mTuner: \u001b[0mResults saved to \u001b[1m..\\..\\runs\\tune8\u001b[0m\n",
      "\u001b[34m\u001b[1mTuner: \u001b[0mBest fitness=0.4995 observed at iteration 55\n",
      "\u001b[34m\u001b[1mTuner: \u001b[0mBest fitness metrics are {'metrics/precision(B)': 0.78453, 'metrics/recall(B)': 0.72396, 'metrics/mAP50(B)': 0.79582, 'metrics/mAP50-95(B)': 0.46657, 'val/box_loss': 1.1249, 'val/cls_loss': 0.47037, 'val/dfl_loss': 1.5476, 'fitness': 0.4995}\n",
      "\u001b[34m\u001b[1mTuner: \u001b[0mBest fitness model is ..\\..\\runs\\yolov8s_hyp_finetune383\n",
      "\u001b[34m\u001b[1mTuner: \u001b[0mBest fitness hyperparameters are printed below.\n",
      "\n",
      "Printing '\u001b[1m\u001b[30m..\\..\\runs\\tune8\\best_hyperparameters.yaml\u001b[0m'\n",
      "\n",
      "lr0: 0.00513\n",
      "lrf: 0.01013\n",
      "momentum: 0.89181\n",
      "weight_decay: 0.00043\n",
      "warmup_epochs: 2.07046\n",
      "warmup_momentum: 0.77556\n",
      "box: 6.03414\n",
      "cls: 0.27872\n",
      "dfl: 2.25197\n",
      "hsv_h: 0.01172\n",
      "hsv_s: 0.68447\n",
      "hsv_v: 0.43828\n",
      "degrees: 0.0\n",
      "translate: 0.08965\n",
      "scale: 0.32715\n",
      "shear: 0.0\n",
      "perspective: 0.0\n",
      "flipud: 0.0\n",
      "fliplr: 0.35477\n",
      "bgr: 0.0\n",
      "mosaic: 1.0\n",
      "mixup: 0.0\n",
      "copy_paste: 0.0\n",
      "\n",
      "\u001b[34m\u001b[1mTuner: \u001b[0mStarting iteration 59/100 with hyperparameters: {'lr0': 0.00513, 'lrf': 0.01127, 'momentum': 0.89181, 'weight_decay': 0.0005, 'warmup_epochs': 1.96355, 'warmup_momentum': 0.77598, 'box': 7.09301, 'cls': 0.26288, 'dfl': 1.69184, 'hsv_h': 0.01172, 'hsv_s': 0.65515, 'hsv_v': 0.43828, 'degrees': 0.0, 'translate': 0.09864, 'scale': 0.32836, 'shear': 0.0, 'perspective': 0.0, 'flipud': 0.0, 'fliplr': 0.37197, 'bgr': 0.0, 'mosaic': 1.0, 'mixup': 0.0, 'copy_paste': 0.0}\n",
      "Saved ..\\..\\runs\\tune8\\tune_scatter_plots.png\n",
      "Saved ..\\..\\runs\\tune8\\tune_fitness.png\n",
      "\n",
      "\u001b[34m\u001b[1mTuner: \u001b[0m59/100 iterations complete  (6608.96s)\n",
      "\u001b[34m\u001b[1mTuner: \u001b[0mResults saved to \u001b[1m..\\..\\runs\\tune8\u001b[0m\n",
      "\u001b[34m\u001b[1mTuner: \u001b[0mBest fitness=0.4995 observed at iteration 55\n",
      "\u001b[34m\u001b[1mTuner: \u001b[0mBest fitness metrics are {'metrics/precision(B)': 0.78453, 'metrics/recall(B)': 0.72396, 'metrics/mAP50(B)': 0.79582, 'metrics/mAP50-95(B)': 0.46657, 'val/box_loss': 1.1249, 'val/cls_loss': 0.47037, 'val/dfl_loss': 1.5476, 'fitness': 0.4995}\n",
      "\u001b[34m\u001b[1mTuner: \u001b[0mBest fitness model is ..\\..\\runs\\yolov8s_hyp_finetune383\n",
      "\u001b[34m\u001b[1mTuner: \u001b[0mBest fitness hyperparameters are printed below.\n",
      "\n",
      "Printing '\u001b[1m\u001b[30m..\\..\\runs\\tune8\\best_hyperparameters.yaml\u001b[0m'\n",
      "\n",
      "lr0: 0.00513\n",
      "lrf: 0.01013\n",
      "momentum: 0.89181\n",
      "weight_decay: 0.00043\n",
      "warmup_epochs: 2.07046\n",
      "warmup_momentum: 0.77556\n",
      "box: 6.03414\n",
      "cls: 0.27872\n",
      "dfl: 2.25197\n",
      "hsv_h: 0.01172\n",
      "hsv_s: 0.68447\n",
      "hsv_v: 0.43828\n",
      "degrees: 0.0\n",
      "translate: 0.08965\n",
      "scale: 0.32715\n",
      "shear: 0.0\n",
      "perspective: 0.0\n",
      "flipud: 0.0\n",
      "fliplr: 0.35477\n",
      "bgr: 0.0\n",
      "mosaic: 1.0\n",
      "mixup: 0.0\n",
      "copy_paste: 0.0\n",
      "\n",
      "\u001b[34m\u001b[1mTuner: \u001b[0mStarting iteration 60/100 with hyperparameters: {'lr0': 0.00431, 'lrf': 0.01081, 'momentum': 0.86724, 'weight_decay': 0.00046, 'warmup_epochs': 1.77671, 'warmup_momentum': 0.67479, 'box': 5.42996, 'cls': 0.29926, 'dfl': 2.06917, 'hsv_h': 0.01257, 'hsv_s': 0.54391, 'hsv_v': 0.36484, 'degrees': 0.0, 'translate': 0.08965, 'scale': 0.31656, 'shear': 0.0, 'perspective': 0.0, 'flipud': 0.0, 'fliplr': 0.32788, 'bgr': 0.0, 'mosaic': 0.8914, 'mixup': 0.0, 'copy_paste': 0.0}\n",
      "Saved ..\\..\\runs\\tune8\\tune_scatter_plots.png\n",
      "Saved ..\\..\\runs\\tune8\\tune_fitness.png\n",
      "\n",
      "\u001b[34m\u001b[1mTuner: \u001b[0m60/100 iterations complete  (6715.24s)\n",
      "\u001b[34m\u001b[1mTuner: \u001b[0mResults saved to \u001b[1m..\\..\\runs\\tune8\u001b[0m\n",
      "\u001b[34m\u001b[1mTuner: \u001b[0mBest fitness=0.51744 observed at iteration 60\n",
      "\u001b[34m\u001b[1mTuner: \u001b[0mBest fitness metrics are {'metrics/precision(B)': 0.79186, 'metrics/recall(B)': 0.75521, 'metrics/mAP50(B)': 0.814, 'metrics/mAP50-95(B)': 0.48449, 'val/box_loss': 0.94669, 'val/cls_loss': 0.45273, 'val/dfl_loss': 1.39598, 'fitness': 0.51744}\n",
      "\u001b[34m\u001b[1mTuner: \u001b[0mBest fitness model is ..\\..\\runs\\yolov8s_hyp_finetune388\n",
      "\u001b[34m\u001b[1mTuner: \u001b[0mBest fitness hyperparameters are printed below.\n",
      "\n",
      "Printing '\u001b[1m\u001b[30m..\\..\\runs\\tune8\\best_hyperparameters.yaml\u001b[0m'\n",
      "\n",
      "lr0: 0.00431\n",
      "lrf: 0.01081\n",
      "momentum: 0.86724\n",
      "weight_decay: 0.00046\n",
      "warmup_epochs: 1.77671\n",
      "warmup_momentum: 0.67479\n",
      "box: 5.42996\n",
      "cls: 0.29926\n",
      "dfl: 2.06917\n",
      "hsv_h: 0.01257\n",
      "hsv_s: 0.54391\n",
      "hsv_v: 0.36484\n",
      "degrees: 0.0\n",
      "translate: 0.08965\n",
      "scale: 0.31656\n",
      "shear: 0.0\n",
      "perspective: 0.0\n",
      "flipud: 0.0\n",
      "fliplr: 0.32788\n",
      "bgr: 0.0\n",
      "mosaic: 0.8914\n",
      "mixup: 0.0\n",
      "copy_paste: 0.0\n",
      "\n",
      "\u001b[34m\u001b[1mTuner: \u001b[0mStarting iteration 61/100 with hyperparameters: {'lr0': 0.00521, 'lrf': 0.01127, 'momentum': 0.89449, 'weight_decay': 0.00046, 'warmup_epochs': 2.0999, 'warmup_momentum': 0.76395, 'box': 7.29779, 'cls': 0.26914, 'dfl': 1.63023, 'hsv_h': 0.01114, 'hsv_s': 0.64335, 'hsv_v': 0.44903, 'degrees': 0.0, 'translate': 0.10246, 'scale': 0.33335, 'shear': 0.0, 'perspective': 0.0, 'flipud': 0.0, 'fliplr': 0.3813, 'bgr': 0.0, 'mosaic': 1.0, 'mixup': 0.0, 'copy_paste': 0.0}\n",
      "Saved ..\\..\\runs\\tune8\\tune_scatter_plots.png\n",
      "Saved ..\\..\\runs\\tune8\\tune_fitness.png\n",
      "\n",
      "\u001b[34m\u001b[1mTuner: \u001b[0m61/100 iterations complete  (6821.50s)\n",
      "\u001b[34m\u001b[1mTuner: \u001b[0mResults saved to \u001b[1m..\\..\\runs\\tune8\u001b[0m\n",
      "\u001b[34m\u001b[1mTuner: \u001b[0mBest fitness=0.51744 observed at iteration 60\n",
      "\u001b[34m\u001b[1mTuner: \u001b[0mBest fitness metrics are {'metrics/precision(B)': 0.79186, 'metrics/recall(B)': 0.75521, 'metrics/mAP50(B)': 0.814, 'metrics/mAP50-95(B)': 0.48449, 'val/box_loss': 0.94669, 'val/cls_loss': 0.45273, 'val/dfl_loss': 1.39598, 'fitness': 0.51744}\n",
      "\u001b[34m\u001b[1mTuner: \u001b[0mBest fitness model is ..\\..\\runs\\yolov8s_hyp_finetune388\n",
      "\u001b[34m\u001b[1mTuner: \u001b[0mBest fitness hyperparameters are printed below.\n",
      "\n",
      "Printing '\u001b[1m\u001b[30m..\\..\\runs\\tune8\\best_hyperparameters.yaml\u001b[0m'\n",
      "\n",
      "lr0: 0.00431\n",
      "lrf: 0.01081\n",
      "momentum: 0.86724\n",
      "weight_decay: 0.00046\n",
      "warmup_epochs: 1.77671\n",
      "warmup_momentum: 0.67479\n",
      "box: 5.42996\n",
      "cls: 0.29926\n",
      "dfl: 2.06917\n",
      "hsv_h: 0.01257\n",
      "hsv_s: 0.54391\n",
      "hsv_v: 0.36484\n",
      "degrees: 0.0\n",
      "translate: 0.08965\n",
      "scale: 0.31656\n",
      "shear: 0.0\n",
      "perspective: 0.0\n",
      "flipud: 0.0\n",
      "fliplr: 0.32788\n",
      "bgr: 0.0\n",
      "mosaic: 0.8914\n",
      "mixup: 0.0\n",
      "copy_paste: 0.0\n",
      "\n",
      "\u001b[34m\u001b[1mTuner: \u001b[0mStarting iteration 62/100 with hyperparameters: {'lr0': 0.00431, 'lrf': 0.01079, 'momentum': 0.86724, 'weight_decay': 0.00046, 'warmup_epochs': 1.7925, 'warmup_momentum': 0.68822, 'box': 5.42996, 'cls': 0.29757, 'dfl': 2.06867, 'hsv_h': 0.01241, 'hsv_s': 0.54508, 'hsv_v': 0.36947, 'degrees': 0.0, 'translate': 0.09045, 'scale': 0.3202, 'shear': 0.0, 'perspective': 0.0, 'flipud': 0.0, 'fliplr': 0.3301, 'bgr': 0.0, 'mosaic': 0.89325, 'mixup': 0.0, 'copy_paste': 0.0}\n",
      "Saved ..\\..\\runs\\tune8\\tune_scatter_plots.png\n",
      "Saved ..\\..\\runs\\tune8\\tune_fitness.png\n",
      "\n",
      "\u001b[34m\u001b[1mTuner: \u001b[0m62/100 iterations complete  (6927.75s)\n",
      "\u001b[34m\u001b[1mTuner: \u001b[0mResults saved to \u001b[1m..\\..\\runs\\tune8\u001b[0m\n",
      "\u001b[34m\u001b[1mTuner: \u001b[0mBest fitness=0.51744 observed at iteration 60\n",
      "\u001b[34m\u001b[1mTuner: \u001b[0mBest fitness metrics are {'metrics/precision(B)': 0.79186, 'metrics/recall(B)': 0.75521, 'metrics/mAP50(B)': 0.814, 'metrics/mAP50-95(B)': 0.48449, 'val/box_loss': 0.94669, 'val/cls_loss': 0.45273, 'val/dfl_loss': 1.39598, 'fitness': 0.51744}\n",
      "\u001b[34m\u001b[1mTuner: \u001b[0mBest fitness model is ..\\..\\runs\\yolov8s_hyp_finetune388\n",
      "\u001b[34m\u001b[1mTuner: \u001b[0mBest fitness hyperparameters are printed below.\n",
      "\n",
      "Printing '\u001b[1m\u001b[30m..\\..\\runs\\tune8\\best_hyperparameters.yaml\u001b[0m'\n",
      "\n",
      "lr0: 0.00431\n",
      "lrf: 0.01081\n",
      "momentum: 0.86724\n",
      "weight_decay: 0.00046\n",
      "warmup_epochs: 1.77671\n",
      "warmup_momentum: 0.67479\n",
      "box: 5.42996\n",
      "cls: 0.29926\n",
      "dfl: 2.06917\n",
      "hsv_h: 0.01257\n",
      "hsv_s: 0.54391\n",
      "hsv_v: 0.36484\n",
      "degrees: 0.0\n",
      "translate: 0.08965\n",
      "scale: 0.31656\n",
      "shear: 0.0\n",
      "perspective: 0.0\n",
      "flipud: 0.0\n",
      "fliplr: 0.32788\n",
      "bgr: 0.0\n",
      "mosaic: 0.8914\n",
      "mixup: 0.0\n",
      "copy_paste: 0.0\n",
      "\n",
      "\u001b[34m\u001b[1mTuner: \u001b[0mStarting iteration 63/100 with hyperparameters: {'lr0': 0.00431, 'lrf': 0.01081, 'momentum': 0.90139, 'weight_decay': 0.00045, 'warmup_epochs': 1.76766, 'warmup_momentum': 0.57286, 'box': 5.60195, 'cls': 0.29178, 'dfl': 1.88425, 'hsv_h': 0.01279, 'hsv_s': 0.51214, 'hsv_v': 0.38253, 'degrees': 0.0, 'translate': 0.09187, 'scale': 0.28575, 'shear': 0.0, 'perspective': 0.0, 'flipud': 0.0, 'fliplr': 0.34469, 'bgr': 0.0, 'mosaic': 0.94147, 'mixup': 0.0, 'copy_paste': 0.0}\n",
      "Saved ..\\..\\runs\\tune8\\tune_scatter_plots.png\n",
      "Saved ..\\..\\runs\\tune8\\tune_fitness.png\n",
      "\n",
      "\u001b[34m\u001b[1mTuner: \u001b[0m63/100 iterations complete  (7044.95s)\n",
      "\u001b[34m\u001b[1mTuner: \u001b[0mResults saved to \u001b[1m..\\..\\runs\\tune8\u001b[0m\n",
      "\u001b[34m\u001b[1mTuner: \u001b[0mBest fitness=0.51744 observed at iteration 60\n",
      "\u001b[34m\u001b[1mTuner: \u001b[0mBest fitness metrics are {'metrics/precision(B)': 0.79186, 'metrics/recall(B)': 0.75521, 'metrics/mAP50(B)': 0.814, 'metrics/mAP50-95(B)': 0.48449, 'val/box_loss': 0.94669, 'val/cls_loss': 0.45273, 'val/dfl_loss': 1.39598, 'fitness': 0.51744}\n",
      "\u001b[34m\u001b[1mTuner: \u001b[0mBest fitness model is ..\\..\\runs\\yolov8s_hyp_finetune388\n",
      "\u001b[34m\u001b[1mTuner: \u001b[0mBest fitness hyperparameters are printed below.\n",
      "\n",
      "Printing '\u001b[1m\u001b[30m..\\..\\runs\\tune8\\best_hyperparameters.yaml\u001b[0m'\n",
      "\n",
      "lr0: 0.00431\n",
      "lrf: 0.01081\n",
      "momentum: 0.86724\n",
      "weight_decay: 0.00046\n",
      "warmup_epochs: 1.77671\n",
      "warmup_momentum: 0.67479\n",
      "box: 5.42996\n",
      "cls: 0.29926\n",
      "dfl: 2.06917\n",
      "hsv_h: 0.01257\n",
      "hsv_s: 0.54391\n",
      "hsv_v: 0.36484\n",
      "degrees: 0.0\n",
      "translate: 0.08965\n",
      "scale: 0.31656\n",
      "shear: 0.0\n",
      "perspective: 0.0\n",
      "flipud: 0.0\n",
      "fliplr: 0.32788\n",
      "bgr: 0.0\n",
      "mosaic: 0.8914\n",
      "mixup: 0.0\n",
      "copy_paste: 0.0\n",
      "\n",
      "\u001b[34m\u001b[1mTuner: \u001b[0mStarting iteration 64/100 with hyperparameters: {'lr0': 0.00455, 'lrf': 0.01002, 'momentum': 0.847, 'weight_decay': 0.00048, 'warmup_epochs': 1.7925, 'warmup_momentum': 0.70257, 'box': 5.25153, 'cls': 0.27104, 'dfl': 2.16897, 'hsv_h': 0.01251, 'hsv_s': 0.62634, 'hsv_v': 0.36947, 'degrees': 0.0, 'translate': 0.08663, 'scale': 0.31654, 'shear': 0.0, 'perspective': 0.0, 'flipud': 0.0, 'fliplr': 0.34069, 'bgr': 0.0, 'mosaic': 0.8343, 'mixup': 0.0, 'copy_paste': 0.0}\n",
      "Saved ..\\..\\runs\\tune8\\tune_scatter_plots.png\n",
      "Saved ..\\..\\runs\\tune8\\tune_fitness.png\n",
      "\n",
      "\u001b[34m\u001b[1mTuner: \u001b[0m64/100 iterations complete  (7162.09s)\n",
      "\u001b[34m\u001b[1mTuner: \u001b[0mResults saved to \u001b[1m..\\..\\runs\\tune8\u001b[0m\n",
      "\u001b[34m\u001b[1mTuner: \u001b[0mBest fitness=0.51744 observed at iteration 60\n",
      "\u001b[34m\u001b[1mTuner: \u001b[0mBest fitness metrics are {'metrics/precision(B)': 0.79186, 'metrics/recall(B)': 0.75521, 'metrics/mAP50(B)': 0.814, 'metrics/mAP50-95(B)': 0.48449, 'val/box_loss': 0.94669, 'val/cls_loss': 0.45273, 'val/dfl_loss': 1.39598, 'fitness': 0.51744}\n",
      "\u001b[34m\u001b[1mTuner: \u001b[0mBest fitness model is ..\\..\\runs\\yolov8s_hyp_finetune388\n",
      "\u001b[34m\u001b[1mTuner: \u001b[0mBest fitness hyperparameters are printed below.\n",
      "\n",
      "Printing '\u001b[1m\u001b[30m..\\..\\runs\\tune8\\best_hyperparameters.yaml\u001b[0m'\n",
      "\n",
      "lr0: 0.00431\n",
      "lrf: 0.01081\n",
      "momentum: 0.86724\n",
      "weight_decay: 0.00046\n",
      "warmup_epochs: 1.77671\n",
      "warmup_momentum: 0.67479\n",
      "box: 5.42996\n",
      "cls: 0.29926\n",
      "dfl: 2.06917\n",
      "hsv_h: 0.01257\n",
      "hsv_s: 0.54391\n",
      "hsv_v: 0.36484\n",
      "degrees: 0.0\n",
      "translate: 0.08965\n",
      "scale: 0.31656\n",
      "shear: 0.0\n",
      "perspective: 0.0\n",
      "flipud: 0.0\n",
      "fliplr: 0.32788\n",
      "bgr: 0.0\n",
      "mosaic: 0.8914\n",
      "mixup: 0.0\n",
      "copy_paste: 0.0\n",
      "\n",
      "\u001b[34m\u001b[1mTuner: \u001b[0mStarting iteration 65/100 with hyperparameters: {'lr0': 0.00382, 'lrf': 0.01362, 'momentum': 0.83802, 'weight_decay': 0.00058, 'warmup_epochs': 1.72122, 'warmup_momentum': 0.67479, 'box': 5.42996, 'cls': 0.29926, 'dfl': 2.55339, 'hsv_h': 0.01257, 'hsv_s': 0.56537, 'hsv_v': 0.32761, 'degrees': 0.0, 'translate': 0.08603, 'scale': 0.36301, 'shear': 0.0, 'perspective': 0.0, 'flipud': 0.0, 'fliplr': 0.29074, 'bgr': 0.0, 'mosaic': 0.91213, 'mixup': 0.0, 'copy_paste': 0.0}\n",
      "Saved ..\\..\\runs\\tune8\\tune_scatter_plots.png\n",
      "Saved ..\\..\\runs\\tune8\\tune_fitness.png\n",
      "\n",
      "\u001b[34m\u001b[1mTuner: \u001b[0m65/100 iterations complete  (7280.55s)\n",
      "\u001b[34m\u001b[1mTuner: \u001b[0mResults saved to \u001b[1m..\\..\\runs\\tune8\u001b[0m\n",
      "\u001b[34m\u001b[1mTuner: \u001b[0mBest fitness=0.51994 observed at iteration 65\n",
      "\u001b[34m\u001b[1mTuner: \u001b[0mBest fitness metrics are {'metrics/precision(B)': 0.81753, 'metrics/recall(B)': 0.72341, 'metrics/mAP50(B)': 0.8056, 'metrics/mAP50-95(B)': 0.4882, 'val/box_loss': 0.93573, 'val/cls_loss': 0.46792, 'val/dfl_loss': 1.66635, 'fitness': 0.51994}\n",
      "\u001b[34m\u001b[1mTuner: \u001b[0mBest fitness model is ..\\..\\runs\\yolov8s_hyp_finetune393\n",
      "\u001b[34m\u001b[1mTuner: \u001b[0mBest fitness hyperparameters are printed below.\n",
      "\n",
      "Printing '\u001b[1m\u001b[30m..\\..\\runs\\tune8\\best_hyperparameters.yaml\u001b[0m'\n",
      "\n",
      "lr0: 0.00382\n",
      "lrf: 0.01362\n",
      "momentum: 0.83802\n",
      "weight_decay: 0.00058\n",
      "warmup_epochs: 1.72122\n",
      "warmup_momentum: 0.67479\n",
      "box: 5.42996\n",
      "cls: 0.29926\n",
      "dfl: 2.55339\n",
      "hsv_h: 0.01257\n",
      "hsv_s: 0.56537\n",
      "hsv_v: 0.32761\n",
      "degrees: 0.0\n",
      "translate: 0.08603\n",
      "scale: 0.36301\n",
      "shear: 0.0\n",
      "perspective: 0.0\n",
      "flipud: 0.0\n",
      "fliplr: 0.29074\n",
      "bgr: 0.0\n",
      "mosaic: 0.91213\n",
      "mixup: 0.0\n",
      "copy_paste: 0.0\n",
      "\n",
      "\u001b[34m\u001b[1mTuner: \u001b[0mStarting iteration 66/100 with hyperparameters: {'lr0': 0.00414, 'lrf': 0.01566, 'momentum': 0.84485, 'weight_decay': 0.00081, 'warmup_epochs': 1.70219, 'warmup_momentum': 0.66338, 'box': 6.1728, 'cls': 0.2, 'dfl': 2.55339, 'hsv_h': 0.01257, 'hsv_s': 0.69267, 'hsv_v': 0.29637, 'degrees': 0.0, 'translate': 0.06817, 'scale': 0.32489, 'shear': 0.0, 'perspective': 0.0, 'flipud': 0.0, 'fliplr': 0.22358, 'bgr': 0.0, 'mosaic': 1.0, 'mixup': 0.0, 'copy_paste': 0.0}\n",
      "Saved ..\\..\\runs\\tune8\\tune_scatter_plots.png\n",
      "Saved ..\\..\\runs\\tune8\\tune_fitness.png\n",
      "\n",
      "\u001b[34m\u001b[1mTuner: \u001b[0m66/100 iterations complete  (7395.50s)\n",
      "\u001b[34m\u001b[1mTuner: \u001b[0mResults saved to \u001b[1m..\\..\\runs\\tune8\u001b[0m\n",
      "\u001b[34m\u001b[1mTuner: \u001b[0mBest fitness=0.51994 observed at iteration 65\n",
      "\u001b[34m\u001b[1mTuner: \u001b[0mBest fitness metrics are {'metrics/precision(B)': 0.81753, 'metrics/recall(B)': 0.72341, 'metrics/mAP50(B)': 0.8056, 'metrics/mAP50-95(B)': 0.4882, 'val/box_loss': 0.93573, 'val/cls_loss': 0.46792, 'val/dfl_loss': 1.66635, 'fitness': 0.51994}\n",
      "\u001b[34m\u001b[1mTuner: \u001b[0mBest fitness model is ..\\..\\runs\\yolov8s_hyp_finetune393\n",
      "\u001b[34m\u001b[1mTuner: \u001b[0mBest fitness hyperparameters are printed below.\n",
      "\n",
      "Printing '\u001b[1m\u001b[30m..\\..\\runs\\tune8\\best_hyperparameters.yaml\u001b[0m'\n",
      "\n",
      "lr0: 0.00382\n",
      "lrf: 0.01362\n",
      "momentum: 0.83802\n",
      "weight_decay: 0.00058\n",
      "warmup_epochs: 1.72122\n",
      "warmup_momentum: 0.67479\n",
      "box: 5.42996\n",
      "cls: 0.29926\n",
      "dfl: 2.55339\n",
      "hsv_h: 0.01257\n",
      "hsv_s: 0.56537\n",
      "hsv_v: 0.32761\n",
      "degrees: 0.0\n",
      "translate: 0.08603\n",
      "scale: 0.36301\n",
      "shear: 0.0\n",
      "perspective: 0.0\n",
      "flipud: 0.0\n",
      "fliplr: 0.29074\n",
      "bgr: 0.0\n",
      "mosaic: 0.91213\n",
      "mixup: 0.0\n",
      "copy_paste: 0.0\n",
      "\n",
      "\u001b[34m\u001b[1mTuner: \u001b[0mStarting iteration 67/100 with hyperparameters: {'lr0': 0.00356, 'lrf': 0.01269, 'momentum': 0.83802, 'weight_decay': 0.0005, 'warmup_epochs': 1.72122, 'warmup_momentum': 0.44764, 'box': 6.15587, 'cls': 0.29926, 'dfl': 2.95727, 'hsv_h': 0.01476, 'hsv_s': 0.56537, 'hsv_v': 0.28761, 'degrees': 0.0, 'translate': 0.08603, 'scale': 0.26556, 'shear': 0.0, 'perspective': 0.0, 'flipud': 0.0, 'fliplr': 0.32416, 'bgr': 0.0, 'mosaic': 1.0, 'mixup': 0.0, 'copy_paste': 0.0}\n",
      "Saved ..\\..\\runs\\tune8\\tune_scatter_plots.png\n",
      "Saved ..\\..\\runs\\tune8\\tune_fitness.png\n",
      "\n",
      "\u001b[34m\u001b[1mTuner: \u001b[0m67/100 iterations complete  (7512.48s)\n",
      "\u001b[34m\u001b[1mTuner: \u001b[0mResults saved to \u001b[1m..\\..\\runs\\tune8\u001b[0m\n",
      "\u001b[34m\u001b[1mTuner: \u001b[0mBest fitness=0.51994 observed at iteration 65\n",
      "\u001b[34m\u001b[1mTuner: \u001b[0mBest fitness metrics are {'metrics/precision(B)': 0.81753, 'metrics/recall(B)': 0.72341, 'metrics/mAP50(B)': 0.8056, 'metrics/mAP50-95(B)': 0.4882, 'val/box_loss': 0.93573, 'val/cls_loss': 0.46792, 'val/dfl_loss': 1.66635, 'fitness': 0.51994}\n",
      "\u001b[34m\u001b[1mTuner: \u001b[0mBest fitness model is ..\\..\\runs\\yolov8s_hyp_finetune393\n",
      "\u001b[34m\u001b[1mTuner: \u001b[0mBest fitness hyperparameters are printed below.\n",
      "\n",
      "Printing '\u001b[1m\u001b[30m..\\..\\runs\\tune8\\best_hyperparameters.yaml\u001b[0m'\n",
      "\n",
      "lr0: 0.00382\n",
      "lrf: 0.01362\n",
      "momentum: 0.83802\n",
      "weight_decay: 0.00058\n",
      "warmup_epochs: 1.72122\n",
      "warmup_momentum: 0.67479\n",
      "box: 5.42996\n",
      "cls: 0.29926\n",
      "dfl: 2.55339\n",
      "hsv_h: 0.01257\n",
      "hsv_s: 0.56537\n",
      "hsv_v: 0.32761\n",
      "degrees: 0.0\n",
      "translate: 0.08603\n",
      "scale: 0.36301\n",
      "shear: 0.0\n",
      "perspective: 0.0\n",
      "flipud: 0.0\n",
      "fliplr: 0.29074\n",
      "bgr: 0.0\n",
      "mosaic: 0.91213\n",
      "mixup: 0.0\n",
      "copy_paste: 0.0\n",
      "\n",
      "\u001b[34m\u001b[1mTuner: \u001b[0mStarting iteration 68/100 with hyperparameters: {'lr0': 0.00461, 'lrf': 0.00978, 'momentum': 0.85965, 'weight_decay': 0.00045, 'warmup_epochs': 1.84609, 'warmup_momentum': 0.67656, 'box': 4.93215, 'cls': 0.28297, 'dfl': 2.06917, 'hsv_h': 0.0124, 'hsv_s': 0.54421, 'hsv_v': 0.34438, 'degrees': 0.0, 'translate': 0.08735, 'scale': 0.32913, 'shear': 0.0, 'perspective': 0.0, 'flipud': 0.0, 'fliplr': 0.29421, 'bgr': 0.0, 'mosaic': 0.8914, 'mixup': 0.0, 'copy_paste': 0.0}\n",
      "Saved ..\\..\\runs\\tune8\\tune_scatter_plots.png\n",
      "Saved ..\\..\\runs\\tune8\\tune_fitness.png\n",
      "\n",
      "\u001b[34m\u001b[1mTuner: \u001b[0m68/100 iterations complete  (7634.32s)\n",
      "\u001b[34m\u001b[1mTuner: \u001b[0mResults saved to \u001b[1m..\\..\\runs\\tune8\u001b[0m\n",
      "\u001b[34m\u001b[1mTuner: \u001b[0mBest fitness=0.51994 observed at iteration 65\n",
      "\u001b[34m\u001b[1mTuner: \u001b[0mBest fitness metrics are {'metrics/precision(B)': 0.81753, 'metrics/recall(B)': 0.72341, 'metrics/mAP50(B)': 0.8056, 'metrics/mAP50-95(B)': 0.4882, 'val/box_loss': 0.93573, 'val/cls_loss': 0.46792, 'val/dfl_loss': 1.66635, 'fitness': 0.51994}\n",
      "\u001b[34m\u001b[1mTuner: \u001b[0mBest fitness model is ..\\..\\runs\\yolov8s_hyp_finetune393\n",
      "\u001b[34m\u001b[1mTuner: \u001b[0mBest fitness hyperparameters are printed below.\n",
      "\n",
      "Printing '\u001b[1m\u001b[30m..\\..\\runs\\tune8\\best_hyperparameters.yaml\u001b[0m'\n",
      "\n",
      "lr0: 0.00382\n",
      "lrf: 0.01362\n",
      "momentum: 0.83802\n",
      "weight_decay: 0.00058\n",
      "warmup_epochs: 1.72122\n",
      "warmup_momentum: 0.67479\n",
      "box: 5.42996\n",
      "cls: 0.29926\n",
      "dfl: 2.55339\n",
      "hsv_h: 0.01257\n",
      "hsv_s: 0.56537\n",
      "hsv_v: 0.32761\n",
      "degrees: 0.0\n",
      "translate: 0.08603\n",
      "scale: 0.36301\n",
      "shear: 0.0\n",
      "perspective: 0.0\n",
      "flipud: 0.0\n",
      "fliplr: 0.29074\n",
      "bgr: 0.0\n",
      "mosaic: 0.91213\n",
      "mixup: 0.0\n",
      "copy_paste: 0.0\n",
      "\n",
      "\u001b[34m\u001b[1mTuner: \u001b[0mStarting iteration 69/100 with hyperparameters: {'lr0': 0.00431, 'lrf': 0.01079, 'momentum': 0.87811, 'weight_decay': 0.00046, 'warmup_epochs': 1.72258, 'warmup_momentum': 0.69575, 'box': 5.51495, 'cls': 0.27681, 'dfl': 2.08879, 'hsv_h': 0.01221, 'hsv_s': 0.5546, 'hsv_v': 0.3692, 'degrees': 0.0, 'translate': 0.09168, 'scale': 0.33485, 'shear': 0.0, 'perspective': 0.0, 'flipud': 0.0, 'fliplr': 0.332, 'bgr': 0.0, 'mosaic': 0.96171, 'mixup': 0.0, 'copy_paste': 0.0}\n",
      "Saved ..\\..\\runs\\tune8\\tune_scatter_plots.png\n",
      "Saved ..\\..\\runs\\tune8\\tune_fitness.png\n",
      "\n",
      "\u001b[34m\u001b[1mTuner: \u001b[0m69/100 iterations complete  (7757.66s)\n",
      "\u001b[34m\u001b[1mTuner: \u001b[0mResults saved to \u001b[1m..\\..\\runs\\tune8\u001b[0m\n",
      "\u001b[34m\u001b[1mTuner: \u001b[0mBest fitness=0.52328 observed at iteration 69\n",
      "\u001b[34m\u001b[1mTuner: \u001b[0mBest fitness metrics are {'metrics/precision(B)': 0.84845, 'metrics/recall(B)': 0.73438, 'metrics/mAP50(B)': 0.81602, 'metrics/mAP50-95(B)': 0.49076, 'val/box_loss': 0.98209, 'val/cls_loss': 0.41869, 'val/dfl_loss': 1.37975, 'fitness': 0.52328}\n",
      "\u001b[34m\u001b[1mTuner: \u001b[0mBest fitness model is ..\\..\\runs\\yolov8s_hyp_finetune397\n",
      "\u001b[34m\u001b[1mTuner: \u001b[0mBest fitness hyperparameters are printed below.\n",
      "\n",
      "Printing '\u001b[1m\u001b[30m..\\..\\runs\\tune8\\best_hyperparameters.yaml\u001b[0m'\n",
      "\n",
      "lr0: 0.00431\n",
      "lrf: 0.01079\n",
      "momentum: 0.87811\n",
      "weight_decay: 0.00046\n",
      "warmup_epochs: 1.72258\n",
      "warmup_momentum: 0.69575\n",
      "box: 5.51495\n",
      "cls: 0.27681\n",
      "dfl: 2.08879\n",
      "hsv_h: 0.01221\n",
      "hsv_s: 0.5546\n",
      "hsv_v: 0.3692\n",
      "degrees: 0.0\n",
      "translate: 0.09168\n",
      "scale: 0.33485\n",
      "shear: 0.0\n",
      "perspective: 0.0\n",
      "flipud: 0.0\n",
      "fliplr: 0.332\n",
      "bgr: 0.0\n",
      "mosaic: 0.96171\n",
      "mixup: 0.0\n",
      "copy_paste: 0.0\n",
      "\n",
      "\u001b[34m\u001b[1mTuner: \u001b[0mStarting iteration 70/100 with hyperparameters: {'lr0': 0.00463, 'lrf': 0.01373, 'momentum': 0.82307, 'weight_decay': 0.00047, 'warmup_epochs': 1.64718, 'warmup_momentum': 0.67259, 'box': 5.42996, 'cls': 0.29007, 'dfl': 2.15464, 'hsv_h': 0.01184, 'hsv_s': 0.54835, 'hsv_v': 0.40517, 'degrees': 0.0, 'translate': 0.1149, 'scale': 0.29982, 'shear': 0.0, 'perspective': 0.0, 'flipud': 0.0, 'fliplr': 0.34263, 'bgr': 0.0, 'mosaic': 0.94916, 'mixup': 0.0, 'copy_paste': 0.0}\n",
      "Saved ..\\..\\runs\\tune8\\tune_scatter_plots.png\n",
      "Saved ..\\..\\runs\\tune8\\tune_fitness.png\n",
      "\n",
      "\u001b[34m\u001b[1mTuner: \u001b[0m70/100 iterations complete  (7882.21s)\n",
      "\u001b[34m\u001b[1mTuner: \u001b[0mResults saved to \u001b[1m..\\..\\runs\\tune8\u001b[0m\n",
      "\u001b[34m\u001b[1mTuner: \u001b[0mBest fitness=0.52352 observed at iteration 70\n",
      "\u001b[34m\u001b[1mTuner: \u001b[0mBest fitness metrics are {'metrics/precision(B)': 0.90445, 'metrics/recall(B)': 0.66667, 'metrics/mAP50(B)': 0.81558, 'metrics/mAP50-95(B)': 0.49107, 'val/box_loss': 0.95392, 'val/cls_loss': 0.43037, 'val/dfl_loss': 1.44401, 'fitness': 0.52352}\n",
      "\u001b[34m\u001b[1mTuner: \u001b[0mBest fitness model is ..\\..\\runs\\yolov8s_hyp_finetune398\n",
      "\u001b[34m\u001b[1mTuner: \u001b[0mBest fitness hyperparameters are printed below.\n",
      "\n",
      "Printing '\u001b[1m\u001b[30m..\\..\\runs\\tune8\\best_hyperparameters.yaml\u001b[0m'\n",
      "\n",
      "lr0: 0.00463\n",
      "lrf: 0.01373\n",
      "momentum: 0.82307\n",
      "weight_decay: 0.00047\n",
      "warmup_epochs: 1.64718\n",
      "warmup_momentum: 0.67259\n",
      "box: 5.42996\n",
      "cls: 0.29007\n",
      "dfl: 2.15464\n",
      "hsv_h: 0.01184\n",
      "hsv_s: 0.54835\n",
      "hsv_v: 0.40517\n",
      "degrees: 0.0\n",
      "translate: 0.1149\n",
      "scale: 0.29982\n",
      "shear: 0.0\n",
      "perspective: 0.0\n",
      "flipud: 0.0\n",
      "fliplr: 0.34263\n",
      "bgr: 0.0\n",
      "mosaic: 0.94916\n",
      "mixup: 0.0\n",
      "copy_paste: 0.0\n",
      "\n",
      "\u001b[34m\u001b[1mTuner: \u001b[0mStarting iteration 71/100 with hyperparameters: {'lr0': 0.00548, 'lrf': 0.01148, 'momentum': 0.74286, 'weight_decay': 0.00047, 'warmup_epochs': 1.70681, 'warmup_momentum': 0.65661, 'box': 5.19998, 'cls': 0.29007, 'dfl': 2.15464, 'hsv_h': 0.01184, 'hsv_s': 0.62836, 'hsv_v': 0.42913, 'degrees': 0.0, 'translate': 0.09958, 'scale': 0.26412, 'shear': 0.0, 'perspective': 0.0, 'flipud': 0.0, 'fliplr': 0.34263, 'bgr': 0.0, 'mosaic': 1.0, 'mixup': 0.0, 'copy_paste': 0.0}\n",
      "Saved ..\\..\\runs\\tune8\\tune_scatter_plots.png\n",
      "Saved ..\\..\\runs\\tune8\\tune_fitness.png\n",
      "\n",
      "\u001b[34m\u001b[1mTuner: \u001b[0m71/100 iterations complete  (8003.58s)\n",
      "\u001b[34m\u001b[1mTuner: \u001b[0mResults saved to \u001b[1m..\\..\\runs\\tune8\u001b[0m\n",
      "\u001b[34m\u001b[1mTuner: \u001b[0mBest fitness=0.52352 observed at iteration 70\n",
      "\u001b[34m\u001b[1mTuner: \u001b[0mBest fitness metrics are {'metrics/precision(B)': 0.90445, 'metrics/recall(B)': 0.66667, 'metrics/mAP50(B)': 0.81558, 'metrics/mAP50-95(B)': 0.49107, 'val/box_loss': 0.95392, 'val/cls_loss': 0.43037, 'val/dfl_loss': 1.44401, 'fitness': 0.52352}\n",
      "\u001b[34m\u001b[1mTuner: \u001b[0mBest fitness model is ..\\..\\runs\\yolov8s_hyp_finetune398\n",
      "\u001b[34m\u001b[1mTuner: \u001b[0mBest fitness hyperparameters are printed below.\n",
      "\n",
      "Printing '\u001b[1m\u001b[30m..\\..\\runs\\tune8\\best_hyperparameters.yaml\u001b[0m'\n",
      "\n",
      "lr0: 0.00463\n",
      "lrf: 0.01373\n",
      "momentum: 0.82307\n",
      "weight_decay: 0.00047\n",
      "warmup_epochs: 1.64718\n",
      "warmup_momentum: 0.67259\n",
      "box: 5.42996\n",
      "cls: 0.29007\n",
      "dfl: 2.15464\n",
      "hsv_h: 0.01184\n",
      "hsv_s: 0.54835\n",
      "hsv_v: 0.40517\n",
      "degrees: 0.0\n",
      "translate: 0.1149\n",
      "scale: 0.29982\n",
      "shear: 0.0\n",
      "perspective: 0.0\n",
      "flipud: 0.0\n",
      "fliplr: 0.34263\n",
      "bgr: 0.0\n",
      "mosaic: 0.94916\n",
      "mixup: 0.0\n",
      "copy_paste: 0.0\n",
      "\n",
      "\u001b[34m\u001b[1mTuner: \u001b[0mStarting iteration 72/100 with hyperparameters: {'lr0': 0.00468, 'lrf': 0.01276, 'momentum': 0.82691, 'weight_decay': 0.00047, 'warmup_epochs': 1.82026, 'warmup_momentum': 0.66453, 'box': 5.74285, 'cls': 0.29301, 'dfl': 2.34132, 'hsv_h': 0.01068, 'hsv_s': 0.58448, 'hsv_v': 0.3719, 'degrees': 0.0, 'translate': 0.11943, 'scale': 0.27486, 'shear': 0.0, 'perspective': 0.0, 'flipud': 0.0, 'fliplr': 0.34263, 'bgr': 0.0, 'mosaic': 0.94916, 'mixup': 0.0, 'copy_paste': 0.0}\n",
      "Saved ..\\..\\runs\\tune8\\tune_scatter_plots.png\n",
      "Saved ..\\..\\runs\\tune8\\tune_fitness.png\n",
      "\n",
      "\u001b[34m\u001b[1mTuner: \u001b[0m72/100 iterations complete  (8129.30s)\n",
      "\u001b[34m\u001b[1mTuner: \u001b[0mResults saved to \u001b[1m..\\..\\runs\\tune8\u001b[0m\n",
      "\u001b[34m\u001b[1mTuner: \u001b[0mBest fitness=0.52352 observed at iteration 70\n",
      "\u001b[34m\u001b[1mTuner: \u001b[0mBest fitness metrics are {'metrics/precision(B)': 0.90445, 'metrics/recall(B)': 0.66667, 'metrics/mAP50(B)': 0.81558, 'metrics/mAP50-95(B)': 0.49107, 'val/box_loss': 0.95392, 'val/cls_loss': 0.43037, 'val/dfl_loss': 1.44401, 'fitness': 0.52352}\n",
      "\u001b[34m\u001b[1mTuner: \u001b[0mBest fitness model is ..\\..\\runs\\yolov8s_hyp_finetune398\n",
      "\u001b[34m\u001b[1mTuner: \u001b[0mBest fitness hyperparameters are printed below.\n",
      "\n",
      "Printing '\u001b[1m\u001b[30m..\\..\\runs\\tune8\\best_hyperparameters.yaml\u001b[0m'\n",
      "\n",
      "lr0: 0.00463\n",
      "lrf: 0.01373\n",
      "momentum: 0.82307\n",
      "weight_decay: 0.00047\n",
      "warmup_epochs: 1.64718\n",
      "warmup_momentum: 0.67259\n",
      "box: 5.42996\n",
      "cls: 0.29007\n",
      "dfl: 2.15464\n",
      "hsv_h: 0.01184\n",
      "hsv_s: 0.54835\n",
      "hsv_v: 0.40517\n",
      "degrees: 0.0\n",
      "translate: 0.1149\n",
      "scale: 0.29982\n",
      "shear: 0.0\n",
      "perspective: 0.0\n",
      "flipud: 0.0\n",
      "fliplr: 0.34263\n",
      "bgr: 0.0\n",
      "mosaic: 0.94916\n",
      "mixup: 0.0\n",
      "copy_paste: 0.0\n",
      "\n",
      "\u001b[34m\u001b[1mTuner: \u001b[0mStarting iteration 73/100 with hyperparameters: {'lr0': 0.00367, 'lrf': 0.01333, 'momentum': 0.85884, 'weight_decay': 0.00058, 'warmup_epochs': 1.83456, 'warmup_momentum': 0.68703, 'box': 5.24673, 'cls': 0.29363, 'dfl': 2.38756, 'hsv_h': 0.01273, 'hsv_s': 0.5746, 'hsv_v': 0.32761, 'degrees': 0.0, 'translate': 0.08661, 'scale': 0.36851, 'shear': 0.0, 'perspective': 0.0, 'flipud': 0.0, 'fliplr': 0.29074, 'bgr': 0.0, 'mosaic': 0.93382, 'mixup': 0.0, 'copy_paste': 0.0}\n",
      "Saved ..\\..\\runs\\tune8\\tune_scatter_plots.png\n",
      "Saved ..\\..\\runs\\tune8\\tune_fitness.png\n",
      "\n",
      "\u001b[34m\u001b[1mTuner: \u001b[0m73/100 iterations complete  (8253.57s)\n",
      "\u001b[34m\u001b[1mTuner: \u001b[0mResults saved to \u001b[1m..\\..\\runs\\tune8\u001b[0m\n",
      "\u001b[34m\u001b[1mTuner: \u001b[0mBest fitness=0.52352 observed at iteration 70\n",
      "\u001b[34m\u001b[1mTuner: \u001b[0mBest fitness metrics are {'metrics/precision(B)': 0.90445, 'metrics/recall(B)': 0.66667, 'metrics/mAP50(B)': 0.81558, 'metrics/mAP50-95(B)': 0.49107, 'val/box_loss': 0.95392, 'val/cls_loss': 0.43037, 'val/dfl_loss': 1.44401, 'fitness': 0.52352}\n",
      "\u001b[34m\u001b[1mTuner: \u001b[0mBest fitness model is ..\\..\\runs\\yolov8s_hyp_finetune398\n",
      "\u001b[34m\u001b[1mTuner: \u001b[0mBest fitness hyperparameters are printed below.\n",
      "\n",
      "Printing '\u001b[1m\u001b[30m..\\..\\runs\\tune8\\best_hyperparameters.yaml\u001b[0m'\n",
      "\n",
      "lr0: 0.00463\n",
      "lrf: 0.01373\n",
      "momentum: 0.82307\n",
      "weight_decay: 0.00047\n",
      "warmup_epochs: 1.64718\n",
      "warmup_momentum: 0.67259\n",
      "box: 5.42996\n",
      "cls: 0.29007\n",
      "dfl: 2.15464\n",
      "hsv_h: 0.01184\n",
      "hsv_s: 0.54835\n",
      "hsv_v: 0.40517\n",
      "degrees: 0.0\n",
      "translate: 0.1149\n",
      "scale: 0.29982\n",
      "shear: 0.0\n",
      "perspective: 0.0\n",
      "flipud: 0.0\n",
      "fliplr: 0.34263\n",
      "bgr: 0.0\n",
      "mosaic: 0.94916\n",
      "mixup: 0.0\n",
      "copy_paste: 0.0\n",
      "\n",
      "\u001b[34m\u001b[1mTuner: \u001b[0mStarting iteration 74/100 with hyperparameters: {'lr0': 0.0057, 'lrf': 0.01439, 'momentum': 0.79839, 'weight_decay': 0.00051, 'warmup_epochs': 1.73366, 'warmup_momentum': 0.72499, 'box': 5.99009, 'cls': 0.2, 'dfl': 2.15464, 'hsv_h': 0.00867, 'hsv_s': 0.59715, 'hsv_v': 0.44878, 'degrees': 0.0, 'translate': 0.10758, 'scale': 0.29337, 'shear': 0.0, 'perspective': 0.0, 'flipud': 0.0, 'fliplr': 0.29217, 'bgr': 0.0, 'mosaic': 0.91205, 'mixup': 0.0, 'copy_paste': 0.0}\n",
      "Saved ..\\..\\runs\\tune8\\tune_scatter_plots.png\n",
      "Saved ..\\..\\runs\\tune8\\tune_fitness.png\n",
      "\n",
      "\u001b[34m\u001b[1mTuner: \u001b[0m74/100 iterations complete  (8379.73s)\n",
      "\u001b[34m\u001b[1mTuner: \u001b[0mResults saved to \u001b[1m..\\..\\runs\\tune8\u001b[0m\n",
      "\u001b[34m\u001b[1mTuner: \u001b[0mBest fitness=0.52352 observed at iteration 70\n",
      "\u001b[34m\u001b[1mTuner: \u001b[0mBest fitness metrics are {'metrics/precision(B)': 0.90445, 'metrics/recall(B)': 0.66667, 'metrics/mAP50(B)': 0.81558, 'metrics/mAP50-95(B)': 0.49107, 'val/box_loss': 0.95392, 'val/cls_loss': 0.43037, 'val/dfl_loss': 1.44401, 'fitness': 0.52352}\n",
      "\u001b[34m\u001b[1mTuner: \u001b[0mBest fitness model is ..\\..\\runs\\yolov8s_hyp_finetune398\n",
      "\u001b[34m\u001b[1mTuner: \u001b[0mBest fitness hyperparameters are printed below.\n",
      "\n",
      "Printing '\u001b[1m\u001b[30m..\\..\\runs\\tune8\\best_hyperparameters.yaml\u001b[0m'\n",
      "\n",
      "lr0: 0.00463\n",
      "lrf: 0.01373\n",
      "momentum: 0.82307\n",
      "weight_decay: 0.00047\n",
      "warmup_epochs: 1.64718\n",
      "warmup_momentum: 0.67259\n",
      "box: 5.42996\n",
      "cls: 0.29007\n",
      "dfl: 2.15464\n",
      "hsv_h: 0.01184\n",
      "hsv_s: 0.54835\n",
      "hsv_v: 0.40517\n",
      "degrees: 0.0\n",
      "translate: 0.1149\n",
      "scale: 0.29982\n",
      "shear: 0.0\n",
      "perspective: 0.0\n",
      "flipud: 0.0\n",
      "fliplr: 0.34263\n",
      "bgr: 0.0\n",
      "mosaic: 0.94916\n",
      "mixup: 0.0\n",
      "copy_paste: 0.0\n",
      "\n",
      "\u001b[34m\u001b[1mTuner: \u001b[0mStarting iteration 75/100 with hyperparameters: {'lr0': 0.00439, 'lrf': 0.01341, 'momentum': 0.83942, 'weight_decay': 0.00042, 'warmup_epochs': 1.65303, 'warmup_momentum': 0.74374, 'box': 4.99849, 'cls': 0.28292, 'dfl': 2.15464, 'hsv_h': 0.01181, 'hsv_s': 0.56619, 'hsv_v': 0.393, 'degrees': 0.0, 'translate': 0.11245, 'scale': 0.34332, 'shear': 0.0, 'perspective': 0.0, 'flipud': 0.0, 'fliplr': 0.36147, 'bgr': 0.0, 'mosaic': 0.90215, 'mixup': 0.0, 'copy_paste': 0.0}\n",
      "Saved ..\\..\\runs\\tune8\\tune_scatter_plots.png\n",
      "Saved ..\\..\\runs\\tune8\\tune_fitness.png\n",
      "\n",
      "\u001b[34m\u001b[1mTuner: \u001b[0m75/100 iterations complete  (8504.05s)\n",
      "\u001b[34m\u001b[1mTuner: \u001b[0mResults saved to \u001b[1m..\\..\\runs\\tune8\u001b[0m\n",
      "\u001b[34m\u001b[1mTuner: \u001b[0mBest fitness=0.52352 observed at iteration 70\n",
      "\u001b[34m\u001b[1mTuner: \u001b[0mBest fitness metrics are {'metrics/precision(B)': 0.90445, 'metrics/recall(B)': 0.66667, 'metrics/mAP50(B)': 0.81558, 'metrics/mAP50-95(B)': 0.49107, 'val/box_loss': 0.95392, 'val/cls_loss': 0.43037, 'val/dfl_loss': 1.44401, 'fitness': 0.52352}\n",
      "\u001b[34m\u001b[1mTuner: \u001b[0mBest fitness model is ..\\..\\runs\\yolov8s_hyp_finetune398\n",
      "\u001b[34m\u001b[1mTuner: \u001b[0mBest fitness hyperparameters are printed below.\n",
      "\n",
      "Printing '\u001b[1m\u001b[30m..\\..\\runs\\tune8\\best_hyperparameters.yaml\u001b[0m'\n",
      "\n",
      "lr0: 0.00463\n",
      "lrf: 0.01373\n",
      "momentum: 0.82307\n",
      "weight_decay: 0.00047\n",
      "warmup_epochs: 1.64718\n",
      "warmup_momentum: 0.67259\n",
      "box: 5.42996\n",
      "cls: 0.29007\n",
      "dfl: 2.15464\n",
      "hsv_h: 0.01184\n",
      "hsv_s: 0.54835\n",
      "hsv_v: 0.40517\n",
      "degrees: 0.0\n",
      "translate: 0.1149\n",
      "scale: 0.29982\n",
      "shear: 0.0\n",
      "perspective: 0.0\n",
      "flipud: 0.0\n",
      "fliplr: 0.34263\n",
      "bgr: 0.0\n",
      "mosaic: 0.94916\n",
      "mixup: 0.0\n",
      "copy_paste: 0.0\n",
      "\n",
      "\u001b[34m\u001b[1mTuner: \u001b[0mStarting iteration 76/100 with hyperparameters: {'lr0': 0.00469, 'lrf': 0.01402, 'momentum': 0.81704, 'weight_decay': 0.00047, 'warmup_epochs': 1.64718, 'warmup_momentum': 0.67259, 'box': 5.88582, 'cls': 0.30737, 'dfl': 2.2837, 'hsv_h': 0.01148, 'hsv_s': 0.54382, 'hsv_v': 0.37246, 'degrees': 0.0, 'translate': 0.1095, 'scale': 0.32015, 'shear': 0.0, 'perspective': 0.0, 'flipud': 0.0, 'fliplr': 0.35439, 'bgr': 0.0, 'mosaic': 0.8896, 'mixup': 0.0, 'copy_paste': 0.0}\n",
      "Saved ..\\..\\runs\\tune8\\tune_scatter_plots.png\n",
      "Saved ..\\..\\runs\\tune8\\tune_fitness.png\n",
      "\n",
      "\u001b[34m\u001b[1mTuner: \u001b[0m76/100 iterations complete  (8629.19s)\n",
      "\u001b[34m\u001b[1mTuner: \u001b[0mResults saved to \u001b[1m..\\..\\runs\\tune8\u001b[0m\n",
      "\u001b[34m\u001b[1mTuner: \u001b[0mBest fitness=0.52844 observed at iteration 76\n",
      "\u001b[34m\u001b[1mTuner: \u001b[0mBest fitness metrics are {'metrics/precision(B)': 0.81651, 'metrics/recall(B)': 0.70833, 'metrics/mAP50(B)': 0.82625, 'metrics/mAP50-95(B)': 0.49535, 'val/box_loss': 1.04145, 'val/cls_loss': 0.47448, 'val/dfl_loss': 1.52664, 'fitness': 0.52844}\n",
      "\u001b[34m\u001b[1mTuner: \u001b[0mBest fitness model is ..\\..\\runs\\yolov8s_hyp_finetune404\n",
      "\u001b[34m\u001b[1mTuner: \u001b[0mBest fitness hyperparameters are printed below.\n",
      "\n",
      "Printing '\u001b[1m\u001b[30m..\\..\\runs\\tune8\\best_hyperparameters.yaml\u001b[0m'\n",
      "\n",
      "lr0: 0.00469\n",
      "lrf: 0.01402\n",
      "momentum: 0.81704\n",
      "weight_decay: 0.00047\n",
      "warmup_epochs: 1.64718\n",
      "warmup_momentum: 0.67259\n",
      "box: 5.88582\n",
      "cls: 0.30737\n",
      "dfl: 2.2837\n",
      "hsv_h: 0.01148\n",
      "hsv_s: 0.54382\n",
      "hsv_v: 0.37246\n",
      "degrees: 0.0\n",
      "translate: 0.1095\n",
      "scale: 0.32015\n",
      "shear: 0.0\n",
      "perspective: 0.0\n",
      "flipud: 0.0\n",
      "fliplr: 0.35439\n",
      "bgr: 0.0\n",
      "mosaic: 0.8896\n",
      "mixup: 0.0\n",
      "copy_paste: 0.0\n",
      "\n",
      "\u001b[34m\u001b[1mTuner: \u001b[0mStarting iteration 77/100 with hyperparameters: {'lr0': 0.00489, 'lrf': 0.01079, 'momentum': 0.91179, 'weight_decay': 0.00046, 'warmup_epochs': 1.85184, 'warmup_momentum': 0.9124, 'box': 4.34869, 'cls': 0.31069, 'dfl': 1.66223, 'hsv_h': 0.01253, 'hsv_s': 0.56163, 'hsv_v': 0.34501, 'degrees': 0.0, 'translate': 0.06879, 'scale': 0.35058, 'shear': 0.0, 'perspective': 0.0, 'flipud': 0.0, 'fliplr': 0.28506, 'bgr': 0.0, 'mosaic': 1.0, 'mixup': 0.0, 'copy_paste': 0.0}\n",
      "Saved ..\\..\\runs\\tune8\\tune_scatter_plots.png\n",
      "Saved ..\\..\\runs\\tune8\\tune_fitness.png\n",
      "\n",
      "\u001b[34m\u001b[1mTuner: \u001b[0m77/100 iterations complete  (8752.28s)\n",
      "\u001b[34m\u001b[1mTuner: \u001b[0mResults saved to \u001b[1m..\\..\\runs\\tune8\u001b[0m\n",
      "\u001b[34m\u001b[1mTuner: \u001b[0mBest fitness=0.52844 observed at iteration 76\n",
      "\u001b[34m\u001b[1mTuner: \u001b[0mBest fitness metrics are {'metrics/precision(B)': 0.81651, 'metrics/recall(B)': 0.70833, 'metrics/mAP50(B)': 0.82625, 'metrics/mAP50-95(B)': 0.49535, 'val/box_loss': 1.04145, 'val/cls_loss': 0.47448, 'val/dfl_loss': 1.52664, 'fitness': 0.52844}\n",
      "\u001b[34m\u001b[1mTuner: \u001b[0mBest fitness model is ..\\..\\runs\\yolov8s_hyp_finetune404\n",
      "\u001b[34m\u001b[1mTuner: \u001b[0mBest fitness hyperparameters are printed below.\n",
      "\n",
      "Printing '\u001b[1m\u001b[30m..\\..\\runs\\tune8\\best_hyperparameters.yaml\u001b[0m'\n",
      "\n",
      "lr0: 0.00469\n",
      "lrf: 0.01402\n",
      "momentum: 0.81704\n",
      "weight_decay: 0.00047\n",
      "warmup_epochs: 1.64718\n",
      "warmup_momentum: 0.67259\n",
      "box: 5.88582\n",
      "cls: 0.30737\n",
      "dfl: 2.2837\n",
      "hsv_h: 0.01148\n",
      "hsv_s: 0.54382\n",
      "hsv_v: 0.37246\n",
      "degrees: 0.0\n",
      "translate: 0.1095\n",
      "scale: 0.32015\n",
      "shear: 0.0\n",
      "perspective: 0.0\n",
      "flipud: 0.0\n",
      "fliplr: 0.35439\n",
      "bgr: 0.0\n",
      "mosaic: 0.8896\n",
      "mixup: 0.0\n",
      "copy_paste: 0.0\n",
      "\n",
      "\u001b[34m\u001b[1mTuner: \u001b[0mStarting iteration 78/100 with hyperparameters: {'lr0': 0.0052, 'lrf': 0.01402, 'momentum': 0.81904, 'weight_decay': 0.00049, 'warmup_epochs': 1.72692, 'warmup_momentum': 0.73703, 'box': 5.61993, 'cls': 0.3598, 'dfl': 2.37775, 'hsv_h': 0.01103, 'hsv_s': 0.54842, 'hsv_v': 0.33946, 'degrees': 0.0, 'translate': 0.0953, 'scale': 0.36671, 'shear': 0.0, 'perspective': 0.0, 'flipud': 0.0, 'fliplr': 0.3345, 'bgr': 0.0, 'mosaic': 0.9337, 'mixup': 0.0, 'copy_paste': 0.0}\n",
      "Saved ..\\..\\runs\\tune8\\tune_scatter_plots.png\n",
      "Saved ..\\..\\runs\\tune8\\tune_fitness.png\n",
      "\n",
      "\u001b[34m\u001b[1mTuner: \u001b[0m78/100 iterations complete  (8877.23s)\n",
      "\u001b[34m\u001b[1mTuner: \u001b[0mResults saved to \u001b[1m..\\..\\runs\\tune8\u001b[0m\n",
      "\u001b[34m\u001b[1mTuner: \u001b[0mBest fitness=0.52844 observed at iteration 76\n",
      "\u001b[34m\u001b[1mTuner: \u001b[0mBest fitness metrics are {'metrics/precision(B)': 0.81651, 'metrics/recall(B)': 0.70833, 'metrics/mAP50(B)': 0.82625, 'metrics/mAP50-95(B)': 0.49535, 'val/box_loss': 1.04145, 'val/cls_loss': 0.47448, 'val/dfl_loss': 1.52664, 'fitness': 0.52844}\n",
      "\u001b[34m\u001b[1mTuner: \u001b[0mBest fitness model is ..\\..\\runs\\yolov8s_hyp_finetune404\n",
      "\u001b[34m\u001b[1mTuner: \u001b[0mBest fitness hyperparameters are printed below.\n",
      "\n",
      "Printing '\u001b[1m\u001b[30m..\\..\\runs\\tune8\\best_hyperparameters.yaml\u001b[0m'\n",
      "\n",
      "lr0: 0.00469\n",
      "lrf: 0.01402\n",
      "momentum: 0.81704\n",
      "weight_decay: 0.00047\n",
      "warmup_epochs: 1.64718\n",
      "warmup_momentum: 0.67259\n",
      "box: 5.88582\n",
      "cls: 0.30737\n",
      "dfl: 2.2837\n",
      "hsv_h: 0.01148\n",
      "hsv_s: 0.54382\n",
      "hsv_v: 0.37246\n",
      "degrees: 0.0\n",
      "translate: 0.1095\n",
      "scale: 0.32015\n",
      "shear: 0.0\n",
      "perspective: 0.0\n",
      "flipud: 0.0\n",
      "fliplr: 0.35439\n",
      "bgr: 0.0\n",
      "mosaic: 0.8896\n",
      "mixup: 0.0\n",
      "copy_paste: 0.0\n",
      "\n",
      "\u001b[34m\u001b[1mTuner: \u001b[0mStarting iteration 79/100 with hyperparameters: {'lr0': 0.00459, 'lrf': 0.00936, 'momentum': 0.87915, 'weight_decay': 0.00045, 'warmup_epochs': 2.03693, 'warmup_momentum': 0.60395, 'box': 5.51495, 'cls': 0.3128, 'dfl': 2.08879, 'hsv_h': 0.01257, 'hsv_s': 0.45039, 'hsv_v': 0.3272, 'degrees': 0.0, 'translate': 0.10832, 'scale': 0.36409, 'shear': 0.0, 'perspective': 0.0, 'flipud': 0.0, 'fliplr': 0.38424, 'bgr': 0.0, 'mosaic': 0.75034, 'mixup': 0.0, 'copy_paste': 0.0}\n",
      "Saved ..\\..\\runs\\tune8\\tune_scatter_plots.png\n",
      "Saved ..\\..\\runs\\tune8\\tune_fitness.png\n",
      "\n",
      "\u001b[34m\u001b[1mTuner: \u001b[0m79/100 iterations complete  (9001.98s)\n",
      "\u001b[34m\u001b[1mTuner: \u001b[0mResults saved to \u001b[1m..\\..\\runs\\tune8\u001b[0m\n",
      "\u001b[34m\u001b[1mTuner: \u001b[0mBest fitness=0.52844 observed at iteration 76\n",
      "\u001b[34m\u001b[1mTuner: \u001b[0mBest fitness metrics are {'metrics/precision(B)': 0.81651, 'metrics/recall(B)': 0.70833, 'metrics/mAP50(B)': 0.82625, 'metrics/mAP50-95(B)': 0.49535, 'val/box_loss': 1.04145, 'val/cls_loss': 0.47448, 'val/dfl_loss': 1.52664, 'fitness': 0.52844}\n",
      "\u001b[34m\u001b[1mTuner: \u001b[0mBest fitness model is ..\\..\\runs\\yolov8s_hyp_finetune404\n",
      "\u001b[34m\u001b[1mTuner: \u001b[0mBest fitness hyperparameters are printed below.\n",
      "\n",
      "Printing '\u001b[1m\u001b[30m..\\..\\runs\\tune8\\best_hyperparameters.yaml\u001b[0m'\n",
      "\n",
      "lr0: 0.00469\n",
      "lrf: 0.01402\n",
      "momentum: 0.81704\n",
      "weight_decay: 0.00047\n",
      "warmup_epochs: 1.64718\n",
      "warmup_momentum: 0.67259\n",
      "box: 5.88582\n",
      "cls: 0.30737\n",
      "dfl: 2.2837\n",
      "hsv_h: 0.01148\n",
      "hsv_s: 0.54382\n",
      "hsv_v: 0.37246\n",
      "degrees: 0.0\n",
      "translate: 0.1095\n",
      "scale: 0.32015\n",
      "shear: 0.0\n",
      "perspective: 0.0\n",
      "flipud: 0.0\n",
      "fliplr: 0.35439\n",
      "bgr: 0.0\n",
      "mosaic: 0.8896\n",
      "mixup: 0.0\n",
      "copy_paste: 0.0\n",
      "\n",
      "\u001b[34m\u001b[1mTuner: \u001b[0mStarting iteration 80/100 with hyperparameters: {'lr0': 0.005, 'lrf': 0.01643, 'momentum': 0.81704, 'weight_decay': 0.00045, 'warmup_epochs': 1.64718, 'warmup_momentum': 0.72904, 'box': 5.88582, 'cls': 0.24268, 'dfl': 2.41325, 'hsv_h': 0.01148, 'hsv_s': 0.41208, 'hsv_v': 0.3771, 'degrees': 0.0, 'translate': 0.1095, 'scale': 0.32015, 'shear': 0.0, 'perspective': 0.0, 'flipud': 0.0, 'fliplr': 0.35439, 'bgr': 0.0, 'mosaic': 0.95769, 'mixup': 0.0, 'copy_paste': 0.0}\n",
      "Saved ..\\..\\runs\\tune8\\tune_scatter_plots.png\n",
      "Saved ..\\..\\runs\\tune8\\tune_fitness.png\n",
      "\n",
      "\u001b[34m\u001b[1mTuner: \u001b[0m80/100 iterations complete  (9124.70s)\n",
      "\u001b[34m\u001b[1mTuner: \u001b[0mResults saved to \u001b[1m..\\..\\runs\\tune8\u001b[0m\n",
      "\u001b[34m\u001b[1mTuner: \u001b[0mBest fitness=0.52844 observed at iteration 76\n",
      "\u001b[34m\u001b[1mTuner: \u001b[0mBest fitness metrics are {'metrics/precision(B)': 0.81651, 'metrics/recall(B)': 0.70833, 'metrics/mAP50(B)': 0.82625, 'metrics/mAP50-95(B)': 0.49535, 'val/box_loss': 1.04145, 'val/cls_loss': 0.47448, 'val/dfl_loss': 1.52664, 'fitness': 0.52844}\n",
      "\u001b[34m\u001b[1mTuner: \u001b[0mBest fitness model is ..\\..\\runs\\yolov8s_hyp_finetune404\n",
      "\u001b[34m\u001b[1mTuner: \u001b[0mBest fitness hyperparameters are printed below.\n",
      "\n",
      "Printing '\u001b[1m\u001b[30m..\\..\\runs\\tune8\\best_hyperparameters.yaml\u001b[0m'\n",
      "\n",
      "lr0: 0.00469\n",
      "lrf: 0.01402\n",
      "momentum: 0.81704\n",
      "weight_decay: 0.00047\n",
      "warmup_epochs: 1.64718\n",
      "warmup_momentum: 0.67259\n",
      "box: 5.88582\n",
      "cls: 0.30737\n",
      "dfl: 2.2837\n",
      "hsv_h: 0.01148\n",
      "hsv_s: 0.54382\n",
      "hsv_v: 0.37246\n",
      "degrees: 0.0\n",
      "translate: 0.1095\n",
      "scale: 0.32015\n",
      "shear: 0.0\n",
      "perspective: 0.0\n",
      "flipud: 0.0\n",
      "fliplr: 0.35439\n",
      "bgr: 0.0\n",
      "mosaic: 0.8896\n",
      "mixup: 0.0\n",
      "copy_paste: 0.0\n",
      "\n",
      "\u001b[34m\u001b[1mTuner: \u001b[0mStarting iteration 81/100 with hyperparameters: {'lr0': 0.00384, 'lrf': 0.01712, 'momentum': 0.78656, 'weight_decay': 0.00048, 'warmup_epochs': 1.95251, 'warmup_momentum': 0.8115, 'box': 5.64824, 'cls': 0.26331, 'dfl': 2.43492, 'hsv_h': 0.00842, 'hsv_s': 0.50538, 'hsv_v': 0.37246, 'degrees': 0.0, 'translate': 0.1095, 'scale': 0.37439, 'shear': 0.0, 'perspective': 0.0, 'flipud': 0.0, 'fliplr': 0.28278, 'bgr': 0.0, 'mosaic': 0.84383, 'mixup': 0.0, 'copy_paste': 0.0}\n",
      "Saved ..\\..\\runs\\tune8\\tune_scatter_plots.png\n",
      "Saved ..\\..\\runs\\tune8\\tune_fitness.png\n",
      "\n",
      "\u001b[34m\u001b[1mTuner: \u001b[0m81/100 iterations complete  (9249.83s)\n",
      "\u001b[34m\u001b[1mTuner: \u001b[0mResults saved to \u001b[1m..\\..\\runs\\tune8\u001b[0m\n",
      "\u001b[34m\u001b[1mTuner: \u001b[0mBest fitness=0.52844 observed at iteration 76\n",
      "\u001b[34m\u001b[1mTuner: \u001b[0mBest fitness metrics are {'metrics/precision(B)': 0.81651, 'metrics/recall(B)': 0.70833, 'metrics/mAP50(B)': 0.82625, 'metrics/mAP50-95(B)': 0.49535, 'val/box_loss': 1.04145, 'val/cls_loss': 0.47448, 'val/dfl_loss': 1.52664, 'fitness': 0.52844}\n",
      "\u001b[34m\u001b[1mTuner: \u001b[0mBest fitness model is ..\\..\\runs\\yolov8s_hyp_finetune404\n",
      "\u001b[34m\u001b[1mTuner: \u001b[0mBest fitness hyperparameters are printed below.\n",
      "\n",
      "Printing '\u001b[1m\u001b[30m..\\..\\runs\\tune8\\best_hyperparameters.yaml\u001b[0m'\n",
      "\n",
      "lr0: 0.00469\n",
      "lrf: 0.01402\n",
      "momentum: 0.81704\n",
      "weight_decay: 0.00047\n",
      "warmup_epochs: 1.64718\n",
      "warmup_momentum: 0.67259\n",
      "box: 5.88582\n",
      "cls: 0.30737\n",
      "dfl: 2.2837\n",
      "hsv_h: 0.01148\n",
      "hsv_s: 0.54382\n",
      "hsv_v: 0.37246\n",
      "degrees: 0.0\n",
      "translate: 0.1095\n",
      "scale: 0.32015\n",
      "shear: 0.0\n",
      "perspective: 0.0\n",
      "flipud: 0.0\n",
      "fliplr: 0.35439\n",
      "bgr: 0.0\n",
      "mosaic: 0.8896\n",
      "mixup: 0.0\n",
      "copy_paste: 0.0\n",
      "\n",
      "\u001b[34m\u001b[1mTuner: \u001b[0mStarting iteration 82/100 with hyperparameters: {'lr0': 0.00469, 'lrf': 0.01225, 'momentum': 0.83942, 'weight_decay': 0.0004, 'warmup_epochs': 1.32459, 'warmup_momentum': 0.86277, 'box': 6.62548, 'cls': 0.25328, 'dfl': 2.00965, 'hsv_h': 0.01261, 'hsv_s': 0.62323, 'hsv_v': 0.33985, 'degrees': 0.0, 'translate': 0.09533, 'scale': 0.30194, 'shear': 0.0, 'perspective': 0.0, 'flipud': 0.0, 'fliplr': 0.33345, 'bgr': 0.0, 'mosaic': 0.8896, 'mixup': 0.0, 'copy_paste': 0.0}\n",
      "Saved ..\\..\\runs\\tune8\\tune_scatter_plots.png\n",
      "Saved ..\\..\\runs\\tune8\\tune_fitness.png\n",
      "\n",
      "\u001b[34m\u001b[1mTuner: \u001b[0m82/100 iterations complete  (9371.35s)\n",
      "\u001b[34m\u001b[1mTuner: \u001b[0mResults saved to \u001b[1m..\\..\\runs\\tune8\u001b[0m\n",
      "\u001b[34m\u001b[1mTuner: \u001b[0mBest fitness=0.52844 observed at iteration 76\n",
      "\u001b[34m\u001b[1mTuner: \u001b[0mBest fitness metrics are {'metrics/precision(B)': 0.81651, 'metrics/recall(B)': 0.70833, 'metrics/mAP50(B)': 0.82625, 'metrics/mAP50-95(B)': 0.49535, 'val/box_loss': 1.04145, 'val/cls_loss': 0.47448, 'val/dfl_loss': 1.52664, 'fitness': 0.52844}\n",
      "\u001b[34m\u001b[1mTuner: \u001b[0mBest fitness model is ..\\..\\runs\\yolov8s_hyp_finetune404\n",
      "\u001b[34m\u001b[1mTuner: \u001b[0mBest fitness hyperparameters are printed below.\n",
      "\n",
      "Printing '\u001b[1m\u001b[30m..\\..\\runs\\tune8\\best_hyperparameters.yaml\u001b[0m'\n",
      "\n",
      "lr0: 0.00469\n",
      "lrf: 0.01402\n",
      "momentum: 0.81704\n",
      "weight_decay: 0.00047\n",
      "warmup_epochs: 1.64718\n",
      "warmup_momentum: 0.67259\n",
      "box: 5.88582\n",
      "cls: 0.30737\n",
      "dfl: 2.2837\n",
      "hsv_h: 0.01148\n",
      "hsv_s: 0.54382\n",
      "hsv_v: 0.37246\n",
      "degrees: 0.0\n",
      "translate: 0.1095\n",
      "scale: 0.32015\n",
      "shear: 0.0\n",
      "perspective: 0.0\n",
      "flipud: 0.0\n",
      "fliplr: 0.35439\n",
      "bgr: 0.0\n",
      "mosaic: 0.8896\n",
      "mixup: 0.0\n",
      "copy_paste: 0.0\n",
      "\n",
      "\u001b[34m\u001b[1mTuner: \u001b[0mStarting iteration 83/100 with hyperparameters: {'lr0': 0.0052, 'lrf': 0.01373, 'momentum': 0.78307, 'weight_decay': 0.00047, 'warmup_epochs': 1.83134, 'warmup_momentum': 0.57311, 'box': 5.55754, 'cls': 0.29102, 'dfl': 2.15464, 'hsv_h': 0.01184, 'hsv_s': 0.57728, 'hsv_v': 0.32665, 'degrees': 0.0, 'translate': 0.12186, 'scale': 0.27246, 'shear': 0.0, 'perspective': 0.0, 'flipud': 0.0, 'fliplr': 0.34646, 'bgr': 0.0, 'mosaic': 0.98814, 'mixup': 0.0, 'copy_paste': 0.0}\n",
      "Saved ..\\..\\runs\\tune8\\tune_scatter_plots.png\n",
      "Saved ..\\..\\runs\\tune8\\tune_fitness.png\n",
      "\n",
      "\u001b[34m\u001b[1mTuner: \u001b[0m83/100 iterations complete  (9492.52s)\n",
      "\u001b[34m\u001b[1mTuner: \u001b[0mResults saved to \u001b[1m..\\..\\runs\\tune8\u001b[0m\n",
      "\u001b[34m\u001b[1mTuner: \u001b[0mBest fitness=0.5303 observed at iteration 83\n",
      "\u001b[34m\u001b[1mTuner: \u001b[0mBest fitness metrics are {'metrics/precision(B)': 0.83032, 'metrics/recall(B)': 0.74479, 'metrics/mAP50(B)': 0.83061, 'metrics/mAP50-95(B)': 0.49693, 'val/box_loss': 0.94922, 'val/cls_loss': 0.44851, 'val/dfl_loss': 1.40667, 'fitness': 0.5303}\n",
      "\u001b[34m\u001b[1mTuner: \u001b[0mBest fitness model is ..\\..\\runs\\yolov8s_hyp_finetune411\n",
      "\u001b[34m\u001b[1mTuner: \u001b[0mBest fitness hyperparameters are printed below.\n",
      "\n",
      "Printing '\u001b[1m\u001b[30m..\\..\\runs\\tune8\\best_hyperparameters.yaml\u001b[0m'\n",
      "\n",
      "lr0: 0.0052\n",
      "lrf: 0.01373\n",
      "momentum: 0.78307\n",
      "weight_decay: 0.00047\n",
      "warmup_epochs: 1.83134\n",
      "warmup_momentum: 0.57311\n",
      "box: 5.55754\n",
      "cls: 0.29102\n",
      "dfl: 2.15464\n",
      "hsv_h: 0.01184\n",
      "hsv_s: 0.57728\n",
      "hsv_v: 0.32665\n",
      "degrees: 0.0\n",
      "translate: 0.12186\n",
      "scale: 0.27246\n",
      "shear: 0.0\n",
      "perspective: 0.0\n",
      "flipud: 0.0\n",
      "fliplr: 0.34646\n",
      "bgr: 0.0\n",
      "mosaic: 0.98814\n",
      "mixup: 0.0\n",
      "copy_paste: 0.0\n",
      "\n",
      "\u001b[34m\u001b[1mTuner: \u001b[0mStarting iteration 84/100 with hyperparameters: {'lr0': 0.00601, 'lrf': 0.01426, 'momentum': 0.82497, 'weight_decay': 0.0003, 'warmup_epochs': 1.70681, 'warmup_momentum': 0.72399, 'box': 5.55754, 'cls': 0.26796, 'dfl': 2.15464, 'hsv_h': 0.01184, 'hsv_s': 0.57728, 'hsv_v': 0.29278, 'degrees': 0.0, 'translate': 0.12186, 'scale': 0.29542, 'shear': 0.0, 'perspective': 0.0, 'flipud': 0.0, 'fliplr': 0.28375, 'bgr': 0.0, 'mosaic': 0.98814, 'mixup': 0.0, 'copy_paste': 0.0}\n",
      "Saved ..\\..\\runs\\tune8\\tune_scatter_plots.png\n",
      "Saved ..\\..\\runs\\tune8\\tune_fitness.png\n",
      "\n",
      "\u001b[34m\u001b[1mTuner: \u001b[0m84/100 iterations complete  (9610.66s)\n",
      "\u001b[34m\u001b[1mTuner: \u001b[0mResults saved to \u001b[1m..\\..\\runs\\tune8\u001b[0m\n",
      "\u001b[34m\u001b[1mTuner: \u001b[0mBest fitness=0.5303 observed at iteration 83\n",
      "\u001b[34m\u001b[1mTuner: \u001b[0mBest fitness metrics are {'metrics/precision(B)': 0.83032, 'metrics/recall(B)': 0.74479, 'metrics/mAP50(B)': 0.83061, 'metrics/mAP50-95(B)': 0.49693, 'val/box_loss': 0.94922, 'val/cls_loss': 0.44851, 'val/dfl_loss': 1.40667, 'fitness': 0.5303}\n",
      "\u001b[34m\u001b[1mTuner: \u001b[0mBest fitness model is ..\\..\\runs\\yolov8s_hyp_finetune411\n",
      "\u001b[34m\u001b[1mTuner: \u001b[0mBest fitness hyperparameters are printed below.\n",
      "\n",
      "Printing '\u001b[1m\u001b[30m..\\..\\runs\\tune8\\best_hyperparameters.yaml\u001b[0m'\n",
      "\n",
      "lr0: 0.0052\n",
      "lrf: 0.01373\n",
      "momentum: 0.78307\n",
      "weight_decay: 0.00047\n",
      "warmup_epochs: 1.83134\n",
      "warmup_momentum: 0.57311\n",
      "box: 5.55754\n",
      "cls: 0.29102\n",
      "dfl: 2.15464\n",
      "hsv_h: 0.01184\n",
      "hsv_s: 0.57728\n",
      "hsv_v: 0.32665\n",
      "degrees: 0.0\n",
      "translate: 0.12186\n",
      "scale: 0.27246\n",
      "shear: 0.0\n",
      "perspective: 0.0\n",
      "flipud: 0.0\n",
      "fliplr: 0.34646\n",
      "bgr: 0.0\n",
      "mosaic: 0.98814\n",
      "mixup: 0.0\n",
      "copy_paste: 0.0\n",
      "\n",
      "\u001b[34m\u001b[1mTuner: \u001b[0mStarting iteration 85/100 with hyperparameters: {'lr0': 0.00465, 'lrf': 0.01416, 'momentum': 0.82124, 'weight_decay': 0.00052, 'warmup_epochs': 1.64718, 'warmup_momentum': 0.71766, 'box': 6.40647, 'cls': 0.30737, 'dfl': 2.43968, 'hsv_h': 0.01116, 'hsv_s': 0.52695, 'hsv_v': 0.39004, 'degrees': 0.0, 'translate': 0.1147, 'scale': 0.30351, 'shear': 0.0, 'perspective': 0.0, 'flipud': 0.0, 'fliplr': 0.34612, 'bgr': 0.0, 'mosaic': 0.83139, 'mixup': 0.0, 'copy_paste': 0.0}\n",
      "Saved ..\\..\\runs\\tune8\\tune_scatter_plots.png\n",
      "Saved ..\\..\\runs\\tune8\\tune_fitness.png\n",
      "\n",
      "\u001b[34m\u001b[1mTuner: \u001b[0m85/100 iterations complete  (9721.59s)\n",
      "\u001b[34m\u001b[1mTuner: \u001b[0mResults saved to \u001b[1m..\\..\\runs\\tune8\u001b[0m\n",
      "\u001b[34m\u001b[1mTuner: \u001b[0mBest fitness=0.5303 observed at iteration 83\n",
      "\u001b[34m\u001b[1mTuner: \u001b[0mBest fitness metrics are {'metrics/precision(B)': 0.83032, 'metrics/recall(B)': 0.74479, 'metrics/mAP50(B)': 0.83061, 'metrics/mAP50-95(B)': 0.49693, 'val/box_loss': 0.94922, 'val/cls_loss': 0.44851, 'val/dfl_loss': 1.40667, 'fitness': 0.5303}\n",
      "\u001b[34m\u001b[1mTuner: \u001b[0mBest fitness model is ..\\..\\runs\\yolov8s_hyp_finetune411\n",
      "\u001b[34m\u001b[1mTuner: \u001b[0mBest fitness hyperparameters are printed below.\n",
      "\n",
      "Printing '\u001b[1m\u001b[30m..\\..\\runs\\tune8\\best_hyperparameters.yaml\u001b[0m'\n",
      "\n",
      "lr0: 0.0052\n",
      "lrf: 0.01373\n",
      "momentum: 0.78307\n",
      "weight_decay: 0.00047\n",
      "warmup_epochs: 1.83134\n",
      "warmup_momentum: 0.57311\n",
      "box: 5.55754\n",
      "cls: 0.29102\n",
      "dfl: 2.15464\n",
      "hsv_h: 0.01184\n",
      "hsv_s: 0.57728\n",
      "hsv_v: 0.32665\n",
      "degrees: 0.0\n",
      "translate: 0.12186\n",
      "scale: 0.27246\n",
      "shear: 0.0\n",
      "perspective: 0.0\n",
      "flipud: 0.0\n",
      "fliplr: 0.34646\n",
      "bgr: 0.0\n",
      "mosaic: 0.98814\n",
      "mixup: 0.0\n",
      "copy_paste: 0.0\n",
      "\n",
      "\u001b[34m\u001b[1mTuner: \u001b[0mStarting iteration 86/100 with hyperparameters: {'lr0': 0.00522, 'lrf': 0.00907, 'momentum': 0.82429, 'weight_decay': 0.0004, 'warmup_epochs': 1.64718, 'warmup_momentum': 0.78432, 'box': 5.37433, 'cls': 0.40424, 'dfl': 2.44818, 'hsv_h': 0.01015, 'hsv_s': 0.45226, 'hsv_v': 0.42041, 'degrees': 0.0, 'translate': 0.14304, 'scale': 0.29982, 'shear': 0.0, 'perspective': 0.0, 'flipud': 0.0, 'fliplr': 0.23765, 'bgr': 0.0, 'mosaic': 1.0, 'mixup': 0.0, 'copy_paste': 0.0}\n",
      "Saved ..\\..\\runs\\tune8\\tune_scatter_plots.png\n",
      "Saved ..\\..\\runs\\tune8\\tune_fitness.png\n",
      "\n",
      "\u001b[34m\u001b[1mTuner: \u001b[0m86/100 iterations complete  (9829.64s)\n",
      "\u001b[34m\u001b[1mTuner: \u001b[0mResults saved to \u001b[1m..\\..\\runs\\tune8\u001b[0m\n",
      "\u001b[34m\u001b[1mTuner: \u001b[0mBest fitness=0.5303 observed at iteration 83\n",
      "\u001b[34m\u001b[1mTuner: \u001b[0mBest fitness metrics are {'metrics/precision(B)': 0.83032, 'metrics/recall(B)': 0.74479, 'metrics/mAP50(B)': 0.83061, 'metrics/mAP50-95(B)': 0.49693, 'val/box_loss': 0.94922, 'val/cls_loss': 0.44851, 'val/dfl_loss': 1.40667, 'fitness': 0.5303}\n",
      "\u001b[34m\u001b[1mTuner: \u001b[0mBest fitness model is ..\\..\\runs\\yolov8s_hyp_finetune411\n",
      "\u001b[34m\u001b[1mTuner: \u001b[0mBest fitness hyperparameters are printed below.\n",
      "\n",
      "Printing '\u001b[1m\u001b[30m..\\..\\runs\\tune8\\best_hyperparameters.yaml\u001b[0m'\n",
      "\n",
      "lr0: 0.0052\n",
      "lrf: 0.01373\n",
      "momentum: 0.78307\n",
      "weight_decay: 0.00047\n",
      "warmup_epochs: 1.83134\n",
      "warmup_momentum: 0.57311\n",
      "box: 5.55754\n",
      "cls: 0.29102\n",
      "dfl: 2.15464\n",
      "hsv_h: 0.01184\n",
      "hsv_s: 0.57728\n",
      "hsv_v: 0.32665\n",
      "degrees: 0.0\n",
      "translate: 0.12186\n",
      "scale: 0.27246\n",
      "shear: 0.0\n",
      "perspective: 0.0\n",
      "flipud: 0.0\n",
      "fliplr: 0.34646\n",
      "bgr: 0.0\n",
      "mosaic: 0.98814\n",
      "mixup: 0.0\n",
      "copy_paste: 0.0\n",
      "\n",
      "\u001b[34m\u001b[1mTuner: \u001b[0mStarting iteration 87/100 with hyperparameters: {'lr0': 0.00584, 'lrf': 0.01373, 'momentum': 0.78373, 'weight_decay': 0.00047, 'warmup_epochs': 1.70032, 'warmup_momentum': 0.66433, 'box': 4.76168, 'cls': 0.27114, 'dfl': 2.36493, 'hsv_h': 0.01178, 'hsv_s': 0.55468, 'hsv_v': 0.33235, 'degrees': 0.0, 'translate': 0.12186, 'scale': 0.28851, 'shear': 0.0, 'perspective': 0.0, 'flipud': 0.0, 'fliplr': 0.35618, 'bgr': 0.0, 'mosaic': 0.98814, 'mixup': 0.0, 'copy_paste': 0.0}\n",
      "Saved ..\\..\\runs\\tune8\\tune_scatter_plots.png\n",
      "Saved ..\\..\\runs\\tune8\\tune_fitness.png\n",
      "\n",
      "\u001b[34m\u001b[1mTuner: \u001b[0m87/100 iterations complete  (9940.35s)\n",
      "\u001b[34m\u001b[1mTuner: \u001b[0mResults saved to \u001b[1m..\\..\\runs\\tune8\u001b[0m\n",
      "\u001b[34m\u001b[1mTuner: \u001b[0mBest fitness=0.5303 observed at iteration 83\n",
      "\u001b[34m\u001b[1mTuner: \u001b[0mBest fitness metrics are {'metrics/precision(B)': 0.83032, 'metrics/recall(B)': 0.74479, 'metrics/mAP50(B)': 0.83061, 'metrics/mAP50-95(B)': 0.49693, 'val/box_loss': 0.94922, 'val/cls_loss': 0.44851, 'val/dfl_loss': 1.40667, 'fitness': 0.5303}\n",
      "\u001b[34m\u001b[1mTuner: \u001b[0mBest fitness model is ..\\..\\runs\\yolov8s_hyp_finetune411\n",
      "\u001b[34m\u001b[1mTuner: \u001b[0mBest fitness hyperparameters are printed below.\n",
      "\n",
      "Printing '\u001b[1m\u001b[30m..\\..\\runs\\tune8\\best_hyperparameters.yaml\u001b[0m'\n",
      "\n",
      "lr0: 0.0052\n",
      "lrf: 0.01373\n",
      "momentum: 0.78307\n",
      "weight_decay: 0.00047\n",
      "warmup_epochs: 1.83134\n",
      "warmup_momentum: 0.57311\n",
      "box: 5.55754\n",
      "cls: 0.29102\n",
      "dfl: 2.15464\n",
      "hsv_h: 0.01184\n",
      "hsv_s: 0.57728\n",
      "hsv_v: 0.32665\n",
      "degrees: 0.0\n",
      "translate: 0.12186\n",
      "scale: 0.27246\n",
      "shear: 0.0\n",
      "perspective: 0.0\n",
      "flipud: 0.0\n",
      "fliplr: 0.34646\n",
      "bgr: 0.0\n",
      "mosaic: 0.98814\n",
      "mixup: 0.0\n",
      "copy_paste: 0.0\n",
      "\n",
      "\u001b[34m\u001b[1mTuner: \u001b[0mStarting iteration 88/100 with hyperparameters: {'lr0': 0.00528, 'lrf': 0.01333, 'momentum': 0.81704, 'weight_decay': 0.00057, 'warmup_epochs': 2.00071, 'warmup_momentum': 0.62873, 'box': 6.79074, 'cls': 0.33739, 'dfl': 1.89912, 'hsv_h': 0.01073, 'hsv_s': 0.54382, 'hsv_v': 0.35767, 'degrees': 0.0, 'translate': 0.11482, 'scale': 0.39175, 'shear': 0.0, 'perspective': 0.0, 'flipud': 0.0, 'fliplr': 0.28868, 'bgr': 0.0, 'mosaic': 0.84357, 'mixup': 0.0, 'copy_paste': 0.0}\n",
      "Saved ..\\..\\runs\\tune8\\tune_scatter_plots.png\n",
      "Saved ..\\..\\runs\\tune8\\tune_fitness.png\n",
      "\n",
      "\u001b[34m\u001b[1mTuner: \u001b[0m88/100 iterations complete  (10051.03s)\n",
      "\u001b[34m\u001b[1mTuner: \u001b[0mResults saved to \u001b[1m..\\..\\runs\\tune8\u001b[0m\n",
      "\u001b[34m\u001b[1mTuner: \u001b[0mBest fitness=0.5303 observed at iteration 83\n",
      "\u001b[34m\u001b[1mTuner: \u001b[0mBest fitness metrics are {'metrics/precision(B)': 0.83032, 'metrics/recall(B)': 0.74479, 'metrics/mAP50(B)': 0.83061, 'metrics/mAP50-95(B)': 0.49693, 'val/box_loss': 0.94922, 'val/cls_loss': 0.44851, 'val/dfl_loss': 1.40667, 'fitness': 0.5303}\n",
      "\u001b[34m\u001b[1mTuner: \u001b[0mBest fitness model is ..\\..\\runs\\yolov8s_hyp_finetune411\n",
      "\u001b[34m\u001b[1mTuner: \u001b[0mBest fitness hyperparameters are printed below.\n",
      "\n",
      "Printing '\u001b[1m\u001b[30m..\\..\\runs\\tune8\\best_hyperparameters.yaml\u001b[0m'\n",
      "\n",
      "lr0: 0.0052\n",
      "lrf: 0.01373\n",
      "momentum: 0.78307\n",
      "weight_decay: 0.00047\n",
      "warmup_epochs: 1.83134\n",
      "warmup_momentum: 0.57311\n",
      "box: 5.55754\n",
      "cls: 0.29102\n",
      "dfl: 2.15464\n",
      "hsv_h: 0.01184\n",
      "hsv_s: 0.57728\n",
      "hsv_v: 0.32665\n",
      "degrees: 0.0\n",
      "translate: 0.12186\n",
      "scale: 0.27246\n",
      "shear: 0.0\n",
      "perspective: 0.0\n",
      "flipud: 0.0\n",
      "fliplr: 0.34646\n",
      "bgr: 0.0\n",
      "mosaic: 0.98814\n",
      "mixup: 0.0\n",
      "copy_paste: 0.0\n",
      "\n",
      "\u001b[34m\u001b[1mTuner: \u001b[0mStarting iteration 89/100 with hyperparameters: {'lr0': 0.00608, 'lrf': 0.01373, 'momentum': 0.78307, 'weight_decay': 0.00053, 'warmup_epochs': 1.41786, 'warmup_momentum': 0.50188, 'box': 5.1098, 'cls': 0.29102, 'dfl': 2.36669, 'hsv_h': 0.01315, 'hsv_s': 0.47216, 'hsv_v': 0.32665, 'degrees': 0.0, 'translate': 0.13837, 'scale': 0.30792, 'shear': 0.0, 'perspective': 0.0, 'flipud': 0.0, 'fliplr': 0.34646, 'bgr': 0.0, 'mosaic': 0.7852, 'mixup': 0.0, 'copy_paste': 0.0}\n",
      "Saved ..\\..\\runs\\tune8\\tune_scatter_plots.png\n",
      "Saved ..\\..\\runs\\tune8\\tune_fitness.png\n",
      "\n",
      "\u001b[34m\u001b[1mTuner: \u001b[0m89/100 iterations complete  (10162.46s)\n",
      "\u001b[34m\u001b[1mTuner: \u001b[0mResults saved to \u001b[1m..\\..\\runs\\tune8\u001b[0m\n",
      "\u001b[34m\u001b[1mTuner: \u001b[0mBest fitness=0.5303 observed at iteration 83\n",
      "\u001b[34m\u001b[1mTuner: \u001b[0mBest fitness metrics are {'metrics/precision(B)': 0.83032, 'metrics/recall(B)': 0.74479, 'metrics/mAP50(B)': 0.83061, 'metrics/mAP50-95(B)': 0.49693, 'val/box_loss': 0.94922, 'val/cls_loss': 0.44851, 'val/dfl_loss': 1.40667, 'fitness': 0.5303}\n",
      "\u001b[34m\u001b[1mTuner: \u001b[0mBest fitness model is ..\\..\\runs\\yolov8s_hyp_finetune411\n",
      "\u001b[34m\u001b[1mTuner: \u001b[0mBest fitness hyperparameters are printed below.\n",
      "\n",
      "Printing '\u001b[1m\u001b[30m..\\..\\runs\\tune8\\best_hyperparameters.yaml\u001b[0m'\n",
      "\n",
      "lr0: 0.0052\n",
      "lrf: 0.01373\n",
      "momentum: 0.78307\n",
      "weight_decay: 0.00047\n",
      "warmup_epochs: 1.83134\n",
      "warmup_momentum: 0.57311\n",
      "box: 5.55754\n",
      "cls: 0.29102\n",
      "dfl: 2.15464\n",
      "hsv_h: 0.01184\n",
      "hsv_s: 0.57728\n",
      "hsv_v: 0.32665\n",
      "degrees: 0.0\n",
      "translate: 0.12186\n",
      "scale: 0.27246\n",
      "shear: 0.0\n",
      "perspective: 0.0\n",
      "flipud: 0.0\n",
      "fliplr: 0.34646\n",
      "bgr: 0.0\n",
      "mosaic: 0.98814\n",
      "mixup: 0.0\n",
      "copy_paste: 0.0\n",
      "\n",
      "\u001b[34m\u001b[1mTuner: \u001b[0mStarting iteration 90/100 with hyperparameters: {'lr0': 0.00585, 'lrf': 0.0131, 'momentum': 0.76328, 'weight_decay': 0.00047, 'warmup_epochs': 2.04286, 'warmup_momentum': 0.40814, 'box': 5.31497, 'cls': 0.2865, 'dfl': 2.41273, 'hsv_h': 0.013, 'hsv_s': 0.62096, 'hsv_v': 0.32707, 'degrees': 0.0, 'translate': 0.12799, 'scale': 0.27429, 'shear': 0.0, 'perspective': 0.0, 'flipud': 0.0, 'fliplr': 0.30486, 'bgr': 0.0, 'mosaic': 0.95728, 'mixup': 0.0, 'copy_paste': 0.0}\n",
      "Saved ..\\..\\runs\\tune8\\tune_scatter_plots.png\n",
      "Saved ..\\..\\runs\\tune8\\tune_fitness.png\n",
      "\n",
      "\u001b[34m\u001b[1mTuner: \u001b[0m90/100 iterations complete  (10273.38s)\n",
      "\u001b[34m\u001b[1mTuner: \u001b[0mResults saved to \u001b[1m..\\..\\runs\\tune8\u001b[0m\n",
      "\u001b[34m\u001b[1mTuner: \u001b[0mBest fitness=0.5303 observed at iteration 83\n",
      "\u001b[34m\u001b[1mTuner: \u001b[0mBest fitness metrics are {'metrics/precision(B)': 0.83032, 'metrics/recall(B)': 0.74479, 'metrics/mAP50(B)': 0.83061, 'metrics/mAP50-95(B)': 0.49693, 'val/box_loss': 0.94922, 'val/cls_loss': 0.44851, 'val/dfl_loss': 1.40667, 'fitness': 0.5303}\n",
      "\u001b[34m\u001b[1mTuner: \u001b[0mBest fitness model is ..\\..\\runs\\yolov8s_hyp_finetune411\n",
      "\u001b[34m\u001b[1mTuner: \u001b[0mBest fitness hyperparameters are printed below.\n",
      "\n",
      "Printing '\u001b[1m\u001b[30m..\\..\\runs\\tune8\\best_hyperparameters.yaml\u001b[0m'\n",
      "\n",
      "lr0: 0.0052\n",
      "lrf: 0.01373\n",
      "momentum: 0.78307\n",
      "weight_decay: 0.00047\n",
      "warmup_epochs: 1.83134\n",
      "warmup_momentum: 0.57311\n",
      "box: 5.55754\n",
      "cls: 0.29102\n",
      "dfl: 2.15464\n",
      "hsv_h: 0.01184\n",
      "hsv_s: 0.57728\n",
      "hsv_v: 0.32665\n",
      "degrees: 0.0\n",
      "translate: 0.12186\n",
      "scale: 0.27246\n",
      "shear: 0.0\n",
      "perspective: 0.0\n",
      "flipud: 0.0\n",
      "fliplr: 0.34646\n",
      "bgr: 0.0\n",
      "mosaic: 0.98814\n",
      "mixup: 0.0\n",
      "copy_paste: 0.0\n",
      "\n",
      "\u001b[34m\u001b[1mTuner: \u001b[0mStarting iteration 91/100 with hyperparameters: {'lr0': 0.00434, 'lrf': 0.01073, 'momentum': 0.87232, 'weight_decay': 0.00046, 'warmup_epochs': 1.72368, 'warmup_momentum': 0.69633, 'box': 5.47482, 'cls': 0.27681, 'dfl': 2.07607, 'hsv_h': 0.01273, 'hsv_s': 0.55667, 'hsv_v': 0.37605, 'degrees': 0.0, 'translate': 0.09168, 'scale': 0.32429, 'shear': 0.0, 'perspective': 0.0, 'flipud': 0.0, 'fliplr': 0.332, 'bgr': 0.0, 'mosaic': 0.96726, 'mixup': 0.0, 'copy_paste': 0.0}\n",
      "Saved ..\\..\\runs\\tune8\\tune_scatter_plots.png\n",
      "Saved ..\\..\\runs\\tune8\\tune_fitness.png\n",
      "\n",
      "\u001b[34m\u001b[1mTuner: \u001b[0m91/100 iterations complete  (10383.33s)\n",
      "\u001b[34m\u001b[1mTuner: \u001b[0mResults saved to \u001b[1m..\\..\\runs\\tune8\u001b[0m\n",
      "\u001b[34m\u001b[1mTuner: \u001b[0mBest fitness=0.5303 observed at iteration 83\n",
      "\u001b[34m\u001b[1mTuner: \u001b[0mBest fitness metrics are {'metrics/precision(B)': 0.83032, 'metrics/recall(B)': 0.74479, 'metrics/mAP50(B)': 0.83061, 'metrics/mAP50-95(B)': 0.49693, 'val/box_loss': 0.94922, 'val/cls_loss': 0.44851, 'val/dfl_loss': 1.40667, 'fitness': 0.5303}\n",
      "\u001b[34m\u001b[1mTuner: \u001b[0mBest fitness model is ..\\..\\runs\\yolov8s_hyp_finetune411\n",
      "\u001b[34m\u001b[1mTuner: \u001b[0mBest fitness hyperparameters are printed below.\n",
      "\n",
      "Printing '\u001b[1m\u001b[30m..\\..\\runs\\tune8\\best_hyperparameters.yaml\u001b[0m'\n",
      "\n",
      "lr0: 0.0052\n",
      "lrf: 0.01373\n",
      "momentum: 0.78307\n",
      "weight_decay: 0.00047\n",
      "warmup_epochs: 1.83134\n",
      "warmup_momentum: 0.57311\n",
      "box: 5.55754\n",
      "cls: 0.29102\n",
      "dfl: 2.15464\n",
      "hsv_h: 0.01184\n",
      "hsv_s: 0.57728\n",
      "hsv_v: 0.32665\n",
      "degrees: 0.0\n",
      "translate: 0.12186\n",
      "scale: 0.27246\n",
      "shear: 0.0\n",
      "perspective: 0.0\n",
      "flipud: 0.0\n",
      "fliplr: 0.34646\n",
      "bgr: 0.0\n",
      "mosaic: 0.98814\n",
      "mixup: 0.0\n",
      "copy_paste: 0.0\n",
      "\n",
      "\u001b[34m\u001b[1mTuner: \u001b[0mStarting iteration 92/100 with hyperparameters: {'lr0': 0.00516, 'lrf': 0.0148, 'momentum': 0.85886, 'weight_decay': 0.00043, 'warmup_epochs': 1.74295, 'warmup_momentum': 0.734, 'box': 6.23365, 'cls': 0.30737, 'dfl': 2.05376, 'hsv_h': 0.01148, 'hsv_s': 0.54382, 'hsv_v': 0.36078, 'degrees': 0.0, 'translate': 0.10302, 'scale': 0.26779, 'shear': 0.0, 'perspective': 0.0, 'flipud': 0.0, 'fliplr': 0.42918, 'bgr': 0.0, 'mosaic': 0.8896, 'mixup': 0.0, 'copy_paste': 0.0}\n",
      "Saved ..\\..\\runs\\tune8\\tune_scatter_plots.png\n",
      "Saved ..\\..\\runs\\tune8\\tune_fitness.png\n",
      "\n",
      "\u001b[34m\u001b[1mTuner: \u001b[0m92/100 iterations complete  (10490.78s)\n",
      "\u001b[34m\u001b[1mTuner: \u001b[0mResults saved to \u001b[1m..\\..\\runs\\tune8\u001b[0m\n",
      "\u001b[34m\u001b[1mTuner: \u001b[0mBest fitness=0.5303 observed at iteration 83\n",
      "\u001b[34m\u001b[1mTuner: \u001b[0mBest fitness metrics are {'metrics/precision(B)': 0.83032, 'metrics/recall(B)': 0.74479, 'metrics/mAP50(B)': 0.83061, 'metrics/mAP50-95(B)': 0.49693, 'val/box_loss': 0.94922, 'val/cls_loss': 0.44851, 'val/dfl_loss': 1.40667, 'fitness': 0.5303}\n",
      "\u001b[34m\u001b[1mTuner: \u001b[0mBest fitness model is ..\\..\\runs\\yolov8s_hyp_finetune411\n",
      "\u001b[34m\u001b[1mTuner: \u001b[0mBest fitness hyperparameters are printed below.\n",
      "\n",
      "Printing '\u001b[1m\u001b[30m..\\..\\runs\\tune8\\best_hyperparameters.yaml\u001b[0m'\n",
      "\n",
      "lr0: 0.0052\n",
      "lrf: 0.01373\n",
      "momentum: 0.78307\n",
      "weight_decay: 0.00047\n",
      "warmup_epochs: 1.83134\n",
      "warmup_momentum: 0.57311\n",
      "box: 5.55754\n",
      "cls: 0.29102\n",
      "dfl: 2.15464\n",
      "hsv_h: 0.01184\n",
      "hsv_s: 0.57728\n",
      "hsv_v: 0.32665\n",
      "degrees: 0.0\n",
      "translate: 0.12186\n",
      "scale: 0.27246\n",
      "shear: 0.0\n",
      "perspective: 0.0\n",
      "flipud: 0.0\n",
      "fliplr: 0.34646\n",
      "bgr: 0.0\n",
      "mosaic: 0.98814\n",
      "mixup: 0.0\n",
      "copy_paste: 0.0\n",
      "\n",
      "\u001b[34m\u001b[1mTuner: \u001b[0mStarting iteration 93/100 with hyperparameters: {'lr0': 0.00471, 'lrf': 0.01408, 'momentum': 0.8199, 'weight_decay': 0.00047, 'warmup_epochs': 1.64995, 'warmup_momentum': 0.67259, 'box': 5.91394, 'cls': 0.30737, 'dfl': 2.2837, 'hsv_h': 0.01163, 'hsv_s': 0.54336, 'hsv_v': 0.36621, 'degrees': 0.0, 'translate': 0.10867, 'scale': 0.31885, 'shear': 0.0, 'perspective': 0.0, 'flipud': 0.0, 'fliplr': 0.35199, 'bgr': 0.0, 'mosaic': 0.89437, 'mixup': 0.0, 'copy_paste': 0.0}\n",
      "Saved ..\\..\\runs\\tune8\\tune_scatter_plots.png\n",
      "Saved ..\\..\\runs\\tune8\\tune_fitness.png\n",
      "\n",
      "\u001b[34m\u001b[1mTuner: \u001b[0m93/100 iterations complete  (10599.85s)\n",
      "\u001b[34m\u001b[1mTuner: \u001b[0mResults saved to \u001b[1m..\\..\\runs\\tune8\u001b[0m\n",
      "\u001b[34m\u001b[1mTuner: \u001b[0mBest fitness=0.5303 observed at iteration 83\n",
      "\u001b[34m\u001b[1mTuner: \u001b[0mBest fitness metrics are {'metrics/precision(B)': 0.83032, 'metrics/recall(B)': 0.74479, 'metrics/mAP50(B)': 0.83061, 'metrics/mAP50-95(B)': 0.49693, 'val/box_loss': 0.94922, 'val/cls_loss': 0.44851, 'val/dfl_loss': 1.40667, 'fitness': 0.5303}\n",
      "\u001b[34m\u001b[1mTuner: \u001b[0mBest fitness model is ..\\..\\runs\\yolov8s_hyp_finetune411\n",
      "\u001b[34m\u001b[1mTuner: \u001b[0mBest fitness hyperparameters are printed below.\n",
      "\n",
      "Printing '\u001b[1m\u001b[30m..\\..\\runs\\tune8\\best_hyperparameters.yaml\u001b[0m'\n",
      "\n",
      "lr0: 0.0052\n",
      "lrf: 0.01373\n",
      "momentum: 0.78307\n",
      "weight_decay: 0.00047\n",
      "warmup_epochs: 1.83134\n",
      "warmup_momentum: 0.57311\n",
      "box: 5.55754\n",
      "cls: 0.29102\n",
      "dfl: 2.15464\n",
      "hsv_h: 0.01184\n",
      "hsv_s: 0.57728\n",
      "hsv_v: 0.32665\n",
      "degrees: 0.0\n",
      "translate: 0.12186\n",
      "scale: 0.27246\n",
      "shear: 0.0\n",
      "perspective: 0.0\n",
      "flipud: 0.0\n",
      "fliplr: 0.34646\n",
      "bgr: 0.0\n",
      "mosaic: 0.98814\n",
      "mixup: 0.0\n",
      "copy_paste: 0.0\n",
      "\n",
      "\u001b[34m\u001b[1mTuner: \u001b[0mStarting iteration 94/100 with hyperparameters: {'lr0': 0.00535, 'lrf': 0.01363, 'momentum': 0.78775, 'weight_decay': 0.00046, 'warmup_epochs': 1.83134, 'warmup_momentum': 0.55224, 'box': 5.98092, 'cls': 0.26836, 'dfl': 2.15464, 'hsv_h': 0.01151, 'hsv_s': 0.49502, 'hsv_v': 0.32665, 'degrees': 0.0, 'translate': 0.12981, 'scale': 0.3107, 'shear': 0.0, 'perspective': 0.0, 'flipud': 0.0, 'fliplr': 0.34038, 'bgr': 0.0, 'mosaic': 0.98814, 'mixup': 0.0, 'copy_paste': 0.0}\n",
      "Saved ..\\..\\runs\\tune8\\tune_scatter_plots.png\n",
      "Saved ..\\..\\runs\\tune8\\tune_fitness.png\n",
      "\n",
      "\u001b[34m\u001b[1mTuner: \u001b[0m94/100 iterations complete  (10706.80s)\n",
      "\u001b[34m\u001b[1mTuner: \u001b[0mResults saved to \u001b[1m..\\..\\runs\\tune8\u001b[0m\n",
      "\u001b[34m\u001b[1mTuner: \u001b[0mBest fitness=0.5303 observed at iteration 83\n",
      "\u001b[34m\u001b[1mTuner: \u001b[0mBest fitness metrics are {'metrics/precision(B)': 0.83032, 'metrics/recall(B)': 0.74479, 'metrics/mAP50(B)': 0.83061, 'metrics/mAP50-95(B)': 0.49693, 'val/box_loss': 0.94922, 'val/cls_loss': 0.44851, 'val/dfl_loss': 1.40667, 'fitness': 0.5303}\n",
      "\u001b[34m\u001b[1mTuner: \u001b[0mBest fitness model is ..\\..\\runs\\yolov8s_hyp_finetune411\n",
      "\u001b[34m\u001b[1mTuner: \u001b[0mBest fitness hyperparameters are printed below.\n",
      "\n",
      "Printing '\u001b[1m\u001b[30m..\\..\\runs\\tune8\\best_hyperparameters.yaml\u001b[0m'\n",
      "\n",
      "lr0: 0.0052\n",
      "lrf: 0.01373\n",
      "momentum: 0.78307\n",
      "weight_decay: 0.00047\n",
      "warmup_epochs: 1.83134\n",
      "warmup_momentum: 0.57311\n",
      "box: 5.55754\n",
      "cls: 0.29102\n",
      "dfl: 2.15464\n",
      "hsv_h: 0.01184\n",
      "hsv_s: 0.57728\n",
      "hsv_v: 0.32665\n",
      "degrees: 0.0\n",
      "translate: 0.12186\n",
      "scale: 0.27246\n",
      "shear: 0.0\n",
      "perspective: 0.0\n",
      "flipud: 0.0\n",
      "fliplr: 0.34646\n",
      "bgr: 0.0\n",
      "mosaic: 0.98814\n",
      "mixup: 0.0\n",
      "copy_paste: 0.0\n",
      "\n",
      "\u001b[34m\u001b[1mTuner: \u001b[0mStarting iteration 95/100 with hyperparameters: {'lr0': 0.00593, 'lrf': 0.01575, 'momentum': 0.78961, 'weight_decay': 0.00055, 'warmup_epochs': 2.1007, 'warmup_momentum': 0.61121, 'box': 5.95809, 'cls': 0.29102, 'dfl': 2.32049, 'hsv_h': 0.01158, 'hsv_s': 0.48746, 'hsv_v': 0.35743, 'degrees': 0.0, 'translate': 0.13388, 'scale': 0.28563, 'shear': 0.0, 'perspective': 0.0, 'flipud': 0.0, 'fliplr': 0.33329, 'bgr': 0.0, 'mosaic': 0.95081, 'mixup': 0.0, 'copy_paste': 0.0}\n",
      "Saved ..\\..\\runs\\tune8\\tune_scatter_plots.png\n",
      "Saved ..\\..\\runs\\tune8\\tune_fitness.png\n",
      "\n",
      "\u001b[34m\u001b[1mTuner: \u001b[0m95/100 iterations complete  (10813.87s)\n",
      "\u001b[34m\u001b[1mTuner: \u001b[0mResults saved to \u001b[1m..\\..\\runs\\tune8\u001b[0m\n",
      "\u001b[34m\u001b[1mTuner: \u001b[0mBest fitness=0.5303 observed at iteration 83\n",
      "\u001b[34m\u001b[1mTuner: \u001b[0mBest fitness metrics are {'metrics/precision(B)': 0.83032, 'metrics/recall(B)': 0.74479, 'metrics/mAP50(B)': 0.83061, 'metrics/mAP50-95(B)': 0.49693, 'val/box_loss': 0.94922, 'val/cls_loss': 0.44851, 'val/dfl_loss': 1.40667, 'fitness': 0.5303}\n",
      "\u001b[34m\u001b[1mTuner: \u001b[0mBest fitness model is ..\\..\\runs\\yolov8s_hyp_finetune411\n",
      "\u001b[34m\u001b[1mTuner: \u001b[0mBest fitness hyperparameters are printed below.\n",
      "\n",
      "Printing '\u001b[1m\u001b[30m..\\..\\runs\\tune8\\best_hyperparameters.yaml\u001b[0m'\n",
      "\n",
      "lr0: 0.0052\n",
      "lrf: 0.01373\n",
      "momentum: 0.78307\n",
      "weight_decay: 0.00047\n",
      "warmup_epochs: 1.83134\n",
      "warmup_momentum: 0.57311\n",
      "box: 5.55754\n",
      "cls: 0.29102\n",
      "dfl: 2.15464\n",
      "hsv_h: 0.01184\n",
      "hsv_s: 0.57728\n",
      "hsv_v: 0.32665\n",
      "degrees: 0.0\n",
      "translate: 0.12186\n",
      "scale: 0.27246\n",
      "shear: 0.0\n",
      "perspective: 0.0\n",
      "flipud: 0.0\n",
      "fliplr: 0.34646\n",
      "bgr: 0.0\n",
      "mosaic: 0.98814\n",
      "mixup: 0.0\n",
      "copy_paste: 0.0\n",
      "\n",
      "\u001b[34m\u001b[1mTuner: \u001b[0mStarting iteration 96/100 with hyperparameters: {'lr0': 0.00486, 'lrf': 0.01373, 'momentum': 0.78436, 'weight_decay': 0.00048, 'warmup_epochs': 1.89222, 'warmup_momentum': 0.57311, 'box': 5.55754, 'cls': 0.2857, 'dfl': 2.08777, 'hsv_h': 0.01272, 'hsv_s': 0.56525, 'hsv_v': 0.32518, 'degrees': 0.0, 'translate': 0.12112, 'scale': 0.25963, 'shear': 0.0, 'perspective': 0.0, 'flipud': 0.0, 'fliplr': 0.36029, 'bgr': 0.0, 'mosaic': 0.97737, 'mixup': 0.0, 'copy_paste': 0.0}\n",
      "Saved ..\\..\\runs\\tune8\\tune_scatter_plots.png\n",
      "Saved ..\\..\\runs\\tune8\\tune_fitness.png\n",
      "\n",
      "\u001b[34m\u001b[1mTuner: \u001b[0m96/100 iterations complete  (10921.39s)\n",
      "\u001b[34m\u001b[1mTuner: \u001b[0mResults saved to \u001b[1m..\\..\\runs\\tune8\u001b[0m\n",
      "\u001b[34m\u001b[1mTuner: \u001b[0mBest fitness=0.5303 observed at iteration 83\n",
      "\u001b[34m\u001b[1mTuner: \u001b[0mBest fitness metrics are {'metrics/precision(B)': 0.83032, 'metrics/recall(B)': 0.74479, 'metrics/mAP50(B)': 0.83061, 'metrics/mAP50-95(B)': 0.49693, 'val/box_loss': 0.94922, 'val/cls_loss': 0.44851, 'val/dfl_loss': 1.40667, 'fitness': 0.5303}\n",
      "\u001b[34m\u001b[1mTuner: \u001b[0mBest fitness model is ..\\..\\runs\\yolov8s_hyp_finetune411\n",
      "\u001b[34m\u001b[1mTuner: \u001b[0mBest fitness hyperparameters are printed below.\n",
      "\n",
      "Printing '\u001b[1m\u001b[30m..\\..\\runs\\tune8\\best_hyperparameters.yaml\u001b[0m'\n",
      "\n",
      "lr0: 0.0052\n",
      "lrf: 0.01373\n",
      "momentum: 0.78307\n",
      "weight_decay: 0.00047\n",
      "warmup_epochs: 1.83134\n",
      "warmup_momentum: 0.57311\n",
      "box: 5.55754\n",
      "cls: 0.29102\n",
      "dfl: 2.15464\n",
      "hsv_h: 0.01184\n",
      "hsv_s: 0.57728\n",
      "hsv_v: 0.32665\n",
      "degrees: 0.0\n",
      "translate: 0.12186\n",
      "scale: 0.27246\n",
      "shear: 0.0\n",
      "perspective: 0.0\n",
      "flipud: 0.0\n",
      "fliplr: 0.34646\n",
      "bgr: 0.0\n",
      "mosaic: 0.98814\n",
      "mixup: 0.0\n",
      "copy_paste: 0.0\n",
      "\n",
      "\u001b[34m\u001b[1mTuner: \u001b[0mStarting iteration 97/100 with hyperparameters: {'lr0': 0.00583, 'lrf': 0.01299, 'momentum': 0.76951, 'weight_decay': 0.00053, 'warmup_epochs': 1.32911, 'warmup_momentum': 0.57311, 'box': 5.68494, 'cls': 0.25837, 'dfl': 2.15464, 'hsv_h': 0.01245, 'hsv_s': 0.59058, 'hsv_v': 0.35934, 'degrees': 0.0, 'translate': 0.12186, 'scale': 0.22731, 'shear': 0.0, 'perspective': 0.0, 'flipud': 0.0, 'fliplr': 0.28795, 'bgr': 0.0, 'mosaic': 0.94049, 'mixup': 0.0, 'copy_paste': 0.0}\n",
      "Saved ..\\..\\runs\\tune8\\tune_scatter_plots.png\n",
      "Saved ..\\..\\runs\\tune8\\tune_fitness.png\n",
      "\n",
      "\u001b[34m\u001b[1mTuner: \u001b[0m97/100 iterations complete  (11031.49s)\n",
      "\u001b[34m\u001b[1mTuner: \u001b[0mResults saved to \u001b[1m..\\..\\runs\\tune8\u001b[0m\n",
      "\u001b[34m\u001b[1mTuner: \u001b[0mBest fitness=0.5303 observed at iteration 83\n",
      "\u001b[34m\u001b[1mTuner: \u001b[0mBest fitness metrics are {'metrics/precision(B)': 0.83032, 'metrics/recall(B)': 0.74479, 'metrics/mAP50(B)': 0.83061, 'metrics/mAP50-95(B)': 0.49693, 'val/box_loss': 0.94922, 'val/cls_loss': 0.44851, 'val/dfl_loss': 1.40667, 'fitness': 0.5303}\n",
      "\u001b[34m\u001b[1mTuner: \u001b[0mBest fitness model is ..\\..\\runs\\yolov8s_hyp_finetune411\n",
      "\u001b[34m\u001b[1mTuner: \u001b[0mBest fitness hyperparameters are printed below.\n",
      "\n",
      "Printing '\u001b[1m\u001b[30m..\\..\\runs\\tune8\\best_hyperparameters.yaml\u001b[0m'\n",
      "\n",
      "lr0: 0.0052\n",
      "lrf: 0.01373\n",
      "momentum: 0.78307\n",
      "weight_decay: 0.00047\n",
      "warmup_epochs: 1.83134\n",
      "warmup_momentum: 0.57311\n",
      "box: 5.55754\n",
      "cls: 0.29102\n",
      "dfl: 2.15464\n",
      "hsv_h: 0.01184\n",
      "hsv_s: 0.57728\n",
      "hsv_v: 0.32665\n",
      "degrees: 0.0\n",
      "translate: 0.12186\n",
      "scale: 0.27246\n",
      "shear: 0.0\n",
      "perspective: 0.0\n",
      "flipud: 0.0\n",
      "fliplr: 0.34646\n",
      "bgr: 0.0\n",
      "mosaic: 0.98814\n",
      "mixup: 0.0\n",
      "copy_paste: 0.0\n",
      "\n",
      "\u001b[34m\u001b[1mTuner: \u001b[0mStarting iteration 98/100 with hyperparameters: {'lr0': 0.00511, 'lrf': 0.01316, 'momentum': 0.78307, 'weight_decay': 0.00047, 'warmup_epochs': 1.83134, 'warmup_momentum': 0.55202, 'box': 5.47305, 'cls': 0.27046, 'dfl': 2.14063, 'hsv_h': 0.01201, 'hsv_s': 0.56369, 'hsv_v': 0.33354, 'degrees': 0.0, 'translate': 0.1198, 'scale': 0.27246, 'shear': 0.0, 'perspective': 0.0, 'flipud': 0.0, 'fliplr': 0.34646, 'bgr': 0.0, 'mosaic': 0.97581, 'mixup': 0.0, 'copy_paste': 0.0}\n",
      "Saved ..\\..\\runs\\tune8\\tune_scatter_plots.png\n",
      "Saved ..\\..\\runs\\tune8\\tune_fitness.png\n",
      "\n",
      "\u001b[34m\u001b[1mTuner: \u001b[0m98/100 iterations complete  (11137.36s)\n",
      "\u001b[34m\u001b[1mTuner: \u001b[0mResults saved to \u001b[1m..\\..\\runs\\tune8\u001b[0m\n",
      "\u001b[34m\u001b[1mTuner: \u001b[0mBest fitness=0.5303 observed at iteration 83\n",
      "\u001b[34m\u001b[1mTuner: \u001b[0mBest fitness metrics are {'metrics/precision(B)': 0.83032, 'metrics/recall(B)': 0.74479, 'metrics/mAP50(B)': 0.83061, 'metrics/mAP50-95(B)': 0.49693, 'val/box_loss': 0.94922, 'val/cls_loss': 0.44851, 'val/dfl_loss': 1.40667, 'fitness': 0.5303}\n",
      "\u001b[34m\u001b[1mTuner: \u001b[0mBest fitness model is ..\\..\\runs\\yolov8s_hyp_finetune411\n",
      "\u001b[34m\u001b[1mTuner: \u001b[0mBest fitness hyperparameters are printed below.\n",
      "\n",
      "Printing '\u001b[1m\u001b[30m..\\..\\runs\\tune8\\best_hyperparameters.yaml\u001b[0m'\n",
      "\n",
      "lr0: 0.0052\n",
      "lrf: 0.01373\n",
      "momentum: 0.78307\n",
      "weight_decay: 0.00047\n",
      "warmup_epochs: 1.83134\n",
      "warmup_momentum: 0.57311\n",
      "box: 5.55754\n",
      "cls: 0.29102\n",
      "dfl: 2.15464\n",
      "hsv_h: 0.01184\n",
      "hsv_s: 0.57728\n",
      "hsv_v: 0.32665\n",
      "degrees: 0.0\n",
      "translate: 0.12186\n",
      "scale: 0.27246\n",
      "shear: 0.0\n",
      "perspective: 0.0\n",
      "flipud: 0.0\n",
      "fliplr: 0.34646\n",
      "bgr: 0.0\n",
      "mosaic: 0.98814\n",
      "mixup: 0.0\n",
      "copy_paste: 0.0\n",
      "\n",
      "\u001b[34m\u001b[1mTuner: \u001b[0mStarting iteration 99/100 with hyperparameters: {'lr0': 0.0047, 'lrf': 0.01402, 'momentum': 0.811, 'weight_decay': 0.00041, 'warmup_epochs': 1.54762, 'warmup_momentum': 0.69562, 'box': 5.80721, 'cls': 0.28742, 'dfl': 2.10207, 'hsv_h': 0.01223, 'hsv_s': 0.61575, 'hsv_v': 0.3635, 'degrees': 0.0, 'translate': 0.1046, 'scale': 0.29574, 'shear': 0.0, 'perspective': 0.0, 'flipud': 0.0, 'fliplr': 0.35439, 'bgr': 0.0, 'mosaic': 0.8896, 'mixup': 0.0, 'copy_paste': 0.0}\n",
      "Saved ..\\..\\runs\\tune8\\tune_scatter_plots.png\n",
      "Saved ..\\..\\runs\\tune8\\tune_fitness.png\n",
      "\n",
      "\u001b[34m\u001b[1mTuner: \u001b[0m99/100 iterations complete  (11241.21s)\n",
      "\u001b[34m\u001b[1mTuner: \u001b[0mResults saved to \u001b[1m..\\..\\runs\\tune8\u001b[0m\n",
      "\u001b[34m\u001b[1mTuner: \u001b[0mBest fitness=0.5303 observed at iteration 83\n",
      "\u001b[34m\u001b[1mTuner: \u001b[0mBest fitness metrics are {'metrics/precision(B)': 0.83032, 'metrics/recall(B)': 0.74479, 'metrics/mAP50(B)': 0.83061, 'metrics/mAP50-95(B)': 0.49693, 'val/box_loss': 0.94922, 'val/cls_loss': 0.44851, 'val/dfl_loss': 1.40667, 'fitness': 0.5303}\n",
      "\u001b[34m\u001b[1mTuner: \u001b[0mBest fitness model is ..\\..\\runs\\yolov8s_hyp_finetune411\n",
      "\u001b[34m\u001b[1mTuner: \u001b[0mBest fitness hyperparameters are printed below.\n",
      "\n",
      "Printing '\u001b[1m\u001b[30m..\\..\\runs\\tune8\\best_hyperparameters.yaml\u001b[0m'\n",
      "\n",
      "lr0: 0.0052\n",
      "lrf: 0.01373\n",
      "momentum: 0.78307\n",
      "weight_decay: 0.00047\n",
      "warmup_epochs: 1.83134\n",
      "warmup_momentum: 0.57311\n",
      "box: 5.55754\n",
      "cls: 0.29102\n",
      "dfl: 2.15464\n",
      "hsv_h: 0.01184\n",
      "hsv_s: 0.57728\n",
      "hsv_v: 0.32665\n",
      "degrees: 0.0\n",
      "translate: 0.12186\n",
      "scale: 0.27246\n",
      "shear: 0.0\n",
      "perspective: 0.0\n",
      "flipud: 0.0\n",
      "fliplr: 0.34646\n",
      "bgr: 0.0\n",
      "mosaic: 0.98814\n",
      "mixup: 0.0\n",
      "copy_paste: 0.0\n",
      "\n",
      "\u001b[34m\u001b[1mTuner: \u001b[0mStarting iteration 100/100 with hyperparameters: {'lr0': 0.00384, 'lrf': 0.01247, 'momentum': 0.81704, 'weight_decay': 0.00064, 'warmup_epochs': 1.76113, 'warmup_momentum': 0.56212, 'box': 6.66529, 'cls': 0.30747, 'dfl': 2.00612, 'hsv_h': 0.01134, 'hsv_s': 0.66983, 'hsv_v': 0.31988, 'degrees': 0.0, 'translate': 0.1206, 'scale': 0.42437, 'shear': 0.0, 'perspective': 0.0, 'flipud': 0.0, 'fliplr': 0.38277, 'bgr': 0.0, 'mosaic': 0.63958, 'mixup': 0.0, 'copy_paste': 0.0}\n",
      "Saved ..\\..\\runs\\tune8\\tune_scatter_plots.png\n",
      "Saved ..\\..\\runs\\tune8\\tune_fitness.png\n",
      "\n",
      "\u001b[34m\u001b[1mTuner: \u001b[0m100/100 iterations complete  (11350.17s)\n",
      "\u001b[34m\u001b[1mTuner: \u001b[0mResults saved to \u001b[1m..\\..\\runs\\tune8\u001b[0m\n",
      "\u001b[34m\u001b[1mTuner: \u001b[0mBest fitness=0.5303 observed at iteration 83\n",
      "\u001b[34m\u001b[1mTuner: \u001b[0mBest fitness metrics are {'metrics/precision(B)': 0.83032, 'metrics/recall(B)': 0.74479, 'metrics/mAP50(B)': 0.83061, 'metrics/mAP50-95(B)': 0.49693, 'val/box_loss': 0.94922, 'val/cls_loss': 0.44851, 'val/dfl_loss': 1.40667, 'fitness': 0.5303}\n",
      "\u001b[34m\u001b[1mTuner: \u001b[0mBest fitness model is ..\\..\\runs\\yolov8s_hyp_finetune411\n",
      "\u001b[34m\u001b[1mTuner: \u001b[0mBest fitness hyperparameters are printed below.\n",
      "\n",
      "Printing '\u001b[1m\u001b[30m..\\..\\runs\\tune8\\best_hyperparameters.yaml\u001b[0m'\n",
      "\n",
      "lr0: 0.0052\n",
      "lrf: 0.01373\n",
      "momentum: 0.78307\n",
      "weight_decay: 0.00047\n",
      "warmup_epochs: 1.83134\n",
      "warmup_momentum: 0.57311\n",
      "box: 5.55754\n",
      "cls: 0.29102\n",
      "dfl: 2.15464\n",
      "hsv_h: 0.01184\n",
      "hsv_s: 0.57728\n",
      "hsv_v: 0.32665\n",
      "degrees: 0.0\n",
      "translate: 0.12186\n",
      "scale: 0.27246\n",
      "shear: 0.0\n",
      "perspective: 0.0\n",
      "flipud: 0.0\n",
      "fliplr: 0.34646\n",
      "bgr: 0.0\n",
      "mosaic: 0.98814\n",
      "mixup: 0.0\n",
      "copy_paste: 0.0\n",
      "\n",
      "Model : yolov8m\n",
      "\u001b[34m\u001b[1mTuner: \u001b[0mInitialized Tuner instance with 'tune_dir=..\\..\\runs\\tune9'\n",
      "\u001b[34m\u001b[1mTuner: \u001b[0m Learn about tuning at https://docs.ultralytics.com/guides/hyperparameter-tuning\n",
      "\u001b[34m\u001b[1mTuner: \u001b[0mStarting iteration 1/100 with hyperparameters: {'lr0': 0.01, 'lrf': 0.01, 'momentum': 0.937, 'weight_decay': 0.0005, 'warmup_epochs': 3.0, 'warmup_momentum': 0.8, 'box': 7.5, 'cls': 0.5, 'dfl': 1.5, 'hsv_h': 0.015, 'hsv_s': 0.7, 'hsv_v': 0.4, 'degrees': 0.0, 'translate': 0.1, 'scale': 0.5, 'shear': 0.0, 'perspective': 0.0, 'flipud': 0.0, 'fliplr': 0.5, 'bgr': 0.0, 'mosaic': 1.0, 'mixup': 0.0, 'copy_paste': 0.0}\n",
      "Saved ..\\..\\runs\\tune9\\tune_scatter_plots.png\n",
      "Saved ..\\..\\runs\\tune9\\tune_fitness.png\n",
      "\n",
      "\u001b[34m\u001b[1mTuner: \u001b[0m1/100 iterations complete  (138.00s)\n",
      "\u001b[34m\u001b[1mTuner: \u001b[0mResults saved to \u001b[1m..\\..\\runs\\tune9\u001b[0m\n",
      "\u001b[34m\u001b[1mTuner: \u001b[0mBest fitness=0.36798 observed at iteration 1\n",
      "\u001b[34m\u001b[1mTuner: \u001b[0mBest fitness metrics are {'metrics/precision(B)': 0.7391, 'metrics/recall(B)': 0.57292, 'metrics/mAP50(B)': 0.67106, 'metrics/mAP50-95(B)': 0.33431, 'val/box_loss': 1.72861, 'val/cls_loss': 1.37269, 'val/dfl_loss': 1.22096, 'fitness': 0.36798}\n",
      "\u001b[34m\u001b[1mTuner: \u001b[0mBest fitness model is ..\\..\\runs\\yolov8m_hyp_finetune2\n",
      "\u001b[34m\u001b[1mTuner: \u001b[0mBest fitness hyperparameters are printed below.\n",
      "\n",
      "Printing '\u001b[1m\u001b[30m..\\..\\runs\\tune9\\best_hyperparameters.yaml\u001b[0m'\n",
      "\n",
      "lr0: 0.01\n",
      "lrf: 0.01\n",
      "momentum: 0.937\n",
      "weight_decay: 0.0005\n",
      "warmup_epochs: 3.0\n",
      "warmup_momentum: 0.8\n",
      "box: 7.5\n",
      "cls: 0.5\n",
      "dfl: 1.5\n",
      "hsv_h: 0.015\n",
      "hsv_s: 0.7\n",
      "hsv_v: 0.4\n",
      "degrees: 0.0\n",
      "translate: 0.1\n",
      "scale: 0.5\n",
      "shear: 0.0\n",
      "perspective: 0.0\n",
      "flipud: 0.0\n",
      "fliplr: 0.5\n",
      "bgr: 0.0\n",
      "mosaic: 1.0\n",
      "mixup: 0.0\n",
      "copy_paste: 0.0\n",
      "\n",
      "\u001b[34m\u001b[1mTuner: \u001b[0mStarting iteration 2/100 with hyperparameters: {'lr0': 0.0106, 'lrf': 0.01, 'momentum': 0.937, 'weight_decay': 0.00046, 'warmup_epochs': 3.0, 'warmup_momentum': 0.8, 'box': 7.5, 'cls': 0.51217, 'dfl': 1.55107, 'hsv_h': 0.015, 'hsv_s': 0.67645, 'hsv_v': 0.37873, 'degrees': 0.0, 'translate': 0.09549, 'scale': 0.57368, 'shear': 0.0, 'perspective': 0.0, 'flipud': 0.0, 'fliplr': 0.52095, 'bgr': 0.0, 'mosaic': 1.0, 'mixup': 0.0, 'copy_paste': 0.0}\n",
      "Saved ..\\..\\runs\\tune9\\tune_scatter_plots.png\n",
      "Saved ..\\..\\runs\\tune9\\tune_fitness.png\n",
      "\n",
      "\u001b[34m\u001b[1mTuner: \u001b[0m2/100 iterations complete  (274.69s)\n",
      "\u001b[34m\u001b[1mTuner: \u001b[0mResults saved to \u001b[1m..\\..\\runs\\tune9\u001b[0m\n",
      "\u001b[34m\u001b[1mTuner: \u001b[0mBest fitness=0.36798 observed at iteration 1\n",
      "\u001b[34m\u001b[1mTuner: \u001b[0mBest fitness metrics are {'metrics/precision(B)': 0.7391, 'metrics/recall(B)': 0.57292, 'metrics/mAP50(B)': 0.67106, 'metrics/mAP50-95(B)': 0.33431, 'val/box_loss': 1.72861, 'val/cls_loss': 1.37269, 'val/dfl_loss': 1.22096, 'fitness': 0.36798}\n",
      "\u001b[34m\u001b[1mTuner: \u001b[0mBest fitness model is ..\\..\\runs\\yolov8m_hyp_finetune2\n",
      "\u001b[34m\u001b[1mTuner: \u001b[0mBest fitness hyperparameters are printed below.\n",
      "\n",
      "Printing '\u001b[1m\u001b[30m..\\..\\runs\\tune9\\best_hyperparameters.yaml\u001b[0m'\n",
      "\n",
      "lr0: 0.01\n",
      "lrf: 0.01\n",
      "momentum: 0.937\n",
      "weight_decay: 0.0005\n",
      "warmup_epochs: 3.0\n",
      "warmup_momentum: 0.8\n",
      "box: 7.5\n",
      "cls: 0.5\n",
      "dfl: 1.5\n",
      "hsv_h: 0.015\n",
      "hsv_s: 0.7\n",
      "hsv_v: 0.4\n",
      "degrees: 0.0\n",
      "translate: 0.1\n",
      "scale: 0.5\n",
      "shear: 0.0\n",
      "perspective: 0.0\n",
      "flipud: 0.0\n",
      "fliplr: 0.5\n",
      "bgr: 0.0\n",
      "mosaic: 1.0\n",
      "mixup: 0.0\n",
      "copy_paste: 0.0\n",
      "\n",
      "\u001b[34m\u001b[1mTuner: \u001b[0mStarting iteration 3/100 with hyperparameters: {'lr0': 0.0106, 'lrf': 0.00939, 'momentum': 0.95842, 'weight_decay': 0.0005, 'warmup_epochs': 2.79421, 'warmup_momentum': 0.78923, 'box': 8.92419, 'cls': 0.50472, 'dfl': 1.6048, 'hsv_h': 0.01794, 'hsv_s': 0.72947, 'hsv_v': 0.3799, 'degrees': 0.0, 'translate': 0.09311, 'scale': 0.3913, 'shear': 0.0, 'perspective': 0.0, 'flipud': 0.0, 'fliplr': 0.52605, 'bgr': 0.0, 'mosaic': 1.0, 'mixup': 0.0, 'copy_paste': 0.0}\n",
      "Saved ..\\..\\runs\\tune9\\tune_scatter_plots.png\n",
      "Saved ..\\..\\runs\\tune9\\tune_fitness.png\n",
      "\n",
      "\u001b[34m\u001b[1mTuner: \u001b[0m3/100 iterations complete  (413.42s)\n",
      "\u001b[34m\u001b[1mTuner: \u001b[0mResults saved to \u001b[1m..\\..\\runs\\tune9\u001b[0m\n",
      "\u001b[34m\u001b[1mTuner: \u001b[0mBest fitness=0.36798 observed at iteration 1\n",
      "\u001b[34m\u001b[1mTuner: \u001b[0mBest fitness metrics are {'metrics/precision(B)': 0.7391, 'metrics/recall(B)': 0.57292, 'metrics/mAP50(B)': 0.67106, 'metrics/mAP50-95(B)': 0.33431, 'val/box_loss': 1.72861, 'val/cls_loss': 1.37269, 'val/dfl_loss': 1.22096, 'fitness': 0.36798}\n",
      "\u001b[34m\u001b[1mTuner: \u001b[0mBest fitness model is ..\\..\\runs\\yolov8m_hyp_finetune2\n",
      "\u001b[34m\u001b[1mTuner: \u001b[0mBest fitness hyperparameters are printed below.\n",
      "\n",
      "Printing '\u001b[1m\u001b[30m..\\..\\runs\\tune9\\best_hyperparameters.yaml\u001b[0m'\n",
      "\n",
      "lr0: 0.01\n",
      "lrf: 0.01\n",
      "momentum: 0.937\n",
      "weight_decay: 0.0005\n",
      "warmup_epochs: 3.0\n",
      "warmup_momentum: 0.8\n",
      "box: 7.5\n",
      "cls: 0.5\n",
      "dfl: 1.5\n",
      "hsv_h: 0.015\n",
      "hsv_s: 0.7\n",
      "hsv_v: 0.4\n",
      "degrees: 0.0\n",
      "translate: 0.1\n",
      "scale: 0.5\n",
      "shear: 0.0\n",
      "perspective: 0.0\n",
      "flipud: 0.0\n",
      "fliplr: 0.5\n",
      "bgr: 0.0\n",
      "mosaic: 1.0\n",
      "mixup: 0.0\n",
      "copy_paste: 0.0\n",
      "\n",
      "\u001b[34m\u001b[1mTuner: \u001b[0mStarting iteration 4/100 with hyperparameters: {'lr0': 0.01196, 'lrf': 0.00946, 'momentum': 0.98, 'weight_decay': 0.0005, 'warmup_epochs': 2.87929, 'warmup_momentum': 0.7985, 'box': 8.92419, 'cls': 0.48579, 'dfl': 1.6048, 'hsv_h': 0.01667, 'hsv_s': 0.8072, 'hsv_v': 0.49481, 'degrees': 0.0, 'translate': 0.08728, 'scale': 0.32179, 'shear': 0.0, 'perspective': 0.0, 'flipud': 0.0, 'fliplr': 0.48394, 'bgr': 0.0, 'mosaic': 1.0, 'mixup': 0.0, 'copy_paste': 0.0}\n",
      "Saved ..\\..\\runs\\tune9\\tune_scatter_plots.png\n",
      "Saved ..\\..\\runs\\tune9\\tune_fitness.png\n",
      "\n",
      "\u001b[34m\u001b[1mTuner: \u001b[0m4/100 iterations complete  (556.81s)\n",
      "\u001b[34m\u001b[1mTuner: \u001b[0mResults saved to \u001b[1m..\\..\\runs\\tune9\u001b[0m\n",
      "\u001b[34m\u001b[1mTuner: \u001b[0mBest fitness=0.36798 observed at iteration 1\n",
      "\u001b[34m\u001b[1mTuner: \u001b[0mBest fitness metrics are {'metrics/precision(B)': 0.7391, 'metrics/recall(B)': 0.57292, 'metrics/mAP50(B)': 0.67106, 'metrics/mAP50-95(B)': 0.33431, 'val/box_loss': 1.72861, 'val/cls_loss': 1.37269, 'val/dfl_loss': 1.22096, 'fitness': 0.36798}\n",
      "\u001b[34m\u001b[1mTuner: \u001b[0mBest fitness model is ..\\..\\runs\\yolov8m_hyp_finetune2\n",
      "\u001b[34m\u001b[1mTuner: \u001b[0mBest fitness hyperparameters are printed below.\n",
      "\n",
      "Printing '\u001b[1m\u001b[30m..\\..\\runs\\tune9\\best_hyperparameters.yaml\u001b[0m'\n",
      "\n",
      "lr0: 0.01\n",
      "lrf: 0.01\n",
      "momentum: 0.937\n",
      "weight_decay: 0.0005\n",
      "warmup_epochs: 3.0\n",
      "warmup_momentum: 0.8\n",
      "box: 7.5\n",
      "cls: 0.5\n",
      "dfl: 1.5\n",
      "hsv_h: 0.015\n",
      "hsv_s: 0.7\n",
      "hsv_v: 0.4\n",
      "degrees: 0.0\n",
      "translate: 0.1\n",
      "scale: 0.5\n",
      "shear: 0.0\n",
      "perspective: 0.0\n",
      "flipud: 0.0\n",
      "fliplr: 0.5\n",
      "bgr: 0.0\n",
      "mosaic: 1.0\n",
      "mixup: 0.0\n",
      "copy_paste: 0.0\n",
      "\n",
      "\u001b[34m\u001b[1mTuner: \u001b[0mStarting iteration 5/100 with hyperparameters: {'lr0': 0.01017, 'lrf': 0.00919, 'momentum': 0.92528, 'weight_decay': 0.0005, 'warmup_epochs': 3.0, 'warmup_momentum': 0.79624, 'box': 7.52885, 'cls': 0.49458, 'dfl': 1.58219, 'hsv_h': 0.015, 'hsv_s': 0.70747, 'hsv_v': 0.42105, 'degrees': 0.0, 'translate': 0.10352, 'scale': 0.5, 'shear': 0.0, 'perspective': 0.0, 'flipud': 0.0, 'fliplr': 0.50066, 'bgr': 0.0, 'mosaic': 1.0, 'mixup': 0.0, 'copy_paste': 0.0}\n",
      "Saved ..\\..\\runs\\tune9\\tune_scatter_plots.png\n",
      "Saved ..\\..\\runs\\tune9\\tune_fitness.png\n",
      "\n",
      "\u001b[34m\u001b[1mTuner: \u001b[0m5/100 iterations complete  (698.92s)\n",
      "\u001b[34m\u001b[1mTuner: \u001b[0mResults saved to \u001b[1m..\\..\\runs\\tune9\u001b[0m\n",
      "\u001b[34m\u001b[1mTuner: \u001b[0mBest fitness=0.36798 observed at iteration 1\n",
      "\u001b[34m\u001b[1mTuner: \u001b[0mBest fitness metrics are {'metrics/precision(B)': 0.7391, 'metrics/recall(B)': 0.57292, 'metrics/mAP50(B)': 0.67106, 'metrics/mAP50-95(B)': 0.33431, 'val/box_loss': 1.72861, 'val/cls_loss': 1.37269, 'val/dfl_loss': 1.22096, 'fitness': 0.36798}\n",
      "\u001b[34m\u001b[1mTuner: \u001b[0mBest fitness model is ..\\..\\runs\\yolov8m_hyp_finetune2\n",
      "\u001b[34m\u001b[1mTuner: \u001b[0mBest fitness hyperparameters are printed below.\n",
      "\n",
      "Printing '\u001b[1m\u001b[30m..\\..\\runs\\tune9\\best_hyperparameters.yaml\u001b[0m'\n",
      "\n",
      "lr0: 0.01\n",
      "lrf: 0.01\n",
      "momentum: 0.937\n",
      "weight_decay: 0.0005\n",
      "warmup_epochs: 3.0\n",
      "warmup_momentum: 0.8\n",
      "box: 7.5\n",
      "cls: 0.5\n",
      "dfl: 1.5\n",
      "hsv_h: 0.015\n",
      "hsv_s: 0.7\n",
      "hsv_v: 0.4\n",
      "degrees: 0.0\n",
      "translate: 0.1\n",
      "scale: 0.5\n",
      "shear: 0.0\n",
      "perspective: 0.0\n",
      "flipud: 0.0\n",
      "fliplr: 0.5\n",
      "bgr: 0.0\n",
      "mosaic: 1.0\n",
      "mixup: 0.0\n",
      "copy_paste: 0.0\n",
      "\n",
      "\u001b[34m\u001b[1mTuner: \u001b[0mStarting iteration 6/100 with hyperparameters: {'lr0': 0.00993, 'lrf': 0.00962, 'momentum': 0.94046, 'weight_decay': 0.00046, 'warmup_epochs': 3.0, 'warmup_momentum': 0.81381, 'box': 7.84523, 'cls': 0.54692, 'dfl': 1.59525, 'hsv_h': 0.01497, 'hsv_s': 0.67645, 'hsv_v': 0.396, 'degrees': 0.0, 'translate': 0.09479, 'scale': 0.58909, 'shear': 0.0, 'perspective': 0.0, 'flipud': 0.0, 'fliplr': 0.52095, 'bgr': 0.0, 'mosaic': 1.0, 'mixup': 0.0, 'copy_paste': 0.0}\n",
      "Saved ..\\..\\runs\\tune9\\tune_scatter_plots.png\n",
      "Saved ..\\..\\runs\\tune9\\tune_fitness.png\n",
      "\n",
      "\u001b[34m\u001b[1mTuner: \u001b[0m6/100 iterations complete  (838.76s)\n",
      "\u001b[34m\u001b[1mTuner: \u001b[0mResults saved to \u001b[1m..\\..\\runs\\tune9\u001b[0m\n",
      "\u001b[34m\u001b[1mTuner: \u001b[0mBest fitness=0.36798 observed at iteration 1\n",
      "\u001b[34m\u001b[1mTuner: \u001b[0mBest fitness metrics are {'metrics/precision(B)': 0.7391, 'metrics/recall(B)': 0.57292, 'metrics/mAP50(B)': 0.67106, 'metrics/mAP50-95(B)': 0.33431, 'val/box_loss': 1.72861, 'val/cls_loss': 1.37269, 'val/dfl_loss': 1.22096, 'fitness': 0.36798}\n",
      "\u001b[34m\u001b[1mTuner: \u001b[0mBest fitness model is ..\\..\\runs\\yolov8m_hyp_finetune2\n",
      "\u001b[34m\u001b[1mTuner: \u001b[0mBest fitness hyperparameters are printed below.\n",
      "\n",
      "Printing '\u001b[1m\u001b[30m..\\..\\runs\\tune9\\best_hyperparameters.yaml\u001b[0m'\n",
      "\n",
      "lr0: 0.01\n",
      "lrf: 0.01\n",
      "momentum: 0.937\n",
      "weight_decay: 0.0005\n",
      "warmup_epochs: 3.0\n",
      "warmup_momentum: 0.8\n",
      "box: 7.5\n",
      "cls: 0.5\n",
      "dfl: 1.5\n",
      "hsv_h: 0.015\n",
      "hsv_s: 0.7\n",
      "hsv_v: 0.4\n",
      "degrees: 0.0\n",
      "translate: 0.1\n",
      "scale: 0.5\n",
      "shear: 0.0\n",
      "perspective: 0.0\n",
      "flipud: 0.0\n",
      "fliplr: 0.5\n",
      "bgr: 0.0\n",
      "mosaic: 1.0\n",
      "mixup: 0.0\n",
      "copy_paste: 0.0\n",
      "\n",
      "\u001b[34m\u001b[1mTuner: \u001b[0mStarting iteration 7/100 with hyperparameters: {'lr0': 0.01116, 'lrf': 0.00972, 'momentum': 0.96521, 'weight_decay': 0.0005, 'warmup_epochs': 2.89879, 'warmup_momentum': 0.71376, 'box': 9.08362, 'cls': 0.52426, 'dfl': 1.59128, 'hsv_h': 0.01794, 'hsv_s': 0.63382, 'hsv_v': 0.3566, 'degrees': 0.0, 'translate': 0.09925, 'scale': 0.3681, 'shear': 0.0, 'perspective': 0.0, 'flipud': 0.0, 'fliplr': 0.52605, 'bgr': 0.0, 'mosaic': 1.0, 'mixup': 0.0, 'copy_paste': 0.0}\n",
      "Saved ..\\..\\runs\\tune9\\tune_scatter_plots.png\n",
      "Saved ..\\..\\runs\\tune9\\tune_fitness.png\n",
      "\n",
      "\u001b[34m\u001b[1mTuner: \u001b[0m7/100 iterations complete  (978.88s)\n",
      "\u001b[34m\u001b[1mTuner: \u001b[0mResults saved to \u001b[1m..\\..\\runs\\tune9\u001b[0m\n",
      "\u001b[34m\u001b[1mTuner: \u001b[0mBest fitness=0.36798 observed at iteration 1\n",
      "\u001b[34m\u001b[1mTuner: \u001b[0mBest fitness metrics are {'metrics/precision(B)': 0.7391, 'metrics/recall(B)': 0.57292, 'metrics/mAP50(B)': 0.67106, 'metrics/mAP50-95(B)': 0.33431, 'val/box_loss': 1.72861, 'val/cls_loss': 1.37269, 'val/dfl_loss': 1.22096, 'fitness': 0.36798}\n",
      "\u001b[34m\u001b[1mTuner: \u001b[0mBest fitness model is ..\\..\\runs\\yolov8m_hyp_finetune2\n",
      "\u001b[34m\u001b[1mTuner: \u001b[0mBest fitness hyperparameters are printed below.\n",
      "\n",
      "Printing '\u001b[1m\u001b[30m..\\..\\runs\\tune9\\best_hyperparameters.yaml\u001b[0m'\n",
      "\n",
      "lr0: 0.01\n",
      "lrf: 0.01\n",
      "momentum: 0.937\n",
      "weight_decay: 0.0005\n",
      "warmup_epochs: 3.0\n",
      "warmup_momentum: 0.8\n",
      "box: 7.5\n",
      "cls: 0.5\n",
      "dfl: 1.5\n",
      "hsv_h: 0.015\n",
      "hsv_s: 0.7\n",
      "hsv_v: 0.4\n",
      "degrees: 0.0\n",
      "translate: 0.1\n",
      "scale: 0.5\n",
      "shear: 0.0\n",
      "perspective: 0.0\n",
      "flipud: 0.0\n",
      "fliplr: 0.5\n",
      "bgr: 0.0\n",
      "mosaic: 1.0\n",
      "mixup: 0.0\n",
      "copy_paste: 0.0\n",
      "\n",
      "\u001b[34m\u001b[1mTuner: \u001b[0mStarting iteration 8/100 with hyperparameters: {'lr0': 0.00988, 'lrf': 0.00951, 'momentum': 0.91866, 'weight_decay': 0.00049, 'warmup_epochs': 3.0, 'warmup_momentum': 0.76808, 'box': 7.36524, 'cls': 0.53807, 'dfl': 1.71551, 'hsv_h': 0.01392, 'hsv_s': 0.83945, 'hsv_v': 0.39311, 'degrees': 0.0, 'translate': 0.10643, 'scale': 0.48108, 'shear': 0.0, 'perspective': 0.0, 'flipud': 0.0, 'fliplr': 0.49395, 'bgr': 0.0, 'mosaic': 0.92939, 'mixup': 0.0, 'copy_paste': 0.0}\n",
      "Saved ..\\..\\runs\\tune9\\tune_scatter_plots.png\n",
      "Saved ..\\..\\runs\\tune9\\tune_fitness.png\n",
      "\n",
      "\u001b[34m\u001b[1mTuner: \u001b[0m8/100 iterations complete  (1124.84s)\n",
      "\u001b[34m\u001b[1mTuner: \u001b[0mResults saved to \u001b[1m..\\..\\runs\\tune9\u001b[0m\n",
      "\u001b[34m\u001b[1mTuner: \u001b[0mBest fitness=0.36798 observed at iteration 1\n",
      "\u001b[34m\u001b[1mTuner: \u001b[0mBest fitness metrics are {'metrics/precision(B)': 0.7391, 'metrics/recall(B)': 0.57292, 'metrics/mAP50(B)': 0.67106, 'metrics/mAP50-95(B)': 0.33431, 'val/box_loss': 1.72861, 'val/cls_loss': 1.37269, 'val/dfl_loss': 1.22096, 'fitness': 0.36798}\n",
      "\u001b[34m\u001b[1mTuner: \u001b[0mBest fitness model is ..\\..\\runs\\yolov8m_hyp_finetune2\n",
      "\u001b[34m\u001b[1mTuner: \u001b[0mBest fitness hyperparameters are printed below.\n",
      "\n",
      "Printing '\u001b[1m\u001b[30m..\\..\\runs\\tune9\\best_hyperparameters.yaml\u001b[0m'\n",
      "\n",
      "lr0: 0.01\n",
      "lrf: 0.01\n",
      "momentum: 0.937\n",
      "weight_decay: 0.0005\n",
      "warmup_epochs: 3.0\n",
      "warmup_momentum: 0.8\n",
      "box: 7.5\n",
      "cls: 0.5\n",
      "dfl: 1.5\n",
      "hsv_h: 0.015\n",
      "hsv_s: 0.7\n",
      "hsv_v: 0.4\n",
      "degrees: 0.0\n",
      "translate: 0.1\n",
      "scale: 0.5\n",
      "shear: 0.0\n",
      "perspective: 0.0\n",
      "flipud: 0.0\n",
      "fliplr: 0.5\n",
      "bgr: 0.0\n",
      "mosaic: 1.0\n",
      "mixup: 0.0\n",
      "copy_paste: 0.0\n",
      "\n",
      "\u001b[34m\u001b[1mTuner: \u001b[0mStarting iteration 9/100 with hyperparameters: {'lr0': 0.01053, 'lrf': 0.00939, 'momentum': 0.90484, 'weight_decay': 0.00057, 'warmup_epochs': 3.0, 'warmup_momentum': 0.72015, 'box': 7.36524, 'cls': 0.47435, 'dfl': 1.69523, 'hsv_h': 0.0149, 'hsv_s': 0.79087, 'hsv_v': 0.39311, 'degrees': 0.0, 'translate': 0.11052, 'scale': 0.48393, 'shear': 0.0, 'perspective': 0.0, 'flipud': 0.0, 'fliplr': 0.4928, 'bgr': 0.0, 'mosaic': 0.8854, 'mixup': 0.0, 'copy_paste': 0.0}\n",
      "Saved ..\\..\\runs\\tune9\\tune_scatter_plots.png\n",
      "Saved ..\\..\\runs\\tune9\\tune_fitness.png\n",
      "\n",
      "\u001b[34m\u001b[1mTuner: \u001b[0m9/100 iterations complete  (1271.78s)\n",
      "\u001b[34m\u001b[1mTuner: \u001b[0mResults saved to \u001b[1m..\\..\\runs\\tune9\u001b[0m\n",
      "\u001b[34m\u001b[1mTuner: \u001b[0mBest fitness=0.36798 observed at iteration 1\n",
      "\u001b[34m\u001b[1mTuner: \u001b[0mBest fitness metrics are {'metrics/precision(B)': 0.7391, 'metrics/recall(B)': 0.57292, 'metrics/mAP50(B)': 0.67106, 'metrics/mAP50-95(B)': 0.33431, 'val/box_loss': 1.72861, 'val/cls_loss': 1.37269, 'val/dfl_loss': 1.22096, 'fitness': 0.36798}\n",
      "\u001b[34m\u001b[1mTuner: \u001b[0mBest fitness model is ..\\..\\runs\\yolov8m_hyp_finetune2\n",
      "\u001b[34m\u001b[1mTuner: \u001b[0mBest fitness hyperparameters are printed below.\n",
      "\n",
      "Printing '\u001b[1m\u001b[30m..\\..\\runs\\tune9\\best_hyperparameters.yaml\u001b[0m'\n",
      "\n",
      "lr0: 0.01\n",
      "lrf: 0.01\n",
      "momentum: 0.937\n",
      "weight_decay: 0.0005\n",
      "warmup_epochs: 3.0\n",
      "warmup_momentum: 0.8\n",
      "box: 7.5\n",
      "cls: 0.5\n",
      "dfl: 1.5\n",
      "hsv_h: 0.015\n",
      "hsv_s: 0.7\n",
      "hsv_v: 0.4\n",
      "degrees: 0.0\n",
      "translate: 0.1\n",
      "scale: 0.5\n",
      "shear: 0.0\n",
      "perspective: 0.0\n",
      "flipud: 0.0\n",
      "fliplr: 0.5\n",
      "bgr: 0.0\n",
      "mosaic: 1.0\n",
      "mixup: 0.0\n",
      "copy_paste: 0.0\n",
      "\n",
      "\u001b[34m\u001b[1mTuner: \u001b[0mStarting iteration 10/100 with hyperparameters: {'lr0': 0.00988, 'lrf': 0.00951, 'momentum': 0.91866, 'weight_decay': 0.00044, 'warmup_epochs': 3.0, 'warmup_momentum': 0.95, 'box': 7.36524, 'cls': 0.52292, 'dfl': 1.71551, 'hsv_h': 0.01175, 'hsv_s': 0.84572, 'hsv_v': 0.37748, 'degrees': 0.0, 'translate': 0.06849, 'scale': 0.5715, 'shear': 0.0, 'perspective': 0.0, 'flipud': 0.0, 'fliplr': 0.60764, 'bgr': 0.0, 'mosaic': 0.92939, 'mixup': 0.0, 'copy_paste': 0.0}\n",
      "Saved ..\\..\\runs\\tune9\\tune_scatter_plots.png\n",
      "Saved ..\\..\\runs\\tune9\\tune_fitness.png\n",
      "\n",
      "\u001b[34m\u001b[1mTuner: \u001b[0m10/100 iterations complete  (1413.56s)\n",
      "\u001b[34m\u001b[1mTuner: \u001b[0mResults saved to \u001b[1m..\\..\\runs\\tune9\u001b[0m\n",
      "\u001b[34m\u001b[1mTuner: \u001b[0mBest fitness=0.36798 observed at iteration 1\n",
      "\u001b[34m\u001b[1mTuner: \u001b[0mBest fitness metrics are {'metrics/precision(B)': 0.7391, 'metrics/recall(B)': 0.57292, 'metrics/mAP50(B)': 0.67106, 'metrics/mAP50-95(B)': 0.33431, 'val/box_loss': 1.72861, 'val/cls_loss': 1.37269, 'val/dfl_loss': 1.22096, 'fitness': 0.36798}\n",
      "\u001b[34m\u001b[1mTuner: \u001b[0mBest fitness model is ..\\..\\runs\\yolov8m_hyp_finetune2\n",
      "\u001b[34m\u001b[1mTuner: \u001b[0mBest fitness hyperparameters are printed below.\n",
      "\n",
      "Printing '\u001b[1m\u001b[30m..\\..\\runs\\tune9\\best_hyperparameters.yaml\u001b[0m'\n",
      "\n",
      "lr0: 0.01\n",
      "lrf: 0.01\n",
      "momentum: 0.937\n",
      "weight_decay: 0.0005\n",
      "warmup_epochs: 3.0\n",
      "warmup_momentum: 0.8\n",
      "box: 7.5\n",
      "cls: 0.5\n",
      "dfl: 1.5\n",
      "hsv_h: 0.015\n",
      "hsv_s: 0.7\n",
      "hsv_v: 0.4\n",
      "degrees: 0.0\n",
      "translate: 0.1\n",
      "scale: 0.5\n",
      "shear: 0.0\n",
      "perspective: 0.0\n",
      "flipud: 0.0\n",
      "fliplr: 0.5\n",
      "bgr: 0.0\n",
      "mosaic: 1.0\n",
      "mixup: 0.0\n",
      "copy_paste: 0.0\n",
      "\n",
      "\u001b[34m\u001b[1mTuner: \u001b[0mStarting iteration 11/100 with hyperparameters: {'lr0': 0.0133, 'lrf': 0.00888, 'momentum': 0.96315, 'weight_decay': 0.00046, 'warmup_epochs': 3.54609, 'warmup_momentum': 0.8, 'box': 8.94983, 'cls': 0.5, 'dfl': 1.68469, 'hsv_h': 0.0137, 'hsv_s': 0.60128, 'hsv_v': 0.38251, 'degrees': 0.0, 'translate': 0.12514, 'scale': 0.77756, 'shear': 0.0, 'perspective': 0.0, 'flipud': 0.0, 'fliplr': 0.32297, 'bgr': 0.0, 'mosaic': 1.0, 'mixup': 0.0, 'copy_paste': 0.0}\n",
      "Saved ..\\..\\runs\\tune9\\tune_scatter_plots.png\n",
      "Saved ..\\..\\runs\\tune9\\tune_fitness.png\n",
      "\n",
      "\u001b[34m\u001b[1mTuner: \u001b[0m11/100 iterations complete  (1554.22s)\n",
      "\u001b[34m\u001b[1mTuner: \u001b[0mResults saved to \u001b[1m..\\..\\runs\\tune9\u001b[0m\n",
      "\u001b[34m\u001b[1mTuner: \u001b[0mBest fitness=0.36798 observed at iteration 1\n",
      "\u001b[34m\u001b[1mTuner: \u001b[0mBest fitness metrics are {'metrics/precision(B)': 0.7391, 'metrics/recall(B)': 0.57292, 'metrics/mAP50(B)': 0.67106, 'metrics/mAP50-95(B)': 0.33431, 'val/box_loss': 1.72861, 'val/cls_loss': 1.37269, 'val/dfl_loss': 1.22096, 'fitness': 0.36798}\n",
      "\u001b[34m\u001b[1mTuner: \u001b[0mBest fitness model is ..\\..\\runs\\yolov8m_hyp_finetune2\n",
      "\u001b[34m\u001b[1mTuner: \u001b[0mBest fitness hyperparameters are printed below.\n",
      "\n",
      "Printing '\u001b[1m\u001b[30m..\\..\\runs\\tune9\\best_hyperparameters.yaml\u001b[0m'\n",
      "\n",
      "lr0: 0.01\n",
      "lrf: 0.01\n",
      "momentum: 0.937\n",
      "weight_decay: 0.0005\n",
      "warmup_epochs: 3.0\n",
      "warmup_momentum: 0.8\n",
      "box: 7.5\n",
      "cls: 0.5\n",
      "dfl: 1.5\n",
      "hsv_h: 0.015\n",
      "hsv_s: 0.7\n",
      "hsv_v: 0.4\n",
      "degrees: 0.0\n",
      "translate: 0.1\n",
      "scale: 0.5\n",
      "shear: 0.0\n",
      "perspective: 0.0\n",
      "flipud: 0.0\n",
      "fliplr: 0.5\n",
      "bgr: 0.0\n",
      "mosaic: 1.0\n",
      "mixup: 0.0\n",
      "copy_paste: 0.0\n",
      "\n",
      "\u001b[34m\u001b[1mTuner: \u001b[0mStarting iteration 12/100 with hyperparameters: {'lr0': 0.00981, 'lrf': 0.00919, 'momentum': 0.93725, 'weight_decay': 0.0005, 'warmup_epochs': 3.04791, 'warmup_momentum': 0.79233, 'box': 7.28667, 'cls': 0.49816, 'dfl': 1.53514, 'hsv_h': 0.01511, 'hsv_s': 0.69244, 'hsv_v': 0.42362, 'degrees': 0.0, 'translate': 0.10352, 'scale': 0.47457, 'shear': 0.0, 'perspective': 0.0, 'flipud': 0.0, 'fliplr': 0.49532, 'bgr': 0.0, 'mosaic': 0.96198, 'mixup': 0.0, 'copy_paste': 0.0}\n",
      "Saved ..\\..\\runs\\tune9\\tune_scatter_plots.png\n",
      "Saved ..\\..\\runs\\tune9\\tune_fitness.png\n",
      "\n",
      "\u001b[34m\u001b[1mTuner: \u001b[0m12/100 iterations complete  (1694.10s)\n",
      "\u001b[34m\u001b[1mTuner: \u001b[0mResults saved to \u001b[1m..\\..\\runs\\tune9\u001b[0m\n",
      "\u001b[34m\u001b[1mTuner: \u001b[0mBest fitness=0.36798 observed at iteration 1\n",
      "\u001b[34m\u001b[1mTuner: \u001b[0mBest fitness metrics are {'metrics/precision(B)': 0.7391, 'metrics/recall(B)': 0.57292, 'metrics/mAP50(B)': 0.67106, 'metrics/mAP50-95(B)': 0.33431, 'val/box_loss': 1.72861, 'val/cls_loss': 1.37269, 'val/dfl_loss': 1.22096, 'fitness': 0.36798}\n",
      "\u001b[34m\u001b[1mTuner: \u001b[0mBest fitness model is ..\\..\\runs\\yolov8m_hyp_finetune2\n",
      "\u001b[34m\u001b[1mTuner: \u001b[0mBest fitness hyperparameters are printed below.\n",
      "\n",
      "Printing '\u001b[1m\u001b[30m..\\..\\runs\\tune9\\best_hyperparameters.yaml\u001b[0m'\n",
      "\n",
      "lr0: 0.01\n",
      "lrf: 0.01\n",
      "momentum: 0.937\n",
      "weight_decay: 0.0005\n",
      "warmup_epochs: 3.0\n",
      "warmup_momentum: 0.8\n",
      "box: 7.5\n",
      "cls: 0.5\n",
      "dfl: 1.5\n",
      "hsv_h: 0.015\n",
      "hsv_s: 0.7\n",
      "hsv_v: 0.4\n",
      "degrees: 0.0\n",
      "translate: 0.1\n",
      "scale: 0.5\n",
      "shear: 0.0\n",
      "perspective: 0.0\n",
      "flipud: 0.0\n",
      "fliplr: 0.5\n",
      "bgr: 0.0\n",
      "mosaic: 1.0\n",
      "mixup: 0.0\n",
      "copy_paste: 0.0\n",
      "\n",
      "\u001b[34m\u001b[1mTuner: \u001b[0mStarting iteration 13/100 with hyperparameters: {'lr0': 0.00983, 'lrf': 0.00951, 'momentum': 0.89888, 'weight_decay': 0.00048, 'warmup_epochs': 3.23091, 'warmup_momentum': 0.92526, 'box': 5.86998, 'cls': 0.52363, 'dfl': 1.92171, 'hsv_h': 0.00994, 'hsv_s': 0.86456, 'hsv_v': 0.35821, 'degrees': 0.0, 'translate': 0.05482, 'scale': 0.56405, 'shear': 0.0, 'perspective': 0.0, 'flipud': 0.0, 'fliplr': 0.6028, 'bgr': 0.0, 'mosaic': 0.90212, 'mixup': 0.0, 'copy_paste': 0.0}\n",
      "Saved ..\\..\\runs\\tune9\\tune_scatter_plots.png\n",
      "Saved ..\\..\\runs\\tune9\\tune_fitness.png\n",
      "\n",
      "\u001b[34m\u001b[1mTuner: \u001b[0m13/100 iterations complete  (1835.70s)\n",
      "\u001b[34m\u001b[1mTuner: \u001b[0mResults saved to \u001b[1m..\\..\\runs\\tune9\u001b[0m\n",
      "\u001b[34m\u001b[1mTuner: \u001b[0mBest fitness=0.38094 observed at iteration 13\n",
      "\u001b[34m\u001b[1mTuner: \u001b[0mBest fitness metrics are {'metrics/precision(B)': 0.62594, 'metrics/recall(B)': 0.61458, 'metrics/mAP50(B)': 0.66746, 'metrics/mAP50-95(B)': 0.3491, 'val/box_loss': 1.28, 'val/cls_loss': 1.10556, 'val/dfl_loss': 1.50446, 'fitness': 0.38094}\n",
      "\u001b[34m\u001b[1mTuner: \u001b[0mBest fitness model is ..\\..\\runs\\yolov8m_hyp_finetune14\n",
      "\u001b[34m\u001b[1mTuner: \u001b[0mBest fitness hyperparameters are printed below.\n",
      "\n",
      "Printing '\u001b[1m\u001b[30m..\\..\\runs\\tune9\\best_hyperparameters.yaml\u001b[0m'\n",
      "\n",
      "lr0: 0.00983\n",
      "lrf: 0.00951\n",
      "momentum: 0.89888\n",
      "weight_decay: 0.00048\n",
      "warmup_epochs: 3.23091\n",
      "warmup_momentum: 0.92526\n",
      "box: 5.86998\n",
      "cls: 0.52363\n",
      "dfl: 1.92171\n",
      "hsv_h: 0.00994\n",
      "hsv_s: 0.86456\n",
      "hsv_v: 0.35821\n",
      "degrees: 0.0\n",
      "translate: 0.05482\n",
      "scale: 0.56405\n",
      "shear: 0.0\n",
      "perspective: 0.0\n",
      "flipud: 0.0\n",
      "fliplr: 0.6028\n",
      "bgr: 0.0\n",
      "mosaic: 0.90212\n",
      "mixup: 0.0\n",
      "copy_paste: 0.0\n",
      "\n",
      "\u001b[34m\u001b[1mTuner: \u001b[0mStarting iteration 14/100 with hyperparameters: {'lr0': 0.00964, 'lrf': 0.01227, 'momentum': 0.92395, 'weight_decay': 0.00034, 'warmup_epochs': 3.23091, 'warmup_momentum': 0.92526, 'box': 5.90349, 'cls': 0.49507, 'dfl': 1.92171, 'hsv_h': 0.00907, 'hsv_s': 0.69708, 'hsv_v': 0.39892, 'degrees': 0.0, 'translate': 0.04283, 'scale': 0.8273, 'shear': 0.0, 'perspective': 0.0, 'flipud': 0.0, 'fliplr': 0.61949, 'bgr': 0.0, 'mosaic': 0.99656, 'mixup': 0.0, 'copy_paste': 0.0}\n",
      "Saved ..\\..\\runs\\tune9\\tune_scatter_plots.png\n",
      "Saved ..\\..\\runs\\tune9\\tune_fitness.png\n",
      "\n",
      "\u001b[34m\u001b[1mTuner: \u001b[0m14/100 iterations complete  (1976.19s)\n",
      "\u001b[34m\u001b[1mTuner: \u001b[0mResults saved to \u001b[1m..\\..\\runs\\tune9\u001b[0m\n",
      "\u001b[34m\u001b[1mTuner: \u001b[0mBest fitness=0.38094 observed at iteration 13\n",
      "\u001b[34m\u001b[1mTuner: \u001b[0mBest fitness metrics are {'metrics/precision(B)': 0.62594, 'metrics/recall(B)': 0.61458, 'metrics/mAP50(B)': 0.66746, 'metrics/mAP50-95(B)': 0.3491, 'val/box_loss': 1.28, 'val/cls_loss': 1.10556, 'val/dfl_loss': 1.50446, 'fitness': 0.38094}\n",
      "\u001b[34m\u001b[1mTuner: \u001b[0mBest fitness model is ..\\..\\runs\\yolov8m_hyp_finetune14\n",
      "\u001b[34m\u001b[1mTuner: \u001b[0mBest fitness hyperparameters are printed below.\n",
      "\n",
      "Printing '\u001b[1m\u001b[30m..\\..\\runs\\tune9\\best_hyperparameters.yaml\u001b[0m'\n",
      "\n",
      "lr0: 0.00983\n",
      "lrf: 0.00951\n",
      "momentum: 0.89888\n",
      "weight_decay: 0.00048\n",
      "warmup_epochs: 3.23091\n",
      "warmup_momentum: 0.92526\n",
      "box: 5.86998\n",
      "cls: 0.52363\n",
      "dfl: 1.92171\n",
      "hsv_h: 0.00994\n",
      "hsv_s: 0.86456\n",
      "hsv_v: 0.35821\n",
      "degrees: 0.0\n",
      "translate: 0.05482\n",
      "scale: 0.56405\n",
      "shear: 0.0\n",
      "perspective: 0.0\n",
      "flipud: 0.0\n",
      "fliplr: 0.6028\n",
      "bgr: 0.0\n",
      "mosaic: 0.90212\n",
      "mixup: 0.0\n",
      "copy_paste: 0.0\n",
      "\n",
      "\u001b[34m\u001b[1mTuner: \u001b[0mStarting iteration 15/100 with hyperparameters: {'lr0': 0.00981, 'lrf': 0.0088, 'momentum': 0.90651, 'weight_decay': 0.00047, 'warmup_epochs': 3.05087, 'warmup_momentum': 0.80386, 'box': 7.40639, 'cls': 0.48545, 'dfl': 1.68348, 'hsv_h': 0.01481, 'hsv_s': 0.70619, 'hsv_v': 0.41436, 'degrees': 0.0, 'translate': 0.09672, 'scale': 0.50169, 'shear': 0.0, 'perspective': 0.0, 'flipud': 0.0, 'fliplr': 0.51441, 'bgr': 0.0, 'mosaic': 1.0, 'mixup': 0.0, 'copy_paste': 0.0}\n",
      "Saved ..\\..\\runs\\tune9\\tune_scatter_plots.png\n",
      "Saved ..\\..\\runs\\tune9\\tune_fitness.png\n",
      "\n",
      "\u001b[34m\u001b[1mTuner: \u001b[0m15/100 iterations complete  (2116.23s)\n",
      "\u001b[34m\u001b[1mTuner: \u001b[0mResults saved to \u001b[1m..\\..\\runs\\tune9\u001b[0m\n",
      "\u001b[34m\u001b[1mTuner: \u001b[0mBest fitness=0.38094 observed at iteration 13\n",
      "\u001b[34m\u001b[1mTuner: \u001b[0mBest fitness metrics are {'metrics/precision(B)': 0.62594, 'metrics/recall(B)': 0.61458, 'metrics/mAP50(B)': 0.66746, 'metrics/mAP50-95(B)': 0.3491, 'val/box_loss': 1.28, 'val/cls_loss': 1.10556, 'val/dfl_loss': 1.50446, 'fitness': 0.38094}\n",
      "\u001b[34m\u001b[1mTuner: \u001b[0mBest fitness model is ..\\..\\runs\\yolov8m_hyp_finetune14\n",
      "\u001b[34m\u001b[1mTuner: \u001b[0mBest fitness hyperparameters are printed below.\n",
      "\n",
      "Printing '\u001b[1m\u001b[30m..\\..\\runs\\tune9\\best_hyperparameters.yaml\u001b[0m'\n",
      "\n",
      "lr0: 0.00983\n",
      "lrf: 0.00951\n",
      "momentum: 0.89888\n",
      "weight_decay: 0.00048\n",
      "warmup_epochs: 3.23091\n",
      "warmup_momentum: 0.92526\n",
      "box: 5.86998\n",
      "cls: 0.52363\n",
      "dfl: 1.92171\n",
      "hsv_h: 0.00994\n",
      "hsv_s: 0.86456\n",
      "hsv_v: 0.35821\n",
      "degrees: 0.0\n",
      "translate: 0.05482\n",
      "scale: 0.56405\n",
      "shear: 0.0\n",
      "perspective: 0.0\n",
      "flipud: 0.0\n",
      "fliplr: 0.6028\n",
      "bgr: 0.0\n",
      "mosaic: 0.90212\n",
      "mixup: 0.0\n",
      "copy_paste: 0.0\n",
      "\n",
      "\u001b[34m\u001b[1mTuner: \u001b[0mStarting iteration 16/100 with hyperparameters: {'lr0': 0.00868, 'lrf': 0.01, 'momentum': 0.98, 'weight_decay': 0.00057, 'warmup_epochs': 3.24242, 'warmup_momentum': 0.45144, 'box': 7.5, 'cls': 0.41492, 'dfl': 1.23654, 'hsv_h': 0.00918, 'hsv_s': 0.72157, 'hsv_v': 0.27966, 'degrees': 0.0, 'translate': 0.11586, 'scale': 0.65124, 'shear': 0.0, 'perspective': 0.0, 'flipud': 0.0, 'fliplr': 0.57126, 'bgr': 0.0, 'mosaic': 1.0, 'mixup': 0.0, 'copy_paste': 0.0}\n",
      "Saved ..\\..\\runs\\tune9\\tune_scatter_plots.png\n",
      "Saved ..\\..\\runs\\tune9\\tune_fitness.png\n",
      "\n",
      "\u001b[34m\u001b[1mTuner: \u001b[0m16/100 iterations complete  (2254.85s)\n",
      "\u001b[34m\u001b[1mTuner: \u001b[0mResults saved to \u001b[1m..\\..\\runs\\tune9\u001b[0m\n",
      "\u001b[34m\u001b[1mTuner: \u001b[0mBest fitness=0.38094 observed at iteration 13\n",
      "\u001b[34m\u001b[1mTuner: \u001b[0mBest fitness metrics are {'metrics/precision(B)': 0.62594, 'metrics/recall(B)': 0.61458, 'metrics/mAP50(B)': 0.66746, 'metrics/mAP50-95(B)': 0.3491, 'val/box_loss': 1.28, 'val/cls_loss': 1.10556, 'val/dfl_loss': 1.50446, 'fitness': 0.38094}\n",
      "\u001b[34m\u001b[1mTuner: \u001b[0mBest fitness model is ..\\..\\runs\\yolov8m_hyp_finetune14\n",
      "\u001b[34m\u001b[1mTuner: \u001b[0mBest fitness hyperparameters are printed below.\n",
      "\n",
      "Printing '\u001b[1m\u001b[30m..\\..\\runs\\tune9\\best_hyperparameters.yaml\u001b[0m'\n",
      "\n",
      "lr0: 0.00983\n",
      "lrf: 0.00951\n",
      "momentum: 0.89888\n",
      "weight_decay: 0.00048\n",
      "warmup_epochs: 3.23091\n",
      "warmup_momentum: 0.92526\n",
      "box: 5.86998\n",
      "cls: 0.52363\n",
      "dfl: 1.92171\n",
      "hsv_h: 0.00994\n",
      "hsv_s: 0.86456\n",
      "hsv_v: 0.35821\n",
      "degrees: 0.0\n",
      "translate: 0.05482\n",
      "scale: 0.56405\n",
      "shear: 0.0\n",
      "perspective: 0.0\n",
      "flipud: 0.0\n",
      "fliplr: 0.6028\n",
      "bgr: 0.0\n",
      "mosaic: 0.90212\n",
      "mixup: 0.0\n",
      "copy_paste: 0.0\n",
      "\n",
      "\u001b[34m\u001b[1mTuner: \u001b[0mStarting iteration 17/100 with hyperparameters: {'lr0': 0.01, 'lrf': 0.00808, 'momentum': 0.92998, 'weight_decay': 0.00053, 'warmup_epochs': 2.73283, 'warmup_momentum': 0.89735, 'box': 8.30155, 'cls': 0.4361, 'dfl': 1.5, 'hsv_h': 0.01632, 'hsv_s': 0.81182, 'hsv_v': 0.40529, 'degrees': 0.0, 'translate': 0.12105, 'scale': 0.53122, 'shear': 0.0, 'perspective': 0.0, 'flipud': 0.0, 'fliplr': 0.40778, 'bgr': 0.0, 'mosaic': 0.77517, 'mixup': 0.0, 'copy_paste': 0.0}\n",
      "Saved ..\\..\\runs\\tune9\\tune_scatter_plots.png\n",
      "Saved ..\\..\\runs\\tune9\\tune_fitness.png\n",
      "\n",
      "\u001b[34m\u001b[1mTuner: \u001b[0m17/100 iterations complete  (2392.99s)\n",
      "\u001b[34m\u001b[1mTuner: \u001b[0mResults saved to \u001b[1m..\\..\\runs\\tune9\u001b[0m\n",
      "\u001b[34m\u001b[1mTuner: \u001b[0mBest fitness=0.38094 observed at iteration 13\n",
      "\u001b[34m\u001b[1mTuner: \u001b[0mBest fitness metrics are {'metrics/precision(B)': 0.62594, 'metrics/recall(B)': 0.61458, 'metrics/mAP50(B)': 0.66746, 'metrics/mAP50-95(B)': 0.3491, 'val/box_loss': 1.28, 'val/cls_loss': 1.10556, 'val/dfl_loss': 1.50446, 'fitness': 0.38094}\n",
      "\u001b[34m\u001b[1mTuner: \u001b[0mBest fitness model is ..\\..\\runs\\yolov8m_hyp_finetune14\n",
      "\u001b[34m\u001b[1mTuner: \u001b[0mBest fitness hyperparameters are printed below.\n",
      "\n",
      "Printing '\u001b[1m\u001b[30m..\\..\\runs\\tune9\\best_hyperparameters.yaml\u001b[0m'\n",
      "\n",
      "lr0: 0.00983\n",
      "lrf: 0.00951\n",
      "momentum: 0.89888\n",
      "weight_decay: 0.00048\n",
      "warmup_epochs: 3.23091\n",
      "warmup_momentum: 0.92526\n",
      "box: 5.86998\n",
      "cls: 0.52363\n",
      "dfl: 1.92171\n",
      "hsv_h: 0.00994\n",
      "hsv_s: 0.86456\n",
      "hsv_v: 0.35821\n",
      "degrees: 0.0\n",
      "translate: 0.05482\n",
      "scale: 0.56405\n",
      "shear: 0.0\n",
      "perspective: 0.0\n",
      "flipud: 0.0\n",
      "fliplr: 0.6028\n",
      "bgr: 0.0\n",
      "mosaic: 0.90212\n",
      "mixup: 0.0\n",
      "copy_paste: 0.0\n",
      "\n",
      "\u001b[34m\u001b[1mTuner: \u001b[0mStarting iteration 18/100 with hyperparameters: {'lr0': 0.00997, 'lrf': 0.00957, 'momentum': 0.8965, 'weight_decay': 0.00048, 'warmup_epochs': 3.22028, 'warmup_momentum': 0.91835, 'box': 6.07748, 'cls': 0.53063, 'dfl': 2.00336, 'hsv_h': 0.01026, 'hsv_s': 0.84068, 'hsv_v': 0.35214, 'degrees': 0.0, 'translate': 0.05454, 'scale': 0.56405, 'shear': 0.0, 'perspective': 0.0, 'flipud': 0.0, 'fliplr': 0.59931, 'bgr': 0.0, 'mosaic': 0.95587, 'mixup': 0.0, 'copy_paste': 0.0}\n",
      "Saved ..\\..\\runs\\tune9\\tune_scatter_plots.png\n",
      "Saved ..\\..\\runs\\tune9\\tune_fitness.png\n",
      "\n",
      "\u001b[34m\u001b[1mTuner: \u001b[0m18/100 iterations complete  (2529.72s)\n",
      "\u001b[34m\u001b[1mTuner: \u001b[0mResults saved to \u001b[1m..\\..\\runs\\tune9\u001b[0m\n",
      "\u001b[34m\u001b[1mTuner: \u001b[0mBest fitness=0.38094 observed at iteration 13\n",
      "\u001b[34m\u001b[1mTuner: \u001b[0mBest fitness metrics are {'metrics/precision(B)': 0.62594, 'metrics/recall(B)': 0.61458, 'metrics/mAP50(B)': 0.66746, 'metrics/mAP50-95(B)': 0.3491, 'val/box_loss': 1.28, 'val/cls_loss': 1.10556, 'val/dfl_loss': 1.50446, 'fitness': 0.38094}\n",
      "\u001b[34m\u001b[1mTuner: \u001b[0mBest fitness model is ..\\..\\runs\\yolov8m_hyp_finetune14\n",
      "\u001b[34m\u001b[1mTuner: \u001b[0mBest fitness hyperparameters are printed below.\n",
      "\n",
      "Printing '\u001b[1m\u001b[30m..\\..\\runs\\tune9\\best_hyperparameters.yaml\u001b[0m'\n",
      "\n",
      "lr0: 0.00983\n",
      "lrf: 0.00951\n",
      "momentum: 0.89888\n",
      "weight_decay: 0.00048\n",
      "warmup_epochs: 3.23091\n",
      "warmup_momentum: 0.92526\n",
      "box: 5.86998\n",
      "cls: 0.52363\n",
      "dfl: 1.92171\n",
      "hsv_h: 0.00994\n",
      "hsv_s: 0.86456\n",
      "hsv_v: 0.35821\n",
      "degrees: 0.0\n",
      "translate: 0.05482\n",
      "scale: 0.56405\n",
      "shear: 0.0\n",
      "perspective: 0.0\n",
      "flipud: 0.0\n",
      "fliplr: 0.6028\n",
      "bgr: 0.0\n",
      "mosaic: 0.90212\n",
      "mixup: 0.0\n",
      "copy_paste: 0.0\n",
      "\n",
      "\u001b[34m\u001b[1mTuner: \u001b[0mStarting iteration 19/100 with hyperparameters: {'lr0': 0.00991, 'lrf': 0.01, 'momentum': 0.937, 'weight_decay': 0.00053, 'warmup_epochs': 3.19103, 'warmup_momentum': 0.91058, 'box': 6.99125, 'cls': 0.5, 'dfl': 1.21696, 'hsv_h': 0.01623, 'hsv_s': 0.64725, 'hsv_v': 0.4, 'degrees': 0.0, 'translate': 0.08922, 'scale': 0.54024, 'shear': 0.0, 'perspective': 0.0, 'flipud': 0.0, 'fliplr': 0.52438, 'bgr': 0.0, 'mosaic': 0.99158, 'mixup': 0.0, 'copy_paste': 0.0}\n",
      "Saved ..\\..\\runs\\tune9\\tune_scatter_plots.png\n",
      "Saved ..\\..\\runs\\tune9\\tune_fitness.png\n",
      "\n",
      "\u001b[34m\u001b[1mTuner: \u001b[0m19/100 iterations complete  (2665.67s)\n",
      "\u001b[34m\u001b[1mTuner: \u001b[0mResults saved to \u001b[1m..\\..\\runs\\tune9\u001b[0m\n",
      "\u001b[34m\u001b[1mTuner: \u001b[0mBest fitness=0.38094 observed at iteration 13\n",
      "\u001b[34m\u001b[1mTuner: \u001b[0mBest fitness metrics are {'metrics/precision(B)': 0.62594, 'metrics/recall(B)': 0.61458, 'metrics/mAP50(B)': 0.66746, 'metrics/mAP50-95(B)': 0.3491, 'val/box_loss': 1.28, 'val/cls_loss': 1.10556, 'val/dfl_loss': 1.50446, 'fitness': 0.38094}\n",
      "\u001b[34m\u001b[1mTuner: \u001b[0mBest fitness model is ..\\..\\runs\\yolov8m_hyp_finetune14\n",
      "\u001b[34m\u001b[1mTuner: \u001b[0mBest fitness hyperparameters are printed below.\n",
      "\n",
      "Printing '\u001b[1m\u001b[30m..\\..\\runs\\tune9\\best_hyperparameters.yaml\u001b[0m'\n",
      "\n",
      "lr0: 0.00983\n",
      "lrf: 0.00951\n",
      "momentum: 0.89888\n",
      "weight_decay: 0.00048\n",
      "warmup_epochs: 3.23091\n",
      "warmup_momentum: 0.92526\n",
      "box: 5.86998\n",
      "cls: 0.52363\n",
      "dfl: 1.92171\n",
      "hsv_h: 0.00994\n",
      "hsv_s: 0.86456\n",
      "hsv_v: 0.35821\n",
      "degrees: 0.0\n",
      "translate: 0.05482\n",
      "scale: 0.56405\n",
      "shear: 0.0\n",
      "perspective: 0.0\n",
      "flipud: 0.0\n",
      "fliplr: 0.6028\n",
      "bgr: 0.0\n",
      "mosaic: 0.90212\n",
      "mixup: 0.0\n",
      "copy_paste: 0.0\n",
      "\n",
      "\u001b[34m\u001b[1mTuner: \u001b[0mStarting iteration 20/100 with hyperparameters: {'lr0': 0.01068, 'lrf': 0.00926, 'momentum': 0.92528, 'weight_decay': 0.00051, 'warmup_epochs': 2.80645, 'warmup_momentum': 0.80606, 'box': 7.74327, 'cls': 0.50754, 'dfl': 1.51944, 'hsv_h': 0.015, 'hsv_s': 0.70119, 'hsv_v': 0.42482, 'degrees': 0.0, 'translate': 0.10641, 'scale': 0.55446, 'shear': 0.0, 'perspective': 0.0, 'flipud': 0.0, 'fliplr': 0.48548, 'bgr': 0.0, 'mosaic': 1.0, 'mixup': 0.0, 'copy_paste': 0.0}\n",
      "Saved ..\\..\\runs\\tune9\\tune_scatter_plots.png\n",
      "Saved ..\\..\\runs\\tune9\\tune_fitness.png\n",
      "\n",
      "\u001b[34m\u001b[1mTuner: \u001b[0m20/100 iterations complete  (2804.39s)\n",
      "\u001b[34m\u001b[1mTuner: \u001b[0mResults saved to \u001b[1m..\\..\\runs\\tune9\u001b[0m\n",
      "\u001b[34m\u001b[1mTuner: \u001b[0mBest fitness=0.38094 observed at iteration 13\n",
      "\u001b[34m\u001b[1mTuner: \u001b[0mBest fitness metrics are {'metrics/precision(B)': 0.62594, 'metrics/recall(B)': 0.61458, 'metrics/mAP50(B)': 0.66746, 'metrics/mAP50-95(B)': 0.3491, 'val/box_loss': 1.28, 'val/cls_loss': 1.10556, 'val/dfl_loss': 1.50446, 'fitness': 0.38094}\n",
      "\u001b[34m\u001b[1mTuner: \u001b[0mBest fitness model is ..\\..\\runs\\yolov8m_hyp_finetune14\n",
      "\u001b[34m\u001b[1mTuner: \u001b[0mBest fitness hyperparameters are printed below.\n",
      "\n",
      "Printing '\u001b[1m\u001b[30m..\\..\\runs\\tune9\\best_hyperparameters.yaml\u001b[0m'\n",
      "\n",
      "lr0: 0.00983\n",
      "lrf: 0.00951\n",
      "momentum: 0.89888\n",
      "weight_decay: 0.00048\n",
      "warmup_epochs: 3.23091\n",
      "warmup_momentum: 0.92526\n",
      "box: 5.86998\n",
      "cls: 0.52363\n",
      "dfl: 1.92171\n",
      "hsv_h: 0.00994\n",
      "hsv_s: 0.86456\n",
      "hsv_v: 0.35821\n",
      "degrees: 0.0\n",
      "translate: 0.05482\n",
      "scale: 0.56405\n",
      "shear: 0.0\n",
      "perspective: 0.0\n",
      "flipud: 0.0\n",
      "fliplr: 0.6028\n",
      "bgr: 0.0\n",
      "mosaic: 0.90212\n",
      "mixup: 0.0\n",
      "copy_paste: 0.0\n",
      "\n",
      "\u001b[34m\u001b[1mTuner: \u001b[0mStarting iteration 21/100 with hyperparameters: {'lr0': 0.00982, 'lrf': 0.01001, 'momentum': 0.83787, 'weight_decay': 0.00038, 'warmup_epochs': 3.02851, 'warmup_momentum': 0.85192, 'box': 5.90104, 'cls': 0.51555, 'dfl': 2.13543, 'hsv_h': 0.0077, 'hsv_s': 0.86456, 'hsv_v': 0.35821, 'degrees': 0.0, 'translate': 0.06303, 'scale': 0.56405, 'shear': 0.0, 'perspective': 0.0, 'flipud': 0.0, 'fliplr': 0.6028, 'bgr': 0.0, 'mosaic': 0.95176, 'mixup': 0.0, 'copy_paste': 0.0}\n",
      "Saved ..\\..\\runs\\tune9\\tune_scatter_plots.png\n",
      "Saved ..\\..\\runs\\tune9\\tune_fitness.png\n",
      "\n",
      "\u001b[34m\u001b[1mTuner: \u001b[0m21/100 iterations complete  (2948.08s)\n",
      "\u001b[34m\u001b[1mTuner: \u001b[0mResults saved to \u001b[1m..\\..\\runs\\tune9\u001b[0m\n",
      "\u001b[34m\u001b[1mTuner: \u001b[0mBest fitness=0.38094 observed at iteration 13\n",
      "\u001b[34m\u001b[1mTuner: \u001b[0mBest fitness metrics are {'metrics/precision(B)': 0.62594, 'metrics/recall(B)': 0.61458, 'metrics/mAP50(B)': 0.66746, 'metrics/mAP50-95(B)': 0.3491, 'val/box_loss': 1.28, 'val/cls_loss': 1.10556, 'val/dfl_loss': 1.50446, 'fitness': 0.38094}\n",
      "\u001b[34m\u001b[1mTuner: \u001b[0mBest fitness model is ..\\..\\runs\\yolov8m_hyp_finetune14\n",
      "\u001b[34m\u001b[1mTuner: \u001b[0mBest fitness hyperparameters are printed below.\n",
      "\n",
      "Printing '\u001b[1m\u001b[30m..\\..\\runs\\tune9\\best_hyperparameters.yaml\u001b[0m'\n",
      "\n",
      "lr0: 0.00983\n",
      "lrf: 0.00951\n",
      "momentum: 0.89888\n",
      "weight_decay: 0.00048\n",
      "warmup_epochs: 3.23091\n",
      "warmup_momentum: 0.92526\n",
      "box: 5.86998\n",
      "cls: 0.52363\n",
      "dfl: 1.92171\n",
      "hsv_h: 0.00994\n",
      "hsv_s: 0.86456\n",
      "hsv_v: 0.35821\n",
      "degrees: 0.0\n",
      "translate: 0.05482\n",
      "scale: 0.56405\n",
      "shear: 0.0\n",
      "perspective: 0.0\n",
      "flipud: 0.0\n",
      "fliplr: 0.6028\n",
      "bgr: 0.0\n",
      "mosaic: 0.90212\n",
      "mixup: 0.0\n",
      "copy_paste: 0.0\n",
      "\n",
      "\u001b[34m\u001b[1mTuner: \u001b[0mStarting iteration 22/100 with hyperparameters: {'lr0': 0.00852, 'lrf': 0.00975, 'momentum': 0.83787, 'weight_decay': 0.00045, 'warmup_epochs': 3.46925, 'warmup_momentum': 0.70636, 'box': 5.57977, 'cls': 0.4095, 'dfl': 1.70618, 'hsv_h': 0.00754, 'hsv_s': 0.87189, 'hsv_v': 0.35821, 'degrees': 0.0, 'translate': 0.06034, 'scale': 0.56405, 'shear': 0.0, 'perspective': 0.0, 'flipud': 0.0, 'fliplr': 0.6028, 'bgr': 0.0, 'mosaic': 0.66377, 'mixup': 0.0, 'copy_paste': 0.0}\n",
      "Saved ..\\..\\runs\\tune9\\tune_scatter_plots.png\n",
      "Saved ..\\..\\runs\\tune9\\tune_fitness.png\n",
      "\n",
      "\u001b[34m\u001b[1mTuner: \u001b[0m22/100 iterations complete  (3092.30s)\n",
      "\u001b[34m\u001b[1mTuner: \u001b[0mResults saved to \u001b[1m..\\..\\runs\\tune9\u001b[0m\n",
      "\u001b[34m\u001b[1mTuner: \u001b[0mBest fitness=0.38094 observed at iteration 13\n",
      "\u001b[34m\u001b[1mTuner: \u001b[0mBest fitness metrics are {'metrics/precision(B)': 0.62594, 'metrics/recall(B)': 0.61458, 'metrics/mAP50(B)': 0.66746, 'metrics/mAP50-95(B)': 0.3491, 'val/box_loss': 1.28, 'val/cls_loss': 1.10556, 'val/dfl_loss': 1.50446, 'fitness': 0.38094}\n",
      "\u001b[34m\u001b[1mTuner: \u001b[0mBest fitness model is ..\\..\\runs\\yolov8m_hyp_finetune14\n",
      "\u001b[34m\u001b[1mTuner: \u001b[0mBest fitness hyperparameters are printed below.\n",
      "\n",
      "Printing '\u001b[1m\u001b[30m..\\..\\runs\\tune9\\best_hyperparameters.yaml\u001b[0m'\n",
      "\n",
      "lr0: 0.00983\n",
      "lrf: 0.00951\n",
      "momentum: 0.89888\n",
      "weight_decay: 0.00048\n",
      "warmup_epochs: 3.23091\n",
      "warmup_momentum: 0.92526\n",
      "box: 5.86998\n",
      "cls: 0.52363\n",
      "dfl: 1.92171\n",
      "hsv_h: 0.00994\n",
      "hsv_s: 0.86456\n",
      "hsv_v: 0.35821\n",
      "degrees: 0.0\n",
      "translate: 0.05482\n",
      "scale: 0.56405\n",
      "shear: 0.0\n",
      "perspective: 0.0\n",
      "flipud: 0.0\n",
      "fliplr: 0.6028\n",
      "bgr: 0.0\n",
      "mosaic: 0.90212\n",
      "mixup: 0.0\n",
      "copy_paste: 0.0\n",
      "\n",
      "\u001b[34m\u001b[1mTuner: \u001b[0mStarting iteration 23/100 with hyperparameters: {'lr0': 0.00819, 'lrf': 0.00979, 'momentum': 0.89888, 'weight_decay': 0.00061, 'warmup_epochs': 3.21178, 'warmup_momentum': 0.93254, 'box': 5.48377, 'cls': 0.62292, 'dfl': 1.82341, 'hsv_h': 0.00972, 'hsv_s': 0.9, 'hsv_v': 0.38743, 'degrees': 0.0, 'translate': 0.04464, 'scale': 0.69877, 'shear': 0.0, 'perspective': 0.0, 'flipud': 0.0, 'fliplr': 0.66507, 'bgr': 0.0, 'mosaic': 0.72422, 'mixup': 0.0, 'copy_paste': 0.0}\n",
      "Saved ..\\..\\runs\\tune9\\tune_scatter_plots.png\n",
      "Saved ..\\..\\runs\\tune9\\tune_fitness.png\n",
      "\n",
      "\u001b[34m\u001b[1mTuner: \u001b[0m23/100 iterations complete  (3236.42s)\n",
      "\u001b[34m\u001b[1mTuner: \u001b[0mResults saved to \u001b[1m..\\..\\runs\\tune9\u001b[0m\n",
      "\u001b[34m\u001b[1mTuner: \u001b[0mBest fitness=0.38094 observed at iteration 13\n",
      "\u001b[34m\u001b[1mTuner: \u001b[0mBest fitness metrics are {'metrics/precision(B)': 0.62594, 'metrics/recall(B)': 0.61458, 'metrics/mAP50(B)': 0.66746, 'metrics/mAP50-95(B)': 0.3491, 'val/box_loss': 1.28, 'val/cls_loss': 1.10556, 'val/dfl_loss': 1.50446, 'fitness': 0.38094}\n",
      "\u001b[34m\u001b[1mTuner: \u001b[0mBest fitness model is ..\\..\\runs\\yolov8m_hyp_finetune14\n",
      "\u001b[34m\u001b[1mTuner: \u001b[0mBest fitness hyperparameters are printed below.\n",
      "\n",
      "Printing '\u001b[1m\u001b[30m..\\..\\runs\\tune9\\best_hyperparameters.yaml\u001b[0m'\n",
      "\n",
      "lr0: 0.00983\n",
      "lrf: 0.00951\n",
      "momentum: 0.89888\n",
      "weight_decay: 0.00048\n",
      "warmup_epochs: 3.23091\n",
      "warmup_momentum: 0.92526\n",
      "box: 5.86998\n",
      "cls: 0.52363\n",
      "dfl: 1.92171\n",
      "hsv_h: 0.00994\n",
      "hsv_s: 0.86456\n",
      "hsv_v: 0.35821\n",
      "degrees: 0.0\n",
      "translate: 0.05482\n",
      "scale: 0.56405\n",
      "shear: 0.0\n",
      "perspective: 0.0\n",
      "flipud: 0.0\n",
      "fliplr: 0.6028\n",
      "bgr: 0.0\n",
      "mosaic: 0.90212\n",
      "mixup: 0.0\n",
      "copy_paste: 0.0\n",
      "\n",
      "\u001b[34m\u001b[1mTuner: \u001b[0mStarting iteration 24/100 with hyperparameters: {'lr0': 0.00792, 'lrf': 0.00979, 'momentum': 0.84055, 'weight_decay': 0.00063, 'warmup_epochs': 2.999, 'warmup_momentum': 0.95, 'box': 6.32647, 'cls': 0.60714, 'dfl': 2.12195, 'hsv_h': 0.01283, 'hsv_s': 0.9, 'hsv_v': 0.51795, 'degrees': 0.0, 'translate': 0.04467, 'scale': 0.53463, 'shear': 0.0, 'perspective': 0.0, 'flipud': 0.0, 'fliplr': 0.66507, 'bgr': 0.0, 'mosaic': 0.68314, 'mixup': 0.0, 'copy_paste': 0.0}\n",
      "Saved ..\\..\\runs\\tune9\\tune_scatter_plots.png\n",
      "Saved ..\\..\\runs\\tune9\\tune_fitness.png\n",
      "\n",
      "\u001b[34m\u001b[1mTuner: \u001b[0m24/100 iterations complete  (3380.06s)\n",
      "\u001b[34m\u001b[1mTuner: \u001b[0mResults saved to \u001b[1m..\\..\\runs\\tune9\u001b[0m\n",
      "\u001b[34m\u001b[1mTuner: \u001b[0mBest fitness=0.40482 observed at iteration 24\n",
      "\u001b[34m\u001b[1mTuner: \u001b[0mBest fitness metrics are {'metrics/precision(B)': 0.6767, 'metrics/recall(B)': 0.64321, 'metrics/mAP50(B)': 0.69491, 'metrics/mAP50-95(B)': 0.37259, 'val/box_loss': 1.38783, 'val/cls_loss': 1.21819, 'val/dfl_loss': 1.67211, 'fitness': 0.40482}\n",
      "\u001b[34m\u001b[1mTuner: \u001b[0mBest fitness model is ..\\..\\runs\\yolov8m_hyp_finetune25\n",
      "\u001b[34m\u001b[1mTuner: \u001b[0mBest fitness hyperparameters are printed below.\n",
      "\n",
      "Printing '\u001b[1m\u001b[30m..\\..\\runs\\tune9\\best_hyperparameters.yaml\u001b[0m'\n",
      "\n",
      "lr0: 0.00792\n",
      "lrf: 0.00979\n",
      "momentum: 0.84055\n",
      "weight_decay: 0.00063\n",
      "warmup_epochs: 2.999\n",
      "warmup_momentum: 0.95\n",
      "box: 6.32647\n",
      "cls: 0.60714\n",
      "dfl: 2.12195\n",
      "hsv_h: 0.01283\n",
      "hsv_s: 0.9\n",
      "hsv_v: 0.51795\n",
      "degrees: 0.0\n",
      "translate: 0.04467\n",
      "scale: 0.53463\n",
      "shear: 0.0\n",
      "perspective: 0.0\n",
      "flipud: 0.0\n",
      "fliplr: 0.66507\n",
      "bgr: 0.0\n",
      "mosaic: 0.68314\n",
      "mixup: 0.0\n",
      "copy_paste: 0.0\n",
      "\n",
      "\u001b[34m\u001b[1mTuner: \u001b[0mStarting iteration 25/100 with hyperparameters: {'lr0': 0.00977, 'lrf': 0.0087, 'momentum': 0.90416, 'weight_decay': 0.00057, 'warmup_epochs': 3.21178, 'warmup_momentum': 0.93254, 'box': 4.98756, 'cls': 0.62292, 'dfl': 1.75484, 'hsv_h': 0.01026, 'hsv_s': 0.79304, 'hsv_v': 0.37225, 'degrees': 0.0, 'translate': 0.04464, 'scale': 0.49873, 'shear': 0.0, 'perspective': 0.0, 'flipud': 0.0, 'fliplr': 0.81184, 'bgr': 0.0, 'mosaic': 0.77505, 'mixup': 0.0, 'copy_paste': 0.0}\n",
      "Saved ..\\..\\runs\\tune9\\tune_scatter_plots.png\n",
      "Saved ..\\..\\runs\\tune9\\tune_fitness.png\n",
      "\n",
      "\u001b[34m\u001b[1mTuner: \u001b[0m25/100 iterations complete  (3525.86s)\n",
      "\u001b[34m\u001b[1mTuner: \u001b[0mResults saved to \u001b[1m..\\..\\runs\\tune9\u001b[0m\n",
      "\u001b[34m\u001b[1mTuner: \u001b[0mBest fitness=0.40482 observed at iteration 24\n",
      "\u001b[34m\u001b[1mTuner: \u001b[0mBest fitness metrics are {'metrics/precision(B)': 0.6767, 'metrics/recall(B)': 0.64321, 'metrics/mAP50(B)': 0.69491, 'metrics/mAP50-95(B)': 0.37259, 'val/box_loss': 1.38783, 'val/cls_loss': 1.21819, 'val/dfl_loss': 1.67211, 'fitness': 0.40482}\n",
      "\u001b[34m\u001b[1mTuner: \u001b[0mBest fitness model is ..\\..\\runs\\yolov8m_hyp_finetune25\n",
      "\u001b[34m\u001b[1mTuner: \u001b[0mBest fitness hyperparameters are printed below.\n",
      "\n",
      "Printing '\u001b[1m\u001b[30m..\\..\\runs\\tune9\\best_hyperparameters.yaml\u001b[0m'\n",
      "\n",
      "lr0: 0.00792\n",
      "lrf: 0.00979\n",
      "momentum: 0.84055\n",
      "weight_decay: 0.00063\n",
      "warmup_epochs: 2.999\n",
      "warmup_momentum: 0.95\n",
      "box: 6.32647\n",
      "cls: 0.60714\n",
      "dfl: 2.12195\n",
      "hsv_h: 0.01283\n",
      "hsv_s: 0.9\n",
      "hsv_v: 0.51795\n",
      "degrees: 0.0\n",
      "translate: 0.04467\n",
      "scale: 0.53463\n",
      "shear: 0.0\n",
      "perspective: 0.0\n",
      "flipud: 0.0\n",
      "fliplr: 0.66507\n",
      "bgr: 0.0\n",
      "mosaic: 0.68314\n",
      "mixup: 0.0\n",
      "copy_paste: 0.0\n",
      "\n",
      "\u001b[34m\u001b[1mTuner: \u001b[0mStarting iteration 26/100 with hyperparameters: {'lr0': 0.00974, 'lrf': 0.00954, 'momentum': 0.90538, 'weight_decay': 0.00047, 'warmup_epochs': 3.09134, 'warmup_momentum': 0.92275, 'box': 5.68525, 'cls': 0.5489, 'dfl': 1.92872, 'hsv_h': 0.01006, 'hsv_s': 0.85067, 'hsv_v': 0.35263, 'degrees': 0.0, 'translate': 0.05553, 'scale': 0.57139, 'shear': 0.0, 'perspective': 0.0, 'flipud': 0.0, 'fliplr': 0.62182, 'bgr': 0.0, 'mosaic': 0.90021, 'mixup': 0.0, 'copy_paste': 0.0}\n",
      "Saved ..\\..\\runs\\tune9\\tune_scatter_plots.png\n",
      "Saved ..\\..\\runs\\tune9\\tune_fitness.png\n",
      "\n",
      "\u001b[34m\u001b[1mTuner: \u001b[0m26/100 iterations complete  (3668.88s)\n",
      "\u001b[34m\u001b[1mTuner: \u001b[0mResults saved to \u001b[1m..\\..\\runs\\tune9\u001b[0m\n",
      "\u001b[34m\u001b[1mTuner: \u001b[0mBest fitness=0.40482 observed at iteration 24\n",
      "\u001b[34m\u001b[1mTuner: \u001b[0mBest fitness metrics are {'metrics/precision(B)': 0.6767, 'metrics/recall(B)': 0.64321, 'metrics/mAP50(B)': 0.69491, 'metrics/mAP50-95(B)': 0.37259, 'val/box_loss': 1.38783, 'val/cls_loss': 1.21819, 'val/dfl_loss': 1.67211, 'fitness': 0.40482}\n",
      "\u001b[34m\u001b[1mTuner: \u001b[0mBest fitness model is ..\\..\\runs\\yolov8m_hyp_finetune25\n",
      "\u001b[34m\u001b[1mTuner: \u001b[0mBest fitness hyperparameters are printed below.\n",
      "\n",
      "Printing '\u001b[1m\u001b[30m..\\..\\runs\\tune9\\best_hyperparameters.yaml\u001b[0m'\n",
      "\n",
      "lr0: 0.00792\n",
      "lrf: 0.00979\n",
      "momentum: 0.84055\n",
      "weight_decay: 0.00063\n",
      "warmup_epochs: 2.999\n",
      "warmup_momentum: 0.95\n",
      "box: 6.32647\n",
      "cls: 0.60714\n",
      "dfl: 2.12195\n",
      "hsv_h: 0.01283\n",
      "hsv_s: 0.9\n",
      "hsv_v: 0.51795\n",
      "degrees: 0.0\n",
      "translate: 0.04467\n",
      "scale: 0.53463\n",
      "shear: 0.0\n",
      "perspective: 0.0\n",
      "flipud: 0.0\n",
      "fliplr: 0.66507\n",
      "bgr: 0.0\n",
      "mosaic: 0.68314\n",
      "mixup: 0.0\n",
      "copy_paste: 0.0\n",
      "\n",
      "\u001b[34m\u001b[1mTuner: \u001b[0mStarting iteration 27/100 with hyperparameters: {'lr0': 0.00798, 'lrf': 0.00885, 'momentum': 0.89888, 'weight_decay': 0.00041, 'warmup_epochs': 2.6822, 'warmup_momentum': 0.8525, 'box': 6.01009, 'cls': 0.61687, 'dfl': 1.92171, 'hsv_h': 0.0086, 'hsv_s': 0.71722, 'hsv_v': 0.35286, 'degrees': 0.0, 'translate': 0.04488, 'scale': 0.62685, 'shear': 0.0, 'perspective': 0.0, 'flipud': 0.0, 'fliplr': 0.66033, 'bgr': 0.0, 'mosaic': 1.0, 'mixup': 0.0, 'copy_paste': 0.0}\n",
      "Saved ..\\..\\runs\\tune9\\tune_scatter_plots.png\n",
      "Saved ..\\..\\runs\\tune9\\tune_fitness.png\n",
      "\n",
      "\u001b[34m\u001b[1mTuner: \u001b[0m27/100 iterations complete  (3812.11s)\n",
      "\u001b[34m\u001b[1mTuner: \u001b[0mResults saved to \u001b[1m..\\..\\runs\\tune9\u001b[0m\n",
      "\u001b[34m\u001b[1mTuner: \u001b[0mBest fitness=0.40482 observed at iteration 24\n",
      "\u001b[34m\u001b[1mTuner: \u001b[0mBest fitness metrics are {'metrics/precision(B)': 0.6767, 'metrics/recall(B)': 0.64321, 'metrics/mAP50(B)': 0.69491, 'metrics/mAP50-95(B)': 0.37259, 'val/box_loss': 1.38783, 'val/cls_loss': 1.21819, 'val/dfl_loss': 1.67211, 'fitness': 0.40482}\n",
      "\u001b[34m\u001b[1mTuner: \u001b[0mBest fitness model is ..\\..\\runs\\yolov8m_hyp_finetune25\n",
      "\u001b[34m\u001b[1mTuner: \u001b[0mBest fitness hyperparameters are printed below.\n",
      "\n",
      "Printing '\u001b[1m\u001b[30m..\\..\\runs\\tune9\\best_hyperparameters.yaml\u001b[0m'\n",
      "\n",
      "lr0: 0.00792\n",
      "lrf: 0.00979\n",
      "momentum: 0.84055\n",
      "weight_decay: 0.00063\n",
      "warmup_epochs: 2.999\n",
      "warmup_momentum: 0.95\n",
      "box: 6.32647\n",
      "cls: 0.60714\n",
      "dfl: 2.12195\n",
      "hsv_h: 0.01283\n",
      "hsv_s: 0.9\n",
      "hsv_v: 0.51795\n",
      "degrees: 0.0\n",
      "translate: 0.04467\n",
      "scale: 0.53463\n",
      "shear: 0.0\n",
      "perspective: 0.0\n",
      "flipud: 0.0\n",
      "fliplr: 0.66507\n",
      "bgr: 0.0\n",
      "mosaic: 0.68314\n",
      "mixup: 0.0\n",
      "copy_paste: 0.0\n",
      "\n",
      "\u001b[34m\u001b[1mTuner: \u001b[0mStarting iteration 28/100 with hyperparameters: {'lr0': 0.00983, 'lrf': 0.00951, 'momentum': 0.89933, 'weight_decay': 0.00047, 'warmup_epochs': 3.1601, 'warmup_momentum': 0.94452, 'box': 5.94249, 'cls': 0.52364, 'dfl': 1.89134, 'hsv_h': 0.0097, 'hsv_s': 0.84529, 'hsv_v': 0.34629, 'degrees': 0.0, 'translate': 0.054, 'scale': 0.5821, 'shear': 0.0, 'perspective': 0.0, 'flipud': 0.0, 'fliplr': 0.60275, 'bgr': 0.0, 'mosaic': 0.94408, 'mixup': 0.0, 'copy_paste': 0.0}\n",
      "Saved ..\\..\\runs\\tune9\\tune_scatter_plots.png\n",
      "Saved ..\\..\\runs\\tune9\\tune_fitness.png\n",
      "\n",
      "\u001b[34m\u001b[1mTuner: \u001b[0m28/100 iterations complete  (3954.68s)\n",
      "\u001b[34m\u001b[1mTuner: \u001b[0mResults saved to \u001b[1m..\\..\\runs\\tune9\u001b[0m\n",
      "\u001b[34m\u001b[1mTuner: \u001b[0mBest fitness=0.40482 observed at iteration 24\n",
      "\u001b[34m\u001b[1mTuner: \u001b[0mBest fitness metrics are {'metrics/precision(B)': 0.6767, 'metrics/recall(B)': 0.64321, 'metrics/mAP50(B)': 0.69491, 'metrics/mAP50-95(B)': 0.37259, 'val/box_loss': 1.38783, 'val/cls_loss': 1.21819, 'val/dfl_loss': 1.67211, 'fitness': 0.40482}\n",
      "\u001b[34m\u001b[1mTuner: \u001b[0mBest fitness model is ..\\..\\runs\\yolov8m_hyp_finetune25\n",
      "\u001b[34m\u001b[1mTuner: \u001b[0mBest fitness hyperparameters are printed below.\n",
      "\n",
      "Printing '\u001b[1m\u001b[30m..\\..\\runs\\tune9\\best_hyperparameters.yaml\u001b[0m'\n",
      "\n",
      "lr0: 0.00792\n",
      "lrf: 0.00979\n",
      "momentum: 0.84055\n",
      "weight_decay: 0.00063\n",
      "warmup_epochs: 2.999\n",
      "warmup_momentum: 0.95\n",
      "box: 6.32647\n",
      "cls: 0.60714\n",
      "dfl: 2.12195\n",
      "hsv_h: 0.01283\n",
      "hsv_s: 0.9\n",
      "hsv_v: 0.51795\n",
      "degrees: 0.0\n",
      "translate: 0.04467\n",
      "scale: 0.53463\n",
      "shear: 0.0\n",
      "perspective: 0.0\n",
      "flipud: 0.0\n",
      "fliplr: 0.66507\n",
      "bgr: 0.0\n",
      "mosaic: 0.68314\n",
      "mixup: 0.0\n",
      "copy_paste: 0.0\n",
      "\n",
      "\u001b[34m\u001b[1mTuner: \u001b[0mStarting iteration 29/100 with hyperparameters: {'lr0': 0.00965, 'lrf': 0.00973, 'momentum': 0.88636, 'weight_decay': 0.00048, 'warmup_epochs': 3.1601, 'warmup_momentum': 0.94402, 'box': 5.77374, 'cls': 0.52364, 'dfl': 2.04249, 'hsv_h': 0.01031, 'hsv_s': 0.85308, 'hsv_v': 0.361, 'degrees': 0.0, 'translate': 0.05495, 'scale': 0.59733, 'shear': 0.0, 'perspective': 0.0, 'flipud': 0.0, 'fliplr': 0.60275, 'bgr': 0.0, 'mosaic': 0.98662, 'mixup': 0.0, 'copy_paste': 0.0}\n",
      "Saved ..\\..\\runs\\tune9\\tune_scatter_plots.png\n",
      "Saved ..\\..\\runs\\tune9\\tune_fitness.png\n",
      "\n",
      "\u001b[34m\u001b[1mTuner: \u001b[0m29/100 iterations complete  (4096.99s)\n",
      "\u001b[34m\u001b[1mTuner: \u001b[0mResults saved to \u001b[1m..\\..\\runs\\tune9\u001b[0m\n",
      "\u001b[34m\u001b[1mTuner: \u001b[0mBest fitness=0.40482 observed at iteration 24\n",
      "\u001b[34m\u001b[1mTuner: \u001b[0mBest fitness metrics are {'metrics/precision(B)': 0.6767, 'metrics/recall(B)': 0.64321, 'metrics/mAP50(B)': 0.69491, 'metrics/mAP50-95(B)': 0.37259, 'val/box_loss': 1.38783, 'val/cls_loss': 1.21819, 'val/dfl_loss': 1.67211, 'fitness': 0.40482}\n",
      "\u001b[34m\u001b[1mTuner: \u001b[0mBest fitness model is ..\\..\\runs\\yolov8m_hyp_finetune25\n",
      "\u001b[34m\u001b[1mTuner: \u001b[0mBest fitness hyperparameters are printed below.\n",
      "\n",
      "Printing '\u001b[1m\u001b[30m..\\..\\runs\\tune9\\best_hyperparameters.yaml\u001b[0m'\n",
      "\n",
      "lr0: 0.00792\n",
      "lrf: 0.00979\n",
      "momentum: 0.84055\n",
      "weight_decay: 0.00063\n",
      "warmup_epochs: 2.999\n",
      "warmup_momentum: 0.95\n",
      "box: 6.32647\n",
      "cls: 0.60714\n",
      "dfl: 2.12195\n",
      "hsv_h: 0.01283\n",
      "hsv_s: 0.9\n",
      "hsv_v: 0.51795\n",
      "degrees: 0.0\n",
      "translate: 0.04467\n",
      "scale: 0.53463\n",
      "shear: 0.0\n",
      "perspective: 0.0\n",
      "flipud: 0.0\n",
      "fliplr: 0.66507\n",
      "bgr: 0.0\n",
      "mosaic: 0.68314\n",
      "mixup: 0.0\n",
      "copy_paste: 0.0\n",
      "\n",
      "\u001b[34m\u001b[1mTuner: \u001b[0mStarting iteration 30/100 with hyperparameters: {'lr0': 0.00848, 'lrf': 0.00967, 'momentum': 0.84055, 'weight_decay': 0.0007, 'warmup_epochs': 3.05111, 'warmup_momentum': 0.95, 'box': 6.41023, 'cls': 0.56573, 'dfl': 1.5045, 'hsv_h': 0.0129, 'hsv_s': 0.89178, 'hsv_v': 0.56895, 'degrees': 0.0, 'translate': 0.04595, 'scale': 0.49779, 'shear': 0.0, 'perspective': 0.0, 'flipud': 0.0, 'fliplr': 0.5225, 'bgr': 0.0, 'mosaic': 0.73649, 'mixup': 0.0, 'copy_paste': 0.0}\n",
      "Saved ..\\..\\runs\\tune9\\tune_scatter_plots.png\n",
      "Saved ..\\..\\runs\\tune9\\tune_fitness.png\n",
      "\n",
      "\u001b[34m\u001b[1mTuner: \u001b[0m30/100 iterations complete  (4233.54s)\n",
      "\u001b[34m\u001b[1mTuner: \u001b[0mResults saved to \u001b[1m..\\..\\runs\\tune9\u001b[0m\n",
      "\u001b[34m\u001b[1mTuner: \u001b[0mBest fitness=0.40482 observed at iteration 24\n",
      "\u001b[34m\u001b[1mTuner: \u001b[0mBest fitness metrics are {'metrics/precision(B)': 0.6767, 'metrics/recall(B)': 0.64321, 'metrics/mAP50(B)': 0.69491, 'metrics/mAP50-95(B)': 0.37259, 'val/box_loss': 1.38783, 'val/cls_loss': 1.21819, 'val/dfl_loss': 1.67211, 'fitness': 0.40482}\n",
      "\u001b[34m\u001b[1mTuner: \u001b[0mBest fitness model is ..\\..\\runs\\yolov8m_hyp_finetune25\n",
      "\u001b[34m\u001b[1mTuner: \u001b[0mBest fitness hyperparameters are printed below.\n",
      "\n",
      "Printing '\u001b[1m\u001b[30m..\\..\\runs\\tune9\\best_hyperparameters.yaml\u001b[0m'\n",
      "\n",
      "lr0: 0.00792\n",
      "lrf: 0.00979\n",
      "momentum: 0.84055\n",
      "weight_decay: 0.00063\n",
      "warmup_epochs: 2.999\n",
      "warmup_momentum: 0.95\n",
      "box: 6.32647\n",
      "cls: 0.60714\n",
      "dfl: 2.12195\n",
      "hsv_h: 0.01283\n",
      "hsv_s: 0.9\n",
      "hsv_v: 0.51795\n",
      "degrees: 0.0\n",
      "translate: 0.04467\n",
      "scale: 0.53463\n",
      "shear: 0.0\n",
      "perspective: 0.0\n",
      "flipud: 0.0\n",
      "fliplr: 0.66507\n",
      "bgr: 0.0\n",
      "mosaic: 0.68314\n",
      "mixup: 0.0\n",
      "copy_paste: 0.0\n",
      "\n",
      "\u001b[34m\u001b[1mTuner: \u001b[0mStarting iteration 31/100 with hyperparameters: {'lr0': 0.00983, 'lrf': 0.00969, 'momentum': 0.89933, 'weight_decay': 0.00045, 'warmup_epochs': 3.2045, 'warmup_momentum': 0.95, 'box': 5.72835, 'cls': 0.52364, 'dfl': 1.89134, 'hsv_h': 0.0103, 'hsv_s': 0.84529, 'hsv_v': 0.34629, 'degrees': 0.0, 'translate': 0.05448, 'scale': 0.5821, 'shear': 0.0, 'perspective': 0.0, 'flipud': 0.0, 'fliplr': 0.58807, 'bgr': 0.0, 'mosaic': 0.98331, 'mixup': 0.0, 'copy_paste': 0.0}\n",
      "Saved ..\\..\\runs\\tune9\\tune_scatter_plots.png\n",
      "Saved ..\\..\\runs\\tune9\\tune_fitness.png\n",
      "\n",
      "\u001b[34m\u001b[1mTuner: \u001b[0m31/100 iterations complete  (4368.47s)\n",
      "\u001b[34m\u001b[1mTuner: \u001b[0mResults saved to \u001b[1m..\\..\\runs\\tune9\u001b[0m\n",
      "\u001b[34m\u001b[1mTuner: \u001b[0mBest fitness=0.40482 observed at iteration 24\n",
      "\u001b[34m\u001b[1mTuner: \u001b[0mBest fitness metrics are {'metrics/precision(B)': 0.6767, 'metrics/recall(B)': 0.64321, 'metrics/mAP50(B)': 0.69491, 'metrics/mAP50-95(B)': 0.37259, 'val/box_loss': 1.38783, 'val/cls_loss': 1.21819, 'val/dfl_loss': 1.67211, 'fitness': 0.40482}\n",
      "\u001b[34m\u001b[1mTuner: \u001b[0mBest fitness model is ..\\..\\runs\\yolov8m_hyp_finetune25\n",
      "\u001b[34m\u001b[1mTuner: \u001b[0mBest fitness hyperparameters are printed below.\n",
      "\n",
      "Printing '\u001b[1m\u001b[30m..\\..\\runs\\tune9\\best_hyperparameters.yaml\u001b[0m'\n",
      "\n",
      "lr0: 0.00792\n",
      "lrf: 0.00979\n",
      "momentum: 0.84055\n",
      "weight_decay: 0.00063\n",
      "warmup_epochs: 2.999\n",
      "warmup_momentum: 0.95\n",
      "box: 6.32647\n",
      "cls: 0.60714\n",
      "dfl: 2.12195\n",
      "hsv_h: 0.01283\n",
      "hsv_s: 0.9\n",
      "hsv_v: 0.51795\n",
      "degrees: 0.0\n",
      "translate: 0.04467\n",
      "scale: 0.53463\n",
      "shear: 0.0\n",
      "perspective: 0.0\n",
      "flipud: 0.0\n",
      "fliplr: 0.66507\n",
      "bgr: 0.0\n",
      "mosaic: 0.68314\n",
      "mixup: 0.0\n",
      "copy_paste: 0.0\n",
      "\n",
      "\u001b[34m\u001b[1mTuner: \u001b[0mStarting iteration 32/100 with hyperparameters: {'lr0': 0.00854, 'lrf': 0.01013, 'momentum': 0.80523, 'weight_decay': 0.00062, 'warmup_epochs': 2.48774, 'warmup_momentum': 0.95, 'box': 6.14431, 'cls': 0.61409, 'dfl': 2.1549, 'hsv_h': 0.01351, 'hsv_s': 0.9, 'hsv_v': 0.475, 'degrees': 0.0, 'translate': 0.0468, 'scale': 0.56963, 'shear': 0.0, 'perspective': 0.0, 'flipud': 0.0, 'fliplr': 0.75198, 'bgr': 0.0, 'mosaic': 0.61839, 'mixup': 0.0, 'copy_paste': 0.0}\n",
      "Saved ..\\..\\runs\\tune9\\tune_scatter_plots.png\n",
      "Saved ..\\..\\runs\\tune9\\tune_fitness.png\n",
      "\n",
      "\u001b[34m\u001b[1mTuner: \u001b[0m32/100 iterations complete  (4504.04s)\n",
      "\u001b[34m\u001b[1mTuner: \u001b[0mResults saved to \u001b[1m..\\..\\runs\\tune9\u001b[0m\n",
      "\u001b[34m\u001b[1mTuner: \u001b[0mBest fitness=0.40482 observed at iteration 24\n",
      "\u001b[34m\u001b[1mTuner: \u001b[0mBest fitness metrics are {'metrics/precision(B)': 0.6767, 'metrics/recall(B)': 0.64321, 'metrics/mAP50(B)': 0.69491, 'metrics/mAP50-95(B)': 0.37259, 'val/box_loss': 1.38783, 'val/cls_loss': 1.21819, 'val/dfl_loss': 1.67211, 'fitness': 0.40482}\n",
      "\u001b[34m\u001b[1mTuner: \u001b[0mBest fitness model is ..\\..\\runs\\yolov8m_hyp_finetune25\n",
      "\u001b[34m\u001b[1mTuner: \u001b[0mBest fitness hyperparameters are printed below.\n",
      "\n",
      "Printing '\u001b[1m\u001b[30m..\\..\\runs\\tune9\\best_hyperparameters.yaml\u001b[0m'\n",
      "\n",
      "lr0: 0.00792\n",
      "lrf: 0.00979\n",
      "momentum: 0.84055\n",
      "weight_decay: 0.00063\n",
      "warmup_epochs: 2.999\n",
      "warmup_momentum: 0.95\n",
      "box: 6.32647\n",
      "cls: 0.60714\n",
      "dfl: 2.12195\n",
      "hsv_h: 0.01283\n",
      "hsv_s: 0.9\n",
      "hsv_v: 0.51795\n",
      "degrees: 0.0\n",
      "translate: 0.04467\n",
      "scale: 0.53463\n",
      "shear: 0.0\n",
      "perspective: 0.0\n",
      "flipud: 0.0\n",
      "fliplr: 0.66507\n",
      "bgr: 0.0\n",
      "mosaic: 0.68314\n",
      "mixup: 0.0\n",
      "copy_paste: 0.0\n",
      "\n",
      "\u001b[34m\u001b[1mTuner: \u001b[0mStarting iteration 33/100 with hyperparameters: {'lr0': 0.00825, 'lrf': 0.01007, 'momentum': 0.86177, 'weight_decay': 0.00066, 'warmup_epochs': 2.92495, 'warmup_momentum': 0.95, 'box': 6.83894, 'cls': 0.53058, 'dfl': 1.53842, 'hsv_h': 0.01283, 'hsv_s': 0.9, 'hsv_v': 0.51795, 'degrees': 0.0, 'translate': 0.04269, 'scale': 0.55996, 'shear': 0.0, 'perspective': 0.0, 'flipud': 0.0, 'fliplr': 0.66732, 'bgr': 0.0, 'mosaic': 0.74039, 'mixup': 0.0, 'copy_paste': 0.0}\n",
      "Saved ..\\..\\runs\\tune9\\tune_scatter_plots.png\n",
      "Saved ..\\..\\runs\\tune9\\tune_fitness.png\n",
      "\n",
      "\u001b[34m\u001b[1mTuner: \u001b[0m33/100 iterations complete  (4641.24s)\n",
      "\u001b[34m\u001b[1mTuner: \u001b[0mResults saved to \u001b[1m..\\..\\runs\\tune9\u001b[0m\n",
      "\u001b[34m\u001b[1mTuner: \u001b[0mBest fitness=0.40482 observed at iteration 24\n",
      "\u001b[34m\u001b[1mTuner: \u001b[0mBest fitness metrics are {'metrics/precision(B)': 0.6767, 'metrics/recall(B)': 0.64321, 'metrics/mAP50(B)': 0.69491, 'metrics/mAP50-95(B)': 0.37259, 'val/box_loss': 1.38783, 'val/cls_loss': 1.21819, 'val/dfl_loss': 1.67211, 'fitness': 0.40482}\n",
      "\u001b[34m\u001b[1mTuner: \u001b[0mBest fitness model is ..\\..\\runs\\yolov8m_hyp_finetune25\n",
      "\u001b[34m\u001b[1mTuner: \u001b[0mBest fitness hyperparameters are printed below.\n",
      "\n",
      "Printing '\u001b[1m\u001b[30m..\\..\\runs\\tune9\\best_hyperparameters.yaml\u001b[0m'\n",
      "\n",
      "lr0: 0.00792\n",
      "lrf: 0.00979\n",
      "momentum: 0.84055\n",
      "weight_decay: 0.00063\n",
      "warmup_epochs: 2.999\n",
      "warmup_momentum: 0.95\n",
      "box: 6.32647\n",
      "cls: 0.60714\n",
      "dfl: 2.12195\n",
      "hsv_h: 0.01283\n",
      "hsv_s: 0.9\n",
      "hsv_v: 0.51795\n",
      "degrees: 0.0\n",
      "translate: 0.04467\n",
      "scale: 0.53463\n",
      "shear: 0.0\n",
      "perspective: 0.0\n",
      "flipud: 0.0\n",
      "fliplr: 0.66507\n",
      "bgr: 0.0\n",
      "mosaic: 0.68314\n",
      "mixup: 0.0\n",
      "copy_paste: 0.0\n",
      "\n",
      "\u001b[34m\u001b[1mTuner: \u001b[0mStarting iteration 34/100 with hyperparameters: {'lr0': 0.00734, 'lrf': 0.00897, 'momentum': 0.8554, 'weight_decay': 0.00063, 'warmup_epochs': 3.4847, 'warmup_momentum': 0.8216, 'box': 4.80741, 'cls': 0.68227, 'dfl': 2.12195, 'hsv_h': 0.01272, 'hsv_s': 0.9, 'hsv_v': 0.51658, 'degrees': 0.0, 'translate': 0.04816, 'scale': 0.49897, 'shear': 0.0, 'perspective': 0.0, 'flipud': 0.0, 'fliplr': 0.66507, 'bgr': 0.0, 'mosaic': 0.68314, 'mixup': 0.0, 'copy_paste': 0.0}\n",
      "Saved ..\\..\\runs\\tune9\\tune_scatter_plots.png\n",
      "Saved ..\\..\\runs\\tune9\\tune_fitness.png\n",
      "\n",
      "\u001b[34m\u001b[1mTuner: \u001b[0m34/100 iterations complete  (4785.60s)\n",
      "\u001b[34m\u001b[1mTuner: \u001b[0mResults saved to \u001b[1m..\\..\\runs\\tune9\u001b[0m\n",
      "\u001b[34m\u001b[1mTuner: \u001b[0mBest fitness=0.40482 observed at iteration 24\n",
      "\u001b[34m\u001b[1mTuner: \u001b[0mBest fitness metrics are {'metrics/precision(B)': 0.6767, 'metrics/recall(B)': 0.64321, 'metrics/mAP50(B)': 0.69491, 'metrics/mAP50-95(B)': 0.37259, 'val/box_loss': 1.38783, 'val/cls_loss': 1.21819, 'val/dfl_loss': 1.67211, 'fitness': 0.40482}\n",
      "\u001b[34m\u001b[1mTuner: \u001b[0mBest fitness model is ..\\..\\runs\\yolov8m_hyp_finetune25\n",
      "\u001b[34m\u001b[1mTuner: \u001b[0mBest fitness hyperparameters are printed below.\n",
      "\n",
      "Printing '\u001b[1m\u001b[30m..\\..\\runs\\tune9\\best_hyperparameters.yaml\u001b[0m'\n",
      "\n",
      "lr0: 0.00792\n",
      "lrf: 0.00979\n",
      "momentum: 0.84055\n",
      "weight_decay: 0.00063\n",
      "warmup_epochs: 2.999\n",
      "warmup_momentum: 0.95\n",
      "box: 6.32647\n",
      "cls: 0.60714\n",
      "dfl: 2.12195\n",
      "hsv_h: 0.01283\n",
      "hsv_s: 0.9\n",
      "hsv_v: 0.51795\n",
      "degrees: 0.0\n",
      "translate: 0.04467\n",
      "scale: 0.53463\n",
      "shear: 0.0\n",
      "perspective: 0.0\n",
      "flipud: 0.0\n",
      "fliplr: 0.66507\n",
      "bgr: 0.0\n",
      "mosaic: 0.68314\n",
      "mixup: 0.0\n",
      "copy_paste: 0.0\n",
      "\n",
      "\u001b[34m\u001b[1mTuner: \u001b[0mStarting iteration 35/100 with hyperparameters: {'lr0': 0.00939, 'lrf': 0.00951, 'momentum': 0.9013, 'weight_decay': 0.00047, 'warmup_epochs': 3.14009, 'warmup_momentum': 0.92023, 'box': 5.87917, 'cls': 0.52028, 'dfl': 1.89402, 'hsv_h': 0.00974, 'hsv_s': 0.84529, 'hsv_v': 0.34471, 'degrees': 0.0, 'translate': 0.05296, 'scale': 0.58424, 'shear': 0.0, 'perspective': 0.0, 'flipud': 0.0, 'fliplr': 0.59251, 'bgr': 0.0, 'mosaic': 0.94408, 'mixup': 0.0, 'copy_paste': 0.0}\n",
      "Saved ..\\..\\runs\\tune9\\tune_scatter_plots.png\n",
      "Saved ..\\..\\runs\\tune9\\tune_fitness.png\n",
      "\n",
      "\u001b[34m\u001b[1mTuner: \u001b[0m35/100 iterations complete  (4927.19s)\n",
      "\u001b[34m\u001b[1mTuner: \u001b[0mResults saved to \u001b[1m..\\..\\runs\\tune9\u001b[0m\n",
      "\u001b[34m\u001b[1mTuner: \u001b[0mBest fitness=0.40482 observed at iteration 24\n",
      "\u001b[34m\u001b[1mTuner: \u001b[0mBest fitness metrics are {'metrics/precision(B)': 0.6767, 'metrics/recall(B)': 0.64321, 'metrics/mAP50(B)': 0.69491, 'metrics/mAP50-95(B)': 0.37259, 'val/box_loss': 1.38783, 'val/cls_loss': 1.21819, 'val/dfl_loss': 1.67211, 'fitness': 0.40482}\n",
      "\u001b[34m\u001b[1mTuner: \u001b[0mBest fitness model is ..\\..\\runs\\yolov8m_hyp_finetune25\n",
      "\u001b[34m\u001b[1mTuner: \u001b[0mBest fitness hyperparameters are printed below.\n",
      "\n",
      "Printing '\u001b[1m\u001b[30m..\\..\\runs\\tune9\\best_hyperparameters.yaml\u001b[0m'\n",
      "\n",
      "lr0: 0.00792\n",
      "lrf: 0.00979\n",
      "momentum: 0.84055\n",
      "weight_decay: 0.00063\n",
      "warmup_epochs: 2.999\n",
      "warmup_momentum: 0.95\n",
      "box: 6.32647\n",
      "cls: 0.60714\n",
      "dfl: 2.12195\n",
      "hsv_h: 0.01283\n",
      "hsv_s: 0.9\n",
      "hsv_v: 0.51795\n",
      "degrees: 0.0\n",
      "translate: 0.04467\n",
      "scale: 0.53463\n",
      "shear: 0.0\n",
      "perspective: 0.0\n",
      "flipud: 0.0\n",
      "fliplr: 0.66507\n",
      "bgr: 0.0\n",
      "mosaic: 0.68314\n",
      "mixup: 0.0\n",
      "copy_paste: 0.0\n",
      "\n",
      "\u001b[34m\u001b[1mTuner: \u001b[0mStarting iteration 36/100 with hyperparameters: {'lr0': 0.00882, 'lrf': 0.01013, 'momentum': 0.89933, 'weight_decay': 0.00047, 'warmup_epochs': 3.24884, 'warmup_momentum': 0.94452, 'box': 5.94249, 'cls': 0.54043, 'dfl': 1.89134, 'hsv_h': 0.00857, 'hsv_s': 0.82651, 'hsv_v': 0.31737, 'degrees': 0.0, 'translate': 0.05096, 'scale': 0.5821, 'shear': 0.0, 'perspective': 0.0, 'flipud': 0.0, 'fliplr': 0.60275, 'bgr': 0.0, 'mosaic': 1.0, 'mixup': 0.0, 'copy_paste': 0.0}\n",
      "Saved ..\\..\\runs\\tune9\\tune_scatter_plots.png\n",
      "Saved ..\\..\\runs\\tune9\\tune_fitness.png\n",
      "\n",
      "\u001b[34m\u001b[1mTuner: \u001b[0m36/100 iterations complete  (5072.93s)\n",
      "\u001b[34m\u001b[1mTuner: \u001b[0mResults saved to \u001b[1m..\\..\\runs\\tune9\u001b[0m\n",
      "\u001b[34m\u001b[1mTuner: \u001b[0mBest fitness=0.40482 observed at iteration 24\n",
      "\u001b[34m\u001b[1mTuner: \u001b[0mBest fitness metrics are {'metrics/precision(B)': 0.6767, 'metrics/recall(B)': 0.64321, 'metrics/mAP50(B)': 0.69491, 'metrics/mAP50-95(B)': 0.37259, 'val/box_loss': 1.38783, 'val/cls_loss': 1.21819, 'val/dfl_loss': 1.67211, 'fitness': 0.40482}\n",
      "\u001b[34m\u001b[1mTuner: \u001b[0mBest fitness model is ..\\..\\runs\\yolov8m_hyp_finetune25\n",
      "\u001b[34m\u001b[1mTuner: \u001b[0mBest fitness hyperparameters are printed below.\n",
      "\n",
      "Printing '\u001b[1m\u001b[30m..\\..\\runs\\tune9\\best_hyperparameters.yaml\u001b[0m'\n",
      "\n",
      "lr0: 0.00792\n",
      "lrf: 0.00979\n",
      "momentum: 0.84055\n",
      "weight_decay: 0.00063\n",
      "warmup_epochs: 2.999\n",
      "warmup_momentum: 0.95\n",
      "box: 6.32647\n",
      "cls: 0.60714\n",
      "dfl: 2.12195\n",
      "hsv_h: 0.01283\n",
      "hsv_s: 0.9\n",
      "hsv_v: 0.51795\n",
      "degrees: 0.0\n",
      "translate: 0.04467\n",
      "scale: 0.53463\n",
      "shear: 0.0\n",
      "perspective: 0.0\n",
      "flipud: 0.0\n",
      "fliplr: 0.66507\n",
      "bgr: 0.0\n",
      "mosaic: 0.68314\n",
      "mixup: 0.0\n",
      "copy_paste: 0.0\n",
      "\n",
      "\u001b[34m\u001b[1mTuner: \u001b[0mStarting iteration 37/100 with hyperparameters: {'lr0': 0.00794, 'lrf': 0.00897, 'momentum': 0.86363, 'weight_decay': 0.0008, 'warmup_epochs': 4.20838, 'warmup_momentum': 0.61524, 'box': 3.38742, 'cls': 0.64156, 'dfl': 1.51209, 'hsv_h': 0.01369, 'hsv_s': 0.9, 'hsv_v': 0.65608, 'degrees': 0.0, 'translate': 0.04842, 'scale': 0.65747, 'shear': 0.0, 'perspective': 0.0, 'flipud': 0.0, 'fliplr': 0.66507, 'bgr': 0.0, 'mosaic': 0.91111, 'mixup': 0.0, 'copy_paste': 0.0}\n",
      "Saved ..\\..\\runs\\tune9\\tune_scatter_plots.png\n",
      "Saved ..\\..\\runs\\tune9\\tune_fitness.png\n",
      "\n",
      "\u001b[34m\u001b[1mTuner: \u001b[0m37/100 iterations complete  (5221.47s)\n",
      "\u001b[34m\u001b[1mTuner: \u001b[0mResults saved to \u001b[1m..\\..\\runs\\tune9\u001b[0m\n",
      "\u001b[34m\u001b[1mTuner: \u001b[0mBest fitness=0.40482 observed at iteration 24\n",
      "\u001b[34m\u001b[1mTuner: \u001b[0mBest fitness metrics are {'metrics/precision(B)': 0.6767, 'metrics/recall(B)': 0.64321, 'metrics/mAP50(B)': 0.69491, 'metrics/mAP50-95(B)': 0.37259, 'val/box_loss': 1.38783, 'val/cls_loss': 1.21819, 'val/dfl_loss': 1.67211, 'fitness': 0.40482}\n",
      "\u001b[34m\u001b[1mTuner: \u001b[0mBest fitness model is ..\\..\\runs\\yolov8m_hyp_finetune25\n",
      "\u001b[34m\u001b[1mTuner: \u001b[0mBest fitness hyperparameters are printed below.\n",
      "\n",
      "Printing '\u001b[1m\u001b[30m..\\..\\runs\\tune9\\best_hyperparameters.yaml\u001b[0m'\n",
      "\n",
      "lr0: 0.00792\n",
      "lrf: 0.00979\n",
      "momentum: 0.84055\n",
      "weight_decay: 0.00063\n",
      "warmup_epochs: 2.999\n",
      "warmup_momentum: 0.95\n",
      "box: 6.32647\n",
      "cls: 0.60714\n",
      "dfl: 2.12195\n",
      "hsv_h: 0.01283\n",
      "hsv_s: 0.9\n",
      "hsv_v: 0.51795\n",
      "degrees: 0.0\n",
      "translate: 0.04467\n",
      "scale: 0.53463\n",
      "shear: 0.0\n",
      "perspective: 0.0\n",
      "flipud: 0.0\n",
      "fliplr: 0.66507\n",
      "bgr: 0.0\n",
      "mosaic: 0.68314\n",
      "mixup: 0.0\n",
      "copy_paste: 0.0\n",
      "\n",
      "\u001b[34m\u001b[1mTuner: \u001b[0mStarting iteration 38/100 with hyperparameters: {'lr0': 0.00829, 'lrf': 0.01338, 'momentum': 0.84055, 'weight_decay': 0.00062, 'warmup_epochs': 2.999, 'warmup_momentum': 0.85742, 'box': 6.39098, 'cls': 0.63544, 'dfl': 2.19308, 'hsv_h': 0.01326, 'hsv_s': 0.81562, 'hsv_v': 0.59647, 'degrees': 0.0, 'translate': 0.04908, 'scale': 0.54168, 'shear': 0.0, 'perspective': 0.0, 'flipud': 0.0, 'fliplr': 0.66507, 'bgr': 0.0, 'mosaic': 0.68314, 'mixup': 0.0, 'copy_paste': 0.0}\n",
      "Saved ..\\..\\runs\\tune9\\tune_scatter_plots.png\n",
      "Saved ..\\..\\runs\\tune9\\tune_fitness.png\n",
      "\n",
      "\u001b[34m\u001b[1mTuner: \u001b[0m38/100 iterations complete  (5371.04s)\n",
      "\u001b[34m\u001b[1mTuner: \u001b[0mResults saved to \u001b[1m..\\..\\runs\\tune9\u001b[0m\n",
      "\u001b[34m\u001b[1mTuner: \u001b[0mBest fitness=0.40482 observed at iteration 24\n",
      "\u001b[34m\u001b[1mTuner: \u001b[0mBest fitness metrics are {'metrics/precision(B)': 0.6767, 'metrics/recall(B)': 0.64321, 'metrics/mAP50(B)': 0.69491, 'metrics/mAP50-95(B)': 0.37259, 'val/box_loss': 1.38783, 'val/cls_loss': 1.21819, 'val/dfl_loss': 1.67211, 'fitness': 0.40482}\n",
      "\u001b[34m\u001b[1mTuner: \u001b[0mBest fitness model is ..\\..\\runs\\yolov8m_hyp_finetune25\n",
      "\u001b[34m\u001b[1mTuner: \u001b[0mBest fitness hyperparameters are printed below.\n",
      "\n",
      "Printing '\u001b[1m\u001b[30m..\\..\\runs\\tune9\\best_hyperparameters.yaml\u001b[0m'\n",
      "\n",
      "lr0: 0.00792\n",
      "lrf: 0.00979\n",
      "momentum: 0.84055\n",
      "weight_decay: 0.00063\n",
      "warmup_epochs: 2.999\n",
      "warmup_momentum: 0.95\n",
      "box: 6.32647\n",
      "cls: 0.60714\n",
      "dfl: 2.12195\n",
      "hsv_h: 0.01283\n",
      "hsv_s: 0.9\n",
      "hsv_v: 0.51795\n",
      "degrees: 0.0\n",
      "translate: 0.04467\n",
      "scale: 0.53463\n",
      "shear: 0.0\n",
      "perspective: 0.0\n",
      "flipud: 0.0\n",
      "fliplr: 0.66507\n",
      "bgr: 0.0\n",
      "mosaic: 0.68314\n",
      "mixup: 0.0\n",
      "copy_paste: 0.0\n",
      "\n",
      "\u001b[34m\u001b[1mTuner: \u001b[0mStarting iteration 39/100 with hyperparameters: {'lr0': 0.00695, 'lrf': 0.00885, 'momentum': 0.89888, 'weight_decay': 0.00044, 'warmup_epochs': 2.6822, 'warmup_momentum': 0.77968, 'box': 6.17791, 'cls': 0.61687, 'dfl': 2.03447, 'hsv_h': 0.00863, 'hsv_s': 0.74801, 'hsv_v': 0.37916, 'degrees': 0.0, 'translate': 0.04488, 'scale': 0.62685, 'shear': 0.0, 'perspective': 0.0, 'flipud': 0.0, 'fliplr': 0.60602, 'bgr': 0.0, 'mosaic': 0.98246, 'mixup': 0.0, 'copy_paste': 0.0}\n",
      "Saved ..\\..\\runs\\tune9\\tune_scatter_plots.png\n",
      "Saved ..\\..\\runs\\tune9\\tune_fitness.png\n",
      "\n",
      "\u001b[34m\u001b[1mTuner: \u001b[0m39/100 iterations complete  (5524.22s)\n",
      "\u001b[34m\u001b[1mTuner: \u001b[0mResults saved to \u001b[1m..\\..\\runs\\tune9\u001b[0m\n",
      "\u001b[34m\u001b[1mTuner: \u001b[0mBest fitness=0.42438 observed at iteration 39\n",
      "\u001b[34m\u001b[1mTuner: \u001b[0mBest fitness metrics are {'metrics/precision(B)': 0.77104, 'metrics/recall(B)': 0.61979, 'metrics/mAP50(B)': 0.70996, 'metrics/mAP50-95(B)': 0.39265, 'val/box_loss': 1.29349, 'val/cls_loss': 1.27072, 'val/dfl_loss': 1.55595, 'fitness': 0.42438}\n",
      "\u001b[34m\u001b[1mTuner: \u001b[0mBest fitness model is ..\\..\\runs\\yolov8m_hyp_finetune40\n",
      "\u001b[34m\u001b[1mTuner: \u001b[0mBest fitness hyperparameters are printed below.\n",
      "\n",
      "Printing '\u001b[1m\u001b[30m..\\..\\runs\\tune9\\best_hyperparameters.yaml\u001b[0m'\n",
      "\n",
      "lr0: 0.00695\n",
      "lrf: 0.00885\n",
      "momentum: 0.89888\n",
      "weight_decay: 0.00044\n",
      "warmup_epochs: 2.6822\n",
      "warmup_momentum: 0.77968\n",
      "box: 6.17791\n",
      "cls: 0.61687\n",
      "dfl: 2.03447\n",
      "hsv_h: 0.00863\n",
      "hsv_s: 0.74801\n",
      "hsv_v: 0.37916\n",
      "degrees: 0.0\n",
      "translate: 0.04488\n",
      "scale: 0.62685\n",
      "shear: 0.0\n",
      "perspective: 0.0\n",
      "flipud: 0.0\n",
      "fliplr: 0.60602\n",
      "bgr: 0.0\n",
      "mosaic: 0.98246\n",
      "mixup: 0.0\n",
      "copy_paste: 0.0\n",
      "\n",
      "\u001b[34m\u001b[1mTuner: \u001b[0mStarting iteration 40/100 with hyperparameters: {'lr0': 0.00904, 'lrf': 0.01018, 'momentum': 0.86066, 'weight_decay': 0.00046, 'warmup_epochs': 2.74496, 'warmup_momentum': 0.77968, 'box': 5.21916, 'cls': 0.637, 'dfl': 2.44106, 'hsv_h': 0.00533, 'hsv_s': 0.74801, 'hsv_v': 0.41086, 'degrees': 0.0, 'translate': 0.05093, 'scale': 0.73563, 'shear': 0.0, 'perspective': 0.0, 'flipud': 0.0, 'fliplr': 0.78074, 'bgr': 0.0, 'mosaic': 0.80229, 'mixup': 0.0, 'copy_paste': 0.0}\n",
      "Saved ..\\..\\runs\\tune9\\tune_scatter_plots.png\n",
      "Saved ..\\..\\runs\\tune9\\tune_fitness.png\n",
      "\n",
      "\u001b[34m\u001b[1mTuner: \u001b[0m40/100 iterations complete  (5675.88s)\n",
      "\u001b[34m\u001b[1mTuner: \u001b[0mResults saved to \u001b[1m..\\..\\runs\\tune9\u001b[0m\n",
      "\u001b[34m\u001b[1mTuner: \u001b[0mBest fitness=0.42438 observed at iteration 39\n",
      "\u001b[34m\u001b[1mTuner: \u001b[0mBest fitness metrics are {'metrics/precision(B)': 0.77104, 'metrics/recall(B)': 0.61979, 'metrics/mAP50(B)': 0.70996, 'metrics/mAP50-95(B)': 0.39265, 'val/box_loss': 1.29349, 'val/cls_loss': 1.27072, 'val/dfl_loss': 1.55595, 'fitness': 0.42438}\n",
      "\u001b[34m\u001b[1mTuner: \u001b[0mBest fitness model is ..\\..\\runs\\yolov8m_hyp_finetune40\n",
      "\u001b[34m\u001b[1mTuner: \u001b[0mBest fitness hyperparameters are printed below.\n",
      "\n",
      "Printing '\u001b[1m\u001b[30m..\\..\\runs\\tune9\\best_hyperparameters.yaml\u001b[0m'\n",
      "\n",
      "lr0: 0.00695\n",
      "lrf: 0.00885\n",
      "momentum: 0.89888\n",
      "weight_decay: 0.00044\n",
      "warmup_epochs: 2.6822\n",
      "warmup_momentum: 0.77968\n",
      "box: 6.17791\n",
      "cls: 0.61687\n",
      "dfl: 2.03447\n",
      "hsv_h: 0.00863\n",
      "hsv_s: 0.74801\n",
      "hsv_v: 0.37916\n",
      "degrees: 0.0\n",
      "translate: 0.04488\n",
      "scale: 0.62685\n",
      "shear: 0.0\n",
      "perspective: 0.0\n",
      "flipud: 0.0\n",
      "fliplr: 0.60602\n",
      "bgr: 0.0\n",
      "mosaic: 0.98246\n",
      "mixup: 0.0\n",
      "copy_paste: 0.0\n",
      "\n",
      "\u001b[34m\u001b[1mTuner: \u001b[0mStarting iteration 41/100 with hyperparameters: {'lr0': 0.00695, 'lrf': 0.00823, 'momentum': 0.93343, 'weight_decay': 0.00038, 'warmup_epochs': 2.45663, 'warmup_momentum': 0.77968, 'box': 5.10264, 'cls': 0.55533, 'dfl': 2.03447, 'hsv_h': 0.0105, 'hsv_s': 0.83277, 'hsv_v': 0.377, 'degrees': 0.0, 'translate': 0.03661, 'scale': 0.69638, 'shear': 0.0, 'perspective': 0.0, 'flipud': 0.0, 'fliplr': 0.57112, 'bgr': 0.0, 'mosaic': 1.0, 'mixup': 0.0, 'copy_paste': 0.0}\n",
      "Saved ..\\..\\runs\\tune9\\tune_scatter_plots.png\n",
      "Saved ..\\..\\runs\\tune9\\tune_fitness.png\n",
      "\n",
      "\u001b[34m\u001b[1mTuner: \u001b[0m41/100 iterations complete  (5826.29s)\n",
      "\u001b[34m\u001b[1mTuner: \u001b[0mResults saved to \u001b[1m..\\..\\runs\\tune9\u001b[0m\n",
      "\u001b[34m\u001b[1mTuner: \u001b[0mBest fitness=0.42438 observed at iteration 39\n",
      "\u001b[34m\u001b[1mTuner: \u001b[0mBest fitness metrics are {'metrics/precision(B)': 0.77104, 'metrics/recall(B)': 0.61979, 'metrics/mAP50(B)': 0.70996, 'metrics/mAP50-95(B)': 0.39265, 'val/box_loss': 1.29349, 'val/cls_loss': 1.27072, 'val/dfl_loss': 1.55595, 'fitness': 0.42438}\n",
      "\u001b[34m\u001b[1mTuner: \u001b[0mBest fitness model is ..\\..\\runs\\yolov8m_hyp_finetune40\n",
      "\u001b[34m\u001b[1mTuner: \u001b[0mBest fitness hyperparameters are printed below.\n",
      "\n",
      "Printing '\u001b[1m\u001b[30m..\\..\\runs\\tune9\\best_hyperparameters.yaml\u001b[0m'\n",
      "\n",
      "lr0: 0.00695\n",
      "lrf: 0.00885\n",
      "momentum: 0.89888\n",
      "weight_decay: 0.00044\n",
      "warmup_epochs: 2.6822\n",
      "warmup_momentum: 0.77968\n",
      "box: 6.17791\n",
      "cls: 0.61687\n",
      "dfl: 2.03447\n",
      "hsv_h: 0.00863\n",
      "hsv_s: 0.74801\n",
      "hsv_v: 0.37916\n",
      "degrees: 0.0\n",
      "translate: 0.04488\n",
      "scale: 0.62685\n",
      "shear: 0.0\n",
      "perspective: 0.0\n",
      "flipud: 0.0\n",
      "fliplr: 0.60602\n",
      "bgr: 0.0\n",
      "mosaic: 0.98246\n",
      "mixup: 0.0\n",
      "copy_paste: 0.0\n",
      "\n",
      "\u001b[34m\u001b[1mTuner: \u001b[0mStarting iteration 42/100 with hyperparameters: {'lr0': 0.00674, 'lrf': 0.008, 'momentum': 0.86939, 'weight_decay': 0.00039, 'warmup_epochs': 2.7954, 'warmup_momentum': 0.77968, 'box': 4.77068, 'cls': 0.53975, 'dfl': 2.31423, 'hsv_h': 0.00953, 'hsv_s': 0.9, 'hsv_v': 0.47826, 'degrees': 0.0, 'translate': 0.03131, 'scale': 0.82783, 'shear': 0.0, 'perspective': 0.0, 'flipud': 0.0, 'fliplr': 0.56235, 'bgr': 0.0, 'mosaic': 0.94381, 'mixup': 0.0, 'copy_paste': 0.0}\n",
      "Saved ..\\..\\runs\\tune9\\tune_scatter_plots.png\n",
      "Saved ..\\..\\runs\\tune9\\tune_fitness.png\n",
      "\n",
      "\u001b[34m\u001b[1mTuner: \u001b[0m42/100 iterations complete  (5983.41s)\n",
      "\u001b[34m\u001b[1mTuner: \u001b[0mResults saved to \u001b[1m..\\..\\runs\\tune9\u001b[0m\n",
      "\u001b[34m\u001b[1mTuner: \u001b[0mBest fitness=0.42438 observed at iteration 39\n",
      "\u001b[34m\u001b[1mTuner: \u001b[0mBest fitness metrics are {'metrics/precision(B)': 0.77104, 'metrics/recall(B)': 0.61979, 'metrics/mAP50(B)': 0.70996, 'metrics/mAP50-95(B)': 0.39265, 'val/box_loss': 1.29349, 'val/cls_loss': 1.27072, 'val/dfl_loss': 1.55595, 'fitness': 0.42438}\n",
      "\u001b[34m\u001b[1mTuner: \u001b[0mBest fitness model is ..\\..\\runs\\yolov8m_hyp_finetune40\n",
      "\u001b[34m\u001b[1mTuner: \u001b[0mBest fitness hyperparameters are printed below.\n",
      "\n",
      "Printing '\u001b[1m\u001b[30m..\\..\\runs\\tune9\\best_hyperparameters.yaml\u001b[0m'\n",
      "\n",
      "lr0: 0.00695\n",
      "lrf: 0.00885\n",
      "momentum: 0.89888\n",
      "weight_decay: 0.00044\n",
      "warmup_epochs: 2.6822\n",
      "warmup_momentum: 0.77968\n",
      "box: 6.17791\n",
      "cls: 0.61687\n",
      "dfl: 2.03447\n",
      "hsv_h: 0.00863\n",
      "hsv_s: 0.74801\n",
      "hsv_v: 0.37916\n",
      "degrees: 0.0\n",
      "translate: 0.04488\n",
      "scale: 0.62685\n",
      "shear: 0.0\n",
      "perspective: 0.0\n",
      "flipud: 0.0\n",
      "fliplr: 0.60602\n",
      "bgr: 0.0\n",
      "mosaic: 0.98246\n",
      "mixup: 0.0\n",
      "copy_paste: 0.0\n",
      "\n",
      "\u001b[34m\u001b[1mTuner: \u001b[0mStarting iteration 43/100 with hyperparameters: {'lr0': 0.00855, 'lrf': 0.00876, 'momentum': 0.89888, 'weight_decay': 0.00044, 'warmup_epochs': 2.75547, 'warmup_momentum': 0.67822, 'box': 5.89499, 'cls': 0.63607, 'dfl': 2.20459, 'hsv_h': 0.01065, 'hsv_s': 0.79399, 'hsv_v': 0.41951, 'degrees': 0.0, 'translate': 0.04108, 'scale': 0.56442, 'shear': 0.0, 'perspective': 0.0, 'flipud': 0.0, 'fliplr': 0.51298, 'bgr': 0.0, 'mosaic': 0.98246, 'mixup': 0.0, 'copy_paste': 0.0}\n",
      "Saved ..\\..\\runs\\tune9\\tune_scatter_plots.png\n",
      "Saved ..\\..\\runs\\tune9\\tune_fitness.png\n",
      "\n",
      "\u001b[34m\u001b[1mTuner: \u001b[0m43/100 iterations complete  (6142.57s)\n",
      "\u001b[34m\u001b[1mTuner: \u001b[0mResults saved to \u001b[1m..\\..\\runs\\tune9\u001b[0m\n",
      "\u001b[34m\u001b[1mTuner: \u001b[0mBest fitness=0.42438 observed at iteration 39\n",
      "\u001b[34m\u001b[1mTuner: \u001b[0mBest fitness metrics are {'metrics/precision(B)': 0.77104, 'metrics/recall(B)': 0.61979, 'metrics/mAP50(B)': 0.70996, 'metrics/mAP50-95(B)': 0.39265, 'val/box_loss': 1.29349, 'val/cls_loss': 1.27072, 'val/dfl_loss': 1.55595, 'fitness': 0.42438}\n",
      "\u001b[34m\u001b[1mTuner: \u001b[0mBest fitness model is ..\\..\\runs\\yolov8m_hyp_finetune40\n",
      "\u001b[34m\u001b[1mTuner: \u001b[0mBest fitness hyperparameters are printed below.\n",
      "\n",
      "Printing '\u001b[1m\u001b[30m..\\..\\runs\\tune9\\best_hyperparameters.yaml\u001b[0m'\n",
      "\n",
      "lr0: 0.00695\n",
      "lrf: 0.00885\n",
      "momentum: 0.89888\n",
      "weight_decay: 0.00044\n",
      "warmup_epochs: 2.6822\n",
      "warmup_momentum: 0.77968\n",
      "box: 6.17791\n",
      "cls: 0.61687\n",
      "dfl: 2.03447\n",
      "hsv_h: 0.00863\n",
      "hsv_s: 0.74801\n",
      "hsv_v: 0.37916\n",
      "degrees: 0.0\n",
      "translate: 0.04488\n",
      "scale: 0.62685\n",
      "shear: 0.0\n",
      "perspective: 0.0\n",
      "flipud: 0.0\n",
      "fliplr: 0.60602\n",
      "bgr: 0.0\n",
      "mosaic: 0.98246\n",
      "mixup: 0.0\n",
      "copy_paste: 0.0\n",
      "\n",
      "\u001b[34m\u001b[1mTuner: \u001b[0mStarting iteration 44/100 with hyperparameters: {'lr0': 0.00542, 'lrf': 0.0096, 'momentum': 0.85179, 'weight_decay': 0.00044, 'warmup_epochs': 2.23067, 'warmup_momentum': 0.56475, 'box': 4.91605, 'cls': 0.55901, 'dfl': 1.58803, 'hsv_h': 0.00733, 'hsv_s': 0.74801, 'hsv_v': 0.52411, 'degrees': 0.0, 'translate': 0.04244, 'scale': 0.78397, 'shear': 0.0, 'perspective': 0.0, 'flipud': 0.0, 'fliplr': 0.36081, 'bgr': 0.0, 'mosaic': 0.83657, 'mixup': 0.0, 'copy_paste': 0.0}\n",
      "Saved ..\\..\\runs\\tune9\\tune_scatter_plots.png\n",
      "Saved ..\\..\\runs\\tune9\\tune_fitness.png\n",
      "\n",
      "\u001b[34m\u001b[1mTuner: \u001b[0m44/100 iterations complete  (6298.35s)\n",
      "\u001b[34m\u001b[1mTuner: \u001b[0mResults saved to \u001b[1m..\\..\\runs\\tune9\u001b[0m\n",
      "\u001b[34m\u001b[1mTuner: \u001b[0mBest fitness=0.44266 observed at iteration 44\n",
      "\u001b[34m\u001b[1mTuner: \u001b[0mBest fitness metrics are {'metrics/precision(B)': 0.78386, 'metrics/recall(B)': 0.68229, 'metrics/mAP50(B)': 0.73216, 'metrics/mAP50-95(B)': 0.41049, 'val/box_loss': 0.95555, 'val/cls_loss': 0.99069, 'val/dfl_loss': 1.16201, 'fitness': 0.44266}\n",
      "\u001b[34m\u001b[1mTuner: \u001b[0mBest fitness model is ..\\..\\runs\\yolov8m_hyp_finetune45\n",
      "\u001b[34m\u001b[1mTuner: \u001b[0mBest fitness hyperparameters are printed below.\n",
      "\n",
      "Printing '\u001b[1m\u001b[30m..\\..\\runs\\tune9\\best_hyperparameters.yaml\u001b[0m'\n",
      "\n",
      "lr0: 0.00542\n",
      "lrf: 0.0096\n",
      "momentum: 0.85179\n",
      "weight_decay: 0.00044\n",
      "warmup_epochs: 2.23067\n",
      "warmup_momentum: 0.56475\n",
      "box: 4.91605\n",
      "cls: 0.55901\n",
      "dfl: 1.58803\n",
      "hsv_h: 0.00733\n",
      "hsv_s: 0.74801\n",
      "hsv_v: 0.52411\n",
      "degrees: 0.0\n",
      "translate: 0.04244\n",
      "scale: 0.78397\n",
      "shear: 0.0\n",
      "perspective: 0.0\n",
      "flipud: 0.0\n",
      "fliplr: 0.36081\n",
      "bgr: 0.0\n",
      "mosaic: 0.83657\n",
      "mixup: 0.0\n",
      "copy_paste: 0.0\n",
      "\n",
      "\u001b[34m\u001b[1mTuner: \u001b[0mStarting iteration 45/100 with hyperparameters: {'lr0': 0.00542, 'lrf': 0.00962, 'momentum': 0.85326, 'weight_decay': 0.00049, 'warmup_epochs': 2.77706, 'warmup_momentum': 0.53193, 'box': 4.71878, 'cls': 0.57393, 'dfl': 1.58803, 'hsv_h': 0.00724, 'hsv_s': 0.9, 'hsv_v': 0.52411, 'degrees': 0.0, 'translate': 0.04941, 'scale': 0.72818, 'shear': 0.0, 'perspective': 0.0, 'flipud': 0.0, 'fliplr': 0.36007, 'bgr': 0.0, 'mosaic': 0.6732, 'mixup': 0.0, 'copy_paste': 0.0}\n",
      "Saved ..\\..\\runs\\tune9\\tune_scatter_plots.png\n",
      "Saved ..\\..\\runs\\tune9\\tune_fitness.png\n",
      "\n",
      "\u001b[34m\u001b[1mTuner: \u001b[0m45/100 iterations complete  (6450.49s)\n",
      "\u001b[34m\u001b[1mTuner: \u001b[0mResults saved to \u001b[1m..\\..\\runs\\tune9\u001b[0m\n",
      "\u001b[34m\u001b[1mTuner: \u001b[0mBest fitness=0.44266 observed at iteration 44\n",
      "\u001b[34m\u001b[1mTuner: \u001b[0mBest fitness metrics are {'metrics/precision(B)': 0.78386, 'metrics/recall(B)': 0.68229, 'metrics/mAP50(B)': 0.73216, 'metrics/mAP50-95(B)': 0.41049, 'val/box_loss': 0.95555, 'val/cls_loss': 0.99069, 'val/dfl_loss': 1.16201, 'fitness': 0.44266}\n",
      "\u001b[34m\u001b[1mTuner: \u001b[0mBest fitness model is ..\\..\\runs\\yolov8m_hyp_finetune45\n",
      "\u001b[34m\u001b[1mTuner: \u001b[0mBest fitness hyperparameters are printed below.\n",
      "\n",
      "Printing '\u001b[1m\u001b[30m..\\..\\runs\\tune9\\best_hyperparameters.yaml\u001b[0m'\n",
      "\n",
      "lr0: 0.00542\n",
      "lrf: 0.0096\n",
      "momentum: 0.85179\n",
      "weight_decay: 0.00044\n",
      "warmup_epochs: 2.23067\n",
      "warmup_momentum: 0.56475\n",
      "box: 4.91605\n",
      "cls: 0.55901\n",
      "dfl: 1.58803\n",
      "hsv_h: 0.00733\n",
      "hsv_s: 0.74801\n",
      "hsv_v: 0.52411\n",
      "degrees: 0.0\n",
      "translate: 0.04244\n",
      "scale: 0.78397\n",
      "shear: 0.0\n",
      "perspective: 0.0\n",
      "flipud: 0.0\n",
      "fliplr: 0.36081\n",
      "bgr: 0.0\n",
      "mosaic: 0.83657\n",
      "mixup: 0.0\n",
      "copy_paste: 0.0\n",
      "\n",
      "\u001b[34m\u001b[1mTuner: \u001b[0mStarting iteration 46/100 with hyperparameters: {'lr0': 0.00681, 'lrf': 0.00885, 'momentum': 0.85179, 'weight_decay': 0.0004, 'warmup_epochs': 2.30667, 'warmup_momentum': 0.42152, 'box': 4.54626, 'cls': 0.56483, 'dfl': 1.58803, 'hsv_h': 0.00637, 'hsv_s': 0.81761, 'hsv_v': 0.52411, 'degrees': 0.0, 'translate': 0.04861, 'scale': 0.7438, 'shear': 0.0, 'perspective': 0.0, 'flipud': 0.0, 'fliplr': 0.31742, 'bgr': 0.0, 'mosaic': 0.82067, 'mixup': 0.0, 'copy_paste': 0.0}\n",
      "Saved ..\\..\\runs\\tune9\\tune_scatter_plots.png\n",
      "Saved ..\\..\\runs\\tune9\\tune_fitness.png\n",
      "\n",
      "\u001b[34m\u001b[1mTuner: \u001b[0m46/100 iterations complete  (6604.05s)\n",
      "\u001b[34m\u001b[1mTuner: \u001b[0mResults saved to \u001b[1m..\\..\\runs\\tune9\u001b[0m\n",
      "\u001b[34m\u001b[1mTuner: \u001b[0mBest fitness=0.44266 observed at iteration 44\n",
      "\u001b[34m\u001b[1mTuner: \u001b[0mBest fitness metrics are {'metrics/precision(B)': 0.78386, 'metrics/recall(B)': 0.68229, 'metrics/mAP50(B)': 0.73216, 'metrics/mAP50-95(B)': 0.41049, 'val/box_loss': 0.95555, 'val/cls_loss': 0.99069, 'val/dfl_loss': 1.16201, 'fitness': 0.44266}\n",
      "\u001b[34m\u001b[1mTuner: \u001b[0mBest fitness model is ..\\..\\runs\\yolov8m_hyp_finetune45\n",
      "\u001b[34m\u001b[1mTuner: \u001b[0mBest fitness hyperparameters are printed below.\n",
      "\n",
      "Printing '\u001b[1m\u001b[30m..\\..\\runs\\tune9\\best_hyperparameters.yaml\u001b[0m'\n",
      "\n",
      "lr0: 0.00542\n",
      "lrf: 0.0096\n",
      "momentum: 0.85179\n",
      "weight_decay: 0.00044\n",
      "warmup_epochs: 2.23067\n",
      "warmup_momentum: 0.56475\n",
      "box: 4.91605\n",
      "cls: 0.55901\n",
      "dfl: 1.58803\n",
      "hsv_h: 0.00733\n",
      "hsv_s: 0.74801\n",
      "hsv_v: 0.52411\n",
      "degrees: 0.0\n",
      "translate: 0.04244\n",
      "scale: 0.78397\n",
      "shear: 0.0\n",
      "perspective: 0.0\n",
      "flipud: 0.0\n",
      "fliplr: 0.36081\n",
      "bgr: 0.0\n",
      "mosaic: 0.83657\n",
      "mixup: 0.0\n",
      "copy_paste: 0.0\n",
      "\n",
      "\u001b[34m\u001b[1mTuner: \u001b[0mStarting iteration 47/100 with hyperparameters: {'lr0': 0.007, 'lrf': 0.00866, 'momentum': 0.83651, 'weight_decay': 0.0004, 'warmup_epochs': 2.09643, 'warmup_momentum': 0.42152, 'box': 4.8957, 'cls': 0.60603, 'dfl': 1.73298, 'hsv_h': 0.00637, 'hsv_s': 0.76999, 'hsv_v': 0.55647, 'degrees': 0.0, 'translate': 0.04896, 'scale': 0.76371, 'shear': 0.0, 'perspective': 0.0, 'flipud': 0.0, 'fliplr': 0.32647, 'bgr': 0.0, 'mosaic': 0.82067, 'mixup': 0.0, 'copy_paste': 0.0}\n",
      "Saved ..\\..\\runs\\tune9\\tune_scatter_plots.png\n",
      "Saved ..\\..\\runs\\tune9\\tune_fitness.png\n",
      "\n",
      "\u001b[34m\u001b[1mTuner: \u001b[0m47/100 iterations complete  (6762.45s)\n",
      "\u001b[34m\u001b[1mTuner: \u001b[0mResults saved to \u001b[1m..\\..\\runs\\tune9\u001b[0m\n",
      "\u001b[34m\u001b[1mTuner: \u001b[0mBest fitness=0.44266 observed at iteration 44\n",
      "\u001b[34m\u001b[1mTuner: \u001b[0mBest fitness metrics are {'metrics/precision(B)': 0.78386, 'metrics/recall(B)': 0.68229, 'metrics/mAP50(B)': 0.73216, 'metrics/mAP50-95(B)': 0.41049, 'val/box_loss': 0.95555, 'val/cls_loss': 0.99069, 'val/dfl_loss': 1.16201, 'fitness': 0.44266}\n",
      "\u001b[34m\u001b[1mTuner: \u001b[0mBest fitness model is ..\\..\\runs\\yolov8m_hyp_finetune45\n",
      "\u001b[34m\u001b[1mTuner: \u001b[0mBest fitness hyperparameters are printed below.\n",
      "\n",
      "Printing '\u001b[1m\u001b[30m..\\..\\runs\\tune9\\best_hyperparameters.yaml\u001b[0m'\n",
      "\n",
      "lr0: 0.00542\n",
      "lrf: 0.0096\n",
      "momentum: 0.85179\n",
      "weight_decay: 0.00044\n",
      "warmup_epochs: 2.23067\n",
      "warmup_momentum: 0.56475\n",
      "box: 4.91605\n",
      "cls: 0.55901\n",
      "dfl: 1.58803\n",
      "hsv_h: 0.00733\n",
      "hsv_s: 0.74801\n",
      "hsv_v: 0.52411\n",
      "degrees: 0.0\n",
      "translate: 0.04244\n",
      "scale: 0.78397\n",
      "shear: 0.0\n",
      "perspective: 0.0\n",
      "flipud: 0.0\n",
      "fliplr: 0.36081\n",
      "bgr: 0.0\n",
      "mosaic: 0.83657\n",
      "mixup: 0.0\n",
      "copy_paste: 0.0\n",
      "\n",
      "\u001b[34m\u001b[1mTuner: \u001b[0mStarting iteration 48/100 with hyperparameters: {'lr0': 0.00971, 'lrf': 0.00993, 'momentum': 0.90641, 'weight_decay': 0.00044, 'warmup_epochs': 2.6822, 'warmup_momentum': 0.64697, 'box': 6.21567, 'cls': 0.50073, 'dfl': 1.4149, 'hsv_h': 0.00622, 'hsv_s': 0.63619, 'hsv_v': 0.43777, 'degrees': 0.0, 'translate': 0.04488, 'scale': 0.46457, 'shear': 0.0, 'perspective': 0.0, 'flipud': 0.0, 'fliplr': 0.79878, 'bgr': 0.0, 'mosaic': 1.0, 'mixup': 0.0, 'copy_paste': 0.0}\n",
      "Saved ..\\..\\runs\\tune9\\tune_scatter_plots.png\n",
      "Saved ..\\..\\runs\\tune9\\tune_fitness.png\n",
      "\n",
      "\u001b[34m\u001b[1mTuner: \u001b[0m48/100 iterations complete  (6923.51s)\n",
      "\u001b[34m\u001b[1mTuner: \u001b[0mResults saved to \u001b[1m..\\..\\runs\\tune9\u001b[0m\n",
      "\u001b[34m\u001b[1mTuner: \u001b[0mBest fitness=0.44266 observed at iteration 44\n",
      "\u001b[34m\u001b[1mTuner: \u001b[0mBest fitness metrics are {'metrics/precision(B)': 0.78386, 'metrics/recall(B)': 0.68229, 'metrics/mAP50(B)': 0.73216, 'metrics/mAP50-95(B)': 0.41049, 'val/box_loss': 0.95555, 'val/cls_loss': 0.99069, 'val/dfl_loss': 1.16201, 'fitness': 0.44266}\n",
      "\u001b[34m\u001b[1mTuner: \u001b[0mBest fitness model is ..\\..\\runs\\yolov8m_hyp_finetune45\n",
      "\u001b[34m\u001b[1mTuner: \u001b[0mBest fitness hyperparameters are printed below.\n",
      "\n",
      "Printing '\u001b[1m\u001b[30m..\\..\\runs\\tune9\\best_hyperparameters.yaml\u001b[0m'\n",
      "\n",
      "lr0: 0.00542\n",
      "lrf: 0.0096\n",
      "momentum: 0.85179\n",
      "weight_decay: 0.00044\n",
      "warmup_epochs: 2.23067\n",
      "warmup_momentum: 0.56475\n",
      "box: 4.91605\n",
      "cls: 0.55901\n",
      "dfl: 1.58803\n",
      "hsv_h: 0.00733\n",
      "hsv_s: 0.74801\n",
      "hsv_v: 0.52411\n",
      "degrees: 0.0\n",
      "translate: 0.04244\n",
      "scale: 0.78397\n",
      "shear: 0.0\n",
      "perspective: 0.0\n",
      "flipud: 0.0\n",
      "fliplr: 0.36081\n",
      "bgr: 0.0\n",
      "mosaic: 0.83657\n",
      "mixup: 0.0\n",
      "copy_paste: 0.0\n",
      "\n",
      "\u001b[34m\u001b[1mTuner: \u001b[0mStarting iteration 49/100 with hyperparameters: {'lr0': 0.00625, 'lrf': 0.00887, 'momentum': 0.87067, 'weight_decay': 0.00049, 'warmup_epochs': 2.85731, 'warmup_momentum': 0.58056, 'box': 4.67091, 'cls': 0.54308, 'dfl': 1.54485, 'hsv_h': 0.00724, 'hsv_s': 0.9, 'hsv_v': 0.5154, 'degrees': 0.0, 'translate': 0.04683, 'scale': 0.72818, 'shear': 0.0, 'perspective': 0.0, 'flipud': 0.0, 'fliplr': 0.38069, 'bgr': 0.0, 'mosaic': 0.64155, 'mixup': 0.0, 'copy_paste': 0.0}\n",
      "Saved ..\\..\\runs\\tune9\\tune_scatter_plots.png\n",
      "Saved ..\\..\\runs\\tune9\\tune_fitness.png\n",
      "\n",
      "\u001b[34m\u001b[1mTuner: \u001b[0m49/100 iterations complete  (7083.59s)\n",
      "\u001b[34m\u001b[1mTuner: \u001b[0mResults saved to \u001b[1m..\\..\\runs\\tune9\u001b[0m\n",
      "\u001b[34m\u001b[1mTuner: \u001b[0mBest fitness=0.44266 observed at iteration 44\n",
      "\u001b[34m\u001b[1mTuner: \u001b[0mBest fitness metrics are {'metrics/precision(B)': 0.78386, 'metrics/recall(B)': 0.68229, 'metrics/mAP50(B)': 0.73216, 'metrics/mAP50-95(B)': 0.41049, 'val/box_loss': 0.95555, 'val/cls_loss': 0.99069, 'val/dfl_loss': 1.16201, 'fitness': 0.44266}\n",
      "\u001b[34m\u001b[1mTuner: \u001b[0mBest fitness model is ..\\..\\runs\\yolov8m_hyp_finetune45\n",
      "\u001b[34m\u001b[1mTuner: \u001b[0mBest fitness hyperparameters are printed below.\n",
      "\n",
      "Printing '\u001b[1m\u001b[30m..\\..\\runs\\tune9\\best_hyperparameters.yaml\u001b[0m'\n",
      "\n",
      "lr0: 0.00542\n",
      "lrf: 0.0096\n",
      "momentum: 0.85179\n",
      "weight_decay: 0.00044\n",
      "warmup_epochs: 2.23067\n",
      "warmup_momentum: 0.56475\n",
      "box: 4.91605\n",
      "cls: 0.55901\n",
      "dfl: 1.58803\n",
      "hsv_h: 0.00733\n",
      "hsv_s: 0.74801\n",
      "hsv_v: 0.52411\n",
      "degrees: 0.0\n",
      "translate: 0.04244\n",
      "scale: 0.78397\n",
      "shear: 0.0\n",
      "perspective: 0.0\n",
      "flipud: 0.0\n",
      "fliplr: 0.36081\n",
      "bgr: 0.0\n",
      "mosaic: 0.83657\n",
      "mixup: 0.0\n",
      "copy_paste: 0.0\n",
      "\n",
      "\u001b[34m\u001b[1mTuner: \u001b[0mStarting iteration 50/100 with hyperparameters: {'lr0': 0.00683, 'lrf': 0.00885, 'momentum': 0.86611, 'weight_decay': 0.0004, 'warmup_epochs': 2.40049, 'warmup_momentum': 0.47877, 'box': 4.75668, 'cls': 0.60778, 'dfl': 1.58803, 'hsv_h': 0.0061, 'hsv_s': 0.75968, 'hsv_v': 0.47827, 'degrees': 0.0, 'translate': 0.04979, 'scale': 0.7438, 'shear': 0.0, 'perspective': 0.0, 'flipud': 0.0, 'fliplr': 0.31742, 'bgr': 0.0, 'mosaic': 0.90481, 'mixup': 0.0, 'copy_paste': 0.0}\n",
      "Saved ..\\..\\runs\\tune9\\tune_scatter_plots.png\n",
      "Saved ..\\..\\runs\\tune9\\tune_fitness.png\n",
      "\n",
      "\u001b[34m\u001b[1mTuner: \u001b[0m50/100 iterations complete  (7236.37s)\n",
      "\u001b[34m\u001b[1mTuner: \u001b[0mResults saved to \u001b[1m..\\..\\runs\\tune9\u001b[0m\n",
      "\u001b[34m\u001b[1mTuner: \u001b[0mBest fitness=0.44266 observed at iteration 44\n",
      "\u001b[34m\u001b[1mTuner: \u001b[0mBest fitness metrics are {'metrics/precision(B)': 0.78386, 'metrics/recall(B)': 0.68229, 'metrics/mAP50(B)': 0.73216, 'metrics/mAP50-95(B)': 0.41049, 'val/box_loss': 0.95555, 'val/cls_loss': 0.99069, 'val/dfl_loss': 1.16201, 'fitness': 0.44266}\n",
      "\u001b[34m\u001b[1mTuner: \u001b[0mBest fitness model is ..\\..\\runs\\yolov8m_hyp_finetune45\n",
      "\u001b[34m\u001b[1mTuner: \u001b[0mBest fitness hyperparameters are printed below.\n",
      "\n",
      "Printing '\u001b[1m\u001b[30m..\\..\\runs\\tune9\\best_hyperparameters.yaml\u001b[0m'\n",
      "\n",
      "lr0: 0.00542\n",
      "lrf: 0.0096\n",
      "momentum: 0.85179\n",
      "weight_decay: 0.00044\n",
      "warmup_epochs: 2.23067\n",
      "warmup_momentum: 0.56475\n",
      "box: 4.91605\n",
      "cls: 0.55901\n",
      "dfl: 1.58803\n",
      "hsv_h: 0.00733\n",
      "hsv_s: 0.74801\n",
      "hsv_v: 0.52411\n",
      "degrees: 0.0\n",
      "translate: 0.04244\n",
      "scale: 0.78397\n",
      "shear: 0.0\n",
      "perspective: 0.0\n",
      "flipud: 0.0\n",
      "fliplr: 0.36081\n",
      "bgr: 0.0\n",
      "mosaic: 0.83657\n",
      "mixup: 0.0\n",
      "copy_paste: 0.0\n",
      "\n",
      "\u001b[34m\u001b[1mTuner: \u001b[0mStarting iteration 51/100 with hyperparameters: {'lr0': 0.00505, 'lrf': 0.00729, 'momentum': 0.86611, 'weight_decay': 0.00049, 'warmup_epochs': 2.34539, 'warmup_momentum': 0.44192, 'box': 5.4367, 'cls': 0.58191, 'dfl': 1.58803, 'hsv_h': 0.00759, 'hsv_s': 0.9, 'hsv_v': 0.5582, 'degrees': 0.0, 'translate': 0.04419, 'scale': 0.66534, 'shear': 0.0, 'perspective': 0.0, 'flipud': 0.0, 'fliplr': 0.42423, 'bgr': 0.0, 'mosaic': 0.85694, 'mixup': 0.0, 'copy_paste': 0.0}\n",
      "Saved ..\\..\\runs\\tune9\\tune_scatter_plots.png\n",
      "Saved ..\\..\\runs\\tune9\\tune_fitness.png\n",
      "\n",
      "\u001b[34m\u001b[1mTuner: \u001b[0m51/100 iterations complete  (7386.80s)\n",
      "\u001b[34m\u001b[1mTuner: \u001b[0mResults saved to \u001b[1m..\\..\\runs\\tune9\u001b[0m\n",
      "\u001b[34m\u001b[1mTuner: \u001b[0mBest fitness=0.45269 observed at iteration 51\n",
      "\u001b[34m\u001b[1mTuner: \u001b[0mBest fitness metrics are {'metrics/precision(B)': 0.8223, 'metrics/recall(B)': 0.64583, 'metrics/mAP50(B)': 0.73379, 'metrics/mAP50-95(B)': 0.42146, 'val/box_loss': 1.03951, 'val/cls_loss': 0.9908, 'val/dfl_loss': 1.17999, 'fitness': 0.45269}\n",
      "\u001b[34m\u001b[1mTuner: \u001b[0mBest fitness model is ..\\..\\runs\\yolov8m_hyp_finetune52\n",
      "\u001b[34m\u001b[1mTuner: \u001b[0mBest fitness hyperparameters are printed below.\n",
      "\n",
      "Printing '\u001b[1m\u001b[30m..\\..\\runs\\tune9\\best_hyperparameters.yaml\u001b[0m'\n",
      "\n",
      "lr0: 0.00505\n",
      "lrf: 0.00729\n",
      "momentum: 0.86611\n",
      "weight_decay: 0.00049\n",
      "warmup_epochs: 2.34539\n",
      "warmup_momentum: 0.44192\n",
      "box: 5.4367\n",
      "cls: 0.58191\n",
      "dfl: 1.58803\n",
      "hsv_h: 0.00759\n",
      "hsv_s: 0.9\n",
      "hsv_v: 0.5582\n",
      "degrees: 0.0\n",
      "translate: 0.04419\n",
      "scale: 0.66534\n",
      "shear: 0.0\n",
      "perspective: 0.0\n",
      "flipud: 0.0\n",
      "fliplr: 0.42423\n",
      "bgr: 0.0\n",
      "mosaic: 0.85694\n",
      "mixup: 0.0\n",
      "copy_paste: 0.0\n",
      "\n",
      "\u001b[34m\u001b[1mTuner: \u001b[0mStarting iteration 52/100 with hyperparameters: {'lr0': 0.00542, 'lrf': 0.00964, 'momentum': 0.83874, 'weight_decay': 0.00056, 'warmup_epochs': 2.77706, 'warmup_momentum': 0.61631, 'box': 5.50977, 'cls': 0.30246, 'dfl': 1.74363, 'hsv_h': 0.00581, 'hsv_s': 0.9, 'hsv_v': 0.44514, 'degrees': 0.0, 'translate': 0.04832, 'scale': 0.63506, 'shear': 0.0, 'perspective': 0.0, 'flipud': 0.0, 'fliplr': 0.28929, 'bgr': 0.0, 'mosaic': 0.64054, 'mixup': 0.0, 'copy_paste': 0.0}\n",
      "Saved ..\\..\\runs\\tune9\\tune_scatter_plots.png\n",
      "Saved ..\\..\\runs\\tune9\\tune_fitness.png\n",
      "\n",
      "\u001b[34m\u001b[1mTuner: \u001b[0m52/100 iterations complete  (7537.18s)\n",
      "\u001b[34m\u001b[1mTuner: \u001b[0mResults saved to \u001b[1m..\\..\\runs\\tune9\u001b[0m\n",
      "\u001b[34m\u001b[1mTuner: \u001b[0mBest fitness=0.47747 observed at iteration 52\n",
      "\u001b[34m\u001b[1mTuner: \u001b[0mBest fitness metrics are {'metrics/precision(B)': 0.79895, 'metrics/recall(B)': 0.6875, 'metrics/mAP50(B)': 0.76466, 'metrics/mAP50-95(B)': 0.44556, 'val/box_loss': 1.04264, 'val/cls_loss': 0.52654, 'val/dfl_loss': 1.23983, 'fitness': 0.47747}\n",
      "\u001b[34m\u001b[1mTuner: \u001b[0mBest fitness model is ..\\..\\runs\\yolov8m_hyp_finetune53\n",
      "\u001b[34m\u001b[1mTuner: \u001b[0mBest fitness hyperparameters are printed below.\n",
      "\n",
      "Printing '\u001b[1m\u001b[30m..\\..\\runs\\tune9\\best_hyperparameters.yaml\u001b[0m'\n",
      "\n",
      "lr0: 0.00542\n",
      "lrf: 0.00964\n",
      "momentum: 0.83874\n",
      "weight_decay: 0.00056\n",
      "warmup_epochs: 2.77706\n",
      "warmup_momentum: 0.61631\n",
      "box: 5.50977\n",
      "cls: 0.30246\n",
      "dfl: 1.74363\n",
      "hsv_h: 0.00581\n",
      "hsv_s: 0.9\n",
      "hsv_v: 0.44514\n",
      "degrees: 0.0\n",
      "translate: 0.04832\n",
      "scale: 0.63506\n",
      "shear: 0.0\n",
      "perspective: 0.0\n",
      "flipud: 0.0\n",
      "fliplr: 0.28929\n",
      "bgr: 0.0\n",
      "mosaic: 0.64054\n",
      "mixup: 0.0\n",
      "copy_paste: 0.0\n",
      "\n",
      "\u001b[34m\u001b[1mTuner: \u001b[0mStarting iteration 53/100 with hyperparameters: {'lr0': 0.00571, 'lrf': 0.00964, 'momentum': 0.84071, 'weight_decay': 0.00056, 'warmup_epochs': 2.71206, 'warmup_momentum': 0.61631, 'box': 5.63613, 'cls': 0.30664, 'dfl': 1.74363, 'hsv_h': 0.00621, 'hsv_s': 0.9, 'hsv_v': 0.45637, 'degrees': 0.0, 'translate': 0.04832, 'scale': 0.61333, 'shear': 0.0, 'perspective': 0.0, 'flipud': 0.0, 'fliplr': 0.28929, 'bgr': 0.0, 'mosaic': 0.62031, 'mixup': 0.0, 'copy_paste': 0.0}\n",
      "Saved ..\\..\\runs\\tune9\\tune_scatter_plots.png\n",
      "Saved ..\\..\\runs\\tune9\\tune_fitness.png\n",
      "\n",
      "\u001b[34m\u001b[1mTuner: \u001b[0m53/100 iterations complete  (7692.98s)\n",
      "\u001b[34m\u001b[1mTuner: \u001b[0mResults saved to \u001b[1m..\\..\\runs\\tune9\u001b[0m\n",
      "\u001b[34m\u001b[1mTuner: \u001b[0mBest fitness=0.47747 observed at iteration 52\n",
      "\u001b[34m\u001b[1mTuner: \u001b[0mBest fitness metrics are {'metrics/precision(B)': 0.79895, 'metrics/recall(B)': 0.6875, 'metrics/mAP50(B)': 0.76466, 'metrics/mAP50-95(B)': 0.44556, 'val/box_loss': 1.04264, 'val/cls_loss': 0.52654, 'val/dfl_loss': 1.23983, 'fitness': 0.47747}\n",
      "\u001b[34m\u001b[1mTuner: \u001b[0mBest fitness model is ..\\..\\runs\\yolov8m_hyp_finetune53\n",
      "\u001b[34m\u001b[1mTuner: \u001b[0mBest fitness hyperparameters are printed below.\n",
      "\n",
      "Printing '\u001b[1m\u001b[30m..\\..\\runs\\tune9\\best_hyperparameters.yaml\u001b[0m'\n",
      "\n",
      "lr0: 0.00542\n",
      "lrf: 0.00964\n",
      "momentum: 0.83874\n",
      "weight_decay: 0.00056\n",
      "warmup_epochs: 2.77706\n",
      "warmup_momentum: 0.61631\n",
      "box: 5.50977\n",
      "cls: 0.30246\n",
      "dfl: 1.74363\n",
      "hsv_h: 0.00581\n",
      "hsv_s: 0.9\n",
      "hsv_v: 0.44514\n",
      "degrees: 0.0\n",
      "translate: 0.04832\n",
      "scale: 0.63506\n",
      "shear: 0.0\n",
      "perspective: 0.0\n",
      "flipud: 0.0\n",
      "fliplr: 0.28929\n",
      "bgr: 0.0\n",
      "mosaic: 0.64054\n",
      "mixup: 0.0\n",
      "copy_paste: 0.0\n",
      "\n",
      "\u001b[34m\u001b[1mTuner: \u001b[0mStarting iteration 54/100 with hyperparameters: {'lr0': 0.0055, 'lrf': 0.00954, 'momentum': 0.83874, 'weight_decay': 0.00058, 'warmup_epochs': 2.62518, 'warmup_momentum': 0.62891, 'box': 5.50977, 'cls': 0.30602, 'dfl': 1.70433, 'hsv_h': 0.00582, 'hsv_s': 0.86313, 'hsv_v': 0.44514, 'degrees': 0.0, 'translate': 0.04704, 'scale': 0.63807, 'shear': 0.0, 'perspective': 0.0, 'flipud': 0.0, 'fliplr': 0.28705, 'bgr': 0.0, 'mosaic': 0.65133, 'mixup': 0.0, 'copy_paste': 0.0}\n",
      "Saved ..\\..\\runs\\tune9\\tune_scatter_plots.png\n",
      "Saved ..\\..\\runs\\tune9\\tune_fitness.png\n",
      "\n",
      "\u001b[34m\u001b[1mTuner: \u001b[0m54/100 iterations complete  (7852.66s)\n",
      "\u001b[34m\u001b[1mTuner: \u001b[0mResults saved to \u001b[1m..\\..\\runs\\tune9\u001b[0m\n",
      "\u001b[34m\u001b[1mTuner: \u001b[0mBest fitness=0.47747 observed at iteration 52\n",
      "\u001b[34m\u001b[1mTuner: \u001b[0mBest fitness metrics are {'metrics/precision(B)': 0.79895, 'metrics/recall(B)': 0.6875, 'metrics/mAP50(B)': 0.76466, 'metrics/mAP50-95(B)': 0.44556, 'val/box_loss': 1.04264, 'val/cls_loss': 0.52654, 'val/dfl_loss': 1.23983, 'fitness': 0.47747}\n",
      "\u001b[34m\u001b[1mTuner: \u001b[0mBest fitness model is ..\\..\\runs\\yolov8m_hyp_finetune53\n",
      "\u001b[34m\u001b[1mTuner: \u001b[0mBest fitness hyperparameters are printed below.\n",
      "\n",
      "Printing '\u001b[1m\u001b[30m..\\..\\runs\\tune9\\best_hyperparameters.yaml\u001b[0m'\n",
      "\n",
      "lr0: 0.00542\n",
      "lrf: 0.00964\n",
      "momentum: 0.83874\n",
      "weight_decay: 0.00056\n",
      "warmup_epochs: 2.77706\n",
      "warmup_momentum: 0.61631\n",
      "box: 5.50977\n",
      "cls: 0.30246\n",
      "dfl: 1.74363\n",
      "hsv_h: 0.00581\n",
      "hsv_s: 0.9\n",
      "hsv_v: 0.44514\n",
      "degrees: 0.0\n",
      "translate: 0.04832\n",
      "scale: 0.63506\n",
      "shear: 0.0\n",
      "perspective: 0.0\n",
      "flipud: 0.0\n",
      "fliplr: 0.28929\n",
      "bgr: 0.0\n",
      "mosaic: 0.64054\n",
      "mixup: 0.0\n",
      "copy_paste: 0.0\n",
      "\n",
      "\u001b[34m\u001b[1mTuner: \u001b[0mStarting iteration 55/100 with hyperparameters: {'lr0': 0.00519, 'lrf': 0.01001, 'momentum': 0.85869, 'weight_decay': 0.00043, 'warmup_epochs': 2.76279, 'warmup_momentum': 0.61748, 'box': 5.8466, 'cls': 0.35769, 'dfl': 1.77738, 'hsv_h': 0.00693, 'hsv_s': 0.9, 'hsv_v': 0.43903, 'degrees': 0.0, 'translate': 0.04832, 'scale': 0.63506, 'shear': 0.0, 'perspective': 0.0, 'flipud': 0.0, 'fliplr': 0.18489, 'bgr': 0.0, 'mosaic': 0.64054, 'mixup': 0.0, 'copy_paste': 0.0}\n",
      "Saved ..\\..\\runs\\tune9\\tune_scatter_plots.png\n",
      "Saved ..\\..\\runs\\tune9\\tune_fitness.png\n",
      "\n",
      "\u001b[34m\u001b[1mTuner: \u001b[0m55/100 iterations complete  (8003.31s)\n",
      "\u001b[34m\u001b[1mTuner: \u001b[0mResults saved to \u001b[1m..\\..\\runs\\tune9\u001b[0m\n",
      "\u001b[34m\u001b[1mTuner: \u001b[0mBest fitness=0.47747 observed at iteration 52\n",
      "\u001b[34m\u001b[1mTuner: \u001b[0mBest fitness metrics are {'metrics/precision(B)': 0.79895, 'metrics/recall(B)': 0.6875, 'metrics/mAP50(B)': 0.76466, 'metrics/mAP50-95(B)': 0.44556, 'val/box_loss': 1.04264, 'val/cls_loss': 0.52654, 'val/dfl_loss': 1.23983, 'fitness': 0.47747}\n",
      "\u001b[34m\u001b[1mTuner: \u001b[0mBest fitness model is ..\\..\\runs\\yolov8m_hyp_finetune53\n",
      "\u001b[34m\u001b[1mTuner: \u001b[0mBest fitness hyperparameters are printed below.\n",
      "\n",
      "Printing '\u001b[1m\u001b[30m..\\..\\runs\\tune9\\best_hyperparameters.yaml\u001b[0m'\n",
      "\n",
      "lr0: 0.00542\n",
      "lrf: 0.00964\n",
      "momentum: 0.83874\n",
      "weight_decay: 0.00056\n",
      "warmup_epochs: 2.77706\n",
      "warmup_momentum: 0.61631\n",
      "box: 5.50977\n",
      "cls: 0.30246\n",
      "dfl: 1.74363\n",
      "hsv_h: 0.00581\n",
      "hsv_s: 0.9\n",
      "hsv_v: 0.44514\n",
      "degrees: 0.0\n",
      "translate: 0.04832\n",
      "scale: 0.63506\n",
      "shear: 0.0\n",
      "perspective: 0.0\n",
      "flipud: 0.0\n",
      "fliplr: 0.28929\n",
      "bgr: 0.0\n",
      "mosaic: 0.64054\n",
      "mixup: 0.0\n",
      "copy_paste: 0.0\n",
      "\n",
      "\u001b[34m\u001b[1mTuner: \u001b[0mStarting iteration 56/100 with hyperparameters: {'lr0': 0.00552, 'lrf': 0.00977, 'momentum': 0.83589, 'weight_decay': 0.0006, 'warmup_epochs': 2.53695, 'warmup_momentum': 0.64502, 'box': 5.92314, 'cls': 0.30878, 'dfl': 1.85062, 'hsv_h': 0.006, 'hsv_s': 0.9, 'hsv_v': 0.44514, 'degrees': 0.0, 'translate': 0.04829, 'scale': 0.60242, 'shear': 0.0, 'perspective': 0.0, 'flipud': 0.0, 'fliplr': 0.27961, 'bgr': 0.0, 'mosaic': 0.6484, 'mixup': 0.0, 'copy_paste': 0.0}\n",
      "Saved ..\\..\\runs\\tune9\\tune_scatter_plots.png\n",
      "Saved ..\\..\\runs\\tune9\\tune_fitness.png\n",
      "\n",
      "\u001b[34m\u001b[1mTuner: \u001b[0m56/100 iterations complete  (8155.78s)\n",
      "\u001b[34m\u001b[1mTuner: \u001b[0mResults saved to \u001b[1m..\\..\\runs\\tune9\u001b[0m\n",
      "\u001b[34m\u001b[1mTuner: \u001b[0mBest fitness=0.47747 observed at iteration 52\n",
      "\u001b[34m\u001b[1mTuner: \u001b[0mBest fitness metrics are {'metrics/precision(B)': 0.79895, 'metrics/recall(B)': 0.6875, 'metrics/mAP50(B)': 0.76466, 'metrics/mAP50-95(B)': 0.44556, 'val/box_loss': 1.04264, 'val/cls_loss': 0.52654, 'val/dfl_loss': 1.23983, 'fitness': 0.47747}\n",
      "\u001b[34m\u001b[1mTuner: \u001b[0mBest fitness model is ..\\..\\runs\\yolov8m_hyp_finetune53\n",
      "\u001b[34m\u001b[1mTuner: \u001b[0mBest fitness hyperparameters are printed below.\n",
      "\n",
      "Printing '\u001b[1m\u001b[30m..\\..\\runs\\tune9\\best_hyperparameters.yaml\u001b[0m'\n",
      "\n",
      "lr0: 0.00542\n",
      "lrf: 0.00964\n",
      "momentum: 0.83874\n",
      "weight_decay: 0.00056\n",
      "warmup_epochs: 2.77706\n",
      "warmup_momentum: 0.61631\n",
      "box: 5.50977\n",
      "cls: 0.30246\n",
      "dfl: 1.74363\n",
      "hsv_h: 0.00581\n",
      "hsv_s: 0.9\n",
      "hsv_v: 0.44514\n",
      "degrees: 0.0\n",
      "translate: 0.04832\n",
      "scale: 0.63506\n",
      "shear: 0.0\n",
      "perspective: 0.0\n",
      "flipud: 0.0\n",
      "fliplr: 0.28929\n",
      "bgr: 0.0\n",
      "mosaic: 0.64054\n",
      "mixup: 0.0\n",
      "copy_paste: 0.0\n",
      "\n",
      "\u001b[34m\u001b[1mTuner: \u001b[0mStarting iteration 57/100 with hyperparameters: {'lr0': 0.00519, 'lrf': 0.01011, 'momentum': 0.86584, 'weight_decay': 0.00042, 'warmup_epochs': 2.64843, 'warmup_momentum': 0.61748, 'box': 5.8466, 'cls': 0.33976, 'dfl': 1.8203, 'hsv_h': 0.00656, 'hsv_s': 0.9, 'hsv_v': 0.40832, 'degrees': 0.0, 'translate': 0.04733, 'scale': 0.64211, 'shear': 0.0, 'perspective': 0.0, 'flipud': 0.0, 'fliplr': 0.19004, 'bgr': 0.0, 'mosaic': 0.63531, 'mixup': 0.0, 'copy_paste': 0.0}\n",
      "Saved ..\\..\\runs\\tune9\\tune_scatter_plots.png\n",
      "Saved ..\\..\\runs\\tune9\\tune_fitness.png\n",
      "\n",
      "\u001b[34m\u001b[1mTuner: \u001b[0m57/100 iterations complete  (8314.92s)\n",
      "\u001b[34m\u001b[1mTuner: \u001b[0mResults saved to \u001b[1m..\\..\\runs\\tune9\u001b[0m\n",
      "\u001b[34m\u001b[1mTuner: \u001b[0mBest fitness=0.47747 observed at iteration 52\n",
      "\u001b[34m\u001b[1mTuner: \u001b[0mBest fitness metrics are {'metrics/precision(B)': 0.79895, 'metrics/recall(B)': 0.6875, 'metrics/mAP50(B)': 0.76466, 'metrics/mAP50-95(B)': 0.44556, 'val/box_loss': 1.04264, 'val/cls_loss': 0.52654, 'val/dfl_loss': 1.23983, 'fitness': 0.47747}\n",
      "\u001b[34m\u001b[1mTuner: \u001b[0mBest fitness model is ..\\..\\runs\\yolov8m_hyp_finetune53\n",
      "\u001b[34m\u001b[1mTuner: \u001b[0mBest fitness hyperparameters are printed below.\n",
      "\n",
      "Printing '\u001b[1m\u001b[30m..\\..\\runs\\tune9\\best_hyperparameters.yaml\u001b[0m'\n",
      "\n",
      "lr0: 0.00542\n",
      "lrf: 0.00964\n",
      "momentum: 0.83874\n",
      "weight_decay: 0.00056\n",
      "warmup_epochs: 2.77706\n",
      "warmup_momentum: 0.61631\n",
      "box: 5.50977\n",
      "cls: 0.30246\n",
      "dfl: 1.74363\n",
      "hsv_h: 0.00581\n",
      "hsv_s: 0.9\n",
      "hsv_v: 0.44514\n",
      "degrees: 0.0\n",
      "translate: 0.04832\n",
      "scale: 0.63506\n",
      "shear: 0.0\n",
      "perspective: 0.0\n",
      "flipud: 0.0\n",
      "fliplr: 0.28929\n",
      "bgr: 0.0\n",
      "mosaic: 0.64054\n",
      "mixup: 0.0\n",
      "copy_paste: 0.0\n",
      "\n",
      "\u001b[34m\u001b[1mTuner: \u001b[0mStarting iteration 58/100 with hyperparameters: {'lr0': 0.00569, 'lrf': 0.01002, 'momentum': 0.84724, 'weight_decay': 0.00044, 'warmup_epochs': 2.61447, 'warmup_momentum': 0.62419, 'box': 6.37257, 'cls': 0.36052, 'dfl': 1.77738, 'hsv_h': 0.00699, 'hsv_s': 0.9, 'hsv_v': 0.44495, 'degrees': 0.0, 'translate': 0.04682, 'scale': 0.63506, 'shear': 0.0, 'perspective': 0.0, 'flipud': 0.0, 'fliplr': 0.19579, 'bgr': 0.0, 'mosaic': 0.64054, 'mixup': 0.0, 'copy_paste': 0.0}\n",
      "Saved ..\\..\\runs\\tune9\\tune_scatter_plots.png\n",
      "Saved ..\\..\\runs\\tune9\\tune_fitness.png\n",
      "\n",
      "\u001b[34m\u001b[1mTuner: \u001b[0m58/100 iterations complete  (8470.21s)\n",
      "\u001b[34m\u001b[1mTuner: \u001b[0mResults saved to \u001b[1m..\\..\\runs\\tune9\u001b[0m\n",
      "\u001b[34m\u001b[1mTuner: \u001b[0mBest fitness=0.47747 observed at iteration 52\n",
      "\u001b[34m\u001b[1mTuner: \u001b[0mBest fitness metrics are {'metrics/precision(B)': 0.79895, 'metrics/recall(B)': 0.6875, 'metrics/mAP50(B)': 0.76466, 'metrics/mAP50-95(B)': 0.44556, 'val/box_loss': 1.04264, 'val/cls_loss': 0.52654, 'val/dfl_loss': 1.23983, 'fitness': 0.47747}\n",
      "\u001b[34m\u001b[1mTuner: \u001b[0mBest fitness model is ..\\..\\runs\\yolov8m_hyp_finetune53\n",
      "\u001b[34m\u001b[1mTuner: \u001b[0mBest fitness hyperparameters are printed below.\n",
      "\n",
      "Printing '\u001b[1m\u001b[30m..\\..\\runs\\tune9\\best_hyperparameters.yaml\u001b[0m'\n",
      "\n",
      "lr0: 0.00542\n",
      "lrf: 0.00964\n",
      "momentum: 0.83874\n",
      "weight_decay: 0.00056\n",
      "warmup_epochs: 2.77706\n",
      "warmup_momentum: 0.61631\n",
      "box: 5.50977\n",
      "cls: 0.30246\n",
      "dfl: 1.74363\n",
      "hsv_h: 0.00581\n",
      "hsv_s: 0.9\n",
      "hsv_v: 0.44514\n",
      "degrees: 0.0\n",
      "translate: 0.04832\n",
      "scale: 0.63506\n",
      "shear: 0.0\n",
      "perspective: 0.0\n",
      "flipud: 0.0\n",
      "fliplr: 0.28929\n",
      "bgr: 0.0\n",
      "mosaic: 0.64054\n",
      "mixup: 0.0\n",
      "copy_paste: 0.0\n",
      "\n",
      "\u001b[34m\u001b[1mTuner: \u001b[0mStarting iteration 59/100 with hyperparameters: {'lr0': 0.00497, 'lrf': 0.01085, 'momentum': 0.88242, 'weight_decay': 0.00042, 'warmup_epochs': 3.24235, 'warmup_momentum': 0.69955, 'box': 5.43041, 'cls': 0.37156, 'dfl': 2.12187, 'hsv_h': 0.00847, 'hsv_s': 0.9, 'hsv_v': 0.43903, 'degrees': 0.0, 'translate': 0.06027, 'scale': 0.63506, 'shear': 0.0, 'perspective': 0.0, 'flipud': 0.0, 'fliplr': 0.20021, 'bgr': 0.0, 'mosaic': 0.50187, 'mixup': 0.0, 'copy_paste': 0.0}\n",
      "Saved ..\\..\\runs\\tune9\\tune_scatter_plots.png\n",
      "Saved ..\\..\\runs\\tune9\\tune_fitness.png\n",
      "\n",
      "\u001b[34m\u001b[1mTuner: \u001b[0m59/100 iterations complete  (8629.68s)\n",
      "\u001b[34m\u001b[1mTuner: \u001b[0mResults saved to \u001b[1m..\\..\\runs\\tune9\u001b[0m\n",
      "\u001b[34m\u001b[1mTuner: \u001b[0mBest fitness=0.47747 observed at iteration 52\n",
      "\u001b[34m\u001b[1mTuner: \u001b[0mBest fitness metrics are {'metrics/precision(B)': 0.79895, 'metrics/recall(B)': 0.6875, 'metrics/mAP50(B)': 0.76466, 'metrics/mAP50-95(B)': 0.44556, 'val/box_loss': 1.04264, 'val/cls_loss': 0.52654, 'val/dfl_loss': 1.23983, 'fitness': 0.47747}\n",
      "\u001b[34m\u001b[1mTuner: \u001b[0mBest fitness model is ..\\..\\runs\\yolov8m_hyp_finetune53\n",
      "\u001b[34m\u001b[1mTuner: \u001b[0mBest fitness hyperparameters are printed below.\n",
      "\n",
      "Printing '\u001b[1m\u001b[30m..\\..\\runs\\tune9\\best_hyperparameters.yaml\u001b[0m'\n",
      "\n",
      "lr0: 0.00542\n",
      "lrf: 0.00964\n",
      "momentum: 0.83874\n",
      "weight_decay: 0.00056\n",
      "warmup_epochs: 2.77706\n",
      "warmup_momentum: 0.61631\n",
      "box: 5.50977\n",
      "cls: 0.30246\n",
      "dfl: 1.74363\n",
      "hsv_h: 0.00581\n",
      "hsv_s: 0.9\n",
      "hsv_v: 0.44514\n",
      "degrees: 0.0\n",
      "translate: 0.04832\n",
      "scale: 0.63506\n",
      "shear: 0.0\n",
      "perspective: 0.0\n",
      "flipud: 0.0\n",
      "fliplr: 0.28929\n",
      "bgr: 0.0\n",
      "mosaic: 0.64054\n",
      "mixup: 0.0\n",
      "copy_paste: 0.0\n",
      "\n",
      "\u001b[34m\u001b[1mTuner: \u001b[0mStarting iteration 60/100 with hyperparameters: {'lr0': 0.00542, 'lrf': 0.00963, 'momentum': 0.83874, 'weight_decay': 0.00055, 'warmup_epochs': 2.79877, 'warmup_momentum': 0.62368, 'box': 5.53287, 'cls': 0.30414, 'dfl': 1.74363, 'hsv_h': 0.00581, 'hsv_s': 0.9, 'hsv_v': 0.44514, 'degrees': 0.0, 'translate': 0.04832, 'scale': 0.63491, 'shear': 0.0, 'perspective': 0.0, 'flipud': 0.0, 'fliplr': 0.29153, 'bgr': 0.0, 'mosaic': 0.63699, 'mixup': 0.0, 'copy_paste': 0.0}\n",
      "Saved ..\\..\\runs\\tune9\\tune_scatter_plots.png\n",
      "Saved ..\\..\\runs\\tune9\\tune_fitness.png\n",
      "\n",
      "\u001b[34m\u001b[1mTuner: \u001b[0m60/100 iterations complete  (8775.95s)\n",
      "\u001b[34m\u001b[1mTuner: \u001b[0mResults saved to \u001b[1m..\\..\\runs\\tune9\u001b[0m\n",
      "\u001b[34m\u001b[1mTuner: \u001b[0mBest fitness=0.47747 observed at iteration 52\n",
      "\u001b[34m\u001b[1mTuner: \u001b[0mBest fitness metrics are {'metrics/precision(B)': 0.79895, 'metrics/recall(B)': 0.6875, 'metrics/mAP50(B)': 0.76466, 'metrics/mAP50-95(B)': 0.44556, 'val/box_loss': 1.04264, 'val/cls_loss': 0.52654, 'val/dfl_loss': 1.23983, 'fitness': 0.47747}\n",
      "\u001b[34m\u001b[1mTuner: \u001b[0mBest fitness model is ..\\..\\runs\\yolov8m_hyp_finetune53\n",
      "\u001b[34m\u001b[1mTuner: \u001b[0mBest fitness hyperparameters are printed below.\n",
      "\n",
      "Printing '\u001b[1m\u001b[30m..\\..\\runs\\tune9\\best_hyperparameters.yaml\u001b[0m'\n",
      "\n",
      "lr0: 0.00542\n",
      "lrf: 0.00964\n",
      "momentum: 0.83874\n",
      "weight_decay: 0.00056\n",
      "warmup_epochs: 2.77706\n",
      "warmup_momentum: 0.61631\n",
      "box: 5.50977\n",
      "cls: 0.30246\n",
      "dfl: 1.74363\n",
      "hsv_h: 0.00581\n",
      "hsv_s: 0.9\n",
      "hsv_v: 0.44514\n",
      "degrees: 0.0\n",
      "translate: 0.04832\n",
      "scale: 0.63506\n",
      "shear: 0.0\n",
      "perspective: 0.0\n",
      "flipud: 0.0\n",
      "fliplr: 0.28929\n",
      "bgr: 0.0\n",
      "mosaic: 0.64054\n",
      "mixup: 0.0\n",
      "copy_paste: 0.0\n",
      "\n",
      "\u001b[34m\u001b[1mTuner: \u001b[0mStarting iteration 61/100 with hyperparameters: {'lr0': 0.00596, 'lrf': 0.00912, 'momentum': 0.88207, 'weight_decay': 0.00046, 'warmup_epochs': 2.82571, 'warmup_momentum': 0.60075, 'box': 5.82291, 'cls': 0.41028, 'dfl': 1.87969, 'hsv_h': 0.00583, 'hsv_s': 0.82455, 'hsv_v': 0.43903, 'degrees': 0.0, 'translate': 0.04749, 'scale': 0.63506, 'shear': 0.0, 'perspective': 0.0, 'flipud': 0.0, 'fliplr': 0.18489, 'bgr': 0.0, 'mosaic': 0.64276, 'mixup': 0.0, 'copy_paste': 0.0}\n",
      "Saved ..\\..\\runs\\tune9\\tune_scatter_plots.png\n",
      "Saved ..\\..\\runs\\tune9\\tune_fitness.png\n",
      "\n",
      "\u001b[34m\u001b[1mTuner: \u001b[0m61/100 iterations complete  (8913.31s)\n",
      "\u001b[34m\u001b[1mTuner: \u001b[0mResults saved to \u001b[1m..\\..\\runs\\tune9\u001b[0m\n",
      "\u001b[34m\u001b[1mTuner: \u001b[0mBest fitness=0.47747 observed at iteration 52\n",
      "\u001b[34m\u001b[1mTuner: \u001b[0mBest fitness metrics are {'metrics/precision(B)': 0.79895, 'metrics/recall(B)': 0.6875, 'metrics/mAP50(B)': 0.76466, 'metrics/mAP50-95(B)': 0.44556, 'val/box_loss': 1.04264, 'val/cls_loss': 0.52654, 'val/dfl_loss': 1.23983, 'fitness': 0.47747}\n",
      "\u001b[34m\u001b[1mTuner: \u001b[0mBest fitness model is ..\\..\\runs\\yolov8m_hyp_finetune53\n",
      "\u001b[34m\u001b[1mTuner: \u001b[0mBest fitness hyperparameters are printed below.\n",
      "\n",
      "Printing '\u001b[1m\u001b[30m..\\..\\runs\\tune9\\best_hyperparameters.yaml\u001b[0m'\n",
      "\n",
      "lr0: 0.00542\n",
      "lrf: 0.00964\n",
      "momentum: 0.83874\n",
      "weight_decay: 0.00056\n",
      "warmup_epochs: 2.77706\n",
      "warmup_momentum: 0.61631\n",
      "box: 5.50977\n",
      "cls: 0.30246\n",
      "dfl: 1.74363\n",
      "hsv_h: 0.00581\n",
      "hsv_s: 0.9\n",
      "hsv_v: 0.44514\n",
      "degrees: 0.0\n",
      "translate: 0.04832\n",
      "scale: 0.63506\n",
      "shear: 0.0\n",
      "perspective: 0.0\n",
      "flipud: 0.0\n",
      "fliplr: 0.28929\n",
      "bgr: 0.0\n",
      "mosaic: 0.64054\n",
      "mixup: 0.0\n",
      "copy_paste: 0.0\n",
      "\n",
      "\u001b[34m\u001b[1mTuner: \u001b[0mStarting iteration 62/100 with hyperparameters: {'lr0': 0.00541, 'lrf': 0.00992, 'momentum': 0.86154, 'weight_decay': 0.00042, 'warmup_epochs': 2.64843, 'warmup_momentum': 0.61748, 'box': 5.37855, 'cls': 0.34764, 'dfl': 1.81902, 'hsv_h': 0.00573, 'hsv_s': 0.9, 'hsv_v': 0.42212, 'degrees': 0.0, 'translate': 0.04707, 'scale': 0.64211, 'shear': 0.0, 'perspective': 0.0, 'flipud': 0.0, 'fliplr': 0.20914, 'bgr': 0.0, 'mosaic': 0.65579, 'mixup': 0.0, 'copy_paste': 0.0}\n",
      "Saved ..\\..\\runs\\tune9\\tune_scatter_plots.png\n",
      "Saved ..\\..\\runs\\tune9\\tune_fitness.png\n",
      "\n",
      "\u001b[34m\u001b[1mTuner: \u001b[0m62/100 iterations complete  (9055.57s)\n",
      "\u001b[34m\u001b[1mTuner: \u001b[0mResults saved to \u001b[1m..\\..\\runs\\tune9\u001b[0m\n",
      "\u001b[34m\u001b[1mTuner: \u001b[0mBest fitness=0.47747 observed at iteration 52\n",
      "\u001b[34m\u001b[1mTuner: \u001b[0mBest fitness metrics are {'metrics/precision(B)': 0.79895, 'metrics/recall(B)': 0.6875, 'metrics/mAP50(B)': 0.76466, 'metrics/mAP50-95(B)': 0.44556, 'val/box_loss': 1.04264, 'val/cls_loss': 0.52654, 'val/dfl_loss': 1.23983, 'fitness': 0.47747}\n",
      "\u001b[34m\u001b[1mTuner: \u001b[0mBest fitness model is ..\\..\\runs\\yolov8m_hyp_finetune53\n",
      "\u001b[34m\u001b[1mTuner: \u001b[0mBest fitness hyperparameters are printed below.\n",
      "\n",
      "Printing '\u001b[1m\u001b[30m..\\..\\runs\\tune9\\best_hyperparameters.yaml\u001b[0m'\n",
      "\n",
      "lr0: 0.00542\n",
      "lrf: 0.00964\n",
      "momentum: 0.83874\n",
      "weight_decay: 0.00056\n",
      "warmup_epochs: 2.77706\n",
      "warmup_momentum: 0.61631\n",
      "box: 5.50977\n",
      "cls: 0.30246\n",
      "dfl: 1.74363\n",
      "hsv_h: 0.00581\n",
      "hsv_s: 0.9\n",
      "hsv_v: 0.44514\n",
      "degrees: 0.0\n",
      "translate: 0.04832\n",
      "scale: 0.63506\n",
      "shear: 0.0\n",
      "perspective: 0.0\n",
      "flipud: 0.0\n",
      "fliplr: 0.28929\n",
      "bgr: 0.0\n",
      "mosaic: 0.64054\n",
      "mixup: 0.0\n",
      "copy_paste: 0.0\n",
      "\n",
      "\u001b[34m\u001b[1mTuner: \u001b[0mStarting iteration 63/100 with hyperparameters: {'lr0': 0.00577, 'lrf': 0.01002, 'momentum': 0.85018, 'weight_decay': 0.00044, 'warmup_epochs': 2.27792, 'warmup_momentum': 0.62419, 'box': 5.36629, 'cls': 0.36052, 'dfl': 1.70941, 'hsv_h': 0.00682, 'hsv_s': 0.9, 'hsv_v': 0.46405, 'degrees': 0.0, 'translate': 0.04682, 'scale': 0.6941, 'shear': 0.0, 'perspective': 0.0, 'flipud': 0.0, 'fliplr': 0.22424, 'bgr': 0.0, 'mosaic': 0.69285, 'mixup': 0.0, 'copy_paste': 0.0}\n",
      "Saved ..\\..\\runs\\tune9\\tune_scatter_plots.png\n",
      "Saved ..\\..\\runs\\tune9\\tune_fitness.png\n",
      "\n",
      "\u001b[34m\u001b[1mTuner: \u001b[0m63/100 iterations complete  (9194.61s)\n",
      "\u001b[34m\u001b[1mTuner: \u001b[0mResults saved to \u001b[1m..\\..\\runs\\tune9\u001b[0m\n",
      "\u001b[34m\u001b[1mTuner: \u001b[0mBest fitness=0.47747 observed at iteration 52\n",
      "\u001b[34m\u001b[1mTuner: \u001b[0mBest fitness metrics are {'metrics/precision(B)': 0.79895, 'metrics/recall(B)': 0.6875, 'metrics/mAP50(B)': 0.76466, 'metrics/mAP50-95(B)': 0.44556, 'val/box_loss': 1.04264, 'val/cls_loss': 0.52654, 'val/dfl_loss': 1.23983, 'fitness': 0.47747}\n",
      "\u001b[34m\u001b[1mTuner: \u001b[0mBest fitness model is ..\\..\\runs\\yolov8m_hyp_finetune53\n",
      "\u001b[34m\u001b[1mTuner: \u001b[0mBest fitness hyperparameters are printed below.\n",
      "\n",
      "Printing '\u001b[1m\u001b[30m..\\..\\runs\\tune9\\best_hyperparameters.yaml\u001b[0m'\n",
      "\n",
      "lr0: 0.00542\n",
      "lrf: 0.00964\n",
      "momentum: 0.83874\n",
      "weight_decay: 0.00056\n",
      "warmup_epochs: 2.77706\n",
      "warmup_momentum: 0.61631\n",
      "box: 5.50977\n",
      "cls: 0.30246\n",
      "dfl: 1.74363\n",
      "hsv_h: 0.00581\n",
      "hsv_s: 0.9\n",
      "hsv_v: 0.44514\n",
      "degrees: 0.0\n",
      "translate: 0.04832\n",
      "scale: 0.63506\n",
      "shear: 0.0\n",
      "perspective: 0.0\n",
      "flipud: 0.0\n",
      "fliplr: 0.28929\n",
      "bgr: 0.0\n",
      "mosaic: 0.64054\n",
      "mixup: 0.0\n",
      "copy_paste: 0.0\n",
      "\n",
      "\u001b[34m\u001b[1mTuner: \u001b[0mStarting iteration 64/100 with hyperparameters: {'lr0': 0.00519, 'lrf': 0.00977, 'momentum': 0.84374, 'weight_decay': 0.00042, 'warmup_epochs': 2.72269, 'warmup_momentum': 0.63055, 'box': 5.37438, 'cls': 0.35769, 'dfl': 1.64725, 'hsv_h': 0.00708, 'hsv_s': 0.9, 'hsv_v': 0.40831, 'degrees': 0.0, 'translate': 0.04832, 'scale': 0.55467, 'shear': 0.0, 'perspective': 0.0, 'flipud': 0.0, 'fliplr': 0.1822, 'bgr': 0.0, 'mosaic': 0.64054, 'mixup': 0.0, 'copy_paste': 0.0}\n",
      "Saved ..\\..\\runs\\tune9\\tune_scatter_plots.png\n",
      "Saved ..\\..\\runs\\tune9\\tune_fitness.png\n",
      "\n",
      "\u001b[34m\u001b[1mTuner: \u001b[0m64/100 iterations complete  (9334.90s)\n",
      "\u001b[34m\u001b[1mTuner: \u001b[0mResults saved to \u001b[1m..\\..\\runs\\tune9\u001b[0m\n",
      "\u001b[34m\u001b[1mTuner: \u001b[0mBest fitness=0.47762 observed at iteration 64\n",
      "\u001b[34m\u001b[1mTuner: \u001b[0mBest fitness metrics are {'metrics/precision(B)': 0.828, 'metrics/recall(B)': 0.67697, 'metrics/mAP50(B)': 0.75889, 'metrics/mAP50-95(B)': 0.44636, 'val/box_loss': 1.00217, 'val/cls_loss': 0.58883, 'val/dfl_loss': 1.1843, 'fitness': 0.47762}\n",
      "\u001b[34m\u001b[1mTuner: \u001b[0mBest fitness model is ..\\..\\runs\\yolov8m_hyp_finetune65\n",
      "\u001b[34m\u001b[1mTuner: \u001b[0mBest fitness hyperparameters are printed below.\n",
      "\n",
      "Printing '\u001b[1m\u001b[30m..\\..\\runs\\tune9\\best_hyperparameters.yaml\u001b[0m'\n",
      "\n",
      "lr0: 0.00519\n",
      "lrf: 0.00977\n",
      "momentum: 0.84374\n",
      "weight_decay: 0.00042\n",
      "warmup_epochs: 2.72269\n",
      "warmup_momentum: 0.63055\n",
      "box: 5.37438\n",
      "cls: 0.35769\n",
      "dfl: 1.64725\n",
      "hsv_h: 0.00708\n",
      "hsv_s: 0.9\n",
      "hsv_v: 0.40831\n",
      "degrees: 0.0\n",
      "translate: 0.04832\n",
      "scale: 0.55467\n",
      "shear: 0.0\n",
      "perspective: 0.0\n",
      "flipud: 0.0\n",
      "fliplr: 0.1822\n",
      "bgr: 0.0\n",
      "mosaic: 0.64054\n",
      "mixup: 0.0\n",
      "copy_paste: 0.0\n",
      "\n",
      "\u001b[34m\u001b[1mTuner: \u001b[0mStarting iteration 65/100 with hyperparameters: {'lr0': 0.00516, 'lrf': 0.00907, 'momentum': 0.86043, 'weight_decay': 0.00043, 'warmup_epochs': 2.72269, 'warmup_momentum': 0.62999, 'box': 5.21585, 'cls': 0.35378, 'dfl': 1.98038, 'hsv_h': 0.00639, 'hsv_s': 0.9, 'hsv_v': 0.41024, 'degrees': 0.0, 'translate': 0.05061, 'scale': 0.55467, 'shear': 0.0, 'perspective': 0.0, 'flipud': 0.0, 'fliplr': 0.18378, 'bgr': 0.0, 'mosaic': 0.64711, 'mixup': 0.0, 'copy_paste': 0.0}\n",
      "Saved ..\\..\\runs\\tune9\\tune_scatter_plots.png\n",
      "Saved ..\\..\\runs\\tune9\\tune_fitness.png\n",
      "\n",
      "\u001b[34m\u001b[1mTuner: \u001b[0m65/100 iterations complete  (9473.53s)\n",
      "\u001b[34m\u001b[1mTuner: \u001b[0mResults saved to \u001b[1m..\\..\\runs\\tune9\u001b[0m\n",
      "\u001b[34m\u001b[1mTuner: \u001b[0mBest fitness=0.47967 observed at iteration 65\n",
      "\u001b[34m\u001b[1mTuner: \u001b[0mBest fitness metrics are {'metrics/precision(B)': 0.82859, 'metrics/recall(B)': 0.68229, 'metrics/mAP50(B)': 0.77905, 'metrics/mAP50-95(B)': 0.44641, 'val/box_loss': 0.99445, 'val/cls_loss': 0.58979, 'val/dfl_loss': 1.39162, 'fitness': 0.47967}\n",
      "\u001b[34m\u001b[1mTuner: \u001b[0mBest fitness model is ..\\..\\runs\\yolov8m_hyp_finetune66\n",
      "\u001b[34m\u001b[1mTuner: \u001b[0mBest fitness hyperparameters are printed below.\n",
      "\n",
      "Printing '\u001b[1m\u001b[30m..\\..\\runs\\tune9\\best_hyperparameters.yaml\u001b[0m'\n",
      "\n",
      "lr0: 0.00516\n",
      "lrf: 0.00907\n",
      "momentum: 0.86043\n",
      "weight_decay: 0.00043\n",
      "warmup_epochs: 2.72269\n",
      "warmup_momentum: 0.62999\n",
      "box: 5.21585\n",
      "cls: 0.35378\n",
      "dfl: 1.98038\n",
      "hsv_h: 0.00639\n",
      "hsv_s: 0.9\n",
      "hsv_v: 0.41024\n",
      "degrees: 0.0\n",
      "translate: 0.05061\n",
      "scale: 0.55467\n",
      "shear: 0.0\n",
      "perspective: 0.0\n",
      "flipud: 0.0\n",
      "fliplr: 0.18378\n",
      "bgr: 0.0\n",
      "mosaic: 0.64711\n",
      "mixup: 0.0\n",
      "copy_paste: 0.0\n",
      "\n",
      "\u001b[34m\u001b[1mTuner: \u001b[0mStarting iteration 66/100 with hyperparameters: {'lr0': 0.00542, 'lrf': 0.00976, 'momentum': 0.82127, 'weight_decay': 0.00057, 'warmup_epochs': 2.77706, 'warmup_momentum': 0.59835, 'box': 5.50977, 'cls': 0.31595, 'dfl': 1.87282, 'hsv_h': 0.00581, 'hsv_s': 0.9, 'hsv_v': 0.45387, 'degrees': 0.0, 'translate': 0.0472, 'scale': 0.63506, 'shear': 0.0, 'perspective': 0.0, 'flipud': 0.0, 'fliplr': 0.28929, 'bgr': 0.0, 'mosaic': 0.6434, 'mixup': 0.0, 'copy_paste': 0.0}\n",
      "Saved ..\\..\\runs\\tune9\\tune_scatter_plots.png\n",
      "Saved ..\\..\\runs\\tune9\\tune_fitness.png\n",
      "\n",
      "\u001b[34m\u001b[1mTuner: \u001b[0m66/100 iterations complete  (9610.43s)\n",
      "\u001b[34m\u001b[1mTuner: \u001b[0mResults saved to \u001b[1m..\\..\\runs\\tune9\u001b[0m\n",
      "\u001b[34m\u001b[1mTuner: \u001b[0mBest fitness=0.47967 observed at iteration 65\n",
      "\u001b[34m\u001b[1mTuner: \u001b[0mBest fitness metrics are {'metrics/precision(B)': 0.82859, 'metrics/recall(B)': 0.68229, 'metrics/mAP50(B)': 0.77905, 'metrics/mAP50-95(B)': 0.44641, 'val/box_loss': 0.99445, 'val/cls_loss': 0.58979, 'val/dfl_loss': 1.39162, 'fitness': 0.47967}\n",
      "\u001b[34m\u001b[1mTuner: \u001b[0mBest fitness model is ..\\..\\runs\\yolov8m_hyp_finetune66\n",
      "\u001b[34m\u001b[1mTuner: \u001b[0mBest fitness hyperparameters are printed below.\n",
      "\n",
      "Printing '\u001b[1m\u001b[30m..\\..\\runs\\tune9\\best_hyperparameters.yaml\u001b[0m'\n",
      "\n",
      "lr0: 0.00516\n",
      "lrf: 0.00907\n",
      "momentum: 0.86043\n",
      "weight_decay: 0.00043\n",
      "warmup_epochs: 2.72269\n",
      "warmup_momentum: 0.62999\n",
      "box: 5.21585\n",
      "cls: 0.35378\n",
      "dfl: 1.98038\n",
      "hsv_h: 0.00639\n",
      "hsv_s: 0.9\n",
      "hsv_v: 0.41024\n",
      "degrees: 0.0\n",
      "translate: 0.05061\n",
      "scale: 0.55467\n",
      "shear: 0.0\n",
      "perspective: 0.0\n",
      "flipud: 0.0\n",
      "fliplr: 0.18378\n",
      "bgr: 0.0\n",
      "mosaic: 0.64711\n",
      "mixup: 0.0\n",
      "copy_paste: 0.0\n",
      "\n",
      "\u001b[34m\u001b[1mTuner: \u001b[0mStarting iteration 67/100 with hyperparameters: {'lr0': 0.00542, 'lrf': 0.01109, 'momentum': 0.80854, 'weight_decay': 0.00052, 'warmup_epochs': 2.81034, 'warmup_momentum': 0.64333, 'box': 5.74936, 'cls': 0.30246, 'dfl': 1.74363, 'hsv_h': 0.00502, 'hsv_s': 0.9, 'hsv_v': 0.44514, 'degrees': 0.0, 'translate': 0.04745, 'scale': 0.63506, 'shear': 0.0, 'perspective': 0.0, 'flipud': 0.0, 'fliplr': 0.29309, 'bgr': 0.0, 'mosaic': 0.64635, 'mixup': 0.0, 'copy_paste': 0.0}\n",
      "Saved ..\\..\\runs\\tune9\\tune_scatter_plots.png\n",
      "Saved ..\\..\\runs\\tune9\\tune_fitness.png\n",
      "\n",
      "\u001b[34m\u001b[1mTuner: \u001b[0m67/100 iterations complete  (9747.53s)\n",
      "\u001b[34m\u001b[1mTuner: \u001b[0mResults saved to \u001b[1m..\\..\\runs\\tune9\u001b[0m\n",
      "\u001b[34m\u001b[1mTuner: \u001b[0mBest fitness=0.47967 observed at iteration 65\n",
      "\u001b[34m\u001b[1mTuner: \u001b[0mBest fitness metrics are {'metrics/precision(B)': 0.82859, 'metrics/recall(B)': 0.68229, 'metrics/mAP50(B)': 0.77905, 'metrics/mAP50-95(B)': 0.44641, 'val/box_loss': 0.99445, 'val/cls_loss': 0.58979, 'val/dfl_loss': 1.39162, 'fitness': 0.47967}\n",
      "\u001b[34m\u001b[1mTuner: \u001b[0mBest fitness model is ..\\..\\runs\\yolov8m_hyp_finetune66\n",
      "\u001b[34m\u001b[1mTuner: \u001b[0mBest fitness hyperparameters are printed below.\n",
      "\n",
      "Printing '\u001b[1m\u001b[30m..\\..\\runs\\tune9\\best_hyperparameters.yaml\u001b[0m'\n",
      "\n",
      "lr0: 0.00516\n",
      "lrf: 0.00907\n",
      "momentum: 0.86043\n",
      "weight_decay: 0.00043\n",
      "warmup_epochs: 2.72269\n",
      "warmup_momentum: 0.62999\n",
      "box: 5.21585\n",
      "cls: 0.35378\n",
      "dfl: 1.98038\n",
      "hsv_h: 0.00639\n",
      "hsv_s: 0.9\n",
      "hsv_v: 0.41024\n",
      "degrees: 0.0\n",
      "translate: 0.05061\n",
      "scale: 0.55467\n",
      "shear: 0.0\n",
      "perspective: 0.0\n",
      "flipud: 0.0\n",
      "fliplr: 0.18378\n",
      "bgr: 0.0\n",
      "mosaic: 0.64711\n",
      "mixup: 0.0\n",
      "copy_paste: 0.0\n",
      "\n",
      "\u001b[34m\u001b[1mTuner: \u001b[0mStarting iteration 68/100 with hyperparameters: {'lr0': 0.00497, 'lrf': 0.01001, 'momentum': 0.85869, 'weight_decay': 0.00042, 'warmup_epochs': 2.60365, 'warmup_momentum': 0.595, 'box': 5.91235, 'cls': 0.37079, 'dfl': 1.77267, 'hsv_h': 0.00677, 'hsv_s': 0.88952, 'hsv_v': 0.47161, 'degrees': 0.0, 'translate': 0.05208, 'scale': 0.62306, 'shear': 0.0, 'perspective': 0.0, 'flipud': 0.0, 'fliplr': 0.18989, 'bgr': 0.0, 'mosaic': 0.64054, 'mixup': 0.0, 'copy_paste': 0.0}\n",
      "Saved ..\\..\\runs\\tune9\\tune_scatter_plots.png\n",
      "Saved ..\\..\\runs\\tune9\\tune_fitness.png\n",
      "\n",
      "\u001b[34m\u001b[1mTuner: \u001b[0m68/100 iterations complete  (9888.61s)\n",
      "\u001b[34m\u001b[1mTuner: \u001b[0mResults saved to \u001b[1m..\\..\\runs\\tune9\u001b[0m\n",
      "\u001b[34m\u001b[1mTuner: \u001b[0mBest fitness=0.49185 observed at iteration 68\n",
      "\u001b[34m\u001b[1mTuner: \u001b[0mBest fitness metrics are {'metrics/precision(B)': 0.8311, 'metrics/recall(B)': 0.69197, 'metrics/mAP50(B)': 0.77064, 'metrics/mAP50-95(B)': 0.46088, 'val/box_loss': 1.0786, 'val/cls_loss': 0.60675, 'val/dfl_loss': 1.2346, 'fitness': 0.49185}\n",
      "\u001b[34m\u001b[1mTuner: \u001b[0mBest fitness model is ..\\..\\runs\\yolov8m_hyp_finetune69\n",
      "\u001b[34m\u001b[1mTuner: \u001b[0mBest fitness hyperparameters are printed below.\n",
      "\n",
      "Printing '\u001b[1m\u001b[30m..\\..\\runs\\tune9\\best_hyperparameters.yaml\u001b[0m'\n",
      "\n",
      "lr0: 0.00497\n",
      "lrf: 0.01001\n",
      "momentum: 0.85869\n",
      "weight_decay: 0.00042\n",
      "warmup_epochs: 2.60365\n",
      "warmup_momentum: 0.595\n",
      "box: 5.91235\n",
      "cls: 0.37079\n",
      "dfl: 1.77267\n",
      "hsv_h: 0.00677\n",
      "hsv_s: 0.88952\n",
      "hsv_v: 0.47161\n",
      "degrees: 0.0\n",
      "translate: 0.05208\n",
      "scale: 0.62306\n",
      "shear: 0.0\n",
      "perspective: 0.0\n",
      "flipud: 0.0\n",
      "fliplr: 0.18989\n",
      "bgr: 0.0\n",
      "mosaic: 0.64054\n",
      "mixup: 0.0\n",
      "copy_paste: 0.0\n",
      "\n",
      "\u001b[34m\u001b[1mTuner: \u001b[0mStarting iteration 69/100 with hyperparameters: {'lr0': 0.00495, 'lrf': 0.01003, 'momentum': 0.86335, 'weight_decay': 0.00042, 'warmup_epochs': 2.62839, 'warmup_momentum': 0.58865, 'box': 5.91784, 'cls': 0.37884, 'dfl': 1.77267, 'hsv_h': 0.00667, 'hsv_s': 0.88952, 'hsv_v': 0.47218, 'degrees': 0.0, 'translate': 0.05206, 'scale': 0.61674, 'shear': 0.0, 'perspective': 0.0, 'flipud': 0.0, 'fliplr': 0.18989, 'bgr': 0.0, 'mosaic': 0.63499, 'mixup': 0.0, 'copy_paste': 0.0}\n",
      "Saved ..\\..\\runs\\tune9\\tune_scatter_plots.png\n",
      "Saved ..\\..\\runs\\tune9\\tune_fitness.png\n",
      "\n",
      "\u001b[34m\u001b[1mTuner: \u001b[0m69/100 iterations complete  (10026.86s)\n",
      "\u001b[34m\u001b[1mTuner: \u001b[0mResults saved to \u001b[1m..\\..\\runs\\tune9\u001b[0m\n",
      "\u001b[34m\u001b[1mTuner: \u001b[0mBest fitness=0.49185 observed at iteration 68\n",
      "\u001b[34m\u001b[1mTuner: \u001b[0mBest fitness metrics are {'metrics/precision(B)': 0.8311, 'metrics/recall(B)': 0.69197, 'metrics/mAP50(B)': 0.77064, 'metrics/mAP50-95(B)': 0.46088, 'val/box_loss': 1.0786, 'val/cls_loss': 0.60675, 'val/dfl_loss': 1.2346, 'fitness': 0.49185}\n",
      "\u001b[34m\u001b[1mTuner: \u001b[0mBest fitness model is ..\\..\\runs\\yolov8m_hyp_finetune69\n",
      "\u001b[34m\u001b[1mTuner: \u001b[0mBest fitness hyperparameters are printed below.\n",
      "\n",
      "Printing '\u001b[1m\u001b[30m..\\..\\runs\\tune9\\best_hyperparameters.yaml\u001b[0m'\n",
      "\n",
      "lr0: 0.00497\n",
      "lrf: 0.01001\n",
      "momentum: 0.85869\n",
      "weight_decay: 0.00042\n",
      "warmup_epochs: 2.60365\n",
      "warmup_momentum: 0.595\n",
      "box: 5.91235\n",
      "cls: 0.37079\n",
      "dfl: 1.77267\n",
      "hsv_h: 0.00677\n",
      "hsv_s: 0.88952\n",
      "hsv_v: 0.47161\n",
      "degrees: 0.0\n",
      "translate: 0.05208\n",
      "scale: 0.62306\n",
      "shear: 0.0\n",
      "perspective: 0.0\n",
      "flipud: 0.0\n",
      "fliplr: 0.18989\n",
      "bgr: 0.0\n",
      "mosaic: 0.64054\n",
      "mixup: 0.0\n",
      "copy_paste: 0.0\n",
      "\n",
      "\u001b[34m\u001b[1mTuner: \u001b[0mStarting iteration 70/100 with hyperparameters: {'lr0': 0.005, 'lrf': 0.01001, 'momentum': 0.85639, 'weight_decay': 0.00042, 'warmup_epochs': 2.73057, 'warmup_momentum': 0.58433, 'box': 5.68453, 'cls': 0.36772, 'dfl': 1.76424, 'hsv_h': 0.00663, 'hsv_s': 0.9, 'hsv_v': 0.47161, 'degrees': 0.0, 'translate': 0.05283, 'scale': 0.65859, 'shear': 0.0, 'perspective': 0.0, 'flipud': 0.0, 'fliplr': 0.19406, 'bgr': 0.0, 'mosaic': 0.65657, 'mixup': 0.0, 'copy_paste': 0.0}\n",
      "Saved ..\\..\\runs\\tune9\\tune_scatter_plots.png\n",
      "Saved ..\\..\\runs\\tune9\\tune_fitness.png\n",
      "\n",
      "\u001b[34m\u001b[1mTuner: \u001b[0m70/100 iterations complete  (10167.32s)\n",
      "\u001b[34m\u001b[1mTuner: \u001b[0mResults saved to \u001b[1m..\\..\\runs\\tune9\u001b[0m\n",
      "\u001b[34m\u001b[1mTuner: \u001b[0mBest fitness=0.49185 observed at iteration 68\n",
      "\u001b[34m\u001b[1mTuner: \u001b[0mBest fitness metrics are {'metrics/precision(B)': 0.8311, 'metrics/recall(B)': 0.69197, 'metrics/mAP50(B)': 0.77064, 'metrics/mAP50-95(B)': 0.46088, 'val/box_loss': 1.0786, 'val/cls_loss': 0.60675, 'val/dfl_loss': 1.2346, 'fitness': 0.49185}\n",
      "\u001b[34m\u001b[1mTuner: \u001b[0mBest fitness model is ..\\..\\runs\\yolov8m_hyp_finetune69\n",
      "\u001b[34m\u001b[1mTuner: \u001b[0mBest fitness hyperparameters are printed below.\n",
      "\n",
      "Printing '\u001b[1m\u001b[30m..\\..\\runs\\tune9\\best_hyperparameters.yaml\u001b[0m'\n",
      "\n",
      "lr0: 0.00497\n",
      "lrf: 0.01001\n",
      "momentum: 0.85869\n",
      "weight_decay: 0.00042\n",
      "warmup_epochs: 2.60365\n",
      "warmup_momentum: 0.595\n",
      "box: 5.91235\n",
      "cls: 0.37079\n",
      "dfl: 1.77267\n",
      "hsv_h: 0.00677\n",
      "hsv_s: 0.88952\n",
      "hsv_v: 0.47161\n",
      "degrees: 0.0\n",
      "translate: 0.05208\n",
      "scale: 0.62306\n",
      "shear: 0.0\n",
      "perspective: 0.0\n",
      "flipud: 0.0\n",
      "fliplr: 0.18989\n",
      "bgr: 0.0\n",
      "mosaic: 0.64054\n",
      "mixup: 0.0\n",
      "copy_paste: 0.0\n",
      "\n",
      "\u001b[34m\u001b[1mTuner: \u001b[0mStarting iteration 71/100 with hyperparameters: {'lr0': 0.00415, 'lrf': 0.01079, 'momentum': 0.75334, 'weight_decay': 0.0005, 'warmup_epochs': 3.46683, 'warmup_momentum': 0.59051, 'box': 5.91235, 'cls': 0.37079, 'dfl': 1.46487, 'hsv_h': 0.00782, 'hsv_s': 0.6949, 'hsv_v': 0.49125, 'degrees': 0.0, 'translate': 0.05012, 'scale': 0.60105, 'shear': 0.0, 'perspective': 0.0, 'flipud': 0.0, 'fliplr': 0.16357, 'bgr': 0.0, 'mosaic': 0.71185, 'mixup': 0.0, 'copy_paste': 0.0}\n",
      "Saved ..\\..\\runs\\tune9\\tune_scatter_plots.png\n",
      "Saved ..\\..\\runs\\tune9\\tune_fitness.png\n",
      "\n",
      "\u001b[34m\u001b[1mTuner: \u001b[0m71/100 iterations complete  (10313.38s)\n",
      "\u001b[34m\u001b[1mTuner: \u001b[0mResults saved to \u001b[1m..\\..\\runs\\tune9\u001b[0m\n",
      "\u001b[34m\u001b[1mTuner: \u001b[0mBest fitness=0.49185 observed at iteration 68\n",
      "\u001b[34m\u001b[1mTuner: \u001b[0mBest fitness metrics are {'metrics/precision(B)': 0.8311, 'metrics/recall(B)': 0.69197, 'metrics/mAP50(B)': 0.77064, 'metrics/mAP50-95(B)': 0.46088, 'val/box_loss': 1.0786, 'val/cls_loss': 0.60675, 'val/dfl_loss': 1.2346, 'fitness': 0.49185}\n",
      "\u001b[34m\u001b[1mTuner: \u001b[0mBest fitness model is ..\\..\\runs\\yolov8m_hyp_finetune69\n",
      "\u001b[34m\u001b[1mTuner: \u001b[0mBest fitness hyperparameters are printed below.\n",
      "\n",
      "Printing '\u001b[1m\u001b[30m..\\..\\runs\\tune9\\best_hyperparameters.yaml\u001b[0m'\n",
      "\n",
      "lr0: 0.00497\n",
      "lrf: 0.01001\n",
      "momentum: 0.85869\n",
      "weight_decay: 0.00042\n",
      "warmup_epochs: 2.60365\n",
      "warmup_momentum: 0.595\n",
      "box: 5.91235\n",
      "cls: 0.37079\n",
      "dfl: 1.77267\n",
      "hsv_h: 0.00677\n",
      "hsv_s: 0.88952\n",
      "hsv_v: 0.47161\n",
      "degrees: 0.0\n",
      "translate: 0.05208\n",
      "scale: 0.62306\n",
      "shear: 0.0\n",
      "perspective: 0.0\n",
      "flipud: 0.0\n",
      "fliplr: 0.18989\n",
      "bgr: 0.0\n",
      "mosaic: 0.64054\n",
      "mixup: 0.0\n",
      "copy_paste: 0.0\n",
      "\n",
      "\u001b[34m\u001b[1mTuner: \u001b[0mStarting iteration 72/100 with hyperparameters: {'lr0': 0.00497, 'lrf': 0.01001, 'momentum': 0.85869, 'weight_decay': 0.00042, 'warmup_epochs': 2.62853, 'warmup_momentum': 0.595, 'box': 5.94499, 'cls': 0.35696, 'dfl': 1.7751, 'hsv_h': 0.00683, 'hsv_s': 0.88784, 'hsv_v': 0.43518, 'degrees': 0.0, 'translate': 0.05213, 'scale': 0.64328, 'shear': 0.0, 'perspective': 0.0, 'flipud': 0.0, 'fliplr': 0.19362, 'bgr': 0.0, 'mosaic': 0.63112, 'mixup': 0.0, 'copy_paste': 0.0}\n",
      "Saved ..\\..\\runs\\tune9\\tune_scatter_plots.png\n",
      "Saved ..\\..\\runs\\tune9\\tune_fitness.png\n",
      "\n",
      "\u001b[34m\u001b[1mTuner: \u001b[0m72/100 iterations complete  (10459.14s)\n",
      "\u001b[34m\u001b[1mTuner: \u001b[0mResults saved to \u001b[1m..\\..\\runs\\tune9\u001b[0m\n",
      "\u001b[34m\u001b[1mTuner: \u001b[0mBest fitness=0.49185 observed at iteration 68\n",
      "\u001b[34m\u001b[1mTuner: \u001b[0mBest fitness metrics are {'metrics/precision(B)': 0.8311, 'metrics/recall(B)': 0.69197, 'metrics/mAP50(B)': 0.77064, 'metrics/mAP50-95(B)': 0.46088, 'val/box_loss': 1.0786, 'val/cls_loss': 0.60675, 'val/dfl_loss': 1.2346, 'fitness': 0.49185}\n",
      "\u001b[34m\u001b[1mTuner: \u001b[0mBest fitness model is ..\\..\\runs\\yolov8m_hyp_finetune69\n",
      "\u001b[34m\u001b[1mTuner: \u001b[0mBest fitness hyperparameters are printed below.\n",
      "\n",
      "Printing '\u001b[1m\u001b[30m..\\..\\runs\\tune9\\best_hyperparameters.yaml\u001b[0m'\n",
      "\n",
      "lr0: 0.00497\n",
      "lrf: 0.01001\n",
      "momentum: 0.85869\n",
      "weight_decay: 0.00042\n",
      "warmup_epochs: 2.60365\n",
      "warmup_momentum: 0.595\n",
      "box: 5.91235\n",
      "cls: 0.37079\n",
      "dfl: 1.77267\n",
      "hsv_h: 0.00677\n",
      "hsv_s: 0.88952\n",
      "hsv_v: 0.47161\n",
      "degrees: 0.0\n",
      "translate: 0.05208\n",
      "scale: 0.62306\n",
      "shear: 0.0\n",
      "perspective: 0.0\n",
      "flipud: 0.0\n",
      "fliplr: 0.18989\n",
      "bgr: 0.0\n",
      "mosaic: 0.64054\n",
      "mixup: 0.0\n",
      "copy_paste: 0.0\n",
      "\n",
      "\u001b[34m\u001b[1mTuner: \u001b[0mStarting iteration 73/100 with hyperparameters: {'lr0': 0.00578, 'lrf': 0.01001, 'momentum': 0.8465, 'weight_decay': 0.00046, 'warmup_epochs': 2.43757, 'warmup_momentum': 0.59247, 'box': 4.46967, 'cls': 0.32505, 'dfl': 1.80381, 'hsv_h': 0.0061, 'hsv_s': 0.85784, 'hsv_v': 0.46996, 'degrees': 0.0, 'translate': 0.05648, 'scale': 0.69334, 'shear': 0.0, 'perspective': 0.0, 'flipud': 0.0, 'fliplr': 0.18531, 'bgr': 0.0, 'mosaic': 0.61688, 'mixup': 0.0, 'copy_paste': 0.0}\n",
      "Saved ..\\..\\runs\\tune9\\tune_scatter_plots.png\n",
      "Saved ..\\..\\runs\\tune9\\tune_fitness.png\n",
      "\n",
      "\u001b[34m\u001b[1mTuner: \u001b[0m73/100 iterations complete  (10603.54s)\n",
      "\u001b[34m\u001b[1mTuner: \u001b[0mResults saved to \u001b[1m..\\..\\runs\\tune9\u001b[0m\n",
      "\u001b[34m\u001b[1mTuner: \u001b[0mBest fitness=0.49185 observed at iteration 68\n",
      "\u001b[34m\u001b[1mTuner: \u001b[0mBest fitness metrics are {'metrics/precision(B)': 0.8311, 'metrics/recall(B)': 0.69197, 'metrics/mAP50(B)': 0.77064, 'metrics/mAP50-95(B)': 0.46088, 'val/box_loss': 1.0786, 'val/cls_loss': 0.60675, 'val/dfl_loss': 1.2346, 'fitness': 0.49185}\n",
      "\u001b[34m\u001b[1mTuner: \u001b[0mBest fitness model is ..\\..\\runs\\yolov8m_hyp_finetune69\n",
      "\u001b[34m\u001b[1mTuner: \u001b[0mBest fitness hyperparameters are printed below.\n",
      "\n",
      "Printing '\u001b[1m\u001b[30m..\\..\\runs\\tune9\\best_hyperparameters.yaml\u001b[0m'\n",
      "\n",
      "lr0: 0.00497\n",
      "lrf: 0.01001\n",
      "momentum: 0.85869\n",
      "weight_decay: 0.00042\n",
      "warmup_epochs: 2.60365\n",
      "warmup_momentum: 0.595\n",
      "box: 5.91235\n",
      "cls: 0.37079\n",
      "dfl: 1.77267\n",
      "hsv_h: 0.00677\n",
      "hsv_s: 0.88952\n",
      "hsv_v: 0.47161\n",
      "degrees: 0.0\n",
      "translate: 0.05208\n",
      "scale: 0.62306\n",
      "shear: 0.0\n",
      "perspective: 0.0\n",
      "flipud: 0.0\n",
      "fliplr: 0.18989\n",
      "bgr: 0.0\n",
      "mosaic: 0.64054\n",
      "mixup: 0.0\n",
      "copy_paste: 0.0\n",
      "\n",
      "\u001b[34m\u001b[1mTuner: \u001b[0mStarting iteration 74/100 with hyperparameters: {'lr0': 0.00504, 'lrf': 0.00914, 'momentum': 0.85904, 'weight_decay': 0.00042, 'warmup_epochs': 2.73872, 'warmup_momentum': 0.59551, 'box': 6.21432, 'cls': 0.41374, 'dfl': 1.80442, 'hsv_h': 0.00701, 'hsv_s': 0.79276, 'hsv_v': 0.47161, 'degrees': 0.0, 'translate': 0.05343, 'scale': 0.6322, 'shear': 0.0, 'perspective': 0.0, 'flipud': 0.0, 'fliplr': 0.18659, 'bgr': 0.0, 'mosaic': 0.64054, 'mixup': 0.0, 'copy_paste': 0.0}\n",
      "Saved ..\\..\\runs\\tune9\\tune_scatter_plots.png\n",
      "Saved ..\\..\\runs\\tune9\\tune_fitness.png\n",
      "\n",
      "\u001b[34m\u001b[1mTuner: \u001b[0m74/100 iterations complete  (10749.21s)\n",
      "\u001b[34m\u001b[1mTuner: \u001b[0mResults saved to \u001b[1m..\\..\\runs\\tune9\u001b[0m\n",
      "\u001b[34m\u001b[1mTuner: \u001b[0mBest fitness=0.49185 observed at iteration 68\n",
      "\u001b[34m\u001b[1mTuner: \u001b[0mBest fitness metrics are {'metrics/precision(B)': 0.8311, 'metrics/recall(B)': 0.69197, 'metrics/mAP50(B)': 0.77064, 'metrics/mAP50-95(B)': 0.46088, 'val/box_loss': 1.0786, 'val/cls_loss': 0.60675, 'val/dfl_loss': 1.2346, 'fitness': 0.49185}\n",
      "\u001b[34m\u001b[1mTuner: \u001b[0mBest fitness model is ..\\..\\runs\\yolov8m_hyp_finetune69\n",
      "\u001b[34m\u001b[1mTuner: \u001b[0mBest fitness hyperparameters are printed below.\n",
      "\n",
      "Printing '\u001b[1m\u001b[30m..\\..\\runs\\tune9\\best_hyperparameters.yaml\u001b[0m'\n",
      "\n",
      "lr0: 0.00497\n",
      "lrf: 0.01001\n",
      "momentum: 0.85869\n",
      "weight_decay: 0.00042\n",
      "warmup_epochs: 2.60365\n",
      "warmup_momentum: 0.595\n",
      "box: 5.91235\n",
      "cls: 0.37079\n",
      "dfl: 1.77267\n",
      "hsv_h: 0.00677\n",
      "hsv_s: 0.88952\n",
      "hsv_v: 0.47161\n",
      "degrees: 0.0\n",
      "translate: 0.05208\n",
      "scale: 0.62306\n",
      "shear: 0.0\n",
      "perspective: 0.0\n",
      "flipud: 0.0\n",
      "fliplr: 0.18989\n",
      "bgr: 0.0\n",
      "mosaic: 0.64054\n",
      "mixup: 0.0\n",
      "copy_paste: 0.0\n",
      "\n",
      "\u001b[34m\u001b[1mTuner: \u001b[0mStarting iteration 75/100 with hyperparameters: {'lr0': 0.00497, 'lrf': 0.01, 'momentum': 0.86018, 'weight_decay': 0.00042, 'warmup_epochs': 2.62634, 'warmup_momentum': 0.59465, 'box': 5.97531, 'cls': 0.37126, 'dfl': 1.79608, 'hsv_h': 0.00685, 'hsv_s': 0.88952, 'hsv_v': 0.47283, 'degrees': 0.0, 'translate': 0.05197, 'scale': 0.62306, 'shear': 0.0, 'perspective': 0.0, 'flipud': 0.0, 'fliplr': 0.18989, 'bgr': 0.0, 'mosaic': 0.63716, 'mixup': 0.0, 'copy_paste': 0.0}\n",
      "Saved ..\\..\\runs\\tune9\\tune_scatter_plots.png\n",
      "Saved ..\\..\\runs\\tune9\\tune_fitness.png\n",
      "\n",
      "\u001b[34m\u001b[1mTuner: \u001b[0m75/100 iterations complete  (10892.69s)\n",
      "\u001b[34m\u001b[1mTuner: \u001b[0mResults saved to \u001b[1m..\\..\\runs\\tune9\u001b[0m\n",
      "\u001b[34m\u001b[1mTuner: \u001b[0mBest fitness=0.4975 observed at iteration 75\n",
      "\u001b[34m\u001b[1mTuner: \u001b[0mBest fitness metrics are {'metrics/precision(B)': 0.82478, 'metrics/recall(B)': 0.69792, 'metrics/mAP50(B)': 0.78757, 'metrics/mAP50-95(B)': 0.46527, 'val/box_loss': 1.1027, 'val/cls_loss': 0.61806, 'val/dfl_loss': 1.26758, 'fitness': 0.4975}\n",
      "\u001b[34m\u001b[1mTuner: \u001b[0mBest fitness model is ..\\..\\runs\\yolov8m_hyp_finetune76\n",
      "\u001b[34m\u001b[1mTuner: \u001b[0mBest fitness hyperparameters are printed below.\n",
      "\n",
      "Printing '\u001b[1m\u001b[30m..\\..\\runs\\tune9\\best_hyperparameters.yaml\u001b[0m'\n",
      "\n",
      "lr0: 0.00497\n",
      "lrf: 0.01\n",
      "momentum: 0.86018\n",
      "weight_decay: 0.00042\n",
      "warmup_epochs: 2.62634\n",
      "warmup_momentum: 0.59465\n",
      "box: 5.97531\n",
      "cls: 0.37126\n",
      "dfl: 1.79608\n",
      "hsv_h: 0.00685\n",
      "hsv_s: 0.88952\n",
      "hsv_v: 0.47283\n",
      "degrees: 0.0\n",
      "translate: 0.05197\n",
      "scale: 0.62306\n",
      "shear: 0.0\n",
      "perspective: 0.0\n",
      "flipud: 0.0\n",
      "fliplr: 0.18989\n",
      "bgr: 0.0\n",
      "mosaic: 0.63716\n",
      "mixup: 0.0\n",
      "copy_paste: 0.0\n",
      "\n",
      "\u001b[34m\u001b[1mTuner: \u001b[0mStarting iteration 76/100 with hyperparameters: {'lr0': 0.00732, 'lrf': 0.0129, 'momentum': 0.83141, 'weight_decay': 0.00042, 'warmup_epochs': 2.04423, 'warmup_momentum': 0.59465, 'box': 6.65615, 'cls': 0.41824, 'dfl': 1.97346, 'hsv_h': 0.00474, 'hsv_s': 0.9, 'hsv_v': 0.35118, 'degrees': 0.0, 'translate': 0.06403, 'scale': 0.57128, 'shear': 0.0, 'perspective': 0.0, 'flipud': 0.0, 'fliplr': 0.169, 'bgr': 0.0, 'mosaic': 0.55865, 'mixup': 0.0, 'copy_paste': 0.0}\n",
      "Saved ..\\..\\runs\\tune9\\tune_scatter_plots.png\n",
      "Saved ..\\..\\runs\\tune9\\tune_fitness.png\n",
      "\n",
      "\u001b[34m\u001b[1mTuner: \u001b[0m76/100 iterations complete  (11034.59s)\n",
      "\u001b[34m\u001b[1mTuner: \u001b[0mResults saved to \u001b[1m..\\..\\runs\\tune9\u001b[0m\n",
      "\u001b[34m\u001b[1mTuner: \u001b[0mBest fitness=0.4975 observed at iteration 75\n",
      "\u001b[34m\u001b[1mTuner: \u001b[0mBest fitness metrics are {'metrics/precision(B)': 0.82478, 'metrics/recall(B)': 0.69792, 'metrics/mAP50(B)': 0.78757, 'metrics/mAP50-95(B)': 0.46527, 'val/box_loss': 1.1027, 'val/cls_loss': 0.61806, 'val/dfl_loss': 1.26758, 'fitness': 0.4975}\n",
      "\u001b[34m\u001b[1mTuner: \u001b[0mBest fitness model is ..\\..\\runs\\yolov8m_hyp_finetune76\n",
      "\u001b[34m\u001b[1mTuner: \u001b[0mBest fitness hyperparameters are printed below.\n",
      "\n",
      "Printing '\u001b[1m\u001b[30m..\\..\\runs\\tune9\\best_hyperparameters.yaml\u001b[0m'\n",
      "\n",
      "lr0: 0.00497\n",
      "lrf: 0.01\n",
      "momentum: 0.86018\n",
      "weight_decay: 0.00042\n",
      "warmup_epochs: 2.62634\n",
      "warmup_momentum: 0.59465\n",
      "box: 5.97531\n",
      "cls: 0.37126\n",
      "dfl: 1.79608\n",
      "hsv_h: 0.00685\n",
      "hsv_s: 0.88952\n",
      "hsv_v: 0.47283\n",
      "degrees: 0.0\n",
      "translate: 0.05197\n",
      "scale: 0.62306\n",
      "shear: 0.0\n",
      "perspective: 0.0\n",
      "flipud: 0.0\n",
      "fliplr: 0.18989\n",
      "bgr: 0.0\n",
      "mosaic: 0.63716\n",
      "mixup: 0.0\n",
      "copy_paste: 0.0\n",
      "\n",
      "\u001b[34m\u001b[1mTuner: \u001b[0mStarting iteration 77/100 with hyperparameters: {'lr0': 0.00497, 'lrf': 0.01001, 'momentum': 0.85869, 'weight_decay': 0.0005, 'warmup_epochs': 2.77203, 'warmup_momentum': 0.57172, 'box': 5.33026, 'cls': 0.31547, 'dfl': 1.56983, 'hsv_h': 0.00721, 'hsv_s': 0.88952, 'hsv_v': 0.52565, 'degrees': 0.0, 'translate': 0.04908, 'scale': 0.7147, 'shear': 0.0, 'perspective': 0.0, 'flipud': 0.0, 'fliplr': 0.16409, 'bgr': 0.0, 'mosaic': 0.63923, 'mixup': 0.0, 'copy_paste': 0.0}\n",
      "Saved ..\\..\\runs\\tune9\\tune_scatter_plots.png\n",
      "Saved ..\\..\\runs\\tune9\\tune_fitness.png\n",
      "\n",
      "\u001b[34m\u001b[1mTuner: \u001b[0m77/100 iterations complete  (11175.63s)\n",
      "\u001b[34m\u001b[1mTuner: \u001b[0mResults saved to \u001b[1m..\\..\\runs\\tune9\u001b[0m\n",
      "\u001b[34m\u001b[1mTuner: \u001b[0mBest fitness=0.4975 observed at iteration 75\n",
      "\u001b[34m\u001b[1mTuner: \u001b[0mBest fitness metrics are {'metrics/precision(B)': 0.82478, 'metrics/recall(B)': 0.69792, 'metrics/mAP50(B)': 0.78757, 'metrics/mAP50-95(B)': 0.46527, 'val/box_loss': 1.1027, 'val/cls_loss': 0.61806, 'val/dfl_loss': 1.26758, 'fitness': 0.4975}\n",
      "\u001b[34m\u001b[1mTuner: \u001b[0mBest fitness model is ..\\..\\runs\\yolov8m_hyp_finetune76\n",
      "\u001b[34m\u001b[1mTuner: \u001b[0mBest fitness hyperparameters are printed below.\n",
      "\n",
      "Printing '\u001b[1m\u001b[30m..\\..\\runs\\tune9\\best_hyperparameters.yaml\u001b[0m'\n",
      "\n",
      "lr0: 0.00497\n",
      "lrf: 0.01\n",
      "momentum: 0.86018\n",
      "weight_decay: 0.00042\n",
      "warmup_epochs: 2.62634\n",
      "warmup_momentum: 0.59465\n",
      "box: 5.97531\n",
      "cls: 0.37126\n",
      "dfl: 1.79608\n",
      "hsv_h: 0.00685\n",
      "hsv_s: 0.88952\n",
      "hsv_v: 0.47283\n",
      "degrees: 0.0\n",
      "translate: 0.05197\n",
      "scale: 0.62306\n",
      "shear: 0.0\n",
      "perspective: 0.0\n",
      "flipud: 0.0\n",
      "fliplr: 0.18989\n",
      "bgr: 0.0\n",
      "mosaic: 0.63716\n",
      "mixup: 0.0\n",
      "copy_paste: 0.0\n",
      "\n",
      "\u001b[34m\u001b[1mTuner: \u001b[0mStarting iteration 78/100 with hyperparameters: {'lr0': 0.00491, 'lrf': 0.00981, 'momentum': 0.85869, 'weight_decay': 0.00042, 'warmup_epochs': 2.60365, 'warmup_momentum': 0.57088, 'box': 5.7837, 'cls': 0.36584, 'dfl': 1.77267, 'hsv_h': 0.00675, 'hsv_s': 0.87401, 'hsv_v': 0.46448, 'degrees': 0.0, 'translate': 0.05306, 'scale': 0.62306, 'shear': 0.0, 'perspective': 0.0, 'flipud': 0.0, 'fliplr': 0.19083, 'bgr': 0.0, 'mosaic': 0.64054, 'mixup': 0.0, 'copy_paste': 0.0}\n",
      "Saved ..\\..\\runs\\tune9\\tune_scatter_plots.png\n",
      "Saved ..\\..\\runs\\tune9\\tune_fitness.png\n",
      "\n",
      "\u001b[34m\u001b[1mTuner: \u001b[0m78/100 iterations complete  (11318.06s)\n",
      "\u001b[34m\u001b[1mTuner: \u001b[0mResults saved to \u001b[1m..\\..\\runs\\tune9\u001b[0m\n",
      "\u001b[34m\u001b[1mTuner: \u001b[0mBest fitness=0.4975 observed at iteration 75\n",
      "\u001b[34m\u001b[1mTuner: \u001b[0mBest fitness metrics are {'metrics/precision(B)': 0.82478, 'metrics/recall(B)': 0.69792, 'metrics/mAP50(B)': 0.78757, 'metrics/mAP50-95(B)': 0.46527, 'val/box_loss': 1.1027, 'val/cls_loss': 0.61806, 'val/dfl_loss': 1.26758, 'fitness': 0.4975}\n",
      "\u001b[34m\u001b[1mTuner: \u001b[0mBest fitness model is ..\\..\\runs\\yolov8m_hyp_finetune76\n",
      "\u001b[34m\u001b[1mTuner: \u001b[0mBest fitness hyperparameters are printed below.\n",
      "\n",
      "Printing '\u001b[1m\u001b[30m..\\..\\runs\\tune9\\best_hyperparameters.yaml\u001b[0m'\n",
      "\n",
      "lr0: 0.00497\n",
      "lrf: 0.01\n",
      "momentum: 0.86018\n",
      "weight_decay: 0.00042\n",
      "warmup_epochs: 2.62634\n",
      "warmup_momentum: 0.59465\n",
      "box: 5.97531\n",
      "cls: 0.37126\n",
      "dfl: 1.79608\n",
      "hsv_h: 0.00685\n",
      "hsv_s: 0.88952\n",
      "hsv_v: 0.47283\n",
      "degrees: 0.0\n",
      "translate: 0.05197\n",
      "scale: 0.62306\n",
      "shear: 0.0\n",
      "perspective: 0.0\n",
      "flipud: 0.0\n",
      "fliplr: 0.18989\n",
      "bgr: 0.0\n",
      "mosaic: 0.63716\n",
      "mixup: 0.0\n",
      "copy_paste: 0.0\n",
      "\n",
      "\u001b[34m\u001b[1mTuner: \u001b[0mStarting iteration 79/100 with hyperparameters: {'lr0': 0.00549, 'lrf': 0.01001, 'momentum': 0.8465, 'weight_decay': 0.00049, 'warmup_epochs': 2.43757, 'warmup_momentum': 0.59247, 'box': 4.06113, 'cls': 0.35567, 'dfl': 1.64562, 'hsv_h': 0.00582, 'hsv_s': 0.80407, 'hsv_v': 0.43909, 'degrees': 0.0, 'translate': 0.05242, 'scale': 0.53163, 'shear': 0.0, 'perspective': 0.0, 'flipud': 0.0, 'fliplr': 0.22206, 'bgr': 0.0, 'mosaic': 0.51122, 'mixup': 0.0, 'copy_paste': 0.0}\n",
      "Saved ..\\..\\runs\\tune9\\tune_scatter_plots.png\n",
      "Saved ..\\..\\runs\\tune9\\tune_fitness.png\n",
      "\n",
      "\u001b[34m\u001b[1mTuner: \u001b[0m79/100 iterations complete  (11457.74s)\n",
      "\u001b[34m\u001b[1mTuner: \u001b[0mResults saved to \u001b[1m..\\..\\runs\\tune9\u001b[0m\n",
      "\u001b[34m\u001b[1mTuner: \u001b[0mBest fitness=0.4975 observed at iteration 75\n",
      "\u001b[34m\u001b[1mTuner: \u001b[0mBest fitness metrics are {'metrics/precision(B)': 0.82478, 'metrics/recall(B)': 0.69792, 'metrics/mAP50(B)': 0.78757, 'metrics/mAP50-95(B)': 0.46527, 'val/box_loss': 1.1027, 'val/cls_loss': 0.61806, 'val/dfl_loss': 1.26758, 'fitness': 0.4975}\n",
      "\u001b[34m\u001b[1mTuner: \u001b[0mBest fitness model is ..\\..\\runs\\yolov8m_hyp_finetune76\n",
      "\u001b[34m\u001b[1mTuner: \u001b[0mBest fitness hyperparameters are printed below.\n",
      "\n",
      "Printing '\u001b[1m\u001b[30m..\\..\\runs\\tune9\\best_hyperparameters.yaml\u001b[0m'\n",
      "\n",
      "lr0: 0.00497\n",
      "lrf: 0.01\n",
      "momentum: 0.86018\n",
      "weight_decay: 0.00042\n",
      "warmup_epochs: 2.62634\n",
      "warmup_momentum: 0.59465\n",
      "box: 5.97531\n",
      "cls: 0.37126\n",
      "dfl: 1.79608\n",
      "hsv_h: 0.00685\n",
      "hsv_s: 0.88952\n",
      "hsv_v: 0.47283\n",
      "degrees: 0.0\n",
      "translate: 0.05197\n",
      "scale: 0.62306\n",
      "shear: 0.0\n",
      "perspective: 0.0\n",
      "flipud: 0.0\n",
      "fliplr: 0.18989\n",
      "bgr: 0.0\n",
      "mosaic: 0.63716\n",
      "mixup: 0.0\n",
      "copy_paste: 0.0\n",
      "\n",
      "\u001b[34m\u001b[1mTuner: \u001b[0mStarting iteration 80/100 with hyperparameters: {'lr0': 0.00422, 'lrf': 0.01033, 'momentum': 0.7811, 'weight_decay': 0.00033, 'warmup_epochs': 2.36343, 'warmup_momentum': 0.59465, 'box': 4.31827, 'cls': 0.37126, 'dfl': 1.26823, 'hsv_h': 0.00584, 'hsv_s': 0.87712, 'hsv_v': 0.40301, 'degrees': 0.0, 'translate': 0.04257, 'scale': 0.52386, 'shear': 0.0, 'perspective': 0.0, 'flipud': 0.0, 'fliplr': 0.17084, 'bgr': 0.0, 'mosaic': 0.7647, 'mixup': 0.0, 'copy_paste': 0.0}\n",
      "Saved ..\\..\\runs\\tune9\\tune_scatter_plots.png\n",
      "Saved ..\\..\\runs\\tune9\\tune_fitness.png\n",
      "\n",
      "\u001b[34m\u001b[1mTuner: \u001b[0m80/100 iterations complete  (11593.55s)\n",
      "\u001b[34m\u001b[1mTuner: \u001b[0mResults saved to \u001b[1m..\\..\\runs\\tune9\u001b[0m\n",
      "\u001b[34m\u001b[1mTuner: \u001b[0mBest fitness=0.4975 observed at iteration 75\n",
      "\u001b[34m\u001b[1mTuner: \u001b[0mBest fitness metrics are {'metrics/precision(B)': 0.82478, 'metrics/recall(B)': 0.69792, 'metrics/mAP50(B)': 0.78757, 'metrics/mAP50-95(B)': 0.46527, 'val/box_loss': 1.1027, 'val/cls_loss': 0.61806, 'val/dfl_loss': 1.26758, 'fitness': 0.4975}\n",
      "\u001b[34m\u001b[1mTuner: \u001b[0mBest fitness model is ..\\..\\runs\\yolov8m_hyp_finetune76\n",
      "\u001b[34m\u001b[1mTuner: \u001b[0mBest fitness hyperparameters are printed below.\n",
      "\n",
      "Printing '\u001b[1m\u001b[30m..\\..\\runs\\tune9\\best_hyperparameters.yaml\u001b[0m'\n",
      "\n",
      "lr0: 0.00497\n",
      "lrf: 0.01\n",
      "momentum: 0.86018\n",
      "weight_decay: 0.00042\n",
      "warmup_epochs: 2.62634\n",
      "warmup_momentum: 0.59465\n",
      "box: 5.97531\n",
      "cls: 0.37126\n",
      "dfl: 1.79608\n",
      "hsv_h: 0.00685\n",
      "hsv_s: 0.88952\n",
      "hsv_v: 0.47283\n",
      "degrees: 0.0\n",
      "translate: 0.05197\n",
      "scale: 0.62306\n",
      "shear: 0.0\n",
      "perspective: 0.0\n",
      "flipud: 0.0\n",
      "fliplr: 0.18989\n",
      "bgr: 0.0\n",
      "mosaic: 0.63716\n",
      "mixup: 0.0\n",
      "copy_paste: 0.0\n",
      "\n",
      "\u001b[34m\u001b[1mTuner: \u001b[0mStarting iteration 81/100 with hyperparameters: {'lr0': 0.00563, 'lrf': 0.01055, 'momentum': 0.81245, 'weight_decay': 0.00037, 'warmup_epochs': 2.38696, 'warmup_momentum': 0.79928, 'box': 5.0561, 'cls': 0.34127, 'dfl': 1.18372, 'hsv_h': 0.00497, 'hsv_s': 0.87942, 'hsv_v': 0.45233, 'degrees': 0.0, 'translate': 0.04527, 'scale': 0.46439, 'shear': 0.0, 'perspective': 0.0, 'flipud': 0.0, 'fliplr': 0.17084, 'bgr': 0.0, 'mosaic': 0.80383, 'mixup': 0.0, 'copy_paste': 0.0}\n",
      "Saved ..\\..\\runs\\tune9\\tune_scatter_plots.png\n",
      "Saved ..\\..\\runs\\tune9\\tune_fitness.png\n",
      "\n",
      "\u001b[34m\u001b[1mTuner: \u001b[0m81/100 iterations complete  (11728.64s)\n",
      "\u001b[34m\u001b[1mTuner: \u001b[0mResults saved to \u001b[1m..\\..\\runs\\tune9\u001b[0m\n",
      "\u001b[34m\u001b[1mTuner: \u001b[0mBest fitness=0.4975 observed at iteration 75\n",
      "\u001b[34m\u001b[1mTuner: \u001b[0mBest fitness metrics are {'metrics/precision(B)': 0.82478, 'metrics/recall(B)': 0.69792, 'metrics/mAP50(B)': 0.78757, 'metrics/mAP50-95(B)': 0.46527, 'val/box_loss': 1.1027, 'val/cls_loss': 0.61806, 'val/dfl_loss': 1.26758, 'fitness': 0.4975}\n",
      "\u001b[34m\u001b[1mTuner: \u001b[0mBest fitness model is ..\\..\\runs\\yolov8m_hyp_finetune76\n",
      "\u001b[34m\u001b[1mTuner: \u001b[0mBest fitness hyperparameters are printed below.\n",
      "\n",
      "Printing '\u001b[1m\u001b[30m..\\..\\runs\\tune9\\best_hyperparameters.yaml\u001b[0m'\n",
      "\n",
      "lr0: 0.00497\n",
      "lrf: 0.01\n",
      "momentum: 0.86018\n",
      "weight_decay: 0.00042\n",
      "warmup_epochs: 2.62634\n",
      "warmup_momentum: 0.59465\n",
      "box: 5.97531\n",
      "cls: 0.37126\n",
      "dfl: 1.79608\n",
      "hsv_h: 0.00685\n",
      "hsv_s: 0.88952\n",
      "hsv_v: 0.47283\n",
      "degrees: 0.0\n",
      "translate: 0.05197\n",
      "scale: 0.62306\n",
      "shear: 0.0\n",
      "perspective: 0.0\n",
      "flipud: 0.0\n",
      "fliplr: 0.18989\n",
      "bgr: 0.0\n",
      "mosaic: 0.63716\n",
      "mixup: 0.0\n",
      "copy_paste: 0.0\n",
      "\n",
      "\u001b[34m\u001b[1mTuner: \u001b[0mStarting iteration 82/100 with hyperparameters: {'lr0': 0.0047, 'lrf': 0.00919, 'momentum': 0.86304, 'weight_decay': 0.00044, 'warmup_epochs': 2.84445, 'warmup_momentum': 0.595, 'box': 5.5416, 'cls': 0.36963, 'dfl': 1.81314, 'hsv_h': 0.00651, 'hsv_s': 0.79925, 'hsv_v': 0.44852, 'degrees': 0.0, 'translate': 0.05928, 'scale': 0.65751, 'shear': 0.0, 'perspective': 0.0, 'flipud': 0.0, 'fliplr': 0.16891, 'bgr': 0.0, 'mosaic': 0.74157, 'mixup': 0.0, 'copy_paste': 0.0}\n",
      "Saved ..\\..\\runs\\tune9\\tune_scatter_plots.png\n",
      "Saved ..\\..\\runs\\tune9\\tune_fitness.png\n",
      "\n",
      "\u001b[34m\u001b[1mTuner: \u001b[0m82/100 iterations complete  (11864.05s)\n",
      "\u001b[34m\u001b[1mTuner: \u001b[0mResults saved to \u001b[1m..\\..\\runs\\tune9\u001b[0m\n",
      "\u001b[34m\u001b[1mTuner: \u001b[0mBest fitness=0.4975 observed at iteration 75\n",
      "\u001b[34m\u001b[1mTuner: \u001b[0mBest fitness metrics are {'metrics/precision(B)': 0.82478, 'metrics/recall(B)': 0.69792, 'metrics/mAP50(B)': 0.78757, 'metrics/mAP50-95(B)': 0.46527, 'val/box_loss': 1.1027, 'val/cls_loss': 0.61806, 'val/dfl_loss': 1.26758, 'fitness': 0.4975}\n",
      "\u001b[34m\u001b[1mTuner: \u001b[0mBest fitness model is ..\\..\\runs\\yolov8m_hyp_finetune76\n",
      "\u001b[34m\u001b[1mTuner: \u001b[0mBest fitness hyperparameters are printed below.\n",
      "\n",
      "Printing '\u001b[1m\u001b[30m..\\..\\runs\\tune9\\best_hyperparameters.yaml\u001b[0m'\n",
      "\n",
      "lr0: 0.00497\n",
      "lrf: 0.01\n",
      "momentum: 0.86018\n",
      "weight_decay: 0.00042\n",
      "warmup_epochs: 2.62634\n",
      "warmup_momentum: 0.59465\n",
      "box: 5.97531\n",
      "cls: 0.37126\n",
      "dfl: 1.79608\n",
      "hsv_h: 0.00685\n",
      "hsv_s: 0.88952\n",
      "hsv_v: 0.47283\n",
      "degrees: 0.0\n",
      "translate: 0.05197\n",
      "scale: 0.62306\n",
      "shear: 0.0\n",
      "perspective: 0.0\n",
      "flipud: 0.0\n",
      "fliplr: 0.18989\n",
      "bgr: 0.0\n",
      "mosaic: 0.63716\n",
      "mixup: 0.0\n",
      "copy_paste: 0.0\n",
      "\n",
      "\u001b[34m\u001b[1mTuner: \u001b[0mStarting iteration 83/100 with hyperparameters: {'lr0': 0.00497, 'lrf': 0.01007, 'momentum': 0.85509, 'weight_decay': 0.00042, 'warmup_epochs': 2.66115, 'warmup_momentum': 0.60315, 'box': 5.72501, 'cls': 0.38252, 'dfl': 1.727, 'hsv_h': 0.00664, 'hsv_s': 0.9, 'hsv_v': 0.48187, 'degrees': 0.0, 'translate': 0.05317, 'scale': 0.63495, 'shear': 0.0, 'perspective': 0.0, 'flipud': 0.0, 'fliplr': 0.19062, 'bgr': 0.0, 'mosaic': 0.63716, 'mixup': 0.0, 'copy_paste': 0.0}\n",
      "Saved ..\\..\\runs\\tune9\\tune_scatter_plots.png\n",
      "Saved ..\\..\\runs\\tune9\\tune_fitness.png\n",
      "\n",
      "\u001b[34m\u001b[1mTuner: \u001b[0m83/100 iterations complete  (11999.75s)\n",
      "\u001b[34m\u001b[1mTuner: \u001b[0mResults saved to \u001b[1m..\\..\\runs\\tune9\u001b[0m\n",
      "\u001b[34m\u001b[1mTuner: \u001b[0mBest fitness=0.4975 observed at iteration 75\n",
      "\u001b[34m\u001b[1mTuner: \u001b[0mBest fitness metrics are {'metrics/precision(B)': 0.82478, 'metrics/recall(B)': 0.69792, 'metrics/mAP50(B)': 0.78757, 'metrics/mAP50-95(B)': 0.46527, 'val/box_loss': 1.1027, 'val/cls_loss': 0.61806, 'val/dfl_loss': 1.26758, 'fitness': 0.4975}\n",
      "\u001b[34m\u001b[1mTuner: \u001b[0mBest fitness model is ..\\..\\runs\\yolov8m_hyp_finetune76\n",
      "\u001b[34m\u001b[1mTuner: \u001b[0mBest fitness hyperparameters are printed below.\n",
      "\n",
      "Printing '\u001b[1m\u001b[30m..\\..\\runs\\tune9\\best_hyperparameters.yaml\u001b[0m'\n",
      "\n",
      "lr0: 0.00497\n",
      "lrf: 0.01\n",
      "momentum: 0.86018\n",
      "weight_decay: 0.00042\n",
      "warmup_epochs: 2.62634\n",
      "warmup_momentum: 0.59465\n",
      "box: 5.97531\n",
      "cls: 0.37126\n",
      "dfl: 1.79608\n",
      "hsv_h: 0.00685\n",
      "hsv_s: 0.88952\n",
      "hsv_v: 0.47283\n",
      "degrees: 0.0\n",
      "translate: 0.05197\n",
      "scale: 0.62306\n",
      "shear: 0.0\n",
      "perspective: 0.0\n",
      "flipud: 0.0\n",
      "fliplr: 0.18989\n",
      "bgr: 0.0\n",
      "mosaic: 0.63716\n",
      "mixup: 0.0\n",
      "copy_paste: 0.0\n",
      "\n",
      "\u001b[34m\u001b[1mTuner: \u001b[0mStarting iteration 84/100 with hyperparameters: {'lr0': 0.00455, 'lrf': 0.00927, 'momentum': 0.74682, 'weight_decay': 0.00038, 'warmup_epochs': 2.28255, 'warmup_momentum': 0.8108, 'box': 4.81845, 'cls': 0.40627, 'dfl': 1.42391, 'hsv_h': 0.00607, 'hsv_s': 0.56389, 'hsv_v': 0.3391, 'degrees': 0.0, 'translate': 0.04257, 'scale': 0.49035, 'shear': 0.0, 'perspective': 0.0, 'flipud': 0.0, 'fliplr': 0.09788, 'bgr': 0.0, 'mosaic': 0.65655, 'mixup': 0.0, 'copy_paste': 0.0}\n",
      "Saved ..\\..\\runs\\tune9\\tune_scatter_plots.png\n",
      "Saved ..\\..\\runs\\tune9\\tune_fitness.png\n",
      "\n",
      "\u001b[34m\u001b[1mTuner: \u001b[0m84/100 iterations complete  (12135.40s)\n",
      "\u001b[34m\u001b[1mTuner: \u001b[0mResults saved to \u001b[1m..\\..\\runs\\tune9\u001b[0m\n",
      "\u001b[34m\u001b[1mTuner: \u001b[0mBest fitness=0.5081 observed at iteration 84\n",
      "\u001b[34m\u001b[1mTuner: \u001b[0mBest fitness metrics are {'metrics/precision(B)': 0.81676, 'metrics/recall(B)': 0.69271, 'metrics/mAP50(B)': 0.79964, 'metrics/mAP50-95(B)': 0.47571, 'val/box_loss': 0.86071, 'val/cls_loss': 0.60187, 'val/dfl_loss': 1.01262, 'fitness': 0.5081}\n",
      "\u001b[34m\u001b[1mTuner: \u001b[0mBest fitness model is ..\\..\\runs\\yolov8m_hyp_finetune85\n",
      "\u001b[34m\u001b[1mTuner: \u001b[0mBest fitness hyperparameters are printed below.\n",
      "\n",
      "Printing '\u001b[1m\u001b[30m..\\..\\runs\\tune9\\best_hyperparameters.yaml\u001b[0m'\n",
      "\n",
      "lr0: 0.00455\n",
      "lrf: 0.00927\n",
      "momentum: 0.74682\n",
      "weight_decay: 0.00038\n",
      "warmup_epochs: 2.28255\n",
      "warmup_momentum: 0.8108\n",
      "box: 4.81845\n",
      "cls: 0.40627\n",
      "dfl: 1.42391\n",
      "hsv_h: 0.00607\n",
      "hsv_s: 0.56389\n",
      "hsv_v: 0.3391\n",
      "degrees: 0.0\n",
      "translate: 0.04257\n",
      "scale: 0.49035\n",
      "shear: 0.0\n",
      "perspective: 0.0\n",
      "flipud: 0.0\n",
      "fliplr: 0.09788\n",
      "bgr: 0.0\n",
      "mosaic: 0.65655\n",
      "mixup: 0.0\n",
      "copy_paste: 0.0\n",
      "\n",
      "\u001b[34m\u001b[1mTuner: \u001b[0mStarting iteration 85/100 with hyperparameters: {'lr0': 0.00455, 'lrf': 0.00929, 'momentum': 0.78286, 'weight_decay': 0.00036, 'warmup_epochs': 2.28255, 'warmup_momentum': 0.78766, 'box': 4.53764, 'cls': 0.43199, 'dfl': 1.50894, 'hsv_h': 0.00613, 'hsv_s': 0.56225, 'hsv_v': 0.33489, 'degrees': 0.0, 'translate': 0.04105, 'scale': 0.47541, 'shear': 0.0, 'perspective': 0.0, 'flipud': 0.0, 'fliplr': 0.09788, 'bgr': 0.0, 'mosaic': 0.66477, 'mixup': 0.0, 'copy_paste': 0.0}\n",
      "Saved ..\\..\\runs\\tune9\\tune_scatter_plots.png\n",
      "Saved ..\\..\\runs\\tune9\\tune_fitness.png\n",
      "\n",
      "\u001b[34m\u001b[1mTuner: \u001b[0m85/100 iterations complete  (12270.77s)\n",
      "\u001b[34m\u001b[1mTuner: \u001b[0mResults saved to \u001b[1m..\\..\\runs\\tune9\u001b[0m\n",
      "\u001b[34m\u001b[1mTuner: \u001b[0mBest fitness=0.5081 observed at iteration 84\n",
      "\u001b[34m\u001b[1mTuner: \u001b[0mBest fitness metrics are {'metrics/precision(B)': 0.81676, 'metrics/recall(B)': 0.69271, 'metrics/mAP50(B)': 0.79964, 'metrics/mAP50-95(B)': 0.47571, 'val/box_loss': 0.86071, 'val/cls_loss': 0.60187, 'val/dfl_loss': 1.01262, 'fitness': 0.5081}\n",
      "\u001b[34m\u001b[1mTuner: \u001b[0mBest fitness model is ..\\..\\runs\\yolov8m_hyp_finetune85\n",
      "\u001b[34m\u001b[1mTuner: \u001b[0mBest fitness hyperparameters are printed below.\n",
      "\n",
      "Printing '\u001b[1m\u001b[30m..\\..\\runs\\tune9\\best_hyperparameters.yaml\u001b[0m'\n",
      "\n",
      "lr0: 0.00455\n",
      "lrf: 0.00927\n",
      "momentum: 0.74682\n",
      "weight_decay: 0.00038\n",
      "warmup_epochs: 2.28255\n",
      "warmup_momentum: 0.8108\n",
      "box: 4.81845\n",
      "cls: 0.40627\n",
      "dfl: 1.42391\n",
      "hsv_h: 0.00607\n",
      "hsv_s: 0.56389\n",
      "hsv_v: 0.3391\n",
      "degrees: 0.0\n",
      "translate: 0.04257\n",
      "scale: 0.49035\n",
      "shear: 0.0\n",
      "perspective: 0.0\n",
      "flipud: 0.0\n",
      "fliplr: 0.09788\n",
      "bgr: 0.0\n",
      "mosaic: 0.65655\n",
      "mixup: 0.0\n",
      "copy_paste: 0.0\n",
      "\n",
      "\u001b[34m\u001b[1mTuner: \u001b[0mStarting iteration 86/100 with hyperparameters: {'lr0': 0.00473, 'lrf': 0.00952, 'momentum': 0.78286, 'weight_decay': 0.00036, 'warmup_epochs': 2.27498, 'warmup_momentum': 0.78881, 'box': 4.53764, 'cls': 0.43396, 'dfl': 1.52832, 'hsv_h': 0.00613, 'hsv_s': 0.56275, 'hsv_v': 0.33489, 'degrees': 0.0, 'translate': 0.04187, 'scale': 0.47541, 'shear': 0.0, 'perspective': 0.0, 'flipud': 0.0, 'fliplr': 0.09581, 'bgr': 0.0, 'mosaic': 0.6592, 'mixup': 0.0, 'copy_paste': 0.0}\n",
      "Saved ..\\..\\runs\\tune9\\tune_scatter_plots.png\n",
      "Saved ..\\..\\runs\\tune9\\tune_fitness.png\n",
      "\n",
      "\u001b[34m\u001b[1mTuner: \u001b[0m86/100 iterations complete  (12406.13s)\n",
      "\u001b[34m\u001b[1mTuner: \u001b[0mResults saved to \u001b[1m..\\..\\runs\\tune9\u001b[0m\n",
      "\u001b[34m\u001b[1mTuner: \u001b[0mBest fitness=0.5081 observed at iteration 84\n",
      "\u001b[34m\u001b[1mTuner: \u001b[0mBest fitness metrics are {'metrics/precision(B)': 0.81676, 'metrics/recall(B)': 0.69271, 'metrics/mAP50(B)': 0.79964, 'metrics/mAP50-95(B)': 0.47571, 'val/box_loss': 0.86071, 'val/cls_loss': 0.60187, 'val/dfl_loss': 1.01262, 'fitness': 0.5081}\n",
      "\u001b[34m\u001b[1mTuner: \u001b[0mBest fitness model is ..\\..\\runs\\yolov8m_hyp_finetune85\n",
      "\u001b[34m\u001b[1mTuner: \u001b[0mBest fitness hyperparameters are printed below.\n",
      "\n",
      "Printing '\u001b[1m\u001b[30m..\\..\\runs\\tune9\\best_hyperparameters.yaml\u001b[0m'\n",
      "\n",
      "lr0: 0.00455\n",
      "lrf: 0.00927\n",
      "momentum: 0.74682\n",
      "weight_decay: 0.00038\n",
      "warmup_epochs: 2.28255\n",
      "warmup_momentum: 0.8108\n",
      "box: 4.81845\n",
      "cls: 0.40627\n",
      "dfl: 1.42391\n",
      "hsv_h: 0.00607\n",
      "hsv_s: 0.56389\n",
      "hsv_v: 0.3391\n",
      "degrees: 0.0\n",
      "translate: 0.04257\n",
      "scale: 0.49035\n",
      "shear: 0.0\n",
      "perspective: 0.0\n",
      "flipud: 0.0\n",
      "fliplr: 0.09788\n",
      "bgr: 0.0\n",
      "mosaic: 0.65655\n",
      "mixup: 0.0\n",
      "copy_paste: 0.0\n",
      "\n",
      "\u001b[34m\u001b[1mTuner: \u001b[0mStarting iteration 87/100 with hyperparameters: {'lr0': 0.00455, 'lrf': 0.01, 'momentum': 0.74231, 'weight_decay': 0.00034, 'warmup_epochs': 2.28255, 'warmup_momentum': 0.84902, 'box': 4.37289, 'cls': 0.36164, 'dfl': 1.48249, 'hsv_h': 0.00612, 'hsv_s': 0.56389, 'hsv_v': 0.3391, 'degrees': 0.0, 'translate': 0.04441, 'scale': 0.47475, 'shear': 0.0, 'perspective': 0.0, 'flipud': 0.0, 'fliplr': 0.096, 'bgr': 0.0, 'mosaic': 0.64538, 'mixup': 0.0, 'copy_paste': 0.0}\n",
      "Saved ..\\..\\runs\\tune9\\tune_scatter_plots.png\n",
      "Saved ..\\..\\runs\\tune9\\tune_fitness.png\n",
      "\n",
      "\u001b[34m\u001b[1mTuner: \u001b[0m87/100 iterations complete  (12540.10s)\n",
      "\u001b[34m\u001b[1mTuner: \u001b[0mResults saved to \u001b[1m..\\..\\runs\\tune9\u001b[0m\n",
      "\u001b[34m\u001b[1mTuner: \u001b[0mBest fitness=0.52374 observed at iteration 87\n",
      "\u001b[34m\u001b[1mTuner: \u001b[0mBest fitness metrics are {'metrics/precision(B)': 0.87101, 'metrics/recall(B)': 0.67188, 'metrics/mAP50(B)': 0.82492, 'metrics/mAP50-95(B)': 0.49028, 'val/box_loss': 0.78599, 'val/cls_loss': 0.56328, 'val/dfl_loss': 1.06018, 'fitness': 0.52374}\n",
      "\u001b[34m\u001b[1mTuner: \u001b[0mBest fitness model is ..\\..\\runs\\yolov8m_hyp_finetune88\n",
      "\u001b[34m\u001b[1mTuner: \u001b[0mBest fitness hyperparameters are printed below.\n",
      "\n",
      "Printing '\u001b[1m\u001b[30m..\\..\\runs\\tune9\\best_hyperparameters.yaml\u001b[0m'\n",
      "\n",
      "lr0: 0.00455\n",
      "lrf: 0.01\n",
      "momentum: 0.74231\n",
      "weight_decay: 0.00034\n",
      "warmup_epochs: 2.28255\n",
      "warmup_momentum: 0.84902\n",
      "box: 4.37289\n",
      "cls: 0.36164\n",
      "dfl: 1.48249\n",
      "hsv_h: 0.00612\n",
      "hsv_s: 0.56389\n",
      "hsv_v: 0.3391\n",
      "degrees: 0.0\n",
      "translate: 0.04441\n",
      "scale: 0.47475\n",
      "shear: 0.0\n",
      "perspective: 0.0\n",
      "flipud: 0.0\n",
      "fliplr: 0.096\n",
      "bgr: 0.0\n",
      "mosaic: 0.64538\n",
      "mixup: 0.0\n",
      "copy_paste: 0.0\n",
      "\n",
      "\u001b[34m\u001b[1mTuner: \u001b[0mStarting iteration 88/100 with hyperparameters: {'lr0': 0.00455, 'lrf': 0.00809, 'momentum': 0.74682, 'weight_decay': 0.00036, 'warmup_epochs': 2.28255, 'warmup_momentum': 0.73186, 'box': 4.50305, 'cls': 0.43651, 'dfl': 1.49928, 'hsv_h': 0.00534, 'hsv_s': 0.57249, 'hsv_v': 0.3391, 'degrees': 0.0, 'translate': 0.04257, 'scale': 0.50513, 'shear': 0.0, 'perspective': 0.0, 'flipud': 0.0, 'fliplr': 0.10923, 'bgr': 0.0, 'mosaic': 0.70991, 'mixup': 0.0, 'copy_paste': 0.0}\n",
      "Saved ..\\..\\runs\\tune9\\tune_scatter_plots.png\n",
      "Saved ..\\..\\runs\\tune9\\tune_fitness.png\n",
      "\n",
      "\u001b[34m\u001b[1mTuner: \u001b[0m88/100 iterations complete  (12672.47s)\n",
      "\u001b[34m\u001b[1mTuner: \u001b[0mResults saved to \u001b[1m..\\..\\runs\\tune9\u001b[0m\n",
      "\u001b[34m\u001b[1mTuner: \u001b[0mBest fitness=0.52374 observed at iteration 87\n",
      "\u001b[34m\u001b[1mTuner: \u001b[0mBest fitness metrics are {'metrics/precision(B)': 0.87101, 'metrics/recall(B)': 0.67188, 'metrics/mAP50(B)': 0.82492, 'metrics/mAP50-95(B)': 0.49028, 'val/box_loss': 0.78599, 'val/cls_loss': 0.56328, 'val/dfl_loss': 1.06018, 'fitness': 0.52374}\n",
      "\u001b[34m\u001b[1mTuner: \u001b[0mBest fitness model is ..\\..\\runs\\yolov8m_hyp_finetune88\n",
      "\u001b[34m\u001b[1mTuner: \u001b[0mBest fitness hyperparameters are printed below.\n",
      "\n",
      "Printing '\u001b[1m\u001b[30m..\\..\\runs\\tune9\\best_hyperparameters.yaml\u001b[0m'\n",
      "\n",
      "lr0: 0.00455\n",
      "lrf: 0.01\n",
      "momentum: 0.74231\n",
      "weight_decay: 0.00034\n",
      "warmup_epochs: 2.28255\n",
      "warmup_momentum: 0.84902\n",
      "box: 4.37289\n",
      "cls: 0.36164\n",
      "dfl: 1.48249\n",
      "hsv_h: 0.00612\n",
      "hsv_s: 0.56389\n",
      "hsv_v: 0.3391\n",
      "degrees: 0.0\n",
      "translate: 0.04441\n",
      "scale: 0.47475\n",
      "shear: 0.0\n",
      "perspective: 0.0\n",
      "flipud: 0.0\n",
      "fliplr: 0.096\n",
      "bgr: 0.0\n",
      "mosaic: 0.64538\n",
      "mixup: 0.0\n",
      "copy_paste: 0.0\n",
      "\n",
      "\u001b[34m\u001b[1mTuner: \u001b[0mStarting iteration 89/100 with hyperparameters: {'lr0': 0.00476, 'lrf': 0.01, 'momentum': 0.83815, 'weight_decay': 0.00038, 'warmup_epochs': 2.83604, 'warmup_momentum': 0.56413, 'box': 5.55372, 'cls': 0.37126, 'dfl': 1.79608, 'hsv_h': 0.00527, 'hsv_s': 0.88952, 'hsv_v': 0.47746, 'degrees': 0.0, 'translate': 0.06221, 'scale': 0.55698, 'shear': 0.0, 'perspective': 0.0, 'flipud': 0.0, 'fliplr': 0.21691, 'bgr': 0.0, 'mosaic': 0.62657, 'mixup': 0.0, 'copy_paste': 0.0}\n",
      "Saved ..\\..\\runs\\tune9\\tune_scatter_plots.png\n",
      "Saved ..\\..\\runs\\tune9\\tune_fitness.png\n",
      "\n",
      "\u001b[34m\u001b[1mTuner: \u001b[0m89/100 iterations complete  (12805.66s)\n",
      "\u001b[34m\u001b[1mTuner: \u001b[0mResults saved to \u001b[1m..\\..\\runs\\tune9\u001b[0m\n",
      "\u001b[34m\u001b[1mTuner: \u001b[0mBest fitness=0.52374 observed at iteration 87\n",
      "\u001b[34m\u001b[1mTuner: \u001b[0mBest fitness metrics are {'metrics/precision(B)': 0.87101, 'metrics/recall(B)': 0.67188, 'metrics/mAP50(B)': 0.82492, 'metrics/mAP50-95(B)': 0.49028, 'val/box_loss': 0.78599, 'val/cls_loss': 0.56328, 'val/dfl_loss': 1.06018, 'fitness': 0.52374}\n",
      "\u001b[34m\u001b[1mTuner: \u001b[0mBest fitness model is ..\\..\\runs\\yolov8m_hyp_finetune88\n",
      "\u001b[34m\u001b[1mTuner: \u001b[0mBest fitness hyperparameters are printed below.\n",
      "\n",
      "Printing '\u001b[1m\u001b[30m..\\..\\runs\\tune9\\best_hyperparameters.yaml\u001b[0m'\n",
      "\n",
      "lr0: 0.00455\n",
      "lrf: 0.01\n",
      "momentum: 0.74231\n",
      "weight_decay: 0.00034\n",
      "warmup_epochs: 2.28255\n",
      "warmup_momentum: 0.84902\n",
      "box: 4.37289\n",
      "cls: 0.36164\n",
      "dfl: 1.48249\n",
      "hsv_h: 0.00612\n",
      "hsv_s: 0.56389\n",
      "hsv_v: 0.3391\n",
      "degrees: 0.0\n",
      "translate: 0.04441\n",
      "scale: 0.47475\n",
      "shear: 0.0\n",
      "perspective: 0.0\n",
      "flipud: 0.0\n",
      "fliplr: 0.096\n",
      "bgr: 0.0\n",
      "mosaic: 0.64538\n",
      "mixup: 0.0\n",
      "copy_paste: 0.0\n",
      "\n",
      "\u001b[34m\u001b[1mTuner: \u001b[0mStarting iteration 90/100 with hyperparameters: {'lr0': 0.00468, 'lrf': 0.00954, 'momentum': 0.73757, 'weight_decay': 0.00029, 'warmup_epochs': 2.28255, 'warmup_momentum': 0.84687, 'box': 4.67556, 'cls': 0.37755, 'dfl': 1.45009, 'hsv_h': 0.00623, 'hsv_s': 0.63491, 'hsv_v': 0.35227, 'degrees': 0.0, 'translate': 0.04405, 'scale': 0.42717, 'shear': 0.0, 'perspective': 0.0, 'flipud': 0.0, 'fliplr': 0.09326, 'bgr': 0.0, 'mosaic': 0.74543, 'mixup': 0.0, 'copy_paste': 0.0}\n",
      "Saved ..\\..\\runs\\tune9\\tune_scatter_plots.png\n",
      "Saved ..\\..\\runs\\tune9\\tune_fitness.png\n",
      "\n",
      "\u001b[34m\u001b[1mTuner: \u001b[0m90/100 iterations complete  (12943.20s)\n",
      "\u001b[34m\u001b[1mTuner: \u001b[0mResults saved to \u001b[1m..\\..\\runs\\tune9\u001b[0m\n",
      "\u001b[34m\u001b[1mTuner: \u001b[0mBest fitness=0.52374 observed at iteration 87\n",
      "\u001b[34m\u001b[1mTuner: \u001b[0mBest fitness metrics are {'metrics/precision(B)': 0.87101, 'metrics/recall(B)': 0.67188, 'metrics/mAP50(B)': 0.82492, 'metrics/mAP50-95(B)': 0.49028, 'val/box_loss': 0.78599, 'val/cls_loss': 0.56328, 'val/dfl_loss': 1.06018, 'fitness': 0.52374}\n",
      "\u001b[34m\u001b[1mTuner: \u001b[0mBest fitness model is ..\\..\\runs\\yolov8m_hyp_finetune88\n",
      "\u001b[34m\u001b[1mTuner: \u001b[0mBest fitness hyperparameters are printed below.\n",
      "\n",
      "Printing '\u001b[1m\u001b[30m..\\..\\runs\\tune9\\best_hyperparameters.yaml\u001b[0m'\n",
      "\n",
      "lr0: 0.00455\n",
      "lrf: 0.01\n",
      "momentum: 0.74231\n",
      "weight_decay: 0.00034\n",
      "warmup_epochs: 2.28255\n",
      "warmup_momentum: 0.84902\n",
      "box: 4.37289\n",
      "cls: 0.36164\n",
      "dfl: 1.48249\n",
      "hsv_h: 0.00612\n",
      "hsv_s: 0.56389\n",
      "hsv_v: 0.3391\n",
      "degrees: 0.0\n",
      "translate: 0.04441\n",
      "scale: 0.47475\n",
      "shear: 0.0\n",
      "perspective: 0.0\n",
      "flipud: 0.0\n",
      "fliplr: 0.096\n",
      "bgr: 0.0\n",
      "mosaic: 0.64538\n",
      "mixup: 0.0\n",
      "copy_paste: 0.0\n",
      "\n",
      "\u001b[34m\u001b[1mTuner: \u001b[0mStarting iteration 91/100 with hyperparameters: {'lr0': 0.00455, 'lrf': 0.00922, 'momentum': 0.74682, 'weight_decay': 0.00044, 'warmup_epochs': 1.9838, 'warmup_momentum': 0.79139, 'box': 3.88248, 'cls': 0.40627, 'dfl': 1.30637, 'hsv_h': 0.00685, 'hsv_s': 0.56389, 'hsv_v': 0.35183, 'degrees': 0.0, 'translate': 0.04289, 'scale': 0.51813, 'shear': 0.0, 'perspective': 0.0, 'flipud': 0.0, 'fliplr': 0.09181, 'bgr': 0.0, 'mosaic': 0.71929, 'mixup': 0.0, 'copy_paste': 0.0}\n",
      "Saved ..\\..\\runs\\tune9\\tune_scatter_plots.png\n",
      "Saved ..\\..\\runs\\tune9\\tune_fitness.png\n",
      "\n",
      "\u001b[34m\u001b[1mTuner: \u001b[0m91/100 iterations complete  (13075.69s)\n",
      "\u001b[34m\u001b[1mTuner: \u001b[0mResults saved to \u001b[1m..\\..\\runs\\tune9\u001b[0m\n",
      "\u001b[34m\u001b[1mTuner: \u001b[0mBest fitness=0.52374 observed at iteration 87\n",
      "\u001b[34m\u001b[1mTuner: \u001b[0mBest fitness metrics are {'metrics/precision(B)': 0.87101, 'metrics/recall(B)': 0.67188, 'metrics/mAP50(B)': 0.82492, 'metrics/mAP50-95(B)': 0.49028, 'val/box_loss': 0.78599, 'val/cls_loss': 0.56328, 'val/dfl_loss': 1.06018, 'fitness': 0.52374}\n",
      "\u001b[34m\u001b[1mTuner: \u001b[0mBest fitness model is ..\\..\\runs\\yolov8m_hyp_finetune88\n",
      "\u001b[34m\u001b[1mTuner: \u001b[0mBest fitness hyperparameters are printed below.\n",
      "\n",
      "Printing '\u001b[1m\u001b[30m..\\..\\runs\\tune9\\best_hyperparameters.yaml\u001b[0m'\n",
      "\n",
      "lr0: 0.00455\n",
      "lrf: 0.01\n",
      "momentum: 0.74231\n",
      "weight_decay: 0.00034\n",
      "warmup_epochs: 2.28255\n",
      "warmup_momentum: 0.84902\n",
      "box: 4.37289\n",
      "cls: 0.36164\n",
      "dfl: 1.48249\n",
      "hsv_h: 0.00612\n",
      "hsv_s: 0.56389\n",
      "hsv_v: 0.3391\n",
      "degrees: 0.0\n",
      "translate: 0.04441\n",
      "scale: 0.47475\n",
      "shear: 0.0\n",
      "perspective: 0.0\n",
      "flipud: 0.0\n",
      "fliplr: 0.096\n",
      "bgr: 0.0\n",
      "mosaic: 0.64538\n",
      "mixup: 0.0\n",
      "copy_paste: 0.0\n",
      "\n",
      "\u001b[34m\u001b[1mTuner: \u001b[0mStarting iteration 92/100 with hyperparameters: {'lr0': 0.00455, 'lrf': 0.00927, 'momentum': 0.71525, 'weight_decay': 0.00038, 'warmup_epochs': 2.28255, 'warmup_momentum': 0.8108, 'box': 3.80045, 'cls': 0.41356, 'dfl': 1.42391, 'hsv_h': 0.00496, 'hsv_s': 0.45613, 'hsv_v': 0.35901, 'degrees': 0.0, 'translate': 0.03681, 'scale': 0.49035, 'shear': 0.0, 'perspective': 0.0, 'flipud': 0.0, 'fliplr': 0.09199, 'bgr': 0.0, 'mosaic': 0.65655, 'mixup': 0.0, 'copy_paste': 0.0}\n",
      "Saved ..\\..\\runs\\tune9\\tune_scatter_plots.png\n",
      "Saved ..\\..\\runs\\tune9\\tune_fitness.png\n",
      "\n",
      "\u001b[34m\u001b[1mTuner: \u001b[0m92/100 iterations complete  (13208.26s)\n",
      "\u001b[34m\u001b[1mTuner: \u001b[0mResults saved to \u001b[1m..\\..\\runs\\tune9\u001b[0m\n",
      "\u001b[34m\u001b[1mTuner: \u001b[0mBest fitness=0.52374 observed at iteration 87\n",
      "\u001b[34m\u001b[1mTuner: \u001b[0mBest fitness metrics are {'metrics/precision(B)': 0.87101, 'metrics/recall(B)': 0.67188, 'metrics/mAP50(B)': 0.82492, 'metrics/mAP50-95(B)': 0.49028, 'val/box_loss': 0.78599, 'val/cls_loss': 0.56328, 'val/dfl_loss': 1.06018, 'fitness': 0.52374}\n",
      "\u001b[34m\u001b[1mTuner: \u001b[0mBest fitness model is ..\\..\\runs\\yolov8m_hyp_finetune88\n",
      "\u001b[34m\u001b[1mTuner: \u001b[0mBest fitness hyperparameters are printed below.\n",
      "\n",
      "Printing '\u001b[1m\u001b[30m..\\..\\runs\\tune9\\best_hyperparameters.yaml\u001b[0m'\n",
      "\n",
      "lr0: 0.00455\n",
      "lrf: 0.01\n",
      "momentum: 0.74231\n",
      "weight_decay: 0.00034\n",
      "warmup_epochs: 2.28255\n",
      "warmup_momentum: 0.84902\n",
      "box: 4.37289\n",
      "cls: 0.36164\n",
      "dfl: 1.48249\n",
      "hsv_h: 0.00612\n",
      "hsv_s: 0.56389\n",
      "hsv_v: 0.3391\n",
      "degrees: 0.0\n",
      "translate: 0.04441\n",
      "scale: 0.47475\n",
      "shear: 0.0\n",
      "perspective: 0.0\n",
      "flipud: 0.0\n",
      "fliplr: 0.096\n",
      "bgr: 0.0\n",
      "mosaic: 0.64538\n",
      "mixup: 0.0\n",
      "copy_paste: 0.0\n",
      "\n",
      "\u001b[34m\u001b[1mTuner: \u001b[0mStarting iteration 93/100 with hyperparameters: {'lr0': 0.00352, 'lrf': 0.0077, 'momentum': 0.78286, 'weight_decay': 0.00036, 'warmup_epochs': 2.28255, 'warmup_momentum': 0.78766, 'box': 3.96794, 'cls': 0.46106, 'dfl': 1.77714, 'hsv_h': 0.00708, 'hsv_s': 0.55133, 'hsv_v': 0.40226, 'degrees': 0.0, 'translate': 0.03227, 'scale': 0.29526, 'shear': 0.0, 'perspective': 0.0, 'flipud': 0.0, 'fliplr': 0.08947, 'bgr': 0.0, 'mosaic': 0.52405, 'mixup': 0.0, 'copy_paste': 0.0}\n",
      "Saved ..\\..\\runs\\tune9\\tune_scatter_plots.png\n",
      "Saved ..\\..\\runs\\tune9\\tune_fitness.png\n",
      "\n",
      "\u001b[34m\u001b[1mTuner: \u001b[0m93/100 iterations complete  (13340.60s)\n",
      "\u001b[34m\u001b[1mTuner: \u001b[0mResults saved to \u001b[1m..\\..\\runs\\tune9\u001b[0m\n",
      "\u001b[34m\u001b[1mTuner: \u001b[0mBest fitness=0.52374 observed at iteration 87\n",
      "\u001b[34m\u001b[1mTuner: \u001b[0mBest fitness metrics are {'metrics/precision(B)': 0.87101, 'metrics/recall(B)': 0.67188, 'metrics/mAP50(B)': 0.82492, 'metrics/mAP50-95(B)': 0.49028, 'val/box_loss': 0.78599, 'val/cls_loss': 0.56328, 'val/dfl_loss': 1.06018, 'fitness': 0.52374}\n",
      "\u001b[34m\u001b[1mTuner: \u001b[0mBest fitness model is ..\\..\\runs\\yolov8m_hyp_finetune88\n",
      "\u001b[34m\u001b[1mTuner: \u001b[0mBest fitness hyperparameters are printed below.\n",
      "\n",
      "Printing '\u001b[1m\u001b[30m..\\..\\runs\\tune9\\best_hyperparameters.yaml\u001b[0m'\n",
      "\n",
      "lr0: 0.00455\n",
      "lrf: 0.01\n",
      "momentum: 0.74231\n",
      "weight_decay: 0.00034\n",
      "warmup_epochs: 2.28255\n",
      "warmup_momentum: 0.84902\n",
      "box: 4.37289\n",
      "cls: 0.36164\n",
      "dfl: 1.48249\n",
      "hsv_h: 0.00612\n",
      "hsv_s: 0.56389\n",
      "hsv_v: 0.3391\n",
      "degrees: 0.0\n",
      "translate: 0.04441\n",
      "scale: 0.47475\n",
      "shear: 0.0\n",
      "perspective: 0.0\n",
      "flipud: 0.0\n",
      "fliplr: 0.096\n",
      "bgr: 0.0\n",
      "mosaic: 0.64538\n",
      "mixup: 0.0\n",
      "copy_paste: 0.0\n",
      "\n",
      "\u001b[34m\u001b[1mTuner: \u001b[0mStarting iteration 94/100 with hyperparameters: {'lr0': 0.00455, 'lrf': 0.01058, 'momentum': 0.73905, 'weight_decay': 0.00038, 'warmup_epochs': 2.51717, 'warmup_momentum': 0.8108, 'box': 4.39754, 'cls': 0.43228, 'dfl': 1.17249, 'hsv_h': 0.00607, 'hsv_s': 0.57832, 'hsv_v': 0.31163, 'degrees': 0.0, 'translate': 0.03689, 'scale': 0.49035, 'shear': 0.0, 'perspective': 0.0, 'flipud': 0.0, 'fliplr': 0.10595, 'bgr': 0.0, 'mosaic': 0.65038, 'mixup': 0.0, 'copy_paste': 0.0}\n",
      "Saved ..\\..\\runs\\tune9\\tune_scatter_plots.png\n",
      "Saved ..\\..\\runs\\tune9\\tune_fitness.png\n",
      "\n",
      "\u001b[34m\u001b[1mTuner: \u001b[0m94/100 iterations complete  (13472.64s)\n",
      "\u001b[34m\u001b[1mTuner: \u001b[0mResults saved to \u001b[1m..\\..\\runs\\tune9\u001b[0m\n",
      "\u001b[34m\u001b[1mTuner: \u001b[0mBest fitness=0.52374 observed at iteration 87\n",
      "\u001b[34m\u001b[1mTuner: \u001b[0mBest fitness metrics are {'metrics/precision(B)': 0.87101, 'metrics/recall(B)': 0.67188, 'metrics/mAP50(B)': 0.82492, 'metrics/mAP50-95(B)': 0.49028, 'val/box_loss': 0.78599, 'val/cls_loss': 0.56328, 'val/dfl_loss': 1.06018, 'fitness': 0.52374}\n",
      "\u001b[34m\u001b[1mTuner: \u001b[0mBest fitness model is ..\\..\\runs\\yolov8m_hyp_finetune88\n",
      "\u001b[34m\u001b[1mTuner: \u001b[0mBest fitness hyperparameters are printed below.\n",
      "\n",
      "Printing '\u001b[1m\u001b[30m..\\..\\runs\\tune9\\best_hyperparameters.yaml\u001b[0m'\n",
      "\n",
      "lr0: 0.00455\n",
      "lrf: 0.01\n",
      "momentum: 0.74231\n",
      "weight_decay: 0.00034\n",
      "warmup_epochs: 2.28255\n",
      "warmup_momentum: 0.84902\n",
      "box: 4.37289\n",
      "cls: 0.36164\n",
      "dfl: 1.48249\n",
      "hsv_h: 0.00612\n",
      "hsv_s: 0.56389\n",
      "hsv_v: 0.3391\n",
      "degrees: 0.0\n",
      "translate: 0.04441\n",
      "scale: 0.47475\n",
      "shear: 0.0\n",
      "perspective: 0.0\n",
      "flipud: 0.0\n",
      "fliplr: 0.096\n",
      "bgr: 0.0\n",
      "mosaic: 0.64538\n",
      "mixup: 0.0\n",
      "copy_paste: 0.0\n",
      "\n",
      "\u001b[34m\u001b[1mTuner: \u001b[0mStarting iteration 95/100 with hyperparameters: {'lr0': 0.00309, 'lrf': 0.00985, 'momentum': 0.78255, 'weight_decay': 0.00034, 'warmup_epochs': 2.32036, 'warmup_momentum': 0.73596, 'box': 3.77458, 'cls': 0.33859, 'dfl': 1.2159, 'hsv_h': 0.00586, 'hsv_s': 0.55303, 'hsv_v': 0.33013, 'degrees': 0.0, 'translate': 0.04441, 'scale': 0.47475, 'shear': 0.0, 'perspective': 0.0, 'flipud': 0.0, 'fliplr': 0.09327, 'bgr': 0.0, 'mosaic': 0.55585, 'mixup': 0.0, 'copy_paste': 0.0}\n",
      "Saved ..\\..\\runs\\tune9\\tune_scatter_plots.png\n",
      "Saved ..\\..\\runs\\tune9\\tune_fitness.png\n",
      "\n",
      "\u001b[34m\u001b[1mTuner: \u001b[0m95/100 iterations complete  (13604.95s)\n",
      "\u001b[34m\u001b[1mTuner: \u001b[0mResults saved to \u001b[1m..\\..\\runs\\tune9\u001b[0m\n",
      "\u001b[34m\u001b[1mTuner: \u001b[0mBest fitness=0.52639 observed at iteration 95\n",
      "\u001b[34m\u001b[1mTuner: \u001b[0mBest fitness metrics are {'metrics/precision(B)': 0.80186, 'metrics/recall(B)': 0.75521, 'metrics/mAP50(B)': 0.82654, 'metrics/mAP50-95(B)': 0.49304, 'val/box_loss': 0.66287, 'val/cls_loss': 0.50039, 'val/dfl_loss': 0.8504, 'fitness': 0.52639}\n",
      "\u001b[34m\u001b[1mTuner: \u001b[0mBest fitness model is ..\\..\\runs\\yolov8m_hyp_finetune96\n",
      "\u001b[34m\u001b[1mTuner: \u001b[0mBest fitness hyperparameters are printed below.\n",
      "\n",
      "Printing '\u001b[1m\u001b[30m..\\..\\runs\\tune9\\best_hyperparameters.yaml\u001b[0m'\n",
      "\n",
      "lr0: 0.00309\n",
      "lrf: 0.00985\n",
      "momentum: 0.78255\n",
      "weight_decay: 0.00034\n",
      "warmup_epochs: 2.32036\n",
      "warmup_momentum: 0.73596\n",
      "box: 3.77458\n",
      "cls: 0.33859\n",
      "dfl: 1.2159\n",
      "hsv_h: 0.00586\n",
      "hsv_s: 0.55303\n",
      "hsv_v: 0.33013\n",
      "degrees: 0.0\n",
      "translate: 0.04441\n",
      "scale: 0.47475\n",
      "shear: 0.0\n",
      "perspective: 0.0\n",
      "flipud: 0.0\n",
      "fliplr: 0.09327\n",
      "bgr: 0.0\n",
      "mosaic: 0.55585\n",
      "mixup: 0.0\n",
      "copy_paste: 0.0\n",
      "\n",
      "\u001b[34m\u001b[1mTuner: \u001b[0mStarting iteration 96/100 with hyperparameters: {'lr0': 0.00311, 'lrf': 0.00985, 'momentum': 0.79526, 'weight_decay': 0.0003, 'warmup_epochs': 2.51954, 'warmup_momentum': 0.73596, 'box': 4.74305, 'cls': 0.43974, 'dfl': 1.2159, 'hsv_h': 0.00378, 'hsv_s': 0.65918, 'hsv_v': 0.3984, 'degrees': 0.0, 'translate': 0.04441, 'scale': 0.65699, 'shear': 0.0, 'perspective': 0.0, 'flipud': 0.0, 'fliplr': 0.10343, 'bgr': 0.0, 'mosaic': 0.6213, 'mixup': 0.0, 'copy_paste': 0.0}\n",
      "Saved ..\\..\\runs\\tune9\\tune_scatter_plots.png\n",
      "Saved ..\\..\\runs\\tune9\\tune_fitness.png\n",
      "\n",
      "\u001b[34m\u001b[1mTuner: \u001b[0m96/100 iterations complete  (13737.26s)\n",
      "\u001b[34m\u001b[1mTuner: \u001b[0mResults saved to \u001b[1m..\\..\\runs\\tune9\u001b[0m\n",
      "\u001b[34m\u001b[1mTuner: \u001b[0mBest fitness=0.52639 observed at iteration 95\n",
      "\u001b[34m\u001b[1mTuner: \u001b[0mBest fitness metrics are {'metrics/precision(B)': 0.80186, 'metrics/recall(B)': 0.75521, 'metrics/mAP50(B)': 0.82654, 'metrics/mAP50-95(B)': 0.49304, 'val/box_loss': 0.66287, 'val/cls_loss': 0.50039, 'val/dfl_loss': 0.8504, 'fitness': 0.52639}\n",
      "\u001b[34m\u001b[1mTuner: \u001b[0mBest fitness model is ..\\..\\runs\\yolov8m_hyp_finetune96\n",
      "\u001b[34m\u001b[1mTuner: \u001b[0mBest fitness hyperparameters are printed below.\n",
      "\n",
      "Printing '\u001b[1m\u001b[30m..\\..\\runs\\tune9\\best_hyperparameters.yaml\u001b[0m'\n",
      "\n",
      "lr0: 0.00309\n",
      "lrf: 0.00985\n",
      "momentum: 0.78255\n",
      "weight_decay: 0.00034\n",
      "warmup_epochs: 2.32036\n",
      "warmup_momentum: 0.73596\n",
      "box: 3.77458\n",
      "cls: 0.33859\n",
      "dfl: 1.2159\n",
      "hsv_h: 0.00586\n",
      "hsv_s: 0.55303\n",
      "hsv_v: 0.33013\n",
      "degrees: 0.0\n",
      "translate: 0.04441\n",
      "scale: 0.47475\n",
      "shear: 0.0\n",
      "perspective: 0.0\n",
      "flipud: 0.0\n",
      "fliplr: 0.09327\n",
      "bgr: 0.0\n",
      "mosaic: 0.55585\n",
      "mixup: 0.0\n",
      "copy_paste: 0.0\n",
      "\n",
      "\u001b[34m\u001b[1mTuner: \u001b[0mStarting iteration 97/100 with hyperparameters: {'lr0': 0.00455, 'lrf': 0.00945, 'momentum': 0.71537, 'weight_decay': 0.00036, 'warmup_epochs': 2.93049, 'warmup_momentum': 0.76236, 'box': 5.07942, 'cls': 0.50679, 'dfl': 1.48249, 'hsv_h': 0.00612, 'hsv_s': 0.56389, 'hsv_v': 0.36828, 'degrees': 0.0, 'translate': 0.04672, 'scale': 0.56943, 'shear': 0.0, 'perspective': 0.0, 'flipud': 0.0, 'fliplr': 0.08208, 'bgr': 0.0, 'mosaic': 0.64538, 'mixup': 0.0, 'copy_paste': 0.0}\n",
      "Saved ..\\..\\runs\\tune9\\tune_scatter_plots.png\n",
      "Saved ..\\..\\runs\\tune9\\tune_fitness.png\n",
      "\n",
      "\u001b[34m\u001b[1mTuner: \u001b[0m97/100 iterations complete  (13869.62s)\n",
      "\u001b[34m\u001b[1mTuner: \u001b[0mResults saved to \u001b[1m..\\..\\runs\\tune9\u001b[0m\n",
      "\u001b[34m\u001b[1mTuner: \u001b[0mBest fitness=0.52639 observed at iteration 95\n",
      "\u001b[34m\u001b[1mTuner: \u001b[0mBest fitness metrics are {'metrics/precision(B)': 0.80186, 'metrics/recall(B)': 0.75521, 'metrics/mAP50(B)': 0.82654, 'metrics/mAP50-95(B)': 0.49304, 'val/box_loss': 0.66287, 'val/cls_loss': 0.50039, 'val/dfl_loss': 0.8504, 'fitness': 0.52639}\n",
      "\u001b[34m\u001b[1mTuner: \u001b[0mBest fitness model is ..\\..\\runs\\yolov8m_hyp_finetune96\n",
      "\u001b[34m\u001b[1mTuner: \u001b[0mBest fitness hyperparameters are printed below.\n",
      "\n",
      "Printing '\u001b[1m\u001b[30m..\\..\\runs\\tune9\\best_hyperparameters.yaml\u001b[0m'\n",
      "\n",
      "lr0: 0.00309\n",
      "lrf: 0.00985\n",
      "momentum: 0.78255\n",
      "weight_decay: 0.00034\n",
      "warmup_epochs: 2.32036\n",
      "warmup_momentum: 0.73596\n",
      "box: 3.77458\n",
      "cls: 0.33859\n",
      "dfl: 1.2159\n",
      "hsv_h: 0.00586\n",
      "hsv_s: 0.55303\n",
      "hsv_v: 0.33013\n",
      "degrees: 0.0\n",
      "translate: 0.04441\n",
      "scale: 0.47475\n",
      "shear: 0.0\n",
      "perspective: 0.0\n",
      "flipud: 0.0\n",
      "fliplr: 0.09327\n",
      "bgr: 0.0\n",
      "mosaic: 0.55585\n",
      "mixup: 0.0\n",
      "copy_paste: 0.0\n",
      "\n",
      "\u001b[34m\u001b[1mTuner: \u001b[0mStarting iteration 98/100 with hyperparameters: {'lr0': 0.00309, 'lrf': 0.00985, 'momentum': 0.77111, 'weight_decay': 0.00034, 'warmup_epochs': 2.09548, 'warmup_momentum': 0.73596, 'box': 4.50087, 'cls': 0.3939, 'dfl': 1.2159, 'hsv_h': 0.00771, 'hsv_s': 0.36491, 'hsv_v': 0.34384, 'degrees': 0.0, 'translate': 0.02964, 'scale': 0.43925, 'shear': 0.0, 'perspective': 0.0, 'flipud': 0.0, 'fliplr': 0.09141, 'bgr': 0.0, 'mosaic': 0.48532, 'mixup': 0.0, 'copy_paste': 0.0}\n",
      "Saved ..\\..\\runs\\tune9\\tune_scatter_plots.png\n",
      "Saved ..\\..\\runs\\tune9\\tune_fitness.png\n",
      "\n",
      "\u001b[34m\u001b[1mTuner: \u001b[0m98/100 iterations complete  (14001.99s)\n",
      "\u001b[34m\u001b[1mTuner: \u001b[0mResults saved to \u001b[1m..\\..\\runs\\tune9\u001b[0m\n",
      "\u001b[34m\u001b[1mTuner: \u001b[0mBest fitness=0.52639 observed at iteration 95\n",
      "\u001b[34m\u001b[1mTuner: \u001b[0mBest fitness metrics are {'metrics/precision(B)': 0.80186, 'metrics/recall(B)': 0.75521, 'metrics/mAP50(B)': 0.82654, 'metrics/mAP50-95(B)': 0.49304, 'val/box_loss': 0.66287, 'val/cls_loss': 0.50039, 'val/dfl_loss': 0.8504, 'fitness': 0.52639}\n",
      "\u001b[34m\u001b[1mTuner: \u001b[0mBest fitness model is ..\\..\\runs\\yolov8m_hyp_finetune96\n",
      "\u001b[34m\u001b[1mTuner: \u001b[0mBest fitness hyperparameters are printed below.\n",
      "\n",
      "Printing '\u001b[1m\u001b[30m..\\..\\runs\\tune9\\best_hyperparameters.yaml\u001b[0m'\n",
      "\n",
      "lr0: 0.00309\n",
      "lrf: 0.00985\n",
      "momentum: 0.78255\n",
      "weight_decay: 0.00034\n",
      "warmup_epochs: 2.32036\n",
      "warmup_momentum: 0.73596\n",
      "box: 3.77458\n",
      "cls: 0.33859\n",
      "dfl: 1.2159\n",
      "hsv_h: 0.00586\n",
      "hsv_s: 0.55303\n",
      "hsv_v: 0.33013\n",
      "degrees: 0.0\n",
      "translate: 0.04441\n",
      "scale: 0.47475\n",
      "shear: 0.0\n",
      "perspective: 0.0\n",
      "flipud: 0.0\n",
      "fliplr: 0.09327\n",
      "bgr: 0.0\n",
      "mosaic: 0.55585\n",
      "mixup: 0.0\n",
      "copy_paste: 0.0\n",
      "\n",
      "\u001b[34m\u001b[1mTuner: \u001b[0mStarting iteration 99/100 with hyperparameters: {'lr0': 0.00322, 'lrf': 0.00686, 'momentum': 0.78246, 'weight_decay': 0.00035, 'warmup_epochs': 2.44112, 'warmup_momentum': 0.8006, 'box': 3.96794, 'cls': 0.46877, 'dfl': 1.61274, 'hsv_h': 0.00696, 'hsv_s': 0.5855, 'hsv_v': 0.43596, 'degrees': 0.0, 'translate': 0.03227, 'scale': 0.31124, 'shear': 0.0, 'perspective': 0.0, 'flipud': 0.0, 'fliplr': 0.08445, 'bgr': 0.0, 'mosaic': 0.54528, 'mixup': 0.0, 'copy_paste': 0.0}\n",
      "Saved ..\\..\\runs\\tune9\\tune_scatter_plots.png\n",
      "Saved ..\\..\\runs\\tune9\\tune_fitness.png\n",
      "\n",
      "\u001b[34m\u001b[1mTuner: \u001b[0m99/100 iterations complete  (14134.67s)\n",
      "\u001b[34m\u001b[1mTuner: \u001b[0mResults saved to \u001b[1m..\\..\\runs\\tune9\u001b[0m\n",
      "\u001b[34m\u001b[1mTuner: \u001b[0mBest fitness=0.52639 observed at iteration 95\n",
      "\u001b[34m\u001b[1mTuner: \u001b[0mBest fitness metrics are {'metrics/precision(B)': 0.80186, 'metrics/recall(B)': 0.75521, 'metrics/mAP50(B)': 0.82654, 'metrics/mAP50-95(B)': 0.49304, 'val/box_loss': 0.66287, 'val/cls_loss': 0.50039, 'val/dfl_loss': 0.8504, 'fitness': 0.52639}\n",
      "\u001b[34m\u001b[1mTuner: \u001b[0mBest fitness model is ..\\..\\runs\\yolov8m_hyp_finetune96\n",
      "\u001b[34m\u001b[1mTuner: \u001b[0mBest fitness hyperparameters are printed below.\n",
      "\n",
      "Printing '\u001b[1m\u001b[30m..\\..\\runs\\tune9\\best_hyperparameters.yaml\u001b[0m'\n",
      "\n",
      "lr0: 0.00309\n",
      "lrf: 0.00985\n",
      "momentum: 0.78255\n",
      "weight_decay: 0.00034\n",
      "warmup_epochs: 2.32036\n",
      "warmup_momentum: 0.73596\n",
      "box: 3.77458\n",
      "cls: 0.33859\n",
      "dfl: 1.2159\n",
      "hsv_h: 0.00586\n",
      "hsv_s: 0.55303\n",
      "hsv_v: 0.33013\n",
      "degrees: 0.0\n",
      "translate: 0.04441\n",
      "scale: 0.47475\n",
      "shear: 0.0\n",
      "perspective: 0.0\n",
      "flipud: 0.0\n",
      "fliplr: 0.09327\n",
      "bgr: 0.0\n",
      "mosaic: 0.55585\n",
      "mixup: 0.0\n",
      "copy_paste: 0.0\n",
      "\n",
      "\u001b[34m\u001b[1mTuner: \u001b[0mStarting iteration 100/100 with hyperparameters: {'lr0': 0.00373, 'lrf': 0.01088, 'momentum': 0.74231, 'weight_decay': 0.00034, 'warmup_epochs': 2.28255, 'warmup_momentum': 0.80558, 'box': 4.80729, 'cls': 0.36164, 'dfl': 1.52341, 'hsv_h': 0.00603, 'hsv_s': 0.69394, 'hsv_v': 0.3391, 'degrees': 0.0, 'translate': 0.0418, 'scale': 0.61661, 'shear': 0.0, 'perspective': 0.0, 'flipud': 0.0, 'fliplr': 0.092, 'bgr': 0.0, 'mosaic': 0.60041, 'mixup': 0.0, 'copy_paste': 0.0}\n",
      "Saved ..\\..\\runs\\tune9\\tune_scatter_plots.png\n",
      "Saved ..\\..\\runs\\tune9\\tune_fitness.png\n",
      "\n",
      "\u001b[34m\u001b[1mTuner: \u001b[0m100/100 iterations complete  (14267.41s)\n",
      "\u001b[34m\u001b[1mTuner: \u001b[0mResults saved to \u001b[1m..\\..\\runs\\tune9\u001b[0m\n",
      "\u001b[34m\u001b[1mTuner: \u001b[0mBest fitness=0.52639 observed at iteration 95\n",
      "\u001b[34m\u001b[1mTuner: \u001b[0mBest fitness metrics are {'metrics/precision(B)': 0.80186, 'metrics/recall(B)': 0.75521, 'metrics/mAP50(B)': 0.82654, 'metrics/mAP50-95(B)': 0.49304, 'val/box_loss': 0.66287, 'val/cls_loss': 0.50039, 'val/dfl_loss': 0.8504, 'fitness': 0.52639}\n",
      "\u001b[34m\u001b[1mTuner: \u001b[0mBest fitness model is ..\\..\\runs\\yolov8m_hyp_finetune96\n",
      "\u001b[34m\u001b[1mTuner: \u001b[0mBest fitness hyperparameters are printed below.\n",
      "\n",
      "Printing '\u001b[1m\u001b[30m..\\..\\runs\\tune9\\best_hyperparameters.yaml\u001b[0m'\n",
      "\n",
      "lr0: 0.00309\n",
      "lrf: 0.00985\n",
      "momentum: 0.78255\n",
      "weight_decay: 0.00034\n",
      "warmup_epochs: 2.32036\n",
      "warmup_momentum: 0.73596\n",
      "box: 3.77458\n",
      "cls: 0.33859\n",
      "dfl: 1.2159\n",
      "hsv_h: 0.00586\n",
      "hsv_s: 0.55303\n",
      "hsv_v: 0.33013\n",
      "degrees: 0.0\n",
      "translate: 0.04441\n",
      "scale: 0.47475\n",
      "shear: 0.0\n",
      "perspective: 0.0\n",
      "flipud: 0.0\n",
      "fliplr: 0.09327\n",
      "bgr: 0.0\n",
      "mosaic: 0.55585\n",
      "mixup: 0.0\n",
      "copy_paste: 0.0\n",
      "\n"
     ]
    }
   ],
   "source": [
    "for model_name in yolo_models:\n",
    "    print(f\"Model : {model_name}\")\n",
    "    model = YOLO(model_name)\n",
    "    model.tune(data=\"data.yaml\", epochs=30, iterations=100, optimizer=\"AdamW\", plots=False, save=False, val=False,name=f'{model_name}_hyp_finetune',project=project)"
   ]
  },
  {
   "cell_type": "code",
   "execution_count": 28,
   "metadata": {},
   "outputs": [
    {
     "data": {
      "text/html": [
       "<div>\n",
       "<style scoped>\n",
       "    .dataframe tbody tr th:only-of-type {\n",
       "        vertical-align: middle;\n",
       "    }\n",
       "\n",
       "    .dataframe tbody tr th {\n",
       "        vertical-align: top;\n",
       "    }\n",
       "\n",
       "    .dataframe thead th {\n",
       "        text-align: right;\n",
       "    }\n",
       "</style>\n",
       "<table border=\"1\" class=\"dataframe\">\n",
       "  <thead>\n",
       "    <tr style=\"text-align: right;\">\n",
       "      <th></th>\n",
       "      <th>fitness</th>\n",
       "      <th>lr0</th>\n",
       "      <th>lrf</th>\n",
       "      <th>momentum</th>\n",
       "      <th>weight_decay</th>\n",
       "      <th>warmup_epochs</th>\n",
       "      <th>warmup_momentum</th>\n",
       "      <th>box</th>\n",
       "      <th>cls</th>\n",
       "      <th>dfl</th>\n",
       "      <th>...</th>\n",
       "      <th>translate</th>\n",
       "      <th>scale</th>\n",
       "      <th>shear</th>\n",
       "      <th>perspective</th>\n",
       "      <th>flipud</th>\n",
       "      <th>fliplr</th>\n",
       "      <th>bgr</th>\n",
       "      <th>mosaic</th>\n",
       "      <th>mixup</th>\n",
       "      <th>copy_paste</th>\n",
       "    </tr>\n",
       "  </thead>\n",
       "  <tbody>\n",
       "    <tr>\n",
       "      <th>82</th>\n",
       "      <td>0.53030</td>\n",
       "      <td>0.00520</td>\n",
       "      <td>0.01373</td>\n",
       "      <td>0.78307</td>\n",
       "      <td>0.00047</td>\n",
       "      <td>1.83134</td>\n",
       "      <td>0.57311</td>\n",
       "      <td>5.55754</td>\n",
       "      <td>0.29102</td>\n",
       "      <td>2.15464</td>\n",
       "      <td>...</td>\n",
       "      <td>0.12186</td>\n",
       "      <td>0.27246</td>\n",
       "      <td>0.0</td>\n",
       "      <td>0.0</td>\n",
       "      <td>0.0</td>\n",
       "      <td>0.34646</td>\n",
       "      <td>0.0</td>\n",
       "      <td>0.98814</td>\n",
       "      <td>0.0</td>\n",
       "      <td>0.0</td>\n",
       "    </tr>\n",
       "    <tr>\n",
       "      <th>75</th>\n",
       "      <td>0.52844</td>\n",
       "      <td>0.00469</td>\n",
       "      <td>0.01402</td>\n",
       "      <td>0.81704</td>\n",
       "      <td>0.00047</td>\n",
       "      <td>1.64718</td>\n",
       "      <td>0.67259</td>\n",
       "      <td>5.88582</td>\n",
       "      <td>0.30737</td>\n",
       "      <td>2.28370</td>\n",
       "      <td>...</td>\n",
       "      <td>0.10950</td>\n",
       "      <td>0.32015</td>\n",
       "      <td>0.0</td>\n",
       "      <td>0.0</td>\n",
       "      <td>0.0</td>\n",
       "      <td>0.35439</td>\n",
       "      <td>0.0</td>\n",
       "      <td>0.88960</td>\n",
       "      <td>0.0</td>\n",
       "      <td>0.0</td>\n",
       "    </tr>\n",
       "    <tr>\n",
       "      <th>69</th>\n",
       "      <td>0.52352</td>\n",
       "      <td>0.00463</td>\n",
       "      <td>0.01373</td>\n",
       "      <td>0.82307</td>\n",
       "      <td>0.00047</td>\n",
       "      <td>1.64718</td>\n",
       "      <td>0.67259</td>\n",
       "      <td>5.42996</td>\n",
       "      <td>0.29007</td>\n",
       "      <td>2.15464</td>\n",
       "      <td>...</td>\n",
       "      <td>0.11490</td>\n",
       "      <td>0.29982</td>\n",
       "      <td>0.0</td>\n",
       "      <td>0.0</td>\n",
       "      <td>0.0</td>\n",
       "      <td>0.34263</td>\n",
       "      <td>0.0</td>\n",
       "      <td>0.94916</td>\n",
       "      <td>0.0</td>\n",
       "      <td>0.0</td>\n",
       "    </tr>\n",
       "    <tr>\n",
       "      <th>68</th>\n",
       "      <td>0.52328</td>\n",
       "      <td>0.00431</td>\n",
       "      <td>0.01079</td>\n",
       "      <td>0.87811</td>\n",
       "      <td>0.00046</td>\n",
       "      <td>1.72258</td>\n",
       "      <td>0.69575</td>\n",
       "      <td>5.51495</td>\n",
       "      <td>0.27681</td>\n",
       "      <td>2.08879</td>\n",
       "      <td>...</td>\n",
       "      <td>0.09168</td>\n",
       "      <td>0.33485</td>\n",
       "      <td>0.0</td>\n",
       "      <td>0.0</td>\n",
       "      <td>0.0</td>\n",
       "      <td>0.33200</td>\n",
       "      <td>0.0</td>\n",
       "      <td>0.96171</td>\n",
       "      <td>0.0</td>\n",
       "      <td>0.0</td>\n",
       "    </tr>\n",
       "    <tr>\n",
       "      <th>96</th>\n",
       "      <td>0.52253</td>\n",
       "      <td>0.00583</td>\n",
       "      <td>0.01299</td>\n",
       "      <td>0.76951</td>\n",
       "      <td>0.00053</td>\n",
       "      <td>1.32911</td>\n",
       "      <td>0.57311</td>\n",
       "      <td>5.68494</td>\n",
       "      <td>0.25837</td>\n",
       "      <td>2.15464</td>\n",
       "      <td>...</td>\n",
       "      <td>0.12186</td>\n",
       "      <td>0.22731</td>\n",
       "      <td>0.0</td>\n",
       "      <td>0.0</td>\n",
       "      <td>0.0</td>\n",
       "      <td>0.28795</td>\n",
       "      <td>0.0</td>\n",
       "      <td>0.94049</td>\n",
       "      <td>0.0</td>\n",
       "      <td>0.0</td>\n",
       "    </tr>\n",
       "    <tr>\n",
       "      <th>...</th>\n",
       "      <td>...</td>\n",
       "      <td>...</td>\n",
       "      <td>...</td>\n",
       "      <td>...</td>\n",
       "      <td>...</td>\n",
       "      <td>...</td>\n",
       "      <td>...</td>\n",
       "      <td>...</td>\n",
       "      <td>...</td>\n",
       "      <td>...</td>\n",
       "      <td>...</td>\n",
       "      <td>...</td>\n",
       "      <td>...</td>\n",
       "      <td>...</td>\n",
       "      <td>...</td>\n",
       "      <td>...</td>\n",
       "      <td>...</td>\n",
       "      <td>...</td>\n",
       "      <td>...</td>\n",
       "      <td>...</td>\n",
       "      <td>...</td>\n",
       "    </tr>\n",
       "    <tr>\n",
       "      <th>12</th>\n",
       "      <td>0.39078</td>\n",
       "      <td>0.01001</td>\n",
       "      <td>0.01299</td>\n",
       "      <td>0.91203</td>\n",
       "      <td>0.00044</td>\n",
       "      <td>3.59326</td>\n",
       "      <td>0.84851</td>\n",
       "      <td>6.93812</td>\n",
       "      <td>0.43559</td>\n",
       "      <td>1.81896</td>\n",
       "      <td>...</td>\n",
       "      <td>0.08128</td>\n",
       "      <td>0.50032</td>\n",
       "      <td>0.0</td>\n",
       "      <td>0.0</td>\n",
       "      <td>0.0</td>\n",
       "      <td>0.55468</td>\n",
       "      <td>0.0</td>\n",
       "      <td>1.00000</td>\n",
       "      <td>0.0</td>\n",
       "      <td>0.0</td>\n",
       "    </tr>\n",
       "    <tr>\n",
       "      <th>3</th>\n",
       "      <td>0.38501</td>\n",
       "      <td>0.01121</td>\n",
       "      <td>0.00960</td>\n",
       "      <td>0.94515</td>\n",
       "      <td>0.00040</td>\n",
       "      <td>2.63028</td>\n",
       "      <td>0.63501</td>\n",
       "      <td>7.04875</td>\n",
       "      <td>0.50795</td>\n",
       "      <td>1.47980</td>\n",
       "      <td>...</td>\n",
       "      <td>0.09993</td>\n",
       "      <td>0.49211</td>\n",
       "      <td>0.0</td>\n",
       "      <td>0.0</td>\n",
       "      <td>0.0</td>\n",
       "      <td>0.49525</td>\n",
       "      <td>0.0</td>\n",
       "      <td>1.00000</td>\n",
       "      <td>0.0</td>\n",
       "      <td>0.0</td>\n",
       "    </tr>\n",
       "    <tr>\n",
       "      <th>5</th>\n",
       "      <td>0.37238</td>\n",
       "      <td>0.01019</td>\n",
       "      <td>0.01101</td>\n",
       "      <td>0.93700</td>\n",
       "      <td>0.00047</td>\n",
       "      <td>2.91529</td>\n",
       "      <td>0.83398</td>\n",
       "      <td>8.41079</td>\n",
       "      <td>0.42004</td>\n",
       "      <td>1.73003</td>\n",
       "      <td>...</td>\n",
       "      <td>0.08678</td>\n",
       "      <td>0.50000</td>\n",
       "      <td>0.0</td>\n",
       "      <td>0.0</td>\n",
       "      <td>0.0</td>\n",
       "      <td>0.50000</td>\n",
       "      <td>0.0</td>\n",
       "      <td>1.00000</td>\n",
       "      <td>0.0</td>\n",
       "      <td>0.0</td>\n",
       "    </tr>\n",
       "    <tr>\n",
       "      <th>1</th>\n",
       "      <td>0.36532</td>\n",
       "      <td>0.01000</td>\n",
       "      <td>0.01026</td>\n",
       "      <td>0.94393</td>\n",
       "      <td>0.00050</td>\n",
       "      <td>3.00000</td>\n",
       "      <td>0.79008</td>\n",
       "      <td>6.91915</td>\n",
       "      <td>0.50795</td>\n",
       "      <td>1.50000</td>\n",
       "      <td>...</td>\n",
       "      <td>0.10375</td>\n",
       "      <td>0.47895</td>\n",
       "      <td>0.0</td>\n",
       "      <td>0.0</td>\n",
       "      <td>0.0</td>\n",
       "      <td>0.49525</td>\n",
       "      <td>0.0</td>\n",
       "      <td>1.00000</td>\n",
       "      <td>0.0</td>\n",
       "      <td>0.0</td>\n",
       "    </tr>\n",
       "    <tr>\n",
       "      <th>2</th>\n",
       "      <td>0.34041</td>\n",
       "      <td>0.01000</td>\n",
       "      <td>0.01025</td>\n",
       "      <td>0.95747</td>\n",
       "      <td>0.00050</td>\n",
       "      <td>2.95580</td>\n",
       "      <td>0.69595</td>\n",
       "      <td>7.50000</td>\n",
       "      <td>0.57067</td>\n",
       "      <td>1.49238</td>\n",
       "      <td>...</td>\n",
       "      <td>0.09571</td>\n",
       "      <td>0.55887</td>\n",
       "      <td>0.0</td>\n",
       "      <td>0.0</td>\n",
       "      <td>0.0</td>\n",
       "      <td>0.41274</td>\n",
       "      <td>0.0</td>\n",
       "      <td>1.00000</td>\n",
       "      <td>0.0</td>\n",
       "      <td>0.0</td>\n",
       "    </tr>\n",
       "  </tbody>\n",
       "</table>\n",
       "<p>100 rows × 24 columns</p>\n",
       "</div>"
      ],
      "text/plain": [
       "    fitness      lr0      lrf  momentum  weight_decay  warmup_epochs  \\\n",
       "82  0.53030  0.00520  0.01373   0.78307       0.00047        1.83134   \n",
       "75  0.52844  0.00469  0.01402   0.81704       0.00047        1.64718   \n",
       "69  0.52352  0.00463  0.01373   0.82307       0.00047        1.64718   \n",
       "68  0.52328  0.00431  0.01079   0.87811       0.00046        1.72258   \n",
       "96  0.52253  0.00583  0.01299   0.76951       0.00053        1.32911   \n",
       "..      ...      ...      ...       ...           ...            ...   \n",
       "12  0.39078  0.01001  0.01299   0.91203       0.00044        3.59326   \n",
       "3   0.38501  0.01121  0.00960   0.94515       0.00040        2.63028   \n",
       "5   0.37238  0.01019  0.01101   0.93700       0.00047        2.91529   \n",
       "1   0.36532  0.01000  0.01026   0.94393       0.00050        3.00000   \n",
       "2   0.34041  0.01000  0.01025   0.95747       0.00050        2.95580   \n",
       "\n",
       "    warmup_momentum      box      cls      dfl  ...  translate    scale  \\\n",
       "82          0.57311  5.55754  0.29102  2.15464  ...    0.12186  0.27246   \n",
       "75          0.67259  5.88582  0.30737  2.28370  ...    0.10950  0.32015   \n",
       "69          0.67259  5.42996  0.29007  2.15464  ...    0.11490  0.29982   \n",
       "68          0.69575  5.51495  0.27681  2.08879  ...    0.09168  0.33485   \n",
       "96          0.57311  5.68494  0.25837  2.15464  ...    0.12186  0.22731   \n",
       "..              ...      ...      ...      ...  ...        ...      ...   \n",
       "12          0.84851  6.93812  0.43559  1.81896  ...    0.08128  0.50032   \n",
       "3           0.63501  7.04875  0.50795  1.47980  ...    0.09993  0.49211   \n",
       "5           0.83398  8.41079  0.42004  1.73003  ...    0.08678  0.50000   \n",
       "1           0.79008  6.91915  0.50795  1.50000  ...    0.10375  0.47895   \n",
       "2           0.69595  7.50000  0.57067  1.49238  ...    0.09571  0.55887   \n",
       "\n",
       "    shear  perspective  flipud   fliplr  bgr   mosaic  mixup  copy_paste  \n",
       "82    0.0          0.0     0.0  0.34646  0.0  0.98814    0.0         0.0  \n",
       "75    0.0          0.0     0.0  0.35439  0.0  0.88960    0.0         0.0  \n",
       "69    0.0          0.0     0.0  0.34263  0.0  0.94916    0.0         0.0  \n",
       "68    0.0          0.0     0.0  0.33200  0.0  0.96171    0.0         0.0  \n",
       "96    0.0          0.0     0.0  0.28795  0.0  0.94049    0.0         0.0  \n",
       "..    ...          ...     ...      ...  ...      ...    ...         ...  \n",
       "12    0.0          0.0     0.0  0.55468  0.0  1.00000    0.0         0.0  \n",
       "3     0.0          0.0     0.0  0.49525  0.0  1.00000    0.0         0.0  \n",
       "5     0.0          0.0     0.0  0.50000  0.0  1.00000    0.0         0.0  \n",
       "1     0.0          0.0     0.0  0.49525  0.0  1.00000    0.0         0.0  \n",
       "2     0.0          0.0     0.0  0.41274  0.0  1.00000    0.0         0.0  \n",
       "\n",
       "[100 rows x 24 columns]"
      ]
     },
     "execution_count": 28,
     "metadata": {},
     "output_type": "execute_result"
    }
   ],
   "source": [
    "import pandas as pd\n",
    "df = pd.read_csv(os.path.join(project,\"yolov8s_tune\",\"tune_results.csv\"))\n",
    "df.sort_values(by=\"fitness\",ascending=False)\n",
    "\n"
   ]
  },
  {
   "cell_type": "code",
   "execution_count": 29,
   "metadata": {},
   "outputs": [
    {
     "name": "stdout",
     "output_type": "stream",
     "text": [
      "Model : yolov8s\n",
      "Ultralytics YOLOv8.2.93  Python-3.10.6 torch-2.3.1+cu118 CUDA:0 (NVIDIA GeForce RTX 3060, 12288MiB)\n",
      "\u001b[34m\u001b[1mengine\\trainer: \u001b[0mtask=detect, mode=train, model=yolov8s.pt, data=data.yaml, epochs=200, time=None, patience=100, batch=16, imgsz=640, save=True, save_period=-1, cache=False, device=None, workers=8, project=..\\..\\runs, name=yolov8s_hyp_finetune_best_param, exist_ok=False, pretrained=True, optimizer=AdamW, verbose=True, seed=0, deterministic=True, single_cls=False, rect=False, cos_lr=False, close_mosaic=10, resume=False, amp=True, fraction=1.0, profile=False, freeze=None, multi_scale=False, overlap_mask=True, mask_ratio=4, dropout=0.0, val=True, split=val, save_json=False, save_hybrid=False, conf=None, iou=0.7, max_det=300, half=False, dnn=False, plots=True, source=None, vid_stride=1, stream_buffer=False, visualize=False, augment=False, agnostic_nms=False, classes=None, retina_masks=False, embed=None, show=False, save_frames=False, save_txt=False, save_conf=False, save_crop=False, show_labels=True, show_conf=True, show_boxes=True, line_width=None, format=torchscript, keras=False, optimize=False, int8=False, dynamic=False, simplify=False, opset=None, workspace=4, nms=False, lr0=0.0052, lrf=0.01373, momentum=0.78307, weight_decay=0.00047, warmup_epochs=1.83134, warmup_momentum=0.57311, warmup_bias_lr=0.1, box=5.55754, cls=0.29102, dfl=2.15464, pose=12.0, kobj=1.0, label_smoothing=0.0, nbs=64, hsv_h=0.01184, hsv_s=0.57728, hsv_v=0.32665, degrees=0.0, translate=0.12186, scale=0.27246, shear=0.0, perspective=0.0, flipud=0.0, fliplr=0.34646, bgr=0.0, mosaic=0.98814, mixup=0.0, copy_paste=0.0, auto_augment=randaugment, erasing=0.4, crop_fraction=1.0, cfg=None, tracker=botsort.yaml, save_dir=..\\..\\runs\\yolov8s_hyp_finetune_best_param\n",
      "Overriding model.yaml nc=80 with nc=1\n",
      "\n",
      "                   from  n    params  module                                       arguments                     \n",
      "  0                  -1  1       928  ultralytics.nn.modules.conv.Conv             [3, 32, 3, 2]                 \n",
      "  1                  -1  1     18560  ultralytics.nn.modules.conv.Conv             [32, 64, 3, 2]                \n",
      "  2                  -1  1     29056  ultralytics.nn.modules.block.C2f             [64, 64, 1, True]             \n",
      "  3                  -1  1     73984  ultralytics.nn.modules.conv.Conv             [64, 128, 3, 2]               \n",
      "  4                  -1  2    197632  ultralytics.nn.modules.block.C2f             [128, 128, 2, True]           \n",
      "  5                  -1  1    295424  ultralytics.nn.modules.conv.Conv             [128, 256, 3, 2]              \n",
      "  6                  -1  2    788480  ultralytics.nn.modules.block.C2f             [256, 256, 2, True]           \n",
      "  7                  -1  1   1180672  ultralytics.nn.modules.conv.Conv             [256, 512, 3, 2]              \n",
      "  8                  -1  1   1838080  ultralytics.nn.modules.block.C2f             [512, 512, 1, True]           \n",
      "  9                  -1  1    656896  ultralytics.nn.modules.block.SPPF            [512, 512, 5]                 \n",
      " 10                  -1  1         0  torch.nn.modules.upsampling.Upsample         [None, 2, 'nearest']          \n",
      " 11             [-1, 6]  1         0  ultralytics.nn.modules.conv.Concat           [1]                           \n",
      " 12                  -1  1    591360  ultralytics.nn.modules.block.C2f             [768, 256, 1]                 \n",
      " 13                  -1  1         0  torch.nn.modules.upsampling.Upsample         [None, 2, 'nearest']          \n",
      " 14             [-1, 4]  1         0  ultralytics.nn.modules.conv.Concat           [1]                           \n",
      " 15                  -1  1    148224  ultralytics.nn.modules.block.C2f             [384, 128, 1]                 \n",
      " 16                  -1  1    147712  ultralytics.nn.modules.conv.Conv             [128, 128, 3, 2]              \n",
      " 17            [-1, 12]  1         0  ultralytics.nn.modules.conv.Concat           [1]                           \n",
      " 18                  -1  1    493056  ultralytics.nn.modules.block.C2f             [384, 256, 1]                 \n",
      " 19                  -1  1    590336  ultralytics.nn.modules.conv.Conv             [256, 256, 3, 2]              \n",
      " 20             [-1, 9]  1         0  ultralytics.nn.modules.conv.Concat           [1]                           \n",
      " 21                  -1  1   1969152  ultralytics.nn.modules.block.C2f             [768, 512, 1]                 \n",
      " 22        [15, 18, 21]  1   2116435  ultralytics.nn.modules.head.Detect           [1, [128, 256, 512]]          \n",
      "Model summary: 225 layers, 11,135,987 parameters, 11,135,971 gradients, 28.6 GFLOPs\n",
      "\n",
      "Transferred 349/355 items from pretrained weights\n",
      "Freezing layer 'model.22.dfl.conv.weight'\n",
      "\u001b[34m\u001b[1mAMP: \u001b[0mrunning Automatic Mixed Precision (AMP) checks with YOLOv8n...\n",
      "\u001b[34m\u001b[1mAMP: \u001b[0mchecks passed \n"
     ]
    },
    {
     "name": "stderr",
     "output_type": "stream",
     "text": [
      "\u001b[34m\u001b[1mtrain: \u001b[0mScanning C:\\Users\\i_kaz\\datasets\\StreetOwl\\train\\labels.cache... 72 images, 0 backgrounds, 0 corrupt: 100%|██████████| 72/72 [00:00<?, ?it/s]\n",
      "\u001b[34m\u001b[1mval: \u001b[0mScanning C:\\Users\\i_kaz\\datasets\\StreetOwl\\valid\\labels.cache... 21 images, 0 backgrounds, 0 corrupt: 100%|██████████| 21/21 [00:00<?, ?it/s]\n"
     ]
    },
    {
     "name": "stdout",
     "output_type": "stream",
     "text": [
      "Plotting labels to ..\\..\\runs\\yolov8s_hyp_finetune_best_param\\labels.jpg... \n",
      "\u001b[34m\u001b[1moptimizer:\u001b[0m AdamW(lr=0.0052, momentum=0.78307) with parameter groups 57 weight(decay=0.0), 64 weight(decay=0.00047), 63 bias(decay=0.0)\n"
     ]
    },
    {
     "name": "stderr",
     "output_type": "stream",
     "text": [
      "2024/09/15 09:26:10 INFO mlflow.tracking.fluent: Autologging successfully enabled for statsmodels.\n"
     ]
    },
    {
     "name": "stdout",
     "output_type": "stream",
     "text": [
      "\u001b[34m\u001b[1mMLflow: \u001b[0mlogging run_id(a616103e2cd94049bf4bbd44907477e5) to runs\\mlflow\n",
      "\u001b[34m\u001b[1mMLflow: \u001b[0mview at http://127.0.0.1:5000 with 'mlflow server --backend-store-uri runs\\mlflow'\n",
      "\u001b[34m\u001b[1mMLflow: \u001b[0mdisable with 'yolo settings mlflow=False'\n",
      "Image sizes 640 train, 640 val\n",
      "Using 8 dataloader workers\n",
      "Logging results to \u001b[1m..\\..\\runs\\yolov8s_hyp_finetune_best_param\u001b[0m\n",
      "Starting training for 200 epochs...\n",
      "\n",
      "      Epoch    GPU_mem   box_loss   cls_loss   dfl_loss  Instances       Size\n"
     ]
    },
    {
     "name": "stderr",
     "output_type": "stream",
     "text": [
      "      1/200      4.75G      1.302      1.406      1.801        117        640: 100%|██████████| 5/5 [00:01<00:00,  3.17it/s]\n",
      "                 Class     Images  Instances      Box(P          R      mAP50  mAP50-95): 100%|██████████| 1/1 [00:02<00:00,  2.70s/it]"
     ]
    },
    {
     "name": "stdout",
     "output_type": "stream",
     "text": [
      "                   all         21        192      0.296      0.474      0.288      0.103\n"
     ]
    },
    {
     "name": "stderr",
     "output_type": "stream",
     "text": [
      "\n"
     ]
    },
    {
     "name": "stdout",
     "output_type": "stream",
     "text": [
      "\n",
      "      Epoch    GPU_mem   box_loss   cls_loss   dfl_loss  Instances       Size\n"
     ]
    },
    {
     "name": "stderr",
     "output_type": "stream",
     "text": [
      "      2/200      4.55G      1.242      1.199      1.567        127        640: 100%|██████████| 5/5 [00:01<00:00,  3.61it/s]\n",
      "                 Class     Images  Instances      Box(P          R      mAP50  mAP50-95): 100%|██████████| 1/1 [00:00<00:00,  7.09it/s]"
     ]
    },
    {
     "name": "stdout",
     "output_type": "stream",
     "text": [
      "                   all         21        192      0.199      0.198      0.122      0.042\n"
     ]
    },
    {
     "name": "stderr",
     "output_type": "stream",
     "text": [
      "\n"
     ]
    },
    {
     "name": "stdout",
     "output_type": "stream",
     "text": [
      "\n",
      "      Epoch    GPU_mem   box_loss   cls_loss   dfl_loss  Instances       Size\n"
     ]
    },
    {
     "name": "stderr",
     "output_type": "stream",
     "text": [
      "      3/200      4.54G      1.271      1.061      1.582         70        640: 100%|██████████| 5/5 [00:01<00:00,  4.65it/s]\n",
      "                 Class     Images  Instances      Box(P          R      mAP50  mAP50-95): 100%|██████████| 1/1 [00:00<00:00,  6.90it/s]"
     ]
    },
    {
     "name": "stdout",
     "output_type": "stream",
     "text": [
      "                   all         21        192      0.667      0.396      0.411      0.173\n"
     ]
    },
    {
     "name": "stderr",
     "output_type": "stream",
     "text": [
      "\n"
     ]
    },
    {
     "name": "stdout",
     "output_type": "stream",
     "text": [
      "\n",
      "      Epoch    GPU_mem   box_loss   cls_loss   dfl_loss  Instances       Size\n"
     ]
    },
    {
     "name": "stderr",
     "output_type": "stream",
     "text": [
      "      4/200       4.6G        1.2     0.7207      1.542        166        640: 100%|██████████| 5/5 [00:01<00:00,  4.89it/s]\n",
      "                 Class     Images  Instances      Box(P          R      mAP50  mAP50-95): 100%|██████████| 1/1 [00:00<00:00,  7.63it/s]"
     ]
    },
    {
     "name": "stdout",
     "output_type": "stream",
     "text": [
      "                   all         21        192      0.404      0.495      0.284      0.095\n"
     ]
    },
    {
     "name": "stderr",
     "output_type": "stream",
     "text": [
      "\n"
     ]
    },
    {
     "name": "stdout",
     "output_type": "stream",
     "text": [
      "\n",
      "      Epoch    GPU_mem   box_loss   cls_loss   dfl_loss  Instances       Size\n"
     ]
    },
    {
     "name": "stderr",
     "output_type": "stream",
     "text": [
      "      5/200      4.72G      1.164     0.6616      1.532         99        640: 100%|██████████| 5/5 [00:01<00:00,  4.86it/s]\n",
      "                 Class     Images  Instances      Box(P          R      mAP50  mAP50-95): 100%|██████████| 1/1 [00:00<00:00,  7.87it/s]"
     ]
    },
    {
     "name": "stdout",
     "output_type": "stream",
     "text": [
      "                   all         21        192      0.435      0.573      0.469      0.196\n"
     ]
    },
    {
     "name": "stderr",
     "output_type": "stream",
     "text": [
      "\n"
     ]
    },
    {
     "name": "stdout",
     "output_type": "stream",
     "text": [
      "\n",
      "      Epoch    GPU_mem   box_loss   cls_loss   dfl_loss  Instances       Size\n"
     ]
    },
    {
     "name": "stderr",
     "output_type": "stream",
     "text": [
      "      6/200      4.69G      1.158     0.8503      1.511        210        640: 100%|██████████| 5/5 [00:01<00:00,  4.90it/s]\n",
      "                 Class     Images  Instances      Box(P          R      mAP50  mAP50-95): 100%|██████████| 1/1 [00:00<00:00,  6.67it/s]"
     ]
    },
    {
     "name": "stdout",
     "output_type": "stream",
     "text": [
      "                   all         21        192      0.462      0.281      0.292      0.106\n"
     ]
    },
    {
     "name": "stderr",
     "output_type": "stream",
     "text": [
      "\n"
     ]
    },
    {
     "name": "stdout",
     "output_type": "stream",
     "text": [
      "\n",
      "      Epoch    GPU_mem   box_loss   cls_loss   dfl_loss  Instances       Size\n"
     ]
    },
    {
     "name": "stderr",
     "output_type": "stream",
     "text": [
      "      7/200      4.76G      1.144      0.757      1.567        122        640: 100%|██████████| 5/5 [00:01<00:00,  4.75it/s]\n",
      "                 Class     Images  Instances      Box(P          R      mAP50  mAP50-95): 100%|██████████| 1/1 [00:00<00:00,  7.58it/s]"
     ]
    },
    {
     "name": "stdout",
     "output_type": "stream",
     "text": [
      "                   all         21        192      0.358      0.427      0.316      0.133\n"
     ]
    },
    {
     "name": "stderr",
     "output_type": "stream",
     "text": [
      "\n"
     ]
    },
    {
     "name": "stdout",
     "output_type": "stream",
     "text": [
      "\n",
      "      Epoch    GPU_mem   box_loss   cls_loss   dfl_loss  Instances       Size\n"
     ]
    },
    {
     "name": "stderr",
     "output_type": "stream",
     "text": [
      "      8/200      4.72G      1.237     0.7381      1.607        140        640: 100%|██████████| 5/5 [00:01<00:00,  4.99it/s]\n",
      "                 Class     Images  Instances      Box(P          R      mAP50  mAP50-95): 100%|██████████| 1/1 [00:00<00:00,  7.81it/s]"
     ]
    },
    {
     "name": "stdout",
     "output_type": "stream",
     "text": [
      "                   all         21        192      0.569      0.375       0.38      0.179\n"
     ]
    },
    {
     "name": "stderr",
     "output_type": "stream",
     "text": [
      "\n"
     ]
    },
    {
     "name": "stdout",
     "output_type": "stream",
     "text": [
      "\n",
      "      Epoch    GPU_mem   box_loss   cls_loss   dfl_loss  Instances       Size\n"
     ]
    },
    {
     "name": "stderr",
     "output_type": "stream",
     "text": [
      "      9/200       4.7G      1.197     0.7145      1.554        209        640: 100%|██████████| 5/5 [00:01<00:00,  4.84it/s]\n",
      "                 Class     Images  Instances      Box(P          R      mAP50  mAP50-95): 100%|██████████| 1/1 [00:00<00:00,  7.35it/s]"
     ]
    },
    {
     "name": "stdout",
     "output_type": "stream",
     "text": [
      "                   all         21        192     0.0142      0.099    0.00737    0.00246\n"
     ]
    },
    {
     "name": "stderr",
     "output_type": "stream",
     "text": [
      "\n"
     ]
    },
    {
     "name": "stdout",
     "output_type": "stream",
     "text": [
      "\n",
      "      Epoch    GPU_mem   box_loss   cls_loss   dfl_loss  Instances       Size\n"
     ]
    },
    {
     "name": "stderr",
     "output_type": "stream",
     "text": [
      "     10/200      4.72G      1.194     0.7201      1.605         82        640: 100%|██████████| 5/5 [00:01<00:00,  4.90it/s]\n",
      "                 Class     Images  Instances      Box(P          R      mAP50  mAP50-95): 100%|██████████| 1/1 [00:00<00:00,  7.69it/s]"
     ]
    },
    {
     "name": "stdout",
     "output_type": "stream",
     "text": [
      "                   all         21        192      0.118      0.505      0.102     0.0417\n"
     ]
    },
    {
     "name": "stderr",
     "output_type": "stream",
     "text": [
      "\n"
     ]
    },
    {
     "name": "stdout",
     "output_type": "stream",
     "text": [
      "\n",
      "      Epoch    GPU_mem   box_loss   cls_loss   dfl_loss  Instances       Size\n"
     ]
    },
    {
     "name": "stderr",
     "output_type": "stream",
     "text": [
      "     11/200      4.71G       1.17      0.758      1.546        147        640: 100%|██████████| 5/5 [00:01<00:00,  4.84it/s]\n",
      "                 Class     Images  Instances      Box(P          R      mAP50  mAP50-95): 100%|██████████| 1/1 [00:00<00:00,  7.14it/s]"
     ]
    },
    {
     "name": "stdout",
     "output_type": "stream",
     "text": [
      "                   all         21        192      0.585      0.521      0.519      0.247\n"
     ]
    },
    {
     "name": "stderr",
     "output_type": "stream",
     "text": [
      "\n"
     ]
    },
    {
     "name": "stdout",
     "output_type": "stream",
     "text": [
      "\n",
      "      Epoch    GPU_mem   box_loss   cls_loss   dfl_loss  Instances       Size\n"
     ]
    },
    {
     "name": "stderr",
     "output_type": "stream",
     "text": [
      "     12/200      4.71G       1.12     0.7767      1.625        175        640: 100%|██████████| 5/5 [00:00<00:00,  5.07it/s]\n",
      "                 Class     Images  Instances      Box(P          R      mAP50  mAP50-95): 100%|██████████| 1/1 [00:00<00:00,  7.41it/s]"
     ]
    },
    {
     "name": "stdout",
     "output_type": "stream",
     "text": [
      "                   all         21        192      0.352      0.354      0.292      0.144\n"
     ]
    },
    {
     "name": "stderr",
     "output_type": "stream",
     "text": [
      "\n"
     ]
    },
    {
     "name": "stdout",
     "output_type": "stream",
     "text": [
      "\n",
      "      Epoch    GPU_mem   box_loss   cls_loss   dfl_loss  Instances       Size\n"
     ]
    },
    {
     "name": "stderr",
     "output_type": "stream",
     "text": [
      "     13/200      4.72G      1.148     0.6763      1.614        124        640: 100%|██████████| 5/5 [00:00<00:00,  5.08it/s]\n",
      "                 Class     Images  Instances      Box(P          R      mAP50  mAP50-95): 100%|██████████| 1/1 [00:00<00:00,  7.09it/s]"
     ]
    },
    {
     "name": "stdout",
     "output_type": "stream",
     "text": [
      "                   all         21        192     0.0468      0.214      0.027     0.0127\n"
     ]
    },
    {
     "name": "stderr",
     "output_type": "stream",
     "text": [
      "\n"
     ]
    },
    {
     "name": "stdout",
     "output_type": "stream",
     "text": [
      "\n",
      "      Epoch    GPU_mem   box_loss   cls_loss   dfl_loss  Instances       Size\n"
     ]
    },
    {
     "name": "stderr",
     "output_type": "stream",
     "text": [
      "     14/200      4.58G      1.182     0.6825      1.622        154        640: 100%|██████████| 5/5 [00:01<00:00,  4.94it/s]\n",
      "                 Class     Images  Instances      Box(P          R      mAP50  mAP50-95): 100%|██████████| 1/1 [00:00<00:00,  7.41it/s]"
     ]
    },
    {
     "name": "stdout",
     "output_type": "stream",
     "text": [
      "                   all         21        192     0.0818      0.286     0.0712     0.0361\n"
     ]
    },
    {
     "name": "stderr",
     "output_type": "stream",
     "text": [
      "\n"
     ]
    },
    {
     "name": "stdout",
     "output_type": "stream",
     "text": [
      "\n",
      "      Epoch    GPU_mem   box_loss   cls_loss   dfl_loss  Instances       Size\n"
     ]
    },
    {
     "name": "stderr",
     "output_type": "stream",
     "text": [
      "     15/200      4.74G      1.251     0.7811      1.655        140        640: 100%|██████████| 5/5 [00:01<00:00,  4.94it/s]\n",
      "                 Class     Images  Instances      Box(P          R      mAP50  mAP50-95): 100%|██████████| 1/1 [00:00<00:00,  7.19it/s]"
     ]
    },
    {
     "name": "stdout",
     "output_type": "stream",
     "text": [
      "                   all         21        192     0.0368      0.234     0.0258     0.0124\n"
     ]
    },
    {
     "name": "stderr",
     "output_type": "stream",
     "text": [
      "\n"
     ]
    },
    {
     "name": "stdout",
     "output_type": "stream",
     "text": [
      "\n",
      "      Epoch    GPU_mem   box_loss   cls_loss   dfl_loss  Instances       Size\n"
     ]
    },
    {
     "name": "stderr",
     "output_type": "stream",
     "text": [
      "     16/200      4.68G      1.298      0.755      1.766        181        640: 100%|██████████| 5/5 [00:00<00:00,  5.03it/s]\n",
      "                 Class     Images  Instances      Box(P          R      mAP50  mAP50-95): 100%|██████████| 1/1 [00:00<00:00,  7.58it/s]"
     ]
    },
    {
     "name": "stdout",
     "output_type": "stream",
     "text": [
      "                   all         21        192      0.195      0.151      0.113     0.0639\n"
     ]
    },
    {
     "name": "stderr",
     "output_type": "stream",
     "text": [
      "\n"
     ]
    },
    {
     "name": "stdout",
     "output_type": "stream",
     "text": [
      "\n",
      "      Epoch    GPU_mem   box_loss   cls_loss   dfl_loss  Instances       Size\n"
     ]
    },
    {
     "name": "stderr",
     "output_type": "stream",
     "text": [
      "     17/200      4.71G      1.292     0.7562      1.724         88        640: 100%|██████████| 5/5 [00:00<00:00,  5.17it/s]\n",
      "                 Class     Images  Instances      Box(P          R      mAP50  mAP50-95): 100%|██████████| 1/1 [00:00<00:00,  8.06it/s]"
     ]
    },
    {
     "name": "stdout",
     "output_type": "stream",
     "text": [
      "                   all         21        192      0.619      0.307      0.359      0.125\n"
     ]
    },
    {
     "name": "stderr",
     "output_type": "stream",
     "text": [
      "\n"
     ]
    },
    {
     "name": "stdout",
     "output_type": "stream",
     "text": [
      "\n",
      "      Epoch    GPU_mem   box_loss   cls_loss   dfl_loss  Instances       Size\n"
     ]
    },
    {
     "name": "stderr",
     "output_type": "stream",
     "text": [
      "     18/200      4.72G      1.268     0.6999      1.657        106        640: 100%|██████████| 5/5 [00:00<00:00,  5.39it/s]\n",
      "                 Class     Images  Instances      Box(P          R      mAP50  mAP50-95): 100%|██████████| 1/1 [00:00<00:00,  8.00it/s]"
     ]
    },
    {
     "name": "stdout",
     "output_type": "stream",
     "text": [
      "                   all         21        192       0.53      0.375      0.363      0.159\n"
     ]
    },
    {
     "name": "stderr",
     "output_type": "stream",
     "text": [
      "\n"
     ]
    },
    {
     "name": "stdout",
     "output_type": "stream",
     "text": [
      "\n",
      "      Epoch    GPU_mem   box_loss   cls_loss   dfl_loss  Instances       Size\n"
     ]
    },
    {
     "name": "stderr",
     "output_type": "stream",
     "text": [
      "     19/200      4.62G      1.289      0.846       1.64        124        640: 100%|██████████| 5/5 [00:00<00:00,  5.39it/s]\n",
      "                 Class     Images  Instances      Box(P          R      mAP50  mAP50-95): 100%|██████████| 1/1 [00:00<00:00,  8.33it/s]"
     ]
    },
    {
     "name": "stdout",
     "output_type": "stream",
     "text": [
      "                   all         21        192       0.33      0.161     0.0987     0.0412\n"
     ]
    },
    {
     "name": "stderr",
     "output_type": "stream",
     "text": [
      "\n"
     ]
    },
    {
     "name": "stdout",
     "output_type": "stream",
     "text": [
      "\n",
      "      Epoch    GPU_mem   box_loss   cls_loss   dfl_loss  Instances       Size\n"
     ]
    },
    {
     "name": "stderr",
     "output_type": "stream",
     "text": [
      "     20/200      4.62G      1.235      1.034      1.622        101        640: 100%|██████████| 5/5 [00:00<00:00,  5.28it/s]\n",
      "                 Class     Images  Instances      Box(P          R      mAP50  mAP50-95): 100%|██████████| 1/1 [00:00<00:00,  8.06it/s]"
     ]
    },
    {
     "name": "stdout",
     "output_type": "stream",
     "text": [
      "                   all         21        192      0.243      0.266      0.173     0.0613\n"
     ]
    },
    {
     "name": "stderr",
     "output_type": "stream",
     "text": [
      "\n"
     ]
    },
    {
     "name": "stdout",
     "output_type": "stream",
     "text": [
      "\n",
      "      Epoch    GPU_mem   box_loss   cls_loss   dfl_loss  Instances       Size\n"
     ]
    },
    {
     "name": "stderr",
     "output_type": "stream",
     "text": [
      "     21/200      4.43G      1.153     0.6883      1.601        194        640: 100%|██████████| 5/5 [00:00<00:00,  5.27it/s]\n",
      "                 Class     Images  Instances      Box(P          R      mAP50  mAP50-95): 100%|██████████| 1/1 [00:00<00:00,  7.69it/s]"
     ]
    },
    {
     "name": "stdout",
     "output_type": "stream",
     "text": [
      "                   all         21        192      0.261      0.203      0.157     0.0573\n"
     ]
    },
    {
     "name": "stderr",
     "output_type": "stream",
     "text": [
      "\n"
     ]
    },
    {
     "name": "stdout",
     "output_type": "stream",
     "text": [
      "\n",
      "      Epoch    GPU_mem   box_loss   cls_loss   dfl_loss  Instances       Size\n"
     ]
    },
    {
     "name": "stderr",
     "output_type": "stream",
     "text": [
      "     22/200      4.75G       1.18     0.7329      1.615        119        640: 100%|██████████| 5/5 [00:00<00:00,  5.33it/s]\n",
      "                 Class     Images  Instances      Box(P          R      mAP50  mAP50-95): 100%|██████████| 1/1 [00:00<00:00,  7.09it/s]"
     ]
    },
    {
     "name": "stdout",
     "output_type": "stream",
     "text": [
      "                   all         21        192    0.00365       0.12    0.00259     0.0012\n"
     ]
    },
    {
     "name": "stderr",
     "output_type": "stream",
     "text": [
      "\n"
     ]
    },
    {
     "name": "stdout",
     "output_type": "stream",
     "text": [
      "\n",
      "      Epoch    GPU_mem   box_loss   cls_loss   dfl_loss  Instances       Size\n"
     ]
    },
    {
     "name": "stderr",
     "output_type": "stream",
     "text": [
      "     23/200       4.7G      1.153     0.7031      1.593        153        640: 100%|██████████| 5/5 [00:00<00:00,  5.45it/s]\n",
      "                 Class     Images  Instances      Box(P          R      mAP50  mAP50-95): 100%|██████████| 1/1 [00:00<00:00,  8.47it/s]"
     ]
    },
    {
     "name": "stdout",
     "output_type": "stream",
     "text": [
      "                   all         21        192    0.00219     0.0677    0.00117   0.000523\n"
     ]
    },
    {
     "name": "stderr",
     "output_type": "stream",
     "text": [
      "\n"
     ]
    },
    {
     "name": "stdout",
     "output_type": "stream",
     "text": [
      "\n",
      "      Epoch    GPU_mem   box_loss   cls_loss   dfl_loss  Instances       Size\n"
     ]
    },
    {
     "name": "stderr",
     "output_type": "stream",
     "text": [
      "     24/200      4.74G      1.239     0.6292      1.602        244        640: 100%|██████████| 5/5 [00:00<00:00,  5.26it/s]\n",
      "                 Class     Images  Instances      Box(P          R      mAP50  mAP50-95): 100%|██████████| 1/1 [00:00<00:00,  8.00it/s]"
     ]
    },
    {
     "name": "stdout",
     "output_type": "stream",
     "text": [
      "                   all         21        192      0.528      0.432      0.378      0.181\n"
     ]
    },
    {
     "name": "stderr",
     "output_type": "stream",
     "text": [
      "\n"
     ]
    },
    {
     "name": "stdout",
     "output_type": "stream",
     "text": [
      "\n",
      "      Epoch    GPU_mem   box_loss   cls_loss   dfl_loss  Instances       Size\n"
     ]
    },
    {
     "name": "stderr",
     "output_type": "stream",
     "text": [
      "     25/200      4.71G      1.168     0.6479      1.568         66        640: 100%|██████████| 5/5 [00:00<00:00,  5.44it/s]\n",
      "                 Class     Images  Instances      Box(P          R      mAP50  mAP50-95): 100%|██████████| 1/1 [00:00<00:00,  7.87it/s]"
     ]
    },
    {
     "name": "stdout",
     "output_type": "stream",
     "text": [
      "                   all         21        192      0.576       0.63      0.634      0.302\n"
     ]
    },
    {
     "name": "stderr",
     "output_type": "stream",
     "text": [
      "\n"
     ]
    },
    {
     "name": "stdout",
     "output_type": "stream",
     "text": [
      "\n",
      "      Epoch    GPU_mem   box_loss   cls_loss   dfl_loss  Instances       Size\n"
     ]
    },
    {
     "name": "stderr",
     "output_type": "stream",
     "text": [
      "     26/200      4.73G      1.167     0.7245      1.523        115        640: 100%|██████████| 5/5 [00:00<00:00,  5.39it/s]\n",
      "                 Class     Images  Instances      Box(P          R      mAP50  mAP50-95): 100%|██████████| 1/1 [00:00<00:00,  7.41it/s]"
     ]
    },
    {
     "name": "stdout",
     "output_type": "stream",
     "text": [
      "                   all         21        192      0.375      0.354      0.313      0.101\n"
     ]
    },
    {
     "name": "stderr",
     "output_type": "stream",
     "text": [
      "\n"
     ]
    },
    {
     "name": "stdout",
     "output_type": "stream",
     "text": [
      "\n",
      "      Epoch    GPU_mem   box_loss   cls_loss   dfl_loss  Instances       Size\n"
     ]
    },
    {
     "name": "stderr",
     "output_type": "stream",
     "text": [
      "     27/200      4.56G      1.213     0.8046      1.519        127        640: 100%|██████████| 5/5 [00:00<00:00,  5.39it/s]\n",
      "                 Class     Images  Instances      Box(P          R      mAP50  mAP50-95): 100%|██████████| 1/1 [00:00<00:00,  7.25it/s]"
     ]
    },
    {
     "name": "stdout",
     "output_type": "stream",
     "text": [
      "                   all         21        192      0.244      0.443        0.3       0.12\n"
     ]
    },
    {
     "name": "stderr",
     "output_type": "stream",
     "text": [
      "\n"
     ]
    },
    {
     "name": "stdout",
     "output_type": "stream",
     "text": [
      "\n",
      "      Epoch    GPU_mem   box_loss   cls_loss   dfl_loss  Instances       Size\n"
     ]
    },
    {
     "name": "stderr",
     "output_type": "stream",
     "text": [
      "     28/200      4.71G      1.107     0.6855      1.508        108        640: 100%|██████████| 5/5 [00:00<00:00,  5.27it/s]\n",
      "                 Class     Images  Instances      Box(P          R      mAP50  mAP50-95): 100%|██████████| 1/1 [00:00<00:00,  8.23it/s]"
     ]
    },
    {
     "name": "stdout",
     "output_type": "stream",
     "text": [
      "                   all         21        192      0.569      0.417      0.445      0.215\n"
     ]
    },
    {
     "name": "stderr",
     "output_type": "stream",
     "text": [
      "\n"
     ]
    },
    {
     "name": "stdout",
     "output_type": "stream",
     "text": [
      "\n",
      "      Epoch    GPU_mem   box_loss   cls_loss   dfl_loss  Instances       Size\n"
     ]
    },
    {
     "name": "stderr",
     "output_type": "stream",
     "text": [
      "     29/200      4.71G      1.068     0.6382      1.552         87        640: 100%|██████████| 5/5 [00:00<00:00,  5.36it/s]\n",
      "                 Class     Images  Instances      Box(P          R      mAP50  mAP50-95): 100%|██████████| 1/1 [00:00<00:00,  8.13it/s]"
     ]
    },
    {
     "name": "stdout",
     "output_type": "stream",
     "text": [
      "                   all         21        192      0.598      0.438      0.467       0.22\n"
     ]
    },
    {
     "name": "stderr",
     "output_type": "stream",
     "text": [
      "\n"
     ]
    },
    {
     "name": "stdout",
     "output_type": "stream",
     "text": [
      "\n",
      "      Epoch    GPU_mem   box_loss   cls_loss   dfl_loss  Instances       Size\n"
     ]
    },
    {
     "name": "stderr",
     "output_type": "stream",
     "text": [
      "     30/200      4.72G      1.107      0.621      1.562        169        640: 100%|██████████| 5/5 [00:00<00:00,  5.19it/s]\n",
      "                 Class     Images  Instances      Box(P          R      mAP50  mAP50-95): 100%|██████████| 1/1 [00:00<00:00,  8.13it/s]"
     ]
    },
    {
     "name": "stdout",
     "output_type": "stream",
     "text": [
      "                   all         21        192      0.595      0.594      0.589      0.287\n"
     ]
    },
    {
     "name": "stderr",
     "output_type": "stream",
     "text": [
      "\n"
     ]
    },
    {
     "name": "stdout",
     "output_type": "stream",
     "text": [
      "\n",
      "      Epoch    GPU_mem   box_loss   cls_loss   dfl_loss  Instances       Size\n"
     ]
    },
    {
     "name": "stderr",
     "output_type": "stream",
     "text": [
      "     31/200       4.7G      1.109     0.5634      1.567        106        640: 100%|██████████| 5/5 [00:00<00:00,  5.30it/s]\n",
      "                 Class     Images  Instances      Box(P          R      mAP50  mAP50-95): 100%|██████████| 1/1 [00:00<00:00,  8.06it/s]"
     ]
    },
    {
     "name": "stdout",
     "output_type": "stream",
     "text": [
      "                   all         21        192      0.747        0.5      0.565      0.258\n"
     ]
    },
    {
     "name": "stderr",
     "output_type": "stream",
     "text": [
      "\n"
     ]
    },
    {
     "name": "stdout",
     "output_type": "stream",
     "text": [
      "\n",
      "      Epoch    GPU_mem   box_loss   cls_loss   dfl_loss  Instances       Size\n"
     ]
    },
    {
     "name": "stderr",
     "output_type": "stream",
     "text": [
      "     32/200      4.74G      1.122     0.5486       1.57        131        640: 100%|██████████| 5/5 [00:00<00:00,  5.26it/s]\n",
      "                 Class     Images  Instances      Box(P          R      mAP50  mAP50-95): 100%|██████████| 1/1 [00:00<00:00,  8.55it/s]"
     ]
    },
    {
     "name": "stdout",
     "output_type": "stream",
     "text": [
      "                   all         21        192       0.58      0.484      0.496      0.232\n"
     ]
    },
    {
     "name": "stderr",
     "output_type": "stream",
     "text": [
      "\n"
     ]
    },
    {
     "name": "stdout",
     "output_type": "stream",
     "text": [
      "\n",
      "      Epoch    GPU_mem   box_loss   cls_loss   dfl_loss  Instances       Size\n"
     ]
    },
    {
     "name": "stderr",
     "output_type": "stream",
     "text": [
      "     33/200      4.72G      1.183     0.5767      1.621        143        640: 100%|██████████| 5/5 [00:00<00:00,  5.36it/s]\n",
      "                 Class     Images  Instances      Box(P          R      mAP50  mAP50-95): 100%|██████████| 1/1 [00:00<00:00,  8.06it/s]"
     ]
    },
    {
     "name": "stdout",
     "output_type": "stream",
     "text": [
      "                   all         21        192      0.673      0.438      0.513      0.254\n"
     ]
    },
    {
     "name": "stderr",
     "output_type": "stream",
     "text": [
      "\n"
     ]
    },
    {
     "name": "stdout",
     "output_type": "stream",
     "text": [
      "\n",
      "      Epoch    GPU_mem   box_loss   cls_loss   dfl_loss  Instances       Size\n"
     ]
    },
    {
     "name": "stderr",
     "output_type": "stream",
     "text": [
      "     34/200      4.71G      1.089     0.6046      1.536        168        640: 100%|██████████| 5/5 [00:00<00:00,  5.36it/s]\n",
      "                 Class     Images  Instances      Box(P          R      mAP50  mAP50-95): 100%|██████████| 1/1 [00:00<00:00,  8.62it/s]"
     ]
    },
    {
     "name": "stdout",
     "output_type": "stream",
     "text": [
      "                   all         21        192      0.341      0.401      0.257      0.136\n"
     ]
    },
    {
     "name": "stderr",
     "output_type": "stream",
     "text": [
      "\n"
     ]
    },
    {
     "name": "stdout",
     "output_type": "stream",
     "text": [
      "\n",
      "      Epoch    GPU_mem   box_loss   cls_loss   dfl_loss  Instances       Size\n"
     ]
    },
    {
     "name": "stderr",
     "output_type": "stream",
     "text": [
      "     35/200      4.75G        1.1     0.5454      1.496        202        640: 100%|██████████| 5/5 [00:00<00:00,  5.37it/s]\n",
      "                 Class     Images  Instances      Box(P          R      mAP50  mAP50-95): 100%|██████████| 1/1 [00:00<00:00,  8.47it/s]"
     ]
    },
    {
     "name": "stdout",
     "output_type": "stream",
     "text": [
      "                   all         21        192      0.705      0.505      0.549       0.28\n"
     ]
    },
    {
     "name": "stderr",
     "output_type": "stream",
     "text": [
      "\n"
     ]
    },
    {
     "name": "stdout",
     "output_type": "stream",
     "text": [
      "\n",
      "      Epoch    GPU_mem   box_loss   cls_loss   dfl_loss  Instances       Size\n"
     ]
    },
    {
     "name": "stderr",
     "output_type": "stream",
     "text": [
      "     36/200      4.74G        1.1     0.5393      1.515        109        640: 100%|██████████| 5/5 [00:00<00:00,  5.22it/s]\n",
      "                 Class     Images  Instances      Box(P          R      mAP50  mAP50-95): 100%|██████████| 1/1 [00:00<00:00,  8.40it/s]"
     ]
    },
    {
     "name": "stdout",
     "output_type": "stream",
     "text": [
      "                   all         21        192      0.709      0.445      0.558      0.298\n"
     ]
    },
    {
     "name": "stderr",
     "output_type": "stream",
     "text": [
      "\n"
     ]
    },
    {
     "name": "stdout",
     "output_type": "stream",
     "text": [
      "\n",
      "      Epoch    GPU_mem   box_loss   cls_loss   dfl_loss  Instances       Size\n"
     ]
    },
    {
     "name": "stderr",
     "output_type": "stream",
     "text": [
      "     37/200       4.6G     0.9784     0.5256      1.483         81        640: 100%|██████████| 5/5 [00:00<00:00,  5.44it/s]\n",
      "                 Class     Images  Instances      Box(P          R      mAP50  mAP50-95): 100%|██████████| 1/1 [00:00<00:00,  7.69it/s]"
     ]
    },
    {
     "name": "stdout",
     "output_type": "stream",
     "text": [
      "                   all         21        192      0.705      0.583      0.636      0.326\n"
     ]
    },
    {
     "name": "stderr",
     "output_type": "stream",
     "text": [
      "\n"
     ]
    },
    {
     "name": "stdout",
     "output_type": "stream",
     "text": [
      "\n",
      "      Epoch    GPU_mem   box_loss   cls_loss   dfl_loss  Instances       Size\n"
     ]
    },
    {
     "name": "stderr",
     "output_type": "stream",
     "text": [
      "     38/200       4.7G      1.048     0.5282      1.476        193        640: 100%|██████████| 5/5 [00:00<00:00,  5.35it/s]\n",
      "                 Class     Images  Instances      Box(P          R      mAP50  mAP50-95): 100%|██████████| 1/1 [00:00<00:00,  8.93it/s]"
     ]
    },
    {
     "name": "stdout",
     "output_type": "stream",
     "text": [
      "                   all         21        192      0.783      0.583      0.674      0.351\n"
     ]
    },
    {
     "name": "stderr",
     "output_type": "stream",
     "text": [
      "\n"
     ]
    },
    {
     "name": "stdout",
     "output_type": "stream",
     "text": [
      "\n",
      "      Epoch    GPU_mem   box_loss   cls_loss   dfl_loss  Instances       Size\n"
     ]
    },
    {
     "name": "stderr",
     "output_type": "stream",
     "text": [
      "     39/200      4.69G      1.011     0.5238      1.462        216        640: 100%|██████████| 5/5 [00:00<00:00,  5.41it/s]\n",
      "                 Class     Images  Instances      Box(P          R      mAP50  mAP50-95): 100%|██████████| 1/1 [00:00<00:00,  8.77it/s]"
     ]
    },
    {
     "name": "stdout",
     "output_type": "stream",
     "text": [
      "                   all         21        192      0.698      0.613      0.685      0.336\n"
     ]
    },
    {
     "name": "stderr",
     "output_type": "stream",
     "text": [
      "\n"
     ]
    },
    {
     "name": "stdout",
     "output_type": "stream",
     "text": [
      "\n",
      "      Epoch    GPU_mem   box_loss   cls_loss   dfl_loss  Instances       Size\n"
     ]
    },
    {
     "name": "stderr",
     "output_type": "stream",
     "text": [
      "     40/200      4.92G     0.9862     0.5089      1.442        107        640: 100%|██████████| 5/5 [00:00<00:00,  5.28it/s]\n",
      "                 Class     Images  Instances      Box(P          R      mAP50  mAP50-95): 100%|██████████| 1/1 [00:00<00:00,  8.26it/s]"
     ]
    },
    {
     "name": "stdout",
     "output_type": "stream",
     "text": [
      "                   all         21        192      0.709      0.583      0.644      0.326\n"
     ]
    },
    {
     "name": "stderr",
     "output_type": "stream",
     "text": [
      "\n"
     ]
    },
    {
     "name": "stdout",
     "output_type": "stream",
     "text": [
      "\n",
      "      Epoch    GPU_mem   box_loss   cls_loss   dfl_loss  Instances       Size\n"
     ]
    },
    {
     "name": "stderr",
     "output_type": "stream",
     "text": [
      "     41/200      4.67G     0.9647     0.4864      1.426        113        640: 100%|██████████| 5/5 [00:00<00:00,  5.50it/s]\n",
      "                 Class     Images  Instances      Box(P          R      mAP50  mAP50-95): 100%|██████████| 1/1 [00:00<00:00,  7.19it/s]"
     ]
    },
    {
     "name": "stdout",
     "output_type": "stream",
     "text": [
      "                   all         21        192      0.735      0.578      0.651      0.339\n"
     ]
    },
    {
     "name": "stderr",
     "output_type": "stream",
     "text": [
      "\n"
     ]
    },
    {
     "name": "stdout",
     "output_type": "stream",
     "text": [
      "\n",
      "      Epoch    GPU_mem   box_loss   cls_loss   dfl_loss  Instances       Size\n"
     ]
    },
    {
     "name": "stderr",
     "output_type": "stream",
     "text": [
      "     42/200       4.7G     0.9544     0.4872      1.417         99        640: 100%|██████████| 5/5 [00:00<00:00,  5.42it/s]\n",
      "                 Class     Images  Instances      Box(P          R      mAP50  mAP50-95): 100%|██████████| 1/1 [00:00<00:00,  8.13it/s]"
     ]
    },
    {
     "name": "stdout",
     "output_type": "stream",
     "text": [
      "                   all         21        192      0.765      0.625      0.707      0.369\n"
     ]
    },
    {
     "name": "stderr",
     "output_type": "stream",
     "text": [
      "\n"
     ]
    },
    {
     "name": "stdout",
     "output_type": "stream",
     "text": [
      "\n",
      "      Epoch    GPU_mem   box_loss   cls_loss   dfl_loss  Instances       Size\n"
     ]
    },
    {
     "name": "stderr",
     "output_type": "stream",
     "text": [
      "     43/200      4.69G     0.8936     0.5146      1.387         72        640: 100%|██████████| 5/5 [00:00<00:00,  5.45it/s]\n",
      "                 Class     Images  Instances      Box(P          R      mAP50  mAP50-95): 100%|██████████| 1/1 [00:00<00:00,  8.70it/s]"
     ]
    },
    {
     "name": "stdout",
     "output_type": "stream",
     "text": [
      "                   all         21        192      0.701      0.598      0.639      0.331\n"
     ]
    },
    {
     "name": "stderr",
     "output_type": "stream",
     "text": [
      "\n"
     ]
    },
    {
     "name": "stdout",
     "output_type": "stream",
     "text": [
      "\n",
      "      Epoch    GPU_mem   box_loss   cls_loss   dfl_loss  Instances       Size\n"
     ]
    },
    {
     "name": "stderr",
     "output_type": "stream",
     "text": [
      "     44/200      4.71G     0.9065      0.498      1.384        114        640: 100%|██████████| 5/5 [00:00<00:00,  5.11it/s]\n",
      "                 Class     Images  Instances      Box(P          R      mAP50  mAP50-95): 100%|██████████| 1/1 [00:00<00:00,  7.14it/s]"
     ]
    },
    {
     "name": "stdout",
     "output_type": "stream",
     "text": [
      "                   all         21        192      0.787      0.618       0.71      0.398\n"
     ]
    },
    {
     "name": "stderr",
     "output_type": "stream",
     "text": [
      "\n"
     ]
    },
    {
     "name": "stdout",
     "output_type": "stream",
     "text": [
      "\n",
      "      Epoch    GPU_mem   box_loss   cls_loss   dfl_loss  Instances       Size\n"
     ]
    },
    {
     "name": "stderr",
     "output_type": "stream",
     "text": [
      "     45/200      4.69G      0.865     0.4694      1.388        114        640: 100%|██████████| 5/5 [00:00<00:00,  5.39it/s]\n",
      "                 Class     Images  Instances      Box(P          R      mAP50  mAP50-95): 100%|██████████| 1/1 [00:00<00:00,  8.26it/s]"
     ]
    },
    {
     "name": "stdout",
     "output_type": "stream",
     "text": [
      "                   all         21        192      0.815      0.594      0.684      0.389\n"
     ]
    },
    {
     "name": "stderr",
     "output_type": "stream",
     "text": [
      "\n"
     ]
    },
    {
     "name": "stdout",
     "output_type": "stream",
     "text": [
      "\n",
      "      Epoch    GPU_mem   box_loss   cls_loss   dfl_loss  Instances       Size\n"
     ]
    },
    {
     "name": "stderr",
     "output_type": "stream",
     "text": [
      "     46/200      4.72G     0.8722     0.4644      1.378        107        640: 100%|██████████| 5/5 [00:00<00:00,  5.35it/s]\n",
      "                 Class     Images  Instances      Box(P          R      mAP50  mAP50-95): 100%|██████████| 1/1 [00:00<00:00,  7.75it/s]"
     ]
    },
    {
     "name": "stdout",
     "output_type": "stream",
     "text": [
      "                   all         21        192      0.749      0.547      0.625       0.33\n"
     ]
    },
    {
     "name": "stderr",
     "output_type": "stream",
     "text": [
      "\n"
     ]
    },
    {
     "name": "stdout",
     "output_type": "stream",
     "text": [
      "\n",
      "      Epoch    GPU_mem   box_loss   cls_loss   dfl_loss  Instances       Size\n"
     ]
    },
    {
     "name": "stderr",
     "output_type": "stream",
     "text": [
      "     47/200      4.72G     0.8687     0.4629      1.373        193        640: 100%|██████████| 5/5 [00:00<00:00,  5.41it/s]\n",
      "                 Class     Images  Instances      Box(P          R      mAP50  mAP50-95): 100%|██████████| 1/1 [00:00<00:00,  8.47it/s]"
     ]
    },
    {
     "name": "stdout",
     "output_type": "stream",
     "text": [
      "                   all         21        192      0.704      0.615      0.653      0.349\n"
     ]
    },
    {
     "name": "stderr",
     "output_type": "stream",
     "text": [
      "\n"
     ]
    },
    {
     "name": "stdout",
     "output_type": "stream",
     "text": [
      "\n",
      "      Epoch    GPU_mem   box_loss   cls_loss   dfl_loss  Instances       Size\n"
     ]
    },
    {
     "name": "stderr",
     "output_type": "stream",
     "text": [
      "     48/200      4.75G     0.8576     0.4503      1.356         90        640: 100%|██████████| 5/5 [00:00<00:00,  5.26it/s]\n",
      "                 Class     Images  Instances      Box(P          R      mAP50  mAP50-95): 100%|██████████| 1/1 [00:00<00:00,  8.00it/s]"
     ]
    },
    {
     "name": "stdout",
     "output_type": "stream",
     "text": [
      "                   all         21        192       0.87      0.578      0.709      0.366\n"
     ]
    },
    {
     "name": "stderr",
     "output_type": "stream",
     "text": [
      "\n"
     ]
    },
    {
     "name": "stdout",
     "output_type": "stream",
     "text": [
      "\n",
      "      Epoch    GPU_mem   box_loss   cls_loss   dfl_loss  Instances       Size\n"
     ]
    },
    {
     "name": "stderr",
     "output_type": "stream",
     "text": [
      "     49/200      4.69G     0.8628      0.435      1.371        149        640: 100%|██████████| 5/5 [00:00<00:00,  5.32it/s]\n",
      "                 Class     Images  Instances      Box(P          R      mAP50  mAP50-95): 100%|██████████| 1/1 [00:00<00:00,  8.62it/s]"
     ]
    },
    {
     "name": "stdout",
     "output_type": "stream",
     "text": [
      "                   all         21        192      0.813      0.609      0.702      0.362\n"
     ]
    },
    {
     "name": "stderr",
     "output_type": "stream",
     "text": [
      "\n"
     ]
    },
    {
     "name": "stdout",
     "output_type": "stream",
     "text": [
      "\n",
      "      Epoch    GPU_mem   box_loss   cls_loss   dfl_loss  Instances       Size\n"
     ]
    },
    {
     "name": "stderr",
     "output_type": "stream",
     "text": [
      "     50/200      4.56G     0.9837     0.4964      1.432         96        640: 100%|██████████| 5/5 [00:00<00:00,  5.45it/s]\n",
      "                 Class     Images  Instances      Box(P          R      mAP50  mAP50-95): 100%|██████████| 1/1 [00:00<00:00,  8.40it/s]"
     ]
    },
    {
     "name": "stdout",
     "output_type": "stream",
     "text": [
      "                   all         21        192      0.775      0.645      0.714      0.352\n"
     ]
    },
    {
     "name": "stderr",
     "output_type": "stream",
     "text": [
      "\n"
     ]
    },
    {
     "name": "stdout",
     "output_type": "stream",
     "text": [
      "\n",
      "      Epoch    GPU_mem   box_loss   cls_loss   dfl_loss  Instances       Size\n"
     ]
    },
    {
     "name": "stderr",
     "output_type": "stream",
     "text": [
      "     51/200      4.76G      0.958     0.4525      1.365        166        640: 100%|██████████| 5/5 [00:00<00:00,  5.31it/s]\n",
      "                 Class     Images  Instances      Box(P          R      mAP50  mAP50-95): 100%|██████████| 1/1 [00:00<00:00,  8.16it/s]"
     ]
    },
    {
     "name": "stdout",
     "output_type": "stream",
     "text": [
      "                   all         21        192      0.791      0.633      0.711      0.364\n"
     ]
    },
    {
     "name": "stderr",
     "output_type": "stream",
     "text": [
      "\n"
     ]
    },
    {
     "name": "stdout",
     "output_type": "stream",
     "text": [
      "\n",
      "      Epoch    GPU_mem   box_loss   cls_loss   dfl_loss  Instances       Size\n"
     ]
    },
    {
     "name": "stderr",
     "output_type": "stream",
     "text": [
      "     52/200       4.7G     0.8767     0.4453      1.374        145        640: 100%|██████████| 5/5 [00:00<00:00,  5.30it/s]\n",
      "                 Class     Images  Instances      Box(P          R      mAP50  mAP50-95): 100%|██████████| 1/1 [00:00<00:00,  7.84it/s]"
     ]
    },
    {
     "name": "stdout",
     "output_type": "stream",
     "text": [
      "                   all         21        192      0.753      0.693      0.759      0.416\n"
     ]
    },
    {
     "name": "stderr",
     "output_type": "stream",
     "text": [
      "\n"
     ]
    },
    {
     "name": "stdout",
     "output_type": "stream",
     "text": [
      "\n",
      "      Epoch    GPU_mem   box_loss   cls_loss   dfl_loss  Instances       Size\n"
     ]
    },
    {
     "name": "stderr",
     "output_type": "stream",
     "text": [
      "     53/200      4.68G     0.8791     0.4305      1.402        144        640: 100%|██████████| 5/5 [00:00<00:00,  5.41it/s]\n",
      "                 Class     Images  Instances      Box(P          R      mAP50  mAP50-95): 100%|██████████| 1/1 [00:00<00:00,  8.70it/s]"
     ]
    },
    {
     "name": "stdout",
     "output_type": "stream",
     "text": [
      "                   all         21        192      0.821      0.615      0.721      0.391\n"
     ]
    },
    {
     "name": "stderr",
     "output_type": "stream",
     "text": [
      "\n"
     ]
    },
    {
     "name": "stdout",
     "output_type": "stream",
     "text": [
      "\n",
      "      Epoch    GPU_mem   box_loss   cls_loss   dfl_loss  Instances       Size\n"
     ]
    },
    {
     "name": "stderr",
     "output_type": "stream",
     "text": [
      "     54/200      4.73G     0.8744      0.423      1.373         78        640: 100%|██████████| 5/5 [00:00<00:00,  5.45it/s]\n",
      "                 Class     Images  Instances      Box(P          R      mAP50  mAP50-95): 100%|██████████| 1/1 [00:00<00:00,  8.11it/s]"
     ]
    },
    {
     "name": "stdout",
     "output_type": "stream",
     "text": [
      "                   all         21        192      0.831      0.604      0.731      0.399\n"
     ]
    },
    {
     "name": "stderr",
     "output_type": "stream",
     "text": [
      "\n"
     ]
    },
    {
     "name": "stdout",
     "output_type": "stream",
     "text": [
      "\n",
      "      Epoch    GPU_mem   box_loss   cls_loss   dfl_loss  Instances       Size\n"
     ]
    },
    {
     "name": "stderr",
     "output_type": "stream",
     "text": [
      "     55/200       4.6G      0.862     0.4328      1.349         85        640: 100%|██████████| 5/5 [00:00<00:00,  5.43it/s]\n",
      "                 Class     Images  Instances      Box(P          R      mAP50  mAP50-95): 100%|██████████| 1/1 [00:00<00:00,  8.55it/s]"
     ]
    },
    {
     "name": "stdout",
     "output_type": "stream",
     "text": [
      "                   all         21        192      0.807       0.62       0.73      0.403\n"
     ]
    },
    {
     "name": "stderr",
     "output_type": "stream",
     "text": [
      "\n"
     ]
    },
    {
     "name": "stdout",
     "output_type": "stream",
     "text": [
      "\n",
      "      Epoch    GPU_mem   box_loss   cls_loss   dfl_loss  Instances       Size\n"
     ]
    },
    {
     "name": "stderr",
     "output_type": "stream",
     "text": [
      "     56/200      4.64G     0.9593     0.4412      1.398         82        640: 100%|██████████| 5/5 [00:00<00:00,  5.35it/s]\n",
      "                 Class     Images  Instances      Box(P          R      mAP50  mAP50-95): 100%|██████████| 1/1 [00:00<00:00,  7.46it/s]"
     ]
    },
    {
     "name": "stdout",
     "output_type": "stream",
     "text": [
      "                   all         21        192      0.803      0.599      0.721      0.381\n"
     ]
    },
    {
     "name": "stderr",
     "output_type": "stream",
     "text": [
      "\n"
     ]
    },
    {
     "name": "stdout",
     "output_type": "stream",
     "text": [
      "\n",
      "      Epoch    GPU_mem   box_loss   cls_loss   dfl_loss  Instances       Size\n"
     ]
    },
    {
     "name": "stderr",
     "output_type": "stream",
     "text": [
      "     57/200       4.7G     0.9095     0.4471      1.377        143        640: 100%|██████████| 5/5 [00:00<00:00,  5.43it/s]\n",
      "                 Class     Images  Instances      Box(P          R      mAP50  mAP50-95): 100%|██████████| 1/1 [00:00<00:00,  9.01it/s]"
     ]
    },
    {
     "name": "stdout",
     "output_type": "stream",
     "text": [
      "                   all         21        192      0.709      0.686      0.717      0.352\n"
     ]
    },
    {
     "name": "stderr",
     "output_type": "stream",
     "text": [
      "\n"
     ]
    },
    {
     "name": "stdout",
     "output_type": "stream",
     "text": [
      "\n",
      "      Epoch    GPU_mem   box_loss   cls_loss   dfl_loss  Instances       Size\n"
     ]
    },
    {
     "name": "stderr",
     "output_type": "stream",
     "text": [
      "     58/200      4.59G     0.9452     0.4498      1.387        151        640: 100%|██████████| 5/5 [00:00<00:00,  5.40it/s]\n",
      "                 Class     Images  Instances      Box(P          R      mAP50  mAP50-95): 100%|██████████| 1/1 [00:00<00:00,  8.00it/s]"
     ]
    },
    {
     "name": "stdout",
     "output_type": "stream",
     "text": [
      "                   all         21        192      0.743      0.571      0.651      0.342\n"
     ]
    },
    {
     "name": "stderr",
     "output_type": "stream",
     "text": [
      "\n"
     ]
    },
    {
     "name": "stdout",
     "output_type": "stream",
     "text": [
      "\n",
      "      Epoch    GPU_mem   box_loss   cls_loss   dfl_loss  Instances       Size\n"
     ]
    },
    {
     "name": "stderr",
     "output_type": "stream",
     "text": [
      "     59/200      4.75G     0.8549     0.4308      1.368        123        640: 100%|██████████| 5/5 [00:00<00:00,  5.35it/s]\n",
      "                 Class     Images  Instances      Box(P          R      mAP50  mAP50-95): 100%|██████████| 1/1 [00:00<00:00,  8.70it/s]"
     ]
    },
    {
     "name": "stdout",
     "output_type": "stream",
     "text": [
      "                   all         21        192      0.838      0.566      0.681      0.361\n"
     ]
    },
    {
     "name": "stderr",
     "output_type": "stream",
     "text": [
      "\n"
     ]
    },
    {
     "name": "stdout",
     "output_type": "stream",
     "text": [
      "\n",
      "      Epoch    GPU_mem   box_loss   cls_loss   dfl_loss  Instances       Size\n"
     ]
    },
    {
     "name": "stderr",
     "output_type": "stream",
     "text": [
      "     60/200      4.55G     0.8941      0.422       1.38         93        640: 100%|██████████| 5/5 [00:00<00:00,  5.39it/s]\n",
      "                 Class     Images  Instances      Box(P          R      mAP50  mAP50-95): 100%|██████████| 1/1 [00:00<00:00,  8.33it/s]"
     ]
    },
    {
     "name": "stdout",
     "output_type": "stream",
     "text": [
      "                   all         21        192      0.758      0.641      0.727      0.379\n"
     ]
    },
    {
     "name": "stderr",
     "output_type": "stream",
     "text": [
      "\n"
     ]
    },
    {
     "name": "stdout",
     "output_type": "stream",
     "text": [
      "\n",
      "      Epoch    GPU_mem   box_loss   cls_loss   dfl_loss  Instances       Size\n"
     ]
    },
    {
     "name": "stderr",
     "output_type": "stream",
     "text": [
      "     61/200      4.69G     0.8788     0.4366      1.356         87        640: 100%|██████████| 5/5 [00:00<00:00,  5.45it/s]\n",
      "                 Class     Images  Instances      Box(P          R      mAP50  mAP50-95): 100%|██████████| 1/1 [00:00<00:00,  8.26it/s]"
     ]
    },
    {
     "name": "stdout",
     "output_type": "stream",
     "text": [
      "                   all         21        192      0.782       0.62      0.699      0.338\n"
     ]
    },
    {
     "name": "stderr",
     "output_type": "stream",
     "text": [
      "\n"
     ]
    },
    {
     "name": "stdout",
     "output_type": "stream",
     "text": [
      "\n",
      "      Epoch    GPU_mem   box_loss   cls_loss   dfl_loss  Instances       Size\n"
     ]
    },
    {
     "name": "stderr",
     "output_type": "stream",
     "text": [
      "     62/200      4.63G      0.892     0.4348      1.368        116        640: 100%|██████████| 5/5 [00:00<00:00,  5.47it/s]\n",
      "                 Class     Images  Instances      Box(P          R      mAP50  mAP50-95): 100%|██████████| 1/1 [00:00<00:00,  8.93it/s]"
     ]
    },
    {
     "name": "stdout",
     "output_type": "stream",
     "text": [
      "                   all         21        192      0.814      0.641      0.718      0.365\n"
     ]
    },
    {
     "name": "stderr",
     "output_type": "stream",
     "text": [
      "\n"
     ]
    },
    {
     "name": "stdout",
     "output_type": "stream",
     "text": [
      "\n",
      "      Epoch    GPU_mem   box_loss   cls_loss   dfl_loss  Instances       Size\n"
     ]
    },
    {
     "name": "stderr",
     "output_type": "stream",
     "text": [
      "     63/200      4.48G     0.8594      0.424      1.356        127        640: 100%|██████████| 5/5 [00:00<00:00,  5.41it/s]\n",
      "                 Class     Images  Instances      Box(P          R      mAP50  mAP50-95): 100%|██████████| 1/1 [00:00<00:00,  9.01it/s]"
     ]
    },
    {
     "name": "stdout",
     "output_type": "stream",
     "text": [
      "                   all         21        192      0.813      0.589      0.718      0.371\n"
     ]
    },
    {
     "name": "stderr",
     "output_type": "stream",
     "text": [
      "\n"
     ]
    },
    {
     "name": "stdout",
     "output_type": "stream",
     "text": [
      "\n",
      "      Epoch    GPU_mem   box_loss   cls_loss   dfl_loss  Instances       Size\n"
     ]
    },
    {
     "name": "stderr",
     "output_type": "stream",
     "text": [
      "     64/200      4.61G     0.8147     0.4039      1.337        105        640: 100%|██████████| 5/5 [00:00<00:00,  5.35it/s]\n",
      "                 Class     Images  Instances      Box(P          R      mAP50  mAP50-95): 100%|██████████| 1/1 [00:00<00:00,  7.87it/s]"
     ]
    },
    {
     "name": "stdout",
     "output_type": "stream",
     "text": [
      "                   all         21        192      0.854      0.656      0.765      0.419\n"
     ]
    },
    {
     "name": "stderr",
     "output_type": "stream",
     "text": [
      "\n"
     ]
    },
    {
     "name": "stdout",
     "output_type": "stream",
     "text": [
      "\n",
      "      Epoch    GPU_mem   box_loss   cls_loss   dfl_loss  Instances       Size\n"
     ]
    },
    {
     "name": "stderr",
     "output_type": "stream",
     "text": [
      "     65/200      4.71G     0.7988      0.393      1.319        157        640: 100%|██████████| 5/5 [00:00<00:00,  5.41it/s]\n",
      "                 Class     Images  Instances      Box(P          R      mAP50  mAP50-95): 100%|██████████| 1/1 [00:00<00:00,  8.06it/s]"
     ]
    },
    {
     "name": "stdout",
     "output_type": "stream",
     "text": [
      "                   all         21        192       0.85      0.678      0.781      0.427\n"
     ]
    },
    {
     "name": "stderr",
     "output_type": "stream",
     "text": [
      "\n"
     ]
    },
    {
     "name": "stdout",
     "output_type": "stream",
     "text": [
      "\n",
      "      Epoch    GPU_mem   box_loss   cls_loss   dfl_loss  Instances       Size\n"
     ]
    },
    {
     "name": "stderr",
     "output_type": "stream",
     "text": [
      "     66/200      4.63G     0.7897     0.3927      1.316         95        640: 100%|██████████| 5/5 [00:00<00:00,  5.46it/s]\n",
      "                 Class     Images  Instances      Box(P          R      mAP50  mAP50-95): 100%|██████████| 1/1 [00:00<00:00,  8.47it/s]"
     ]
    },
    {
     "name": "stdout",
     "output_type": "stream",
     "text": [
      "                   all         21        192      0.827      0.661      0.779      0.415\n"
     ]
    },
    {
     "name": "stderr",
     "output_type": "stream",
     "text": [
      "\n"
     ]
    },
    {
     "name": "stdout",
     "output_type": "stream",
     "text": [
      "\n",
      "      Epoch    GPU_mem   box_loss   cls_loss   dfl_loss  Instances       Size\n"
     ]
    },
    {
     "name": "stderr",
     "output_type": "stream",
     "text": [
      "     67/200      4.47G     0.8492     0.4086      1.354        153        640: 100%|██████████| 5/5 [00:00<00:00,  5.51it/s]\n",
      "                 Class     Images  Instances      Box(P          R      mAP50  mAP50-95): 100%|██████████| 1/1 [00:00<00:00,  8.85it/s]"
     ]
    },
    {
     "name": "stdout",
     "output_type": "stream",
     "text": [
      "                   all         21        192      0.755      0.642       0.71      0.364\n"
     ]
    },
    {
     "name": "stderr",
     "output_type": "stream",
     "text": [
      "\n"
     ]
    },
    {
     "name": "stdout",
     "output_type": "stream",
     "text": [
      "\n",
      "      Epoch    GPU_mem   box_loss   cls_loss   dfl_loss  Instances       Size\n"
     ]
    },
    {
     "name": "stderr",
     "output_type": "stream",
     "text": [
      "     68/200      4.62G     0.8149       0.39      1.323        135        640: 100%|██████████| 5/5 [00:00<00:00,  5.42it/s]\n",
      "                 Class     Images  Instances      Box(P          R      mAP50  mAP50-95): 100%|██████████| 1/1 [00:00<00:00,  8.47it/s]"
     ]
    },
    {
     "name": "stdout",
     "output_type": "stream",
     "text": [
      "                   all         21        192      0.808      0.703      0.787      0.415\n"
     ]
    },
    {
     "name": "stderr",
     "output_type": "stream",
     "text": [
      "\n"
     ]
    },
    {
     "name": "stdout",
     "output_type": "stream",
     "text": [
      "\n",
      "      Epoch    GPU_mem   box_loss   cls_loss   dfl_loss  Instances       Size\n"
     ]
    },
    {
     "name": "stderr",
     "output_type": "stream",
     "text": [
      "     69/200      4.71G     0.9339     0.4095      1.367        130        640: 100%|██████████| 5/5 [00:00<00:00,  5.45it/s]\n",
      "                 Class     Images  Instances      Box(P          R      mAP50  mAP50-95): 100%|██████████| 1/1 [00:00<00:00,  8.28it/s]"
     ]
    },
    {
     "name": "stdout",
     "output_type": "stream",
     "text": [
      "                   all         21        192      0.745      0.685      0.736      0.387\n"
     ]
    },
    {
     "name": "stderr",
     "output_type": "stream",
     "text": [
      "\n"
     ]
    },
    {
     "name": "stdout",
     "output_type": "stream",
     "text": [
      "\n",
      "      Epoch    GPU_mem   box_loss   cls_loss   dfl_loss  Instances       Size\n"
     ]
    },
    {
     "name": "stderr",
     "output_type": "stream",
     "text": [
      "     70/200      4.74G     0.8494     0.3979      1.344        173        640: 100%|██████████| 5/5 [00:00<00:00,  5.38it/s]\n",
      "                 Class     Images  Instances      Box(P          R      mAP50  mAP50-95): 100%|██████████| 1/1 [00:00<00:00,  8.85it/s]"
     ]
    },
    {
     "name": "stdout",
     "output_type": "stream",
     "text": [
      "                   all         21        192      0.804      0.635      0.735      0.395\n"
     ]
    },
    {
     "name": "stderr",
     "output_type": "stream",
     "text": [
      "\n"
     ]
    },
    {
     "name": "stdout",
     "output_type": "stream",
     "text": [
      "\n",
      "      Epoch    GPU_mem   box_loss   cls_loss   dfl_loss  Instances       Size\n"
     ]
    },
    {
     "name": "stderr",
     "output_type": "stream",
     "text": [
      "     71/200      4.71G     0.8085        0.4      1.328        150        640: 100%|██████████| 5/5 [00:00<00:00,  5.39it/s]\n",
      "                 Class     Images  Instances      Box(P          R      mAP50  mAP50-95): 100%|██████████| 1/1 [00:00<00:00,  7.25it/s]"
     ]
    },
    {
     "name": "stdout",
     "output_type": "stream",
     "text": [
      "                   all         21        192      0.791      0.677      0.753      0.421\n"
     ]
    },
    {
     "name": "stderr",
     "output_type": "stream",
     "text": [
      "\n"
     ]
    },
    {
     "name": "stdout",
     "output_type": "stream",
     "text": [
      "\n",
      "      Epoch    GPU_mem   box_loss   cls_loss   dfl_loss  Instances       Size\n"
     ]
    },
    {
     "name": "stderr",
     "output_type": "stream",
     "text": [
      "     72/200      4.74G     0.7615     0.3839      1.322        128        640: 100%|██████████| 5/5 [00:00<00:00,  5.32it/s]\n",
      "                 Class     Images  Instances      Box(P          R      mAP50  mAP50-95): 100%|██████████| 1/1 [00:00<00:00,  8.99it/s]"
     ]
    },
    {
     "name": "stdout",
     "output_type": "stream",
     "text": [
      "                   all         21        192      0.897      0.636      0.771      0.429\n"
     ]
    },
    {
     "name": "stderr",
     "output_type": "stream",
     "text": [
      "\n"
     ]
    },
    {
     "name": "stdout",
     "output_type": "stream",
     "text": [
      "\n",
      "      Epoch    GPU_mem   box_loss   cls_loss   dfl_loss  Instances       Size\n"
     ]
    },
    {
     "name": "stderr",
     "output_type": "stream",
     "text": [
      "     73/200      4.85G     0.8489     0.3868      1.336        162        640: 100%|██████████| 5/5 [00:00<00:00,  5.41it/s]\n",
      "                 Class     Images  Instances      Box(P          R      mAP50  mAP50-95): 100%|██████████| 1/1 [00:00<00:00,  8.70it/s]"
     ]
    },
    {
     "name": "stdout",
     "output_type": "stream",
     "text": [
      "                   all         21        192      0.846      0.651       0.76      0.413\n"
     ]
    },
    {
     "name": "stderr",
     "output_type": "stream",
     "text": [
      "\n"
     ]
    },
    {
     "name": "stdout",
     "output_type": "stream",
     "text": [
      "\n",
      "      Epoch    GPU_mem   box_loss   cls_loss   dfl_loss  Instances       Size\n"
     ]
    },
    {
     "name": "stderr",
     "output_type": "stream",
     "text": [
      "     74/200      4.62G     0.8272     0.3807      1.311        164        640: 100%|██████████| 5/5 [00:00<00:00,  5.50it/s]\n",
      "                 Class     Images  Instances      Box(P          R      mAP50  mAP50-95): 100%|██████████| 1/1 [00:00<00:00,  8.70it/s]"
     ]
    },
    {
     "name": "stdout",
     "output_type": "stream",
     "text": [
      "                   all         21        192      0.835      0.682      0.771      0.412\n"
     ]
    },
    {
     "name": "stderr",
     "output_type": "stream",
     "text": [
      "\n"
     ]
    },
    {
     "name": "stdout",
     "output_type": "stream",
     "text": [
      "\n",
      "      Epoch    GPU_mem   box_loss   cls_loss   dfl_loss  Instances       Size\n"
     ]
    },
    {
     "name": "stderr",
     "output_type": "stream",
     "text": [
      "     75/200      4.58G     0.6818     0.3552      1.271        108        640: 100%|██████████| 5/5 [00:00<00:00,  5.45it/s]\n",
      "                 Class     Images  Instances      Box(P          R      mAP50  mAP50-95): 100%|██████████| 1/1 [00:00<00:00,  8.55it/s]"
     ]
    },
    {
     "name": "stdout",
     "output_type": "stream",
     "text": [
      "                   all         21        192      0.825      0.682      0.768      0.412\n"
     ]
    },
    {
     "name": "stderr",
     "output_type": "stream",
     "text": [
      "\n"
     ]
    },
    {
     "name": "stdout",
     "output_type": "stream",
     "text": [
      "\n",
      "      Epoch    GPU_mem   box_loss   cls_loss   dfl_loss  Instances       Size\n"
     ]
    },
    {
     "name": "stderr",
     "output_type": "stream",
     "text": [
      "     76/200      4.61G      0.761     0.3681      1.296        137        640: 100%|██████████| 5/5 [00:00<00:00,  5.31it/s]\n",
      "                 Class     Images  Instances      Box(P          R      mAP50  mAP50-95): 100%|██████████| 1/1 [00:00<00:00,  8.55it/s]"
     ]
    },
    {
     "name": "stdout",
     "output_type": "stream",
     "text": [
      "                   all         21        192      0.811      0.708      0.781      0.441\n"
     ]
    },
    {
     "name": "stderr",
     "output_type": "stream",
     "text": [
      "\n"
     ]
    },
    {
     "name": "stdout",
     "output_type": "stream",
     "text": [
      "\n",
      "      Epoch    GPU_mem   box_loss   cls_loss   dfl_loss  Instances       Size\n"
     ]
    },
    {
     "name": "stderr",
     "output_type": "stream",
     "text": [
      "     77/200       4.7G     0.7449     0.3507      1.285        172        640: 100%|██████████| 5/5 [00:00<00:00,  5.46it/s]\n",
      "                 Class     Images  Instances      Box(P          R      mAP50  mAP50-95): 100%|██████████| 1/1 [00:00<00:00,  7.94it/s]"
     ]
    },
    {
     "name": "stdout",
     "output_type": "stream",
     "text": [
      "                   all         21        192      0.795      0.714      0.784      0.433\n"
     ]
    },
    {
     "name": "stderr",
     "output_type": "stream",
     "text": [
      "\n"
     ]
    },
    {
     "name": "stdout",
     "output_type": "stream",
     "text": [
      "\n",
      "      Epoch    GPU_mem   box_loss   cls_loss   dfl_loss  Instances       Size\n"
     ]
    },
    {
     "name": "stderr",
     "output_type": "stream",
     "text": [
      "     78/200      4.89G     0.7755     0.3633      1.283        123        640: 100%|██████████| 5/5 [00:00<00:00,  5.40it/s]\n",
      "                 Class     Images  Instances      Box(P          R      mAP50  mAP50-95): 100%|██████████| 1/1 [00:00<00:00,  8.55it/s]"
     ]
    },
    {
     "name": "stdout",
     "output_type": "stream",
     "text": [
      "                   all         21        192      0.797      0.735      0.794      0.436\n"
     ]
    },
    {
     "name": "stderr",
     "output_type": "stream",
     "text": [
      "\n"
     ]
    },
    {
     "name": "stdout",
     "output_type": "stream",
     "text": [
      "\n",
      "      Epoch    GPU_mem   box_loss   cls_loss   dfl_loss  Instances       Size\n"
     ]
    },
    {
     "name": "stderr",
     "output_type": "stream",
     "text": [
      "     79/200      4.57G     0.7125     0.3477      1.277        134        640: 100%|██████████| 5/5 [00:00<00:00,  5.40it/s]\n",
      "                 Class     Images  Instances      Box(P          R      mAP50  mAP50-95): 100%|██████████| 1/1 [00:00<00:00,  8.55it/s]"
     ]
    },
    {
     "name": "stdout",
     "output_type": "stream",
     "text": [
      "                   all         21        192      0.829      0.734      0.795      0.448\n"
     ]
    },
    {
     "name": "stderr",
     "output_type": "stream",
     "text": [
      "\n"
     ]
    },
    {
     "name": "stdout",
     "output_type": "stream",
     "text": [
      "\n",
      "      Epoch    GPU_mem   box_loss   cls_loss   dfl_loss  Instances       Size\n"
     ]
    },
    {
     "name": "stderr",
     "output_type": "stream",
     "text": [
      "     80/200       4.7G     0.6702     0.3381      1.267        125        640: 100%|██████████| 5/5 [00:00<00:00,  5.39it/s]\n",
      "                 Class     Images  Instances      Box(P          R      mAP50  mAP50-95): 100%|██████████| 1/1 [00:00<00:00,  9.01it/s]"
     ]
    },
    {
     "name": "stdout",
     "output_type": "stream",
     "text": [
      "                   all         21        192       0.87       0.66      0.787      0.436\n"
     ]
    },
    {
     "name": "stderr",
     "output_type": "stream",
     "text": [
      "\n"
     ]
    },
    {
     "name": "stdout",
     "output_type": "stream",
     "text": [
      "\n",
      "      Epoch    GPU_mem   box_loss   cls_loss   dfl_loss  Instances       Size\n"
     ]
    },
    {
     "name": "stderr",
     "output_type": "stream",
     "text": [
      "     81/200      4.81G     0.7209     0.3511      1.287         98        640: 100%|██████████| 5/5 [00:00<00:00,  5.48it/s]\n",
      "                 Class     Images  Instances      Box(P          R      mAP50  mAP50-95): 100%|██████████| 1/1 [00:00<00:00,  8.55it/s]"
     ]
    },
    {
     "name": "stdout",
     "output_type": "stream",
     "text": [
      "                   all         21        192       0.77      0.708      0.782      0.451\n"
     ]
    },
    {
     "name": "stderr",
     "output_type": "stream",
     "text": [
      "\n"
     ]
    },
    {
     "name": "stdout",
     "output_type": "stream",
     "text": [
      "\n",
      "      Epoch    GPU_mem   box_loss   cls_loss   dfl_loss  Instances       Size\n"
     ]
    },
    {
     "name": "stderr",
     "output_type": "stream",
     "text": [
      "     82/200      4.57G      0.721      0.336      1.281        135        640: 100%|██████████| 5/5 [00:00<00:00,  5.36it/s]\n",
      "                 Class     Images  Instances      Box(P          R      mAP50  mAP50-95): 100%|██████████| 1/1 [00:00<00:00,  8.47it/s]"
     ]
    },
    {
     "name": "stdout",
     "output_type": "stream",
     "text": [
      "                   all         21        192      0.916      0.625      0.772      0.445\n"
     ]
    },
    {
     "name": "stderr",
     "output_type": "stream",
     "text": [
      "\n"
     ]
    },
    {
     "name": "stdout",
     "output_type": "stream",
     "text": [
      "\n",
      "      Epoch    GPU_mem   box_loss   cls_loss   dfl_loss  Instances       Size\n"
     ]
    },
    {
     "name": "stderr",
     "output_type": "stream",
     "text": [
      "     83/200      4.56G      0.698     0.3377      1.272        168        640: 100%|██████████| 5/5 [00:00<00:00,  5.40it/s]\n",
      "                 Class     Images  Instances      Box(P          R      mAP50  mAP50-95): 100%|██████████| 1/1 [00:00<00:00,  8.70it/s]"
     ]
    },
    {
     "name": "stdout",
     "output_type": "stream",
     "text": [
      "                   all         21        192      0.824      0.656      0.754      0.422\n"
     ]
    },
    {
     "name": "stderr",
     "output_type": "stream",
     "text": [
      "\n"
     ]
    },
    {
     "name": "stdout",
     "output_type": "stream",
     "text": [
      "\n",
      "      Epoch    GPU_mem   box_loss   cls_loss   dfl_loss  Instances       Size\n"
     ]
    },
    {
     "name": "stderr",
     "output_type": "stream",
     "text": [
      "     84/200      4.54G     0.6913     0.3349      1.288        100        640: 100%|██████████| 5/5 [00:00<00:00,  5.41it/s]\n",
      "                 Class     Images  Instances      Box(P          R      mAP50  mAP50-95): 100%|██████████| 1/1 [00:00<00:00,  8.20it/s]"
     ]
    },
    {
     "name": "stdout",
     "output_type": "stream",
     "text": [
      "                   all         21        192      0.835      0.698      0.788      0.444\n"
     ]
    },
    {
     "name": "stderr",
     "output_type": "stream",
     "text": [
      "\n"
     ]
    },
    {
     "name": "stdout",
     "output_type": "stream",
     "text": [
      "\n",
      "      Epoch    GPU_mem   box_loss   cls_loss   dfl_loss  Instances       Size\n"
     ]
    },
    {
     "name": "stderr",
     "output_type": "stream",
     "text": [
      "     85/200      4.54G     0.7312     0.3406       1.28        129        640: 100%|██████████| 5/5 [00:00<00:00,  5.39it/s]\n",
      "                 Class     Images  Instances      Box(P          R      mAP50  mAP50-95): 100%|██████████| 1/1 [00:00<00:00,  8.70it/s]"
     ]
    },
    {
     "name": "stdout",
     "output_type": "stream",
     "text": [
      "                   all         21        192      0.849      0.703      0.806      0.459\n"
     ]
    },
    {
     "name": "stderr",
     "output_type": "stream",
     "text": [
      "\n"
     ]
    },
    {
     "name": "stdout",
     "output_type": "stream",
     "text": [
      "\n",
      "      Epoch    GPU_mem   box_loss   cls_loss   dfl_loss  Instances       Size\n"
     ]
    },
    {
     "name": "stderr",
     "output_type": "stream",
     "text": [
      "     86/200      4.75G     0.6839     0.3304       1.26         96        640: 100%|██████████| 5/5 [00:00<00:00,  5.40it/s]\n",
      "                 Class     Images  Instances      Box(P          R      mAP50  mAP50-95): 100%|██████████| 1/1 [00:00<00:00,  8.55it/s]"
     ]
    },
    {
     "name": "stdout",
     "output_type": "stream",
     "text": [
      "                   all         21        192      0.863      0.721      0.821      0.448\n"
     ]
    },
    {
     "name": "stderr",
     "output_type": "stream",
     "text": [
      "\n"
     ]
    },
    {
     "name": "stdout",
     "output_type": "stream",
     "text": [
      "\n",
      "      Epoch    GPU_mem   box_loss   cls_loss   dfl_loss  Instances       Size\n"
     ]
    },
    {
     "name": "stderr",
     "output_type": "stream",
     "text": [
      "     87/200      4.56G     0.7069     0.3341      1.281        126        640: 100%|██████████| 5/5 [00:00<00:00,  5.46it/s]\n",
      "                 Class     Images  Instances      Box(P          R      mAP50  mAP50-95): 100%|██████████| 1/1 [00:00<00:00,  8.70it/s]"
     ]
    },
    {
     "name": "stdout",
     "output_type": "stream",
     "text": [
      "                   all         21        192      0.859      0.672      0.801       0.44\n"
     ]
    },
    {
     "name": "stderr",
     "output_type": "stream",
     "text": [
      "\n"
     ]
    },
    {
     "name": "stdout",
     "output_type": "stream",
     "text": [
      "\n",
      "      Epoch    GPU_mem   box_loss   cls_loss   dfl_loss  Instances       Size\n"
     ]
    },
    {
     "name": "stderr",
     "output_type": "stream",
     "text": [
      "     88/200      4.62G     0.6738     0.3292      1.277        146        640: 100%|██████████| 5/5 [00:00<00:00,  5.41it/s]\n",
      "                 Class     Images  Instances      Box(P          R      mAP50  mAP50-95): 100%|██████████| 1/1 [00:00<00:00,  8.40it/s]"
     ]
    },
    {
     "name": "stdout",
     "output_type": "stream",
     "text": [
      "                   all         21        192      0.855      0.688      0.782      0.448\n"
     ]
    },
    {
     "name": "stderr",
     "output_type": "stream",
     "text": [
      "\n"
     ]
    },
    {
     "name": "stdout",
     "output_type": "stream",
     "text": [
      "\n",
      "      Epoch    GPU_mem   box_loss   cls_loss   dfl_loss  Instances       Size\n"
     ]
    },
    {
     "name": "stderr",
     "output_type": "stream",
     "text": [
      "     89/200      4.49G     0.7941     0.3668        1.3        132        640: 100%|██████████| 5/5 [00:00<00:00,  5.34it/s]\n",
      "                 Class     Images  Instances      Box(P          R      mAP50  mAP50-95): 100%|██████████| 1/1 [00:00<00:00,  8.62it/s]"
     ]
    },
    {
     "name": "stdout",
     "output_type": "stream",
     "text": [
      "                   all         21        192      0.833      0.704       0.79      0.452\n"
     ]
    },
    {
     "name": "stderr",
     "output_type": "stream",
     "text": [
      "\n"
     ]
    },
    {
     "name": "stdout",
     "output_type": "stream",
     "text": [
      "\n",
      "      Epoch    GPU_mem   box_loss   cls_loss   dfl_loss  Instances       Size\n"
     ]
    },
    {
     "name": "stderr",
     "output_type": "stream",
     "text": [
      "     90/200       4.7G     0.6932     0.3459       1.26        112        640: 100%|██████████| 5/5 [00:00<00:00,  5.40it/s]\n",
      "                 Class     Images  Instances      Box(P          R      mAP50  mAP50-95): 100%|██████████| 1/1 [00:00<00:00,  6.77it/s]"
     ]
    },
    {
     "name": "stdout",
     "output_type": "stream",
     "text": [
      "                   all         21        192      0.876      0.659      0.799      0.449\n"
     ]
    },
    {
     "name": "stderr",
     "output_type": "stream",
     "text": [
      "\n"
     ]
    },
    {
     "name": "stdout",
     "output_type": "stream",
     "text": [
      "\n",
      "      Epoch    GPU_mem   box_loss   cls_loss   dfl_loss  Instances       Size\n"
     ]
    },
    {
     "name": "stderr",
     "output_type": "stream",
     "text": [
      "     91/200      4.62G     0.6804     0.3328      1.256        110        640: 100%|██████████| 5/5 [00:00<00:00,  5.40it/s]\n",
      "                 Class     Images  Instances      Box(P          R      mAP50  mAP50-95): 100%|██████████| 1/1 [00:00<00:00,  8.40it/s]"
     ]
    },
    {
     "name": "stdout",
     "output_type": "stream",
     "text": [
      "                   all         21        192      0.898      0.646       0.79       0.45\n"
     ]
    },
    {
     "name": "stderr",
     "output_type": "stream",
     "text": [
      "\n"
     ]
    },
    {
     "name": "stdout",
     "output_type": "stream",
     "text": [
      "\n",
      "      Epoch    GPU_mem   box_loss   cls_loss   dfl_loss  Instances       Size\n"
     ]
    },
    {
     "name": "stderr",
     "output_type": "stream",
     "text": [
      "     92/200      4.72G     0.6891     0.3413      1.262        121        640: 100%|██████████| 5/5 [00:00<00:00,  5.36it/s]\n",
      "                 Class     Images  Instances      Box(P          R      mAP50  mAP50-95): 100%|██████████| 1/1 [00:00<00:00,  8.33it/s]"
     ]
    },
    {
     "name": "stdout",
     "output_type": "stream",
     "text": [
      "                   all         21        192      0.861      0.719      0.803      0.443\n"
     ]
    },
    {
     "name": "stderr",
     "output_type": "stream",
     "text": [
      "\n"
     ]
    },
    {
     "name": "stdout",
     "output_type": "stream",
     "text": [
      "\n",
      "      Epoch    GPU_mem   box_loss   cls_loss   dfl_loss  Instances       Size\n"
     ]
    },
    {
     "name": "stderr",
     "output_type": "stream",
     "text": [
      "     93/200      4.55G     0.6646     0.3217      1.251        122        640: 100%|██████████| 5/5 [00:00<00:00,  5.12it/s]\n",
      "                 Class     Images  Instances      Box(P          R      mAP50  mAP50-95): 100%|██████████| 1/1 [00:00<00:00,  8.62it/s]"
     ]
    },
    {
     "name": "stdout",
     "output_type": "stream",
     "text": [
      "                   all         21        192      0.814      0.751      0.816      0.449\n"
     ]
    },
    {
     "name": "stderr",
     "output_type": "stream",
     "text": [
      "\n"
     ]
    },
    {
     "name": "stdout",
     "output_type": "stream",
     "text": [
      "\n",
      "      Epoch    GPU_mem   box_loss   cls_loss   dfl_loss  Instances       Size\n"
     ]
    },
    {
     "name": "stderr",
     "output_type": "stream",
     "text": [
      "     94/200      4.56G     0.6523     0.3151      1.244        112        640: 100%|██████████| 5/5 [00:00<00:00,  5.34it/s]\n",
      "                 Class     Images  Instances      Box(P          R      mAP50  mAP50-95): 100%|██████████| 1/1 [00:00<00:00,  8.13it/s]"
     ]
    },
    {
     "name": "stdout",
     "output_type": "stream",
     "text": [
      "                   all         21        192      0.826      0.688      0.791      0.441\n"
     ]
    },
    {
     "name": "stderr",
     "output_type": "stream",
     "text": [
      "\n"
     ]
    },
    {
     "name": "stdout",
     "output_type": "stream",
     "text": [
      "\n",
      "      Epoch    GPU_mem   box_loss   cls_loss   dfl_loss  Instances       Size\n"
     ]
    },
    {
     "name": "stderr",
     "output_type": "stream",
     "text": [
      "     95/200      4.55G     0.7238     0.3347      1.248        131        640: 100%|██████████| 5/5 [00:00<00:00,  5.17it/s]\n",
      "                 Class     Images  Instances      Box(P          R      mAP50  mAP50-95): 100%|██████████| 1/1 [00:00<00:00,  8.00it/s]"
     ]
    },
    {
     "name": "stdout",
     "output_type": "stream",
     "text": [
      "                   all         21        192      0.843      0.661      0.774      0.435\n"
     ]
    },
    {
     "name": "stderr",
     "output_type": "stream",
     "text": [
      "\n"
     ]
    },
    {
     "name": "stdout",
     "output_type": "stream",
     "text": [
      "\n",
      "      Epoch    GPU_mem   box_loss   cls_loss   dfl_loss  Instances       Size\n"
     ]
    },
    {
     "name": "stderr",
     "output_type": "stream",
     "text": [
      "     96/200      4.72G     0.7227     0.3443      1.264         56        640: 100%|██████████| 5/5 [00:00<00:00,  5.14it/s]\n",
      "                 Class     Images  Instances      Box(P          R      mAP50  mAP50-95): 100%|██████████| 1/1 [00:00<00:00,  8.40it/s]"
     ]
    },
    {
     "name": "stdout",
     "output_type": "stream",
     "text": [
      "                   all         21        192      0.894      0.646      0.789      0.451\n"
     ]
    },
    {
     "name": "stderr",
     "output_type": "stream",
     "text": [
      "\n"
     ]
    },
    {
     "name": "stdout",
     "output_type": "stream",
     "text": [
      "\n",
      "      Epoch    GPU_mem   box_loss   cls_loss   dfl_loss  Instances       Size\n"
     ]
    },
    {
     "name": "stderr",
     "output_type": "stream",
     "text": [
      "     97/200      4.69G     0.6843     0.3263       1.25        177        640: 100%|██████████| 5/5 [00:00<00:00,  5.32it/s]\n",
      "                 Class     Images  Instances      Box(P          R      mAP50  mAP50-95): 100%|██████████| 1/1 [00:00<00:00,  8.40it/s]"
     ]
    },
    {
     "name": "stdout",
     "output_type": "stream",
     "text": [
      "                   all         21        192      0.888       0.66      0.794      0.454\n"
     ]
    },
    {
     "name": "stderr",
     "output_type": "stream",
     "text": [
      "\n"
     ]
    },
    {
     "name": "stdout",
     "output_type": "stream",
     "text": [
      "\n",
      "      Epoch    GPU_mem   box_loss   cls_loss   dfl_loss  Instances       Size\n"
     ]
    },
    {
     "name": "stderr",
     "output_type": "stream",
     "text": [
      "     98/200      4.57G     0.6489     0.3209       1.26        158        640: 100%|██████████| 5/5 [00:00<00:00,  5.35it/s]\n",
      "                 Class     Images  Instances      Box(P          R      mAP50  mAP50-95): 100%|██████████| 1/1 [00:00<00:00,  8.70it/s]"
     ]
    },
    {
     "name": "stdout",
     "output_type": "stream",
     "text": [
      "                   all         21        192      0.814      0.719      0.805      0.464\n"
     ]
    },
    {
     "name": "stderr",
     "output_type": "stream",
     "text": [
      "\n"
     ]
    },
    {
     "name": "stdout",
     "output_type": "stream",
     "text": [
      "\n",
      "      Epoch    GPU_mem   box_loss   cls_loss   dfl_loss  Instances       Size\n"
     ]
    },
    {
     "name": "stderr",
     "output_type": "stream",
     "text": [
      "     99/200      4.72G     0.7177     0.3371      1.263        125        640: 100%|██████████| 5/5 [00:00<00:00,  5.31it/s]\n",
      "                 Class     Images  Instances      Box(P          R      mAP50  mAP50-95): 100%|██████████| 1/1 [00:00<00:00,  8.26it/s]"
     ]
    },
    {
     "name": "stdout",
     "output_type": "stream",
     "text": [
      "                   all         21        192      0.896      0.693      0.808      0.465\n"
     ]
    },
    {
     "name": "stderr",
     "output_type": "stream",
     "text": [
      "\n"
     ]
    },
    {
     "name": "stdout",
     "output_type": "stream",
     "text": [
      "\n",
      "      Epoch    GPU_mem   box_loss   cls_loss   dfl_loss  Instances       Size\n"
     ]
    },
    {
     "name": "stderr",
     "output_type": "stream",
     "text": [
      "    100/200      4.75G     0.6853     0.3285      1.255        108        640: 100%|██████████| 5/5 [00:00<00:00,  5.25it/s]\n",
      "                 Class     Images  Instances      Box(P          R      mAP50  mAP50-95): 100%|██████████| 1/1 [00:00<00:00,  8.62it/s]"
     ]
    },
    {
     "name": "stdout",
     "output_type": "stream",
     "text": [
      "                   all         21        192      0.803      0.661      0.771      0.428\n"
     ]
    },
    {
     "name": "stderr",
     "output_type": "stream",
     "text": [
      "\n"
     ]
    },
    {
     "name": "stdout",
     "output_type": "stream",
     "text": [
      "\n",
      "      Epoch    GPU_mem   box_loss   cls_loss   dfl_loss  Instances       Size\n"
     ]
    },
    {
     "name": "stderr",
     "output_type": "stream",
     "text": [
      "    101/200       4.6G     0.6635     0.3244      1.264        139        640: 100%|██████████| 5/5 [00:00<00:00,  5.35it/s]\n",
      "                 Class     Images  Instances      Box(P          R      mAP50  mAP50-95): 100%|██████████| 1/1 [00:00<00:00,  8.13it/s]"
     ]
    },
    {
     "name": "stdout",
     "output_type": "stream",
     "text": [
      "                   all         21        192      0.835      0.711      0.789       0.45\n"
     ]
    },
    {
     "name": "stderr",
     "output_type": "stream",
     "text": [
      "\n"
     ]
    },
    {
     "name": "stdout",
     "output_type": "stream",
     "text": [
      "\n",
      "      Epoch    GPU_mem   box_loss   cls_loss   dfl_loss  Instances       Size\n"
     ]
    },
    {
     "name": "stderr",
     "output_type": "stream",
     "text": [
      "    102/200      4.71G     0.6442     0.3164      1.256        118        640: 100%|██████████| 5/5 [00:00<00:00,  5.30it/s]\n",
      "                 Class     Images  Instances      Box(P          R      mAP50  mAP50-95): 100%|██████████| 1/1 [00:00<00:00,  8.33it/s]"
     ]
    },
    {
     "name": "stdout",
     "output_type": "stream",
     "text": [
      "                   all         21        192      0.844      0.745      0.815      0.468\n"
     ]
    },
    {
     "name": "stderr",
     "output_type": "stream",
     "text": [
      "\n"
     ]
    },
    {
     "name": "stdout",
     "output_type": "stream",
     "text": [
      "\n",
      "      Epoch    GPU_mem   box_loss   cls_loss   dfl_loss  Instances       Size\n"
     ]
    },
    {
     "name": "stderr",
     "output_type": "stream",
     "text": [
      "    103/200      4.61G     0.6285     0.3117      1.218         97        640: 100%|██████████| 5/5 [00:00<00:00,  5.30it/s]\n",
      "                 Class     Images  Instances      Box(P          R      mAP50  mAP50-95): 100%|██████████| 1/1 [00:00<00:00,  8.33it/s]"
     ]
    },
    {
     "name": "stdout",
     "output_type": "stream",
     "text": [
      "                   all         21        192      0.836       0.75      0.815      0.463\n"
     ]
    },
    {
     "name": "stderr",
     "output_type": "stream",
     "text": [
      "\n"
     ]
    },
    {
     "name": "stdout",
     "output_type": "stream",
     "text": [
      "\n",
      "      Epoch    GPU_mem   box_loss   cls_loss   dfl_loss  Instances       Size\n"
     ]
    },
    {
     "name": "stderr",
     "output_type": "stream",
     "text": [
      "    104/200      4.73G     0.6359     0.3113      1.243        155        640: 100%|██████████| 5/5 [00:00<00:00,  5.27it/s]\n",
      "                 Class     Images  Instances      Box(P          R      mAP50  mAP50-95): 100%|██████████| 1/1 [00:00<00:00,  9.01it/s]"
     ]
    },
    {
     "name": "stdout",
     "output_type": "stream",
     "text": [
      "                   all         21        192      0.824      0.734      0.811      0.456\n"
     ]
    },
    {
     "name": "stderr",
     "output_type": "stream",
     "text": [
      "\n"
     ]
    },
    {
     "name": "stdout",
     "output_type": "stream",
     "text": [
      "\n",
      "      Epoch    GPU_mem   box_loss   cls_loss   dfl_loss  Instances       Size\n"
     ]
    },
    {
     "name": "stderr",
     "output_type": "stream",
     "text": [
      "    105/200       4.6G      0.645     0.3105       1.23        157        640: 100%|██████████| 5/5 [00:00<00:00,  5.41it/s]\n",
      "                 Class     Images  Instances      Box(P          R      mAP50  mAP50-95): 100%|██████████| 1/1 [00:00<00:00,  8.70it/s]"
     ]
    },
    {
     "name": "stdout",
     "output_type": "stream",
     "text": [
      "                   all         21        192      0.882      0.703      0.796      0.471\n"
     ]
    },
    {
     "name": "stderr",
     "output_type": "stream",
     "text": [
      "\n"
     ]
    },
    {
     "name": "stdout",
     "output_type": "stream",
     "text": [
      "\n",
      "      Epoch    GPU_mem   box_loss   cls_loss   dfl_loss  Instances       Size\n"
     ]
    },
    {
     "name": "stderr",
     "output_type": "stream",
     "text": [
      "    106/200      4.56G     0.6007     0.2987      1.234         65        640: 100%|██████████| 5/5 [00:00<00:00,  5.31it/s]\n",
      "                 Class     Images  Instances      Box(P          R      mAP50  mAP50-95): 100%|██████████| 1/1 [00:00<00:00,  7.81it/s]"
     ]
    },
    {
     "name": "stdout",
     "output_type": "stream",
     "text": [
      "                   all         21        192      0.883      0.708      0.803      0.476\n"
     ]
    },
    {
     "name": "stderr",
     "output_type": "stream",
     "text": [
      "\n"
     ]
    },
    {
     "name": "stdout",
     "output_type": "stream",
     "text": [
      "\n",
      "      Epoch    GPU_mem   box_loss   cls_loss   dfl_loss  Instances       Size\n"
     ]
    },
    {
     "name": "stderr",
     "output_type": "stream",
     "text": [
      "    107/200      4.56G     0.6113     0.2978      1.225        114        640: 100%|██████████| 5/5 [00:00<00:00,  5.29it/s]\n",
      "                 Class     Images  Instances      Box(P          R      mAP50  mAP50-95): 100%|██████████| 1/1 [00:00<00:00,  8.10it/s]"
     ]
    },
    {
     "name": "stdout",
     "output_type": "stream",
     "text": [
      "                   all         21        192      0.785      0.703      0.788      0.466\n"
     ]
    },
    {
     "name": "stderr",
     "output_type": "stream",
     "text": [
      "\n"
     ]
    },
    {
     "name": "stdout",
     "output_type": "stream",
     "text": [
      "\n",
      "      Epoch    GPU_mem   box_loss   cls_loss   dfl_loss  Instances       Size\n"
     ]
    },
    {
     "name": "stderr",
     "output_type": "stream",
     "text": [
      "    108/200      4.73G     0.6149     0.2941      1.242        105        640: 100%|██████████| 5/5 [00:00<00:00,  5.19it/s]\n",
      "                 Class     Images  Instances      Box(P          R      mAP50  mAP50-95): 100%|██████████| 1/1 [00:00<00:00,  7.94it/s]"
     ]
    },
    {
     "name": "stdout",
     "output_type": "stream",
     "text": [
      "                   all         21        192      0.784       0.74      0.799      0.454\n"
     ]
    },
    {
     "name": "stderr",
     "output_type": "stream",
     "text": [
      "\n"
     ]
    },
    {
     "name": "stdout",
     "output_type": "stream",
     "text": [
      "\n",
      "      Epoch    GPU_mem   box_loss   cls_loss   dfl_loss  Instances       Size\n"
     ]
    },
    {
     "name": "stderr",
     "output_type": "stream",
     "text": [
      "    109/200      4.72G     0.6581     0.3133      1.235        182        640: 100%|██████████| 5/5 [00:00<00:00,  5.31it/s]\n",
      "                 Class     Images  Instances      Box(P          R      mAP50  mAP50-95): 100%|██████████| 1/1 [00:00<00:00,  8.47it/s]"
     ]
    },
    {
     "name": "stdout",
     "output_type": "stream",
     "text": [
      "                   all         21        192      0.812      0.708      0.799      0.451\n"
     ]
    },
    {
     "name": "stderr",
     "output_type": "stream",
     "text": [
      "\n"
     ]
    },
    {
     "name": "stdout",
     "output_type": "stream",
     "text": [
      "\n",
      "      Epoch    GPU_mem   box_loss   cls_loss   dfl_loss  Instances       Size\n"
     ]
    },
    {
     "name": "stderr",
     "output_type": "stream",
     "text": [
      "    110/200      4.75G     0.6244     0.3092      1.236        146        640: 100%|██████████| 5/5 [00:01<00:00,  4.74it/s]\n",
      "                 Class     Images  Instances      Box(P          R      mAP50  mAP50-95): 100%|██████████| 1/1 [00:00<00:00,  8.70it/s]"
     ]
    },
    {
     "name": "stdout",
     "output_type": "stream",
     "text": [
      "                   all         21        192       0.82      0.688      0.785       0.45\n"
     ]
    },
    {
     "name": "stderr",
     "output_type": "stream",
     "text": [
      "\n"
     ]
    },
    {
     "name": "stdout",
     "output_type": "stream",
     "text": [
      "\n",
      "      Epoch    GPU_mem   box_loss   cls_loss   dfl_loss  Instances       Size\n"
     ]
    },
    {
     "name": "stderr",
     "output_type": "stream",
     "text": [
      "    111/200       4.6G     0.6572     0.3041      1.234         88        640: 100%|██████████| 5/5 [00:00<00:00,  5.10it/s]\n",
      "                 Class     Images  Instances      Box(P          R      mAP50  mAP50-95): 100%|██████████| 1/1 [00:00<00:00,  8.62it/s]"
     ]
    },
    {
     "name": "stdout",
     "output_type": "stream",
     "text": [
      "                   all         21        192      0.854      0.724      0.808      0.451\n"
     ]
    },
    {
     "name": "stderr",
     "output_type": "stream",
     "text": [
      "\n"
     ]
    },
    {
     "name": "stdout",
     "output_type": "stream",
     "text": [
      "\n",
      "      Epoch    GPU_mem   box_loss   cls_loss   dfl_loss  Instances       Size\n"
     ]
    },
    {
     "name": "stderr",
     "output_type": "stream",
     "text": [
      "    112/200      4.59G     0.6528     0.3107      1.224         78        640: 100%|██████████| 5/5 [00:00<00:00,  5.22it/s]\n",
      "                 Class     Images  Instances      Box(P          R      mAP50  mAP50-95): 100%|██████████| 1/1 [00:00<00:00,  8.93it/s]"
     ]
    },
    {
     "name": "stdout",
     "output_type": "stream",
     "text": [
      "                   all         21        192      0.862      0.703      0.815      0.481\n"
     ]
    },
    {
     "name": "stderr",
     "output_type": "stream",
     "text": [
      "\n"
     ]
    },
    {
     "name": "stdout",
     "output_type": "stream",
     "text": [
      "\n",
      "      Epoch    GPU_mem   box_loss   cls_loss   dfl_loss  Instances       Size\n"
     ]
    },
    {
     "name": "stderr",
     "output_type": "stream",
     "text": [
      "    113/200      4.71G     0.6766      0.317      1.232        153        640: 100%|██████████| 5/5 [00:00<00:00,  5.31it/s]\n",
      "                 Class     Images  Instances      Box(P          R      mAP50  mAP50-95): 100%|██████████| 1/1 [00:00<00:00,  8.33it/s]"
     ]
    },
    {
     "name": "stdout",
     "output_type": "stream",
     "text": [
      "                   all         21        192      0.821      0.718      0.809      0.481\n"
     ]
    },
    {
     "name": "stderr",
     "output_type": "stream",
     "text": [
      "\n"
     ]
    },
    {
     "name": "stdout",
     "output_type": "stream",
     "text": [
      "\n",
      "      Epoch    GPU_mem   box_loss   cls_loss   dfl_loss  Instances       Size\n"
     ]
    },
    {
     "name": "stderr",
     "output_type": "stream",
     "text": [
      "    114/200      4.75G     0.6079     0.2961      1.241        169        640: 100%|██████████| 5/5 [00:00<00:00,  5.40it/s]\n",
      "                 Class     Images  Instances      Box(P          R      mAP50  mAP50-95): 100%|██████████| 1/1 [00:00<00:00,  8.70it/s]"
     ]
    },
    {
     "name": "stdout",
     "output_type": "stream",
     "text": [
      "                   all         21        192      0.821       0.74      0.821      0.466\n"
     ]
    },
    {
     "name": "stderr",
     "output_type": "stream",
     "text": [
      "\n"
     ]
    },
    {
     "name": "stdout",
     "output_type": "stream",
     "text": [
      "\n",
      "      Epoch    GPU_mem   box_loss   cls_loss   dfl_loss  Instances       Size\n"
     ]
    },
    {
     "name": "stderr",
     "output_type": "stream",
     "text": [
      "    115/200      4.72G     0.6286     0.2981      1.227        132        640: 100%|██████████| 5/5 [00:00<00:00,  5.19it/s]\n",
      "                 Class     Images  Instances      Box(P          R      mAP50  mAP50-95): 100%|██████████| 1/1 [00:00<00:00,  7.87it/s]"
     ]
    },
    {
     "name": "stdout",
     "output_type": "stream",
     "text": [
      "                   all         21        192      0.813      0.703        0.8      0.461\n"
     ]
    },
    {
     "name": "stderr",
     "output_type": "stream",
     "text": [
      "\n"
     ]
    },
    {
     "name": "stdout",
     "output_type": "stream",
     "text": [
      "\n",
      "      Epoch    GPU_mem   box_loss   cls_loss   dfl_loss  Instances       Size\n"
     ]
    },
    {
     "name": "stderr",
     "output_type": "stream",
     "text": [
      "    116/200      4.73G     0.5916     0.2843      1.234         97        640: 100%|██████████| 5/5 [00:00<00:00,  5.22it/s]\n",
      "                 Class     Images  Instances      Box(P          R      mAP50  mAP50-95): 100%|██████████| 1/1 [00:00<00:00,  8.70it/s]"
     ]
    },
    {
     "name": "stdout",
     "output_type": "stream",
     "text": [
      "                   all         21        192      0.837      0.693      0.805      0.453\n"
     ]
    },
    {
     "name": "stderr",
     "output_type": "stream",
     "text": [
      "\n"
     ]
    },
    {
     "name": "stdout",
     "output_type": "stream",
     "text": [
      "\n",
      "      Epoch    GPU_mem   box_loss   cls_loss   dfl_loss  Instances       Size\n"
     ]
    },
    {
     "name": "stderr",
     "output_type": "stream",
     "text": [
      "    117/200      4.68G     0.6053     0.2922      1.245        152        640: 100%|██████████| 5/5 [00:00<00:00,  5.33it/s]\n",
      "                 Class     Images  Instances      Box(P          R      mAP50  mAP50-95): 100%|██████████| 1/1 [00:00<00:00,  8.47it/s]"
     ]
    },
    {
     "name": "stdout",
     "output_type": "stream",
     "text": [
      "                   all         21        192      0.819      0.709      0.792      0.458\n"
     ]
    },
    {
     "name": "stderr",
     "output_type": "stream",
     "text": [
      "\n"
     ]
    },
    {
     "name": "stdout",
     "output_type": "stream",
     "text": [
      "\n",
      "      Epoch    GPU_mem   box_loss   cls_loss   dfl_loss  Instances       Size\n"
     ]
    },
    {
     "name": "stderr",
     "output_type": "stream",
     "text": [
      "    118/200      4.57G     0.6317     0.2944      1.217        173        640: 100%|██████████| 5/5 [00:00<00:00,  5.39it/s]\n",
      "                 Class     Images  Instances      Box(P          R      mAP50  mAP50-95): 100%|██████████| 1/1 [00:00<00:00,  8.77it/s]"
     ]
    },
    {
     "name": "stdout",
     "output_type": "stream",
     "text": [
      "                   all         21        192       0.84      0.739      0.802      0.472\n"
     ]
    },
    {
     "name": "stderr",
     "output_type": "stream",
     "text": [
      "\n"
     ]
    },
    {
     "name": "stdout",
     "output_type": "stream",
     "text": [
      "\n",
      "      Epoch    GPU_mem   box_loss   cls_loss   dfl_loss  Instances       Size\n"
     ]
    },
    {
     "name": "stderr",
     "output_type": "stream",
     "text": [
      "    119/200      4.62G     0.6191      0.301      1.223         85        640: 100%|██████████| 5/5 [00:00<00:00,  5.39it/s]\n",
      "                 Class     Images  Instances      Box(P          R      mAP50  mAP50-95): 100%|██████████| 1/1 [00:00<00:00,  8.62it/s]"
     ]
    },
    {
     "name": "stdout",
     "output_type": "stream",
     "text": [
      "                   all         21        192      0.835      0.729      0.807       0.48\n"
     ]
    },
    {
     "name": "stderr",
     "output_type": "stream",
     "text": [
      "\n"
     ]
    },
    {
     "name": "stdout",
     "output_type": "stream",
     "text": [
      "\n",
      "      Epoch    GPU_mem   box_loss   cls_loss   dfl_loss  Instances       Size\n"
     ]
    },
    {
     "name": "stderr",
     "output_type": "stream",
     "text": [
      "    120/200       4.7G     0.6105     0.2942       1.23        112        640: 100%|██████████| 5/5 [00:00<00:00,  5.21it/s]\n",
      "                 Class     Images  Instances      Box(P          R      mAP50  mAP50-95): 100%|██████████| 1/1 [00:00<00:00,  8.33it/s]"
     ]
    },
    {
     "name": "stdout",
     "output_type": "stream",
     "text": [
      "                   all         21        192      0.826      0.715      0.799      0.479\n"
     ]
    },
    {
     "name": "stderr",
     "output_type": "stream",
     "text": [
      "\n"
     ]
    },
    {
     "name": "stdout",
     "output_type": "stream",
     "text": [
      "\n",
      "      Epoch    GPU_mem   box_loss   cls_loss   dfl_loss  Instances       Size\n"
     ]
    },
    {
     "name": "stderr",
     "output_type": "stream",
     "text": [
      "    121/200      4.68G     0.6451     0.3059      1.223         96        640: 100%|██████████| 5/5 [00:00<00:00,  5.27it/s]\n",
      "                 Class     Images  Instances      Box(P          R      mAP50  mAP50-95): 100%|██████████| 1/1 [00:00<00:00,  8.62it/s]"
     ]
    },
    {
     "name": "stdout",
     "output_type": "stream",
     "text": [
      "                   all         21        192      0.836      0.714      0.789      0.461\n"
     ]
    },
    {
     "name": "stderr",
     "output_type": "stream",
     "text": [
      "\n"
     ]
    },
    {
     "name": "stdout",
     "output_type": "stream",
     "text": [
      "\n",
      "      Epoch    GPU_mem   box_loss   cls_loss   dfl_loss  Instances       Size\n"
     ]
    },
    {
     "name": "stderr",
     "output_type": "stream",
     "text": [
      "    122/200      4.75G     0.5679     0.2775      1.218        104        640: 100%|██████████| 5/5 [00:00<00:00,  5.31it/s]\n",
      "                 Class     Images  Instances      Box(P          R      mAP50  mAP50-95): 100%|██████████| 1/1 [00:00<00:00,  8.62it/s]"
     ]
    },
    {
     "name": "stdout",
     "output_type": "stream",
     "text": [
      "                   all         21        192      0.836      0.677      0.773      0.454\n"
     ]
    },
    {
     "name": "stderr",
     "output_type": "stream",
     "text": [
      "\n"
     ]
    },
    {
     "name": "stdout",
     "output_type": "stream",
     "text": [
      "\n",
      "      Epoch    GPU_mem   box_loss   cls_loss   dfl_loss  Instances       Size\n"
     ]
    },
    {
     "name": "stderr",
     "output_type": "stream",
     "text": [
      "    123/200      4.47G     0.5698     0.2737        1.2        119        640: 100%|██████████| 5/5 [00:00<00:00,  5.44it/s]\n",
      "                 Class     Images  Instances      Box(P          R      mAP50  mAP50-95): 100%|██████████| 1/1 [00:00<00:00,  8.47it/s]"
     ]
    },
    {
     "name": "stdout",
     "output_type": "stream",
     "text": [
      "                   all         21        192      0.856      0.682       0.77      0.441\n"
     ]
    },
    {
     "name": "stderr",
     "output_type": "stream",
     "text": [
      "\n"
     ]
    },
    {
     "name": "stdout",
     "output_type": "stream",
     "text": [
      "\n",
      "      Epoch    GPU_mem   box_loss   cls_loss   dfl_loss  Instances       Size\n"
     ]
    },
    {
     "name": "stderr",
     "output_type": "stream",
     "text": [
      "    124/200      4.59G     0.6059     0.2887      1.229        144        640: 100%|██████████| 5/5 [00:00<00:00,  5.24it/s]\n",
      "                 Class     Images  Instances      Box(P          R      mAP50  mAP50-95): 100%|██████████| 1/1 [00:00<00:00,  8.70it/s]"
     ]
    },
    {
     "name": "stdout",
     "output_type": "stream",
     "text": [
      "                   all         21        192       0.87      0.672      0.778      0.449\n"
     ]
    },
    {
     "name": "stderr",
     "output_type": "stream",
     "text": [
      "\n"
     ]
    },
    {
     "name": "stdout",
     "output_type": "stream",
     "text": [
      "\n",
      "      Epoch    GPU_mem   box_loss   cls_loss   dfl_loss  Instances       Size\n"
     ]
    },
    {
     "name": "stderr",
     "output_type": "stream",
     "text": [
      "    125/200       4.7G     0.6562     0.2987      1.239        113        640: 100%|██████████| 5/5 [00:00<00:00,  5.29it/s]\n",
      "                 Class     Images  Instances      Box(P          R      mAP50  mAP50-95): 100%|██████████| 1/1 [00:00<00:00,  8.00it/s]"
     ]
    },
    {
     "name": "stdout",
     "output_type": "stream",
     "text": [
      "                   all         21        192      0.871      0.677      0.801      0.456\n"
     ]
    },
    {
     "name": "stderr",
     "output_type": "stream",
     "text": [
      "\n"
     ]
    },
    {
     "name": "stdout",
     "output_type": "stream",
     "text": [
      "\n",
      "      Epoch    GPU_mem   box_loss   cls_loss   dfl_loss  Instances       Size\n"
     ]
    },
    {
     "name": "stderr",
     "output_type": "stream",
     "text": [
      "    126/200      4.73G     0.6416     0.2995      1.239        180        640: 100%|██████████| 5/5 [00:00<00:00,  5.24it/s]\n",
      "                 Class     Images  Instances      Box(P          R      mAP50  mAP50-95): 100%|██████████| 1/1 [00:00<00:00,  6.58it/s]"
     ]
    },
    {
     "name": "stdout",
     "output_type": "stream",
     "text": [
      "                   all         21        192       0.83      0.713      0.795      0.448\n"
     ]
    },
    {
     "name": "stderr",
     "output_type": "stream",
     "text": [
      "\n"
     ]
    },
    {
     "name": "stdout",
     "output_type": "stream",
     "text": [
      "\n",
      "      Epoch    GPU_mem   box_loss   cls_loss   dfl_loss  Instances       Size\n"
     ]
    },
    {
     "name": "stderr",
     "output_type": "stream",
     "text": [
      "    127/200      4.56G     0.5981     0.2852      1.224        119        640: 100%|██████████| 5/5 [00:00<00:00,  5.27it/s]\n",
      "                 Class     Images  Instances      Box(P          R      mAP50  mAP50-95): 100%|██████████| 1/1 [00:00<00:00,  8.40it/s]"
     ]
    },
    {
     "name": "stdout",
     "output_type": "stream",
     "text": [
      "                   all         21        192      0.826      0.745      0.822      0.466\n"
     ]
    },
    {
     "name": "stderr",
     "output_type": "stream",
     "text": [
      "\n"
     ]
    },
    {
     "name": "stdout",
     "output_type": "stream",
     "text": [
      "\n",
      "      Epoch    GPU_mem   box_loss   cls_loss   dfl_loss  Instances       Size\n"
     ]
    },
    {
     "name": "stderr",
     "output_type": "stream",
     "text": [
      "    128/200      4.56G     0.5989     0.2793      1.224        139        640: 100%|██████████| 5/5 [00:00<00:00,  5.29it/s]\n",
      "                 Class     Images  Instances      Box(P          R      mAP50  mAP50-95): 100%|██████████| 1/1 [00:00<00:00,  8.77it/s]"
     ]
    },
    {
     "name": "stdout",
     "output_type": "stream",
     "text": [
      "                   all         21        192       0.83       0.76      0.835      0.494\n"
     ]
    },
    {
     "name": "stderr",
     "output_type": "stream",
     "text": [
      "\n"
     ]
    },
    {
     "name": "stdout",
     "output_type": "stream",
     "text": [
      "\n",
      "      Epoch    GPU_mem   box_loss   cls_loss   dfl_loss  Instances       Size\n"
     ]
    },
    {
     "name": "stderr",
     "output_type": "stream",
     "text": [
      "    129/200      4.55G     0.6112     0.2955       1.22        160        640: 100%|██████████| 5/5 [00:00<00:00,  5.32it/s]\n",
      "                 Class     Images  Instances      Box(P          R      mAP50  mAP50-95): 100%|██████████| 1/1 [00:00<00:00,  8.33it/s]"
     ]
    },
    {
     "name": "stdout",
     "output_type": "stream",
     "text": [
      "                   all         21        192       0.84      0.737      0.829      0.475\n"
     ]
    },
    {
     "name": "stderr",
     "output_type": "stream",
     "text": [
      "\n"
     ]
    },
    {
     "name": "stdout",
     "output_type": "stream",
     "text": [
      "\n",
      "      Epoch    GPU_mem   box_loss   cls_loss   dfl_loss  Instances       Size\n"
     ]
    },
    {
     "name": "stderr",
     "output_type": "stream",
     "text": [
      "    130/200      4.73G     0.5578     0.2794      1.207         80        640: 100%|██████████| 5/5 [00:00<00:00,  5.32it/s]\n",
      "                 Class     Images  Instances      Box(P          R      mAP50  mAP50-95): 100%|██████████| 1/1 [00:00<00:00,  8.26it/s]"
     ]
    },
    {
     "name": "stdout",
     "output_type": "stream",
     "text": [
      "                   all         21        192      0.851       0.74      0.833      0.485\n"
     ]
    },
    {
     "name": "stderr",
     "output_type": "stream",
     "text": [
      "\n"
     ]
    },
    {
     "name": "stdout",
     "output_type": "stream",
     "text": [
      "\n",
      "      Epoch    GPU_mem   box_loss   cls_loss   dfl_loss  Instances       Size\n"
     ]
    },
    {
     "name": "stderr",
     "output_type": "stream",
     "text": [
      "    131/200      4.55G      0.555     0.2756      1.204        124        640: 100%|██████████| 5/5 [00:00<00:00,  5.28it/s]\n",
      "                 Class     Images  Instances      Box(P          R      mAP50  mAP50-95): 100%|██████████| 1/1 [00:00<00:00,  7.94it/s]"
     ]
    },
    {
     "name": "stdout",
     "output_type": "stream",
     "text": [
      "                   all         21        192      0.903      0.745      0.848      0.495\n"
     ]
    },
    {
     "name": "stderr",
     "output_type": "stream",
     "text": [
      "\n"
     ]
    },
    {
     "name": "stdout",
     "output_type": "stream",
     "text": [
      "\n",
      "      Epoch    GPU_mem   box_loss   cls_loss   dfl_loss  Instances       Size\n"
     ]
    },
    {
     "name": "stderr",
     "output_type": "stream",
     "text": [
      "    132/200      4.55G     0.5661     0.2797      1.221        159        640: 100%|██████████| 5/5 [00:00<00:00,  5.16it/s]\n",
      "                 Class     Images  Instances      Box(P          R      mAP50  mAP50-95): 100%|██████████| 1/1 [00:00<00:00,  8.77it/s]"
     ]
    },
    {
     "name": "stdout",
     "output_type": "stream",
     "text": [
      "                   all         21        192      0.843      0.724       0.82      0.485\n"
     ]
    },
    {
     "name": "stderr",
     "output_type": "stream",
     "text": [
      "\n"
     ]
    },
    {
     "name": "stdout",
     "output_type": "stream",
     "text": [
      "\n",
      "      Epoch    GPU_mem   box_loss   cls_loss   dfl_loss  Instances       Size\n"
     ]
    },
    {
     "name": "stderr",
     "output_type": "stream",
     "text": [
      "    133/200       4.6G     0.5723     0.2751      1.194        186        640: 100%|██████████| 5/5 [00:00<00:00,  5.34it/s]\n",
      "                 Class     Images  Instances      Box(P          R      mAP50  mAP50-95): 100%|██████████| 1/1 [00:00<00:00,  8.40it/s]"
     ]
    },
    {
     "name": "stdout",
     "output_type": "stream",
     "text": [
      "                   all         21        192      0.856      0.734      0.828      0.482\n"
     ]
    },
    {
     "name": "stderr",
     "output_type": "stream",
     "text": [
      "\n"
     ]
    },
    {
     "name": "stdout",
     "output_type": "stream",
     "text": [
      "\n",
      "      Epoch    GPU_mem   box_loss   cls_loss   dfl_loss  Instances       Size\n"
     ]
    },
    {
     "name": "stderr",
     "output_type": "stream",
     "text": [
      "    134/200      4.73G     0.5771     0.2766      1.217        152        640: 100%|██████████| 5/5 [00:00<00:00,  5.33it/s]\n",
      "                 Class     Images  Instances      Box(P          R      mAP50  mAP50-95): 100%|██████████| 1/1 [00:00<00:00,  7.69it/s]"
     ]
    },
    {
     "name": "stdout",
     "output_type": "stream",
     "text": [
      "                   all         21        192      0.877      0.703      0.819      0.483\n"
     ]
    },
    {
     "name": "stderr",
     "output_type": "stream",
     "text": [
      "\n"
     ]
    },
    {
     "name": "stdout",
     "output_type": "stream",
     "text": [
      "\n",
      "      Epoch    GPU_mem   box_loss   cls_loss   dfl_loss  Instances       Size\n"
     ]
    },
    {
     "name": "stderr",
     "output_type": "stream",
     "text": [
      "    135/200      4.58G     0.5865     0.2812      1.212        163        640: 100%|██████████| 5/5 [00:00<00:00,  5.40it/s]\n",
      "                 Class     Images  Instances      Box(P          R      mAP50  mAP50-95): 100%|██████████| 1/1 [00:00<00:00,  8.09it/s]"
     ]
    },
    {
     "name": "stdout",
     "output_type": "stream",
     "text": [
      "                   all         21        192      0.817      0.745      0.817      0.485\n"
     ]
    },
    {
     "name": "stderr",
     "output_type": "stream",
     "text": [
      "\n"
     ]
    },
    {
     "name": "stdout",
     "output_type": "stream",
     "text": [
      "\n",
      "      Epoch    GPU_mem   box_loss   cls_loss   dfl_loss  Instances       Size\n"
     ]
    },
    {
     "name": "stderr",
     "output_type": "stream",
     "text": [
      "    136/200      4.72G     0.5426     0.2728       1.21        112        640: 100%|██████████| 5/5 [00:00<00:00,  5.25it/s]\n",
      "                 Class     Images  Instances      Box(P          R      mAP50  mAP50-95): 100%|██████████| 1/1 [00:00<00:00,  8.33it/s]"
     ]
    },
    {
     "name": "stdout",
     "output_type": "stream",
     "text": [
      "                   all         21        192      0.862      0.716      0.806      0.482\n"
     ]
    },
    {
     "name": "stderr",
     "output_type": "stream",
     "text": [
      "\n"
     ]
    },
    {
     "name": "stdout",
     "output_type": "stream",
     "text": [
      "\n",
      "      Epoch    GPU_mem   box_loss   cls_loss   dfl_loss  Instances       Size\n"
     ]
    },
    {
     "name": "stderr",
     "output_type": "stream",
     "text": [
      "    137/200      4.72G     0.5572     0.2663      1.199        143        640: 100%|██████████| 5/5 [00:00<00:00,  5.35it/s]\n",
      "                 Class     Images  Instances      Box(P          R      mAP50  mAP50-95): 100%|██████████| 1/1 [00:00<00:00,  8.40it/s]"
     ]
    },
    {
     "name": "stdout",
     "output_type": "stream",
     "text": [
      "                   all         21        192      0.879      0.714      0.801      0.482\n"
     ]
    },
    {
     "name": "stderr",
     "output_type": "stream",
     "text": [
      "\n"
     ]
    },
    {
     "name": "stdout",
     "output_type": "stream",
     "text": [
      "\n",
      "      Epoch    GPU_mem   box_loss   cls_loss   dfl_loss  Instances       Size\n"
     ]
    },
    {
     "name": "stderr",
     "output_type": "stream",
     "text": [
      "    138/200      4.72G     0.5735     0.2762      1.199        197        640: 100%|██████████| 5/5 [00:00<00:00,  5.36it/s]\n",
      "                 Class     Images  Instances      Box(P          R      mAP50  mAP50-95): 100%|██████████| 1/1 [00:00<00:00,  7.81it/s]"
     ]
    },
    {
     "name": "stdout",
     "output_type": "stream",
     "text": [
      "                   all         21        192      0.866      0.738      0.805      0.473\n"
     ]
    },
    {
     "name": "stderr",
     "output_type": "stream",
     "text": [
      "\n"
     ]
    },
    {
     "name": "stdout",
     "output_type": "stream",
     "text": [
      "\n",
      "      Epoch    GPU_mem   box_loss   cls_loss   dfl_loss  Instances       Size\n"
     ]
    },
    {
     "name": "stderr",
     "output_type": "stream",
     "text": [
      "    139/200      4.45G     0.5392     0.2692      1.213        113        640: 100%|██████████| 5/5 [00:00<00:00,  5.25it/s]\n",
      "                 Class     Images  Instances      Box(P          R      mAP50  mAP50-95): 100%|██████████| 1/1 [00:00<00:00,  8.20it/s]"
     ]
    },
    {
     "name": "stdout",
     "output_type": "stream",
     "text": [
      "                   all         21        192      0.862      0.716      0.815      0.487\n"
     ]
    },
    {
     "name": "stderr",
     "output_type": "stream",
     "text": [
      "\n"
     ]
    },
    {
     "name": "stdout",
     "output_type": "stream",
     "text": [
      "\n",
      "      Epoch    GPU_mem   box_loss   cls_loss   dfl_loss  Instances       Size\n"
     ]
    },
    {
     "name": "stderr",
     "output_type": "stream",
     "text": [
      "    140/200       4.7G     0.5479     0.2671      1.205        115        640: 100%|██████████| 5/5 [00:00<00:00,  5.18it/s]\n",
      "                 Class     Images  Instances      Box(P          R      mAP50  mAP50-95): 100%|██████████| 1/1 [00:00<00:00,  7.75it/s]"
     ]
    },
    {
     "name": "stdout",
     "output_type": "stream",
     "text": [
      "                   all         21        192      0.838      0.708      0.811      0.483\n"
     ]
    },
    {
     "name": "stderr",
     "output_type": "stream",
     "text": [
      "\n"
     ]
    },
    {
     "name": "stdout",
     "output_type": "stream",
     "text": [
      "\n",
      "      Epoch    GPU_mem   box_loss   cls_loss   dfl_loss  Instances       Size\n"
     ]
    },
    {
     "name": "stderr",
     "output_type": "stream",
     "text": [
      "    141/200      4.71G     0.5248     0.2632      1.197        132        640: 100%|██████████| 5/5 [00:00<00:00,  5.31it/s]\n",
      "                 Class     Images  Instances      Box(P          R      mAP50  mAP50-95): 100%|██████████| 1/1 [00:00<00:00,  8.94it/s]"
     ]
    },
    {
     "name": "stdout",
     "output_type": "stream",
     "text": [
      "                   all         21        192      0.833      0.726      0.816      0.479\n"
     ]
    },
    {
     "name": "stderr",
     "output_type": "stream",
     "text": [
      "\n"
     ]
    },
    {
     "name": "stdout",
     "output_type": "stream",
     "text": [
      "\n",
      "      Epoch    GPU_mem   box_loss   cls_loss   dfl_loss  Instances       Size\n"
     ]
    },
    {
     "name": "stderr",
     "output_type": "stream",
     "text": [
      "    142/200      4.69G     0.5477     0.2672      1.216        120        640: 100%|██████████| 5/5 [00:00<00:00,  5.41it/s]\n",
      "                 Class     Images  Instances      Box(P          R      mAP50  mAP50-95): 100%|██████████| 1/1 [00:00<00:00,  8.33it/s]"
     ]
    },
    {
     "name": "stdout",
     "output_type": "stream",
     "text": [
      "                   all         21        192      0.836      0.724      0.813      0.472\n"
     ]
    },
    {
     "name": "stderr",
     "output_type": "stream",
     "text": [
      "\n"
     ]
    },
    {
     "name": "stdout",
     "output_type": "stream",
     "text": [
      "\n",
      "      Epoch    GPU_mem   box_loss   cls_loss   dfl_loss  Instances       Size\n"
     ]
    },
    {
     "name": "stderr",
     "output_type": "stream",
     "text": [
      "    143/200      4.72G     0.5179     0.2579      1.206        120        640: 100%|██████████| 5/5 [00:00<00:00,  5.37it/s]\n",
      "                 Class     Images  Instances      Box(P          R      mAP50  mAP50-95): 100%|██████████| 1/1 [00:00<00:00,  8.00it/s]"
     ]
    },
    {
     "name": "stdout",
     "output_type": "stream",
     "text": [
      "                   all         21        192      0.894      0.705      0.823       0.48\n"
     ]
    },
    {
     "name": "stderr",
     "output_type": "stream",
     "text": [
      "\n"
     ]
    },
    {
     "name": "stdout",
     "output_type": "stream",
     "text": [
      "\n",
      "      Epoch    GPU_mem   box_loss   cls_loss   dfl_loss  Instances       Size\n"
     ]
    },
    {
     "name": "stderr",
     "output_type": "stream",
     "text": [
      "    144/200      4.63G     0.4981      0.249      1.187        131        640: 100%|██████████| 5/5 [00:00<00:00,  5.13it/s]\n",
      "                 Class     Images  Instances      Box(P          R      mAP50  mAP50-95): 100%|██████████| 1/1 [00:00<00:00,  8.85it/s]"
     ]
    },
    {
     "name": "stdout",
     "output_type": "stream",
     "text": [
      "                   all         21        192      0.857      0.708        0.8      0.476\n"
     ]
    },
    {
     "name": "stderr",
     "output_type": "stream",
     "text": [
      "\n"
     ]
    },
    {
     "name": "stdout",
     "output_type": "stream",
     "text": [
      "\n",
      "      Epoch    GPU_mem   box_loss   cls_loss   dfl_loss  Instances       Size\n"
     ]
    },
    {
     "name": "stderr",
     "output_type": "stream",
     "text": [
      "    145/200       4.7G     0.5077     0.2555      1.197        173        640: 100%|██████████| 5/5 [00:00<00:00,  5.26it/s]\n",
      "                 Class     Images  Instances      Box(P          R      mAP50  mAP50-95): 100%|██████████| 1/1 [00:00<00:00,  7.87it/s]"
     ]
    },
    {
     "name": "stdout",
     "output_type": "stream",
     "text": [
      "                   all         21        192       0.88      0.693        0.8       0.48\n"
     ]
    },
    {
     "name": "stderr",
     "output_type": "stream",
     "text": [
      "\n"
     ]
    },
    {
     "name": "stdout",
     "output_type": "stream",
     "text": [
      "\n",
      "      Epoch    GPU_mem   box_loss   cls_loss   dfl_loss  Instances       Size\n"
     ]
    },
    {
     "name": "stderr",
     "output_type": "stream",
     "text": [
      "    146/200      4.72G     0.5045     0.2561      1.208        110        640: 100%|██████████| 5/5 [00:00<00:00,  5.29it/s]\n",
      "                 Class     Images  Instances      Box(P          R      mAP50  mAP50-95): 100%|██████████| 1/1 [00:00<00:00,  8.33it/s]"
     ]
    },
    {
     "name": "stdout",
     "output_type": "stream",
     "text": [
      "                   all         21        192      0.805      0.734      0.794      0.466\n"
     ]
    },
    {
     "name": "stderr",
     "output_type": "stream",
     "text": [
      "\n"
     ]
    },
    {
     "name": "stdout",
     "output_type": "stream",
     "text": [
      "\n",
      "      Epoch    GPU_mem   box_loss   cls_loss   dfl_loss  Instances       Size\n"
     ]
    },
    {
     "name": "stderr",
     "output_type": "stream",
     "text": [
      "    147/200      4.71G     0.5168     0.2585      1.205        107        640: 100%|██████████| 5/5 [00:00<00:00,  5.38it/s]\n",
      "                 Class     Images  Instances      Box(P          R      mAP50  mAP50-95): 100%|██████████| 1/1 [00:00<00:00,  8.42it/s]"
     ]
    },
    {
     "name": "stdout",
     "output_type": "stream",
     "text": [
      "                   all         21        192      0.866      0.693      0.797       0.47\n"
     ]
    },
    {
     "name": "stderr",
     "output_type": "stream",
     "text": [
      "\n"
     ]
    },
    {
     "name": "stdout",
     "output_type": "stream",
     "text": [
      "\n",
      "      Epoch    GPU_mem   box_loss   cls_loss   dfl_loss  Instances       Size\n"
     ]
    },
    {
     "name": "stderr",
     "output_type": "stream",
     "text": [
      "    148/200      4.79G     0.5312      0.259        1.2        160        640: 100%|██████████| 5/5 [00:00<00:00,  5.12it/s]\n",
      "                 Class     Images  Instances      Box(P          R      mAP50  mAP50-95): 100%|██████████| 1/1 [00:00<00:00,  6.90it/s]"
     ]
    },
    {
     "name": "stdout",
     "output_type": "stream",
     "text": [
      "                   all         21        192      0.891      0.727       0.81      0.472\n"
     ]
    },
    {
     "name": "stderr",
     "output_type": "stream",
     "text": [
      "\n"
     ]
    },
    {
     "name": "stdout",
     "output_type": "stream",
     "text": [
      "\n",
      "      Epoch    GPU_mem   box_loss   cls_loss   dfl_loss  Instances       Size\n"
     ]
    },
    {
     "name": "stderr",
     "output_type": "stream",
     "text": [
      "    149/200      4.68G     0.5188     0.2534      1.197        106        640: 100%|██████████| 5/5 [00:00<00:00,  5.04it/s]\n",
      "                 Class     Images  Instances      Box(P          R      mAP50  mAP50-95): 100%|██████████| 1/1 [00:00<00:00,  8.06it/s]"
     ]
    },
    {
     "name": "stdout",
     "output_type": "stream",
     "text": [
      "                   all         21        192      0.874      0.724      0.811      0.478\n"
     ]
    },
    {
     "name": "stderr",
     "output_type": "stream",
     "text": [
      "\n"
     ]
    },
    {
     "name": "stdout",
     "output_type": "stream",
     "text": [
      "\n",
      "      Epoch    GPU_mem   box_loss   cls_loss   dfl_loss  Instances       Size\n"
     ]
    },
    {
     "name": "stderr",
     "output_type": "stream",
     "text": [
      "    150/200      4.71G      0.523     0.2592      1.192        139        640: 100%|██████████| 5/5 [00:00<00:00,  5.06it/s]\n",
      "                 Class     Images  Instances      Box(P          R      mAP50  mAP50-95): 100%|██████████| 1/1 [00:00<00:00,  8.13it/s]"
     ]
    },
    {
     "name": "stdout",
     "output_type": "stream",
     "text": [
      "                   all         21        192      0.867       0.75      0.819      0.485\n"
     ]
    },
    {
     "name": "stderr",
     "output_type": "stream",
     "text": [
      "\n"
     ]
    },
    {
     "name": "stdout",
     "output_type": "stream",
     "text": [
      "\n",
      "      Epoch    GPU_mem   box_loss   cls_loss   dfl_loss  Instances       Size\n"
     ]
    },
    {
     "name": "stderr",
     "output_type": "stream",
     "text": [
      "    151/200      4.74G     0.5301     0.2516      1.202         97        640: 100%|██████████| 5/5 [00:00<00:00,  5.04it/s]\n",
      "                 Class     Images  Instances      Box(P          R      mAP50  mAP50-95): 100%|██████████| 1/1 [00:00<00:00,  7.63it/s]"
     ]
    },
    {
     "name": "stdout",
     "output_type": "stream",
     "text": [
      "                   all         21        192      0.843      0.766      0.824       0.49\n"
     ]
    },
    {
     "name": "stderr",
     "output_type": "stream",
     "text": [
      "\n"
     ]
    },
    {
     "name": "stdout",
     "output_type": "stream",
     "text": [
      "\n",
      "      Epoch    GPU_mem   box_loss   cls_loss   dfl_loss  Instances       Size\n"
     ]
    },
    {
     "name": "stderr",
     "output_type": "stream",
     "text": [
      "    152/200      4.74G     0.5183     0.2504      1.189        121        640: 100%|██████████| 5/5 [00:00<00:00,  5.05it/s]\n",
      "                 Class     Images  Instances      Box(P          R      mAP50  mAP50-95): 100%|██████████| 1/1 [00:00<00:00,  7.69it/s]"
     ]
    },
    {
     "name": "stdout",
     "output_type": "stream",
     "text": [
      "                   all         21        192       0.83      0.755      0.829      0.489\n"
     ]
    },
    {
     "name": "stderr",
     "output_type": "stream",
     "text": [
      "\n"
     ]
    },
    {
     "name": "stdout",
     "output_type": "stream",
     "text": [
      "\n",
      "      Epoch    GPU_mem   box_loss   cls_loss   dfl_loss  Instances       Size\n"
     ]
    },
    {
     "name": "stderr",
     "output_type": "stream",
     "text": [
      "    153/200      4.88G     0.5335     0.2604      1.186         88        640: 100%|██████████| 5/5 [00:00<00:00,  5.19it/s]\n",
      "                 Class     Images  Instances      Box(P          R      mAP50  mAP50-95): 100%|██████████| 1/1 [00:00<00:00,  8.26it/s]"
     ]
    },
    {
     "name": "stdout",
     "output_type": "stream",
     "text": [
      "                   all         21        192       0.89      0.698      0.817      0.486\n"
     ]
    },
    {
     "name": "stderr",
     "output_type": "stream",
     "text": [
      "\n"
     ]
    },
    {
     "name": "stdout",
     "output_type": "stream",
     "text": [
      "\n",
      "      Epoch    GPU_mem   box_loss   cls_loss   dfl_loss  Instances       Size\n"
     ]
    },
    {
     "name": "stderr",
     "output_type": "stream",
     "text": [
      "    154/200      4.62G     0.5065     0.2516      1.186        124        640: 100%|██████████| 5/5 [00:00<00:00,  5.17it/s]\n",
      "                 Class     Images  Instances      Box(P          R      mAP50  mAP50-95): 100%|██████████| 1/1 [00:00<00:00,  8.51it/s]"
     ]
    },
    {
     "name": "stdout",
     "output_type": "stream",
     "text": [
      "                   all         21        192      0.863      0.719      0.821      0.494\n"
     ]
    },
    {
     "name": "stderr",
     "output_type": "stream",
     "text": [
      "\n"
     ]
    },
    {
     "name": "stdout",
     "output_type": "stream",
     "text": [
      "\n",
      "      Epoch    GPU_mem   box_loss   cls_loss   dfl_loss  Instances       Size\n"
     ]
    },
    {
     "name": "stderr",
     "output_type": "stream",
     "text": [
      "    155/200      4.71G     0.5229     0.2545      1.205        132        640: 100%|██████████| 5/5 [00:00<00:00,  5.14it/s]\n",
      "                 Class     Images  Instances      Box(P          R      mAP50  mAP50-95): 100%|██████████| 1/1 [00:00<00:00,  8.47it/s]"
     ]
    },
    {
     "name": "stdout",
     "output_type": "stream",
     "text": [
      "                   all         21        192       0.88      0.726      0.829      0.503\n"
     ]
    },
    {
     "name": "stderr",
     "output_type": "stream",
     "text": [
      "\n"
     ]
    },
    {
     "name": "stdout",
     "output_type": "stream",
     "text": [
      "\n",
      "      Epoch    GPU_mem   box_loss   cls_loss   dfl_loss  Instances       Size\n"
     ]
    },
    {
     "name": "stderr",
     "output_type": "stream",
     "text": [
      "    156/200      4.69G     0.4936     0.2491      1.189        152        640: 100%|██████████| 5/5 [00:01<00:00,  4.95it/s]\n",
      "                 Class     Images  Instances      Box(P          R      mAP50  mAP50-95): 100%|██████████| 1/1 [00:00<00:00,  7.63it/s]"
     ]
    },
    {
     "name": "stdout",
     "output_type": "stream",
     "text": [
      "                   all         21        192      0.889      0.693      0.815      0.476\n"
     ]
    },
    {
     "name": "stderr",
     "output_type": "stream",
     "text": [
      "\n"
     ]
    },
    {
     "name": "stdout",
     "output_type": "stream",
     "text": [
      "\n",
      "      Epoch    GPU_mem   box_loss   cls_loss   dfl_loss  Instances       Size\n"
     ]
    },
    {
     "name": "stderr",
     "output_type": "stream",
     "text": [
      "    157/200       4.7G     0.5019      0.251      1.185        140        640: 100%|██████████| 5/5 [00:00<00:00,  5.15it/s]\n",
      "                 Class     Images  Instances      Box(P          R      mAP50  mAP50-95): 100%|██████████| 1/1 [00:00<00:00,  8.47it/s]"
     ]
    },
    {
     "name": "stdout",
     "output_type": "stream",
     "text": [
      "                   all         21        192      0.885      0.693      0.814      0.477\n"
     ]
    },
    {
     "name": "stderr",
     "output_type": "stream",
     "text": [
      "\n"
     ]
    },
    {
     "name": "stdout",
     "output_type": "stream",
     "text": [
      "\n",
      "      Epoch    GPU_mem   box_loss   cls_loss   dfl_loss  Instances       Size\n"
     ]
    },
    {
     "name": "stderr",
     "output_type": "stream",
     "text": [
      "    158/200       4.7G     0.5038     0.2478      1.191        119        640: 100%|██████████| 5/5 [00:00<00:00,  5.15it/s]\n",
      "                 Class     Images  Instances      Box(P          R      mAP50  mAP50-95): 100%|██████████| 1/1 [00:00<00:00,  7.94it/s]"
     ]
    },
    {
     "name": "stdout",
     "output_type": "stream",
     "text": [
      "                   all         21        192      0.882      0.708      0.822      0.487\n"
     ]
    },
    {
     "name": "stderr",
     "output_type": "stream",
     "text": [
      "\n"
     ]
    },
    {
     "name": "stdout",
     "output_type": "stream",
     "text": [
      "\n",
      "      Epoch    GPU_mem   box_loss   cls_loss   dfl_loss  Instances       Size\n"
     ]
    },
    {
     "name": "stderr",
     "output_type": "stream",
     "text": [
      "    159/200      4.57G     0.5019     0.2462      1.186        163        640: 100%|██████████| 5/5 [00:00<00:00,  5.12it/s]\n",
      "                 Class     Images  Instances      Box(P          R      mAP50  mAP50-95): 100%|██████████| 1/1 [00:00<00:00,  8.13it/s]"
     ]
    },
    {
     "name": "stdout",
     "output_type": "stream",
     "text": [
      "                   all         21        192        0.9      0.693      0.822      0.484\n"
     ]
    },
    {
     "name": "stderr",
     "output_type": "stream",
     "text": [
      "\n"
     ]
    },
    {
     "name": "stdout",
     "output_type": "stream",
     "text": [
      "\n",
      "      Epoch    GPU_mem   box_loss   cls_loss   dfl_loss  Instances       Size\n"
     ]
    },
    {
     "name": "stderr",
     "output_type": "stream",
     "text": [
      "    160/200      4.56G     0.5357      0.259      1.186        179        640: 100%|██████████| 5/5 [00:01<00:00,  4.99it/s]\n",
      "                 Class     Images  Instances      Box(P          R      mAP50  mAP50-95): 100%|██████████| 1/1 [00:00<00:00,  7.63it/s]"
     ]
    },
    {
     "name": "stdout",
     "output_type": "stream",
     "text": [
      "                   all         21        192      0.876      0.693      0.814      0.478\n"
     ]
    },
    {
     "name": "stderr",
     "output_type": "stream",
     "text": [
      "\n"
     ]
    },
    {
     "name": "stdout",
     "output_type": "stream",
     "text": [
      "\n",
      "      Epoch    GPU_mem   box_loss   cls_loss   dfl_loss  Instances       Size\n"
     ]
    },
    {
     "name": "stderr",
     "output_type": "stream",
     "text": [
      "    161/200       4.7G     0.4725     0.2401      1.174        121        640: 100%|██████████| 5/5 [00:00<00:00,  5.24it/s]\n",
      "                 Class     Images  Instances      Box(P          R      mAP50  mAP50-95): 100%|██████████| 1/1 [00:00<00:00,  8.21it/s]"
     ]
    },
    {
     "name": "stdout",
     "output_type": "stream",
     "text": [
      "                   all         21        192      0.906      0.701      0.814      0.489\n"
     ]
    },
    {
     "name": "stderr",
     "output_type": "stream",
     "text": [
      "\n"
     ]
    },
    {
     "name": "stdout",
     "output_type": "stream",
     "text": [
      "\n",
      "      Epoch    GPU_mem   box_loss   cls_loss   dfl_loss  Instances       Size\n"
     ]
    },
    {
     "name": "stderr",
     "output_type": "stream",
     "text": [
      "    162/200      4.71G     0.5401     0.2619      1.197        127        640: 100%|██████████| 5/5 [00:00<00:00,  5.21it/s]\n",
      "                 Class     Images  Instances      Box(P          R      mAP50  mAP50-95): 100%|██████████| 1/1 [00:00<00:00,  8.26it/s]"
     ]
    },
    {
     "name": "stdout",
     "output_type": "stream",
     "text": [
      "                   all         21        192       0.81      0.775      0.816      0.481\n"
     ]
    },
    {
     "name": "stderr",
     "output_type": "stream",
     "text": [
      "\n"
     ]
    },
    {
     "name": "stdout",
     "output_type": "stream",
     "text": [
      "\n",
      "      Epoch    GPU_mem   box_loss   cls_loss   dfl_loss  Instances       Size\n"
     ]
    },
    {
     "name": "stderr",
     "output_type": "stream",
     "text": [
      "    163/200      4.72G     0.5016     0.2439      1.186        108        640: 100%|██████████| 5/5 [00:00<00:00,  5.13it/s]\n",
      "                 Class     Images  Instances      Box(P          R      mAP50  mAP50-95): 100%|██████████| 1/1 [00:00<00:00,  8.40it/s]"
     ]
    },
    {
     "name": "stdout",
     "output_type": "stream",
     "text": [
      "                   all         21        192       0.81      0.766      0.829      0.482\n"
     ]
    },
    {
     "name": "stderr",
     "output_type": "stream",
     "text": [
      "\n"
     ]
    },
    {
     "name": "stdout",
     "output_type": "stream",
     "text": [
      "\n",
      "      Epoch    GPU_mem   box_loss   cls_loss   dfl_loss  Instances       Size\n"
     ]
    },
    {
     "name": "stderr",
     "output_type": "stream",
     "text": [
      "    164/200      4.57G     0.4662     0.2362      1.185        106        640: 100%|██████████| 5/5 [00:00<00:00,  5.07it/s]\n",
      "                 Class     Images  Instances      Box(P          R      mAP50  mAP50-95): 100%|██████████| 1/1 [00:00<00:00,  8.09it/s]"
     ]
    },
    {
     "name": "stdout",
     "output_type": "stream",
     "text": [
      "                   all         21        192      0.906      0.719      0.829      0.488\n"
     ]
    },
    {
     "name": "stderr",
     "output_type": "stream",
     "text": [
      "\n"
     ]
    },
    {
     "name": "stdout",
     "output_type": "stream",
     "text": [
      "\n",
      "      Epoch    GPU_mem   box_loss   cls_loss   dfl_loss  Instances       Size\n"
     ]
    },
    {
     "name": "stderr",
     "output_type": "stream",
     "text": [
      "    165/200      4.69G     0.4578     0.2356      1.184         76        640: 100%|██████████| 5/5 [00:00<00:00,  5.26it/s]\n",
      "                 Class     Images  Instances      Box(P          R      mAP50  mAP50-95): 100%|██████████| 1/1 [00:00<00:00,  8.55it/s]"
     ]
    },
    {
     "name": "stdout",
     "output_type": "stream",
     "text": [
      "                   all         21        192      0.844       0.74      0.816       0.49\n"
     ]
    },
    {
     "name": "stderr",
     "output_type": "stream",
     "text": [
      "\n"
     ]
    },
    {
     "name": "stdout",
     "output_type": "stream",
     "text": [
      "\n",
      "      Epoch    GPU_mem   box_loss   cls_loss   dfl_loss  Instances       Size\n"
     ]
    },
    {
     "name": "stderr",
     "output_type": "stream",
     "text": [
      "    166/200      4.74G     0.5133     0.2431      1.183        197        640: 100%|██████████| 5/5 [00:00<00:00,  5.21it/s]\n",
      "                 Class     Images  Instances      Box(P          R      mAP50  mAP50-95): 100%|██████████| 1/1 [00:00<00:00,  8.33it/s]"
     ]
    },
    {
     "name": "stdout",
     "output_type": "stream",
     "text": [
      "                   all         21        192      0.854      0.729      0.811       0.49\n"
     ]
    },
    {
     "name": "stderr",
     "output_type": "stream",
     "text": [
      "\n"
     ]
    },
    {
     "name": "stdout",
     "output_type": "stream",
     "text": [
      "\n",
      "      Epoch    GPU_mem   box_loss   cls_loss   dfl_loss  Instances       Size\n"
     ]
    },
    {
     "name": "stderr",
     "output_type": "stream",
     "text": [
      "    167/200      4.73G     0.4869     0.2388      1.187        135        640: 100%|██████████| 5/5 [00:00<00:00,  5.12it/s]\n",
      "                 Class     Images  Instances      Box(P          R      mAP50  mAP50-95): 100%|██████████| 1/1 [00:00<00:00,  7.84it/s]"
     ]
    },
    {
     "name": "stdout",
     "output_type": "stream",
     "text": [
      "                   all         21        192      0.829       0.73      0.809      0.489\n"
     ]
    },
    {
     "name": "stderr",
     "output_type": "stream",
     "text": [
      "\n"
     ]
    },
    {
     "name": "stdout",
     "output_type": "stream",
     "text": [
      "\n",
      "      Epoch    GPU_mem   box_loss   cls_loss   dfl_loss  Instances       Size\n"
     ]
    },
    {
     "name": "stderr",
     "output_type": "stream",
     "text": [
      "    168/200      4.62G     0.4867     0.2377      1.182        170        640: 100%|██████████| 5/5 [00:00<00:00,  5.07it/s]\n",
      "                 Class     Images  Instances      Box(P          R      mAP50  mAP50-95): 100%|██████████| 1/1 [00:00<00:00,  8.40it/s]"
     ]
    },
    {
     "name": "stdout",
     "output_type": "stream",
     "text": [
      "                   all         21        192      0.809      0.752      0.811      0.489\n"
     ]
    },
    {
     "name": "stderr",
     "output_type": "stream",
     "text": [
      "\n"
     ]
    },
    {
     "name": "stdout",
     "output_type": "stream",
     "text": [
      "\n",
      "      Epoch    GPU_mem   box_loss   cls_loss   dfl_loss  Instances       Size\n"
     ]
    },
    {
     "name": "stderr",
     "output_type": "stream",
     "text": [
      "    169/200      4.67G     0.4712     0.2354      1.179         96        640: 100%|██████████| 5/5 [00:00<00:00,  5.13it/s]\n",
      "                 Class     Images  Instances      Box(P          R      mAP50  mAP50-95): 100%|██████████| 1/1 [00:00<00:00,  8.06it/s]"
     ]
    },
    {
     "name": "stdout",
     "output_type": "stream",
     "text": [
      "                   all         21        192      0.836      0.715      0.812      0.484\n"
     ]
    },
    {
     "name": "stderr",
     "output_type": "stream",
     "text": [
      "\n"
     ]
    },
    {
     "name": "stdout",
     "output_type": "stream",
     "text": [
      "\n",
      "      Epoch    GPU_mem   box_loss   cls_loss   dfl_loss  Instances       Size\n"
     ]
    },
    {
     "name": "stderr",
     "output_type": "stream",
     "text": [
      "    170/200      4.74G     0.4569     0.2285      1.178        115        640: 100%|██████████| 5/5 [00:00<00:00,  5.17it/s]\n",
      "                 Class     Images  Instances      Box(P          R      mAP50  mAP50-95): 100%|██████████| 1/1 [00:00<00:00,  8.06it/s]"
     ]
    },
    {
     "name": "stdout",
     "output_type": "stream",
     "text": [
      "                   all         21        192      0.837      0.722      0.816       0.48\n"
     ]
    },
    {
     "name": "stderr",
     "output_type": "stream",
     "text": [
      "\n"
     ]
    },
    {
     "name": "stdout",
     "output_type": "stream",
     "text": [
      "\n",
      "      Epoch    GPU_mem   box_loss   cls_loss   dfl_loss  Instances       Size\n"
     ]
    },
    {
     "name": "stderr",
     "output_type": "stream",
     "text": [
      "    171/200      4.61G     0.4758     0.2338      1.181        157        640: 100%|██████████| 5/5 [00:00<00:00,  5.27it/s]\n",
      "                 Class     Images  Instances      Box(P          R      mAP50  mAP50-95): 100%|██████████| 1/1 [00:00<00:00,  8.13it/s]"
     ]
    },
    {
     "name": "stdout",
     "output_type": "stream",
     "text": [
      "                   all         21        192      0.853      0.728       0.82       0.49\n"
     ]
    },
    {
     "name": "stderr",
     "output_type": "stream",
     "text": [
      "\n"
     ]
    },
    {
     "name": "stdout",
     "output_type": "stream",
     "text": [
      "\n",
      "      Epoch    GPU_mem   box_loss   cls_loss   dfl_loss  Instances       Size\n"
     ]
    },
    {
     "name": "stderr",
     "output_type": "stream",
     "text": [
      "    172/200      4.47G     0.4366     0.2289       1.18        106        640: 100%|██████████| 5/5 [00:00<00:00,  5.17it/s]\n",
      "                 Class     Images  Instances      Box(P          R      mAP50  mAP50-95): 100%|██████████| 1/1 [00:00<00:00,  8.70it/s]"
     ]
    },
    {
     "name": "stdout",
     "output_type": "stream",
     "text": [
      "                   all         21        192      0.841      0.743      0.808      0.482\n"
     ]
    },
    {
     "name": "stderr",
     "output_type": "stream",
     "text": [
      "\n"
     ]
    },
    {
     "name": "stdout",
     "output_type": "stream",
     "text": [
      "\n",
      "      Epoch    GPU_mem   box_loss   cls_loss   dfl_loss  Instances       Size\n"
     ]
    },
    {
     "name": "stderr",
     "output_type": "stream",
     "text": [
      "    173/200      4.87G     0.4961     0.2387      1.186        109        640: 100%|██████████| 5/5 [00:00<00:00,  5.12it/s]\n",
      "                 Class     Images  Instances      Box(P          R      mAP50  mAP50-95): 100%|██████████| 1/1 [00:00<00:00,  8.20it/s]"
     ]
    },
    {
     "name": "stdout",
     "output_type": "stream",
     "text": [
      "                   all         21        192      0.826      0.724      0.805      0.483\n"
     ]
    },
    {
     "name": "stderr",
     "output_type": "stream",
     "text": [
      "\n"
     ]
    },
    {
     "name": "stdout",
     "output_type": "stream",
     "text": [
      "\n",
      "      Epoch    GPU_mem   box_loss   cls_loss   dfl_loss  Instances       Size\n"
     ]
    },
    {
     "name": "stderr",
     "output_type": "stream",
     "text": [
      "    174/200      4.69G     0.4675     0.2345      1.169        156        640: 100%|██████████| 5/5 [00:00<00:00,  5.13it/s]\n",
      "                 Class     Images  Instances      Box(P          R      mAP50  mAP50-95): 100%|██████████| 1/1 [00:00<00:00,  7.87it/s]"
     ]
    },
    {
     "name": "stdout",
     "output_type": "stream",
     "text": [
      "                   all         21        192      0.839      0.724      0.811      0.491\n"
     ]
    },
    {
     "name": "stderr",
     "output_type": "stream",
     "text": [
      "\n"
     ]
    },
    {
     "name": "stdout",
     "output_type": "stream",
     "text": [
      "\n",
      "      Epoch    GPU_mem   box_loss   cls_loss   dfl_loss  Instances       Size\n"
     ]
    },
    {
     "name": "stderr",
     "output_type": "stream",
     "text": [
      "    175/200      4.56G     0.4786     0.2377      1.193        143        640: 100%|██████████| 5/5 [00:00<00:00,  5.14it/s]\n",
      "                 Class     Images  Instances      Box(P          R      mAP50  mAP50-95): 100%|██████████| 1/1 [00:00<00:00,  7.69it/s]"
     ]
    },
    {
     "name": "stdout",
     "output_type": "stream",
     "text": [
      "                   all         21        192      0.863      0.745      0.826      0.496\n"
     ]
    },
    {
     "name": "stderr",
     "output_type": "stream",
     "text": [
      "\n"
     ]
    },
    {
     "name": "stdout",
     "output_type": "stream",
     "text": [
      "\n",
      "      Epoch    GPU_mem   box_loss   cls_loss   dfl_loss  Instances       Size\n"
     ]
    },
    {
     "name": "stderr",
     "output_type": "stream",
     "text": [
      "    176/200      4.55G     0.4733     0.2373      1.179         59        640: 100%|██████████| 5/5 [00:00<00:00,  5.13it/s]\n",
      "                 Class     Images  Instances      Box(P          R      mAP50  mAP50-95): 100%|██████████| 1/1 [00:00<00:00,  7.69it/s]"
     ]
    },
    {
     "name": "stdout",
     "output_type": "stream",
     "text": [
      "                   all         21        192      0.892      0.703      0.826      0.497\n"
     ]
    },
    {
     "name": "stderr",
     "output_type": "stream",
     "text": [
      "\n"
     ]
    },
    {
     "name": "stdout",
     "output_type": "stream",
     "text": [
      "\n",
      "      Epoch    GPU_mem   box_loss   cls_loss   dfl_loss  Instances       Size\n"
     ]
    },
    {
     "name": "stderr",
     "output_type": "stream",
     "text": [
      "    177/200      4.78G     0.4608     0.2302      1.195        103        640: 100%|██████████| 5/5 [00:00<00:00,  5.12it/s]\n",
      "                 Class     Images  Instances      Box(P          R      mAP50  mAP50-95): 100%|██████████| 1/1 [00:00<00:00,  8.20it/s]"
     ]
    },
    {
     "name": "stdout",
     "output_type": "stream",
     "text": [
      "                   all         21        192      0.834      0.758      0.825      0.494\n"
     ]
    },
    {
     "name": "stderr",
     "output_type": "stream",
     "text": [
      "\n"
     ]
    },
    {
     "name": "stdout",
     "output_type": "stream",
     "text": [
      "\n",
      "      Epoch    GPU_mem   box_loss   cls_loss   dfl_loss  Instances       Size\n"
     ]
    },
    {
     "name": "stderr",
     "output_type": "stream",
     "text": [
      "    178/200       4.7G      0.453     0.2312      1.189        155        640: 100%|██████████| 5/5 [00:00<00:00,  5.20it/s]\n",
      "                 Class     Images  Instances      Box(P          R      mAP50  mAP50-95): 100%|██████████| 1/1 [00:00<00:00,  8.40it/s]"
     ]
    },
    {
     "name": "stdout",
     "output_type": "stream",
     "text": [
      "                   all         21        192       0.87      0.719       0.82      0.498\n"
     ]
    },
    {
     "name": "stderr",
     "output_type": "stream",
     "text": [
      "\n"
     ]
    },
    {
     "name": "stdout",
     "output_type": "stream",
     "text": [
      "\n",
      "      Epoch    GPU_mem   box_loss   cls_loss   dfl_loss  Instances       Size\n"
     ]
    },
    {
     "name": "stderr",
     "output_type": "stream",
     "text": [
      "    179/200      4.74G     0.4395     0.2246       1.17        141        640: 100%|██████████| 5/5 [00:00<00:00,  5.19it/s]\n",
      "                 Class     Images  Instances      Box(P          R      mAP50  mAP50-95): 100%|██████████| 1/1 [00:00<00:00,  8.40it/s]"
     ]
    },
    {
     "name": "stdout",
     "output_type": "stream",
     "text": [
      "                   all         21        192      0.894        0.7       0.82      0.493\n"
     ]
    },
    {
     "name": "stderr",
     "output_type": "stream",
     "text": [
      "\n"
     ]
    },
    {
     "name": "stdout",
     "output_type": "stream",
     "text": [
      "\n",
      "      Epoch    GPU_mem   box_loss   cls_loss   dfl_loss  Instances       Size\n"
     ]
    },
    {
     "name": "stderr",
     "output_type": "stream",
     "text": [
      "    180/200      4.54G      0.435     0.2254       1.16         90        640: 100%|██████████| 5/5 [00:00<00:00,  5.11it/s]\n",
      "                 Class     Images  Instances      Box(P          R      mAP50  mAP50-95): 100%|██████████| 1/1 [00:00<00:00,  7.75it/s]"
     ]
    },
    {
     "name": "stdout",
     "output_type": "stream",
     "text": [
      "                   all         21        192      0.882      0.708      0.827      0.489\n"
     ]
    },
    {
     "name": "stderr",
     "output_type": "stream",
     "text": [
      "\n"
     ]
    },
    {
     "name": "stdout",
     "output_type": "stream",
     "text": [
      "\n",
      "      Epoch    GPU_mem   box_loss   cls_loss   dfl_loss  Instances       Size\n"
     ]
    },
    {
     "name": "stderr",
     "output_type": "stream",
     "text": [
      "    181/200      4.67G     0.4684     0.2326      1.191        101        640: 100%|██████████| 5/5 [00:00<00:00,  5.18it/s]\n",
      "                 Class     Images  Instances      Box(P          R      mAP50  mAP50-95): 100%|██████████| 1/1 [00:00<00:00,  7.63it/s]"
     ]
    },
    {
     "name": "stdout",
     "output_type": "stream",
     "text": [
      "                   all         21        192      0.853      0.724      0.826      0.495\n"
     ]
    },
    {
     "name": "stderr",
     "output_type": "stream",
     "text": [
      "\n"
     ]
    },
    {
     "name": "stdout",
     "output_type": "stream",
     "text": [
      "\n",
      "      Epoch    GPU_mem   box_loss   cls_loss   dfl_loss  Instances       Size\n"
     ]
    },
    {
     "name": "stderr",
     "output_type": "stream",
     "text": [
      "    182/200      4.57G      0.454     0.2312      1.183        104        640: 100%|██████████| 5/5 [00:00<00:00,  5.17it/s]\n",
      "                 Class     Images  Instances      Box(P          R      mAP50  mAP50-95): 100%|██████████| 1/1 [00:00<00:00,  7.92it/s]"
     ]
    },
    {
     "name": "stdout",
     "output_type": "stream",
     "text": [
      "                   all         21        192      0.867      0.715      0.828       0.49\n"
     ]
    },
    {
     "name": "stderr",
     "output_type": "stream",
     "text": [
      "\n"
     ]
    },
    {
     "name": "stdout",
     "output_type": "stream",
     "text": [
      "\n",
      "      Epoch    GPU_mem   box_loss   cls_loss   dfl_loss  Instances       Size\n"
     ]
    },
    {
     "name": "stderr",
     "output_type": "stream",
     "text": [
      "    183/200      4.59G     0.4267     0.2195       1.17         92        640: 100%|██████████| 5/5 [00:00<00:00,  5.13it/s]\n",
      "                 Class     Images  Instances      Box(P          R      mAP50  mAP50-95): 100%|██████████| 1/1 [00:00<00:00,  7.52it/s]"
     ]
    },
    {
     "name": "stdout",
     "output_type": "stream",
     "text": [
      "                   all         21        192      0.881      0.692      0.822       0.49\n"
     ]
    },
    {
     "name": "stderr",
     "output_type": "stream",
     "text": [
      "\n"
     ]
    },
    {
     "name": "stdout",
     "output_type": "stream",
     "text": [
      "\n",
      "      Epoch    GPU_mem   box_loss   cls_loss   dfl_loss  Instances       Size\n"
     ]
    },
    {
     "name": "stderr",
     "output_type": "stream",
     "text": [
      "    184/200      4.62G     0.4341     0.2204      1.173        126        640: 100%|██████████| 5/5 [00:00<00:00,  5.08it/s]\n",
      "                 Class     Images  Instances      Box(P          R      mAP50  mAP50-95): 100%|██████████| 1/1 [00:00<00:00,  8.13it/s]"
     ]
    },
    {
     "name": "stdout",
     "output_type": "stream",
     "text": [
      "                   all         21        192      0.889      0.714      0.819      0.487\n"
     ]
    },
    {
     "name": "stderr",
     "output_type": "stream",
     "text": [
      "\n"
     ]
    },
    {
     "name": "stdout",
     "output_type": "stream",
     "text": [
      "\n",
      "      Epoch    GPU_mem   box_loss   cls_loss   dfl_loss  Instances       Size\n"
     ]
    },
    {
     "name": "stderr",
     "output_type": "stream",
     "text": [
      "    185/200       4.6G     0.4414     0.2279      1.166         87        640: 100%|██████████| 5/5 [00:01<00:00,  4.98it/s]\n",
      "                 Class     Images  Instances      Box(P          R      mAP50  mAP50-95): 100%|██████████| 1/1 [00:00<00:00,  8.06it/s]"
     ]
    },
    {
     "name": "stdout",
     "output_type": "stream",
     "text": [
      "                   all         21        192      0.887      0.693      0.803      0.479\n"
     ]
    },
    {
     "name": "stderr",
     "output_type": "stream",
     "text": [
      "\n"
     ]
    },
    {
     "name": "stdout",
     "output_type": "stream",
     "text": [
      "\n",
      "      Epoch    GPU_mem   box_loss   cls_loss   dfl_loss  Instances       Size\n"
     ]
    },
    {
     "name": "stderr",
     "output_type": "stream",
     "text": [
      "    186/200       4.7G     0.4536     0.2241       1.18        128        640: 100%|██████████| 5/5 [00:00<00:00,  5.15it/s]\n",
      "                 Class     Images  Instances      Box(P          R      mAP50  mAP50-95): 100%|██████████| 1/1 [00:00<00:00,  7.52it/s]"
     ]
    },
    {
     "name": "stdout",
     "output_type": "stream",
     "text": [
      "                   all         21        192      0.885      0.693      0.805      0.475\n"
     ]
    },
    {
     "name": "stderr",
     "output_type": "stream",
     "text": [
      "\n"
     ]
    },
    {
     "name": "stdout",
     "output_type": "stream",
     "text": [
      "\n",
      "      Epoch    GPU_mem   box_loss   cls_loss   dfl_loss  Instances       Size\n"
     ]
    },
    {
     "name": "stderr",
     "output_type": "stream",
     "text": [
      "    187/200      4.56G     0.4442     0.2226      1.164        184        640: 100%|██████████| 5/5 [00:00<00:00,  5.15it/s]\n",
      "                 Class     Images  Instances      Box(P          R      mAP50  mAP50-95): 100%|██████████| 1/1 [00:00<00:00,  8.13it/s]"
     ]
    },
    {
     "name": "stdout",
     "output_type": "stream",
     "text": [
      "                   all         21        192      0.899      0.693      0.813      0.479\n"
     ]
    },
    {
     "name": "stderr",
     "output_type": "stream",
     "text": [
      "\n"
     ]
    },
    {
     "name": "stdout",
     "output_type": "stream",
     "text": [
      "\n",
      "      Epoch    GPU_mem   box_loss   cls_loss   dfl_loss  Instances       Size\n"
     ]
    },
    {
     "name": "stderr",
     "output_type": "stream",
     "text": [
      "    188/200      4.69G     0.4253     0.2174      1.175         83        640: 100%|██████████| 5/5 [00:01<00:00,  4.90it/s]\n",
      "                 Class     Images  Instances      Box(P          R      mAP50  mAP50-95): 100%|██████████| 1/1 [00:00<00:00,  8.13it/s]"
     ]
    },
    {
     "name": "stdout",
     "output_type": "stream",
     "text": [
      "                   all         21        192      0.895      0.703       0.82      0.483\n"
     ]
    },
    {
     "name": "stderr",
     "output_type": "stream",
     "text": [
      "\n"
     ]
    },
    {
     "name": "stdout",
     "output_type": "stream",
     "text": [
      "\n",
      "      Epoch    GPU_mem   box_loss   cls_loss   dfl_loss  Instances       Size\n"
     ]
    },
    {
     "name": "stderr",
     "output_type": "stream",
     "text": [
      "    189/200       4.6G     0.4227     0.2201      1.157         92        640: 100%|██████████| 5/5 [00:00<00:00,  5.28it/s]\n",
      "                 Class     Images  Instances      Box(P          R      mAP50  mAP50-95): 100%|██████████| 1/1 [00:00<00:00,  8.13it/s]"
     ]
    },
    {
     "name": "stdout",
     "output_type": "stream",
     "text": [
      "                   all         21        192      0.892      0.703      0.817      0.484\n"
     ]
    },
    {
     "name": "stderr",
     "output_type": "stream",
     "text": [
      "\n"
     ]
    },
    {
     "name": "stdout",
     "output_type": "stream",
     "text": [
      "\n",
      "      Epoch    GPU_mem   box_loss   cls_loss   dfl_loss  Instances       Size\n"
     ]
    },
    {
     "name": "stderr",
     "output_type": "stream",
     "text": [
      "    190/200      4.62G     0.4566      0.227      1.161        203        640: 100%|██████████| 5/5 [00:00<00:00,  5.27it/s]\n",
      "                 Class     Images  Instances      Box(P          R      mAP50  mAP50-95): 100%|██████████| 1/1 [00:00<00:00,  8.13it/s]"
     ]
    },
    {
     "name": "stdout",
     "output_type": "stream",
     "text": [
      "                   all         21        192      0.902      0.708      0.823      0.487\n"
     ]
    },
    {
     "name": "stderr",
     "output_type": "stream",
     "text": [
      "\n"
     ]
    },
    {
     "name": "stdout",
     "output_type": "stream",
     "text": [
      "Closing dataloader mosaic\n",
      "\n",
      "      Epoch    GPU_mem   box_loss   cls_loss   dfl_loss  Instances       Size\n"
     ]
    },
    {
     "name": "stderr",
     "output_type": "stream",
     "text": [
      "    191/200      4.74G     0.4496     0.2249      1.163         74        640: 100%|██████████| 5/5 [00:02<00:00,  2.46it/s]\n",
      "                 Class     Images  Instances      Box(P          R      mAP50  mAP50-95): 100%|██████████| 1/1 [00:00<00:00,  7.85it/s]"
     ]
    },
    {
     "name": "stdout",
     "output_type": "stream",
     "text": [
      "                   all         21        192      0.883       0.71      0.827      0.488\n"
     ]
    },
    {
     "name": "stderr",
     "output_type": "stream",
     "text": [
      "\n"
     ]
    },
    {
     "name": "stdout",
     "output_type": "stream",
     "text": [
      "\n",
      "      Epoch    GPU_mem   box_loss   cls_loss   dfl_loss  Instances       Size\n"
     ]
    },
    {
     "name": "stderr",
     "output_type": "stream",
     "text": [
      "    192/200      4.56G     0.4506     0.2208      1.156         76        640: 100%|██████████| 5/5 [00:00<00:00,  5.06it/s]\n",
      "                 Class     Images  Instances      Box(P          R      mAP50  mAP50-95): 100%|██████████| 1/1 [00:00<00:00,  7.95it/s]"
     ]
    },
    {
     "name": "stdout",
     "output_type": "stream",
     "text": [
      "                   all         21        192      0.906      0.705      0.827      0.483\n"
     ]
    },
    {
     "name": "stderr",
     "output_type": "stream",
     "text": [
      "\n"
     ]
    },
    {
     "name": "stdout",
     "output_type": "stream",
     "text": [
      "\n",
      "      Epoch    GPU_mem   box_loss   cls_loss   dfl_loss  Instances       Size\n"
     ]
    },
    {
     "name": "stderr",
     "output_type": "stream",
     "text": [
      "    193/200       4.6G     0.4431     0.2201      1.164         75        640: 100%|██████████| 5/5 [00:00<00:00,  5.07it/s]\n",
      "                 Class     Images  Instances      Box(P          R      mAP50  mAP50-95): 100%|██████████| 1/1 [00:00<00:00,  7.94it/s]"
     ]
    },
    {
     "name": "stdout",
     "output_type": "stream",
     "text": [
      "                   all         21        192      0.897      0.728      0.828      0.488\n"
     ]
    },
    {
     "name": "stderr",
     "output_type": "stream",
     "text": [
      "\n"
     ]
    },
    {
     "name": "stdout",
     "output_type": "stream",
     "text": [
      "\n",
      "      Epoch    GPU_mem   box_loss   cls_loss   dfl_loss  Instances       Size\n"
     ]
    },
    {
     "name": "stderr",
     "output_type": "stream",
     "text": [
      "    194/200      4.62G     0.4598     0.2249      1.151        101        640: 100%|██████████| 5/5 [00:00<00:00,  5.16it/s]\n",
      "                 Class     Images  Instances      Box(P          R      mAP50  mAP50-95): 100%|██████████| 1/1 [00:00<00:00,  7.87it/s]"
     ]
    },
    {
     "name": "stdout",
     "output_type": "stream",
     "text": [
      "                   all         21        192        0.9      0.724      0.825      0.487\n"
     ]
    },
    {
     "name": "stderr",
     "output_type": "stream",
     "text": [
      "\n"
     ]
    },
    {
     "name": "stdout",
     "output_type": "stream",
     "text": [
      "\n",
      "      Epoch    GPU_mem   box_loss   cls_loss   dfl_loss  Instances       Size\n"
     ]
    },
    {
     "name": "stderr",
     "output_type": "stream",
     "text": [
      "    195/200      4.62G      0.407     0.2085      1.156        136        640: 100%|██████████| 5/5 [00:00<00:00,  5.18it/s]\n",
      "                 Class     Images  Instances      Box(P          R      mAP50  mAP50-95): 100%|██████████| 1/1 [00:00<00:00,  8.33it/s]"
     ]
    },
    {
     "name": "stdout",
     "output_type": "stream",
     "text": [
      "                   all         21        192      0.914      0.723      0.835      0.487\n"
     ]
    },
    {
     "name": "stderr",
     "output_type": "stream",
     "text": [
      "\n"
     ]
    },
    {
     "name": "stdout",
     "output_type": "stream",
     "text": [
      "\n",
      "      Epoch    GPU_mem   box_loss   cls_loss   dfl_loss  Instances       Size\n"
     ]
    },
    {
     "name": "stderr",
     "output_type": "stream",
     "text": [
      "    196/200      4.62G     0.3988     0.2074       1.17         69        640: 100%|██████████| 5/5 [00:00<00:00,  5.11it/s]\n",
      "                 Class     Images  Instances      Box(P          R      mAP50  mAP50-95): 100%|██████████| 1/1 [00:00<00:00,  8.13it/s]"
     ]
    },
    {
     "name": "stdout",
     "output_type": "stream",
     "text": [
      "                   all         21        192      0.928      0.719      0.832      0.486\n"
     ]
    },
    {
     "name": "stderr",
     "output_type": "stream",
     "text": [
      "\n"
     ]
    },
    {
     "name": "stdout",
     "output_type": "stream",
     "text": [
      "\n",
      "      Epoch    GPU_mem   box_loss   cls_loss   dfl_loss  Instances       Size\n"
     ]
    },
    {
     "name": "stderr",
     "output_type": "stream",
     "text": [
      "    197/200      4.71G     0.4058     0.2099      1.137         46        640: 100%|██████████| 5/5 [00:00<00:00,  5.17it/s]\n",
      "                 Class     Images  Instances      Box(P          R      mAP50  mAP50-95): 100%|██████████| 1/1 [00:00<00:00,  7.94it/s]"
     ]
    },
    {
     "name": "stdout",
     "output_type": "stream",
     "text": [
      "                   all         21        192      0.925      0.714      0.827      0.488\n"
     ]
    },
    {
     "name": "stderr",
     "output_type": "stream",
     "text": [
      "\n"
     ]
    },
    {
     "name": "stdout",
     "output_type": "stream",
     "text": [
      "\n",
      "      Epoch    GPU_mem   box_loss   cls_loss   dfl_loss  Instances       Size\n"
     ]
    },
    {
     "name": "stderr",
     "output_type": "stream",
     "text": [
      "    198/200       4.7G     0.4164     0.2167      1.141         57        640: 100%|██████████| 5/5 [00:00<00:00,  5.15it/s]\n",
      "                 Class     Images  Instances      Box(P          R      mAP50  mAP50-95): 100%|██████████| 1/1 [00:00<00:00,  8.62it/s]"
     ]
    },
    {
     "name": "stdout",
     "output_type": "stream",
     "text": [
      "                   all         21        192      0.911      0.719      0.833      0.492\n"
     ]
    },
    {
     "name": "stderr",
     "output_type": "stream",
     "text": [
      "\n"
     ]
    },
    {
     "name": "stdout",
     "output_type": "stream",
     "text": [
      "\n",
      "      Epoch    GPU_mem   box_loss   cls_loss   dfl_loss  Instances       Size\n"
     ]
    },
    {
     "name": "stderr",
     "output_type": "stream",
     "text": [
      "    199/200      4.62G     0.3997      0.209      1.145        109        640: 100%|██████████| 5/5 [00:00<00:00,  5.07it/s]\n",
      "                 Class     Images  Instances      Box(P          R      mAP50  mAP50-95): 100%|██████████| 1/1 [00:00<00:00,  7.04it/s]"
     ]
    },
    {
     "name": "stdout",
     "output_type": "stream",
     "text": [
      "                   all         21        192      0.919      0.713      0.834      0.493\n"
     ]
    },
    {
     "name": "stderr",
     "output_type": "stream",
     "text": [
      "\n"
     ]
    },
    {
     "name": "stdout",
     "output_type": "stream",
     "text": [
      "\n",
      "      Epoch    GPU_mem   box_loss   cls_loss   dfl_loss  Instances       Size\n"
     ]
    },
    {
     "name": "stderr",
     "output_type": "stream",
     "text": [
      "    200/200      4.62G      0.408     0.2094      1.168         88        640: 100%|██████████| 5/5 [00:00<00:00,  5.06it/s]\n",
      "                 Class     Images  Instances      Box(P          R      mAP50  mAP50-95): 100%|██████████| 1/1 [00:00<00:00,  8.26it/s]"
     ]
    },
    {
     "name": "stdout",
     "output_type": "stream",
     "text": [
      "                   all         21        192      0.913      0.703      0.831       0.49\n"
     ]
    },
    {
     "name": "stderr",
     "output_type": "stream",
     "text": [
      "\n"
     ]
    },
    {
     "name": "stdout",
     "output_type": "stream",
     "text": [
      "\n",
      "200 epochs completed in 0.150 hours.\n",
      "Optimizer stripped from ..\\..\\runs\\yolov8s_hyp_finetune_best_param\\weights\\last.pt, 22.5MB\n",
      "Optimizer stripped from ..\\..\\runs\\yolov8s_hyp_finetune_best_param\\weights\\best.pt, 22.5MB\n",
      "\n",
      "Validating ..\\..\\runs\\yolov8s_hyp_finetune_best_param\\weights\\best.pt...\n",
      "Ultralytics YOLOv8.2.93  Python-3.10.6 torch-2.3.1+cu118 CUDA:0 (NVIDIA GeForce RTX 3060, 12288MiB)\n",
      "Model summary (fused): 168 layers, 11,125,971 parameters, 0 gradients, 28.4 GFLOPs\n"
     ]
    },
    {
     "name": "stderr",
     "output_type": "stream",
     "text": [
      "                 Class     Images  Instances      Box(P          R      mAP50  mAP50-95): 100%|██████████| 1/1 [00:00<00:00,  6.10it/s]\n"
     ]
    },
    {
     "name": "stdout",
     "output_type": "stream",
     "text": [
      "                   all         21        192      0.877      0.745      0.829      0.505\n",
      "Speed: 0.1ms preprocess, 2.0ms inference, 0.0ms loss, 0.7ms postprocess per image\n",
      "Results saved to \u001b[1m..\\..\\runs\\yolov8s_hyp_finetune_best_param\u001b[0m\n",
      "\u001b[34m\u001b[1mMLflow: \u001b[0mresults logged to runs\\mlflow\n",
      "\u001b[34m\u001b[1mMLflow: \u001b[0mdisable with 'yolo settings mlflow=False'\n"
     ]
    }
   ],
   "source": [
    "import yaml\n",
    "\n",
    "model_name = \"yolov8s\"\n",
    "print(f\"Model : {model_name}\")\n",
    "model = YOLO(model_name)\n",
    "best_params_filepath = os.path.join(project,\"yolov8s_tune\",\"best_hyperparameters.yaml\")\n",
    "with open(best_params_filepath, 'r') as file:\n",
    "    best_hyperparameters = yaml.safe_load(file)\n",
    "\n",
    "results = model.train(data=\"data.yaml\", epochs=200, imgsz=640, optimizer=\"AdamW\",name=f'{model_name}_hyp_finetune_best_param',project=project,**best_hyperparameters)\n",
    "\n"
   ]
  },
  {
   "cell_type": "code",
   "execution_count": 30,
   "metadata": {},
   "outputs": [
    {
     "data": {
      "text/html": [
       "<div>\n",
       "<style scoped>\n",
       "    .dataframe tbody tr th:only-of-type {\n",
       "        vertical-align: middle;\n",
       "    }\n",
       "\n",
       "    .dataframe tbody tr th {\n",
       "        vertical-align: top;\n",
       "    }\n",
       "\n",
       "    .dataframe thead th {\n",
       "        text-align: right;\n",
       "    }\n",
       "</style>\n",
       "<table border=\"1\" class=\"dataframe\">\n",
       "  <thead>\n",
       "    <tr style=\"text-align: right;\">\n",
       "      <th></th>\n",
       "      <th>fitness</th>\n",
       "      <th>lr0</th>\n",
       "      <th>lrf</th>\n",
       "      <th>momentum</th>\n",
       "      <th>weight_decay</th>\n",
       "      <th>warmup_epochs</th>\n",
       "      <th>warmup_momentum</th>\n",
       "      <th>box</th>\n",
       "      <th>cls</th>\n",
       "      <th>dfl</th>\n",
       "      <th>...</th>\n",
       "      <th>translate</th>\n",
       "      <th>scale</th>\n",
       "      <th>shear</th>\n",
       "      <th>perspective</th>\n",
       "      <th>flipud</th>\n",
       "      <th>fliplr</th>\n",
       "      <th>bgr</th>\n",
       "      <th>mosaic</th>\n",
       "      <th>mixup</th>\n",
       "      <th>copy_paste</th>\n",
       "    </tr>\n",
       "  </thead>\n",
       "  <tbody>\n",
       "    <tr>\n",
       "      <th>94</th>\n",
       "      <td>0.52639</td>\n",
       "      <td>0.00309</td>\n",
       "      <td>0.00985</td>\n",
       "      <td>0.78255</td>\n",
       "      <td>0.00034</td>\n",
       "      <td>2.32036</td>\n",
       "      <td>0.73596</td>\n",
       "      <td>3.77458</td>\n",
       "      <td>0.33859</td>\n",
       "      <td>1.21590</td>\n",
       "      <td>...</td>\n",
       "      <td>0.04441</td>\n",
       "      <td>0.47475</td>\n",
       "      <td>0.0</td>\n",
       "      <td>0.0</td>\n",
       "      <td>0.0</td>\n",
       "      <td>0.09327</td>\n",
       "      <td>0.0</td>\n",
       "      <td>0.55585</td>\n",
       "      <td>0.0</td>\n",
       "      <td>0.0</td>\n",
       "    </tr>\n",
       "    <tr>\n",
       "      <th>86</th>\n",
       "      <td>0.52374</td>\n",
       "      <td>0.00455</td>\n",
       "      <td>0.01000</td>\n",
       "      <td>0.74231</td>\n",
       "      <td>0.00034</td>\n",
       "      <td>2.28255</td>\n",
       "      <td>0.84902</td>\n",
       "      <td>4.37289</td>\n",
       "      <td>0.36164</td>\n",
       "      <td>1.48249</td>\n",
       "      <td>...</td>\n",
       "      <td>0.04441</td>\n",
       "      <td>0.47475</td>\n",
       "      <td>0.0</td>\n",
       "      <td>0.0</td>\n",
       "      <td>0.0</td>\n",
       "      <td>0.09600</td>\n",
       "      <td>0.0</td>\n",
       "      <td>0.64538</td>\n",
       "      <td>0.0</td>\n",
       "      <td>0.0</td>\n",
       "    </tr>\n",
       "    <tr>\n",
       "      <th>92</th>\n",
       "      <td>0.51692</td>\n",
       "      <td>0.00352</td>\n",
       "      <td>0.00770</td>\n",
       "      <td>0.78286</td>\n",
       "      <td>0.00036</td>\n",
       "      <td>2.28255</td>\n",
       "      <td>0.78766</td>\n",
       "      <td>3.96794</td>\n",
       "      <td>0.46106</td>\n",
       "      <td>1.77714</td>\n",
       "      <td>...</td>\n",
       "      <td>0.03227</td>\n",
       "      <td>0.29526</td>\n",
       "      <td>0.0</td>\n",
       "      <td>0.0</td>\n",
       "      <td>0.0</td>\n",
       "      <td>0.08947</td>\n",
       "      <td>0.0</td>\n",
       "      <td>0.52405</td>\n",
       "      <td>0.0</td>\n",
       "      <td>0.0</td>\n",
       "    </tr>\n",
       "    <tr>\n",
       "      <th>83</th>\n",
       "      <td>0.50810</td>\n",
       "      <td>0.00455</td>\n",
       "      <td>0.00927</td>\n",
       "      <td>0.74682</td>\n",
       "      <td>0.00038</td>\n",
       "      <td>2.28255</td>\n",
       "      <td>0.81080</td>\n",
       "      <td>4.81845</td>\n",
       "      <td>0.40627</td>\n",
       "      <td>1.42391</td>\n",
       "      <td>...</td>\n",
       "      <td>0.04257</td>\n",
       "      <td>0.49035</td>\n",
       "      <td>0.0</td>\n",
       "      <td>0.0</td>\n",
       "      <td>0.0</td>\n",
       "      <td>0.09788</td>\n",
       "      <td>0.0</td>\n",
       "      <td>0.65655</td>\n",
       "      <td>0.0</td>\n",
       "      <td>0.0</td>\n",
       "    </tr>\n",
       "    <tr>\n",
       "      <th>98</th>\n",
       "      <td>0.50520</td>\n",
       "      <td>0.00322</td>\n",
       "      <td>0.00686</td>\n",
       "      <td>0.78246</td>\n",
       "      <td>0.00035</td>\n",
       "      <td>2.44112</td>\n",
       "      <td>0.80060</td>\n",
       "      <td>3.96794</td>\n",
       "      <td>0.46877</td>\n",
       "      <td>1.61274</td>\n",
       "      <td>...</td>\n",
       "      <td>0.03227</td>\n",
       "      <td>0.31124</td>\n",
       "      <td>0.0</td>\n",
       "      <td>0.0</td>\n",
       "      <td>0.0</td>\n",
       "      <td>0.08445</td>\n",
       "      <td>0.0</td>\n",
       "      <td>0.54528</td>\n",
       "      <td>0.0</td>\n",
       "      <td>0.0</td>\n",
       "    </tr>\n",
       "    <tr>\n",
       "      <th>...</th>\n",
       "      <td>...</td>\n",
       "      <td>...</td>\n",
       "      <td>...</td>\n",
       "      <td>...</td>\n",
       "      <td>...</td>\n",
       "      <td>...</td>\n",
       "      <td>...</td>\n",
       "      <td>...</td>\n",
       "      <td>...</td>\n",
       "      <td>...</td>\n",
       "      <td>...</td>\n",
       "      <td>...</td>\n",
       "      <td>...</td>\n",
       "      <td>...</td>\n",
       "      <td>...</td>\n",
       "      <td>...</td>\n",
       "      <td>...</td>\n",
       "      <td>...</td>\n",
       "      <td>...</td>\n",
       "      <td>...</td>\n",
       "      <td>...</td>\n",
       "    </tr>\n",
       "    <tr>\n",
       "      <th>18</th>\n",
       "      <td>0.23322</td>\n",
       "      <td>0.00991</td>\n",
       "      <td>0.01000</td>\n",
       "      <td>0.93700</td>\n",
       "      <td>0.00053</td>\n",
       "      <td>3.19103</td>\n",
       "      <td>0.91058</td>\n",
       "      <td>6.99125</td>\n",
       "      <td>0.50000</td>\n",
       "      <td>1.21696</td>\n",
       "      <td>...</td>\n",
       "      <td>0.08922</td>\n",
       "      <td>0.54024</td>\n",
       "      <td>0.0</td>\n",
       "      <td>0.0</td>\n",
       "      <td>0.0</td>\n",
       "      <td>0.52438</td>\n",
       "      <td>0.0</td>\n",
       "      <td>0.99158</td>\n",
       "      <td>0.0</td>\n",
       "      <td>0.0</td>\n",
       "    </tr>\n",
       "    <tr>\n",
       "      <th>1</th>\n",
       "      <td>0.17820</td>\n",
       "      <td>0.01060</td>\n",
       "      <td>0.01000</td>\n",
       "      <td>0.93700</td>\n",
       "      <td>0.00046</td>\n",
       "      <td>3.00000</td>\n",
       "      <td>0.80000</td>\n",
       "      <td>7.50000</td>\n",
       "      <td>0.51217</td>\n",
       "      <td>1.55107</td>\n",
       "      <td>...</td>\n",
       "      <td>0.09549</td>\n",
       "      <td>0.57368</td>\n",
       "      <td>0.0</td>\n",
       "      <td>0.0</td>\n",
       "      <td>0.0</td>\n",
       "      <td>0.52095</td>\n",
       "      <td>0.0</td>\n",
       "      <td>1.00000</td>\n",
       "      <td>0.0</td>\n",
       "      <td>0.0</td>\n",
       "    </tr>\n",
       "    <tr>\n",
       "      <th>13</th>\n",
       "      <td>0.16887</td>\n",
       "      <td>0.00964</td>\n",
       "      <td>0.01227</td>\n",
       "      <td>0.92395</td>\n",
       "      <td>0.00034</td>\n",
       "      <td>3.23091</td>\n",
       "      <td>0.92526</td>\n",
       "      <td>5.90349</td>\n",
       "      <td>0.49507</td>\n",
       "      <td>1.92171</td>\n",
       "      <td>...</td>\n",
       "      <td>0.04283</td>\n",
       "      <td>0.82730</td>\n",
       "      <td>0.0</td>\n",
       "      <td>0.0</td>\n",
       "      <td>0.0</td>\n",
       "      <td>0.61949</td>\n",
       "      <td>0.0</td>\n",
       "      <td>0.99656</td>\n",
       "      <td>0.0</td>\n",
       "      <td>0.0</td>\n",
       "    </tr>\n",
       "    <tr>\n",
       "      <th>10</th>\n",
       "      <td>0.05101</td>\n",
       "      <td>0.01330</td>\n",
       "      <td>0.00888</td>\n",
       "      <td>0.96315</td>\n",
       "      <td>0.00046</td>\n",
       "      <td>3.54609</td>\n",
       "      <td>0.80000</td>\n",
       "      <td>8.94983</td>\n",
       "      <td>0.50000</td>\n",
       "      <td>1.68469</td>\n",
       "      <td>...</td>\n",
       "      <td>0.12514</td>\n",
       "      <td>0.77756</td>\n",
       "      <td>0.0</td>\n",
       "      <td>0.0</td>\n",
       "      <td>0.0</td>\n",
       "      <td>0.32297</td>\n",
       "      <td>0.0</td>\n",
       "      <td>1.00000</td>\n",
       "      <td>0.0</td>\n",
       "      <td>0.0</td>\n",
       "    </tr>\n",
       "    <tr>\n",
       "      <th>3</th>\n",
       "      <td>0.00414</td>\n",
       "      <td>0.01196</td>\n",
       "      <td>0.00946</td>\n",
       "      <td>0.98000</td>\n",
       "      <td>0.00050</td>\n",
       "      <td>2.87929</td>\n",
       "      <td>0.79850</td>\n",
       "      <td>8.92419</td>\n",
       "      <td>0.48579</td>\n",
       "      <td>1.60480</td>\n",
       "      <td>...</td>\n",
       "      <td>0.08728</td>\n",
       "      <td>0.32179</td>\n",
       "      <td>0.0</td>\n",
       "      <td>0.0</td>\n",
       "      <td>0.0</td>\n",
       "      <td>0.48394</td>\n",
       "      <td>0.0</td>\n",
       "      <td>1.00000</td>\n",
       "      <td>0.0</td>\n",
       "      <td>0.0</td>\n",
       "    </tr>\n",
       "  </tbody>\n",
       "</table>\n",
       "<p>100 rows × 24 columns</p>\n",
       "</div>"
      ],
      "text/plain": [
       "    fitness      lr0      lrf  momentum  weight_decay  warmup_epochs  \\\n",
       "94  0.52639  0.00309  0.00985   0.78255       0.00034        2.32036   \n",
       "86  0.52374  0.00455  0.01000   0.74231       0.00034        2.28255   \n",
       "92  0.51692  0.00352  0.00770   0.78286       0.00036        2.28255   \n",
       "83  0.50810  0.00455  0.00927   0.74682       0.00038        2.28255   \n",
       "98  0.50520  0.00322  0.00686   0.78246       0.00035        2.44112   \n",
       "..      ...      ...      ...       ...           ...            ...   \n",
       "18  0.23322  0.00991  0.01000   0.93700       0.00053        3.19103   \n",
       "1   0.17820  0.01060  0.01000   0.93700       0.00046        3.00000   \n",
       "13  0.16887  0.00964  0.01227   0.92395       0.00034        3.23091   \n",
       "10  0.05101  0.01330  0.00888   0.96315       0.00046        3.54609   \n",
       "3   0.00414  0.01196  0.00946   0.98000       0.00050        2.87929   \n",
       "\n",
       "    warmup_momentum      box      cls      dfl  ...  translate    scale  \\\n",
       "94          0.73596  3.77458  0.33859  1.21590  ...    0.04441  0.47475   \n",
       "86          0.84902  4.37289  0.36164  1.48249  ...    0.04441  0.47475   \n",
       "92          0.78766  3.96794  0.46106  1.77714  ...    0.03227  0.29526   \n",
       "83          0.81080  4.81845  0.40627  1.42391  ...    0.04257  0.49035   \n",
       "98          0.80060  3.96794  0.46877  1.61274  ...    0.03227  0.31124   \n",
       "..              ...      ...      ...      ...  ...        ...      ...   \n",
       "18          0.91058  6.99125  0.50000  1.21696  ...    0.08922  0.54024   \n",
       "1           0.80000  7.50000  0.51217  1.55107  ...    0.09549  0.57368   \n",
       "13          0.92526  5.90349  0.49507  1.92171  ...    0.04283  0.82730   \n",
       "10          0.80000  8.94983  0.50000  1.68469  ...    0.12514  0.77756   \n",
       "3           0.79850  8.92419  0.48579  1.60480  ...    0.08728  0.32179   \n",
       "\n",
       "    shear  perspective  flipud   fliplr  bgr   mosaic  mixup  copy_paste  \n",
       "94    0.0          0.0     0.0  0.09327  0.0  0.55585    0.0         0.0  \n",
       "86    0.0          0.0     0.0  0.09600  0.0  0.64538    0.0         0.0  \n",
       "92    0.0          0.0     0.0  0.08947  0.0  0.52405    0.0         0.0  \n",
       "83    0.0          0.0     0.0  0.09788  0.0  0.65655    0.0         0.0  \n",
       "98    0.0          0.0     0.0  0.08445  0.0  0.54528    0.0         0.0  \n",
       "..    ...          ...     ...      ...  ...      ...    ...         ...  \n",
       "18    0.0          0.0     0.0  0.52438  0.0  0.99158    0.0         0.0  \n",
       "1     0.0          0.0     0.0  0.52095  0.0  1.00000    0.0         0.0  \n",
       "13    0.0          0.0     0.0  0.61949  0.0  0.99656    0.0         0.0  \n",
       "10    0.0          0.0     0.0  0.32297  0.0  1.00000    0.0         0.0  \n",
       "3     0.0          0.0     0.0  0.48394  0.0  1.00000    0.0         0.0  \n",
       "\n",
       "[100 rows x 24 columns]"
      ]
     },
     "execution_count": 30,
     "metadata": {},
     "output_type": "execute_result"
    }
   ],
   "source": [
    "\n",
    "df = pd.read_csv(os.path.join(project,\"yolov8m_tune\",\"tune_results.csv\"))\n",
    "df.sort_values(by=\"fitness\",ascending=False)\n",
    "\n",
    "\n"
   ]
  },
  {
   "cell_type": "code",
   "execution_count": 31,
   "metadata": {},
   "outputs": [
    {
     "name": "stdout",
     "output_type": "stream",
     "text": [
      "Model : yolov8m\n",
      "Ultralytics YOLOv8.2.93  Python-3.10.6 torch-2.3.1+cu118 CUDA:0 (NVIDIA GeForce RTX 3060, 12288MiB)\n",
      "\u001b[34m\u001b[1mengine\\trainer: \u001b[0mtask=detect, mode=train, model=yolov8m.pt, data=data.yaml, epochs=200, time=None, patience=100, batch=16, imgsz=640, save=True, save_period=-1, cache=False, device=None, workers=8, project=..\\..\\runs, name=yolov8m_hyp_finetune_best_param, exist_ok=False, pretrained=True, optimizer=AdamW, verbose=True, seed=0, deterministic=True, single_cls=False, rect=False, cos_lr=False, close_mosaic=10, resume=False, amp=True, fraction=1.0, profile=False, freeze=None, multi_scale=False, overlap_mask=True, mask_ratio=4, dropout=0.0, val=True, split=val, save_json=False, save_hybrid=False, conf=None, iou=0.7, max_det=300, half=False, dnn=False, plots=True, source=None, vid_stride=1, stream_buffer=False, visualize=False, augment=False, agnostic_nms=False, classes=None, retina_masks=False, embed=None, show=False, save_frames=False, save_txt=False, save_conf=False, save_crop=False, show_labels=True, show_conf=True, show_boxes=True, line_width=None, format=torchscript, keras=False, optimize=False, int8=False, dynamic=False, simplify=False, opset=None, workspace=4, nms=False, lr0=0.00309, lrf=0.00985, momentum=0.78255, weight_decay=0.00034, warmup_epochs=2.32036, warmup_momentum=0.73596, warmup_bias_lr=0.1, box=3.77458, cls=0.33859, dfl=1.2159, pose=12.0, kobj=1.0, label_smoothing=0.0, nbs=64, hsv_h=0.00586, hsv_s=0.55303, hsv_v=0.33013, degrees=0.0, translate=0.04441, scale=0.47475, shear=0.0, perspective=0.0, flipud=0.0, fliplr=0.09327, bgr=0.0, mosaic=0.55585, mixup=0.0, copy_paste=0.0, auto_augment=randaugment, erasing=0.4, crop_fraction=1.0, cfg=None, tracker=botsort.yaml, save_dir=..\\..\\runs\\yolov8m_hyp_finetune_best_param\n",
      "Overriding model.yaml nc=80 with nc=1\n",
      "\n",
      "                   from  n    params  module                                       arguments                     \n",
      "  0                  -1  1      1392  ultralytics.nn.modules.conv.Conv             [3, 48, 3, 2]                 \n",
      "  1                  -1  1     41664  ultralytics.nn.modules.conv.Conv             [48, 96, 3, 2]                \n",
      "  2                  -1  2    111360  ultralytics.nn.modules.block.C2f             [96, 96, 2, True]             \n",
      "  3                  -1  1    166272  ultralytics.nn.modules.conv.Conv             [96, 192, 3, 2]               \n",
      "  4                  -1  4    813312  ultralytics.nn.modules.block.C2f             [192, 192, 4, True]           \n",
      "  5                  -1  1    664320  ultralytics.nn.modules.conv.Conv             [192, 384, 3, 2]              \n",
      "  6                  -1  4   3248640  ultralytics.nn.modules.block.C2f             [384, 384, 4, True]           \n",
      "  7                  -1  1   1991808  ultralytics.nn.modules.conv.Conv             [384, 576, 3, 2]              \n",
      "  8                  -1  2   3985920  ultralytics.nn.modules.block.C2f             [576, 576, 2, True]           \n",
      "  9                  -1  1    831168  ultralytics.nn.modules.block.SPPF            [576, 576, 5]                 \n",
      " 10                  -1  1         0  torch.nn.modules.upsampling.Upsample         [None, 2, 'nearest']          \n",
      " 11             [-1, 6]  1         0  ultralytics.nn.modules.conv.Concat           [1]                           \n",
      " 12                  -1  2   1993728  ultralytics.nn.modules.block.C2f             [960, 384, 2]                 \n",
      " 13                  -1  1         0  torch.nn.modules.upsampling.Upsample         [None, 2, 'nearest']          \n",
      " 14             [-1, 4]  1         0  ultralytics.nn.modules.conv.Concat           [1]                           \n",
      " 15                  -1  2    517632  ultralytics.nn.modules.block.C2f             [576, 192, 2]                 \n",
      " 16                  -1  1    332160  ultralytics.nn.modules.conv.Conv             [192, 192, 3, 2]              \n",
      " 17            [-1, 12]  1         0  ultralytics.nn.modules.conv.Concat           [1]                           \n",
      " 18                  -1  2   1846272  ultralytics.nn.modules.block.C2f             [576, 384, 2]                 \n",
      " 19                  -1  1   1327872  ultralytics.nn.modules.conv.Conv             [384, 384, 3, 2]              \n",
      " 20             [-1, 9]  1         0  ultralytics.nn.modules.conv.Concat           [1]                           \n",
      " 21                  -1  2   4207104  ultralytics.nn.modules.block.C2f             [960, 576, 2]                 \n",
      " 22        [15, 18, 21]  1   3776275  ultralytics.nn.modules.head.Detect           [1, [192, 384, 576]]          \n",
      "Model summary: 295 layers, 25,856,899 parameters, 25,856,883 gradients, 79.1 GFLOPs\n",
      "\n",
      "Transferred 469/475 items from pretrained weights\n",
      "Freezing layer 'model.22.dfl.conv.weight'\n",
      "\u001b[34m\u001b[1mAMP: \u001b[0mrunning Automatic Mixed Precision (AMP) checks with YOLOv8n...\n",
      "\u001b[34m\u001b[1mAMP: \u001b[0mchecks passed \n"
     ]
    },
    {
     "name": "stderr",
     "output_type": "stream",
     "text": [
      "\u001b[34m\u001b[1mtrain: \u001b[0mScanning C:\\Users\\i_kaz\\datasets\\StreetOwl\\train\\labels.cache... 72 images, 0 backgrounds, 0 corrupt: 100%|██████████| 72/72 [00:00<?, ?it/s]\n",
      "\u001b[34m\u001b[1mval: \u001b[0mScanning C:\\Users\\i_kaz\\datasets\\StreetOwl\\valid\\labels.cache... 21 images, 0 backgrounds, 0 corrupt: 100%|██████████| 21/21 [00:00<?, ?it/s]\n"
     ]
    },
    {
     "name": "stdout",
     "output_type": "stream",
     "text": [
      "Plotting labels to ..\\..\\runs\\yolov8m_hyp_finetune_best_param\\labels.jpg... \n",
      "\u001b[34m\u001b[1moptimizer:\u001b[0m AdamW(lr=0.00309, momentum=0.78255) with parameter groups 77 weight(decay=0.0), 84 weight(decay=0.00034), 83 bias(decay=0.0)\n"
     ]
    },
    {
     "name": "stderr",
     "output_type": "stream",
     "text": [
      "2024/09/15 09:35:45 INFO mlflow.tracking.fluent: Autologging successfully enabled for statsmodels.\n"
     ]
    },
    {
     "name": "stdout",
     "output_type": "stream",
     "text": [
      "\u001b[34m\u001b[1mMLflow: \u001b[0mlogging run_id(edcabeb9a393401c9fb309cdc847d3ad) to runs\\mlflow\n",
      "\u001b[34m\u001b[1mMLflow: \u001b[0mview at http://127.0.0.1:5000 with 'mlflow server --backend-store-uri runs\\mlflow'\n",
      "\u001b[34m\u001b[1mMLflow: \u001b[0mdisable with 'yolo settings mlflow=False'\n",
      "Image sizes 640 train, 640 val\n",
      "Using 8 dataloader workers\n",
      "Logging results to \u001b[1m..\\..\\runs\\yolov8m_hyp_finetune_best_param\u001b[0m\n",
      "Starting training for 200 epochs...\n",
      "\n",
      "      Epoch    GPU_mem   box_loss   cls_loss   dfl_loss  Instances       Size\n"
     ]
    },
    {
     "name": "stderr",
     "output_type": "stream",
     "text": [
      "      1/200      7.18G     0.7686       1.05     0.8792        176        640: 100%|██████████| 5/5 [00:03<00:00,  1.37it/s]\n",
      "                 Class     Images  Instances      Box(P          R      mAP50  mAP50-95): 100%|██████████| 1/1 [00:01<00:00,  1.03s/it]"
     ]
    },
    {
     "name": "stdout",
     "output_type": "stream",
     "text": [
      "                   all         21        192      0.371      0.391       0.34      0.156\n"
     ]
    },
    {
     "name": "stderr",
     "output_type": "stream",
     "text": [
      "\n"
     ]
    },
    {
     "name": "stdout",
     "output_type": "stream",
     "text": [
      "\n",
      "      Epoch    GPU_mem   box_loss   cls_loss   dfl_loss  Instances       Size\n"
     ]
    },
    {
     "name": "stderr",
     "output_type": "stream",
     "text": [
      "      2/200      7.23G     0.7396      1.839     0.8122         65        640: 100%|██████████| 5/5 [00:02<00:00,  2.39it/s]\n",
      "                 Class     Images  Instances      Box(P          R      mAP50  mAP50-95): 100%|██████████| 1/1 [00:00<00:00,  5.46it/s]"
     ]
    },
    {
     "name": "stdout",
     "output_type": "stream",
     "text": [
      "                   all         21        192      0.554      0.318      0.318      0.155\n"
     ]
    },
    {
     "name": "stderr",
     "output_type": "stream",
     "text": [
      "\n"
     ]
    },
    {
     "name": "stdout",
     "output_type": "stream",
     "text": [
      "\n",
      "      Epoch    GPU_mem   box_loss   cls_loss   dfl_loss  Instances       Size\n"
     ]
    },
    {
     "name": "stderr",
     "output_type": "stream",
     "text": [
      "      3/200       7.5G     0.8399        1.2     0.9513         77        640: 100%|██████████| 5/5 [00:02<00:00,  2.25it/s]\n",
      "                 Class     Images  Instances      Box(P          R      mAP50  mAP50-95): 100%|██████████| 1/1 [00:00<00:00,  5.35it/s]"
     ]
    },
    {
     "name": "stdout",
     "output_type": "stream",
     "text": [
      "                   all         21        192      0.609      0.469      0.485      0.249\n"
     ]
    },
    {
     "name": "stderr",
     "output_type": "stream",
     "text": [
      "\n"
     ]
    },
    {
     "name": "stdout",
     "output_type": "stream",
     "text": [
      "\n",
      "      Epoch    GPU_mem   box_loss   cls_loss   dfl_loss  Instances       Size\n"
     ]
    },
    {
     "name": "stderr",
     "output_type": "stream",
     "text": [
      "      4/200      7.36G     0.7228     0.7806     0.8888        156        640: 100%|██████████| 5/5 [00:02<00:00,  2.20it/s]\n",
      "                 Class     Images  Instances      Box(P          R      mAP50  mAP50-95): 100%|██████████| 1/1 [00:00<00:00,  5.03it/s]"
     ]
    },
    {
     "name": "stdout",
     "output_type": "stream",
     "text": [
      "                   all         21        192      0.699      0.448      0.529       0.26\n"
     ]
    },
    {
     "name": "stderr",
     "output_type": "stream",
     "text": [
      "\n"
     ]
    },
    {
     "name": "stdout",
     "output_type": "stream",
     "text": [
      "\n",
      "      Epoch    GPU_mem   box_loss   cls_loss   dfl_loss  Instances       Size\n"
     ]
    },
    {
     "name": "stderr",
     "output_type": "stream",
     "text": [
      "      5/200      7.56G     0.7402     0.6866     0.8666        129        640: 100%|██████████| 5/5 [00:02<00:00,  2.43it/s]\n",
      "                 Class     Images  Instances      Box(P          R      mAP50  mAP50-95): 100%|██████████| 1/1 [00:00<00:00,  5.75it/s]"
     ]
    },
    {
     "name": "stdout",
     "output_type": "stream",
     "text": [
      "                   all         21        192      0.408       0.37      0.318      0.155\n"
     ]
    },
    {
     "name": "stderr",
     "output_type": "stream",
     "text": [
      "\n"
     ]
    },
    {
     "name": "stdout",
     "output_type": "stream",
     "text": [
      "\n",
      "      Epoch    GPU_mem   box_loss   cls_loss   dfl_loss  Instances       Size\n"
     ]
    },
    {
     "name": "stderr",
     "output_type": "stream",
     "text": [
      "      6/200      7.45G     0.7412     0.6899     0.9014        144        640: 100%|██████████| 5/5 [00:02<00:00,  2.31it/s]\n",
      "                 Class     Images  Instances      Box(P          R      mAP50  mAP50-95): 100%|██████████| 1/1 [00:00<00:00,  5.52it/s]"
     ]
    },
    {
     "name": "stdout",
     "output_type": "stream",
     "text": [
      "                   all         21        192      0.601      0.667      0.639      0.327\n"
     ]
    },
    {
     "name": "stderr",
     "output_type": "stream",
     "text": [
      "\n"
     ]
    },
    {
     "name": "stdout",
     "output_type": "stream",
     "text": [
      "\n",
      "      Epoch    GPU_mem   box_loss   cls_loss   dfl_loss  Instances       Size\n"
     ]
    },
    {
     "name": "stderr",
     "output_type": "stream",
     "text": [
      "      7/200      7.44G       0.71     0.7725     0.8864        123        640: 100%|██████████| 5/5 [00:02<00:00,  2.43it/s]\n",
      "                 Class     Images  Instances      Box(P          R      mAP50  mAP50-95): 100%|██████████| 1/1 [00:00<00:00,  5.41it/s]"
     ]
    },
    {
     "name": "stdout",
     "output_type": "stream",
     "text": [
      "                   all         21        192       0.51      0.396       0.39      0.217\n"
     ]
    },
    {
     "name": "stderr",
     "output_type": "stream",
     "text": [
      "\n"
     ]
    },
    {
     "name": "stdout",
     "output_type": "stream",
     "text": [
      "\n",
      "      Epoch    GPU_mem   box_loss   cls_loss   dfl_loss  Instances       Size\n"
     ]
    },
    {
     "name": "stderr",
     "output_type": "stream",
     "text": [
      "      8/200      7.21G     0.7521     0.8458     0.8904        134        640: 100%|██████████| 5/5 [00:02<00:00,  2.28it/s]\n",
      "                 Class     Images  Instances      Box(P          R      mAP50  mAP50-95): 100%|██████████| 1/1 [00:00<00:00,  5.29it/s]"
     ]
    },
    {
     "name": "stdout",
     "output_type": "stream",
     "text": [
      "                   all         21        192      0.101      0.516     0.0977      0.051\n"
     ]
    },
    {
     "name": "stderr",
     "output_type": "stream",
     "text": [
      "\n"
     ]
    },
    {
     "name": "stdout",
     "output_type": "stream",
     "text": [
      "\n",
      "      Epoch    GPU_mem   box_loss   cls_loss   dfl_loss  Instances       Size\n"
     ]
    },
    {
     "name": "stderr",
     "output_type": "stream",
     "text": [
      "      9/200      7.47G     0.7896     0.9558     0.9133         98        640: 100%|██████████| 5/5 [00:02<00:00,  2.47it/s]\n",
      "                 Class     Images  Instances      Box(P          R      mAP50  mAP50-95): 100%|██████████| 1/1 [00:00<00:00,  5.56it/s]"
     ]
    },
    {
     "name": "stdout",
     "output_type": "stream",
     "text": [
      "                   all         21        192      0.209      0.401      0.158     0.0595\n"
     ]
    },
    {
     "name": "stderr",
     "output_type": "stream",
     "text": [
      "\n"
     ]
    },
    {
     "name": "stdout",
     "output_type": "stream",
     "text": [
      "\n",
      "      Epoch    GPU_mem   box_loss   cls_loss   dfl_loss  Instances       Size\n"
     ]
    },
    {
     "name": "stderr",
     "output_type": "stream",
     "text": [
      "     10/200      7.46G     0.7676     0.8379     0.8658        117        640: 100%|██████████| 5/5 [00:02<00:00,  2.48it/s]\n",
      "                 Class     Images  Instances      Box(P          R      mAP50  mAP50-95): 100%|██████████| 1/1 [00:00<00:00,  5.78it/s]\n"
     ]
    },
    {
     "name": "stdout",
     "output_type": "stream",
     "text": [
      "                   all         21        192      0.209      0.401      0.158     0.0595\n",
      "\n",
      "      Epoch    GPU_mem   box_loss   cls_loss   dfl_loss  Instances       Size\n"
     ]
    },
    {
     "name": "stderr",
     "output_type": "stream",
     "text": [
      "     11/200      7.45G      0.888     0.7288     0.9956         67        640: 100%|██████████| 5/5 [00:02<00:00,  2.31it/s]\n",
      "                 Class     Images  Instances      Box(P          R      mAP50  mAP50-95): 100%|██████████| 1/1 [00:00<00:00,  5.78it/s]\n"
     ]
    },
    {
     "name": "stdout",
     "output_type": "stream",
     "text": [
      "                   all         21        192      0.209      0.401      0.158     0.0595\n",
      "\n",
      "      Epoch    GPU_mem   box_loss   cls_loss   dfl_loss  Instances       Size\n"
     ]
    },
    {
     "name": "stderr",
     "output_type": "stream",
     "text": [
      "     12/200      7.46G     0.8543     0.8357     0.9864         63        640: 100%|██████████| 5/5 [00:02<00:00,  2.40it/s]\n",
      "                 Class     Images  Instances      Box(P          R      mAP50  mAP50-95): 100%|██████████| 1/1 [00:00<00:00,  5.44it/s]\n"
     ]
    },
    {
     "name": "stdout",
     "output_type": "stream",
     "text": [
      "                   all         21        192   0.000164    0.00521   8.67e-05   1.73e-05\n",
      "\n",
      "      Epoch    GPU_mem   box_loss   cls_loss   dfl_loss  Instances       Size\n"
     ]
    },
    {
     "name": "stderr",
     "output_type": "stream",
     "text": [
      "     13/200      7.46G      0.792     0.7344     0.9149        105        640: 100%|██████████| 5/5 [00:02<00:00,  2.29it/s]\n",
      "                 Class     Images  Instances      Box(P          R      mAP50  mAP50-95): 100%|██████████| 1/1 [00:00<00:00,  5.81it/s]"
     ]
    },
    {
     "name": "stdout",
     "output_type": "stream",
     "text": [
      "                   all         21        192   0.000164    0.00521   8.67e-05   1.73e-05\n"
     ]
    },
    {
     "name": "stderr",
     "output_type": "stream",
     "text": [
      "\n"
     ]
    },
    {
     "name": "stdout",
     "output_type": "stream",
     "text": [
      "\n",
      "      Epoch    GPU_mem   box_loss   cls_loss   dfl_loss  Instances       Size\n"
     ]
    },
    {
     "name": "stderr",
     "output_type": "stream",
     "text": [
      "     14/200      7.53G     0.8014     0.7309     0.8986        108        640: 100%|██████████| 5/5 [00:02<00:00,  2.31it/s]\n",
      "                 Class     Images  Instances      Box(P          R      mAP50  mAP50-95): 100%|██████████| 1/1 [00:00<00:00,  6.17it/s]"
     ]
    },
    {
     "name": "stdout",
     "output_type": "stream",
     "text": [
      "                   all         21        192   0.000164    0.00521   8.67e-05   1.73e-05\n"
     ]
    },
    {
     "name": "stderr",
     "output_type": "stream",
     "text": [
      "\n"
     ]
    },
    {
     "name": "stdout",
     "output_type": "stream",
     "text": [
      "\n",
      "      Epoch    GPU_mem   box_loss   cls_loss   dfl_loss  Instances       Size\n"
     ]
    },
    {
     "name": "stderr",
     "output_type": "stream",
     "text": [
      "     15/200      7.57G     0.7579     0.7101     0.9101        123        640: 100%|██████████| 5/5 [00:01<00:00,  2.50it/s]\n",
      "                 Class     Images  Instances      Box(P          R      mAP50  mAP50-95): 100%|██████████| 1/1 [00:00<00:00,  5.71it/s]"
     ]
    },
    {
     "name": "stdout",
     "output_type": "stream",
     "text": [
      "                   all         21        192   0.000611     0.0104   0.000325   7.98e-05\n"
     ]
    },
    {
     "name": "stderr",
     "output_type": "stream",
     "text": [
      "\n"
     ]
    },
    {
     "name": "stdout",
     "output_type": "stream",
     "text": [
      "\n",
      "      Epoch    GPU_mem   box_loss   cls_loss   dfl_loss  Instances       Size\n"
     ]
    },
    {
     "name": "stderr",
     "output_type": "stream",
     "text": [
      "     16/200      7.44G     0.6985     0.7731     0.8477         82        640: 100%|██████████| 5/5 [00:02<00:00,  2.42it/s]\n",
      "                 Class     Images  Instances      Box(P          R      mAP50  mAP50-95): 100%|██████████| 1/1 [00:00<00:00,  5.46it/s]"
     ]
    },
    {
     "name": "stdout",
     "output_type": "stream",
     "text": [
      "                   all         21        192   0.000635     0.0208   0.000351   6.93e-05\n"
     ]
    },
    {
     "name": "stderr",
     "output_type": "stream",
     "text": [
      "\n"
     ]
    },
    {
     "name": "stdout",
     "output_type": "stream",
     "text": [
      "\n",
      "      Epoch    GPU_mem   box_loss   cls_loss   dfl_loss  Instances       Size\n"
     ]
    },
    {
     "name": "stderr",
     "output_type": "stream",
     "text": [
      "     17/200       7.6G     0.7334     0.7312      0.896        162        640: 100%|██████████| 5/5 [00:02<00:00,  2.44it/s]\n",
      "                 Class     Images  Instances      Box(P          R      mAP50  mAP50-95): 100%|██████████| 1/1 [00:00<00:00,  5.92it/s]"
     ]
    },
    {
     "name": "stdout",
     "output_type": "stream",
     "text": [
      "                   all         21        192   0.000635     0.0208   0.000351   6.93e-05\n"
     ]
    },
    {
     "name": "stderr",
     "output_type": "stream",
     "text": [
      "\n"
     ]
    },
    {
     "name": "stdout",
     "output_type": "stream",
     "text": [
      "\n",
      "      Epoch    GPU_mem   box_loss   cls_loss   dfl_loss  Instances       Size\n"
     ]
    },
    {
     "name": "stderr",
     "output_type": "stream",
     "text": [
      "     18/200      7.67G     0.7386     0.6765     0.8799        159        640: 100%|██████████| 5/5 [00:02<00:00,  2.41it/s]\n",
      "                 Class     Images  Instances      Box(P          R      mAP50  mAP50-95): 100%|██████████| 1/1 [00:00<00:00,  5.92it/s]"
     ]
    },
    {
     "name": "stdout",
     "output_type": "stream",
     "text": [
      "                   all         21        192    0.00469    0.00521    0.00238    0.00143\n"
     ]
    },
    {
     "name": "stderr",
     "output_type": "stream",
     "text": [
      "\n"
     ]
    },
    {
     "name": "stdout",
     "output_type": "stream",
     "text": [
      "\n",
      "      Epoch    GPU_mem   box_loss   cls_loss   dfl_loss  Instances       Size\n"
     ]
    },
    {
     "name": "stderr",
     "output_type": "stream",
     "text": [
      "     19/200      7.61G     0.8928       0.71     0.9527        138        640: 100%|██████████| 5/5 [00:02<00:00,  2.44it/s]\n",
      "                 Class     Images  Instances      Box(P          R      mAP50  mAP50-95): 100%|██████████| 1/1 [00:00<00:00,  5.65it/s]"
     ]
    },
    {
     "name": "stdout",
     "output_type": "stream",
     "text": [
      "                   all         21        192      0.276      0.123     0.0983     0.0434\n"
     ]
    },
    {
     "name": "stderr",
     "output_type": "stream",
     "text": [
      "\n"
     ]
    },
    {
     "name": "stdout",
     "output_type": "stream",
     "text": [
      "\n",
      "      Epoch    GPU_mem   box_loss   cls_loss   dfl_loss  Instances       Size\n"
     ]
    },
    {
     "name": "stderr",
     "output_type": "stream",
     "text": [
      "     20/200      7.41G     0.8497     0.8181     0.9628        169        640: 100%|██████████| 5/5 [00:02<00:00,  2.27it/s]\n",
      "                 Class     Images  Instances      Box(P          R      mAP50  mAP50-95): 100%|██████████| 1/1 [00:00<00:00,  5.32it/s]"
     ]
    },
    {
     "name": "stdout",
     "output_type": "stream",
     "text": [
      "                   all         21        192      0.276      0.123     0.0983     0.0434\n"
     ]
    },
    {
     "name": "stderr",
     "output_type": "stream",
     "text": [
      "\n"
     ]
    },
    {
     "name": "stdout",
     "output_type": "stream",
     "text": [
      "\n",
      "      Epoch    GPU_mem   box_loss   cls_loss   dfl_loss  Instances       Size\n"
     ]
    },
    {
     "name": "stderr",
     "output_type": "stream",
     "text": [
      "     21/200      7.37G     0.8345      1.031     0.9266        122        640: 100%|██████████| 5/5 [00:01<00:00,  2.53it/s]\n",
      "                 Class     Images  Instances      Box(P          R      mAP50  mAP50-95): 100%|██████████| 1/1 [00:00<00:00,  6.02it/s]"
     ]
    },
    {
     "name": "stdout",
     "output_type": "stream",
     "text": [
      "                   all         21        192      0.276      0.123     0.0983     0.0434\n"
     ]
    },
    {
     "name": "stderr",
     "output_type": "stream",
     "text": [
      "\n"
     ]
    },
    {
     "name": "stdout",
     "output_type": "stream",
     "text": [
      "\n",
      "      Epoch    GPU_mem   box_loss   cls_loss   dfl_loss  Instances       Size\n"
     ]
    },
    {
     "name": "stderr",
     "output_type": "stream",
     "text": [
      "     22/200      7.51G     0.7789     0.7421     0.9272        154        640: 100%|██████████| 5/5 [00:02<00:00,  2.40it/s]\n",
      "                 Class     Images  Instances      Box(P          R      mAP50  mAP50-95): 100%|██████████| 1/1 [00:00<00:00,  5.92it/s]\n"
     ]
    },
    {
     "name": "stdout",
     "output_type": "stream",
     "text": [
      "                   all         21        192    0.00235     0.0104     0.0015   0.000538\n",
      "\n",
      "      Epoch    GPU_mem   box_loss   cls_loss   dfl_loss  Instances       Size\n"
     ]
    },
    {
     "name": "stderr",
     "output_type": "stream",
     "text": [
      "     23/200       7.4G     0.8296     0.7631     0.9554        174        640: 100%|██████████| 5/5 [00:02<00:00,  2.42it/s]\n",
      "                 Class     Images  Instances      Box(P          R      mAP50  mAP50-95): 100%|██████████| 1/1 [00:00<00:00,  6.76it/s]"
     ]
    },
    {
     "name": "stdout",
     "output_type": "stream",
     "text": [
      "                   all         21        192    0.00235     0.0104     0.0015   0.000538\n"
     ]
    },
    {
     "name": "stderr",
     "output_type": "stream",
     "text": [
      "\n"
     ]
    },
    {
     "name": "stdout",
     "output_type": "stream",
     "text": [
      "\n",
      "      Epoch    GPU_mem   box_loss   cls_loss   dfl_loss  Instances       Size\n"
     ]
    },
    {
     "name": "stderr",
     "output_type": "stream",
     "text": [
      "     24/200      7.55G     0.8039     0.7079     0.9027        119        640: 100%|██████████| 5/5 [00:02<00:00,  2.37it/s]\n",
      "                 Class     Images  Instances      Box(P          R      mAP50  mAP50-95): 100%|██████████| 1/1 [00:00<00:00,  5.29it/s]"
     ]
    },
    {
     "name": "stdout",
     "output_type": "stream",
     "text": [
      "                   all         21        192   0.000159    0.00521   8.25e-05   4.13e-05\n"
     ]
    },
    {
     "name": "stderr",
     "output_type": "stream",
     "text": [
      "\n"
     ]
    },
    {
     "name": "stdout",
     "output_type": "stream",
     "text": [
      "\n",
      "      Epoch    GPU_mem   box_loss   cls_loss   dfl_loss  Instances       Size\n"
     ]
    },
    {
     "name": "stderr",
     "output_type": "stream",
     "text": [
      "     25/200      7.38G     0.7553     0.6543     0.8818        150        640: 100%|██████████| 5/5 [00:02<00:00,  2.34it/s]\n",
      "                 Class     Images  Instances      Box(P          R      mAP50  mAP50-95): 100%|██████████| 1/1 [00:00<00:00,  5.56it/s]"
     ]
    },
    {
     "name": "stdout",
     "output_type": "stream",
     "text": [
      "                   all         21        192    0.00305      0.099    0.00169   0.000642\n"
     ]
    },
    {
     "name": "stderr",
     "output_type": "stream",
     "text": [
      "\n"
     ]
    },
    {
     "name": "stdout",
     "output_type": "stream",
     "text": [
      "\n",
      "      Epoch    GPU_mem   box_loss   cls_loss   dfl_loss  Instances       Size\n"
     ]
    },
    {
     "name": "stderr",
     "output_type": "stream",
     "text": [
      "     26/200      7.52G      0.781     0.6654     0.9097        109        640: 100%|██████████| 5/5 [00:02<00:00,  2.41it/s]\n",
      "                 Class     Images  Instances      Box(P          R      mAP50  mAP50-95): 100%|██████████| 1/1 [00:00<00:00,  5.43it/s]"
     ]
    },
    {
     "name": "stdout",
     "output_type": "stream",
     "text": [
      "                   all         21        192    0.00305      0.099    0.00169   0.000642\n"
     ]
    },
    {
     "name": "stderr",
     "output_type": "stream",
     "text": [
      "\n"
     ]
    },
    {
     "name": "stdout",
     "output_type": "stream",
     "text": [
      "\n",
      "      Epoch    GPU_mem   box_loss   cls_loss   dfl_loss  Instances       Size\n"
     ]
    },
    {
     "name": "stderr",
     "output_type": "stream",
     "text": [
      "     27/200      7.54G     0.7813     0.6565     0.9017         75        640: 100%|██████████| 5/5 [00:02<00:00,  2.36it/s]\n",
      "                 Class     Images  Instances      Box(P          R      mAP50  mAP50-95): 100%|██████████| 1/1 [00:00<00:00,  5.43it/s]"
     ]
    },
    {
     "name": "stdout",
     "output_type": "stream",
     "text": [
      "                   all         21        192    0.00305      0.099    0.00169   0.000642\n"
     ]
    },
    {
     "name": "stderr",
     "output_type": "stream",
     "text": [
      "\n"
     ]
    },
    {
     "name": "stdout",
     "output_type": "stream",
     "text": [
      "\n",
      "      Epoch    GPU_mem   box_loss   cls_loss   dfl_loss  Instances       Size\n"
     ]
    },
    {
     "name": "stderr",
     "output_type": "stream",
     "text": [
      "     28/200      7.51G     0.7423     0.6679     0.8295         41        640: 100%|██████████| 5/5 [00:02<00:00,  2.39it/s]\n",
      "                 Class     Images  Instances      Box(P          R      mAP50  mAP50-95): 100%|██████████| 1/1 [00:00<00:00,  4.72it/s]"
     ]
    },
    {
     "name": "stdout",
     "output_type": "stream",
     "text": [
      "                   all         21        192    0.00168     0.0521   0.000842   0.000317\n"
     ]
    },
    {
     "name": "stderr",
     "output_type": "stream",
     "text": [
      "\n"
     ]
    },
    {
     "name": "stdout",
     "output_type": "stream",
     "text": [
      "\n",
      "      Epoch    GPU_mem   box_loss   cls_loss   dfl_loss  Instances       Size\n"
     ]
    },
    {
     "name": "stderr",
     "output_type": "stream",
     "text": [
      "     29/200      7.54G     0.7174     0.5985     0.8785        205        640: 100%|██████████| 5/5 [00:01<00:00,  2.52it/s]\n",
      "                 Class     Images  Instances      Box(P          R      mAP50  mAP50-95): 100%|██████████| 1/1 [00:00<00:00,  5.75it/s]"
     ]
    },
    {
     "name": "stdout",
     "output_type": "stream",
     "text": [
      "                   all         21        192     0.0694     0.0104     0.0047     0.0019\n"
     ]
    },
    {
     "name": "stderr",
     "output_type": "stream",
     "text": [
      "\n"
     ]
    },
    {
     "name": "stdout",
     "output_type": "stream",
     "text": [
      "\n",
      "      Epoch    GPU_mem   box_loss   cls_loss   dfl_loss  Instances       Size\n"
     ]
    },
    {
     "name": "stderr",
     "output_type": "stream",
     "text": [
      "     30/200      7.54G     0.6818     0.6247     0.8622         95        640: 100%|██████████| 5/5 [00:02<00:00,  2.35it/s]\n",
      "                 Class     Images  Instances      Box(P          R      mAP50  mAP50-95): 100%|██████████| 1/1 [00:00<00:00,  5.88it/s]"
     ]
    },
    {
     "name": "stdout",
     "output_type": "stream",
     "text": [
      "                   all         21        192      0.511       0.25      0.306      0.162\n"
     ]
    },
    {
     "name": "stderr",
     "output_type": "stream",
     "text": [
      "\n"
     ]
    },
    {
     "name": "stdout",
     "output_type": "stream",
     "text": [
      "\n",
      "      Epoch    GPU_mem   box_loss   cls_loss   dfl_loss  Instances       Size\n"
     ]
    },
    {
     "name": "stderr",
     "output_type": "stream",
     "text": [
      "     31/200      7.54G     0.6427     0.5642     0.8192         85        640: 100%|██████████| 5/5 [00:02<00:00,  2.39it/s]\n",
      "                 Class     Images  Instances      Box(P          R      mAP50  mAP50-95): 100%|██████████| 1/1 [00:00<00:00,  5.81it/s]"
     ]
    },
    {
     "name": "stdout",
     "output_type": "stream",
     "text": [
      "                   all         21        192      0.571      0.349      0.382      0.185\n"
     ]
    },
    {
     "name": "stderr",
     "output_type": "stream",
     "text": [
      "\n"
     ]
    },
    {
     "name": "stdout",
     "output_type": "stream",
     "text": [
      "\n",
      "      Epoch    GPU_mem   box_loss   cls_loss   dfl_loss  Instances       Size\n"
     ]
    },
    {
     "name": "stderr",
     "output_type": "stream",
     "text": [
      "     32/200      7.57G     0.7178     0.6367     0.8535         53        640: 100%|██████████| 5/5 [00:02<00:00,  2.35it/s]\n",
      "                 Class     Images  Instances      Box(P          R      mAP50  mAP50-95): 100%|██████████| 1/1 [00:00<00:00,  5.88it/s]"
     ]
    },
    {
     "name": "stdout",
     "output_type": "stream",
     "text": [
      "                   all         21        192     0.0561     0.0729      0.012     0.0069\n"
     ]
    },
    {
     "name": "stderr",
     "output_type": "stream",
     "text": [
      "\n"
     ]
    },
    {
     "name": "stdout",
     "output_type": "stream",
     "text": [
      "\n",
      "      Epoch    GPU_mem   box_loss   cls_loss   dfl_loss  Instances       Size\n"
     ]
    },
    {
     "name": "stderr",
     "output_type": "stream",
     "text": [
      "     33/200      7.53G     0.6721     0.5816     0.8429        118        640: 100%|██████████| 5/5 [00:01<00:00,  2.53it/s]\n",
      "                 Class     Images  Instances      Box(P          R      mAP50  mAP50-95): 100%|██████████| 1/1 [00:00<00:00,  5.65it/s]\n"
     ]
    },
    {
     "name": "stdout",
     "output_type": "stream",
     "text": [
      "                   all         21        192     0.0272      0.182     0.0111    0.00634\n",
      "\n",
      "      Epoch    GPU_mem   box_loss   cls_loss   dfl_loss  Instances       Size\n"
     ]
    },
    {
     "name": "stderr",
     "output_type": "stream",
     "text": [
      "     34/200      7.63G      0.697     0.5598     0.8394        126        640: 100%|██████████| 5/5 [00:02<00:00,  2.39it/s]\n",
      "                 Class     Images  Instances      Box(P          R      mAP50  mAP50-95): 100%|██████████| 1/1 [00:00<00:00,  5.85it/s]\n"
     ]
    },
    {
     "name": "stdout",
     "output_type": "stream",
     "text": [
      "                   all         21        192     0.0401      0.167     0.0174    0.00915\n",
      "\n",
      "      Epoch    GPU_mem   box_loss   cls_loss   dfl_loss  Instances       Size\n"
     ]
    },
    {
     "name": "stderr",
     "output_type": "stream",
     "text": [
      "     35/200      7.53G     0.6992     0.5695     0.8516         85        640: 100%|██████████| 5/5 [00:02<00:00,  2.32it/s]\n",
      "                 Class     Images  Instances      Box(P          R      mAP50  mAP50-95): 100%|██████████| 1/1 [00:00<00:00,  5.83it/s]"
     ]
    },
    {
     "name": "stdout",
     "output_type": "stream",
     "text": [
      "                   all         21        192      0.456      0.266      0.262      0.136\n"
     ]
    },
    {
     "name": "stderr",
     "output_type": "stream",
     "text": [
      "\n"
     ]
    },
    {
     "name": "stdout",
     "output_type": "stream",
     "text": [
      "\n",
      "      Epoch    GPU_mem   box_loss   cls_loss   dfl_loss  Instances       Size\n"
     ]
    },
    {
     "name": "stderr",
     "output_type": "stream",
     "text": [
      "     36/200      7.51G     0.7073     0.5458      0.814        149        640: 100%|██████████| 5/5 [00:02<00:00,  2.50it/s]\n",
      "                 Class     Images  Instances      Box(P          R      mAP50  mAP50-95): 100%|██████████| 1/1 [00:00<00:00,  5.85it/s]"
     ]
    },
    {
     "name": "stdout",
     "output_type": "stream",
     "text": [
      "                   all         21        192      0.847       0.26      0.296      0.155\n"
     ]
    },
    {
     "name": "stderr",
     "output_type": "stream",
     "text": [
      "\n"
     ]
    },
    {
     "name": "stdout",
     "output_type": "stream",
     "text": [
      "\n",
      "      Epoch    GPU_mem   box_loss   cls_loss   dfl_loss  Instances       Size\n"
     ]
    },
    {
     "name": "stderr",
     "output_type": "stream",
     "text": [
      "     37/200      7.47G     0.6241     0.5177     0.8218        134        640: 100%|██████████| 5/5 [00:02<00:00,  2.39it/s]\n",
      "                 Class     Images  Instances      Box(P          R      mAP50  mAP50-95): 100%|██████████| 1/1 [00:00<00:00,  5.78it/s]\n"
     ]
    },
    {
     "name": "stdout",
     "output_type": "stream",
     "text": [
      "                   all         21        192      0.788      0.469      0.556      0.304\n",
      "\n",
      "      Epoch    GPU_mem   box_loss   cls_loss   dfl_loss  Instances       Size\n"
     ]
    },
    {
     "name": "stderr",
     "output_type": "stream",
     "text": [
      "     38/200      7.57G     0.6367     0.5551     0.8028         66        640: 100%|██████████| 5/5 [00:02<00:00,  2.35it/s]\n",
      "                 Class     Images  Instances      Box(P          R      mAP50  mAP50-95): 100%|██████████| 1/1 [00:00<00:00,  6.02it/s]"
     ]
    },
    {
     "name": "stdout",
     "output_type": "stream",
     "text": [
      "                   all         21        192      0.274      0.026     0.0217     0.0104\n"
     ]
    },
    {
     "name": "stderr",
     "output_type": "stream",
     "text": [
      "\n"
     ]
    },
    {
     "name": "stdout",
     "output_type": "stream",
     "text": [
      "\n",
      "      Epoch    GPU_mem   box_loss   cls_loss   dfl_loss  Instances       Size\n"
     ]
    },
    {
     "name": "stderr",
     "output_type": "stream",
     "text": [
      "     39/200      7.53G     0.6198     0.4925     0.8076        124        640: 100%|██████████| 5/5 [00:02<00:00,  2.42it/s]\n",
      "                 Class     Images  Instances      Box(P          R      mAP50  mAP50-95): 100%|██████████| 1/1 [00:00<00:00,  5.88it/s]"
     ]
    },
    {
     "name": "stdout",
     "output_type": "stream",
     "text": [
      "                   all         21        192    0.00848     0.0417     0.0024    0.00065\n"
     ]
    },
    {
     "name": "stderr",
     "output_type": "stream",
     "text": [
      "\n"
     ]
    },
    {
     "name": "stdout",
     "output_type": "stream",
     "text": [
      "\n",
      "      Epoch    GPU_mem   box_loss   cls_loss   dfl_loss  Instances       Size\n"
     ]
    },
    {
     "name": "stderr",
     "output_type": "stream",
     "text": [
      "     40/200      7.61G      0.655     0.5076     0.8121         82        640: 100%|██████████| 5/5 [00:02<00:00,  2.40it/s]\n",
      "                 Class     Images  Instances      Box(P          R      mAP50  mAP50-95): 100%|██████████| 1/1 [00:00<00:00,  5.75it/s]"
     ]
    },
    {
     "name": "stdout",
     "output_type": "stream",
     "text": [
      "                   all         21        192   0.000794      0.026   0.000408   0.000285\n"
     ]
    },
    {
     "name": "stderr",
     "output_type": "stream",
     "text": [
      "\n"
     ]
    },
    {
     "name": "stdout",
     "output_type": "stream",
     "text": [
      "\n",
      "      Epoch    GPU_mem   box_loss   cls_loss   dfl_loss  Instances       Size\n"
     ]
    },
    {
     "name": "stderr",
     "output_type": "stream",
     "text": [
      "     41/200       7.5G     0.6376     0.4871     0.7811        121        640: 100%|██████████| 5/5 [00:01<00:00,  2.55it/s]\n",
      "                 Class     Images  Instances      Box(P          R      mAP50  mAP50-95): 100%|██████████| 1/1 [00:00<00:00,  5.78it/s]"
     ]
    },
    {
     "name": "stdout",
     "output_type": "stream",
     "text": [
      "                   all         21        192    0.00113     0.0312   0.000604    0.00024\n"
     ]
    },
    {
     "name": "stderr",
     "output_type": "stream",
     "text": [
      "\n"
     ]
    },
    {
     "name": "stdout",
     "output_type": "stream",
     "text": [
      "\n",
      "      Epoch    GPU_mem   box_loss   cls_loss   dfl_loss  Instances       Size\n"
     ]
    },
    {
     "name": "stderr",
     "output_type": "stream",
     "text": [
      "     42/200      7.51G     0.6134     0.5078     0.7855         74        640: 100%|██████████| 5/5 [00:02<00:00,  2.41it/s]\n",
      "                 Class     Images  Instances      Box(P          R      mAP50  mAP50-95): 100%|██████████| 1/1 [00:00<00:00,  5.41it/s]"
     ]
    },
    {
     "name": "stdout",
     "output_type": "stream",
     "text": [
      "                   all         21        192    0.00588       0.13    0.00355    0.00192\n"
     ]
    },
    {
     "name": "stderr",
     "output_type": "stream",
     "text": [
      "\n"
     ]
    },
    {
     "name": "stdout",
     "output_type": "stream",
     "text": [
      "\n",
      "      Epoch    GPU_mem   box_loss   cls_loss   dfl_loss  Instances       Size\n"
     ]
    },
    {
     "name": "stderr",
     "output_type": "stream",
     "text": [
      "     43/200      7.43G     0.6009     0.5086     0.7928         57        640: 100%|██████████| 5/5 [00:02<00:00,  2.37it/s]\n",
      "                 Class     Images  Instances      Box(P          R      mAP50  mAP50-95): 100%|██████████| 1/1 [00:00<00:00,  5.76it/s]"
     ]
    },
    {
     "name": "stdout",
     "output_type": "stream",
     "text": [
      "                   all         21        192     0.0149      0.198    0.00838    0.00316\n"
     ]
    },
    {
     "name": "stderr",
     "output_type": "stream",
     "text": [
      "\n"
     ]
    },
    {
     "name": "stdout",
     "output_type": "stream",
     "text": [
      "\n",
      "      Epoch    GPU_mem   box_loss   cls_loss   dfl_loss  Instances       Size\n"
     ]
    },
    {
     "name": "stderr",
     "output_type": "stream",
     "text": [
      "     44/200      7.52G     0.5893     0.4868     0.7776        141        640: 100%|██████████| 5/5 [00:02<00:00,  2.41it/s]\n",
      "                 Class     Images  Instances      Box(P          R      mAP50  mAP50-95): 100%|██████████| 1/1 [00:00<00:00,  5.75it/s]"
     ]
    },
    {
     "name": "stdout",
     "output_type": "stream",
     "text": [
      "                   all         21        192     0.0408      0.354      0.048     0.0249\n"
     ]
    },
    {
     "name": "stderr",
     "output_type": "stream",
     "text": [
      "\n"
     ]
    },
    {
     "name": "stdout",
     "output_type": "stream",
     "text": [
      "\n",
      "      Epoch    GPU_mem   box_loss   cls_loss   dfl_loss  Instances       Size\n"
     ]
    },
    {
     "name": "stderr",
     "output_type": "stream",
     "text": [
      "     45/200      7.46G     0.5981     0.4863     0.7974        194        640: 100%|██████████| 5/5 [00:02<00:00,  2.39it/s]\n",
      "                 Class     Images  Instances      Box(P          R      mAP50  mAP50-95): 100%|██████████| 1/1 [00:00<00:00,  5.68it/s]"
     ]
    },
    {
     "name": "stdout",
     "output_type": "stream",
     "text": [
      "                   all         21        192      0.644       0.26      0.281      0.149\n"
     ]
    },
    {
     "name": "stderr",
     "output_type": "stream",
     "text": [
      "\n"
     ]
    },
    {
     "name": "stdout",
     "output_type": "stream",
     "text": [
      "\n",
      "      Epoch    GPU_mem   box_loss   cls_loss   dfl_loss  Instances       Size\n"
     ]
    },
    {
     "name": "stderr",
     "output_type": "stream",
     "text": [
      "     46/200      7.57G     0.5812     0.4862     0.8057         57        640: 100%|██████████| 5/5 [00:02<00:00,  2.38it/s]\n",
      "                 Class     Images  Instances      Box(P          R      mAP50  mAP50-95): 100%|██████████| 1/1 [00:00<00:00,  5.65it/s]"
     ]
    },
    {
     "name": "stdout",
     "output_type": "stream",
     "text": [
      "                   all         21        192      0.755      0.448      0.504      0.276\n"
     ]
    },
    {
     "name": "stderr",
     "output_type": "stream",
     "text": [
      "\n"
     ]
    },
    {
     "name": "stdout",
     "output_type": "stream",
     "text": [
      "\n",
      "      Epoch    GPU_mem   box_loss   cls_loss   dfl_loss  Instances       Size\n"
     ]
    },
    {
     "name": "stderr",
     "output_type": "stream",
     "text": [
      "     47/200      7.49G     0.6059     0.4684     0.7888        134        640: 100%|██████████| 5/5 [00:01<00:00,  2.57it/s]\n",
      "                 Class     Images  Instances      Box(P          R      mAP50  mAP50-95): 100%|██████████| 1/1 [00:00<00:00,  5.78it/s]\n"
     ]
    },
    {
     "name": "stdout",
     "output_type": "stream",
     "text": [
      "                   all         21        192      0.821      0.502      0.572      0.312\n",
      "\n",
      "      Epoch    GPU_mem   box_loss   cls_loss   dfl_loss  Instances       Size\n"
     ]
    },
    {
     "name": "stderr",
     "output_type": "stream",
     "text": [
      "     48/200      7.61G     0.6481     0.4932     0.7951         89        640: 100%|██████████| 5/5 [00:02<00:00,  2.42it/s]\n",
      "                 Class     Images  Instances      Box(P          R      mAP50  mAP50-95): 100%|██████████| 1/1 [00:00<00:00,  5.81it/s]"
     ]
    },
    {
     "name": "stdout",
     "output_type": "stream",
     "text": [
      "                   all         21        192      0.799      0.538      0.649      0.359\n"
     ]
    },
    {
     "name": "stderr",
     "output_type": "stream",
     "text": [
      "\n"
     ]
    },
    {
     "name": "stdout",
     "output_type": "stream",
     "text": [
      "\n",
      "      Epoch    GPU_mem   box_loss   cls_loss   dfl_loss  Instances       Size\n"
     ]
    },
    {
     "name": "stderr",
     "output_type": "stream",
     "text": [
      "     49/200      7.52G     0.5505     0.4465     0.7816         67        640: 100%|██████████| 5/5 [00:02<00:00,  2.36it/s]\n",
      "                 Class     Images  Instances      Box(P          R      mAP50  mAP50-95): 100%|██████████| 1/1 [00:00<00:00,  5.62it/s]"
     ]
    },
    {
     "name": "stdout",
     "output_type": "stream",
     "text": [
      "                   all         21        192      0.684      0.562      0.648      0.336\n"
     ]
    },
    {
     "name": "stderr",
     "output_type": "stream",
     "text": [
      "\n"
     ]
    },
    {
     "name": "stdout",
     "output_type": "stream",
     "text": [
      "\n",
      "      Epoch    GPU_mem   box_loss   cls_loss   dfl_loss  Instances       Size\n"
     ]
    },
    {
     "name": "stderr",
     "output_type": "stream",
     "text": [
      "     50/200      7.46G     0.5865     0.4621     0.7827         90        640: 100%|██████████| 5/5 [00:02<00:00,  2.40it/s]\n",
      "                 Class     Images  Instances      Box(P          R      mAP50  mAP50-95): 100%|██████████| 1/1 [00:00<00:00,  5.62it/s]"
     ]
    },
    {
     "name": "stdout",
     "output_type": "stream",
     "text": [
      "                   all         21        192      0.746      0.531       0.65      0.314\n"
     ]
    },
    {
     "name": "stderr",
     "output_type": "stream",
     "text": [
      "\n"
     ]
    },
    {
     "name": "stdout",
     "output_type": "stream",
     "text": [
      "\n",
      "      Epoch    GPU_mem   box_loss   cls_loss   dfl_loss  Instances       Size\n"
     ]
    },
    {
     "name": "stderr",
     "output_type": "stream",
     "text": [
      "     51/200      7.53G     0.5699     0.4538     0.7785        119        640: 100%|██████████| 5/5 [00:02<00:00,  2.41it/s]\n",
      "                 Class     Images  Instances      Box(P          R      mAP50  mAP50-95): 100%|██████████| 1/1 [00:00<00:00,  5.65it/s]"
     ]
    },
    {
     "name": "stdout",
     "output_type": "stream",
     "text": [
      "                   all         21        192      0.776      0.594      0.711      0.391\n"
     ]
    },
    {
     "name": "stderr",
     "output_type": "stream",
     "text": [
      "\n"
     ]
    },
    {
     "name": "stdout",
     "output_type": "stream",
     "text": [
      "\n",
      "      Epoch    GPU_mem   box_loss   cls_loss   dfl_loss  Instances       Size\n"
     ]
    },
    {
     "name": "stderr",
     "output_type": "stream",
     "text": [
      "     52/200      7.45G     0.5968     0.4666     0.7774         89        640: 100%|██████████| 5/5 [00:02<00:00,  2.33it/s]\n",
      "                 Class     Images  Instances      Box(P          R      mAP50  mAP50-95): 100%|██████████| 1/1 [00:00<00:00,  5.78it/s]"
     ]
    },
    {
     "name": "stdout",
     "output_type": "stream",
     "text": [
      "                   all         21        192      0.758      0.638      0.702      0.368\n"
     ]
    },
    {
     "name": "stderr",
     "output_type": "stream",
     "text": [
      "\n"
     ]
    },
    {
     "name": "stdout",
     "output_type": "stream",
     "text": [
      "\n",
      "      Epoch    GPU_mem   box_loss   cls_loss   dfl_loss  Instances       Size\n"
     ]
    },
    {
     "name": "stderr",
     "output_type": "stream",
     "text": [
      "     53/200      7.57G     0.5285     0.4348     0.7506        174        640: 100%|██████████| 5/5 [00:02<00:00,  2.41it/s]\n",
      "                 Class     Images  Instances      Box(P          R      mAP50  mAP50-95): 100%|██████████| 1/1 [00:00<00:00,  5.85it/s]"
     ]
    },
    {
     "name": "stdout",
     "output_type": "stream",
     "text": [
      "                   all         21        192      0.812      0.605      0.708      0.385\n"
     ]
    },
    {
     "name": "stderr",
     "output_type": "stream",
     "text": [
      "\n"
     ]
    },
    {
     "name": "stdout",
     "output_type": "stream",
     "text": [
      "\n",
      "      Epoch    GPU_mem   box_loss   cls_loss   dfl_loss  Instances       Size\n"
     ]
    },
    {
     "name": "stderr",
     "output_type": "stream",
     "text": [
      "     54/200      7.38G     0.5573     0.4628     0.7729         52        640: 100%|██████████| 5/5 [00:02<00:00,  2.41it/s]\n",
      "                 Class     Images  Instances      Box(P          R      mAP50  mAP50-95): 100%|██████████| 1/1 [00:00<00:00,  5.71it/s]"
     ]
    },
    {
     "name": "stdout",
     "output_type": "stream",
     "text": [
      "                   all         21        192      0.871      0.609      0.735      0.378\n"
     ]
    },
    {
     "name": "stderr",
     "output_type": "stream",
     "text": [
      "\n"
     ]
    },
    {
     "name": "stdout",
     "output_type": "stream",
     "text": [
      "\n",
      "      Epoch    GPU_mem   box_loss   cls_loss   dfl_loss  Instances       Size\n"
     ]
    },
    {
     "name": "stderr",
     "output_type": "stream",
     "text": [
      "     55/200      7.44G     0.5136      0.402     0.7456        123        640: 100%|██████████| 5/5 [00:02<00:00,  2.39it/s]\n",
      "                 Class     Images  Instances      Box(P          R      mAP50  mAP50-95): 100%|██████████| 1/1 [00:00<00:00,  5.95it/s]"
     ]
    },
    {
     "name": "stdout",
     "output_type": "stream",
     "text": [
      "                   all         21        192      0.763      0.693      0.762      0.427\n"
     ]
    },
    {
     "name": "stderr",
     "output_type": "stream",
     "text": [
      "\n"
     ]
    },
    {
     "name": "stdout",
     "output_type": "stream",
     "text": [
      "\n",
      "      Epoch    GPU_mem   box_loss   cls_loss   dfl_loss  Instances       Size\n"
     ]
    },
    {
     "name": "stderr",
     "output_type": "stream",
     "text": [
      "     56/200      7.62G     0.5723     0.4275     0.7514        122        640: 100%|██████████| 5/5 [00:02<00:00,  2.26it/s]\n",
      "                 Class     Images  Instances      Box(P          R      mAP50  mAP50-95): 100%|██████████| 1/1 [00:00<00:00,  5.59it/s]"
     ]
    },
    {
     "name": "stdout",
     "output_type": "stream",
     "text": [
      "                   all         21        192        0.8      0.609      0.734       0.41\n"
     ]
    },
    {
     "name": "stderr",
     "output_type": "stream",
     "text": [
      "\n"
     ]
    },
    {
     "name": "stdout",
     "output_type": "stream",
     "text": [
      "\n",
      "      Epoch    GPU_mem   box_loss   cls_loss   dfl_loss  Instances       Size\n"
     ]
    },
    {
     "name": "stderr",
     "output_type": "stream",
     "text": [
      "     57/200      7.49G     0.5389     0.4113     0.7515        114        640: 100%|██████████| 5/5 [00:02<00:00,  2.34it/s]\n",
      "                 Class     Images  Instances      Box(P          R      mAP50  mAP50-95): 100%|██████████| 1/1 [00:00<00:00,  5.85it/s]"
     ]
    },
    {
     "name": "stdout",
     "output_type": "stream",
     "text": [
      "                   all         21        192      0.793      0.718       0.78       0.44\n"
     ]
    },
    {
     "name": "stderr",
     "output_type": "stream",
     "text": [
      "\n"
     ]
    },
    {
     "name": "stdout",
     "output_type": "stream",
     "text": [
      "\n",
      "      Epoch    GPU_mem   box_loss   cls_loss   dfl_loss  Instances       Size\n"
     ]
    },
    {
     "name": "stderr",
     "output_type": "stream",
     "text": [
      "     58/200       7.5G     0.5333     0.4218     0.7771        113        640: 100%|██████████| 5/5 [00:02<00:00,  2.33it/s]\n",
      "                 Class     Images  Instances      Box(P          R      mAP50  mAP50-95): 100%|██████████| 1/1 [00:00<00:00,  5.71it/s]"
     ]
    },
    {
     "name": "stdout",
     "output_type": "stream",
     "text": [
      "                   all         21        192       0.84      0.677      0.781      0.432\n"
     ]
    },
    {
     "name": "stderr",
     "output_type": "stream",
     "text": [
      "\n"
     ]
    },
    {
     "name": "stdout",
     "output_type": "stream",
     "text": [
      "\n",
      "      Epoch    GPU_mem   box_loss   cls_loss   dfl_loss  Instances       Size\n"
     ]
    },
    {
     "name": "stderr",
     "output_type": "stream",
     "text": [
      "     59/200      7.42G     0.5079     0.4077     0.7382         80        640: 100%|██████████| 5/5 [00:02<00:00,  2.38it/s]\n",
      "                 Class     Images  Instances      Box(P          R      mAP50  mAP50-95): 100%|██████████| 1/1 [00:00<00:00,  5.81it/s]"
     ]
    },
    {
     "name": "stdout",
     "output_type": "stream",
     "text": [
      "                   all         21        192      0.798      0.697      0.773       0.43\n"
     ]
    },
    {
     "name": "stderr",
     "output_type": "stream",
     "text": [
      "\n"
     ]
    },
    {
     "name": "stdout",
     "output_type": "stream",
     "text": [
      "\n",
      "      Epoch    GPU_mem   box_loss   cls_loss   dfl_loss  Instances       Size\n"
     ]
    },
    {
     "name": "stderr",
     "output_type": "stream",
     "text": [
      "     60/200      7.48G     0.5253     0.4106     0.7396        144        640: 100%|██████████| 5/5 [00:02<00:00,  2.43it/s]\n",
      "                 Class     Images  Instances      Box(P          R      mAP50  mAP50-95): 100%|██████████| 1/1 [00:00<00:00,  5.78it/s]\n"
     ]
    },
    {
     "name": "stdout",
     "output_type": "stream",
     "text": [
      "                   all         21        192      0.807      0.696      0.783      0.409\n",
      "\n",
      "      Epoch    GPU_mem   box_loss   cls_loss   dfl_loss  Instances       Size\n"
     ]
    },
    {
     "name": "stderr",
     "output_type": "stream",
     "text": [
      "     61/200      7.45G     0.5301     0.4205      0.751         79        640: 100%|██████████| 5/5 [00:01<00:00,  2.55it/s]\n",
      "                 Class     Images  Instances      Box(P          R      mAP50  mAP50-95): 100%|██████████| 1/1 [00:00<00:00,  5.62it/s]"
     ]
    },
    {
     "name": "stdout",
     "output_type": "stream",
     "text": [
      "                   all         21        192      0.804      0.708      0.767      0.416\n"
     ]
    },
    {
     "name": "stderr",
     "output_type": "stream",
     "text": [
      "\n"
     ]
    },
    {
     "name": "stdout",
     "output_type": "stream",
     "text": [
      "\n",
      "      Epoch    GPU_mem   box_loss   cls_loss   dfl_loss  Instances       Size\n"
     ]
    },
    {
     "name": "stderr",
     "output_type": "stream",
     "text": [
      "     62/200      7.48G     0.5341     0.4039     0.7316        138        640: 100%|██████████| 5/5 [00:02<00:00,  2.40it/s]\n",
      "                 Class     Images  Instances      Box(P          R      mAP50  mAP50-95): 100%|██████████| 1/1 [00:00<00:00,  5.86it/s]"
     ]
    },
    {
     "name": "stdout",
     "output_type": "stream",
     "text": [
      "                   all         21        192      0.796       0.62      0.732      0.392\n"
     ]
    },
    {
     "name": "stderr",
     "output_type": "stream",
     "text": [
      "\n"
     ]
    },
    {
     "name": "stdout",
     "output_type": "stream",
     "text": [
      "\n",
      "      Epoch    GPU_mem   box_loss   cls_loss   dfl_loss  Instances       Size\n"
     ]
    },
    {
     "name": "stderr",
     "output_type": "stream",
     "text": [
      "     63/200      7.34G     0.5263     0.4043     0.7489        174        640: 100%|██████████| 5/5 [00:02<00:00,  2.33it/s]\n",
      "                 Class     Images  Instances      Box(P          R      mAP50  mAP50-95): 100%|██████████| 1/1 [00:00<00:00,  5.48it/s]"
     ]
    },
    {
     "name": "stdout",
     "output_type": "stream",
     "text": [
      "                   all         21        192      0.788      0.657      0.746      0.408\n"
     ]
    },
    {
     "name": "stderr",
     "output_type": "stream",
     "text": [
      "\n"
     ]
    },
    {
     "name": "stdout",
     "output_type": "stream",
     "text": [
      "\n",
      "      Epoch    GPU_mem   box_loss   cls_loss   dfl_loss  Instances       Size\n"
     ]
    },
    {
     "name": "stderr",
     "output_type": "stream",
     "text": [
      "     64/200      7.53G     0.5524     0.4069     0.7516        126        640: 100%|██████████| 5/5 [00:02<00:00,  2.37it/s]\n",
      "                 Class     Images  Instances      Box(P          R      mAP50  mAP50-95): 100%|██████████| 1/1 [00:00<00:00,  5.71it/s]"
     ]
    },
    {
     "name": "stdout",
     "output_type": "stream",
     "text": [
      "                   all         21        192      0.823      0.682      0.776      0.449\n"
     ]
    },
    {
     "name": "stderr",
     "output_type": "stream",
     "text": [
      "\n"
     ]
    },
    {
     "name": "stdout",
     "output_type": "stream",
     "text": [
      "\n",
      "      Epoch    GPU_mem   box_loss   cls_loss   dfl_loss  Instances       Size\n"
     ]
    },
    {
     "name": "stderr",
     "output_type": "stream",
     "text": [
      "     65/200      7.44G     0.4931     0.3934      0.736        125        640: 100%|██████████| 5/5 [00:02<00:00,  2.29it/s]\n",
      "                 Class     Images  Instances      Box(P          R      mAP50  mAP50-95): 100%|██████████| 1/1 [00:00<00:00,  5.81it/s]\n"
     ]
    },
    {
     "name": "stdout",
     "output_type": "stream",
     "text": [
      "                   all         21        192      0.813      0.651      0.763      0.432\n",
      "\n",
      "      Epoch    GPU_mem   box_loss   cls_loss   dfl_loss  Instances       Size\n"
     ]
    },
    {
     "name": "stderr",
     "output_type": "stream",
     "text": [
      "     66/200      7.62G      0.511     0.3762     0.7249         96        640: 100%|██████████| 5/5 [00:02<00:00,  2.36it/s]\n",
      "                 Class     Images  Instances      Box(P          R      mAP50  mAP50-95): 100%|██████████| 1/1 [00:00<00:00,  5.88it/s]"
     ]
    },
    {
     "name": "stdout",
     "output_type": "stream",
     "text": [
      "                   all         21        192      0.765      0.615      0.722        0.4\n"
     ]
    },
    {
     "name": "stderr",
     "output_type": "stream",
     "text": [
      "\n"
     ]
    },
    {
     "name": "stdout",
     "output_type": "stream",
     "text": [
      "\n",
      "      Epoch    GPU_mem   box_loss   cls_loss   dfl_loss  Instances       Size\n"
     ]
    },
    {
     "name": "stderr",
     "output_type": "stream",
     "text": [
      "     67/200      7.52G     0.5254     0.4026     0.7334        161        640: 100%|██████████| 5/5 [00:02<00:00,  2.37it/s]\n",
      "                 Class     Images  Instances      Box(P          R      mAP50  mAP50-95): 100%|██████████| 1/1 [00:00<00:00,  5.85it/s]"
     ]
    },
    {
     "name": "stdout",
     "output_type": "stream",
     "text": [
      "                   all         21        192      0.821      0.643      0.747      0.438\n"
     ]
    },
    {
     "name": "stderr",
     "output_type": "stream",
     "text": [
      "\n"
     ]
    },
    {
     "name": "stdout",
     "output_type": "stream",
     "text": [
      "\n",
      "      Epoch    GPU_mem   box_loss   cls_loss   dfl_loss  Instances       Size\n"
     ]
    },
    {
     "name": "stderr",
     "output_type": "stream",
     "text": [
      "     68/200      7.57G     0.4873     0.3963     0.7368         95        640: 100%|██████████| 5/5 [00:02<00:00,  2.47it/s]\n",
      "                 Class     Images  Instances      Box(P          R      mAP50  mAP50-95): 100%|██████████| 1/1 [00:00<00:00,  5.77it/s]"
     ]
    },
    {
     "name": "stdout",
     "output_type": "stream",
     "text": [
      "                   all         21        192      0.824      0.714       0.76      0.441\n"
     ]
    },
    {
     "name": "stderr",
     "output_type": "stream",
     "text": [
      "\n"
     ]
    },
    {
     "name": "stdout",
     "output_type": "stream",
     "text": [
      "\n",
      "      Epoch    GPU_mem   box_loss   cls_loss   dfl_loss  Instances       Size\n"
     ]
    },
    {
     "name": "stderr",
     "output_type": "stream",
     "text": [
      "     69/200      7.53G     0.4874     0.3666     0.7209        132        640: 100%|██████████| 5/5 [00:01<00:00,  2.51it/s]\n",
      "                 Class     Images  Instances      Box(P          R      mAP50  mAP50-95): 100%|██████████| 1/1 [00:00<00:00,  5.85it/s]"
     ]
    },
    {
     "name": "stdout",
     "output_type": "stream",
     "text": [
      "                   all         21        192      0.803      0.703      0.771       0.45\n"
     ]
    },
    {
     "name": "stderr",
     "output_type": "stream",
     "text": [
      "\n"
     ]
    },
    {
     "name": "stdout",
     "output_type": "stream",
     "text": [
      "\n",
      "      Epoch    GPU_mem   box_loss   cls_loss   dfl_loss  Instances       Size\n"
     ]
    },
    {
     "name": "stderr",
     "output_type": "stream",
     "text": [
      "     70/200      7.38G     0.4586     0.3621     0.7161        102        640: 100%|██████████| 5/5 [00:02<00:00,  2.31it/s]\n",
      "                 Class     Images  Instances      Box(P          R      mAP50  mAP50-95): 100%|██████████| 1/1 [00:00<00:00,  5.78it/s]"
     ]
    },
    {
     "name": "stdout",
     "output_type": "stream",
     "text": [
      "                   all         21        192      0.738      0.724      0.755       0.43\n"
     ]
    },
    {
     "name": "stderr",
     "output_type": "stream",
     "text": [
      "\n"
     ]
    },
    {
     "name": "stdout",
     "output_type": "stream",
     "text": [
      "\n",
      "      Epoch    GPU_mem   box_loss   cls_loss   dfl_loss  Instances       Size\n"
     ]
    },
    {
     "name": "stderr",
     "output_type": "stream",
     "text": [
      "     71/200      7.43G     0.5026      0.376     0.7398        193        640: 100%|██████████| 5/5 [00:02<00:00,  2.35it/s]\n",
      "                 Class     Images  Instances      Box(P          R      mAP50  mAP50-95): 100%|██████████| 1/1 [00:00<00:00,  5.81it/s]"
     ]
    },
    {
     "name": "stdout",
     "output_type": "stream",
     "text": [
      "                   all         21        192      0.843      0.661      0.764      0.421\n"
     ]
    },
    {
     "name": "stderr",
     "output_type": "stream",
     "text": [
      "\n"
     ]
    },
    {
     "name": "stdout",
     "output_type": "stream",
     "text": [
      "\n",
      "      Epoch    GPU_mem   box_loss   cls_loss   dfl_loss  Instances       Size\n"
     ]
    },
    {
     "name": "stderr",
     "output_type": "stream",
     "text": [
      "     72/200      7.58G     0.4634     0.3757      0.717        124        640: 100%|██████████| 5/5 [00:02<00:00,  2.38it/s]\n",
      "                 Class     Images  Instances      Box(P          R      mAP50  mAP50-95): 100%|██████████| 1/1 [00:00<00:00,  5.81it/s]"
     ]
    },
    {
     "name": "stdout",
     "output_type": "stream",
     "text": [
      "                   all         21        192      0.731      0.615       0.71      0.391\n"
     ]
    },
    {
     "name": "stderr",
     "output_type": "stream",
     "text": [
      "\n"
     ]
    },
    {
     "name": "stdout",
     "output_type": "stream",
     "text": [
      "\n",
      "      Epoch    GPU_mem   box_loss   cls_loss   dfl_loss  Instances       Size\n"
     ]
    },
    {
     "name": "stderr",
     "output_type": "stream",
     "text": [
      "     73/200      7.54G     0.4936     0.3729     0.7277        109        640: 100%|██████████| 5/5 [00:02<00:00,  2.36it/s]\n",
      "                 Class     Images  Instances      Box(P          R      mAP50  mAP50-95): 100%|██████████| 1/1 [00:00<00:00,  5.91it/s]"
     ]
    },
    {
     "name": "stdout",
     "output_type": "stream",
     "text": [
      "                   all         21        192      0.782      0.641      0.735       0.42\n"
     ]
    },
    {
     "name": "stderr",
     "output_type": "stream",
     "text": [
      "\n"
     ]
    },
    {
     "name": "stdout",
     "output_type": "stream",
     "text": [
      "\n",
      "      Epoch    GPU_mem   box_loss   cls_loss   dfl_loss  Instances       Size\n"
     ]
    },
    {
     "name": "stderr",
     "output_type": "stream",
     "text": [
      "     74/200      7.44G     0.4603     0.3706     0.7231         84        640: 100%|██████████| 5/5 [00:02<00:00,  2.44it/s]\n",
      "                 Class     Images  Instances      Box(P          R      mAP50  mAP50-95): 100%|██████████| 1/1 [00:00<00:00,  5.71it/s]"
     ]
    },
    {
     "name": "stdout",
     "output_type": "stream",
     "text": [
      "                   all         21        192      0.702      0.699      0.745      0.433\n"
     ]
    },
    {
     "name": "stderr",
     "output_type": "stream",
     "text": [
      "\n"
     ]
    },
    {
     "name": "stdout",
     "output_type": "stream",
     "text": [
      "\n",
      "      Epoch    GPU_mem   box_loss   cls_loss   dfl_loss  Instances       Size\n"
     ]
    },
    {
     "name": "stderr",
     "output_type": "stream",
     "text": [
      "     75/200      7.52G     0.4645     0.3609     0.7248        213        640: 100%|██████████| 5/5 [00:02<00:00,  2.47it/s]\n",
      "                 Class     Images  Instances      Box(P          R      mAP50  mAP50-95): 100%|██████████| 1/1 [00:00<00:00,  5.46it/s]"
     ]
    },
    {
     "name": "stdout",
     "output_type": "stream",
     "text": [
      "                   all         21        192      0.761      0.663      0.754      0.436\n"
     ]
    },
    {
     "name": "stderr",
     "output_type": "stream",
     "text": [
      "\n"
     ]
    },
    {
     "name": "stdout",
     "output_type": "stream",
     "text": [
      "\n",
      "      Epoch    GPU_mem   box_loss   cls_loss   dfl_loss  Instances       Size\n"
     ]
    },
    {
     "name": "stderr",
     "output_type": "stream",
     "text": [
      "     76/200      7.57G     0.4886     0.3645     0.7213        205        640: 100%|██████████| 5/5 [00:01<00:00,  2.58it/s]\n",
      "                 Class     Images  Instances      Box(P          R      mAP50  mAP50-95): 100%|██████████| 1/1 [00:00<00:00,  5.35it/s]"
     ]
    },
    {
     "name": "stdout",
     "output_type": "stream",
     "text": [
      "                   all         21        192      0.907      0.657      0.783      0.458\n"
     ]
    },
    {
     "name": "stderr",
     "output_type": "stream",
     "text": [
      "\n"
     ]
    },
    {
     "name": "stdout",
     "output_type": "stream",
     "text": [
      "\n",
      "      Epoch    GPU_mem   box_loss   cls_loss   dfl_loss  Instances       Size\n"
     ]
    },
    {
     "name": "stderr",
     "output_type": "stream",
     "text": [
      "     77/200      7.47G     0.4615     0.3549     0.7089        135        640: 100%|██████████| 5/5 [00:02<00:00,  2.23it/s]\n",
      "                 Class     Images  Instances      Box(P          R      mAP50  mAP50-95): 100%|██████████| 1/1 [00:00<00:00,  5.28it/s]"
     ]
    },
    {
     "name": "stdout",
     "output_type": "stream",
     "text": [
      "                   all         21        192      0.791      0.672      0.762      0.434\n"
     ]
    },
    {
     "name": "stderr",
     "output_type": "stream",
     "text": [
      "\n"
     ]
    },
    {
     "name": "stdout",
     "output_type": "stream",
     "text": [
      "\n",
      "      Epoch    GPU_mem   box_loss   cls_loss   dfl_loss  Instances       Size\n"
     ]
    },
    {
     "name": "stderr",
     "output_type": "stream",
     "text": [
      "     78/200      7.56G     0.4766     0.3743     0.7185         73        640: 100%|██████████| 5/5 [00:02<00:00,  2.28it/s]\n",
      "                 Class     Images  Instances      Box(P          R      mAP50  mAP50-95): 100%|██████████| 1/1 [00:00<00:00,  5.75it/s]"
     ]
    },
    {
     "name": "stdout",
     "output_type": "stream",
     "text": [
      "                   all         21        192      0.799      0.682      0.779      0.443\n"
     ]
    },
    {
     "name": "stderr",
     "output_type": "stream",
     "text": [
      "\n"
     ]
    },
    {
     "name": "stdout",
     "output_type": "stream",
     "text": [
      "\n",
      "      Epoch    GPU_mem   box_loss   cls_loss   dfl_loss  Instances       Size\n"
     ]
    },
    {
     "name": "stderr",
     "output_type": "stream",
     "text": [
      "     79/200      7.55G     0.4693     0.3626     0.7191        164        640: 100%|██████████| 5/5 [00:02<00:00,  2.42it/s]\n",
      "                 Class     Images  Instances      Box(P          R      mAP50  mAP50-95): 100%|██████████| 1/1 [00:00<00:00,  5.78it/s]"
     ]
    },
    {
     "name": "stdout",
     "output_type": "stream",
     "text": [
      "                   all         21        192      0.839      0.734      0.812      0.464\n"
     ]
    },
    {
     "name": "stderr",
     "output_type": "stream",
     "text": [
      "\n"
     ]
    },
    {
     "name": "stdout",
     "output_type": "stream",
     "text": [
      "\n",
      "      Epoch    GPU_mem   box_loss   cls_loss   dfl_loss  Instances       Size\n"
     ]
    },
    {
     "name": "stderr",
     "output_type": "stream",
     "text": [
      "     80/200       7.6G     0.4654     0.3565     0.7285         73        640: 100%|██████████| 5/5 [00:02<00:00,  2.29it/s]\n",
      "                 Class     Images  Instances      Box(P          R      mAP50  mAP50-95): 100%|██████████| 1/1 [00:00<00:00,  5.99it/s]"
     ]
    },
    {
     "name": "stdout",
     "output_type": "stream",
     "text": [
      "                   all         21        192      0.891      0.723      0.817      0.469\n"
     ]
    },
    {
     "name": "stderr",
     "output_type": "stream",
     "text": [
      "\n"
     ]
    },
    {
     "name": "stdout",
     "output_type": "stream",
     "text": [
      "\n",
      "      Epoch    GPU_mem   box_loss   cls_loss   dfl_loss  Instances       Size\n"
     ]
    },
    {
     "name": "stderr",
     "output_type": "stream",
     "text": [
      "     81/200      7.41G     0.4804     0.3609     0.7188         74        640: 100%|██████████| 5/5 [00:02<00:00,  2.32it/s]\n",
      "                 Class     Images  Instances      Box(P          R      mAP50  mAP50-95): 100%|██████████| 1/1 [00:00<00:00,  5.56it/s]"
     ]
    },
    {
     "name": "stdout",
     "output_type": "stream",
     "text": [
      "                   all         21        192      0.882      0.641      0.764      0.427\n"
     ]
    },
    {
     "name": "stderr",
     "output_type": "stream",
     "text": [
      "\n"
     ]
    },
    {
     "name": "stdout",
     "output_type": "stream",
     "text": [
      "\n",
      "      Epoch    GPU_mem   box_loss   cls_loss   dfl_loss  Instances       Size\n"
     ]
    },
    {
     "name": "stderr",
     "output_type": "stream",
     "text": [
      "     82/200      7.59G      0.431      0.352     0.7127        126        640: 100%|██████████| 5/5 [00:02<00:00,  2.32it/s]\n",
      "                 Class     Images  Instances      Box(P          R      mAP50  mAP50-95): 100%|██████████| 1/1 [00:00<00:00,  5.92it/s]"
     ]
    },
    {
     "name": "stdout",
     "output_type": "stream",
     "text": [
      "                   all         21        192       0.79      0.627      0.733      0.424\n"
     ]
    },
    {
     "name": "stderr",
     "output_type": "stream",
     "text": [
      "\n"
     ]
    },
    {
     "name": "stdout",
     "output_type": "stream",
     "text": [
      "\n",
      "      Epoch    GPU_mem   box_loss   cls_loss   dfl_loss  Instances       Size\n"
     ]
    },
    {
     "name": "stderr",
     "output_type": "stream",
     "text": [
      "     83/200      7.54G     0.4676     0.3553     0.7186        165        640: 100%|██████████| 5/5 [00:01<00:00,  2.58it/s]\n",
      "                 Class     Images  Instances      Box(P          R      mAP50  mAP50-95): 100%|██████████| 1/1 [00:00<00:00,  5.75it/s]"
     ]
    },
    {
     "name": "stdout",
     "output_type": "stream",
     "text": [
      "                   all         21        192      0.797      0.661      0.767       0.42\n"
     ]
    },
    {
     "name": "stderr",
     "output_type": "stream",
     "text": [
      "\n"
     ]
    },
    {
     "name": "stdout",
     "output_type": "stream",
     "text": [
      "\n",
      "      Epoch    GPU_mem   box_loss   cls_loss   dfl_loss  Instances       Size\n"
     ]
    },
    {
     "name": "stderr",
     "output_type": "stream",
     "text": [
      "     84/200      7.43G      0.514     0.3706     0.7192        132        640: 100%|██████████| 5/5 [00:02<00:00,  2.42it/s]\n",
      "                 Class     Images  Instances      Box(P          R      mAP50  mAP50-95): 100%|██████████| 1/1 [00:00<00:00,  5.35it/s]"
     ]
    },
    {
     "name": "stdout",
     "output_type": "stream",
     "text": [
      "                   all         21        192      0.789      0.662      0.763      0.436\n"
     ]
    },
    {
     "name": "stderr",
     "output_type": "stream",
     "text": [
      "\n"
     ]
    },
    {
     "name": "stdout",
     "output_type": "stream",
     "text": [
      "\n",
      "      Epoch    GPU_mem   box_loss   cls_loss   dfl_loss  Instances       Size\n"
     ]
    },
    {
     "name": "stderr",
     "output_type": "stream",
     "text": [
      "     85/200      7.49G     0.4576     0.3526     0.7186        134        640: 100%|██████████| 5/5 [00:01<00:00,  2.62it/s]\n",
      "                 Class     Images  Instances      Box(P          R      mAP50  mAP50-95): 100%|██████████| 1/1 [00:00<00:00,  5.78it/s]\n"
     ]
    },
    {
     "name": "stdout",
     "output_type": "stream",
     "text": [
      "                   all         21        192      0.801      0.651      0.763      0.431\n",
      "\n",
      "      Epoch    GPU_mem   box_loss   cls_loss   dfl_loss  Instances       Size\n"
     ]
    },
    {
     "name": "stderr",
     "output_type": "stream",
     "text": [
      "     86/200      7.45G     0.5145     0.3757     0.7506         47        640: 100%|██████████| 5/5 [00:02<00:00,  2.50it/s]\n",
      "                 Class     Images  Instances      Box(P          R      mAP50  mAP50-95): 100%|██████████| 1/1 [00:00<00:00,  5.62it/s]"
     ]
    },
    {
     "name": "stdout",
     "output_type": "stream",
     "text": [
      "                   all         21        192      0.824      0.594      0.736      0.432\n"
     ]
    },
    {
     "name": "stderr",
     "output_type": "stream",
     "text": [
      "\n"
     ]
    },
    {
     "name": "stdout",
     "output_type": "stream",
     "text": [
      "\n",
      "      Epoch    GPU_mem   box_loss   cls_loss   dfl_loss  Instances       Size\n"
     ]
    },
    {
     "name": "stderr",
     "output_type": "stream",
     "text": [
      "     87/200      7.54G     0.4582     0.3691     0.7095        100        640: 100%|██████████| 5/5 [00:02<00:00,  2.39it/s]\n",
      "                 Class     Images  Instances      Box(P          R      mAP50  mAP50-95): 100%|██████████| 1/1 [00:00<00:00,  5.52it/s]"
     ]
    },
    {
     "name": "stdout",
     "output_type": "stream",
     "text": [
      "                   all         21        192      0.856      0.573      0.722      0.436\n"
     ]
    },
    {
     "name": "stderr",
     "output_type": "stream",
     "text": [
      "\n"
     ]
    },
    {
     "name": "stdout",
     "output_type": "stream",
     "text": [
      "\n",
      "      Epoch    GPU_mem   box_loss   cls_loss   dfl_loss  Instances       Size\n"
     ]
    },
    {
     "name": "stderr",
     "output_type": "stream",
     "text": [
      "     88/200      7.54G     0.4477     0.3537      0.704        101        640: 100%|██████████| 5/5 [00:01<00:00,  2.57it/s]\n",
      "                 Class     Images  Instances      Box(P          R      mAP50  mAP50-95): 100%|██████████| 1/1 [00:00<00:00,  5.65it/s]"
     ]
    },
    {
     "name": "stdout",
     "output_type": "stream",
     "text": [
      "                   all         21        192      0.781      0.708      0.769      0.449\n"
     ]
    },
    {
     "name": "stderr",
     "output_type": "stream",
     "text": [
      "\n"
     ]
    },
    {
     "name": "stdout",
     "output_type": "stream",
     "text": [
      "\n",
      "      Epoch    GPU_mem   box_loss   cls_loss   dfl_loss  Instances       Size\n"
     ]
    },
    {
     "name": "stderr",
     "output_type": "stream",
     "text": [
      "     89/200      7.54G     0.4782     0.3632     0.7128        130        640: 100%|██████████| 5/5 [00:02<00:00,  2.34it/s]\n",
      "                 Class     Images  Instances      Box(P          R      mAP50  mAP50-95): 100%|██████████| 1/1 [00:00<00:00,  5.85it/s]\n"
     ]
    },
    {
     "name": "stdout",
     "output_type": "stream",
     "text": [
      "                   all         21        192      0.765      0.677      0.735      0.426\n",
      "\n",
      "      Epoch    GPU_mem   box_loss   cls_loss   dfl_loss  Instances       Size\n"
     ]
    },
    {
     "name": "stderr",
     "output_type": "stream",
     "text": [
      "     90/200      7.51G     0.4396     0.3532     0.7186         72        640: 100%|██████████| 5/5 [00:01<00:00,  2.53it/s]\n",
      "                 Class     Images  Instances      Box(P          R      mAP50  mAP50-95): 100%|██████████| 1/1 [00:00<00:00,  5.95it/s]"
     ]
    },
    {
     "name": "stdout",
     "output_type": "stream",
     "text": [
      "                   all         21        192      0.757      0.729       0.77      0.451\n"
     ]
    },
    {
     "name": "stderr",
     "output_type": "stream",
     "text": [
      "\n"
     ]
    },
    {
     "name": "stdout",
     "output_type": "stream",
     "text": [
      "\n",
      "      Epoch    GPU_mem   box_loss   cls_loss   dfl_loss  Instances       Size\n"
     ]
    },
    {
     "name": "stderr",
     "output_type": "stream",
     "text": [
      "     91/200       7.6G     0.4417     0.3483     0.7209         97        640: 100%|██████████| 5/5 [00:02<00:00,  2.44it/s]\n",
      "                 Class     Images  Instances      Box(P          R      mAP50  mAP50-95): 100%|██████████| 1/1 [00:00<00:00,  5.24it/s]"
     ]
    },
    {
     "name": "stdout",
     "output_type": "stream",
     "text": [
      "                   all         21        192       0.81      0.708      0.798      0.469\n"
     ]
    },
    {
     "name": "stderr",
     "output_type": "stream",
     "text": [
      "\n"
     ]
    },
    {
     "name": "stdout",
     "output_type": "stream",
     "text": [
      "\n",
      "      Epoch    GPU_mem   box_loss   cls_loss   dfl_loss  Instances       Size\n"
     ]
    },
    {
     "name": "stderr",
     "output_type": "stream",
     "text": [
      "     92/200      7.42G     0.4584     0.3529      0.717         96        640: 100%|██████████| 5/5 [00:02<00:00,  2.38it/s]\n",
      "                 Class     Images  Instances      Box(P          R      mAP50  mAP50-95): 100%|██████████| 1/1 [00:00<00:00,  5.71it/s]"
     ]
    },
    {
     "name": "stdout",
     "output_type": "stream",
     "text": [
      "                   all         21        192      0.799      0.724       0.78      0.433\n"
     ]
    },
    {
     "name": "stderr",
     "output_type": "stream",
     "text": [
      "\n"
     ]
    },
    {
     "name": "stdout",
     "output_type": "stream",
     "text": [
      "\n",
      "      Epoch    GPU_mem   box_loss   cls_loss   dfl_loss  Instances       Size\n"
     ]
    },
    {
     "name": "stderr",
     "output_type": "stream",
     "text": [
      "     93/200      7.35G     0.4814      0.363     0.7169         80        640: 100%|██████████| 5/5 [00:02<00:00,  2.46it/s]\n",
      "                 Class     Images  Instances      Box(P          R      mAP50  mAP50-95): 100%|██████████| 1/1 [00:00<00:00,  5.24it/s]"
     ]
    },
    {
     "name": "stdout",
     "output_type": "stream",
     "text": [
      "                   all         21        192      0.813      0.719      0.798      0.451\n"
     ]
    },
    {
     "name": "stderr",
     "output_type": "stream",
     "text": [
      "\n"
     ]
    },
    {
     "name": "stdout",
     "output_type": "stream",
     "text": [
      "\n",
      "      Epoch    GPU_mem   box_loss   cls_loss   dfl_loss  Instances       Size\n"
     ]
    },
    {
     "name": "stderr",
     "output_type": "stream",
     "text": [
      "     94/200      7.57G     0.4362     0.3391     0.6977         45        640: 100%|██████████| 5/5 [00:01<00:00,  2.54it/s]\n",
      "                 Class     Images  Instances      Box(P          R      mAP50  mAP50-95): 100%|██████████| 1/1 [00:00<00:00,  5.10it/s]"
     ]
    },
    {
     "name": "stdout",
     "output_type": "stream",
     "text": [
      "                   all         21        192      0.811      0.739      0.799      0.443\n"
     ]
    },
    {
     "name": "stderr",
     "output_type": "stream",
     "text": [
      "\n"
     ]
    },
    {
     "name": "stdout",
     "output_type": "stream",
     "text": [
      "\n",
      "      Epoch    GPU_mem   box_loss   cls_loss   dfl_loss  Instances       Size\n"
     ]
    },
    {
     "name": "stderr",
     "output_type": "stream",
     "text": [
      "     95/200      7.54G     0.4534     0.3568     0.7074        157        640: 100%|██████████| 5/5 [00:02<00:00,  2.44it/s]\n",
      "                 Class     Images  Instances      Box(P          R      mAP50  mAP50-95): 100%|██████████| 1/1 [00:00<00:00,  5.78it/s]"
     ]
    },
    {
     "name": "stdout",
     "output_type": "stream",
     "text": [
      "                   all         21        192      0.827      0.677      0.782      0.433\n"
     ]
    },
    {
     "name": "stderr",
     "output_type": "stream",
     "text": [
      "\n"
     ]
    },
    {
     "name": "stdout",
     "output_type": "stream",
     "text": [
      "\n",
      "      Epoch    GPU_mem   box_loss   cls_loss   dfl_loss  Instances       Size\n"
     ]
    },
    {
     "name": "stderr",
     "output_type": "stream",
     "text": [
      "     96/200      7.44G     0.4162     0.3324     0.7056        132        640: 100%|██████████| 5/5 [00:02<00:00,  2.47it/s]\n",
      "                 Class     Images  Instances      Box(P          R      mAP50  mAP50-95): 100%|██████████| 1/1 [00:00<00:00,  5.85it/s]"
     ]
    },
    {
     "name": "stdout",
     "output_type": "stream",
     "text": [
      "                   all         21        192      0.843      0.724      0.809      0.466\n"
     ]
    },
    {
     "name": "stderr",
     "output_type": "stream",
     "text": [
      "\n"
     ]
    },
    {
     "name": "stdout",
     "output_type": "stream",
     "text": [
      "\n",
      "      Epoch    GPU_mem   box_loss   cls_loss   dfl_loss  Instances       Size\n"
     ]
    },
    {
     "name": "stderr",
     "output_type": "stream",
     "text": [
      "     97/200      7.47G     0.4294     0.3439     0.7021         99        640: 100%|██████████| 5/5 [00:02<00:00,  2.43it/s]\n",
      "                 Class     Images  Instances      Box(P          R      mAP50  mAP50-95): 100%|██████████| 1/1 [00:00<00:00,  5.56it/s]"
     ]
    },
    {
     "name": "stdout",
     "output_type": "stream",
     "text": [
      "                   all         21        192      0.822      0.734      0.801      0.454\n"
     ]
    },
    {
     "name": "stderr",
     "output_type": "stream",
     "text": [
      "\n"
     ]
    },
    {
     "name": "stdout",
     "output_type": "stream",
     "text": [
      "\n",
      "      Epoch    GPU_mem   box_loss   cls_loss   dfl_loss  Instances       Size\n"
     ]
    },
    {
     "name": "stderr",
     "output_type": "stream",
     "text": [
      "     98/200      7.56G     0.4445     0.3447     0.6965        123        640: 100%|██████████| 5/5 [00:01<00:00,  2.55it/s]\n",
      "                 Class     Images  Instances      Box(P          R      mAP50  mAP50-95): 100%|██████████| 1/1 [00:00<00:00,  5.56it/s]"
     ]
    },
    {
     "name": "stdout",
     "output_type": "stream",
     "text": [
      "                   all         21        192      0.785      0.734      0.797      0.468\n"
     ]
    },
    {
     "name": "stderr",
     "output_type": "stream",
     "text": [
      "\n"
     ]
    },
    {
     "name": "stdout",
     "output_type": "stream",
     "text": [
      "\n",
      "      Epoch    GPU_mem   box_loss   cls_loss   dfl_loss  Instances       Size\n"
     ]
    },
    {
     "name": "stderr",
     "output_type": "stream",
     "text": [
      "     99/200      7.55G     0.3751     0.3146     0.6964        111        640: 100%|██████████| 5/5 [00:02<00:00,  2.39it/s]\n",
      "                 Class     Images  Instances      Box(P          R      mAP50  mAP50-95): 100%|██████████| 1/1 [00:00<00:00,  6.06it/s]"
     ]
    },
    {
     "name": "stdout",
     "output_type": "stream",
     "text": [
      "                   all         21        192      0.791      0.688      0.776      0.453\n"
     ]
    },
    {
     "name": "stderr",
     "output_type": "stream",
     "text": [
      "\n"
     ]
    },
    {
     "name": "stdout",
     "output_type": "stream",
     "text": [
      "\n",
      "      Epoch    GPU_mem   box_loss   cls_loss   dfl_loss  Instances       Size\n"
     ]
    },
    {
     "name": "stderr",
     "output_type": "stream",
     "text": [
      "    100/200      7.61G     0.4025     0.3115     0.6901         97        640: 100%|██████████| 5/5 [00:01<00:00,  2.54it/s]\n",
      "                 Class     Images  Instances      Box(P          R      mAP50  mAP50-95): 100%|██████████| 1/1 [00:00<00:00,  5.52it/s]"
     ]
    },
    {
     "name": "stdout",
     "output_type": "stream",
     "text": [
      "                   all         21        192      0.848      0.651      0.785      0.454\n"
     ]
    },
    {
     "name": "stderr",
     "output_type": "stream",
     "text": [
      "\n"
     ]
    },
    {
     "name": "stdout",
     "output_type": "stream",
     "text": [
      "\n",
      "      Epoch    GPU_mem   box_loss   cls_loss   dfl_loss  Instances       Size\n"
     ]
    },
    {
     "name": "stderr",
     "output_type": "stream",
     "text": [
      "    101/200      7.47G     0.4083     0.3195     0.6899        166        640: 100%|██████████| 5/5 [00:01<00:00,  2.55it/s]\n",
      "                 Class     Images  Instances      Box(P          R      mAP50  mAP50-95): 100%|██████████| 1/1 [00:00<00:00,  5.85it/s]"
     ]
    },
    {
     "name": "stdout",
     "output_type": "stream",
     "text": [
      "                   all         21        192      0.773      0.743       0.77       0.45\n"
     ]
    },
    {
     "name": "stderr",
     "output_type": "stream",
     "text": [
      "\n"
     ]
    },
    {
     "name": "stdout",
     "output_type": "stream",
     "text": [
      "\n",
      "      Epoch    GPU_mem   box_loss   cls_loss   dfl_loss  Instances       Size\n"
     ]
    },
    {
     "name": "stderr",
     "output_type": "stream",
     "text": [
      "    102/200      7.47G      0.399     0.3161     0.6857        137        640: 100%|██████████| 5/5 [00:02<00:00,  2.48it/s]\n",
      "                 Class     Images  Instances      Box(P          R      mAP50  mAP50-95): 100%|██████████| 1/1 [00:00<00:00,  5.52it/s]"
     ]
    },
    {
     "name": "stdout",
     "output_type": "stream",
     "text": [
      "                   all         21        192      0.771      0.771       0.78      0.456\n"
     ]
    },
    {
     "name": "stderr",
     "output_type": "stream",
     "text": [
      "\n"
     ]
    },
    {
     "name": "stdout",
     "output_type": "stream",
     "text": [
      "\n",
      "      Epoch    GPU_mem   box_loss   cls_loss   dfl_loss  Instances       Size\n"
     ]
    },
    {
     "name": "stderr",
     "output_type": "stream",
     "text": [
      "    103/200      7.64G     0.4007     0.3233     0.6921         92        640: 100%|██████████| 5/5 [00:02<00:00,  2.49it/s]\n",
      "                 Class     Images  Instances      Box(P          R      mAP50  mAP50-95): 100%|██████████| 1/1 [00:00<00:00,  5.56it/s]"
     ]
    },
    {
     "name": "stdout",
     "output_type": "stream",
     "text": [
      "                   all         21        192      0.824      0.729       0.78       0.45\n"
     ]
    },
    {
     "name": "stderr",
     "output_type": "stream",
     "text": [
      "\n"
     ]
    },
    {
     "name": "stdout",
     "output_type": "stream",
     "text": [
      "\n",
      "      Epoch    GPU_mem   box_loss   cls_loss   dfl_loss  Instances       Size\n"
     ]
    },
    {
     "name": "stderr",
     "output_type": "stream",
     "text": [
      "    104/200       7.6G     0.3515      0.288     0.6881         96        640: 100%|██████████| 5/5 [00:02<00:00,  2.48it/s]\n",
      "                 Class     Images  Instances      Box(P          R      mAP50  mAP50-95): 100%|██████████| 1/1 [00:00<00:00,  5.43it/s]"
     ]
    },
    {
     "name": "stdout",
     "output_type": "stream",
     "text": [
      "                   all         21        192      0.808      0.755      0.816      0.482\n"
     ]
    },
    {
     "name": "stderr",
     "output_type": "stream",
     "text": [
      "\n"
     ]
    },
    {
     "name": "stdout",
     "output_type": "stream",
     "text": [
      "\n",
      "      Epoch    GPU_mem   box_loss   cls_loss   dfl_loss  Instances       Size\n"
     ]
    },
    {
     "name": "stderr",
     "output_type": "stream",
     "text": [
      "    105/200      7.54G      0.394     0.3238     0.6995        132        640: 100%|██████████| 5/5 [00:02<00:00,  2.37it/s]\n",
      "                 Class     Images  Instances      Box(P          R      mAP50  mAP50-95): 100%|██████████| 1/1 [00:00<00:00,  6.10it/s]\n"
     ]
    },
    {
     "name": "stdout",
     "output_type": "stream",
     "text": [
      "                   all         21        192      0.878      0.693      0.818      0.495\n",
      "\n",
      "      Epoch    GPU_mem   box_loss   cls_loss   dfl_loss  Instances       Size\n"
     ]
    },
    {
     "name": "stderr",
     "output_type": "stream",
     "text": [
      "    106/200      7.56G     0.3741     0.3206      0.689         43        640: 100%|██████████| 5/5 [00:02<00:00,  2.49it/s]\n",
      "                 Class     Images  Instances      Box(P          R      mAP50  mAP50-95): 100%|██████████| 1/1 [00:00<00:00,  6.13it/s]\n"
     ]
    },
    {
     "name": "stdout",
     "output_type": "stream",
     "text": [
      "                   all         21        192       0.83      0.724      0.806      0.479\n",
      "\n",
      "      Epoch    GPU_mem   box_loss   cls_loss   dfl_loss  Instances       Size\n"
     ]
    },
    {
     "name": "stderr",
     "output_type": "stream",
     "text": [
      "    107/200      7.58G     0.3766     0.3189     0.6799        118        640: 100%|██████████| 5/5 [00:02<00:00,  2.29it/s]\n",
      "                 Class     Images  Instances      Box(P          R      mAP50  mAP50-95): 100%|██████████| 1/1 [00:00<00:00,  5.92it/s]"
     ]
    },
    {
     "name": "stdout",
     "output_type": "stream",
     "text": [
      "                   all         21        192      0.791      0.714      0.786      0.456\n"
     ]
    },
    {
     "name": "stderr",
     "output_type": "stream",
     "text": [
      "\n"
     ]
    },
    {
     "name": "stdout",
     "output_type": "stream",
     "text": [
      "\n",
      "      Epoch    GPU_mem   box_loss   cls_loss   dfl_loss  Instances       Size\n"
     ]
    },
    {
     "name": "stderr",
     "output_type": "stream",
     "text": [
      "    108/200      7.51G      0.387     0.3178     0.6932         82        640: 100%|██████████| 5/5 [00:01<00:00,  2.50it/s]\n",
      "                 Class     Images  Instances      Box(P          R      mAP50  mAP50-95): 100%|██████████| 1/1 [00:00<00:00,  5.99it/s]"
     ]
    },
    {
     "name": "stdout",
     "output_type": "stream",
     "text": [
      "                   all         21        192      0.835      0.714      0.795      0.463\n"
     ]
    },
    {
     "name": "stderr",
     "output_type": "stream",
     "text": [
      "\n"
     ]
    },
    {
     "name": "stdout",
     "output_type": "stream",
     "text": [
      "\n",
      "      Epoch    GPU_mem   box_loss   cls_loss   dfl_loss  Instances       Size\n"
     ]
    },
    {
     "name": "stderr",
     "output_type": "stream",
     "text": [
      "    109/200      7.47G     0.3795     0.2999       0.68        160        640: 100%|██████████| 5/5 [00:01<00:00,  2.64it/s]\n",
      "                 Class     Images  Instances      Box(P          R      mAP50  mAP50-95): 100%|██████████| 1/1 [00:00<00:00,  6.10it/s]\n"
     ]
    },
    {
     "name": "stdout",
     "output_type": "stream",
     "text": [
      "                   all         21        192      0.803      0.714      0.797      0.463\n",
      "\n",
      "      Epoch    GPU_mem   box_loss   cls_loss   dfl_loss  Instances       Size\n"
     ]
    },
    {
     "name": "stderr",
     "output_type": "stream",
     "text": [
      "    110/200      7.63G     0.4042     0.3108      0.709        112        640: 100%|██████████| 5/5 [00:02<00:00,  2.49it/s]\n",
      "                 Class     Images  Instances      Box(P          R      mAP50  mAP50-95): 100%|██████████| 1/1 [00:00<00:00,  5.46it/s]"
     ]
    },
    {
     "name": "stdout",
     "output_type": "stream",
     "text": [
      "                   all         21        192      0.832      0.724      0.797       0.47\n"
     ]
    },
    {
     "name": "stderr",
     "output_type": "stream",
     "text": [
      "\n"
     ]
    },
    {
     "name": "stdout",
     "output_type": "stream",
     "text": [
      "\n",
      "      Epoch    GPU_mem   box_loss   cls_loss   dfl_loss  Instances       Size\n"
     ]
    },
    {
     "name": "stderr",
     "output_type": "stream",
     "text": [
      "    111/200      7.58G     0.3975     0.3048     0.6868        124        640: 100%|██████████| 5/5 [00:02<00:00,  2.38it/s]\n",
      "                 Class     Images  Instances      Box(P          R      mAP50  mAP50-95): 100%|██████████| 1/1 [00:00<00:00,  6.14it/s]"
     ]
    },
    {
     "name": "stdout",
     "output_type": "stream",
     "text": [
      "                   all         21        192      0.846      0.687      0.787      0.466\n"
     ]
    },
    {
     "name": "stderr",
     "output_type": "stream",
     "text": [
      "\n"
     ]
    },
    {
     "name": "stdout",
     "output_type": "stream",
     "text": [
      "\n",
      "      Epoch    GPU_mem   box_loss   cls_loss   dfl_loss  Instances       Size\n"
     ]
    },
    {
     "name": "stderr",
     "output_type": "stream",
     "text": [
      "    112/200      7.59G     0.3636     0.2971      0.683         79        640: 100%|██████████| 5/5 [00:02<00:00,  2.46it/s]\n",
      "                 Class     Images  Instances      Box(P          R      mAP50  mAP50-95): 100%|██████████| 1/1 [00:00<00:00,  6.06it/s]"
     ]
    },
    {
     "name": "stdout",
     "output_type": "stream",
     "text": [
      "                   all         21        192      0.829      0.655      0.763      0.437\n"
     ]
    },
    {
     "name": "stderr",
     "output_type": "stream",
     "text": [
      "\n"
     ]
    },
    {
     "name": "stdout",
     "output_type": "stream",
     "text": [
      "\n",
      "      Epoch    GPU_mem   box_loss   cls_loss   dfl_loss  Instances       Size\n"
     ]
    },
    {
     "name": "stderr",
     "output_type": "stream",
     "text": [
      "    113/200      7.47G     0.3894      0.315     0.7025        130        640: 100%|██████████| 5/5 [00:02<00:00,  2.44it/s]\n",
      "                 Class     Images  Instances      Box(P          R      mAP50  mAP50-95): 100%|██████████| 1/1 [00:00<00:00,  5.59it/s]"
     ]
    },
    {
     "name": "stdout",
     "output_type": "stream",
     "text": [
      "                   all         21        192      0.799      0.684      0.766       0.43\n"
     ]
    },
    {
     "name": "stderr",
     "output_type": "stream",
     "text": [
      "\n"
     ]
    },
    {
     "name": "stdout",
     "output_type": "stream",
     "text": [
      "\n",
      "      Epoch    GPU_mem   box_loss   cls_loss   dfl_loss  Instances       Size\n"
     ]
    },
    {
     "name": "stderr",
     "output_type": "stream",
     "text": [
      "    114/200      7.47G     0.4084     0.3079     0.6903        155        640: 100%|██████████| 5/5 [00:02<00:00,  2.41it/s]\n",
      "                 Class     Images  Instances      Box(P          R      mAP50  mAP50-95): 100%|██████████| 1/1 [00:00<00:00,  5.71it/s]\n"
     ]
    },
    {
     "name": "stdout",
     "output_type": "stream",
     "text": [
      "                   all         21        192      0.861      0.678      0.787      0.454\n",
      "\n",
      "      Epoch    GPU_mem   box_loss   cls_loss   dfl_loss  Instances       Size\n"
     ]
    },
    {
     "name": "stderr",
     "output_type": "stream",
     "text": [
      "    115/200      7.55G     0.4038     0.3092     0.6846        145        640: 100%|██████████| 5/5 [00:01<00:00,  2.60it/s]\n",
      "                 Class     Images  Instances      Box(P          R      mAP50  mAP50-95): 100%|██████████| 1/1 [00:00<00:00,  5.95it/s]\n"
     ]
    },
    {
     "name": "stdout",
     "output_type": "stream",
     "text": [
      "                   all         21        192      0.774      0.745      0.797      0.471\n",
      "\n",
      "      Epoch    GPU_mem   box_loss   cls_loss   dfl_loss  Instances       Size\n"
     ]
    },
    {
     "name": "stderr",
     "output_type": "stream",
     "text": [
      "    116/200      7.58G     0.4183      0.318     0.6869        170        640: 100%|██████████| 5/5 [00:02<00:00,  2.37it/s]\n",
      "                 Class     Images  Instances      Box(P          R      mAP50  mAP50-95): 100%|██████████| 1/1 [00:00<00:00,  5.64it/s]"
     ]
    },
    {
     "name": "stdout",
     "output_type": "stream",
     "text": [
      "                   all         21        192      0.832      0.703      0.807      0.472\n"
     ]
    },
    {
     "name": "stderr",
     "output_type": "stream",
     "text": [
      "\n"
     ]
    },
    {
     "name": "stdout",
     "output_type": "stream",
     "text": [
      "\n",
      "      Epoch    GPU_mem   box_loss   cls_loss   dfl_loss  Instances       Size\n"
     ]
    },
    {
     "name": "stderr",
     "output_type": "stream",
     "text": [
      "    117/200      7.49G     0.3871      0.315     0.6954        144        640: 100%|██████████| 5/5 [00:02<00:00,  2.47it/s]\n",
      "                 Class     Images  Instances      Box(P          R      mAP50  mAP50-95): 100%|██████████| 1/1 [00:00<00:00,  5.56it/s]"
     ]
    },
    {
     "name": "stdout",
     "output_type": "stream",
     "text": [
      "                   all         21        192      0.779      0.752      0.801      0.477\n"
     ]
    },
    {
     "name": "stderr",
     "output_type": "stream",
     "text": [
      "\n"
     ]
    },
    {
     "name": "stdout",
     "output_type": "stream",
     "text": [
      "\n",
      "      Epoch    GPU_mem   box_loss   cls_loss   dfl_loss  Instances       Size\n"
     ]
    },
    {
     "name": "stderr",
     "output_type": "stream",
     "text": [
      "    118/200      7.57G      0.334     0.2824     0.6859        156        640: 100%|██████████| 5/5 [00:01<00:00,  2.60it/s]\n",
      "                 Class     Images  Instances      Box(P          R      mAP50  mAP50-95): 100%|██████████| 1/1 [00:00<00:00,  5.75it/s]"
     ]
    },
    {
     "name": "stdout",
     "output_type": "stream",
     "text": [
      "                   all         21        192      0.919      0.656      0.801      0.475\n"
     ]
    },
    {
     "name": "stderr",
     "output_type": "stream",
     "text": [
      "\n"
     ]
    },
    {
     "name": "stdout",
     "output_type": "stream",
     "text": [
      "\n",
      "      Epoch    GPU_mem   box_loss   cls_loss   dfl_loss  Instances       Size\n"
     ]
    },
    {
     "name": "stderr",
     "output_type": "stream",
     "text": [
      "    119/200      7.58G     0.3507     0.2816     0.6793        123        640: 100%|██████████| 5/5 [00:01<00:00,  2.61it/s]\n",
      "                 Class     Images  Instances      Box(P          R      mAP50  mAP50-95): 100%|██████████| 1/1 [00:00<00:00,  6.02it/s]\n"
     ]
    },
    {
     "name": "stdout",
     "output_type": "stream",
     "text": [
      "                   all         21        192      0.864      0.703      0.803       0.48\n",
      "\n",
      "      Epoch    GPU_mem   box_loss   cls_loss   dfl_loss  Instances       Size\n"
     ]
    },
    {
     "name": "stderr",
     "output_type": "stream",
     "text": [
      "    120/200      7.36G     0.3533     0.2903     0.6782         53        640: 100%|██████████| 5/5 [00:02<00:00,  2.48it/s]\n",
      "                 Class     Images  Instances      Box(P          R      mAP50  mAP50-95): 100%|██████████| 1/1 [00:00<00:00,  6.10it/s]"
     ]
    },
    {
     "name": "stdout",
     "output_type": "stream",
     "text": [
      "                   all         21        192      0.788      0.703      0.768      0.438\n"
     ]
    },
    {
     "name": "stderr",
     "output_type": "stream",
     "text": [
      "\n"
     ]
    },
    {
     "name": "stdout",
     "output_type": "stream",
     "text": [
      "\n",
      "      Epoch    GPU_mem   box_loss   cls_loss   dfl_loss  Instances       Size\n"
     ]
    },
    {
     "name": "stderr",
     "output_type": "stream",
     "text": [
      "    121/200      7.44G     0.4057     0.3166     0.6939         96        640: 100%|██████████| 5/5 [00:02<00:00,  2.48it/s]\n",
      "                 Class     Images  Instances      Box(P          R      mAP50  mAP50-95): 100%|██████████| 1/1 [00:00<00:00,  5.78it/s]"
     ]
    },
    {
     "name": "stdout",
     "output_type": "stream",
     "text": [
      "                   all         21        192       0.78      0.719      0.768      0.438\n"
     ]
    },
    {
     "name": "stderr",
     "output_type": "stream",
     "text": [
      "\n"
     ]
    },
    {
     "name": "stdout",
     "output_type": "stream",
     "text": [
      "\n",
      "      Epoch    GPU_mem   box_loss   cls_loss   dfl_loss  Instances       Size\n"
     ]
    },
    {
     "name": "stderr",
     "output_type": "stream",
     "text": [
      "    122/200      7.61G     0.3742     0.2991     0.6861         50        640: 100%|██████████| 5/5 [00:02<00:00,  2.36it/s]\n",
      "                 Class     Images  Instances      Box(P          R      mAP50  mAP50-95): 100%|██████████| 1/1 [00:00<00:00,  5.05it/s]"
     ]
    },
    {
     "name": "stdout",
     "output_type": "stream",
     "text": [
      "                   all         21        192      0.817      0.672      0.763      0.433\n"
     ]
    },
    {
     "name": "stderr",
     "output_type": "stream",
     "text": [
      "\n"
     ]
    },
    {
     "name": "stdout",
     "output_type": "stream",
     "text": [
      "\n",
      "      Epoch    GPU_mem   box_loss   cls_loss   dfl_loss  Instances       Size\n"
     ]
    },
    {
     "name": "stderr",
     "output_type": "stream",
     "text": [
      "    123/200      7.54G     0.3855     0.3013       0.69        102        640: 100%|██████████| 5/5 [00:02<00:00,  2.41it/s]\n",
      "                 Class     Images  Instances      Box(P          R      mAP50  mAP50-95): 100%|██████████| 1/1 [00:00<00:00,  5.49it/s]"
     ]
    },
    {
     "name": "stdout",
     "output_type": "stream",
     "text": [
      "                   all         21        192        0.8      0.714      0.764      0.416\n"
     ]
    },
    {
     "name": "stderr",
     "output_type": "stream",
     "text": [
      "\n"
     ]
    },
    {
     "name": "stdout",
     "output_type": "stream",
     "text": [
      "\n",
      "      Epoch    GPU_mem   box_loss   cls_loss   dfl_loss  Instances       Size\n"
     ]
    },
    {
     "name": "stderr",
     "output_type": "stream",
     "text": [
      "    124/200       7.4G     0.3907     0.3035     0.6857        179        640: 100%|██████████| 5/5 [00:01<00:00,  2.55it/s]\n",
      "                 Class     Images  Instances      Box(P          R      mAP50  mAP50-95): 100%|██████████| 1/1 [00:00<00:00,  5.68it/s]"
     ]
    },
    {
     "name": "stdout",
     "output_type": "stream",
     "text": [
      "                   all         21        192      0.858      0.724      0.804      0.463\n"
     ]
    },
    {
     "name": "stderr",
     "output_type": "stream",
     "text": [
      "\n"
     ]
    },
    {
     "name": "stdout",
     "output_type": "stream",
     "text": [
      "\n",
      "      Epoch    GPU_mem   box_loss   cls_loss   dfl_loss  Instances       Size\n"
     ]
    },
    {
     "name": "stderr",
     "output_type": "stream",
     "text": [
      "    125/200      7.39G     0.4116     0.3159     0.6864         72        640: 100%|██████████| 5/5 [00:02<00:00,  2.39it/s]\n",
      "                 Class     Images  Instances      Box(P          R      mAP50  mAP50-95): 100%|██████████| 1/1 [00:00<00:00,  5.75it/s]"
     ]
    },
    {
     "name": "stdout",
     "output_type": "stream",
     "text": [
      "                   all         21        192      0.861      0.709       0.81      0.475\n"
     ]
    },
    {
     "name": "stderr",
     "output_type": "stream",
     "text": [
      "\n"
     ]
    },
    {
     "name": "stdout",
     "output_type": "stream",
     "text": [
      "\n",
      "      Epoch    GPU_mem   box_loss   cls_loss   dfl_loss  Instances       Size\n"
     ]
    },
    {
     "name": "stderr",
     "output_type": "stream",
     "text": [
      "    126/200      7.47G     0.3736      0.295     0.6789        127        640: 100%|██████████| 5/5 [00:01<00:00,  2.57it/s]\n",
      "                 Class     Images  Instances      Box(P          R      mAP50  mAP50-95): 100%|██████████| 1/1 [00:00<00:00,  5.95it/s]"
     ]
    },
    {
     "name": "stdout",
     "output_type": "stream",
     "text": [
      "                   all         21        192      0.813      0.702      0.798      0.458\n"
     ]
    },
    {
     "name": "stderr",
     "output_type": "stream",
     "text": [
      "\n"
     ]
    },
    {
     "name": "stdout",
     "output_type": "stream",
     "text": [
      "\n",
      "      Epoch    GPU_mem   box_loss   cls_loss   dfl_loss  Instances       Size\n"
     ]
    },
    {
     "name": "stderr",
     "output_type": "stream",
     "text": [
      "    127/200      7.47G     0.4239     0.3245     0.7112        142        640: 100%|██████████| 5/5 [00:02<00:00,  2.48it/s]\n",
      "                 Class     Images  Instances      Box(P          R      mAP50  mAP50-95): 100%|██████████| 1/1 [00:00<00:00,  5.75it/s]"
     ]
    },
    {
     "name": "stdout",
     "output_type": "stream",
     "text": [
      "                   all         21        192      0.837      0.721      0.821      0.482\n"
     ]
    },
    {
     "name": "stderr",
     "output_type": "stream",
     "text": [
      "\n"
     ]
    },
    {
     "name": "stdout",
     "output_type": "stream",
     "text": [
      "\n",
      "      Epoch    GPU_mem   box_loss   cls_loss   dfl_loss  Instances       Size\n"
     ]
    },
    {
     "name": "stderr",
     "output_type": "stream",
     "text": [
      "    128/200      7.63G     0.3451      0.281     0.6729        107        640: 100%|██████████| 5/5 [00:01<00:00,  2.55it/s]\n",
      "                 Class     Images  Instances      Box(P          R      mAP50  mAP50-95): 100%|██████████| 1/1 [00:00<00:00,  5.78it/s]"
     ]
    },
    {
     "name": "stdout",
     "output_type": "stream",
     "text": [
      "                   all         21        192      0.874      0.723      0.836       0.49\n"
     ]
    },
    {
     "name": "stderr",
     "output_type": "stream",
     "text": [
      "\n"
     ]
    },
    {
     "name": "stdout",
     "output_type": "stream",
     "text": [
      "\n",
      "      Epoch    GPU_mem   box_loss   cls_loss   dfl_loss  Instances       Size\n"
     ]
    },
    {
     "name": "stderr",
     "output_type": "stream",
     "text": [
      "    129/200      7.52G     0.3602     0.2887     0.6697         72        640: 100%|██████████| 5/5 [00:02<00:00,  2.41it/s]\n",
      "                 Class     Images  Instances      Box(P          R      mAP50  mAP50-95): 100%|██████████| 1/1 [00:00<00:00,  5.52it/s]"
     ]
    },
    {
     "name": "stdout",
     "output_type": "stream",
     "text": [
      "                   all         21        192      0.857       0.72      0.829      0.495\n"
     ]
    },
    {
     "name": "stderr",
     "output_type": "stream",
     "text": [
      "\n"
     ]
    },
    {
     "name": "stdout",
     "output_type": "stream",
     "text": [
      "\n",
      "      Epoch    GPU_mem   box_loss   cls_loss   dfl_loss  Instances       Size\n"
     ]
    },
    {
     "name": "stderr",
     "output_type": "stream",
     "text": [
      "    130/200      7.65G     0.3705     0.2899     0.6703        105        640: 100%|██████████| 5/5 [00:02<00:00,  2.34it/s]\n",
      "                 Class     Images  Instances      Box(P          R      mAP50  mAP50-95): 100%|██████████| 1/1 [00:00<00:00,  5.49it/s]"
     ]
    },
    {
     "name": "stdout",
     "output_type": "stream",
     "text": [
      "                   all         21        192      0.825       0.75      0.836      0.508\n"
     ]
    },
    {
     "name": "stderr",
     "output_type": "stream",
     "text": [
      "\n"
     ]
    },
    {
     "name": "stdout",
     "output_type": "stream",
     "text": [
      "\n",
      "      Epoch    GPU_mem   box_loss   cls_loss   dfl_loss  Instances       Size\n"
     ]
    },
    {
     "name": "stderr",
     "output_type": "stream",
     "text": [
      "    131/200       7.6G     0.3315     0.2707     0.6607         60        640: 100%|██████████| 5/5 [00:02<00:00,  2.32it/s]\n",
      "                 Class     Images  Instances      Box(P          R      mAP50  mAP50-95): 100%|██████████| 1/1 [00:00<00:00,  5.81it/s]"
     ]
    },
    {
     "name": "stdout",
     "output_type": "stream",
     "text": [
      "                   all         21        192      0.827       0.76      0.836      0.508\n"
     ]
    },
    {
     "name": "stderr",
     "output_type": "stream",
     "text": [
      "\n"
     ]
    },
    {
     "name": "stdout",
     "output_type": "stream",
     "text": [
      "\n",
      "      Epoch    GPU_mem   box_loss   cls_loss   dfl_loss  Instances       Size\n"
     ]
    },
    {
     "name": "stderr",
     "output_type": "stream",
     "text": [
      "    132/200      7.56G     0.3733     0.2868     0.6789        172        640: 100%|██████████| 5/5 [00:02<00:00,  2.46it/s]\n",
      "                 Class     Images  Instances      Box(P          R      mAP50  mAP50-95): 100%|██████████| 1/1 [00:00<00:00,  5.38it/s]"
     ]
    },
    {
     "name": "stdout",
     "output_type": "stream",
     "text": [
      "                   all         21        192      0.831      0.719      0.821      0.489\n"
     ]
    },
    {
     "name": "stderr",
     "output_type": "stream",
     "text": [
      "\n"
     ]
    },
    {
     "name": "stdout",
     "output_type": "stream",
     "text": [
      "\n",
      "      Epoch    GPU_mem   box_loss   cls_loss   dfl_loss  Instances       Size\n"
     ]
    },
    {
     "name": "stderr",
     "output_type": "stream",
     "text": [
      "    133/200      7.37G     0.3166     0.2544     0.6702        138        640: 100%|██████████| 5/5 [00:02<00:00,  2.27it/s]\n",
      "                 Class     Images  Instances      Box(P          R      mAP50  mAP50-95): 100%|██████████| 1/1 [00:00<00:00,  5.65it/s]"
     ]
    },
    {
     "name": "stdout",
     "output_type": "stream",
     "text": [
      "                   all         21        192      0.837      0.734      0.827      0.511\n"
     ]
    },
    {
     "name": "stderr",
     "output_type": "stream",
     "text": [
      "\n"
     ]
    },
    {
     "name": "stdout",
     "output_type": "stream",
     "text": [
      "\n",
      "      Epoch    GPU_mem   box_loss   cls_loss   dfl_loss  Instances       Size\n"
     ]
    },
    {
     "name": "stderr",
     "output_type": "stream",
     "text": [
      "    134/200       7.5G     0.3418     0.2807     0.6746         77        640: 100%|██████████| 5/5 [00:02<00:00,  2.41it/s]\n",
      "                 Class     Images  Instances      Box(P          R      mAP50  mAP50-95): 100%|██████████| 1/1 [00:00<00:00,  5.65it/s]"
     ]
    },
    {
     "name": "stdout",
     "output_type": "stream",
     "text": [
      "                   all         21        192       0.79       0.76      0.823      0.511\n"
     ]
    },
    {
     "name": "stderr",
     "output_type": "stream",
     "text": [
      "\n"
     ]
    },
    {
     "name": "stdout",
     "output_type": "stream",
     "text": [
      "\n",
      "      Epoch    GPU_mem   box_loss   cls_loss   dfl_loss  Instances       Size\n"
     ]
    },
    {
     "name": "stderr",
     "output_type": "stream",
     "text": [
      "    135/200      7.55G     0.3628     0.2737     0.6761        136        640: 100%|██████████| 5/5 [00:02<00:00,  2.34it/s]\n",
      "                 Class     Images  Instances      Box(P          R      mAP50  mAP50-95): 100%|██████████| 1/1 [00:00<00:00,  5.85it/s]"
     ]
    },
    {
     "name": "stdout",
     "output_type": "stream",
     "text": [
      "                   all         21        192      0.813      0.745      0.821      0.507\n"
     ]
    },
    {
     "name": "stderr",
     "output_type": "stream",
     "text": [
      "\n"
     ]
    },
    {
     "name": "stdout",
     "output_type": "stream",
     "text": [
      "\n",
      "      Epoch    GPU_mem   box_loss   cls_loss   dfl_loss  Instances       Size\n"
     ]
    },
    {
     "name": "stderr",
     "output_type": "stream",
     "text": [
      "    136/200      7.52G     0.3451     0.2692     0.6746         84        640: 100%|██████████| 5/5 [00:02<00:00,  2.38it/s]\n",
      "                 Class     Images  Instances      Box(P          R      mAP50  mAP50-95): 100%|██████████| 1/1 [00:00<00:00,  5.65it/s]"
     ]
    },
    {
     "name": "stdout",
     "output_type": "stream",
     "text": [
      "                   all         21        192      0.793       0.75      0.821       0.52\n"
     ]
    },
    {
     "name": "stderr",
     "output_type": "stream",
     "text": [
      "\n"
     ]
    },
    {
     "name": "stdout",
     "output_type": "stream",
     "text": [
      "\n",
      "      Epoch    GPU_mem   box_loss   cls_loss   dfl_loss  Instances       Size\n"
     ]
    },
    {
     "name": "stderr",
     "output_type": "stream",
     "text": [
      "    137/200      7.52G     0.3367     0.2666     0.6696        102        640: 100%|██████████| 5/5 [00:02<00:00,  2.24it/s]\n",
      "                 Class     Images  Instances      Box(P          R      mAP50  mAP50-95): 100%|██████████| 1/1 [00:00<00:00,  5.24it/s]"
     ]
    },
    {
     "name": "stdout",
     "output_type": "stream",
     "text": [
      "                   all         21        192      0.833      0.714      0.829      0.519\n"
     ]
    },
    {
     "name": "stderr",
     "output_type": "stream",
     "text": [
      "\n"
     ]
    },
    {
     "name": "stdout",
     "output_type": "stream",
     "text": [
      "\n",
      "      Epoch    GPU_mem   box_loss   cls_loss   dfl_loss  Instances       Size\n"
     ]
    },
    {
     "name": "stderr",
     "output_type": "stream",
     "text": [
      "    138/200      7.37G     0.3613     0.2839     0.6792        106        640: 100%|██████████| 5/5 [00:02<00:00,  2.25it/s]\n",
      "                 Class     Images  Instances      Box(P          R      mAP50  mAP50-95): 100%|██████████| 1/1 [00:00<00:00,  5.50it/s]"
     ]
    },
    {
     "name": "stdout",
     "output_type": "stream",
     "text": [
      "                   all         21        192      0.864      0.682        0.8      0.492\n"
     ]
    },
    {
     "name": "stderr",
     "output_type": "stream",
     "text": [
      "\n"
     ]
    },
    {
     "name": "stdout",
     "output_type": "stream",
     "text": [
      "\n",
      "      Epoch    GPU_mem   box_loss   cls_loss   dfl_loss  Instances       Size\n"
     ]
    },
    {
     "name": "stderr",
     "output_type": "stream",
     "text": [
      "    139/200      7.64G     0.3457     0.2726     0.6784        146        640: 100%|██████████| 5/5 [00:02<00:00,  2.26it/s]\n",
      "                 Class     Images  Instances      Box(P          R      mAP50  mAP50-95): 100%|██████████| 1/1 [00:00<00:00,  5.39it/s]"
     ]
    },
    {
     "name": "stdout",
     "output_type": "stream",
     "text": [
      "                   all         21        192      0.831      0.693      0.793      0.485\n"
     ]
    },
    {
     "name": "stderr",
     "output_type": "stream",
     "text": [
      "\n"
     ]
    },
    {
     "name": "stdout",
     "output_type": "stream",
     "text": [
      "\n",
      "      Epoch    GPU_mem   box_loss   cls_loss   dfl_loss  Instances       Size\n"
     ]
    },
    {
     "name": "stderr",
     "output_type": "stream",
     "text": [
      "    140/200      7.63G     0.3125      0.249     0.6682        189        640: 100%|██████████| 5/5 [00:02<00:00,  2.44it/s]\n",
      "                 Class     Images  Instances      Box(P          R      mAP50  mAP50-95): 100%|██████████| 1/1 [00:00<00:00,  5.49it/s]"
     ]
    },
    {
     "name": "stdout",
     "output_type": "stream",
     "text": [
      "                   all         21        192      0.901      0.714      0.832      0.517\n"
     ]
    },
    {
     "name": "stderr",
     "output_type": "stream",
     "text": [
      "\n"
     ]
    },
    {
     "name": "stdout",
     "output_type": "stream",
     "text": [
      "\n",
      "      Epoch    GPU_mem   box_loss   cls_loss   dfl_loss  Instances       Size\n"
     ]
    },
    {
     "name": "stderr",
     "output_type": "stream",
     "text": [
      "    141/200      7.44G     0.3343      0.265     0.6764        111        640: 100%|██████████| 5/5 [00:02<00:00,  2.29it/s]\n",
      "                 Class     Images  Instances      Box(P          R      mAP50  mAP50-95): 100%|██████████| 1/1 [00:00<00:00,  5.49it/s]\n"
     ]
    },
    {
     "name": "stdout",
     "output_type": "stream",
     "text": [
      "                   all         21        192       0.87      0.708      0.822      0.491\n",
      "\n",
      "      Epoch    GPU_mem   box_loss   cls_loss   dfl_loss  Instances       Size\n"
     ]
    },
    {
     "name": "stderr",
     "output_type": "stream",
     "text": [
      "    142/200      7.59G     0.3252     0.2604     0.6692        102        640: 100%|██████████| 5/5 [00:02<00:00,  2.46it/s]\n",
      "                 Class     Images  Instances      Box(P          R      mAP50  mAP50-95): 100%|██████████| 1/1 [00:00<00:00,  5.38it/s]"
     ]
    },
    {
     "name": "stdout",
     "output_type": "stream",
     "text": [
      "                   all         21        192       0.84      0.729      0.814      0.491\n"
     ]
    },
    {
     "name": "stderr",
     "output_type": "stream",
     "text": [
      "\n"
     ]
    },
    {
     "name": "stdout",
     "output_type": "stream",
     "text": [
      "\n",
      "      Epoch    GPU_mem   box_loss   cls_loss   dfl_loss  Instances       Size\n"
     ]
    },
    {
     "name": "stderr",
     "output_type": "stream",
     "text": [
      "    143/200      7.55G     0.3498     0.2724     0.6706        112        640: 100%|██████████| 5/5 [00:02<00:00,  2.30it/s]\n",
      "                 Class     Images  Instances      Box(P          R      mAP50  mAP50-95): 100%|██████████| 1/1 [00:00<00:00,  5.52it/s]"
     ]
    },
    {
     "name": "stdout",
     "output_type": "stream",
     "text": [
      "                   all         21        192      0.865      0.731      0.825      0.507\n"
     ]
    },
    {
     "name": "stderr",
     "output_type": "stream",
     "text": [
      "\n"
     ]
    },
    {
     "name": "stdout",
     "output_type": "stream",
     "text": [
      "\n",
      "      Epoch    GPU_mem   box_loss   cls_loss   dfl_loss  Instances       Size\n"
     ]
    },
    {
     "name": "stderr",
     "output_type": "stream",
     "text": [
      "    144/200      7.54G     0.3041     0.2605     0.6646         86        640: 100%|██████████| 5/5 [00:02<00:00,  2.45it/s]\n",
      "                 Class     Images  Instances      Box(P          R      mAP50  mAP50-95): 100%|██████████| 1/1 [00:00<00:00,  5.59it/s]"
     ]
    },
    {
     "name": "stdout",
     "output_type": "stream",
     "text": [
      "                   all         21        192      0.862      0.719      0.829      0.502\n"
     ]
    },
    {
     "name": "stderr",
     "output_type": "stream",
     "text": [
      "\n"
     ]
    },
    {
     "name": "stdout",
     "output_type": "stream",
     "text": [
      "\n",
      "      Epoch    GPU_mem   box_loss   cls_loss   dfl_loss  Instances       Size\n"
     ]
    },
    {
     "name": "stderr",
     "output_type": "stream",
     "text": [
      "    145/200      7.49G     0.3276     0.2611     0.6647         93        640: 100%|██████████| 5/5 [00:02<00:00,  2.27it/s]\n",
      "                 Class     Images  Instances      Box(P          R      mAP50  mAP50-95): 100%|██████████| 1/1 [00:00<00:00,  5.52it/s]"
     ]
    },
    {
     "name": "stdout",
     "output_type": "stream",
     "text": [
      "                   all         21        192      0.852       0.72       0.82      0.509\n"
     ]
    },
    {
     "name": "stderr",
     "output_type": "stream",
     "text": [
      "\n"
     ]
    },
    {
     "name": "stdout",
     "output_type": "stream",
     "text": [
      "\n",
      "      Epoch    GPU_mem   box_loss   cls_loss   dfl_loss  Instances       Size\n"
     ]
    },
    {
     "name": "stderr",
     "output_type": "stream",
     "text": [
      "    146/200      7.56G     0.3294     0.2575     0.6571        123        640: 100%|██████████| 5/5 [00:02<00:00,  2.28it/s]\n",
      "                 Class     Images  Instances      Box(P          R      mAP50  mAP50-95): 100%|██████████| 1/1 [00:00<00:00,  5.49it/s]"
     ]
    },
    {
     "name": "stdout",
     "output_type": "stream",
     "text": [
      "                   all         21        192      0.846      0.742      0.831       0.53\n"
     ]
    },
    {
     "name": "stderr",
     "output_type": "stream",
     "text": [
      "\n"
     ]
    },
    {
     "name": "stdout",
     "output_type": "stream",
     "text": [
      "\n",
      "      Epoch    GPU_mem   box_loss   cls_loss   dfl_loss  Instances       Size\n"
     ]
    },
    {
     "name": "stderr",
     "output_type": "stream",
     "text": [
      "    147/200      7.42G     0.3029     0.2476     0.6645         95        640: 100%|██████████| 5/5 [00:02<00:00,  2.48it/s]\n",
      "                 Class     Images  Instances      Box(P          R      mAP50  mAP50-95): 100%|██████████| 1/1 [00:00<00:00,  5.41it/s]"
     ]
    },
    {
     "name": "stdout",
     "output_type": "stream",
     "text": [
      "                   all         21        192      0.848      0.771      0.842       0.53\n"
     ]
    },
    {
     "name": "stderr",
     "output_type": "stream",
     "text": [
      "\n"
     ]
    },
    {
     "name": "stdout",
     "output_type": "stream",
     "text": [
      "\n",
      "      Epoch    GPU_mem   box_loss   cls_loss   dfl_loss  Instances       Size\n"
     ]
    },
    {
     "name": "stderr",
     "output_type": "stream",
     "text": [
      "    148/200      7.56G     0.2985     0.2442     0.6549        120        640: 100%|██████████| 5/5 [00:02<00:00,  2.21it/s]\n",
      "                 Class     Images  Instances      Box(P          R      mAP50  mAP50-95): 100%|██████████| 1/1 [00:00<00:00,  5.43it/s]"
     ]
    },
    {
     "name": "stdout",
     "output_type": "stream",
     "text": [
      "                   all         21        192      0.891      0.714      0.821      0.512\n"
     ]
    },
    {
     "name": "stderr",
     "output_type": "stream",
     "text": [
      "\n"
     ]
    },
    {
     "name": "stdout",
     "output_type": "stream",
     "text": [
      "\n",
      "      Epoch    GPU_mem   box_loss   cls_loss   dfl_loss  Instances       Size\n"
     ]
    },
    {
     "name": "stderr",
     "output_type": "stream",
     "text": [
      "    149/200      7.47G     0.3245       0.26     0.6599         83        640: 100%|██████████| 5/5 [00:02<00:00,  2.29it/s]\n",
      "                 Class     Images  Instances      Box(P          R      mAP50  mAP50-95): 100%|██████████| 1/1 [00:00<00:00,  5.81it/s]"
     ]
    },
    {
     "name": "stdout",
     "output_type": "stream",
     "text": [
      "                   all         21        192      0.881      0.698      0.815       0.52\n"
     ]
    },
    {
     "name": "stderr",
     "output_type": "stream",
     "text": [
      "\n"
     ]
    },
    {
     "name": "stdout",
     "output_type": "stream",
     "text": [
      "\n",
      "      Epoch    GPU_mem   box_loss   cls_loss   dfl_loss  Instances       Size\n"
     ]
    },
    {
     "name": "stderr",
     "output_type": "stream",
     "text": [
      "    150/200      7.65G     0.3253     0.2603     0.6616         83        640: 100%|██████████| 5/5 [00:02<00:00,  2.27it/s]\n",
      "                 Class     Images  Instances      Box(P          R      mAP50  mAP50-95): 100%|██████████| 1/1 [00:00<00:00,  5.68it/s]"
     ]
    },
    {
     "name": "stdout",
     "output_type": "stream",
     "text": [
      "                   all         21        192      0.894      0.693      0.827       0.52\n"
     ]
    },
    {
     "name": "stderr",
     "output_type": "stream",
     "text": [
      "\n"
     ]
    },
    {
     "name": "stdout",
     "output_type": "stream",
     "text": [
      "\n",
      "      Epoch    GPU_mem   box_loss   cls_loss   dfl_loss  Instances       Size\n"
     ]
    },
    {
     "name": "stderr",
     "output_type": "stream",
     "text": [
      "    151/200      7.52G     0.2943     0.2484     0.6688         93        640: 100%|██████████| 5/5 [00:02<00:00,  2.46it/s]\n",
      "                 Class     Images  Instances      Box(P          R      mAP50  mAP50-95): 100%|██████████| 1/1 [00:00<00:00,  5.49it/s]"
     ]
    },
    {
     "name": "stdout",
     "output_type": "stream",
     "text": [
      "                   all         21        192      0.904      0.688      0.818      0.503\n"
     ]
    },
    {
     "name": "stderr",
     "output_type": "stream",
     "text": [
      "\n"
     ]
    },
    {
     "name": "stdout",
     "output_type": "stream",
     "text": [
      "\n",
      "      Epoch    GPU_mem   box_loss   cls_loss   dfl_loss  Instances       Size\n"
     ]
    },
    {
     "name": "stderr",
     "output_type": "stream",
     "text": [
      "    152/200      7.45G     0.3007     0.2436     0.6666        103        640: 100%|██████████| 5/5 [00:02<00:00,  2.29it/s]\n",
      "                 Class     Images  Instances      Box(P          R      mAP50  mAP50-95): 100%|██████████| 1/1 [00:00<00:00,  5.38it/s]"
     ]
    },
    {
     "name": "stdout",
     "output_type": "stream",
     "text": [
      "                   all         21        192      0.873      0.716      0.822      0.514\n"
     ]
    },
    {
     "name": "stderr",
     "output_type": "stream",
     "text": [
      "\n"
     ]
    },
    {
     "name": "stdout",
     "output_type": "stream",
     "text": [
      "\n",
      "      Epoch    GPU_mem   box_loss   cls_loss   dfl_loss  Instances       Size\n"
     ]
    },
    {
     "name": "stderr",
     "output_type": "stream",
     "text": [
      "    153/200      7.51G     0.3104     0.2535     0.6616         83        640: 100%|██████████| 5/5 [00:02<00:00,  2.47it/s]\n",
      "                 Class     Images  Instances      Box(P          R      mAP50  mAP50-95): 100%|██████████| 1/1 [00:00<00:00,  5.65it/s]\n"
     ]
    },
    {
     "name": "stdout",
     "output_type": "stream",
     "text": [
      "                   all         21        192      0.834      0.733      0.826      0.514\n",
      "\n",
      "      Epoch    GPU_mem   box_loss   cls_loss   dfl_loss  Instances       Size\n"
     ]
    },
    {
     "name": "stderr",
     "output_type": "stream",
     "text": [
      "    154/200      7.56G     0.3091     0.2531     0.6656        127        640: 100%|██████████| 5/5 [00:02<00:00,  2.37it/s]\n",
      "                 Class     Images  Instances      Box(P          R      mAP50  mAP50-95): 100%|██████████| 1/1 [00:00<00:00,  5.62it/s]"
     ]
    },
    {
     "name": "stdout",
     "output_type": "stream",
     "text": [
      "                   all         21        192      0.874      0.687      0.814      0.497\n"
     ]
    },
    {
     "name": "stderr",
     "output_type": "stream",
     "text": [
      "\n"
     ]
    },
    {
     "name": "stdout",
     "output_type": "stream",
     "text": [
      "\n",
      "      Epoch    GPU_mem   box_loss   cls_loss   dfl_loss  Instances       Size\n"
     ]
    },
    {
     "name": "stderr",
     "output_type": "stream",
     "text": [
      "    155/200      7.61G     0.3104      0.257     0.6706        145        640: 100%|██████████| 5/5 [00:02<00:00,  2.31it/s]\n",
      "                 Class     Images  Instances      Box(P          R      mAP50  mAP50-95): 100%|██████████| 1/1 [00:00<00:00,  5.52it/s]"
     ]
    },
    {
     "name": "stdout",
     "output_type": "stream",
     "text": [
      "                   all         21        192      0.799      0.766      0.834      0.515\n"
     ]
    },
    {
     "name": "stderr",
     "output_type": "stream",
     "text": [
      "\n"
     ]
    },
    {
     "name": "stdout",
     "output_type": "stream",
     "text": [
      "\n",
      "      Epoch    GPU_mem   box_loss   cls_loss   dfl_loss  Instances       Size\n"
     ]
    },
    {
     "name": "stderr",
     "output_type": "stream",
     "text": [
      "    156/200      7.52G     0.3071     0.2475      0.663        176        640: 100%|██████████| 5/5 [00:02<00:00,  2.46it/s]\n",
      "                 Class     Images  Instances      Box(P          R      mAP50  mAP50-95): 100%|██████████| 1/1 [00:00<00:00,  5.88it/s]"
     ]
    },
    {
     "name": "stdout",
     "output_type": "stream",
     "text": [
      "                   all         21        192      0.901      0.712      0.824      0.517\n"
     ]
    },
    {
     "name": "stderr",
     "output_type": "stream",
     "text": [
      "\n"
     ]
    },
    {
     "name": "stdout",
     "output_type": "stream",
     "text": [
      "\n",
      "      Epoch    GPU_mem   box_loss   cls_loss   dfl_loss  Instances       Size\n"
     ]
    },
    {
     "name": "stderr",
     "output_type": "stream",
     "text": [
      "    157/200      7.47G     0.2976     0.2447     0.6621         96        640: 100%|██████████| 5/5 [00:02<00:00,  2.26it/s]\n",
      "                 Class     Images  Instances      Box(P          R      mAP50  mAP50-95): 100%|██████████| 1/1 [00:00<00:00,  5.43it/s]"
     ]
    },
    {
     "name": "stdout",
     "output_type": "stream",
     "text": [
      "                   all         21        192      0.891      0.708      0.823      0.509\n"
     ]
    },
    {
     "name": "stderr",
     "output_type": "stream",
     "text": [
      "\n"
     ]
    },
    {
     "name": "stdout",
     "output_type": "stream",
     "text": [
      "\n",
      "      Epoch    GPU_mem   box_loss   cls_loss   dfl_loss  Instances       Size\n"
     ]
    },
    {
     "name": "stderr",
     "output_type": "stream",
     "text": [
      "    158/200      7.61G     0.3342     0.2649     0.6764        102        640: 100%|██████████| 5/5 [00:02<00:00,  2.45it/s]\n",
      "                 Class     Images  Instances      Box(P          R      mAP50  mAP50-95): 100%|██████████| 1/1 [00:00<00:00,  5.59it/s]"
     ]
    },
    {
     "name": "stdout",
     "output_type": "stream",
     "text": [
      "                   all         21        192       0.88      0.714       0.82      0.509\n"
     ]
    },
    {
     "name": "stderr",
     "output_type": "stream",
     "text": [
      "\n"
     ]
    },
    {
     "name": "stdout",
     "output_type": "stream",
     "text": [
      "\n",
      "      Epoch    GPU_mem   box_loss   cls_loss   dfl_loss  Instances       Size\n"
     ]
    },
    {
     "name": "stderr",
     "output_type": "stream",
     "text": [
      "    159/200      7.59G     0.3133     0.2578      0.673        129        640: 100%|██████████| 5/5 [00:02<00:00,  2.45it/s]\n",
      "                 Class     Images  Instances      Box(P          R      mAP50  mAP50-95): 100%|██████████| 1/1 [00:00<00:00,  5.55it/s]"
     ]
    },
    {
     "name": "stdout",
     "output_type": "stream",
     "text": [
      "                   all         21        192      0.856       0.74      0.824      0.498\n"
     ]
    },
    {
     "name": "stderr",
     "output_type": "stream",
     "text": [
      "\n"
     ]
    },
    {
     "name": "stdout",
     "output_type": "stream",
     "text": [
      "\n",
      "      Epoch    GPU_mem   box_loss   cls_loss   dfl_loss  Instances       Size\n"
     ]
    },
    {
     "name": "stderr",
     "output_type": "stream",
     "text": [
      "    160/200      7.55G     0.3263     0.2573     0.6647         91        640: 100%|██████████| 5/5 [00:02<00:00,  2.44it/s]\n",
      "                 Class     Images  Instances      Box(P          R      mAP50  mAP50-95): 100%|██████████| 1/1 [00:00<00:00,  5.65it/s]\n"
     ]
    },
    {
     "name": "stdout",
     "output_type": "stream",
     "text": [
      "                   all         21        192      0.862       0.75      0.816      0.494\n",
      "\n",
      "      Epoch    GPU_mem   box_loss   cls_loss   dfl_loss  Instances       Size\n"
     ]
    },
    {
     "name": "stderr",
     "output_type": "stream",
     "text": [
      "    161/200      7.49G     0.3031     0.2469       0.66        113        640: 100%|██████████| 5/5 [00:01<00:00,  2.52it/s]\n",
      "                 Class     Images  Instances      Box(P          R      mAP50  mAP50-95): 100%|██████████| 1/1 [00:00<00:00,  5.46it/s]"
     ]
    },
    {
     "name": "stdout",
     "output_type": "stream",
     "text": [
      "                   all         21        192      0.859       0.74      0.801      0.485\n"
     ]
    },
    {
     "name": "stderr",
     "output_type": "stream",
     "text": [
      "\n"
     ]
    },
    {
     "name": "stdout",
     "output_type": "stream",
     "text": [
      "\n",
      "      Epoch    GPU_mem   box_loss   cls_loss   dfl_loss  Instances       Size\n"
     ]
    },
    {
     "name": "stderr",
     "output_type": "stream",
     "text": [
      "    162/200       7.5G     0.2973     0.2478     0.6609         65        640: 100%|██████████| 5/5 [00:02<00:00,  2.44it/s]\n",
      "                 Class     Images  Instances      Box(P          R      mAP50  mAP50-95): 100%|██████████| 1/1 [00:00<00:00,  5.43it/s]"
     ]
    },
    {
     "name": "stdout",
     "output_type": "stream",
     "text": [
      "                   all         21        192      0.848      0.745      0.802      0.484\n"
     ]
    },
    {
     "name": "stderr",
     "output_type": "stream",
     "text": [
      "\n"
     ]
    },
    {
     "name": "stdout",
     "output_type": "stream",
     "text": [
      "\n",
      "      Epoch    GPU_mem   box_loss   cls_loss   dfl_loss  Instances       Size\n"
     ]
    },
    {
     "name": "stderr",
     "output_type": "stream",
     "text": [
      "    163/200      7.35G     0.2925     0.2385     0.6544        128        640: 100%|██████████| 5/5 [00:01<00:00,  2.55it/s]\n",
      "                 Class     Images  Instances      Box(P          R      mAP50  mAP50-95): 100%|██████████| 1/1 [00:00<00:00,  5.46it/s]\n"
     ]
    },
    {
     "name": "stdout",
     "output_type": "stream",
     "text": [
      "                   all         21        192      0.866      0.738      0.809      0.492\n",
      "\n",
      "      Epoch    GPU_mem   box_loss   cls_loss   dfl_loss  Instances       Size\n"
     ]
    },
    {
     "name": "stderr",
     "output_type": "stream",
     "text": [
      "    164/200      7.43G     0.3113     0.2527     0.6566        139        640: 100%|██████████| 5/5 [00:02<00:00,  2.36it/s]\n",
      "                 Class     Images  Instances      Box(P          R      mAP50  mAP50-95): 100%|██████████| 1/1 [00:00<00:00,  5.43it/s]"
     ]
    },
    {
     "name": "stdout",
     "output_type": "stream",
     "text": [
      "                   all         21        192      0.885      0.722      0.818      0.496\n"
     ]
    },
    {
     "name": "stderr",
     "output_type": "stream",
     "text": [
      "\n"
     ]
    },
    {
     "name": "stdout",
     "output_type": "stream",
     "text": [
      "\n",
      "      Epoch    GPU_mem   box_loss   cls_loss   dfl_loss  Instances       Size\n"
     ]
    },
    {
     "name": "stderr",
     "output_type": "stream",
     "text": [
      "    165/200       7.5G     0.2843     0.2332     0.6603         48        640: 100%|██████████| 5/5 [00:01<00:00,  2.54it/s]\n",
      "                 Class     Images  Instances      Box(P          R      mAP50  mAP50-95): 100%|██████████| 1/1 [00:00<00:00,  5.78it/s]"
     ]
    },
    {
     "name": "stdout",
     "output_type": "stream",
     "text": [
      "                   all         21        192      0.906      0.724      0.825      0.513\n"
     ]
    },
    {
     "name": "stderr",
     "output_type": "stream",
     "text": [
      "\n"
     ]
    },
    {
     "name": "stdout",
     "output_type": "stream",
     "text": [
      "\n",
      "      Epoch    GPU_mem   box_loss   cls_loss   dfl_loss  Instances       Size\n"
     ]
    },
    {
     "name": "stderr",
     "output_type": "stream",
     "text": [
      "    166/200      7.49G     0.2929     0.2495      0.658         75        640: 100%|██████████| 5/5 [00:02<00:00,  2.44it/s]\n",
      "                 Class     Images  Instances      Box(P          R      mAP50  mAP50-95): 100%|██████████| 1/1 [00:00<00:00,  5.43it/s]"
     ]
    },
    {
     "name": "stdout",
     "output_type": "stream",
     "text": [
      "                   all         21        192      0.907      0.711      0.825      0.509\n"
     ]
    },
    {
     "name": "stderr",
     "output_type": "stream",
     "text": [
      "\n"
     ]
    },
    {
     "name": "stdout",
     "output_type": "stream",
     "text": [
      "\n",
      "      Epoch    GPU_mem   box_loss   cls_loss   dfl_loss  Instances       Size\n"
     ]
    },
    {
     "name": "stderr",
     "output_type": "stream",
     "text": [
      "    167/200      7.61G     0.2703     0.2292     0.6565        165        640: 100%|██████████| 5/5 [00:01<00:00,  2.59it/s]\n",
      "                 Class     Images  Instances      Box(P          R      mAP50  mAP50-95): 100%|██████████| 1/1 [00:00<00:00,  6.02it/s]"
     ]
    },
    {
     "name": "stdout",
     "output_type": "stream",
     "text": [
      "                   all         21        192      0.862      0.724      0.827      0.507\n"
     ]
    },
    {
     "name": "stderr",
     "output_type": "stream",
     "text": [
      "\n"
     ]
    },
    {
     "name": "stdout",
     "output_type": "stream",
     "text": [
      "\n",
      "      Epoch    GPU_mem   box_loss   cls_loss   dfl_loss  Instances       Size\n"
     ]
    },
    {
     "name": "stderr",
     "output_type": "stream",
     "text": [
      "    168/200      7.54G     0.3056      0.251     0.6625        139        640: 100%|██████████| 5/5 [00:02<00:00,  2.36it/s]\n",
      "                 Class     Images  Instances      Box(P          R      mAP50  mAP50-95): 100%|██████████| 1/1 [00:00<00:00,  6.08it/s]\n"
     ]
    },
    {
     "name": "stdout",
     "output_type": "stream",
     "text": [
      "                   all         21        192      0.882      0.693      0.823      0.509\n",
      "\n",
      "      Epoch    GPU_mem   box_loss   cls_loss   dfl_loss  Instances       Size\n"
     ]
    },
    {
     "name": "stderr",
     "output_type": "stream",
     "text": [
      "    169/200      7.54G     0.3015     0.2415     0.6677         74        640: 100%|██████████| 5/5 [00:02<00:00,  2.48it/s]\n",
      "                 Class     Images  Instances      Box(P          R      mAP50  mAP50-95): 100%|██████████| 1/1 [00:00<00:00,  6.07it/s]"
     ]
    },
    {
     "name": "stdout",
     "output_type": "stream",
     "text": [
      "                   all         21        192      0.894      0.682      0.822      0.509\n"
     ]
    },
    {
     "name": "stderr",
     "output_type": "stream",
     "text": [
      "\n"
     ]
    },
    {
     "name": "stdout",
     "output_type": "stream",
     "text": [
      "\n",
      "      Epoch    GPU_mem   box_loss   cls_loss   dfl_loss  Instances       Size\n"
     ]
    },
    {
     "name": "stderr",
     "output_type": "stream",
     "text": [
      "    170/200      7.54G      0.272     0.2251     0.6615        167        640: 100%|██████████| 5/5 [00:02<00:00,  2.39it/s]\n",
      "                 Class     Images  Instances      Box(P          R      mAP50  mAP50-95): 100%|██████████| 1/1 [00:00<00:00,  5.43it/s]"
     ]
    },
    {
     "name": "stdout",
     "output_type": "stream",
     "text": [
      "                   all         21        192      0.899      0.693      0.829       0.51\n"
     ]
    },
    {
     "name": "stderr",
     "output_type": "stream",
     "text": [
      "\n"
     ]
    },
    {
     "name": "stdout",
     "output_type": "stream",
     "text": [
      "\n",
      "      Epoch    GPU_mem   box_loss   cls_loss   dfl_loss  Instances       Size\n"
     ]
    },
    {
     "name": "stderr",
     "output_type": "stream",
     "text": [
      "    171/200      7.53G      0.307     0.2436     0.6685        113        640: 100%|██████████| 5/5 [00:02<00:00,  2.50it/s]\n",
      "                 Class     Images  Instances      Box(P          R      mAP50  mAP50-95): 100%|██████████| 1/1 [00:00<00:00,  5.68it/s]"
     ]
    },
    {
     "name": "stdout",
     "output_type": "stream",
     "text": [
      "                   all         21        192      0.883      0.698      0.821      0.516\n"
     ]
    },
    {
     "name": "stderr",
     "output_type": "stream",
     "text": [
      "\n"
     ]
    },
    {
     "name": "stdout",
     "output_type": "stream",
     "text": [
      "\n",
      "      Epoch    GPU_mem   box_loss   cls_loss   dfl_loss  Instances       Size\n"
     ]
    },
    {
     "name": "stderr",
     "output_type": "stream",
     "text": [
      "    172/200      7.58G     0.2726     0.2254     0.6542        119        640: 100%|██████████| 5/5 [00:02<00:00,  2.45it/s]\n",
      "                 Class     Images  Instances      Box(P          R      mAP50  mAP50-95): 100%|██████████| 1/1 [00:00<00:00,  5.62it/s]"
     ]
    },
    {
     "name": "stdout",
     "output_type": "stream",
     "text": [
      "                   all         21        192      0.857      0.708      0.828      0.515\n"
     ]
    },
    {
     "name": "stderr",
     "output_type": "stream",
     "text": [
      "\n"
     ]
    },
    {
     "name": "stdout",
     "output_type": "stream",
     "text": [
      "\n",
      "      Epoch    GPU_mem   box_loss   cls_loss   dfl_loss  Instances       Size\n"
     ]
    },
    {
     "name": "stderr",
     "output_type": "stream",
     "text": [
      "    173/200      7.44G     0.2736       0.23     0.6433         90        640: 100%|██████████| 5/5 [00:02<00:00,  2.27it/s]\n",
      "                 Class     Images  Instances      Box(P          R      mAP50  mAP50-95): 100%|██████████| 1/1 [00:00<00:00,  5.95it/s]"
     ]
    },
    {
     "name": "stdout",
     "output_type": "stream",
     "text": [
      "                   all         21        192      0.856      0.724      0.829      0.513\n"
     ]
    },
    {
     "name": "stderr",
     "output_type": "stream",
     "text": [
      "\n"
     ]
    },
    {
     "name": "stdout",
     "output_type": "stream",
     "text": [
      "\n",
      "      Epoch    GPU_mem   box_loss   cls_loss   dfl_loss  Instances       Size\n"
     ]
    },
    {
     "name": "stderr",
     "output_type": "stream",
     "text": [
      "    174/200      7.57G     0.2896     0.2384     0.6591        143        640: 100%|██████████| 5/5 [00:02<00:00,  2.39it/s]\n",
      "                 Class     Images  Instances      Box(P          R      mAP50  mAP50-95): 100%|██████████| 1/1 [00:00<00:00,  5.68it/s]"
     ]
    },
    {
     "name": "stdout",
     "output_type": "stream",
     "text": [
      "                   all         21        192      0.859      0.714      0.826      0.502\n"
     ]
    },
    {
     "name": "stderr",
     "output_type": "stream",
     "text": [
      "\n"
     ]
    },
    {
     "name": "stdout",
     "output_type": "stream",
     "text": [
      "\n",
      "      Epoch    GPU_mem   box_loss   cls_loss   dfl_loss  Instances       Size\n"
     ]
    },
    {
     "name": "stderr",
     "output_type": "stream",
     "text": [
      "    175/200       7.6G        0.3     0.2422     0.6617         71        640: 100%|██████████| 5/5 [00:01<00:00,  2.54it/s]\n",
      "                 Class     Images  Instances      Box(P          R      mAP50  mAP50-95): 100%|██████████| 1/1 [00:00<00:00,  5.56it/s]"
     ]
    },
    {
     "name": "stdout",
     "output_type": "stream",
     "text": [
      "                   all         21        192      0.892      0.714      0.825      0.505\n"
     ]
    },
    {
     "name": "stderr",
     "output_type": "stream",
     "text": [
      "\n"
     ]
    },
    {
     "name": "stdout",
     "output_type": "stream",
     "text": [
      "\n",
      "      Epoch    GPU_mem   box_loss   cls_loss   dfl_loss  Instances       Size\n"
     ]
    },
    {
     "name": "stderr",
     "output_type": "stream",
     "text": [
      "    176/200      7.52G     0.2923     0.2393      0.664         80        640: 100%|██████████| 5/5 [00:01<00:00,  2.54it/s]\n",
      "                 Class     Images  Instances      Box(P          R      mAP50  mAP50-95): 100%|██████████| 1/1 [00:00<00:00,  6.02it/s]"
     ]
    },
    {
     "name": "stdout",
     "output_type": "stream",
     "text": [
      "                   all         21        192      0.864      0.725      0.824      0.501\n"
     ]
    },
    {
     "name": "stderr",
     "output_type": "stream",
     "text": [
      "\n"
     ]
    },
    {
     "name": "stdout",
     "output_type": "stream",
     "text": [
      "\n",
      "      Epoch    GPU_mem   box_loss   cls_loss   dfl_loss  Instances       Size\n"
     ]
    },
    {
     "name": "stderr",
     "output_type": "stream",
     "text": [
      "    177/200      7.53G     0.2844     0.2299     0.6544        139        640: 100%|██████████| 5/5 [00:01<00:00,  2.55it/s]\n",
      "                 Class     Images  Instances      Box(P          R      mAP50  mAP50-95): 100%|██████████| 1/1 [00:00<00:00,  5.63it/s]"
     ]
    },
    {
     "name": "stdout",
     "output_type": "stream",
     "text": [
      "                   all         21        192      0.865      0.729      0.825      0.507\n"
     ]
    },
    {
     "name": "stderr",
     "output_type": "stream",
     "text": [
      "\n"
     ]
    },
    {
     "name": "stdout",
     "output_type": "stream",
     "text": [
      "\n",
      "      Epoch    GPU_mem   box_loss   cls_loss   dfl_loss  Instances       Size\n"
     ]
    },
    {
     "name": "stderr",
     "output_type": "stream",
     "text": [
      "    178/200      7.63G     0.2707     0.2244     0.6516        102        640: 100%|██████████| 5/5 [00:02<00:00,  2.42it/s]\n",
      "                 Class     Images  Instances      Box(P          R      mAP50  mAP50-95): 100%|██████████| 1/1 [00:00<00:00,  5.90it/s]"
     ]
    },
    {
     "name": "stdout",
     "output_type": "stream",
     "text": [
      "                   all         21        192      0.863      0.729       0.83      0.513\n"
     ]
    },
    {
     "name": "stderr",
     "output_type": "stream",
     "text": [
      "\n"
     ]
    },
    {
     "name": "stdout",
     "output_type": "stream",
     "text": [
      "\n",
      "      Epoch    GPU_mem   box_loss   cls_loss   dfl_loss  Instances       Size\n"
     ]
    },
    {
     "name": "stderr",
     "output_type": "stream",
     "text": [
      "    179/200      7.39G     0.2948     0.2345     0.6561        116        640: 100%|██████████| 5/5 [00:01<00:00,  2.55it/s]\n",
      "                 Class     Images  Instances      Box(P          R      mAP50  mAP50-95): 100%|██████████| 1/1 [00:00<00:00,  6.06it/s]"
     ]
    },
    {
     "name": "stdout",
     "output_type": "stream",
     "text": [
      "                   all         21        192      0.846       0.75      0.827      0.516\n"
     ]
    },
    {
     "name": "stderr",
     "output_type": "stream",
     "text": [
      "\n"
     ]
    },
    {
     "name": "stdout",
     "output_type": "stream",
     "text": [
      "\n",
      "      Epoch    GPU_mem   box_loss   cls_loss   dfl_loss  Instances       Size\n"
     ]
    },
    {
     "name": "stderr",
     "output_type": "stream",
     "text": [
      "    180/200      7.35G     0.2828     0.2339     0.6637         90        640: 100%|██████████| 5/5 [00:01<00:00,  2.50it/s]\n",
      "                 Class     Images  Instances      Box(P          R      mAP50  mAP50-95): 100%|██████████| 1/1 [00:00<00:00,  5.78it/s]"
     ]
    },
    {
     "name": "stdout",
     "output_type": "stream",
     "text": [
      "                   all         21        192      0.811      0.758      0.822      0.518\n"
     ]
    },
    {
     "name": "stderr",
     "output_type": "stream",
     "text": [
      "\n"
     ]
    },
    {
     "name": "stdout",
     "output_type": "stream",
     "text": [
      "\n",
      "      Epoch    GPU_mem   box_loss   cls_loss   dfl_loss  Instances       Size\n"
     ]
    },
    {
     "name": "stderr",
     "output_type": "stream",
     "text": [
      "    181/200      7.41G     0.2882     0.2335     0.6543         72        640: 100%|██████████| 5/5 [00:02<00:00,  2.46it/s]\n",
      "                 Class     Images  Instances      Box(P          R      mAP50  mAP50-95): 100%|██████████| 1/1 [00:00<00:00,  5.92it/s]"
     ]
    },
    {
     "name": "stdout",
     "output_type": "stream",
     "text": [
      "                   all         21        192      0.841      0.769      0.834      0.521\n"
     ]
    },
    {
     "name": "stderr",
     "output_type": "stream",
     "text": [
      "\n"
     ]
    },
    {
     "name": "stdout",
     "output_type": "stream",
     "text": [
      "\n",
      "      Epoch    GPU_mem   box_loss   cls_loss   dfl_loss  Instances       Size\n"
     ]
    },
    {
     "name": "stderr",
     "output_type": "stream",
     "text": [
      "    182/200      7.55G     0.2852     0.2314     0.6647         78        640: 100%|██████████| 5/5 [00:01<00:00,  2.51it/s]\n",
      "                 Class     Images  Instances      Box(P          R      mAP50  mAP50-95): 100%|██████████| 1/1 [00:00<00:00,  5.92it/s]"
     ]
    },
    {
     "name": "stdout",
     "output_type": "stream",
     "text": [
      "                   all         21        192       0.85       0.75      0.834       0.52\n"
     ]
    },
    {
     "name": "stderr",
     "output_type": "stream",
     "text": [
      "\n"
     ]
    },
    {
     "name": "stdout",
     "output_type": "stream",
     "text": [
      "\n",
      "      Epoch    GPU_mem   box_loss   cls_loss   dfl_loss  Instances       Size\n"
     ]
    },
    {
     "name": "stderr",
     "output_type": "stream",
     "text": [
      "    183/200      7.51G     0.2683     0.2194     0.6559         95        640: 100%|██████████| 5/5 [00:02<00:00,  2.47it/s]\n",
      "                 Class     Images  Instances      Box(P          R      mAP50  mAP50-95): 100%|██████████| 1/1 [00:00<00:00,  6.06it/s]"
     ]
    },
    {
     "name": "stdout",
     "output_type": "stream",
     "text": [
      "                   all         21        192      0.828      0.776       0.83      0.521\n"
     ]
    },
    {
     "name": "stderr",
     "output_type": "stream",
     "text": [
      "\n"
     ]
    },
    {
     "name": "stdout",
     "output_type": "stream",
     "text": [
      "\n",
      "      Epoch    GPU_mem   box_loss   cls_loss   dfl_loss  Instances       Size\n"
     ]
    },
    {
     "name": "stderr",
     "output_type": "stream",
     "text": [
      "    184/200      7.61G     0.2802     0.2383     0.6675         66        640: 100%|██████████| 5/5 [00:02<00:00,  2.40it/s]\n",
      "                 Class     Images  Instances      Box(P          R      mAP50  mAP50-95): 100%|██████████| 1/1 [00:00<00:00,  5.75it/s]"
     ]
    },
    {
     "name": "stdout",
     "output_type": "stream",
     "text": [
      "                   all         21        192      0.856      0.745      0.832      0.519\n"
     ]
    },
    {
     "name": "stderr",
     "output_type": "stream",
     "text": [
      "\n"
     ]
    },
    {
     "name": "stdout",
     "output_type": "stream",
     "text": [
      "\n",
      "      Epoch    GPU_mem   box_loss   cls_loss   dfl_loss  Instances       Size\n"
     ]
    },
    {
     "name": "stderr",
     "output_type": "stream",
     "text": [
      "    185/200       7.5G     0.2953     0.2352     0.6585         98        640: 100%|██████████| 5/5 [00:02<00:00,  2.42it/s]\n",
      "                 Class     Images  Instances      Box(P          R      mAP50  mAP50-95): 100%|██████████| 1/1 [00:00<00:00,  5.79it/s]\n"
     ]
    },
    {
     "name": "stdout",
     "output_type": "stream",
     "text": [
      "                   all         21        192      0.865      0.745       0.83      0.517\n",
      "\n",
      "      Epoch    GPU_mem   box_loss   cls_loss   dfl_loss  Instances       Size\n"
     ]
    },
    {
     "name": "stderr",
     "output_type": "stream",
     "text": [
      "    186/200      7.45G     0.3004     0.2401     0.6677        153        640: 100%|██████████| 5/5 [00:02<00:00,  2.48it/s]\n",
      "                 Class     Images  Instances      Box(P          R      mAP50  mAP50-95): 100%|██████████| 1/1 [00:00<00:00,  5.43it/s]"
     ]
    },
    {
     "name": "stdout",
     "output_type": "stream",
     "text": [
      "                   all         21        192      0.866       0.75      0.831      0.518\n"
     ]
    },
    {
     "name": "stderr",
     "output_type": "stream",
     "text": [
      "\n"
     ]
    },
    {
     "name": "stdout",
     "output_type": "stream",
     "text": [
      "\n",
      "      Epoch    GPU_mem   box_loss   cls_loss   dfl_loss  Instances       Size\n"
     ]
    },
    {
     "name": "stderr",
     "output_type": "stream",
     "text": [
      "    187/200      7.59G      0.302     0.2351     0.6522        159        640: 100%|██████████| 5/5 [00:02<00:00,  2.43it/s]\n",
      "                 Class     Images  Instances      Box(P          R      mAP50  mAP50-95): 100%|██████████| 1/1 [00:00<00:00,  5.68it/s]"
     ]
    },
    {
     "name": "stdout",
     "output_type": "stream",
     "text": [
      "                   all         21        192      0.849      0.758      0.827      0.521\n"
     ]
    },
    {
     "name": "stderr",
     "output_type": "stream",
     "text": [
      "\n"
     ]
    },
    {
     "name": "stdout",
     "output_type": "stream",
     "text": [
      "\n",
      "      Epoch    GPU_mem   box_loss   cls_loss   dfl_loss  Instances       Size\n"
     ]
    },
    {
     "name": "stderr",
     "output_type": "stream",
     "text": [
      "    188/200      7.57G     0.2826     0.2274     0.6588         58        640: 100%|██████████| 5/5 [00:02<00:00,  2.39it/s]\n",
      "                 Class     Images  Instances      Box(P          R      mAP50  mAP50-95): 100%|██████████| 1/1 [00:00<00:00,  5.43it/s]"
     ]
    },
    {
     "name": "stdout",
     "output_type": "stream",
     "text": [
      "                   all         21        192      0.855      0.771      0.837      0.519\n"
     ]
    },
    {
     "name": "stderr",
     "output_type": "stream",
     "text": [
      "\n"
     ]
    },
    {
     "name": "stdout",
     "output_type": "stream",
     "text": [
      "\n",
      "      Epoch    GPU_mem   box_loss   cls_loss   dfl_loss  Instances       Size\n"
     ]
    },
    {
     "name": "stderr",
     "output_type": "stream",
     "text": [
      "    189/200      7.45G     0.2712     0.2258     0.6502         80        640: 100%|██████████| 5/5 [00:02<00:00,  2.42it/s]\n",
      "                 Class     Images  Instances      Box(P          R      mAP50  mAP50-95): 100%|██████████| 1/1 [00:00<00:00,  5.52it/s]"
     ]
    },
    {
     "name": "stdout",
     "output_type": "stream",
     "text": [
      "                   all         21        192      0.869      0.755      0.837      0.522\n"
     ]
    },
    {
     "name": "stderr",
     "output_type": "stream",
     "text": [
      "\n"
     ]
    },
    {
     "name": "stdout",
     "output_type": "stream",
     "text": [
      "\n",
      "      Epoch    GPU_mem   box_loss   cls_loss   dfl_loss  Instances       Size\n"
     ]
    },
    {
     "name": "stderr",
     "output_type": "stream",
     "text": [
      "    190/200      7.62G     0.2524     0.2168     0.6485        138        640: 100%|██████████| 5/5 [00:02<00:00,  2.40it/s]\n",
      "                 Class     Images  Instances      Box(P          R      mAP50  mAP50-95): 100%|██████████| 1/1 [00:00<00:00,  6.06it/s]"
     ]
    },
    {
     "name": "stdout",
     "output_type": "stream",
     "text": [
      "                   all         21        192      0.854      0.762      0.838      0.525\n"
     ]
    },
    {
     "name": "stderr",
     "output_type": "stream",
     "text": [
      "\n"
     ]
    },
    {
     "name": "stdout",
     "output_type": "stream",
     "text": [
      "Closing dataloader mosaic\n",
      "\n",
      "      Epoch    GPU_mem   box_loss   cls_loss   dfl_loss  Instances       Size\n"
     ]
    },
    {
     "name": "stderr",
     "output_type": "stream",
     "text": [
      "    191/200      7.59G     0.2555      0.214     0.6285         74        640: 100%|██████████| 5/5 [00:03<00:00,  1.60it/s]\n",
      "                 Class     Images  Instances      Box(P          R      mAP50  mAP50-95): 100%|██████████| 1/1 [00:00<00:00,  5.69it/s]"
     ]
    },
    {
     "name": "stdout",
     "output_type": "stream",
     "text": [
      "                   all         21        192      0.843      0.783      0.838       0.53\n"
     ]
    },
    {
     "name": "stderr",
     "output_type": "stream",
     "text": [
      "\n"
     ]
    },
    {
     "name": "stdout",
     "output_type": "stream",
     "text": [
      "\n",
      "      Epoch    GPU_mem   box_loss   cls_loss   dfl_loss  Instances       Size\n"
     ]
    },
    {
     "name": "stderr",
     "output_type": "stream",
     "text": [
      "    192/200      7.54G     0.2507     0.2139     0.6526         76        640: 100%|██████████| 5/5 [00:02<00:00,  2.43it/s]\n",
      "                 Class     Images  Instances      Box(P          R      mAP50  mAP50-95): 100%|██████████| 1/1 [00:00<00:00,  6.06it/s]"
     ]
    },
    {
     "name": "stdout",
     "output_type": "stream",
     "text": [
      "                   all         21        192      0.857       0.75      0.834      0.526\n"
     ]
    },
    {
     "name": "stderr",
     "output_type": "stream",
     "text": [
      "\n"
     ]
    },
    {
     "name": "stdout",
     "output_type": "stream",
     "text": [
      "\n",
      "      Epoch    GPU_mem   box_loss   cls_loss   dfl_loss  Instances       Size\n"
     ]
    },
    {
     "name": "stderr",
     "output_type": "stream",
     "text": [
      "    193/200      7.46G     0.2466     0.2057     0.6559         76        640: 100%|██████████| 5/5 [00:02<00:00,  2.44it/s]\n",
      "                 Class     Images  Instances      Box(P          R      mAP50  mAP50-95): 100%|██████████| 1/1 [00:00<00:00,  5.78it/s]\n"
     ]
    },
    {
     "name": "stdout",
     "output_type": "stream",
     "text": [
      "                   all         21        192      0.856       0.75      0.836      0.529\n",
      "\n",
      "      Epoch    GPU_mem   box_loss   cls_loss   dfl_loss  Instances       Size\n"
     ]
    },
    {
     "name": "stderr",
     "output_type": "stream",
     "text": [
      "    194/200      7.55G     0.2697     0.2227     0.6613        100        640: 100%|██████████| 5/5 [00:02<00:00,  2.42it/s]\n",
      "                 Class     Images  Instances      Box(P          R      mAP50  mAP50-95): 100%|██████████| 1/1 [00:00<00:00,  6.08it/s]"
     ]
    },
    {
     "name": "stdout",
     "output_type": "stream",
     "text": [
      "                   all         21        192      0.863       0.75      0.835      0.532\n"
     ]
    },
    {
     "name": "stderr",
     "output_type": "stream",
     "text": [
      "\n"
     ]
    },
    {
     "name": "stdout",
     "output_type": "stream",
     "text": [
      "\n",
      "      Epoch    GPU_mem   box_loss   cls_loss   dfl_loss  Instances       Size\n"
     ]
    },
    {
     "name": "stderr",
     "output_type": "stream",
     "text": [
      "    195/200      7.51G     0.2302     0.2029     0.6457        130        640: 100%|██████████| 5/5 [00:02<00:00,  2.38it/s]\n",
      "                 Class     Images  Instances      Box(P          R      mAP50  mAP50-95): 100%|██████████| 1/1 [00:00<00:00,  5.81it/s]"
     ]
    },
    {
     "name": "stdout",
     "output_type": "stream",
     "text": [
      "                   all         21        192      0.862      0.747      0.838      0.534\n"
     ]
    },
    {
     "name": "stderr",
     "output_type": "stream",
     "text": [
      "\n"
     ]
    },
    {
     "name": "stdout",
     "output_type": "stream",
     "text": [
      "\n",
      "      Epoch    GPU_mem   box_loss   cls_loss   dfl_loss  Instances       Size\n"
     ]
    },
    {
     "name": "stderr",
     "output_type": "stream",
     "text": [
      "    196/200      7.47G     0.2278      0.198     0.6351         69        640: 100%|██████████| 5/5 [00:02<00:00,  2.35it/s]\n",
      "                 Class     Images  Instances      Box(P          R      mAP50  mAP50-95): 100%|██████████| 1/1 [00:00<00:00,  5.71it/s]"
     ]
    },
    {
     "name": "stdout",
     "output_type": "stream",
     "text": [
      "                   all         21        192      0.867      0.748      0.843      0.531\n"
     ]
    },
    {
     "name": "stderr",
     "output_type": "stream",
     "text": [
      "\n"
     ]
    },
    {
     "name": "stdout",
     "output_type": "stream",
     "text": [
      "\n",
      "      Epoch    GPU_mem   box_loss   cls_loss   dfl_loss  Instances       Size\n"
     ]
    },
    {
     "name": "stderr",
     "output_type": "stream",
     "text": [
      "    197/200      7.53G     0.2394      0.207     0.6433         48        640: 100%|██████████| 5/5 [00:02<00:00,  2.50it/s]\n",
      "                 Class     Images  Instances      Box(P          R      mAP50  mAP50-95): 100%|██████████| 1/1 [00:00<00:00,  5.81it/s]"
     ]
    },
    {
     "name": "stdout",
     "output_type": "stream",
     "text": [
      "                   all         21        192      0.862      0.755      0.842       0.53\n"
     ]
    },
    {
     "name": "stderr",
     "output_type": "stream",
     "text": [
      "\n"
     ]
    },
    {
     "name": "stdout",
     "output_type": "stream",
     "text": [
      "\n",
      "      Epoch    GPU_mem   box_loss   cls_loss   dfl_loss  Instances       Size\n"
     ]
    },
    {
     "name": "stderr",
     "output_type": "stream",
     "text": [
      "    198/200      7.55G       0.24     0.2087     0.6382         58        640: 100%|██████████| 5/5 [00:02<00:00,  2.43it/s]\n",
      "                 Class     Images  Instances      Box(P          R      mAP50  mAP50-95): 100%|██████████| 1/1 [00:00<00:00,  5.62it/s]\n"
     ]
    },
    {
     "name": "stdout",
     "output_type": "stream",
     "text": [
      "                   all         21        192      0.863       0.75      0.843      0.528\n",
      "\n",
      "      Epoch    GPU_mem   box_loss   cls_loss   dfl_loss  Instances       Size\n"
     ]
    },
    {
     "name": "stderr",
     "output_type": "stream",
     "text": [
      "    199/200      7.52G     0.2349     0.2037     0.6424        109        640: 100%|██████████| 5/5 [00:02<00:00,  2.44it/s]\n",
      "                 Class     Images  Instances      Box(P          R      mAP50  mAP50-95): 100%|██████████| 1/1 [00:00<00:00,  6.06it/s]"
     ]
    },
    {
     "name": "stdout",
     "output_type": "stream",
     "text": [
      "                   all         21        192      0.853      0.745      0.843       0.53\n"
     ]
    },
    {
     "name": "stderr",
     "output_type": "stream",
     "text": [
      "\n"
     ]
    },
    {
     "name": "stdout",
     "output_type": "stream",
     "text": [
      "\n",
      "      Epoch    GPU_mem   box_loss   cls_loss   dfl_loss  Instances       Size\n"
     ]
    },
    {
     "name": "stderr",
     "output_type": "stream",
     "text": [
      "    200/200      7.41G     0.2417     0.2052     0.6439         90        640: 100%|██████████| 5/5 [00:02<00:00,  2.40it/s]\n",
      "                 Class     Images  Instances      Box(P          R      mAP50  mAP50-95): 100%|██████████| 1/1 [00:00<00:00,  5.68it/s]"
     ]
    },
    {
     "name": "stdout",
     "output_type": "stream",
     "text": [
      "                   all         21        192      0.861       0.74      0.843      0.534\n"
     ]
    },
    {
     "name": "stderr",
     "output_type": "stream",
     "text": [
      "\n"
     ]
    },
    {
     "name": "stdout",
     "output_type": "stream",
     "text": [
      "\n",
      "200 epochs completed in 0.269 hours.\n",
      "Optimizer stripped from ..\\..\\runs\\yolov8m_hyp_finetune_best_param\\weights\\last.pt, 52.0MB\n",
      "Optimizer stripped from ..\\..\\runs\\yolov8m_hyp_finetune_best_param\\weights\\best.pt, 52.0MB\n",
      "\n",
      "Validating ..\\..\\runs\\yolov8m_hyp_finetune_best_param\\weights\\best.pt...\n",
      "Ultralytics YOLOv8.2.93  Python-3.10.6 torch-2.3.1+cu118 CUDA:0 (NVIDIA GeForce RTX 3060, 12288MiB)\n",
      "Model summary (fused): 218 layers, 25,840,339 parameters, 0 gradients, 78.7 GFLOPs\n"
     ]
    },
    {
     "name": "stderr",
     "output_type": "stream",
     "text": [
      "                 Class     Images  Instances      Box(P          R      mAP50  mAP50-95): 100%|██████████| 1/1 [00:00<00:00,  3.34it/s]\n"
     ]
    },
    {
     "name": "stdout",
     "output_type": "stream",
     "text": [
      "                   all         21        192      0.861       0.74      0.843      0.533\n",
      "Speed: 0.2ms preprocess, 8.6ms inference, 0.0ms loss, 0.7ms postprocess per image\n",
      "Results saved to \u001b[1m..\\..\\runs\\yolov8m_hyp_finetune_best_param\u001b[0m\n",
      "\u001b[34m\u001b[1mMLflow: \u001b[0mresults logged to runs\\mlflow\n",
      "\u001b[34m\u001b[1mMLflow: \u001b[0mdisable with 'yolo settings mlflow=False'\n"
     ]
    }
   ],
   "source": [
    "import yaml\n",
    "\n",
    "model_name = \"yolov8m\"\n",
    "print(f\"Model : {model_name}\")\n",
    "model = YOLO(model_name)\n",
    "best_params_filepath = os.path.join(project,\"yolov8m_tune\",\"best_hyperparameters.yaml\")\n",
    "with open(best_params_filepath, 'r') as file:\n",
    "    best_hyperparameters = yaml.safe_load(file)\n",
    "\n",
    "results = model.train(data=\"data.yaml\", epochs=200, imgsz=640, optimizer=\"AdamW\",name=f'{model_name}_hyp_finetune_best_param',project=project,**best_hyperparameters)\n",
    "\n"
   ]
  }
 ],
 "metadata": {
  "kernelspec": {
   "display_name": "torch",
   "language": "python",
   "name": "python3"
  },
  "language_info": {
   "codemirror_mode": {
    "name": "ipython",
    "version": 3
   },
   "file_extension": ".py",
   "mimetype": "text/x-python",
   "name": "python",
   "nbconvert_exporter": "python",
   "pygments_lexer": "ipython3",
   "version": "3.10.6"
  }
 },
 "nbformat": 4,
 "nbformat_minor": 2
}
